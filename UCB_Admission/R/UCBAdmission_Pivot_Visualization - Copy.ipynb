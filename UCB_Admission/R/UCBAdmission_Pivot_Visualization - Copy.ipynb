{
  "cells": [
    {
      "cell_type": "markdown",
      "metadata": {},
      "source": [
        "# Beginner R Tutorial: Exploratory Data Analysis with UCBAdmission1973\n",
        "\n",
        "Dataset\n",
        "\n",
        "Jianyuan(Andy) Hu  \n",
        "2024-06-08\n",
        "\n",
        "# What Is R?\n",
        "\n",
        "R is ‘GNU S’, a freely available language and environment for\n",
        "statistical computing and graphics which provides a wide variety of\n",
        "statistical and graphical techniques: linear and nonlinear modelling,\n",
        "statistical tests, time series analysis, classification, clustering,\n",
        "etc. Please consult the R project homepage for further information.\n",
        "(https://cran.r-project.org/)\n",
        "\n",
        "# What Is This File?\n",
        "\n",
        "This file is natively available as an html file, in other words, you\n",
        "should be able to open it with any modern internet browser. You won’t be\n",
        "able to execute any R code in the browser, but all outputs are already\n",
        "available to you in this document.\n",
        "\n",
        "To create this file, I used something called [Quarto Markdown\n",
        "Document](https://quarto.org/). When you execute code within the\n",
        "notebook, the results appear beneath the code. Quarto is an open-source\n",
        "scientific and technical publishing system. It allows to embed codes and\n",
        "outputs in the same document, fantastic for researchers, scholars and\n",
        "educators!\n",
        "\n",
        "# What Are We Accomplishing Here?\n",
        "\n",
        "In Microsoft Excel, we can perform a series of data manipulation,\n",
        "exploration and visualization tasks. As a bonus and complement, this is\n",
        "to provide some additional exposure to one of the most popular and\n",
        "powerful statistical and graphical solutions, yet **COMPLETELY FREE**,\n",
        "called R! We will doing a few tasks that resemble PivotTable functions\n",
        "and visualize some datapoints just like what we can accomplished with\n",
        "Microsoft Excel, but using R.\n",
        "\n",
        "# Performing Tasks with R Using UCBAdmission Dataset\n",
        "\n",
        "## Background\n",
        "\n",
        "**Name of the dataset:** UCBAdmission\n",
        "\n",
        "**Description:** Aggregate data on applicants to graduate school at\n",
        "Berkeley for the six largest departments in 1973 classified by admission\n",
        "and sex.\n",
        "\n",
        "**Detailed information**: https://rdrr.io/r/datasets/UCBAdmissions.html\n",
        "\n",
        "**The official study:** [Sex Bias in Graduate Admissions: Data from\n",
        "Berkeley](https://sct-prv.uab.cat/estadistica/sites/sct-prv.uab.cat.estadistica/files/3_2_Berkeley_sexBias_articleaScience.pdf)\n",
        "\n",
        "## Import libraries\n",
        "\n",
        "Thousands of available libraries are what make R powerful. They are\n",
        "voluntarily developed by enthusiasts in the R community and you guessed\n",
        "it, there are many many many…. many of them. Consider libraries are\n",
        "different add-ons that you can plug-in to your workflow to get things\n",
        "done faster. And yes! These libraries are free, as well!!….\n",
        "\n",
        "**If a library is never used on the computer before**, you do need to\n",
        "install it first and it is super easy to do with one line of code in R.\n",
        "For example:"
      ],
      "id": "10470819-db52-460a-9a32-654a253317e2"
    },
    {
      "cell_type": "code",
      "execution_count": null,
      "metadata": {},
      "outputs": [],
      "source": [
        "#install.packages(\"janitor\") #btw, I don't really know why it is called \"janitor\", probably a good data cleaning tool??..."
      ],
      "id": "d3d8884b-8b19-4512-a32d-95aaba5fe6f4"
    },
    {
      "cell_type": "markdown",
      "metadata": {},
      "source": [
        "After that you can just call it when you need it. I have many installed\n",
        "already, so I will just call all the ones needed for this tutorial.\n",
        "However, if you have not already installed these libraries, be sure to\n",
        "install them first."
      ],
      "id": "983edd15-e86a-427d-b2b5-a237d4c82cd4"
    },
    {
      "cell_type": "code",
      "execution_count": null,
      "metadata": {},
      "outputs": [],
      "source": [
        "library(janitor)\n",
        "library(tidyverse)\n",
        "library(ggplot2)\n",
        "library(rpivotTable)"
      ],
      "id": "77d41d3c-db00-445b-b143-50f01adac90f"
    },
    {
      "cell_type": "markdown",
      "metadata": {},
      "source": [
        "## Import data\n",
        "\n",
        "In R environment, there are many illustrative datasets built in\n",
        "UCBAdmission is one of them.\n",
        "\n",
        "To import data into a tabular format, called “data frame”. In\n",
        "particular, we will use a “flavour” of data frame called “tibble”.\n",
        "\n",
        "Every time when you use “\\<-” to point at something (in this case “df”),\n",
        "that will refer to the object you assign it to. The following command\n",
        "allows “df” to refer to the tibble dataframe that we just created from\n",
        "UCBAdmissions built-in dataset."
      ],
      "id": "5ba76f33-ae0a-43a9-b838-40f32ccafcaf"
    },
    {
      "cell_type": "code",
      "execution_count": null,
      "metadata": {},
      "outputs": [],
      "source": [
        "df <- as_tibble(UCBAdmissions)"
      ],
      "id": "36e6a57b-c3fa-4b9a-ae4f-5570af4de380"
    },
    {
      "cell_type": "markdown",
      "metadata": {},
      "source": [
        "## Explore data\n",
        "\n",
        "To see a few of top records."
      ],
      "id": "7dc3a265-897b-4339-85bf-e9fe9d7848da"
    },
    {
      "cell_type": "code",
      "execution_count": null,
      "metadata": {},
      "outputs": [
        {
          "output_type": "stream",
          "name": "stdout",
          "text": [
            "# A tibble: 6 × 4\n",
            "  Admit    Gender Dept      n\n",
            "  <chr>    <chr>  <chr> <dbl>\n",
            "1 Admitted Male   A       512\n",
            "2 Rejected Male   A       313\n",
            "3 Admitted Female A        89\n",
            "4 Rejected Female A        19\n",
            "5 Admitted Male   B       353\n",
            "6 Rejected Male   B       207"
          ]
        }
      ],
      "source": [
        "head(df)"
      ],
      "id": "53e34da9-54b2-4523-a20f-14f7bead113d"
    },
    {
      "cell_type": "markdown",
      "metadata": {},
      "source": [
        "To see the structure of data frame:"
      ],
      "id": "e0d6a60e-51e1-4547-9dbc-b7afe85f4302"
    },
    {
      "cell_type": "code",
      "execution_count": null,
      "metadata": {},
      "outputs": [
        {
          "output_type": "stream",
          "name": "stdout",
          "text": [
            "tibble [24 × 4] (S3: tbl_df/tbl/data.frame)\n",
            " $ Admit : chr [1:24] \"Admitted\" \"Rejected\" \"Admitted\" \"Rejected\" ...\n",
            " $ Gender: chr [1:24] \"Male\" \"Male\" \"Female\" \"Female\" ...\n",
            " $ Dept  : chr [1:24] \"A\" \"A\" \"A\" \"A\" ...\n",
            " $ n     : num [1:24] 512 313 89 19 353 207 17 8 120 205 ..."
          ]
        }
      ],
      "source": [
        "str(df)"
      ],
      "id": "9254276b-e10f-49d9-b0a6-fc931e7d5e13"
    },
    {
      "cell_type": "markdown",
      "metadata": {},
      "source": [
        "To view the entire data frame, just run the object itself"
      ],
      "id": "b8e5c89c-c126-4e50-85b0-57740c74b674"
    },
    {
      "cell_type": "code",
      "execution_count": null,
      "metadata": {},
      "outputs": [
        {
          "output_type": "stream",
          "name": "stdout",
          "text": [
            "# A tibble: 24 × 4\n",
            "   Admit    Gender Dept      n\n",
            "   <chr>    <chr>  <chr> <dbl>\n",
            " 1 Admitted Male   A       512\n",
            " 2 Rejected Male   A       313\n",
            " 3 Admitted Female A        89\n",
            " 4 Rejected Female A        19\n",
            " 5 Admitted Male   B       353\n",
            " 6 Rejected Male   B       207\n",
            " 7 Admitted Female B        17\n",
            " 8 Rejected Female B         8\n",
            " 9 Admitted Male   C       120\n",
            "10 Rejected Male   C       205\n",
            "# ℹ 14 more rows"
          ]
        }
      ],
      "source": [
        "df"
      ],
      "id": "1afcd1b4-3126-4295-bc63-39291b4da454"
    },
    {
      "cell_type": "markdown",
      "metadata": {},
      "source": [
        "### Create frequency and relative frequency tables\n",
        "\n",
        "To create frequency tables by Gender and Admit. We will leverage the\n",
        "powerful and comprehensive data cleaning library called\n",
        "[tidyverse](https://www.tidyverse.org/). In fact, tidyverse is a\n",
        "collection library of a bunch of other libraries.\n",
        "\n",
        "**Note:** “\\|\\>” is called “pipe operator”. You might also have seen a\n",
        "variant of pipe operator like this “%\\>%”. This operator allows the\n",
        "evaluated object from the current function(s) to be passed down as an\n",
        "input to a parameter of the next function. This is one of the great\n",
        "creations in R and really enables to simplify the codes and make the\n",
        "codes more readable. If you would like to read more about pipe operators\n",
        "in R, this is an excellent start: [Pipelines in\n",
        "R](https://research.sbcs.qmul.ac.uk/r.knell/intro_R_3rd_ed/pipelines-in-r.html).\n",
        "\n",
        "For example, the following code can be interpreted like this in a more\n",
        "human English way:\n",
        "\n",
        "-   line 1: we would like to create a new object called\n",
        "    admit_gender_pivot, starting with df object (keep in mind that “df”\n",
        "    is the same tibble dataframe we just created above)\n",
        "-   line 2: and then, df will be grouped by “Admit” and “Gender” columns\n",
        "-   line 3: and then, the grouped df will be summarized to a new metric\n",
        "    (column) called “Freg_Agg”, which is to sum of values in “n” column,\n",
        "    and we will keep the grouping\n",
        "-   line 4: and then, ungroup the summarized tibble dataframe\n",
        "-   line 5: and finally, pivot the dataframe from line 4 to be a wider\n",
        "    dataframe, by using the values in “Admit” column to be the new\n",
        "    column names and aggregate values from “Freq_Agg” column."
      ],
      "id": "90c74379-e9b1-4814-9cfb-9dd958646f2d"
    },
    {
      "cell_type": "code",
      "execution_count": null,
      "metadata": {},
      "outputs": [
        {
          "output_type": "stream",
          "name": "stdout",
          "text": [
            "# A tibble: 2 × 3\n",
            "  Gender Admitted Rejected\n",
            "  <chr>     <dbl>    <dbl>\n",
            "1 Female      557     1278\n",
            "2 Male       1198     1493"
          ]
        }
      ],
      "source": [
        "admit_gender_pivot <- df |>  \n",
        "  group_by(Admit, Gender)  |>  \n",
        "  summarise(Freq_Agg = sum(n),  .groups = \"keep\") |>\n",
        "  ungroup() |> \n",
        "  pivot_wider(names_from = Admit, values_from = Freq_Agg)\n",
        "\n",
        "admit_gender_pivot"
      ],
      "id": "29199110-dc23-46d2-97ff-a149427903f0"
    },
    {
      "cell_type": "markdown",
      "metadata": {},
      "source": [
        "To add totals, row/column titles, we use a function called\n",
        "“adorn_totals”, from a library called\n",
        "[janitor](https://www.rdocumentation.org/packages/janitor/versions/2.2.0),\n",
        "an excellent collection of helper tools to “clean up” the tables."
      ],
      "id": "c0cc68cf-5e62-47c1-9398-89e9495d0e93"
    },
    {
      "cell_type": "code",
      "execution_count": null,
      "metadata": {},
      "outputs": [
        {
          "output_type": "stream",
          "name": "stdout",
          "text": [
            "# A tibble: 3 × 4\n",
            "  Gender Admitted Rejected Total\n",
            "  <chr>     <dbl>    <dbl> <dbl>\n",
            "1 Female      557     1278  1835\n",
            "2 Male       1198     1493  2691\n",
            "3 Total      1755     2771  4526"
          ]
        }
      ],
      "source": [
        "admit_gender_pivot_full <- admit_gender_pivot |> \n",
        "  adorn_totals(where = c(\"row\", \"col\")) |> \n",
        "  # add as_tibble to enforce the output of adorn_totals to be tibble again\n",
        "  as_tibble()\n",
        "admit_gender_pivot_full"
      ],
      "id": "996aa4b6-76af-4b41-b4f6-65f40ba427f0"
    },
    {
      "cell_type": "markdown",
      "metadata": {},
      "source": [
        "To see % of admission to gender total by each gender:"
      ],
      "id": "c977e393-d3d3-403b-abff-c481ccd6af36"
    },
    {
      "cell_type": "code",
      "execution_count": null,
      "metadata": {},
      "outputs": [
        {
          "output_type": "stream",
          "name": "stdout",
          "text": [
            "# A tibble: 2 × 3\n",
            "  Gender Admitted Rejected\n",
            "  <chr>  <chr>    <chr>   \n",
            "1 Female 30.35%   69.65%  \n",
            "2 Male   44.52%   55.48%  "
          ]
        }
      ],
      "source": [
        "admit_gender_pivot_pct <- admit_gender_pivot |> \n",
        "  adorn_percentages(\"row\") |> \n",
        "  # to round percentages decimal places to 2 places\n",
        "  adorn_pct_formatting(digits = 2) |> \n",
        "  as_tibble()\n",
        "admit_gender_pivot_pct"
      ],
      "id": "0b5ebc9f-1b93-4d3d-bd7d-e103c34e3d0d"
    },
    {
      "cell_type": "markdown",
      "metadata": {},
      "source": [
        "### Create bar plots for the relative frequency table\n",
        "\n",
        "We start by creating an unpivoted (longer) relative frequency table.\n",
        "Essentially, this is the opposite of “pivot_wider”, as we will make the\n",
        "admission results headers to be a column by itself (Admit) and the\n",
        "measure (relative frequencies) will become its own column as well\n",
        "(Rel_Freq)."
      ],
      "id": "5e8a90a5-6579-482c-b923-3eb6842be98c"
    },
    {
      "cell_type": "code",
      "execution_count": null,
      "metadata": {},
      "outputs": [
        {
          "output_type": "stream",
          "name": "stdout",
          "text": [
            "# A tibble: 4 × 3\n",
            "  Gender Admit    Rel_Freq\n",
            "  <chr>  <chr>    <chr>   \n",
            "1 Female Admitted 30.35%  \n",
            "2 Female Rejected 69.65%  \n",
            "3 Male   Admitted 44.52%  \n",
            "4 Male   Rejected 55.48%  "
          ]
        }
      ],
      "source": [
        "admit_gender_pct <- admit_gender_pivot_pct |> \n",
        "  pivot_longer(cols = c(Admitted, Rejected), names_to = \"Admit\", values_to = \"Rel_Freq\")\n",
        "admit_gender_pct"
      ],
      "id": "e44e6256-7c9e-4509-ae34-952644e609ea"
    },
    {
      "cell_type": "markdown",
      "metadata": {},
      "source": [
        "Another great creation in R is a comprehensive graphics library\n",
        "[ggplot2](https://ggplot2.tidyverse.org/), based on [Layered Grammar of\n",
        "grahics](https://byrneslab.net/classes/biol607/readings/wickham_layered-grammar.pdf).\n",
        "It truly is powerful enough that it allows you to create any type of\n",
        "grahics, only limited by your imagination. We will use this exercise to\n",
        "build the basics of this grammar and ggplot2 package.\n",
        "\n",
        "I hope by this point, you really appreciate what makes R so powerful are\n",
        "these thoughtfully curated libraries that can just “plug and play”.\n",
        "\n",
        "There are layers when graphing with ggplot libaray.\n",
        "\n",
        "The beginning layer is to create the canvas and then the 2nd layer is to\n",
        "assign each axis. You won’t be able to see Gender yet, because that will\n",
        "be shown as different colors the graphic is actually made and we haven’t\n",
        "told what graphics we want to create yet. So, patience, my friends."
      ],
      "id": "2adc5b8e-ee97-47b1-a07f-6196b1f97e2e"
    },
    {
      "cell_type": "code",
      "execution_count": null,
      "metadata": {},
      "outputs": [
        {
          "output_type": "display_data",
          "metadata": {},
          "data": {
            "image/png": "[encoded data removed]"
          }
        }
      ],
      "source": [
        "ggplot(admit_gender_pct, mapping = aes(x=Admit, y=Rel_Freq, fill=Gender))"
      ],
      "id": "9df4f713-796d-4a6f-9044-c5aca54d8ea1"
    },
    {
      "cell_type": "markdown",
      "metadata": {},
      "source": [
        "3rd layer is to plot the barplot for relative frequency. Now, with\n",
        "geom_bar, we are telling R to create a bar chart, and you will see\n",
        "\n",
        "**Note:** the “+” sign functions just like ” \\|\\> “, an operator to\n",
        "connect from one function to another within ggplot2 library. Just a\n",
        "weird dialect specifically spoken mandated by ggplot2 creators if you\n",
        "will."
      ],
      "id": "6775b40e-756a-4708-9957-2c369956b375"
    },
    {
      "cell_type": "code",
      "execution_count": null,
      "metadata": {},
      "outputs": [
        {
          "output_type": "display_data",
          "metadata": {},
          "data": {
            "image/png": "[encoded data removed]"
          }
        }
      ],
      "source": [
        "ggplot(admit_gender_pct, mapping = aes(x=Admit, y=Rel_Freq, fill=Gender))+\n",
        "  # stat=\"identity\" means we want to use the data values just as they are without being summarized other ways\n",
        "  # position allows to specify different types of bars (stacked, dodged etc...)\n",
        "  geom_bar(stat=\"identity\", position = 'dodge')"
      ],
      "id": "df5678da-5391-426e-82b2-99d8e4250a78"
    },
    {
      "cell_type": "markdown",
      "metadata": {},
      "source": [
        "To demo manually change category colours, we can use “scale_fill_manual”"
      ],
      "id": "5d12f9e7-eced-4e6b-b7a6-5b6a20fe3f1f"
    },
    {
      "cell_type": "code",
      "execution_count": null,
      "metadata": {},
      "outputs": [
        {
          "output_type": "display_data",
          "metadata": {},
          "data": {
            "image/png": "[encoded data removed]"
          }
        }
      ],
      "source": [
        "ggplot(admit_gender_pct, mapping = aes(x=Admit, y=Rel_Freq, fill=Gender))+\n",
        "  geom_bar(stat=\"identity\", position = 'dodge')+\n",
        "  scale_fill_manual(values = c(\"Female\" = \"pink\", \"Male\" = \"skyblue\"))"
      ],
      "id": "8157a976-d943-4f4e-8346-7c0db52adff6"
    },
    {
      "cell_type": "markdown",
      "metadata": {},
      "source": [
        "To add title for the barplot"
      ],
      "id": "2693c867-d397-4312-af32-b83f2b385b9f"
    },
    {
      "cell_type": "code",
      "execution_count": null,
      "metadata": {},
      "outputs": [
        {
          "output_type": "display_data",
          "metadata": {},
          "data": {
            "image/png": "[encoded data removed]"
          }
        }
      ],
      "source": [
        "ggplot(admit_gender_pct, mapping = aes(x=Admit, y=Rel_Freq, fill=Gender))+\n",
        "  geom_bar(stat=\"identity\", position = 'dodge')+\n",
        "  scale_fill_manual(values = c(\"Female\" = \"pink\", \"Male\" = \"skyblue\"))+\n",
        "  ggtitle(\"Relative Frequency Barplot by Admit and Gender\")"
      ],
      "id": "b1900b51-905e-43ba-817c-c9cb0957ece2"
    },
    {
      "cell_type": "markdown",
      "metadata": {},
      "source": [
        "To add data labels to each bar:"
      ],
      "id": "d2a0f398-8605-49a9-95f1-5006c2396c91"
    },
    {
      "cell_type": "code",
      "execution_count": null,
      "metadata": {},
      "outputs": [
        {
          "output_type": "display_data",
          "metadata": {},
          "data": {
            "image/png": "[encoded data removed]"
          }
        }
      ],
      "source": [
        "ggplot(admit_gender_pct, mapping = aes(x=Admit, y=Rel_Freq, fill=Gender))+\n",
        "  geom_bar(stat=\"identity\", position = 'dodge')+\n",
        "  geom_text(aes(label = Rel_Freq), colour = \"orange\", position = position_dodge(width = 1), )+\n",
        "  scale_fill_manual(values = c(\"Female\" = \"pink\", \"Male\" = \"skyblue\"))+\n",
        "  ggtitle(\"Relative Frequency Barplot by Admit and Gender\")"
      ],
      "id": "e9ae4be4-67ef-4d76-8763-0a77e45626fb"
    },
    {
      "cell_type": "markdown",
      "metadata": {},
      "source": [
        "### Create relative frequency tables for each department\n",
        "\n",
        "We repeat what we have done in “creating frequency and relative\n",
        "frequency table” section, but for each of the department\n",
        "\n",
        "We will make an example with department A first:"
      ],
      "id": "25cb600a-9b4b-40a3-becc-1abea5f9b83f"
    },
    {
      "cell_type": "code",
      "execution_count": null,
      "metadata": {},
      "outputs": [
        {
          "output_type": "stream",
          "name": "stdout",
          "text": [
            "# A tibble: 2 × 3\n",
            "# Groups:   Gender [2]\n",
            "  Gender Admitted Rejected\n",
            "  <chr>     <dbl>    <dbl>\n",
            "1 Female       89       19\n",
            "2 Male        512      313"
          ]
        }
      ],
      "source": [
        "admit_gender_pivot_DpetA <- df|> \n",
        "  filter(Dept==\"A\") |> \n",
        "  group_by(Admit, Gender) |>  \n",
        "  summarise(Freq_Agg = sum(n), .groups = \"keep\") |>  \n",
        "  pivot_wider(names_from = Admit, values_from = Freq_Agg)\n",
        "admit_gender_pivot_DpetA"
      ],
      "id": "e16aec6a-c990-4bb0-b5dd-fa483828f9fe"
    },
    {
      "cell_type": "markdown",
      "metadata": {},
      "source": [
        "Then similar to above, we will get relative frequencies."
      ],
      "id": "7d5829f4-c801-411e-ac4d-a89d53702f99"
    },
    {
      "cell_type": "code",
      "execution_count": null,
      "metadata": {},
      "outputs": [
        {
          "output_type": "stream",
          "name": "stdout",
          "text": [
            "# A tibble: 2 × 3\n",
            "  Gender Admitted Rejected\n",
            "  <chr>  <chr>    <chr>   \n",
            "1 Female 82.41%   17.59%  \n",
            "2 Male   62.06%   37.94%  "
          ]
        }
      ],
      "source": [
        "admit_gender_pivot_DpetA |> \n",
        "  adorn_percentages(\"row\") |> \n",
        "  adorn_pct_formatting(digits = 2) |>  \n",
        "  as_tibble()"
      ],
      "id": "d75c6b2d-9afa-4913-8a27-6486b4e42f89"
    },
    {
      "cell_type": "markdown",
      "metadata": {},
      "source": [
        "If you think about it, we are really are just repeating these steps\n",
        "above for each department for each of the filtered subset. This is where\n",
        "we have to ask ourselves, ***“we are programming anyways, can we\n",
        "automate things?”***\n",
        "\n",
        "Usually, when this question rises, the answer is “yes”!, so let’s put\n",
        "our thinking hat on.\n",
        "\n",
        "-   We want to “bundle” all of the data transform steps because they are\n",
        "    consistent across all departments. We call this “bundle” a\n",
        "    “function”, something that takes a input and returns an output. In\n",
        "    fact, all of the things that you have seen thus far, like “filter”,\n",
        "    ” group_by”, “summarize” etc… they are all functions! It’s that this\n",
        "    time, we are writing a custome one ourselves.\n",
        "\n",
        "-   We want to parameterize for different department values wherever we\n",
        "    need to call out for that particular department. This really just a\n",
        "    list of department values.\n",
        "\n",
        "-   We “map” each department value as input to the same function, and\n",
        "    then let the computer walk through the entire parameter series.\n",
        "\n",
        "Okay, enough all this talk, let’s see that in action!\n",
        "\n",
        "First, we need to create the function that does all of the data\n",
        "transformation and creating graphics. It sounds a lot, but we actually\n",
        "have all of the steps figured out, we just need to wrap them all in a\n",
        "function."
      ],
      "id": "56647296-59fb-481c-973d-9fd6d8efec39"
    },
    {
      "cell_type": "code",
      "execution_count": null,
      "metadata": {},
      "outputs": [],
      "source": [
        "# we are creating a function called create_dept_relative_freq, which takes an input called \"dept\"\n",
        "create_dept_relative_freq <- function(dept){\n",
        "  \n",
        "  admit_gender_pivot_Dpet <- df |> \n",
        "    # this is where the \"parameterize concept is applied, if we pass dept == \"A\" to this function, it will filter for just Dept A related rows, neat!!!\n",
        "    filter(Dept==dept) |> \n",
        "    # all of the following steps you have seen above, no surprises here\n",
        "    group_by(Admit, Gender) |>  \n",
        "    summarise(Freq_Agg = sum(n), .groups = \"keep\")|> \n",
        "    pivot_wider(names_from = Admit, values_from = Freq_Agg)|> \n",
        "    adorn_percentages(\"row\") |> \n",
        "    adorn_pct_formatting(digits = 2)|> \n",
        "    as_tibble()\n",
        "  \n",
        "  # return specifies what output you would this function to yield. In this case, we would like to have the tranformed data frame of course...\n",
        "  return(admit_gender_pivot_Dpet)\n",
        "}"
      ],
      "id": "78a17e32-502b-4d8e-a03c-695f64085015"
    },
    {
      "cell_type": "markdown",
      "metadata": {},
      "source": [
        "To get a list (vector) of departments, we can get “distinct” values from\n",
        "Dept column and then “pull”. All of these are courtesy of “tidyverse”."
      ],
      "id": "9c3b23bd-95b8-4aab-a71b-0f8fe8b44d04"
    },
    {
      "cell_type": "code",
      "execution_count": null,
      "metadata": {},
      "outputs": [
        {
          "output_type": "stream",
          "name": "stdout",
          "text": [
            "[1] \"A\" \"B\" \"C\" \"D\" \"E\" \"F\""
          ]
        }
      ],
      "source": [
        "dept_list <- df |> \n",
        "  distinct(Dept) |> \n",
        "  pull()\n",
        "dept_list"
      ],
      "id": "69371e11-fcaa-422e-8582-8fe6433a0a5d"
    },
    {
      "cell_type": "markdown",
      "metadata": {},
      "source": [
        "Now, we need to have a mechanism to let R walk through all values in\n",
        "dept_list and pass each value to the same function. Once, again,\n",
        "courtesy of “tidyverse”, a function called “map” will take care of this\n",
        "for us… We will just chill and wait for the data frames!\n",
        "\n",
        "**Note:** “~create_dept_relative_freq(.x)” means that we are taking each\n",
        "value found in dept_list object and pass them individually one after\n",
        "another to run the function create_dept_relative_freq. “.x” is simply\n",
        "the parameter placeholder for “dept” which represents one of “A”, “B”,\n",
        "“C”…."
      ],
      "id": "a42a0790-e6cc-469c-83f6-4dc75f70dd07"
    },
    {
      "cell_type": "code",
      "execution_count": null,
      "metadata": {},
      "outputs": [
        {
          "output_type": "stream",
          "name": "stdout",
          "text": [
            "[[1]]\n",
            "# A tibble: 2 × 3\n",
            "  Gender Admitted Rejected\n",
            "  <chr>  <chr>    <chr>   \n",
            "1 Female 82.41%   17.59%  \n",
            "2 Male   62.06%   37.94%  \n",
            "\n",
            "[[2]]\n",
            "# A tibble: 2 × 3\n",
            "  Gender Admitted Rejected\n",
            "  <chr>  <chr>    <chr>   \n",
            "1 Female 68.00%   32.00%  \n",
            "2 Male   63.04%   36.96%  \n",
            "\n",
            "[[3]]\n",
            "# A tibble: 2 × 3\n",
            "  Gender Admitted Rejected\n",
            "  <chr>  <chr>    <chr>   \n",
            "1 Female 34.06%   65.94%  \n",
            "2 Male   36.92%   63.08%  \n",
            "\n",
            "[[4]]\n",
            "# A tibble: 2 × 3\n",
            "  Gender Admitted Rejected\n",
            "  <chr>  <chr>    <chr>   \n",
            "1 Female 34.93%   65.07%  \n",
            "2 Male   33.09%   66.91%  \n",
            "\n",
            "[[5]]\n",
            "# A tibble: 2 × 3\n",
            "  Gender Admitted Rejected\n",
            "  <chr>  <chr>    <chr>   \n",
            "1 Female 23.92%   76.08%  \n",
            "2 Male   27.75%   72.25%  \n",
            "\n",
            "[[6]]\n",
            "# A tibble: 2 × 3\n",
            "  Gender Admitted Rejected\n",
            "  <chr>  <chr>    <chr>   \n",
            "1 Female 7.04%    92.96%  \n",
            "2 Male   5.90%    94.10%  "
          ]
        }
      ],
      "source": [
        "map(dept_list, ~create_dept_relative_freq(.x))"
      ],
      "id": "9a9db1bb-95ca-4ba8-9960-e4e2b859bbfe"
    },
    {
      "cell_type": "markdown",
      "metadata": {},
      "source": [
        "How neat!!!\n",
        "\n",
        "### Create a series of barplot for relative frequencies of admission by gender given a department\n",
        "\n",
        "Okay, now you have a bit taste of creating relative frequencies for each\n",
        "department, you probably wonder: since we are creating the similar\n",
        "graphic grammar for all of the barplots, can we extend our function so\n",
        "that it is capable of creating graphics as well?\n",
        "\n",
        "You betcha!!"
      ],
      "id": "c8a2a92f-53f2-4f5d-91c4-21842a2daff7"
    },
    {
      "cell_type": "code",
      "execution_count": null,
      "metadata": {},
      "outputs": [
        {
          "output_type": "stream",
          "name": "stdout",
          "text": [
            "[[1]]"
          ]
        },
        {
          "output_type": "display_data",
          "metadata": {},
          "data": {
            "image/png": "[encoded data removed]"
          }
        },
        {
          "output_type": "stream",
          "name": "stdout",
          "text": [
            "\n",
            "[[2]]"
          ]
        },
        {
          "output_type": "display_data",
          "metadata": {},
          "data": {
            "image/png": "[encoded data removed]"
          }
        },
        {
          "output_type": "stream",
          "name": "stdout",
          "text": [
            "\n",
            "[[3]]"
          ]
        },
        {
          "output_type": "display_data",
          "metadata": {},
          "data": {
            "image/png": "[encoded data removed]"
          }
        },
        {
          "output_type": "stream",
          "name": "stdout",
          "text": [
            "\n",
            "[[4]]"
          ]
        },
        {
          "output_type": "display_data",
          "metadata": {},
          "data": {
            "image/png": "[encoded data removed]"
          }
        },
        {
          "output_type": "stream",
          "name": "stdout",
          "text": [
            "\n",
            "[[5]]"
          ]
        },
        {
          "output_type": "display_data",
          "metadata": {},
          "data": {
            "image/png": "[encoded data removed]"
          }
        },
        {
          "output_type": "stream",
          "name": "stdout",
          "text": [
            "\n",
            "[[6]]"
          ]
        },
        {
          "output_type": "display_data",
          "metadata": {},
          "data": {
            "image/png": "[encoded data removed]"
          }
        }
      ],
      "source": [
        "# we are creating a function called create_dept_relative_freq, which takes an input called \"dept\"\n",
        "create_dept_admit_relative_freq_bar <- function(dept){\n",
        "  # this part is exactly like what we have in create_dept_relative_freq function\n",
        "  admit_gender_barplot <- df |> \n",
        "    filter(Dept==dept) |> \n",
        "    # all of the following steps you have seen above, no surprises here\n",
        "    group_by(Admit, Gender) |>  \n",
        "    summarise(Freq_Agg = sum(n), .groups = \"keep\") |>  \n",
        "    pivot_wider(names_from = Admit, values_from = Freq_Agg) |>  \n",
        "    adorn_percentages(\"row\") |> \n",
        "    adorn_pct_formatting(digits = 2) |>  \n",
        "    as_tibble() |> \n",
        "    pivot_longer(cols = c(Admitted, Rejected), names_to = \"Admit\", values_to = \"Rel_Freq\") |> \n",
        "    # and now we are stitching with the ggplot portion for that barplot\n",
        "    ggplot(mapping = aes(x=Admit, y=Rel_Freq, fill=Gender))+\n",
        "    geom_bar(stat=\"identity\", position = 'dodge')+\n",
        "    geom_text(aes(label = Rel_Freq), colour = \"orange\", position = position_dodge(width = 1), )+\n",
        "    scale_fill_manual(values = c(\"Female\" = \"red\", \"Male\" = \"skyblue\"))+\n",
        "    # \"paste\" function allows us to dynamically generate the title for the barplot. Think of it as some kind of magic glue that stick a variable or many variables after a fixed text value.\n",
        "    ggtitle(paste(\"Relative Frequency Barplot by Admit and Gender, Dept\", dept))\n",
        "  \n",
        "  # return specifies what output you would this function to yield. In this case, we would like to have the tranformed data frame of course...\n",
        "  return(admit_gender_barplot)\n",
        "}\n",
        "\n",
        "map(dept_list, create_dept_admit_relative_freq_bar)"
      ],
      "id": "b8f5c0a6-3a93-4376-b5f3-8ef42593fd8d"
    },
    {
      "cell_type": "markdown",
      "metadata": {},
      "source": [
        "### A much much fancier way to achieve the same:\n",
        "\n",
        "This part is interesting: the relative frequency that we are seeking is\n",
        "each Freq out of **total applicants of a particular gender to a\n",
        "particular Dept**. Therefore, to get this subtotal in R, like before, we\n",
        "use “group_by” function from “tidyverse” library to find proper\n",
        "granularity level that we need. Then, we can simply use function called\n",
        "“mutate” (also from “tidyverse”) to get all of the relative frequencies\n",
        "that we need, by passing all of the summarize and pivot wider/longer\n",
        "process. **“mutate”** is just a go-to function to modify a tibble\n",
        "dataframe, such as changing values, adding a new column etc…\n",
        "\n",
        "In this case, we need to group Dept and Gender."
      ],
      "id": "fe5f916d-3b41-467e-8198-a81838bf5252"
    },
    {
      "cell_type": "code",
      "execution_count": null,
      "metadata": {},
      "outputs": [
        {
          "output_type": "stream",
          "name": "stdout",
          "text": [
            "# A tibble: 10 × 5\n",
            "   Admit    Gender Dept      n Freq_subtotal\n",
            "   <chr>    <chr>  <chr> <dbl>         <dbl>\n",
            " 1 Admitted Male   A       512           825\n",
            " 2 Rejected Male   A       313           825\n",
            " 3 Admitted Female A        89           108\n",
            " 4 Rejected Female A        19           108\n",
            " 5 Admitted Male   B       353           560\n",
            " 6 Rejected Male   B       207           560\n",
            " 7 Admitted Female B        17            25\n",
            " 8 Rejected Female B         8            25\n",
            " 9 Admitted Male   C       120           325\n",
            "10 Rejected Male   C       205           325"
          ]
        }
      ],
      "source": [
        "df_subtotal <- df |>  \n",
        "  group_by(Dept, Gender) |> \n",
        "  # we are creating a new column called \"Freq_subtotal\"\n",
        "  mutate(Freq_subtotal = sum(n)) |> \n",
        "  ungroup()\n",
        "\n",
        "head(df_subtotal, 10)"
      ],
      "id": "d2e65326-0b82-445c-a612-6dbb51989646"
    },
    {
      "cell_type": "markdown",
      "metadata": {},
      "source": [
        "One more inch to go to create the Rel_Freq itself"
      ],
      "id": "49a4bfd2-dc94-4c28-a93b-2d1a4e5b1398"
    },
    {
      "cell_type": "code",
      "execution_count": null,
      "metadata": {},
      "outputs": [
        {
          "output_type": "stream",
          "name": "stdout",
          "text": [
            "# A tibble: 6 × 6\n",
            "  Admit    Gender Dept      n Freq_subtotal Rel_Freq\n",
            "  <chr>    <chr>  <chr> <dbl>         <dbl>    <dbl>\n",
            "1 Admitted Male   A       512           825    0.621\n",
            "2 Rejected Male   A       313           825    0.379\n",
            "3 Admitted Female A        89           108    0.824\n",
            "4 Rejected Female A        19           108    0.176\n",
            "5 Admitted Male   B       353           560    0.630\n",
            "6 Rejected Male   B       207           560    0.370"
          ]
        }
      ],
      "source": [
        "df_rf <- df_subtotal %>% \n",
        "  group_by(Dept, Gender) |> \n",
        "  # we are creating a new column called \"Freq_subtotal\", notice how group_by enables to create the same subtotals as long as the values are the same for Dept and Gender, but not the same by Admit values\n",
        "  mutate(\n",
        "    Freq_subtotal = sum(n), \n",
        "    # we are creating the relative frequency column and round the decimal places to 4 decimal places\n",
        "    Rel_Freq = round(n/Freq_subtotal, digits = 4)\n",
        "    ) |> \n",
        "  ungroup()\n",
        "\n",
        "head(df_rf)"
      ],
      "id": "8bb2dd93-4d90-4f00-a533-95d3aacb3494"
    },
    {
      "cell_type": "markdown",
      "metadata": {},
      "source": [
        "I will also introduce a “fancy grammar” enabled from ggplot2, called\n",
        "“facet”. “facet” allows to create same graphics by distinct values of a\n",
        "data dimension and fit them all in the same graphic, instead of multiple\n",
        "individual graphics. This is a perfect use case for our scenario and\n",
        "enables to view all 6 departments side by side. I hope you get sense of\n",
        "the powerful graphic capability from R, particularly from ggplot2. This\n",
        "is something basic data analysis tool like Microsoft Excel not capable\n",
        "of easily accomplish."
      ],
      "id": "72a4d56a-f14b-4363-9d80-5a93d7ca5471"
    },
    {
      "cell_type": "code",
      "execution_count": null,
      "metadata": {},
      "outputs": [
        {
          "output_type": "display_data",
          "metadata": {},
          "data": {
            "image/png": "[encoded data removed]"
          }
        }
      ],
      "source": [
        "ggplot(df_rf, mapping = aes(x=Admit, y=Rel_Freq, fill=Gender))+\n",
        "  geom_bar(stat=\"identity\", position = \"dodge\")+\n",
        "  scale_fill_manual(values = c(\"Female\" = \"pink\", \"Male\" = \"skyblue\"))+\n",
        "  facet_wrap(~ Dept)+\n",
        "  ggtitle(\"Relative Frequency Barplot by Admit and Gender, Dept\")"
      ],
      "id": "bddac99a-4fca-4ad4-86ef-8abf467063e2"
    },
    {
      "cell_type": "markdown",
      "metadata": {},
      "source": [
        "# Closing\n",
        "\n",
        "**That’s it for this session… I hope you enjoy the content the same as\n",
        "much as I write it. Have a great day!!!**"
      ],
      "id": "db1aa339-1a23-4bbf-9567-f8bcd60cc494"
    }
  ],
  "nbformat": 4,
  "nbformat_minor": 5,
  "metadata": {
    "kernelspec": {
      "display_name": "Python 3",
      "language": "python",
      "name": "python3"
    }
  }
}