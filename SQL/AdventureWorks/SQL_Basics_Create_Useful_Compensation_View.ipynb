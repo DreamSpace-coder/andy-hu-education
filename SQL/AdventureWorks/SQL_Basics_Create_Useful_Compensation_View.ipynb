{
  "metadata": {
    "kernelspec": {
      "name": "SQL",
      "display_name": "SQL",
      "language": "sql"
    },
    "language_info": {
      "name": "sql",
      "version": ""
    },
    "colab": {
      "provenance": []
    }
  },
  "nbformat_minor": 0,
  "nbformat": 4,
  "cells": [
    {
      "cell_type": "markdown",
      "source": [
        "# SQL From the Basics to Creating a Functional View\n",
        "Data source: Microsoft AdventureWorks2019\n",
        "\n",
        "Server: Microsoft SQL Server 2022\n",
        "\n",
        "DBMS: SQL Server Management Studio 19\n",
        "\n",
        "IDE: Azure Data Studio\n",
        "\n",
        "Author: Jianyuan(Andy) Hu"
      ],
      "metadata": {
        "azdata_cell_guid": "97dfb26e-aeb4-419e-9f34-7ab7a4db42e2",
        "id": "u1c5VbBSYND6"
      }
    },
    {
      "cell_type": "markdown",
      "source": [
        "# SQL Basics\n",
        "\n",
        "## SELECT\n",
        "\n",
        "It begins a query, most useful operator in SQL, tells the query which columns (or attributes) of a table should be included in the query.\n",
        "\n",
        "## FROM\n",
        "\n",
        "It companies with SELECT, it tells which table SELECT should operate on."
      ],
      "metadata": {
        "azdata_cell_guid": "4cf64b91-e357-4211-9295-3d9ae397aaff",
        "id": "-n--NZVpYND8"
      }
    },
    {
      "cell_type": "code",
      "source": [
        "/* In T-SQL column names are not case sensitive, but it does have the impact of changing the result column name*/\n",
        "\n",
        "SELECT BusinessEntityID, JobTitle, OrganizationLevel, HireDate\n",
        "FROM HumanResources.Employee"
      ],
      "metadata": {
        "azdata_cell_guid": "533b049e-0232-4a36-9a9e-209dfe89b2fc",
        "language": "sql",
        "id": "Mue5pgRtYND9",
        "outputId": "a4880083-d086-4039-a444-927e2fc6cf87"
      },
      "outputs": [
        {
          "output_type": "display_data",
          "data": {
            "text/html": "(290 rows affected)"
          },
          "metadata": {}
        },
        {
          "output_type": "display_data",
          "data": {
            "text/html": "Total execution time: 00:00:00.011"
          },
          "metadata": {}
        },
        {
          "output_type": "execute_result",
          "execution_count": 3,
          "data": {
            "application/vnd.dataresource+json": {
              "schema": {
                "fields": [
                  {
                    "name": "BusinessEntityID"
                  },
                  {
                    "name": "JobTitle"
                  },
                  {
                    "name": "OrganizationLevel"
                  },
                  {
                    "name": "HireDate"
                  }
                ]
              },
              "data": [
                {
                  "0": "1",
                  "1": "Chief Executive Officer",
                  "2": "NULL",
                  "3": "2009-01-14"
                },
                {
                  "0": "2",
                  "1": "Vice President of Engineering",
                  "2": "1",
                  "3": "2008-01-31"
                },
                {
                  "0": "3",
                  "1": "Engineering Manager",
                  "2": "2",
                  "3": "2007-11-11"
                },
                {
                  "0": "4",
                  "1": "Senior Tool Designer",
                  "2": "3",
                  "3": "2007-12-05"
                },
                {
                  "0": "5",
                  "1": "Design Engineer",
                  "2": "3",
                  "3": "2008-01-06"
                },
                {
                  "0": "6",
                  "1": "Design Engineer",
                  "2": "3",
                  "3": "2008-01-24"
                },
                {
                  "0": "7",
                  "1": "Research and Development Manager",
                  "2": "3",
                  "3": "2009-02-08"
                },
                {
                  "0": "8",
                  "1": "Research and Development Engineer",
                  "2": "4",
                  "3": "2008-12-29"
                },
                {
                  "0": "9",
                  "1": "Research and Development Engineer",
                  "2": "4",
                  "3": "2009-01-16"
                },
                {
                  "0": "10",
                  "1": "Research and Development Manager",
                  "2": "4",
                  "3": "2009-05-03"
                },
                {
                  "0": "11",
                  "1": "Senior Tool Designer",
                  "2": "3",
                  "3": "2010-12-05"
                },
                {
                  "0": "12",
                  "1": "Tool Designer",
                  "2": "4",
                  "3": "2007-12-11"
                },
                {
                  "0": "13",
                  "1": "Tool Designer",
                  "2": "4",
                  "3": "2010-12-23"
                },
                {
                  "0": "14",
                  "1": "Senior Design Engineer",
                  "2": "3",
                  "3": "2010-12-30"
                },
                {
                  "0": "15",
                  "1": "Design Engineer",
                  "2": "3",
                  "3": "2011-01-18"
                },
                {
                  "0": "16",
                  "1": "Marketing Manager",
                  "2": "1",
                  "3": "2007-12-20"
                },
                {
                  "0": "17",
                  "1": "Marketing Assistant",
                  "2": "2",
                  "3": "2007-01-26"
                },
                {
                  "0": "18",
                  "1": "Marketing Specialist",
                  "2": "2",
                  "3": "2011-02-07"
                },
                {
                  "0": "19",
                  "1": "Marketing Assistant",
                  "2": "2",
                  "3": "2011-02-14"
                },
                {
                  "0": "20",
                  "1": "Marketing Assistant",
                  "2": "2",
                  "3": "2011-01-07"
                },
                {
                  "0": "21",
                  "1": "Marketing Specialist",
                  "2": "2",
                  "3": "2009-03-02"
                },
                {
                  "0": "22",
                  "1": "Marketing Specialist",
                  "2": "2",
                  "3": "2008-12-12"
                },
                {
                  "0": "23",
                  "1": "Marketing Specialist",
                  "2": "2",
                  "3": "2009-01-12"
                },
                {
                  "0": "24",
                  "1": "Marketing Specialist",
                  "2": "2",
                  "3": "2009-01-18"
                },
                {
                  "0": "25",
                  "1": "Vice President of Production",
                  "2": "1",
                  "3": "2009-02-03"
                },
                {
                  "0": "26",
                  "1": "Production Control Manager",
                  "2": "2",
                  "3": "2008-12-01"
                },
                {
                  "0": "27",
                  "1": "Production Supervisor - WC60",
                  "2": "3",
                  "3": "2008-02-27"
                },
                {
                  "0": "28",
                  "1": "Production Technician - WC60",
                  "2": "4",
                  "3": "2006-06-30"
                },
                {
                  "0": "29",
                  "1": "Production Technician - WC60",
                  "2": "4",
                  "3": "2009-01-23"
                },
                {
                  "0": "30",
                  "1": "Production Technician - WC60",
                  "2": "4",
                  "3": "2009-01-29"
                },
                {
                  "0": "31",
                  "1": "Production Technician - WC60",
                  "2": "4",
                  "3": "2009-01-04"
                },
                {
                  "0": "32",
                  "1": "Production Technician - WC60",
                  "2": "4",
                  "3": "2008-12-29"
                },
                {
                  "0": "33",
                  "1": "Production Technician - WC60",
                  "2": "4",
                  "3": "2008-12-17"
                },
                {
                  "0": "34",
                  "1": "Production Technician - WC60",
                  "2": "4",
                  "3": "2009-02-16"
                },
                {
                  "0": "35",
                  "1": "Production Technician - WC60",
                  "2": "4",
                  "3": "2009-02-08"
                },
                {
                  "0": "36",
                  "1": "Production Technician - WC60",
                  "2": "4",
                  "3": "2009-02-10"
                },
                {
                  "0": "37",
                  "1": "Production Technician - WC60",
                  "2": "4",
                  "3": "2009-03-07"
                },
                {
                  "0": "38",
                  "1": "Production Technician - WC60",
                  "2": "4",
                  "3": "2010-01-16"
                },
                {
                  "0": "39",
                  "1": "Production Technician - WC60",
                  "2": "4",
                  "3": "2010-02-05"
                },
                {
                  "0": "40",
                  "1": "Production Supervisor - WC60",
                  "2": "3",
                  "3": "2007-12-26"
                },
                {
                  "0": "41",
                  "1": "Production Technician - WC60",
                  "2": "4",
                  "3": "2009-01-21"
                },
                {
                  "0": "42",
                  "1": "Production Technician - WC60",
                  "2": "4",
                  "3": "2008-12-27"
                },
                {
                  "0": "43",
                  "1": "Production Technician - WC60",
                  "2": "4",
                  "3": "2009-01-02"
                },
                {
                  "0": "44",
                  "1": "Production Technician - WC60",
                  "2": "4",
                  "3": "2008-12-08"
                },
                {
                  "0": "45",
                  "1": "Production Technician - WC60",
                  "2": "4",
                  "3": "2009-02-26"
                },
                {
                  "0": "46",
                  "1": "Production Technician - WC60",
                  "2": "4",
                  "3": "2009-02-08"
                },
                {
                  "0": "47",
                  "1": "Production Supervisor - WC10",
                  "2": "3",
                  "3": "2009-02-22"
                },
                {
                  "0": "48",
                  "1": "Production Technician - WC10",
                  "2": "4",
                  "3": "2008-01-06"
                },
                {
                  "0": "49",
                  "1": "Production Technician - WC10",
                  "2": "4",
                  "3": "2008-01-07"
                },
                {
                  "0": "50",
                  "1": "Production Technician - WC10",
                  "2": "4",
                  "3": "2008-02-02"
                },
                {
                  "0": "51",
                  "1": "Production Technician - WC10",
                  "2": "4",
                  "3": "2008-02-20"
                },
                {
                  "0": "52",
                  "1": "Production Technician - WC10",
                  "2": "4",
                  "3": "2008-03-10"
                },
                {
                  "0": "53",
                  "1": "Production Technician - WC10",
                  "2": "4",
                  "3": "2008-03-28"
                },
                {
                  "0": "54",
                  "1": "Production Technician - WC10",
                  "2": "4",
                  "3": "2010-01-01"
                },
                {
                  "0": "55",
                  "1": "Production Supervisor - WC50",
                  "2": "3",
                  "3": "2008-02-08"
                },
                {
                  "0": "56",
                  "1": "Production Technician - WC50",
                  "2": "4",
                  "3": "2009-02-05"
                },
                {
                  "0": "57",
                  "1": "Production Technician - WC50",
                  "2": "4",
                  "3": "2009-02-23"
                },
                {
                  "0": "58",
                  "1": "Production Technician - WC50",
                  "2": "4",
                  "3": "2008-12-05"
                },
                {
                  "0": "59",
                  "1": "Production Technician - WC50",
                  "2": "4",
                  "3": "2008-12-24"
                },
                {
                  "0": "60",
                  "1": "Production Technician - WC50",
                  "2": "4",
                  "3": "2009-01-11"
                },
                {
                  "0": "61",
                  "1": "Production Technician - WC50",
                  "2": "4",
                  "3": "2009-01-18"
                },
                {
                  "0": "62",
                  "1": "Production Supervisor - WC60",
                  "2": "3",
                  "3": "2008-03-17"
                },
                {
                  "0": "63",
                  "1": "Production Technician - WC60",
                  "2": "4",
                  "3": "2010-01-29"
                },
                {
                  "0": "64",
                  "1": "Production Technician - WC60",
                  "2": "4",
                  "3": "2010-02-23"
                },
                {
                  "0": "65",
                  "1": "Production Technician - WC60",
                  "2": "4",
                  "3": "2010-02-23"
                },
                {
                  "0": "66",
                  "1": "Production Technician - WC60",
                  "2": "4",
                  "3": "2009-12-22"
                },
                {
                  "0": "67",
                  "1": "Production Technician - WC60",
                  "2": "4",
                  "3": "2009-03-05"
                },
                {
                  "0": "68",
                  "1": "Production Technician - WC60",
                  "2": "4",
                  "3": "2009-12-03"
                },
                {
                  "0": "69",
                  "1": "Production Technician - WC60",
                  "2": "4",
                  "3": "2009-02-15"
                },
                {
                  "0": "70",
                  "1": "Production Technician - WC60",
                  "2": "4",
                  "3": "2008-12-15"
                },
                {
                  "0": "71",
                  "1": "Production Supervisor - WC30",
                  "2": "3",
                  "3": "2009-02-15"
                },
                {
                  "0": "72",
                  "1": "Production Technician - WC30",
                  "2": "4",
                  "3": "2008-12-01"
                },
                {
                  "0": "73",
                  "1": "Production Technician - WC30",
                  "2": "4",
                  "3": "2008-12-19"
                },
                {
                  "0": "74",
                  "1": "Production Technician - WC30",
                  "2": "4",
                  "3": "2009-01-07"
                },
                {
                  "0": "75",
                  "1": "Production Technician - WC30",
                  "2": "4",
                  "3": "2009-01-26"
                },
                {
                  "0": "76",
                  "1": "Production Technician - WC30",
                  "2": "4",
                  "3": "2009-02-12"
                },
                {
                  "0": "77",
                  "1": "Production Technician - WC30",
                  "2": "4",
                  "3": "2009-03-03"
                },
                {
                  "0": "78",
                  "1": "Production Supervisor - WC40",
                  "2": "3",
                  "3": "2008-12-15"
                },
                {
                  "0": "79",
                  "1": "Production Technician - WC40",
                  "2": "4",
                  "3": "2010-01-24"
                },
                {
                  "0": "80",
                  "1": "Production Technician - WC40",
                  "2": "4",
                  "3": "2010-01-17"
                },
                {
                  "0": "81",
                  "1": "Production Technician - WC40",
                  "2": "4",
                  "3": "2009-12-29"
                },
                {
                  "0": "82",
                  "1": "Production Technician - WC40",
                  "2": "4",
                  "3": "2010-03-03"
                },
                {
                  "0": "83",
                  "1": "Production Technician - WC40",
                  "2": "4",
                  "3": "2010-02-12"
                },
                {
                  "0": "84",
                  "1": "Production Technician - WC40",
                  "2": "4",
                  "3": "2010-02-05"
                },
                {
                  "0": "85",
                  "1": "Production Technician - WC40",
                  "2": "4",
                  "3": "2009-12-11"
                },
                {
                  "0": "86",
                  "1": "Production Technician - WC40",
                  "2": "4",
                  "3": "2009-01-05"
                },
                {
                  "0": "87",
                  "1": "Production Supervisor - WC10",
                  "2": "3",
                  "3": "2008-12-22"
                },
                {
                  "0": "88",
                  "1": "Production Technician - WC10",
                  "2": "4",
                  "3": "2009-12-18"
                },
                {
                  "0": "89",
                  "1": "Production Technician - WC10",
                  "2": "4",
                  "3": "2010-02-01"
                },
                {
                  "0": "90",
                  "1": "Production Technician - WC10",
                  "2": "4",
                  "3": "2010-02-20"
                },
                {
                  "0": "91",
                  "1": "Production Technician - WC10",
                  "2": "4",
                  "3": "2010-01-12"
                },
                {
                  "0": "92",
                  "1": "Production Technician - WC10",
                  "2": "4",
                  "3": "2010-03-10"
                },
                {
                  "0": "93",
                  "1": "Production Supervisor - WC50",
                  "2": "3",
                  "3": "2008-12-27"
                },
                {
                  "0": "94",
                  "1": "Production Technician - WC50",
                  "2": "4",
                  "3": "2008-12-12"
                },
                {
                  "0": "95",
                  "1": "Production Technician - WC50",
                  "2": "4",
                  "3": "2008-12-19"
                },
                {
                  "0": "96",
                  "1": "Production Technician - WC50",
                  "2": "4",
                  "3": "2009-03-02"
                },
                {
                  "0": "97",
                  "1": "Production Technician - WC50",
                  "2": "4",
                  "3": "2009-02-10"
                },
                {
                  "0": "98",
                  "1": "Production Technician - WC50",
                  "2": "4",
                  "3": "2009-02-11"
                },
                {
                  "0": "99",
                  "1": "Production Technician - WC50",
                  "2": "4",
                  "3": "2009-01-06"
                },
                {
                  "0": "100",
                  "1": "Production Technician - WC50",
                  "2": "4",
                  "3": "2009-01-12"
                },
                {
                  "0": "101",
                  "1": "Production Technician - WC50",
                  "2": "4",
                  "3": "2009-01-25"
                },
                {
                  "0": "102",
                  "1": "Production Supervisor - WC10",
                  "2": "3",
                  "3": "2008-12-03"
                },
                {
                  "0": "103",
                  "1": "Production Technician - WC10",
                  "2": "4",
                  "3": "2009-12-06"
                },
                {
                  "0": "104",
                  "1": "Production Technician - WC10",
                  "2": "4",
                  "3": "2009-12-25"
                },
                {
                  "0": "105",
                  "1": "Production Technician - WC10",
                  "2": "4",
                  "3": "2009-12-25"
                },
                {
                  "0": "106",
                  "1": "Production Technician - WC10",
                  "2": "4",
                  "3": "2010-02-27"
                },
                {
                  "0": "107",
                  "1": "Production Technician - WC10",
                  "2": "4",
                  "3": "2010-02-08"
                },
                {
                  "0": "108",
                  "1": "Production Supervisor - WC50",
                  "2": "3",
                  "3": "2008-12-08"
                },
                {
                  "0": "109",
                  "1": "Production Technician - WC50",
                  "2": "4",
                  "3": "2008-12-07"
                },
                {
                  "0": "110",
                  "1": "Production Technician - WC50",
                  "2": "4",
                  "3": "2008-12-14"
                },
                {
                  "0": "111",
                  "1": "Production Technician - WC50",
                  "2": "4",
                  "3": "2008-12-17"
                },
                {
                  "0": "112",
                  "1": "Production Technician - WC50",
                  "2": "4",
                  "3": "2009-01-01"
                },
                {
                  "0": "113",
                  "1": "Production Technician - WC50",
                  "2": "4",
                  "3": "2008-12-25"
                },
                {
                  "0": "114",
                  "1": "Production Technician - WC50",
                  "2": "4",
                  "3": "2009-01-13"
                },
                {
                  "0": "115",
                  "1": "Production Technician - WC50",
                  "2": "4",
                  "3": "2009-01-20"
                },
                {
                  "0": "116",
                  "1": "Production Technician - WC50",
                  "2": "4",
                  "3": "2009-01-31"
                },
                {
                  "0": "117",
                  "1": "Production Technician - WC50",
                  "2": "4",
                  "3": "2009-02-18"
                },
                {
                  "0": "118",
                  "1": "Production Technician - WC50",
                  "2": "4",
                  "3": "2009-02-13"
                },
                {
                  "0": "119",
                  "1": "Production Technician - WC50",
                  "2": "4",
                  "3": "2009-02-25"
                },
                {
                  "0": "120",
                  "1": "Production Technician - WC50",
                  "2": "4",
                  "3": "2009-03-04"
                },
                {
                  "0": "121",
                  "1": "Shipping and Receiving Supervisor",
                  "2": "3",
                  "3": "2009-01-02"
                },
                {
                  "0": "122",
                  "1": "Stocker",
                  "2": "4",
                  "3": "2008-12-07"
                },
                {
                  "0": "123",
                  "1": "Shipping and Receiving Clerk",
                  "2": "4",
                  "3": "2008-12-07"
                },
                {
                  "0": "124",
                  "1": "Stocker",
                  "2": "4",
                  "3": "2008-12-26"
                },
                {
                  "0": "125",
                  "1": "Shipping and Receiving Clerk",
                  "2": "4",
                  "3": "2009-01-20"
                },
                {
                  "0": "126",
                  "1": "Stocker",
                  "2": "4",
                  "3": "2009-02-26"
                },
                {
                  "0": "127",
                  "1": "Production Supervisor - WC40",
                  "2": "3",
                  "3": "2009-01-03"
                },
                {
                  "0": "128",
                  "1": "Production Technician - WC40",
                  "2": "4",
                  "3": "2008-12-04"
                },
                {
                  "0": "129",
                  "1": "Production Technician - WC40",
                  "2": "4",
                  "3": "2008-12-22"
                },
                {
                  "0": "130",
                  "1": "Production Technician - WC40",
                  "2": "4",
                  "3": "2009-02-13"
                },
                {
                  "0": "131",
                  "1": "Production Technician - WC40",
                  "2": "4",
                  "3": "2009-02-15"
                },
                {
                  "0": "132",
                  "1": "Production Technician - WC40",
                  "2": "4",
                  "3": "2009-02-22"
                },
                {
                  "0": "133",
                  "1": "Production Technician - WC40",
                  "2": "4",
                  "3": "2009-01-10"
                },
                {
                  "0": "134",
                  "1": "Production Supervisor - WC20",
                  "2": "3",
                  "3": "2009-01-14"
                },
                {
                  "0": "135",
                  "1": "Production Technician - WC20",
                  "2": "4",
                  "3": "2008-12-04"
                },
                {
                  "0": "136",
                  "1": "Production Technician - WC20",
                  "2": "4",
                  "3": "2009-12-11"
                },
                {
                  "0": "137",
                  "1": "Production Technician - WC20",
                  "2": "4",
                  "3": "2009-02-23"
                },
                {
                  "0": "138",
                  "1": "Production Technician - WC20",
                  "2": "4",
                  "3": "2009-02-04"
                },
                {
                  "0": "139",
                  "1": "Production Technician - WC20",
                  "2": "4",
                  "3": "2010-01-06"
                },
                {
                  "0": "140",
                  "1": "Production Technician - WC20",
                  "2": "4",
                  "3": "2010-01-22"
                },
                {
                  "0": "141",
                  "1": "Production Technician - WC20",
                  "2": "4",
                  "3": "2010-01-24"
                },
                {
                  "0": "142",
                  "1": "Production Technician - WC20",
                  "2": "4",
                  "3": "2010-03-04"
                },
                {
                  "0": "143",
                  "1": "Production Technician - WC20",
                  "2": "4",
                  "3": "2010-02-13"
                },
                {
                  "0": "144",
                  "1": "Production Technician - WC20",
                  "2": "4",
                  "3": "2009-01-17"
                },
                {
                  "0": "145",
                  "1": "Production Supervisor - WC30",
                  "2": "3",
                  "3": "2009-01-27"
                },
                {
                  "0": "146",
                  "1": "Production Technician - WC30",
                  "2": "4",
                  "3": "2008-12-07"
                },
                {
                  "0": "147",
                  "1": "Production Technician - WC30",
                  "2": "4",
                  "3": "2008-12-26"
                },
                {
                  "0": "148",
                  "1": "Production Technician - WC30",
                  "2": "4",
                  "3": "2009-01-14"
                },
                {
                  "0": "149",
                  "1": "Production Technician - WC30",
                  "2": "4",
                  "3": "2009-01-31"
                },
                {
                  "0": "150",
                  "1": "Production Technician - WC30",
                  "2": "4",
                  "3": "2009-02-26"
                },
                {
                  "0": "151",
                  "1": "Production Technician - WC30",
                  "2": "4",
                  "3": "2009-02-19"
                },
                {
                  "0": "152",
                  "1": "Production Supervisor - WC20",
                  "2": "3",
                  "3": "2009-02-01"
                },
                {
                  "0": "153",
                  "1": "Production Technician - WC20",
                  "2": "4",
                  "3": "2008-12-16"
                },
                {
                  "0": "154",
                  "1": "Production Technician - WC20",
                  "2": "4",
                  "3": "2008-12-23"
                },
                {
                  "0": "155",
                  "1": "Production Technician - WC20",
                  "2": "4",
                  "3": "2009-01-04"
                },
                {
                  "0": "156",
                  "1": "Production Technician - WC20",
                  "2": "4",
                  "3": "2009-01-11"
                },
                {
                  "0": "157",
                  "1": "Production Technician - WC20",
                  "2": "4",
                  "3": "2009-02-03"
                },
                {
                  "0": "158",
                  "1": "Production Technician - WC20",
                  "2": "4",
                  "3": "2009-03-07"
                },
                {
                  "0": "159",
                  "1": "Production Technician - WC20",
                  "2": "4",
                  "3": "2009-02-16"
                },
                {
                  "0": "160",
                  "1": "Production Supervisor - WC45",
                  "2": "3",
                  "3": "2009-01-21"
                },
                {
                  "0": "161",
                  "1": "Production Technician - WC45",
                  "2": "4",
                  "3": "2008-12-15"
                },
                {
                  "0": "162",
                  "1": "Production Technician - WC45",
                  "2": "4",
                  "3": "2009-01-03"
                },
                {
                  "0": "163",
                  "1": "Production Technician - WC45",
                  "2": "4",
                  "3": "2009-02-08"
                },
                {
                  "0": "164",
                  "1": "Production Technician - WC45",
                  "2": "4",
                  "3": "2009-03-06"
                },
                {
                  "0": "165",
                  "1": "Production Technician - WC45",
                  "2": "4",
                  "3": "2009-01-22"
                },
                {
                  "0": "166",
                  "1": "Production Supervisor - WC30",
                  "2": "3",
                  "3": "2009-02-21"
                },
                {
                  "0": "167",
                  "1": "Production Technician - WC30",
                  "2": "4",
                  "3": "2008-12-02"
                },
                {
                  "0": "168",
                  "1": "Production Technician - WC30",
                  "2": "4",
                  "3": "2008-12-07"
                },
                {
                  "0": "169",
                  "1": "Production Technician - WC30",
                  "2": "4",
                  "3": "2008-12-14"
                },
                {
                  "0": "170",
                  "1": "Production Technician - WC30",
                  "2": "4",
                  "3": "2008-12-21"
                },
                {
                  "0": "171",
                  "1": "Production Technician - WC30",
                  "2": "4",
                  "3": "2009-01-02"
                },
                {
                  "0": "172",
                  "1": "Production Technician - WC30",
                  "2": "4",
                  "3": "2009-01-16"
                },
                {
                  "0": "173",
                  "1": "Production Technician - WC30",
                  "2": "4",
                  "3": "2009-01-21"
                },
                {
                  "0": "174",
                  "1": "Production Technician - WC30",
                  "2": "4",
                  "3": "2009-01-27"
                },
                {
                  "0": "175",
                  "1": "Production Technician - WC30",
                  "2": "4",
                  "3": "2009-02-02"
                },
                {
                  "0": "176",
                  "1": "Production Technician - WC30",
                  "2": "4",
                  "3": "2009-02-14"
                },
                {
                  "0": "177",
                  "1": "Production Technician - WC30",
                  "2": "4",
                  "3": "2009-02-21"
                },
                {
                  "0": "178",
                  "1": "Production Technician - WC30",
                  "2": "4",
                  "3": "2009-03-03"
                },
                {
                  "0": "179",
                  "1": "Production Technician - WC30",
                  "2": "4",
                  "3": "2009-03-05"
                },
                {
                  "0": "180",
                  "1": "Production Supervisor - WC20",
                  "2": "3",
                  "3": "2009-02-20"
                },
                {
                  "0": "181",
                  "1": "Production Technician - WC20",
                  "2": "4",
                  "3": "2008-12-09"
                },
                {
                  "0": "182",
                  "1": "Production Technician - WC20",
                  "2": "4",
                  "3": "2008-12-28"
                },
                {
                  "0": "183",
                  "1": "Production Technician - WC20",
                  "2": "4",
                  "3": "2009-01-22"
                },
                {
                  "0": "184",
                  "1": "Production Technician - WC20",
                  "2": "4",
                  "3": "2009-02-09"
                },
                {
                  "0": "185",
                  "1": "Production Technician - WC20",
                  "2": "4",
                  "3": "2009-02-28"
                },
                {
                  "0": "186",
                  "1": "Production Supervisor - WC45",
                  "2": "3",
                  "3": "2009-02-08"
                },
                {
                  "0": "187",
                  "1": "Production Technician - WC45",
                  "2": "4",
                  "3": "2008-12-09"
                },
                {
                  "0": "188",
                  "1": "Production Technician - WC45",
                  "2": "4",
                  "3": "2008-12-27"
                },
                {
                  "0": "189",
                  "1": "Production Technician - WC45",
                  "2": "4",
                  "3": "2009-01-15"
                },
                {
                  "0": "190",
                  "1": "Production Technician - WC45",
                  "2": "4",
                  "3": "2009-02-02"
                },
                {
                  "0": "191",
                  "1": "Production Technician - WC45",
                  "2": "4",
                  "3": "2009-02-26"
                },
                {
                  "0": "192",
                  "1": "Production Supervisor - WC40",
                  "2": "3",
                  "3": "2009-03-05"
                },
                {
                  "0": "193",
                  "1": "Production Technician - WC40",
                  "2": "4",
                  "3": "2008-12-06"
                },
                {
                  "0": "194",
                  "1": "Production Technician - WC40",
                  "2": "4",
                  "3": "2008-12-12"
                },
                {
                  "0": "195",
                  "1": "Production Technician - WC40",
                  "2": "4",
                  "3": "2008-12-17"
                },
                {
                  "0": "196",
                  "1": "Production Technician - WC40",
                  "2": "4",
                  "3": "2008-12-24"
                },
                {
                  "0": "197",
                  "1": "Production Technician - WC40",
                  "2": "4",
                  "3": "2008-12-31"
                },
                {
                  "0": "198",
                  "1": "Production Technician - WC40",
                  "2": "4",
                  "3": "2009-01-04"
                },
                {
                  "0": "199",
                  "1": "Production Technician - WC40",
                  "2": "4",
                  "3": "2009-01-12"
                },
                {
                  "0": "200",
                  "1": "Production Technician - WC40",
                  "2": "4",
                  "3": "2009-01-17"
                },
                {
                  "0": "201",
                  "1": "Production Technician - WC40",
                  "2": "4",
                  "3": "2009-01-29"
                },
                {
                  "0": "202",
                  "1": "Production Technician - WC40",
                  "2": "4",
                  "3": "2009-02-05"
                },
                {
                  "0": "203",
                  "1": "Production Technician - WC40",
                  "2": "4",
                  "3": "2009-02-24"
                },
                {
                  "0": "204",
                  "1": "Production Technician - WC40",
                  "2": "4",
                  "3": "2009-03-08"
                },
                {
                  "0": "205",
                  "1": "Production Supervisor - WC45",
                  "2": "3",
                  "3": "2009-02-26"
                },
                {
                  "0": "206",
                  "1": "Production Technician - WC45",
                  "2": "4",
                  "3": "2008-12-02"
                },
                {
                  "0": "207",
                  "1": "Production Technician - WC45",
                  "2": "4",
                  "3": "2008-12-02"
                },
                {
                  "0": "208",
                  "1": "Production Technician - WC45",
                  "2": "4",
                  "3": "2009-01-08"
                },
                {
                  "0": "209",
                  "1": "Production Technician - WC45",
                  "2": "4",
                  "3": "2009-01-27"
                },
                {
                  "0": "210",
                  "1": "Production Technician - WC45",
                  "2": "4",
                  "3": "2009-02-20"
                },
                {
                  "0": "211",
                  "1": "Quality Assurance Manager",
                  "2": "2",
                  "3": "2009-02-28"
                },
                {
                  "0": "212",
                  "1": "Quality Assurance Supervisor",
                  "2": "3",
                  "3": "2008-12-09"
                },
                {
                  "0": "213",
                  "1": "Quality Assurance Technician",
                  "2": "4",
                  "3": "2010-02-23"
                },
                {
                  "0": "214",
                  "1": "Quality Assurance Technician",
                  "2": "4",
                  "3": "2009-02-02"
                },
                {
                  "0": "215",
                  "1": "Quality Assurance Technician",
                  "2": "4",
                  "3": "2009-01-15"
                },
                {
                  "0": "216",
                  "1": "Quality Assurance Technician",
                  "2": "4",
                  "3": "2008-12-28"
                },
                {
                  "0": "217",
                  "1": "Document Control Manager",
                  "2": "3",
                  "3": "2009-01-04"
                },
                {
                  "0": "218",
                  "1": "Control Specialist",
                  "2": "4",
                  "3": "2008-12-16"
                },
                {
                  "0": "219",
                  "1": "Document Control Assistant",
                  "2": "4",
                  "3": "2009-01-22"
                },
                {
                  "0": "220",
                  "1": "Document Control Assistant",
                  "2": "4",
                  "3": "2009-02-09"
                },
                {
                  "0": "221",
                  "1": "Control Specialist",
                  "2": "4",
                  "3": "2009-03-06"
                },
                {
                  "0": "222",
                  "1": "Master Scheduler",
                  "2": "2",
                  "3": "2008-12-12"
                },
                {
                  "0": "223",
                  "1": "Scheduling Assistant",
                  "2": "3",
                  "3": "2009-01-26"
                },
                {
                  "0": "224",
                  "1": "Scheduling Assistant",
                  "2": "3",
                  "3": "2009-01-07"
                },
                {
                  "0": "225",
                  "1": "Scheduling Assistant",
                  "2": "3",
                  "3": "2009-02-13"
                },
                {
                  "0": "226",
                  "1": "Scheduling Assistant",
                  "2": "3",
                  "3": "2009-03-03"
                },
                {
                  "0": "227",
                  "1": "Facilities Manager",
                  "2": "2",
                  "3": "2009-12-02"
                },
                {
                  "0": "228",
                  "1": "Maintenance Supervisor",
                  "2": "3",
                  "3": "2008-12-14"
                },
                {
                  "0": "229",
                  "1": "Janitor",
                  "2": "4",
                  "3": "2010-02-16"
                },
                {
                  "0": "230",
                  "1": "Janitor",
                  "2": "4",
                  "3": "2010-03-05"
                },
                {
                  "0": "231",
                  "1": "Janitor",
                  "2": "4",
                  "3": "2010-03-07"
                },
                {
                  "0": "232",
                  "1": "Janitor",
                  "2": "4",
                  "3": "2010-01-27"
                },
                {
                  "0": "233",
                  "1": "Facilities Administrative Assistant",
                  "2": "3",
                  "3": "2009-12-21"
                },
                {
                  "0": "234",
                  "1": "Chief Financial Officer",
                  "2": "1",
                  "3": "2009-01-31"
                },
                {
                  "0": "235",
                  "1": "Human Resources Manager",
                  "2": "2",
                  "3": "2008-12-06"
                },
                {
                  "0": "236",
                  "1": "Human Resources Administrative Assistant",
                  "2": "3",
                  "3": "2009-02-25"
                },
                {
                  "0": "237",
                  "1": "Human Resources Administrative Assistant",
                  "2": "3",
                  "3": "2009-02-06"
                },
                {
                  "0": "238",
                  "1": "Recruiter",
                  "2": "3",
                  "3": "2009-01-01"
                },
                {
                  "0": "239",
                  "1": "Benefits Specialist",
                  "2": "3",
                  "3": "2008-12-25"
                },
                {
                  "0": "240",
                  "1": "Recruiter",
                  "2": "3",
                  "3": "2008-12-13"
                },
                {
                  "0": "241",
                  "1": "Accounts Manager",
                  "2": "2",
                  "3": "2009-01-30"
                },
                {
                  "0": "242",
                  "1": "Accounts Receivable Specialist",
                  "2": "3",
                  "3": "2008-12-18"
                },
                {
                  "0": "243",
                  "1": "Accounts Receivable Specialist",
                  "2": "3",
                  "3": "2009-01-06"
                },
                {
                  "0": "244",
                  "1": "Accounts Receivable Specialist",
                  "2": "3",
                  "3": "2009-01-24"
                },
                {
                  "0": "245",
                  "1": "Accountant",
                  "2": "3",
                  "3": "2009-02-18"
                },
                {
                  "0": "246",
                  "1": "Accounts Payable Specialist",
                  "2": "3",
                  "3": "2009-02-11"
                },
                {
                  "0": "247",
                  "1": "Accounts Payable Specialist",
                  "2": "3",
                  "3": "2009-03-01"
                },
                {
                  "0": "248",
                  "1": "Accountant",
                  "2": "3",
                  "3": "2009-03-08"
                },
                {
                  "0": "249",
                  "1": "Finance Manager",
                  "2": "2",
                  "3": "2008-12-25"
                },
                {
                  "0": "250",
                  "1": "Purchasing Manager",
                  "2": "3",
                  "3": "2011-02-25"
                },
                {
                  "0": "251",
                  "1": "Buyer",
                  "2": "4",
                  "3": "2009-02-10"
                },
                {
                  "0": "252",
                  "1": "Buyer",
                  "2": "4",
                  "3": "2009-02-28"
                },
                {
                  "0": "253",
                  "1": "Buyer",
                  "2": "4",
                  "3": "2009-12-17"
                },
                {
                  "0": "254",
                  "1": "Buyer",
                  "2": "4",
                  "3": "2010-01-04"
                },
                {
                  "0": "255",
                  "1": "Buyer",
                  "2": "4",
                  "3": "2010-01-11"
                },
                {
                  "0": "256",
                  "1": "Buyer",
                  "2": "4",
                  "3": "2010-01-23"
                },
                {
                  "0": "257",
                  "1": "Buyer",
                  "2": "4",
                  "3": "2010-01-27"
                },
                {
                  "0": "258",
                  "1": "Buyer",
                  "2": "4",
                  "3": "2010-01-31"
                },
                {
                  "0": "259",
                  "1": "Buyer",
                  "2": "4",
                  "3": "2010-03-09"
                },
                {
                  "0": "260",
                  "1": "Purchasing Assistant",
                  "2": "4",
                  "3": "2010-12-06"
                },
                {
                  "0": "261",
                  "1": "Purchasing Assistant",
                  "2": "4",
                  "3": "2010-12-25"
                },
                {
                  "0": "262",
                  "1": "Assistant to the Chief Financial Officer",
                  "2": "2",
                  "3": "2009-01-12"
                },
                {
                  "0": "263",
                  "1": "Information Services Manager",
                  "2": "1",
                  "3": "2008-12-11"
                },
                {
                  "0": "264",
                  "1": "Network Manager",
                  "2": "2",
                  "3": "2009-02-04"
                },
                {
                  "0": "265",
                  "1": "Network Administrator",
                  "2": "3",
                  "3": "2008-12-04"
                },
                {
                  "0": "266",
                  "1": "Network Administrator",
                  "2": "3",
                  "3": "2009-02-23"
                },
                {
                  "0": "267",
                  "1": "Application Specialist",
                  "2": "2",
                  "3": "2009-02-16"
                },
                {
                  "0": "268",
                  "1": "Application Specialist",
                  "2": "2",
                  "3": "2009-02-03"
                },
                {
                  "0": "269",
                  "1": "Application Specialist",
                  "2": "2",
                  "3": "2009-01-11"
                },
                {
                  "0": "270",
                  "1": "Database Administrator",
                  "2": "2",
                  "3": "2009-01-17"
                },
                {
                  "0": "271",
                  "1": "Database Administrator",
                  "2": "2",
                  "3": "2009-01-22"
                },
                {
                  "0": "272",
                  "1": "Application Specialist",
                  "2": "2",
                  "3": "2008-12-23"
                },
                {
                  "0": "273",
                  "1": "Vice President of Sales",
                  "2": "1",
                  "3": "2011-02-15"
                },
                {
                  "0": "274",
                  "1": "North American Sales Manager",
                  "2": "2",
                  "3": "2011-01-04"
                },
                {
                  "0": "275",
                  "1": "Sales Representative",
                  "2": "3",
                  "3": "2011-05-31"
                },
                {
                  "0": "276",
                  "1": "Sales Representative",
                  "2": "3",
                  "3": "2011-05-31"
                },
                {
                  "0": "277",
                  "1": "Sales Representative",
                  "2": "3",
                  "3": "2011-05-31"
                },
                {
                  "0": "278",
                  "1": "Sales Representative",
                  "2": "3",
                  "3": "2011-05-31"
                },
                {
                  "0": "279",
                  "1": "Sales Representative",
                  "2": "3",
                  "3": "2011-05-31"
                },
                {
                  "0": "280",
                  "1": "Sales Representative",
                  "2": "3",
                  "3": "2011-05-31"
                },
                {
                  "0": "281",
                  "1": "Sales Representative",
                  "2": "3",
                  "3": "2011-05-31"
                },
                {
                  "0": "282",
                  "1": "Sales Representative",
                  "2": "3",
                  "3": "2011-05-31"
                },
                {
                  "0": "283",
                  "1": "Sales Representative",
                  "2": "3",
                  "3": "2011-05-31"
                },
                {
                  "0": "284",
                  "1": "Sales Representative",
                  "2": "3",
                  "3": "2012-09-30"
                },
                {
                  "0": "285",
                  "1": "Pacific Sales Manager",
                  "2": "2",
                  "3": "2013-03-14"
                },
                {
                  "0": "286",
                  "1": "Sales Representative",
                  "2": "3",
                  "3": "2013-05-30"
                },
                {
                  "0": "287",
                  "1": "European Sales Manager",
                  "2": "2",
                  "3": "2012-04-16"
                },
                {
                  "0": "288",
                  "1": "Sales Representative",
                  "2": "3",
                  "3": "2013-05-30"
                },
                {
                  "0": "289",
                  "1": "Sales Representative",
                  "2": "3",
                  "3": "2012-05-30"
                },
                {
                  "0": "290",
                  "1": "Sales Representative",
                  "2": "3",
                  "3": "2012-05-30"
                }
              ]
            },
            "text/html": "<table><tr><th>BusinessEntityID</th><th>JobTitle</th><th>OrganizationLevel</th><th>HireDate</th></tr><tr><td>1</td><td>Chief Executive Officer</td><td>NULL</td><td>2009-01-14</td></tr><tr><td>2</td><td>Vice President of Engineering</td><td>1</td><td>2008-01-31</td></tr><tr><td>3</td><td>Engineering Manager</td><td>2</td><td>2007-11-11</td></tr><tr><td>4</td><td>Senior Tool Designer</td><td>3</td><td>2007-12-05</td></tr><tr><td>5</td><td>Design Engineer</td><td>3</td><td>2008-01-06</td></tr><tr><td>6</td><td>Design Engineer</td><td>3</td><td>2008-01-24</td></tr><tr><td>7</td><td>Research and Development Manager</td><td>3</td><td>2009-02-08</td></tr><tr><td>8</td><td>Research and Development Engineer</td><td>4</td><td>2008-12-29</td></tr><tr><td>9</td><td>Research and Development Engineer</td><td>4</td><td>2009-01-16</td></tr><tr><td>10</td><td>Research and Development Manager</td><td>4</td><td>2009-05-03</td></tr><tr><td>11</td><td>Senior Tool Designer</td><td>3</td><td>2010-12-05</td></tr><tr><td>12</td><td>Tool Designer</td><td>4</td><td>2007-12-11</td></tr><tr><td>13</td><td>Tool Designer</td><td>4</td><td>2010-12-23</td></tr><tr><td>14</td><td>Senior Design Engineer</td><td>3</td><td>2010-12-30</td></tr><tr><td>15</td><td>Design Engineer</td><td>3</td><td>2011-01-18</td></tr><tr><td>16</td><td>Marketing Manager</td><td>1</td><td>2007-12-20</td></tr><tr><td>17</td><td>Marketing Assistant</td><td>2</td><td>2007-01-26</td></tr><tr><td>18</td><td>Marketing Specialist</td><td>2</td><td>2011-02-07</td></tr><tr><td>19</td><td>Marketing Assistant</td><td>2</td><td>2011-02-14</td></tr><tr><td>20</td><td>Marketing Assistant</td><td>2</td><td>2011-01-07</td></tr><tr><td>21</td><td>Marketing Specialist</td><td>2</td><td>2009-03-02</td></tr><tr><td>22</td><td>Marketing Specialist</td><td>2</td><td>2008-12-12</td></tr><tr><td>23</td><td>Marketing Specialist</td><td>2</td><td>2009-01-12</td></tr><tr><td>24</td><td>Marketing Specialist</td><td>2</td><td>2009-01-18</td></tr><tr><td>25</td><td>Vice President of Production</td><td>1</td><td>2009-02-03</td></tr><tr><td>26</td><td>Production Control Manager</td><td>2</td><td>2008-12-01</td></tr><tr><td>27</td><td>Production Supervisor - WC60</td><td>3</td><td>2008-02-27</td></tr><tr><td>28</td><td>Production Technician - WC60</td><td>4</td><td>2006-06-30</td></tr><tr><td>29</td><td>Production Technician - WC60</td><td>4</td><td>2009-01-23</td></tr><tr><td>30</td><td>Production Technician - WC60</td><td>4</td><td>2009-01-29</td></tr><tr><td>31</td><td>Production Technician - WC60</td><td>4</td><td>2009-01-04</td></tr><tr><td>32</td><td>Production Technician - WC60</td><td>4</td><td>2008-12-29</td></tr><tr><td>33</td><td>Production Technician - WC60</td><td>4</td><td>2008-12-17</td></tr><tr><td>34</td><td>Production Technician - WC60</td><td>4</td><td>2009-02-16</td></tr><tr><td>35</td><td>Production Technician - WC60</td><td>4</td><td>2009-02-08</td></tr><tr><td>36</td><td>Production Technician - WC60</td><td>4</td><td>2009-02-10</td></tr><tr><td>37</td><td>Production Technician - WC60</td><td>4</td><td>2009-03-07</td></tr><tr><td>38</td><td>Production Technician - WC60</td><td>4</td><td>2010-01-16</td></tr><tr><td>39</td><td>Production Technician - WC60</td><td>4</td><td>2010-02-05</td></tr><tr><td>40</td><td>Production Supervisor - WC60</td><td>3</td><td>2007-12-26</td></tr><tr><td>41</td><td>Production Technician - WC60</td><td>4</td><td>2009-01-21</td></tr><tr><td>42</td><td>Production Technician - WC60</td><td>4</td><td>2008-12-27</td></tr><tr><td>43</td><td>Production Technician - WC60</td><td>4</td><td>2009-01-02</td></tr><tr><td>44</td><td>Production Technician - WC60</td><td>4</td><td>2008-12-08</td></tr><tr><td>45</td><td>Production Technician - WC60</td><td>4</td><td>2009-02-26</td></tr><tr><td>46</td><td>Production Technician - WC60</td><td>4</td><td>2009-02-08</td></tr><tr><td>47</td><td>Production Supervisor - WC10</td><td>3</td><td>2009-02-22</td></tr><tr><td>48</td><td>Production Technician - WC10</td><td>4</td><td>2008-01-06</td></tr><tr><td>49</td><td>Production Technician - WC10</td><td>4</td><td>2008-01-07</td></tr><tr><td>50</td><td>Production Technician - WC10</td><td>4</td><td>2008-02-02</td></tr><tr><td>51</td><td>Production Technician - WC10</td><td>4</td><td>2008-02-20</td></tr><tr><td>52</td><td>Production Technician - WC10</td><td>4</td><td>2008-03-10</td></tr><tr><td>53</td><td>Production Technician - WC10</td><td>4</td><td>2008-03-28</td></tr><tr><td>54</td><td>Production Technician - WC10</td><td>4</td><td>2010-01-01</td></tr><tr><td>55</td><td>Production Supervisor - WC50</td><td>3</td><td>2008-02-08</td></tr><tr><td>56</td><td>Production Technician - WC50</td><td>4</td><td>2009-02-05</td></tr><tr><td>57</td><td>Production Technician - WC50</td><td>4</td><td>2009-02-23</td></tr><tr><td>58</td><td>Production Technician - WC50</td><td>4</td><td>2008-12-05</td></tr><tr><td>59</td><td>Production Technician - WC50</td><td>4</td><td>2008-12-24</td></tr><tr><td>60</td><td>Production Technician - WC50</td><td>4</td><td>2009-01-11</td></tr><tr><td>61</td><td>Production Technician - WC50</td><td>4</td><td>2009-01-18</td></tr><tr><td>62</td><td>Production Supervisor - WC60</td><td>3</td><td>2008-03-17</td></tr><tr><td>63</td><td>Production Technician - WC60</td><td>4</td><td>2010-01-29</td></tr><tr><td>64</td><td>Production Technician - WC60</td><td>4</td><td>2010-02-23</td></tr><tr><td>65</td><td>Production Technician - WC60</td><td>4</td><td>2010-02-23</td></tr><tr><td>66</td><td>Production Technician - WC60</td><td>4</td><td>2009-12-22</td></tr><tr><td>67</td><td>Production Technician - WC60</td><td>4</td><td>2009-03-05</td></tr><tr><td>68</td><td>Production Technician - WC60</td><td>4</td><td>2009-12-03</td></tr><tr><td>69</td><td>Production Technician - WC60</td><td>4</td><td>2009-02-15</td></tr><tr><td>70</td><td>Production Technician - WC60</td><td>4</td><td>2008-12-15</td></tr><tr><td>71</td><td>Production Supervisor - WC30</td><td>3</td><td>2009-02-15</td></tr><tr><td>72</td><td>Production Technician - WC30</td><td>4</td><td>2008-12-01</td></tr><tr><td>73</td><td>Production Technician - WC30</td><td>4</td><td>2008-12-19</td></tr><tr><td>74</td><td>Production Technician - WC30</td><td>4</td><td>2009-01-07</td></tr><tr><td>75</td><td>Production Technician - WC30</td><td>4</td><td>2009-01-26</td></tr><tr><td>76</td><td>Production Technician - WC30</td><td>4</td><td>2009-02-12</td></tr><tr><td>77</td><td>Production Technician - WC30</td><td>4</td><td>2009-03-03</td></tr><tr><td>78</td><td>Production Supervisor - WC40</td><td>3</td><td>2008-12-15</td></tr><tr><td>79</td><td>Production Technician - WC40</td><td>4</td><td>2010-01-24</td></tr><tr><td>80</td><td>Production Technician - WC40</td><td>4</td><td>2010-01-17</td></tr><tr><td>81</td><td>Production Technician - WC40</td><td>4</td><td>2009-12-29</td></tr><tr><td>82</td><td>Production Technician - WC40</td><td>4</td><td>2010-03-03</td></tr><tr><td>83</td><td>Production Technician - WC40</td><td>4</td><td>2010-02-12</td></tr><tr><td>84</td><td>Production Technician - WC40</td><td>4</td><td>2010-02-05</td></tr><tr><td>85</td><td>Production Technician - WC40</td><td>4</td><td>2009-12-11</td></tr><tr><td>86</td><td>Production Technician - WC40</td><td>4</td><td>2009-01-05</td></tr><tr><td>87</td><td>Production Supervisor - WC10</td><td>3</td><td>2008-12-22</td></tr><tr><td>88</td><td>Production Technician - WC10</td><td>4</td><td>2009-12-18</td></tr><tr><td>89</td><td>Production Technician - WC10</td><td>4</td><td>2010-02-01</td></tr><tr><td>90</td><td>Production Technician - WC10</td><td>4</td><td>2010-02-20</td></tr><tr><td>91</td><td>Production Technician - WC10</td><td>4</td><td>2010-01-12</td></tr><tr><td>92</td><td>Production Technician - WC10</td><td>4</td><td>2010-03-10</td></tr><tr><td>93</td><td>Production Supervisor - WC50</td><td>3</td><td>2008-12-27</td></tr><tr><td>94</td><td>Production Technician - WC50</td><td>4</td><td>2008-12-12</td></tr><tr><td>95</td><td>Production Technician - WC50</td><td>4</td><td>2008-12-19</td></tr><tr><td>96</td><td>Production Technician - WC50</td><td>4</td><td>2009-03-02</td></tr><tr><td>97</td><td>Production Technician - WC50</td><td>4</td><td>2009-02-10</td></tr><tr><td>98</td><td>Production Technician - WC50</td><td>4</td><td>2009-02-11</td></tr><tr><td>99</td><td>Production Technician - WC50</td><td>4</td><td>2009-01-06</td></tr><tr><td>100</td><td>Production Technician - WC50</td><td>4</td><td>2009-01-12</td></tr><tr><td>101</td><td>Production Technician - WC50</td><td>4</td><td>2009-01-25</td></tr><tr><td>102</td><td>Production Supervisor - WC10</td><td>3</td><td>2008-12-03</td></tr><tr><td>103</td><td>Production Technician - WC10</td><td>4</td><td>2009-12-06</td></tr><tr><td>104</td><td>Production Technician - WC10</td><td>4</td><td>2009-12-25</td></tr><tr><td>105</td><td>Production Technician - WC10</td><td>4</td><td>2009-12-25</td></tr><tr><td>106</td><td>Production Technician - WC10</td><td>4</td><td>2010-02-27</td></tr><tr><td>107</td><td>Production Technician - WC10</td><td>4</td><td>2010-02-08</td></tr><tr><td>108</td><td>Production Supervisor - WC50</td><td>3</td><td>2008-12-08</td></tr><tr><td>109</td><td>Production Technician - WC50</td><td>4</td><td>2008-12-07</td></tr><tr><td>110</td><td>Production Technician - WC50</td><td>4</td><td>2008-12-14</td></tr><tr><td>111</td><td>Production Technician - WC50</td><td>4</td><td>2008-12-17</td></tr><tr><td>112</td><td>Production Technician - WC50</td><td>4</td><td>2009-01-01</td></tr><tr><td>113</td><td>Production Technician - WC50</td><td>4</td><td>2008-12-25</td></tr><tr><td>114</td><td>Production Technician - WC50</td><td>4</td><td>2009-01-13</td></tr><tr><td>115</td><td>Production Technician - WC50</td><td>4</td><td>2009-01-20</td></tr><tr><td>116</td><td>Production Technician - WC50</td><td>4</td><td>2009-01-31</td></tr><tr><td>117</td><td>Production Technician - WC50</td><td>4</td><td>2009-02-18</td></tr><tr><td>118</td><td>Production Technician - WC50</td><td>4</td><td>2009-02-13</td></tr><tr><td>119</td><td>Production Technician - WC50</td><td>4</td><td>2009-02-25</td></tr><tr><td>120</td><td>Production Technician - WC50</td><td>4</td><td>2009-03-04</td></tr><tr><td>121</td><td>Shipping and Receiving Supervisor</td><td>3</td><td>2009-01-02</td></tr><tr><td>122</td><td>Stocker</td><td>4</td><td>2008-12-07</td></tr><tr><td>123</td><td>Shipping and Receiving Clerk</td><td>4</td><td>2008-12-07</td></tr><tr><td>124</td><td>Stocker</td><td>4</td><td>2008-12-26</td></tr><tr><td>125</td><td>Shipping and Receiving Clerk</td><td>4</td><td>2009-01-20</td></tr><tr><td>126</td><td>Stocker</td><td>4</td><td>2009-02-26</td></tr><tr><td>127</td><td>Production Supervisor - WC40</td><td>3</td><td>2009-01-03</td></tr><tr><td>128</td><td>Production Technician - WC40</td><td>4</td><td>2008-12-04</td></tr><tr><td>129</td><td>Production Technician - WC40</td><td>4</td><td>2008-12-22</td></tr><tr><td>130</td><td>Production Technician - WC40</td><td>4</td><td>2009-02-13</td></tr><tr><td>131</td><td>Production Technician - WC40</td><td>4</td><td>2009-02-15</td></tr><tr><td>132</td><td>Production Technician - WC40</td><td>4</td><td>2009-02-22</td></tr><tr><td>133</td><td>Production Technician - WC40</td><td>4</td><td>2009-01-10</td></tr><tr><td>134</td><td>Production Supervisor - WC20</td><td>3</td><td>2009-01-14</td></tr><tr><td>135</td><td>Production Technician - WC20</td><td>4</td><td>2008-12-04</td></tr><tr><td>136</td><td>Production Technician - WC20</td><td>4</td><td>2009-12-11</td></tr><tr><td>137</td><td>Production Technician - WC20</td><td>4</td><td>2009-02-23</td></tr><tr><td>138</td><td>Production Technician - WC20</td><td>4</td><td>2009-02-04</td></tr><tr><td>139</td><td>Production Technician - WC20</td><td>4</td><td>2010-01-06</td></tr><tr><td>140</td><td>Production Technician - WC20</td><td>4</td><td>2010-01-22</td></tr><tr><td>141</td><td>Production Technician - WC20</td><td>4</td><td>2010-01-24</td></tr><tr><td>142</td><td>Production Technician - WC20</td><td>4</td><td>2010-03-04</td></tr><tr><td>143</td><td>Production Technician - WC20</td><td>4</td><td>2010-02-13</td></tr><tr><td>144</td><td>Production Technician - WC20</td><td>4</td><td>2009-01-17</td></tr><tr><td>145</td><td>Production Supervisor - WC30</td><td>3</td><td>2009-01-27</td></tr><tr><td>146</td><td>Production Technician - WC30</td><td>4</td><td>2008-12-07</td></tr><tr><td>147</td><td>Production Technician - WC30</td><td>4</td><td>2008-12-26</td></tr><tr><td>148</td><td>Production Technician - WC30</td><td>4</td><td>2009-01-14</td></tr><tr><td>149</td><td>Production Technician - WC30</td><td>4</td><td>2009-01-31</td></tr><tr><td>150</td><td>Production Technician - WC30</td><td>4</td><td>2009-02-26</td></tr><tr><td>151</td><td>Production Technician - WC30</td><td>4</td><td>2009-02-19</td></tr><tr><td>152</td><td>Production Supervisor - WC20</td><td>3</td><td>2009-02-01</td></tr><tr><td>153</td><td>Production Technician - WC20</td><td>4</td><td>2008-12-16</td></tr><tr><td>154</td><td>Production Technician - WC20</td><td>4</td><td>2008-12-23</td></tr><tr><td>155</td><td>Production Technician - WC20</td><td>4</td><td>2009-01-04</td></tr><tr><td>156</td><td>Production Technician - WC20</td><td>4</td><td>2009-01-11</td></tr><tr><td>157</td><td>Production Technician - WC20</td><td>4</td><td>2009-02-03</td></tr><tr><td>158</td><td>Production Technician - WC20</td><td>4</td><td>2009-03-07</td></tr><tr><td>159</td><td>Production Technician - WC20</td><td>4</td><td>2009-02-16</td></tr><tr><td>160</td><td>Production Supervisor - WC45</td><td>3</td><td>2009-01-21</td></tr><tr><td>161</td><td>Production Technician - WC45</td><td>4</td><td>2008-12-15</td></tr><tr><td>162</td><td>Production Technician - WC45</td><td>4</td><td>2009-01-03</td></tr><tr><td>163</td><td>Production Technician - WC45</td><td>4</td><td>2009-02-08</td></tr><tr><td>164</td><td>Production Technician - WC45</td><td>4</td><td>2009-03-06</td></tr><tr><td>165</td><td>Production Technician - WC45</td><td>4</td><td>2009-01-22</td></tr><tr><td>166</td><td>Production Supervisor - WC30</td><td>3</td><td>2009-02-21</td></tr><tr><td>167</td><td>Production Technician - WC30</td><td>4</td><td>2008-12-02</td></tr><tr><td>168</td><td>Production Technician - WC30</td><td>4</td><td>2008-12-07</td></tr><tr><td>169</td><td>Production Technician - WC30</td><td>4</td><td>2008-12-14</td></tr><tr><td>170</td><td>Production Technician - WC30</td><td>4</td><td>2008-12-21</td></tr><tr><td>171</td><td>Production Technician - WC30</td><td>4</td><td>2009-01-02</td></tr><tr><td>172</td><td>Production Technician - WC30</td><td>4</td><td>2009-01-16</td></tr><tr><td>173</td><td>Production Technician - WC30</td><td>4</td><td>2009-01-21</td></tr><tr><td>174</td><td>Production Technician - WC30</td><td>4</td><td>2009-01-27</td></tr><tr><td>175</td><td>Production Technician - WC30</td><td>4</td><td>2009-02-02</td></tr><tr><td>176</td><td>Production Technician - WC30</td><td>4</td><td>2009-02-14</td></tr><tr><td>177</td><td>Production Technician - WC30</td><td>4</td><td>2009-02-21</td></tr><tr><td>178</td><td>Production Technician - WC30</td><td>4</td><td>2009-03-03</td></tr><tr><td>179</td><td>Production Technician - WC30</td><td>4</td><td>2009-03-05</td></tr><tr><td>180</td><td>Production Supervisor - WC20</td><td>3</td><td>2009-02-20</td></tr><tr><td>181</td><td>Production Technician - WC20</td><td>4</td><td>2008-12-09</td></tr><tr><td>182</td><td>Production Technician - WC20</td><td>4</td><td>2008-12-28</td></tr><tr><td>183</td><td>Production Technician - WC20</td><td>4</td><td>2009-01-22</td></tr><tr><td>184</td><td>Production Technician - WC20</td><td>4</td><td>2009-02-09</td></tr><tr><td>185</td><td>Production Technician - WC20</td><td>4</td><td>2009-02-28</td></tr><tr><td>186</td><td>Production Supervisor - WC45</td><td>3</td><td>2009-02-08</td></tr><tr><td>187</td><td>Production Technician - WC45</td><td>4</td><td>2008-12-09</td></tr><tr><td>188</td><td>Production Technician - WC45</td><td>4</td><td>2008-12-27</td></tr><tr><td>189</td><td>Production Technician - WC45</td><td>4</td><td>2009-01-15</td></tr><tr><td>190</td><td>Production Technician - WC45</td><td>4</td><td>2009-02-02</td></tr><tr><td>191</td><td>Production Technician - WC45</td><td>4</td><td>2009-02-26</td></tr><tr><td>192</td><td>Production Supervisor - WC40</td><td>3</td><td>2009-03-05</td></tr><tr><td>193</td><td>Production Technician - WC40</td><td>4</td><td>2008-12-06</td></tr><tr><td>194</td><td>Production Technician - WC40</td><td>4</td><td>2008-12-12</td></tr><tr><td>195</td><td>Production Technician - WC40</td><td>4</td><td>2008-12-17</td></tr><tr><td>196</td><td>Production Technician - WC40</td><td>4</td><td>2008-12-24</td></tr><tr><td>197</td><td>Production Technician - WC40</td><td>4</td><td>2008-12-31</td></tr><tr><td>198</td><td>Production Technician - WC40</td><td>4</td><td>2009-01-04</td></tr><tr><td>199</td><td>Production Technician - WC40</td><td>4</td><td>2009-01-12</td></tr><tr><td>200</td><td>Production Technician - WC40</td><td>4</td><td>2009-01-17</td></tr><tr><td>201</td><td>Production Technician - WC40</td><td>4</td><td>2009-01-29</td></tr><tr><td>202</td><td>Production Technician - WC40</td><td>4</td><td>2009-02-05</td></tr><tr><td>203</td><td>Production Technician - WC40</td><td>4</td><td>2009-02-24</td></tr><tr><td>204</td><td>Production Technician - WC40</td><td>4</td><td>2009-03-08</td></tr><tr><td>205</td><td>Production Supervisor - WC45</td><td>3</td><td>2009-02-26</td></tr><tr><td>206</td><td>Production Technician - WC45</td><td>4</td><td>2008-12-02</td></tr><tr><td>207</td><td>Production Technician - WC45</td><td>4</td><td>2008-12-02</td></tr><tr><td>208</td><td>Production Technician - WC45</td><td>4</td><td>2009-01-08</td></tr><tr><td>209</td><td>Production Technician - WC45</td><td>4</td><td>2009-01-27</td></tr><tr><td>210</td><td>Production Technician - WC45</td><td>4</td><td>2009-02-20</td></tr><tr><td>211</td><td>Quality Assurance Manager</td><td>2</td><td>2009-02-28</td></tr><tr><td>212</td><td>Quality Assurance Supervisor</td><td>3</td><td>2008-12-09</td></tr><tr><td>213</td><td>Quality Assurance Technician</td><td>4</td><td>2010-02-23</td></tr><tr><td>214</td><td>Quality Assurance Technician</td><td>4</td><td>2009-02-02</td></tr><tr><td>215</td><td>Quality Assurance Technician</td><td>4</td><td>2009-01-15</td></tr><tr><td>216</td><td>Quality Assurance Technician</td><td>4</td><td>2008-12-28</td></tr><tr><td>217</td><td>Document Control Manager</td><td>3</td><td>2009-01-04</td></tr><tr><td>218</td><td>Control Specialist</td><td>4</td><td>2008-12-16</td></tr><tr><td>219</td><td>Document Control Assistant</td><td>4</td><td>2009-01-22</td></tr><tr><td>220</td><td>Document Control Assistant</td><td>4</td><td>2009-02-09</td></tr><tr><td>221</td><td>Control Specialist</td><td>4</td><td>2009-03-06</td></tr><tr><td>222</td><td>Master Scheduler</td><td>2</td><td>2008-12-12</td></tr><tr><td>223</td><td>Scheduling Assistant</td><td>3</td><td>2009-01-26</td></tr><tr><td>224</td><td>Scheduling Assistant</td><td>3</td><td>2009-01-07</td></tr><tr><td>225</td><td>Scheduling Assistant</td><td>3</td><td>2009-02-13</td></tr><tr><td>226</td><td>Scheduling Assistant</td><td>3</td><td>2009-03-03</td></tr><tr><td>227</td><td>Facilities Manager</td><td>2</td><td>2009-12-02</td></tr><tr><td>228</td><td>Maintenance Supervisor</td><td>3</td><td>2008-12-14</td></tr><tr><td>229</td><td>Janitor</td><td>4</td><td>2010-02-16</td></tr><tr><td>230</td><td>Janitor</td><td>4</td><td>2010-03-05</td></tr><tr><td>231</td><td>Janitor</td><td>4</td><td>2010-03-07</td></tr><tr><td>232</td><td>Janitor</td><td>4</td><td>2010-01-27</td></tr><tr><td>233</td><td>Facilities Administrative Assistant</td><td>3</td><td>2009-12-21</td></tr><tr><td>234</td><td>Chief Financial Officer</td><td>1</td><td>2009-01-31</td></tr><tr><td>235</td><td>Human Resources Manager</td><td>2</td><td>2008-12-06</td></tr><tr><td>236</td><td>Human Resources Administrative Assistant</td><td>3</td><td>2009-02-25</td></tr><tr><td>237</td><td>Human Resources Administrative Assistant</td><td>3</td><td>2009-02-06</td></tr><tr><td>238</td><td>Recruiter</td><td>3</td><td>2009-01-01</td></tr><tr><td>239</td><td>Benefits Specialist</td><td>3</td><td>2008-12-25</td></tr><tr><td>240</td><td>Recruiter</td><td>3</td><td>2008-12-13</td></tr><tr><td>241</td><td>Accounts Manager</td><td>2</td><td>2009-01-30</td></tr><tr><td>242</td><td>Accounts Receivable Specialist</td><td>3</td><td>2008-12-18</td></tr><tr><td>243</td><td>Accounts Receivable Specialist</td><td>3</td><td>2009-01-06</td></tr><tr><td>244</td><td>Accounts Receivable Specialist</td><td>3</td><td>2009-01-24</td></tr><tr><td>245</td><td>Accountant</td><td>3</td><td>2009-02-18</td></tr><tr><td>246</td><td>Accounts Payable Specialist</td><td>3</td><td>2009-02-11</td></tr><tr><td>247</td><td>Accounts Payable Specialist</td><td>3</td><td>2009-03-01</td></tr><tr><td>248</td><td>Accountant</td><td>3</td><td>2009-03-08</td></tr><tr><td>249</td><td>Finance Manager</td><td>2</td><td>2008-12-25</td></tr><tr><td>250</td><td>Purchasing Manager</td><td>3</td><td>2011-02-25</td></tr><tr><td>251</td><td>Buyer</td><td>4</td><td>2009-02-10</td></tr><tr><td>252</td><td>Buyer</td><td>4</td><td>2009-02-28</td></tr><tr><td>253</td><td>Buyer</td><td>4</td><td>2009-12-17</td></tr><tr><td>254</td><td>Buyer</td><td>4</td><td>2010-01-04</td></tr><tr><td>255</td><td>Buyer</td><td>4</td><td>2010-01-11</td></tr><tr><td>256</td><td>Buyer</td><td>4</td><td>2010-01-23</td></tr><tr><td>257</td><td>Buyer</td><td>4</td><td>2010-01-27</td></tr><tr><td>258</td><td>Buyer</td><td>4</td><td>2010-01-31</td></tr><tr><td>259</td><td>Buyer</td><td>4</td><td>2010-03-09</td></tr><tr><td>260</td><td>Purchasing Assistant</td><td>4</td><td>2010-12-06</td></tr><tr><td>261</td><td>Purchasing Assistant</td><td>4</td><td>2010-12-25</td></tr><tr><td>262</td><td>Assistant to the Chief Financial Officer</td><td>2</td><td>2009-01-12</td></tr><tr><td>263</td><td>Information Services Manager</td><td>1</td><td>2008-12-11</td></tr><tr><td>264</td><td>Network Manager</td><td>2</td><td>2009-02-04</td></tr><tr><td>265</td><td>Network Administrator</td><td>3</td><td>2008-12-04</td></tr><tr><td>266</td><td>Network Administrator</td><td>3</td><td>2009-02-23</td></tr><tr><td>267</td><td>Application Specialist</td><td>2</td><td>2009-02-16</td></tr><tr><td>268</td><td>Application Specialist</td><td>2</td><td>2009-02-03</td></tr><tr><td>269</td><td>Application Specialist</td><td>2</td><td>2009-01-11</td></tr><tr><td>270</td><td>Database Administrator</td><td>2</td><td>2009-01-17</td></tr><tr><td>271</td><td>Database Administrator</td><td>2</td><td>2009-01-22</td></tr><tr><td>272</td><td>Application Specialist</td><td>2</td><td>2008-12-23</td></tr><tr><td>273</td><td>Vice President of Sales</td><td>1</td><td>2011-02-15</td></tr><tr><td>274</td><td>North American Sales Manager</td><td>2</td><td>2011-01-04</td></tr><tr><td>275</td><td>Sales Representative</td><td>3</td><td>2011-05-31</td></tr><tr><td>276</td><td>Sales Representative</td><td>3</td><td>2011-05-31</td></tr><tr><td>277</td><td>Sales Representative</td><td>3</td><td>2011-05-31</td></tr><tr><td>278</td><td>Sales Representative</td><td>3</td><td>2011-05-31</td></tr><tr><td>279</td><td>Sales Representative</td><td>3</td><td>2011-05-31</td></tr><tr><td>280</td><td>Sales Representative</td><td>3</td><td>2011-05-31</td></tr><tr><td>281</td><td>Sales Representative</td><td>3</td><td>2011-05-31</td></tr><tr><td>282</td><td>Sales Representative</td><td>3</td><td>2011-05-31</td></tr><tr><td>283</td><td>Sales Representative</td><td>3</td><td>2011-05-31</td></tr><tr><td>284</td><td>Sales Representative</td><td>3</td><td>2012-09-30</td></tr><tr><td>285</td><td>Pacific Sales Manager</td><td>2</td><td>2013-03-14</td></tr><tr><td>286</td><td>Sales Representative</td><td>3</td><td>2013-05-30</td></tr><tr><td>287</td><td>European Sales Manager</td><td>2</td><td>2012-04-16</td></tr><tr><td>288</td><td>Sales Representative</td><td>3</td><td>2013-05-30</td></tr><tr><td>289</td><td>Sales Representative</td><td>3</td><td>2012-05-30</td></tr><tr><td>290</td><td>Sales Representative</td><td>3</td><td>2012-05-30</td></tr></table>"
          },
          "metadata": {}
        }
      ],
      "execution_count": null
    },
    {
      "cell_type": "code",
      "source": [
        "/* \" SELECT * \" means select all columns/fields from the table*/ \n",
        "\n",
        "SELECT * \n",
        "FROM HumanResources.Employee"
      ],
      "metadata": {
        "azdata_cell_guid": "1c3cf386-6ff4-47f1-ac47-b9af7b39a4c1",
        "language": "sql",
        "id": "bnZg1Dm6YNEG",
        "outputId": "6456d5c7-ce83-4464-b14a-7f1d15e00fcc"
      },
      "outputs": [
        {
          "output_type": "display_data",
          "data": {
            "text/html": "(290 rows affected)"
          },
          "metadata": {}
        },
        {
          "output_type": "display_data",
          "data": {
            "text/html": "Total execution time: 00:00:00.014"
          },
          "metadata": {}
        },
        {
          "output_type": "execute_result",
          "execution_count": 1,
          "data": {
            "application/vnd.dataresource+json": {
              "schema": {
                "fields": [
                  {
                    "name": "BusinessEntityID"
                  },
                  {
                    "name": "NationalIDNumber"
                  },
                  {
                    "name": "LoginID"
                  },
                  {
                    "name": "OrganizationNode"
                  },
                  {
                    "name": "OrganizationLevel"
                  },
                  {
                    "name": "JobTitle"
                  },
                  {
                    "name": "BirthDate"
                  },
                  {
                    "name": "MaritalStatus"
                  },
                  {
                    "name": "Gender"
                  },
                  {
                    "name": "HireDate"
                  },
                  {
                    "name": "SalariedFlag"
                  },
                  {
                    "name": "VacationHours"
                  },
                  {
                    "name": "SickLeaveHours"
                  },
                  {
                    "name": "CurrentFlag"
                  },
                  {
                    "name": "rowguid"
                  },
                  {
                    "name": "ModifiedDate"
                  }
                ]
              },
              "data": [
                {
                  "0": "1",
                  "1": "295847284",
                  "2": "adventure-works\\ken0",
                  "3": "NULL",
                  "4": "NULL",
                  "5": "Chief Executive Officer",
                  "6": "1969-01-29",
                  "7": "S",
                  "8": "M",
                  "9": "2009-01-14",
                  "10": "1",
                  "11": "99",
                  "12": "69",
                  "13": "1",
                  "14": "f01251e5-96a3-448d-981e-0f99d789110d",
                  "15": "2014-06-30 00:00:00.000"
                },
                {
                  "0": "2",
                  "1": "245797967",
                  "2": "adventure-works\\terri0",
                  "3": "0x58",
                  "4": "1",
                  "5": "Vice President of Engineering",
                  "6": "1971-08-01",
                  "7": "S",
                  "8": "F",
                  "9": "2008-01-31",
                  "10": "1",
                  "11": "1",
                  "12": "20",
                  "13": "1",
                  "14": "45e8f437-670d-4409-93cb-f9424a40d6ee",
                  "15": "2014-06-30 00:00:00.000"
                },
                {
                  "0": "3",
                  "1": "509647174",
                  "2": "adventure-works\\roberto0",
                  "3": "0x5AC0",
                  "4": "2",
                  "5": "Engineering Manager",
                  "6": "1974-11-12",
                  "7": "M",
                  "8": "M",
                  "9": "2007-11-11",
                  "10": "1",
                  "11": "2",
                  "12": "21",
                  "13": "1",
                  "14": "9bbbfb2c-efbb-4217-9ab7-f97689328841",
                  "15": "2014-06-30 00:00:00.000"
                },
                {
                  "0": "4",
                  "1": "112457891",
                  "2": "adventure-works\\rob0",
                  "3": "0x5AD6",
                  "4": "3",
                  "5": "Senior Tool Designer",
                  "6": "1974-12-23",
                  "7": "S",
                  "8": "M",
                  "9": "2007-12-05",
                  "10": "0",
                  "11": "48",
                  "12": "80",
                  "13": "1",
                  "14": "59747955-87b8-443f-8ed4-f8ad3afdf3a9",
                  "15": "2014-06-30 00:00:00.000"
                },
                {
                  "0": "5",
                  "1": "695256908",
                  "2": "adventure-works\\gail0",
                  "3": "0x5ADA",
                  "4": "3",
                  "5": "Design Engineer",
                  "6": "1952-09-27",
                  "7": "M",
                  "8": "F",
                  "9": "2008-01-06",
                  "10": "1",
                  "11": "5",
                  "12": "22",
                  "13": "1",
                  "14": "ec84ae09-f9b8-4a15-b4a9-6ccbab919b08",
                  "15": "2014-06-30 00:00:00.000"
                },
                {
                  "0": "6",
                  "1": "998320692",
                  "2": "adventure-works\\jossef0",
                  "3": "0x5ADE",
                  "4": "3",
                  "5": "Design Engineer",
                  "6": "1959-03-11",
                  "7": "M",
                  "8": "M",
                  "9": "2008-01-24",
                  "10": "1",
                  "11": "6",
                  "12": "23",
                  "13": "1",
                  "14": "e39056f1-9cd5-478d-8945-14aca7fbdcdd",
                  "15": "2014-06-30 00:00:00.000"
                },
                {
                  "0": "7",
                  "1": "134969118",
                  "2": "adventure-works\\dylan0",
                  "3": "0x5AE1",
                  "4": "3",
                  "5": "Research and Development Manager",
                  "6": "1987-02-24",
                  "7": "M",
                  "8": "M",
                  "9": "2009-02-08",
                  "10": "1",
                  "11": "61",
                  "12": "50",
                  "13": "1",
                  "14": "4f46deca-ef01-41fd-9829-0adab368e431",
                  "15": "2014-06-30 00:00:00.000"
                },
                {
                  "0": "8",
                  "1": "811994146",
                  "2": "adventure-works\\diane1",
                  "3": "0x5AE158",
                  "4": "4",
                  "5": "Research and Development Engineer",
                  "6": "1986-06-05",
                  "7": "S",
                  "8": "F",
                  "9": "2008-12-29",
                  "10": "1",
                  "11": "62",
                  "12": "51",
                  "13": "1",
                  "14": "31112635-663b-4018-b4a2-a685c0bf48a4",
                  "15": "2014-06-30 00:00:00.000"
                },
                {
                  "0": "9",
                  "1": "658797903",
                  "2": "adventure-works\\gigi0",
                  "3": "0x5AE168",
                  "4": "4",
                  "5": "Research and Development Engineer",
                  "6": "1979-01-21",
                  "7": "M",
                  "8": "F",
                  "9": "2009-01-16",
                  "10": "1",
                  "11": "63",
                  "12": "51",
                  "13": "1",
                  "14": "50b6cdc6-7570-47ef-9570-48a64b5f2ecf",
                  "15": "2014-06-30 00:00:00.000"
                },
                {
                  "0": "10",
                  "1": "879342154",
                  "2": "adventure-works\\michael6",
                  "3": "0x5AE178",
                  "4": "4",
                  "5": "Research and Development Manager",
                  "6": "1984-11-30",
                  "7": "M",
                  "8": "M",
                  "9": "2009-05-03",
                  "10": "1",
                  "11": "16",
                  "12": "64",
                  "13": "1",
                  "14": "eaa43680-5571-40cb-ab1a-3bf68f04459e",
                  "15": "2014-06-30 00:00:00.000"
                },
                {
                  "0": "11",
                  "1": "974026903",
                  "2": "adventure-works\\ovidiu0",
                  "3": "0x5AE3",
                  "4": "3",
                  "5": "Senior Tool Designer",
                  "6": "1978-01-17",
                  "7": "S",
                  "8": "M",
                  "9": "2010-12-05",
                  "10": "0",
                  "11": "7",
                  "12": "23",
                  "13": "1",
                  "14": "f68c7c19-fac1-438c-9bb7-ac33fcc341c3",
                  "15": "2014-06-30 00:00:00.000"
                },
                {
                  "0": "12",
                  "1": "480168528",
                  "2": "adventure-works\\thierry0",
                  "3": "0x5AE358",
                  "4": "4",
                  "5": "Tool Designer",
                  "6": "1959-07-29",
                  "7": "M",
                  "8": "M",
                  "9": "2007-12-11",
                  "10": "0",
                  "11": "9",
                  "12": "24",
                  "13": "1",
                  "14": "1d955171-e773-4fad-8382-40fd898d5d4d",
                  "15": "2014-06-30 00:00:00.000"
                },
                {
                  "0": "13",
                  "1": "486228782",
                  "2": "adventure-works\\janice0",
                  "3": "0x5AE368",
                  "4": "4",
                  "5": "Tool Designer",
                  "6": "1989-05-28",
                  "7": "M",
                  "8": "F",
                  "9": "2010-12-23",
                  "10": "0",
                  "11": "8",
                  "12": "24",
                  "13": "1",
                  "14": "954b91b6-5aa7-48c2-8685-6e11c6e5c49a",
                  "15": "2014-06-30 00:00:00.000"
                },
                {
                  "0": "14",
                  "1": "42487730",
                  "2": "adventure-works\\michael8",
                  "3": "0x5AE5",
                  "4": "3",
                  "5": "Senior Design Engineer",
                  "6": "1979-06-16",
                  "7": "S",
                  "8": "M",
                  "9": "2010-12-30",
                  "10": "1",
                  "11": "3",
                  "12": "21",
                  "13": "1",
                  "14": "46286ca4-46dd-4ddb-9128-85b67e98d1a9",
                  "15": "2014-06-30 00:00:00.000"
                },
                {
                  "0": "15",
                  "1": "56920285",
                  "2": "adventure-works\\sharon0",
                  "3": "0x5AE7",
                  "4": "3",
                  "5": "Design Engineer",
                  "6": "1961-05-02",
                  "7": "M",
                  "8": "F",
                  "9": "2011-01-18",
                  "10": "1",
                  "11": "4",
                  "12": "22",
                  "13": "1",
                  "14": "54f2fdc0-87c4-4065-a7a8-9ac8ea624235",
                  "15": "2014-06-30 00:00:00.000"
                },
                {
                  "0": "16",
                  "1": "24756624",
                  "2": "adventure-works\\david0",
                  "3": "0x68",
                  "4": "1",
                  "5": "Marketing Manager",
                  "6": "1975-03-19",
                  "7": "S",
                  "8": "M",
                  "9": "2007-12-20",
                  "10": "1",
                  "11": "40",
                  "12": "40",
                  "13": "1",
                  "14": "e87029aa-2cba-4c03-b948-d83af0313e28",
                  "15": "2014-06-30 00:00:00.000"
                },
                {
                  "0": "17",
                  "1": "253022876",
                  "2": "adventure-works\\kevin0",
                  "3": "0x6AC0",
                  "4": "2",
                  "5": "Marketing Assistant",
                  "6": "1987-05-03",
                  "7": "S",
                  "8": "M",
                  "9": "2007-01-26",
                  "10": "0",
                  "11": "42",
                  "12": "41",
                  "13": "1",
                  "14": "1b480240-95c0-410f-a717-eb29943c8886",
                  "15": "2014-06-30 00:00:00.000"
                },
                {
                  "0": "18",
                  "1": "222969461",
                  "2": "adventure-works\\john5",
                  "3": "0x6B40",
                  "4": "2",
                  "5": "Marketing Specialist",
                  "6": "1978-03-06",
                  "7": "S",
                  "8": "M",
                  "9": "2011-02-07",
                  "10": "0",
                  "11": "48",
                  "12": "44",
                  "13": "1",
                  "14": "64730415-1f58-4e5b-8fa8-5e4daeba53b4",
                  "15": "2014-06-30 00:00:00.000"
                },
                {
                  "0": "19",
                  "1": "52541318",
                  "2": "adventure-works\\mary2",
                  "3": "0x6BC0",
                  "4": "2",
                  "5": "Marketing Assistant",
                  "6": "1978-01-29",
                  "7": "S",
                  "8": "F",
                  "9": "2011-02-14",
                  "10": "0",
                  "11": "43",
                  "12": "41",
                  "13": "1",
                  "14": "1f6da901-c7f7-48a8-8eef-d81868d72b52",
                  "15": "2014-06-30 00:00:00.000"
                },
                {
                  "0": "20",
                  "1": "323403273",
                  "2": "adventure-works\\wanida0",
                  "3": "0x6C20",
                  "4": "2",
                  "5": "Marketing Assistant",
                  "6": "1975-03-17",
                  "7": "M",
                  "8": "F",
                  "9": "2011-01-07",
                  "10": "0",
                  "11": "41",
                  "12": "40",
                  "13": "1",
                  "14": "43cca446-da1c-454c-8530-873ad2923e1b",
                  "15": "2014-06-30 00:00:00.000"
                },
                {
                  "0": "21",
                  "1": "243322160",
                  "2": "adventure-works\\terry0",
                  "3": "0x6C60",
                  "4": "2",
                  "5": "Marketing Specialist",
                  "6": "1986-02-04",
                  "7": "M",
                  "8": "M",
                  "9": "2009-03-02",
                  "10": "0",
                  "11": "44",
                  "12": "42",
                  "13": "1",
                  "14": "ad0d7626-4506-45c4-898f-9d7a0e13aabd",
                  "15": "2014-06-30 00:00:00.000"
                },
                {
                  "0": "22",
                  "1": "95958330",
                  "2": "adventure-works\\sariya0",
                  "3": "0x6CA0",
                  "4": "2",
                  "5": "Marketing Specialist",
                  "6": "1987-05-21",
                  "7": "S",
                  "8": "M",
                  "9": "2008-12-12",
                  "10": "0",
                  "11": "45",
                  "12": "42",
                  "13": "1",
                  "14": "af21f1b7-0691-48ad-b325-b8f2d7b2268a",
                  "15": "2014-06-30 00:00:00.000"
                },
                {
                  "0": "23",
                  "1": "767955365",
                  "2": "adventure-works\\mary0",
                  "3": "0x6CE0",
                  "4": "2",
                  "5": "Marketing Specialist",
                  "6": "1962-09-13",
                  "7": "M",
                  "8": "F",
                  "9": "2009-01-12",
                  "10": "0",
                  "11": "46",
                  "12": "43",
                  "13": "1",
                  "14": "90899830-127e-4876-85ca-7f6e03025281",
                  "15": "2014-06-30 00:00:00.000"
                },
                {
                  "0": "24",
                  "1": "72636981",
                  "2": "adventure-works\\jill0",
                  "3": "0x6D10",
                  "4": "2",
                  "5": "Marketing Specialist",
                  "6": "1979-06-18",
                  "7": "M",
                  "8": "F",
                  "9": "2009-01-18",
                  "10": "0",
                  "11": "47",
                  "12": "43",
                  "13": "1",
                  "14": "53575c58-fba1-4c1a-b8ff-95e050b44393",
                  "15": "2014-06-30 00:00:00.000"
                },
                {
                  "0": "25",
                  "1": "519899904",
                  "2": "adventure-works\\james1",
                  "3": "0x78",
                  "4": "1",
                  "5": "Vice President of Production",
                  "6": "1983-01-07",
                  "7": "S",
                  "8": "M",
                  "9": "2009-02-03",
                  "10": "1",
                  "11": "64",
                  "12": "52",
                  "13": "1",
                  "14": "d7314f24-2af1-429c-9bbb-4038f45f3e6c",
                  "15": "2014-06-30 00:00:00.000"
                },
                {
                  "0": "26",
                  "1": "277173473",
                  "2": "adventure-works\\peter0",
                  "3": "0x7AC0",
                  "4": "2",
                  "5": "Production Control Manager",
                  "6": "1982-11-03",
                  "7": "M",
                  "8": "M",
                  "9": "2008-12-01",
                  "10": "1",
                  "11": "43",
                  "12": "41",
                  "13": "1",
                  "14": "69d5d162-e817-45e7-9dec-5d9b8310e7b1",
                  "15": "2014-12-26 09:17:08.637"
                },
                {
                  "0": "27",
                  "1": "446466105",
                  "2": "adventure-works\\jo0",
                  "3": "0x7AD6",
                  "4": "3",
                  "5": "Production Supervisor - WC60",
                  "6": "1956-10-08",
                  "7": "S",
                  "8": "F",
                  "9": "2008-02-27",
                  "10": "0",
                  "11": "80",
                  "12": "60",
                  "13": "1",
                  "14": "83ffaac6-b895-481f-b897-14f965d4da47",
                  "15": "2014-06-30 00:00:00.000"
                },
                {
                  "0": "28",
                  "1": "14417807",
                  "2": "adventure-works\\guy1",
                  "3": "0x7AD6B0",
                  "4": "4",
                  "5": "Production Technician - WC60",
                  "6": "1988-03-13",
                  "7": "M",
                  "8": "M",
                  "9": "2006-06-30",
                  "10": "0",
                  "11": "21",
                  "12": "30",
                  "13": "1",
                  "14": "aae1d04a-c237-4974-b4d5-935247737718",
                  "15": "2014-06-30 00:00:00.000"
                },
                {
                  "0": "29",
                  "1": "948320468",
                  "2": "adventure-works\\mark1",
                  "3": "0x7AD6D0",
                  "4": "4",
                  "5": "Production Technician - WC60",
                  "6": "1979-09-25",
                  "7": "S",
                  "8": "M",
                  "9": "2009-01-23",
                  "10": "0",
                  "11": "19",
                  "12": "29",
                  "13": "1",
                  "14": "cdb2c6df-93e5-4558-91c8-424d5e7c658b",
                  "15": "2014-06-30 00:00:00.000"
                },
                {
                  "0": "30",
                  "1": "410742000",
                  "2": "adventure-works\\britta0",
                  "3": "0x7AD6F0",
                  "4": "4",
                  "5": "Production Technician - WC60",
                  "6": "1989-09-28",
                  "7": "M",
                  "8": "F",
                  "9": "2009-01-29",
                  "10": "0",
                  "11": "14",
                  "12": "27",
                  "13": "1",
                  "14": "fc12677f-42f8-4790-ad69-685088ed7e5f",
                  "15": "2014-06-30 00:00:00.000"
                },
                {
                  "0": "31",
                  "1": "750246141",
                  "2": "adventure-works\\margie0",
                  "3": "0x7AD708",
                  "4": "4",
                  "5": "Production Technician - WC60",
                  "6": "1986-05-20",
                  "7": "M",
                  "8": "F",
                  "9": "2009-01-04",
                  "10": "0",
                  "11": "18",
                  "12": "29",
                  "13": "1",
                  "14": "352d6e2f-655b-49a2-9fec-efd7d8cd0d30",
                  "15": "2014-06-30 00:00:00.000"
                },
                {
                  "0": "32",
                  "1": "330211482",
                  "2": "adventure-works\\rebecca0",
                  "3": "0x7AD718",
                  "4": "4",
                  "5": "Production Technician - WC60",
                  "6": "1977-07-10",
                  "7": "M",
                  "8": "F",
                  "9": "2008-12-29",
                  "10": "0",
                  "11": "23",
                  "12": "31",
                  "13": "1",
                  "14": "bdadeb5c-a596-4da1-88ba-842c7a0cc10f",
                  "15": "2014-06-30 00:00:00.000"
                },
                {
                  "0": "33",
                  "1": "801758002",
                  "2": "adventure-works\\annik0",
                  "3": "0x7AD728",
                  "4": "4",
                  "5": "Production Technician - WC60",
                  "6": "1976-12-26",
                  "7": "M",
                  "8": "M",
                  "9": "2008-12-17",
                  "10": "0",
                  "11": "17",
                  "12": "28",
                  "13": "1",
                  "14": "51fde6ac-bd50-467c-90e5-10ca7310455c",
                  "15": "2014-06-30 00:00:00.000"
                },
                {
                  "0": "34",
                  "1": "754372876",
                  "2": "adventure-works\\suchitra0",
                  "3": "0x7AD738",
                  "4": "4",
                  "5": "Production Technician - WC60",
                  "6": "1987-06-10",
                  "7": "M",
                  "8": "F",
                  "9": "2009-02-16",
                  "10": "0",
                  "11": "15",
                  "12": "27",
                  "13": "1",
                  "14": "6adbd932-0da5-4f5c-af67-8e3a53630896",
                  "15": "2014-06-30 00:00:00.000"
                },
                {
                  "0": "35",
                  "1": "999440576",
                  "2": "adventure-works\\brandon0",
                  "3": "0x7AD744",
                  "4": "4",
                  "5": "Production Technician - WC60",
                  "6": "1977-01-10",
                  "7": "M",
                  "8": "M",
                  "9": "2009-02-08",
                  "10": "0",
                  "11": "22",
                  "12": "31",
                  "13": "1",
                  "14": "ca5d1935-44e2-4c45-93bb-809e59f56796",
                  "15": "2014-06-30 00:00:00.000"
                },
                {
                  "0": "36",
                  "1": "788456780",
                  "2": "adventure-works\\jose0",
                  "3": "0x7AD74C",
                  "4": "4",
                  "5": "Production Technician - WC60",
                  "6": "1984-07-31",
                  "7": "M",
                  "8": "M",
                  "9": "2009-02-10",
                  "10": "0",
                  "11": "20",
                  "12": "30",
                  "13": "1",
                  "14": "9e912556-88ba-41ee-b946-cb84ab4c1102",
                  "15": "2014-06-30 00:00:00.000"
                },
                {
                  "0": "37",
                  "1": "442121106",
                  "2": "adventure-works\\chris2",
                  "3": "0x7AD754",
                  "4": "4",
                  "5": "Production Technician - WC60",
                  "6": "1986-08-07",
                  "7": "S",
                  "8": "M",
                  "9": "2009-03-07",
                  "10": "0",
                  "11": "16",
                  "12": "28",
                  "13": "1",
                  "14": "77b384c7-affb-4816-992b-f5b3034ee4ff",
                  "15": "2014-06-30 00:00:00.000"
                },
                {
                  "0": "38",
                  "1": "6298838",
                  "2": "adventure-works\\kim1",
                  "3": "0x7AD75C",
                  "4": "4",
                  "5": "Production Technician - WC60",
                  "6": "1966-12-14",
                  "7": "M",
                  "8": "F",
                  "9": "2010-01-16",
                  "10": "0",
                  "11": "24",
                  "12": "32",
                  "13": "1",
                  "14": "891c27f4-28cc-44bb-bea3-da5ea7fbe957",
                  "15": "2014-06-30 00:00:00.000"
                },
                {
                  "0": "39",
                  "1": "461786517",
                  "2": "adventure-works\\ed0",
                  "3": "0x7AD764",
                  "4": "4",
                  "5": "Production Technician - WC60",
                  "6": "1971-09-11",
                  "7": "S",
                  "8": "M",
                  "9": "2010-02-05",
                  "10": "0",
                  "11": "25",
                  "12": "32",
                  "13": "1",
                  "14": "8ef22fb3-af37-4b44-8862-d60a7cb09d82",
                  "15": "2014-06-30 00:00:00.000"
                },
                {
                  "0": "40",
                  "1": "309738752",
                  "2": "adventure-works\\jolynn0",
                  "3": "0x7ADA",
                  "4": "3",
                  "5": "Production Supervisor - WC60",
                  "6": "1956-01-16",
                  "7": "S",
                  "8": "F",
                  "9": "2007-12-26",
                  "10": "0",
                  "11": "82",
                  "12": "61",
                  "13": "1",
                  "14": "2cc71b96-f421-485e-9832-8723337749bb",
                  "15": "2014-06-30 00:00:00.000"
                },
                {
                  "0": "41",
                  "1": "458159238",
                  "2": "adventure-works\\bryan0",
                  "3": "0x7ADAB0",
                  "4": "4",
                  "5": "Production Technician - WC60",
                  "6": "1973-08-27",
                  "7": "S",
                  "8": "M",
                  "9": "2009-01-21",
                  "10": "0",
                  "11": "35",
                  "12": "37",
                  "13": "1",
                  "14": "4652d4e4-6a27-47ed-9f51-c377e293da28",
                  "15": "2014-06-30 00:00:00.000"
                },
                {
                  "0": "42",
                  "1": "339712426",
                  "2": "adventure-works\\james0",
                  "3": "0x7ADAD0",
                  "4": "4",
                  "5": "Production Technician - WC60",
                  "6": "1984-07-25",
                  "7": "M",
                  "8": "M",
                  "9": "2008-12-27",
                  "10": "0",
                  "11": "39",
                  "12": "39",
                  "13": "1",
                  "14": "82e52d5a-165b-4c6d-9773-c3a6b6332ecd",
                  "15": "2014-06-30 00:00:00.000"
                },
                {
                  "0": "43",
                  "1": "693325305",
                  "2": "adventure-works\\nancy0",
                  "3": "0x7ADAF0",
                  "4": "4",
                  "5": "Production Technician - WC60",
                  "6": "1988-11-19",
                  "7": "M",
                  "8": "F",
                  "9": "2009-01-02",
                  "10": "0",
                  "11": "34",
                  "12": "37",
                  "13": "1",
                  "14": "6b7eb306-9a00-496a-98a9-4e94fe72f77c",
                  "15": "2014-06-30 00:00:00.000"
                },
                {
                  "0": "44",
                  "1": "276751903",
                  "2": "adventure-works\\simon0",
                  "3": "0x7ADB08",
                  "4": "4",
                  "5": "Production Technician - WC60",
                  "6": "1990-05-17",
                  "7": "S",
                  "8": "M",
                  "9": "2008-12-08",
                  "10": "0",
                  "11": "38",
                  "12": "39",
                  "13": "1",
                  "14": "f734d38a-56b5-471e-8ded-a682e958a9b3",
                  "15": "2014-06-30 00:00:00.000"
                },
                {
                  "0": "45",
                  "1": "500412746",
                  "2": "adventure-works\\thomas0",
                  "3": "0x7ADB18",
                  "4": "4",
                  "5": "Production Technician - WC60",
                  "6": "1986-01-10",
                  "7": "M",
                  "8": "M",
                  "9": "2009-02-26",
                  "10": "0",
                  "11": "37",
                  "12": "38",
                  "13": "1",
                  "14": "8ff3af67-32f2-4a08-98c3-a40f842d41a3",
                  "15": "2014-06-30 00:00:00.000"
                },
                {
                  "0": "46",
                  "1": "66073987",
                  "2": "adventure-works\\eugene1",
                  "3": "0x7ADB28",
                  "4": "4",
                  "5": "Production Technician - WC60",
                  "6": "1976-02-10",
                  "7": "S",
                  "8": "M",
                  "9": "2009-02-08",
                  "10": "0",
                  "11": "36",
                  "12": "38",
                  "13": "1",
                  "14": "33543b35-77da-4600-a41b-1eafea0ad643",
                  "15": "2014-06-30 00:00:00.000"
                },
                {
                  "0": "47",
                  "1": "33237992",
                  "2": "adventure-works\\andrew0",
                  "3": "0x7ADE",
                  "4": "3",
                  "5": "Production Supervisor - WC10",
                  "6": "1988-09-06",
                  "7": "S",
                  "8": "M",
                  "9": "2009-02-22",
                  "10": "0",
                  "11": "65",
                  "12": "52",
                  "13": "1",
                  "14": "08365b05-c143-4260-a93c-6b69418b1946",
                  "15": "2014-06-30 00:00:00.000"
                },
                {
                  "0": "48",
                  "1": "690627818",
                  "2": "adventure-works\\ruth0",
                  "3": "0x7ADEB0",
                  "4": "4",
                  "5": "Production Technician - WC10",
                  "6": "1956-06-04",
                  "7": "M",
                  "8": "F",
                  "9": "2008-01-06",
                  "10": "0",
                  "11": "83",
                  "12": "61",
                  "13": "1",
                  "14": "3e3b6905-209e-442e-b8a8-9a0980241c6a",
                  "15": "2014-06-30 00:00:00.000"
                },
                {
                  "0": "49",
                  "1": "912265825",
                  "2": "adventure-works\\barry0",
                  "3": "0x7ADED0",
                  "4": "4",
                  "5": "Production Technician - WC10",
                  "6": "1956-03-26",
                  "7": "S",
                  "8": "M",
                  "9": "2008-01-07",
                  "10": "0",
                  "11": "88",
                  "12": "64",
                  "13": "1",
                  "14": "756a60ae-378f-43d8-9f93-1e821d1eaf52",
                  "15": "2014-06-30 00:00:00.000"
                },
                {
                  "0": "50",
                  "1": "844973625",
                  "2": "adventure-works\\sidney0",
                  "3": "0x7ADEF0",
                  "4": "4",
                  "5": "Production Technician - WC10",
                  "6": "1956-08-30",
                  "7": "M",
                  "8": "M",
                  "9": "2008-02-02",
                  "10": "0",
                  "11": "84",
                  "12": "62",
                  "13": "1",
                  "14": "40d603d9-7f99-48b7-a580-b17cf429bed2",
                  "15": "2014-06-30 00:00:00.000"
                },
                {
                  "0": "51",
                  "1": "132674823",
                  "2": "adventure-works\\jeffrey0",
                  "3": "0x7ADF08",
                  "4": "4",
                  "5": "Production Technician - WC10",
                  "6": "1956-07-11",
                  "7": "S",
                  "8": "M",
                  "9": "2008-02-20",
                  "10": "0",
                  "11": "85",
                  "12": "62",
                  "13": "1",
                  "14": "6e086f41-b81d-4bdc-9f13-0eec488dc43e",
                  "15": "2014-06-30 00:00:00.000"
                },
                {
                  "0": "52",
                  "1": "565090917",
                  "2": "adventure-works\\doris0",
                  "3": "0x7ADF18",
                  "4": "4",
                  "5": "Production Technician - WC10",
                  "6": "1956-04-04",
                  "7": "M",
                  "8": "F",
                  "9": "2008-03-10",
                  "10": "0",
                  "11": "86",
                  "12": "63",
                  "13": "1",
                  "14": "692b8826-03b4-4c3b-82fc-1fc6f1409689",
                  "15": "2014-06-30 00:00:00.000"
                },
                {
                  "0": "53",
                  "1": "9659517",
                  "2": "adventure-works\\diane0",
                  "3": "0x7ADF28",
                  "4": "4",
                  "5": "Production Technician - WC10",
                  "6": "1956-03-29",
                  "7": "M",
                  "8": "F",
                  "9": "2008-03-28",
                  "10": "0",
                  "11": "87",
                  "12": "63",
                  "13": "1",
                  "14": "c334b2d2-0c56-4906-9095-f1d07a98cbec",
                  "15": "2014-06-30 00:00:00.000"
                },
                {
                  "0": "54",
                  "1": "109272464",
                  "2": "adventure-works\\bonnie0",
                  "3": "0x7ADF38",
                  "4": "4",
                  "5": "Production Technician - WC10",
                  "6": "1986-09-10",
                  "7": "M",
                  "8": "F",
                  "9": "2010-01-01",
                  "10": "0",
                  "11": "89",
                  "12": "64",
                  "13": "1",
                  "14": "e950a52a-df61-4fec-9063-545664d65b89",
                  "15": "2014-06-30 00:00:00.000"
                },
                {
                  "0": "55",
                  "1": "233069302",
                  "2": "adventure-works\\taylor0",
                  "3": "0x7AE1",
                  "4": "3",
                  "5": "Production Supervisor - WC50",
                  "6": "1956-04-01",
                  "7": "M",
                  "8": "M",
                  "9": "2008-02-08",
                  "10": "0",
                  "11": "79",
                  "12": "59",
                  "13": "1",
                  "14": "28f7ef89-2793-4989-b67d-25046543c1e3",
                  "15": "2014-06-30 00:00:00.000"
                },
                {
                  "0": "56",
                  "1": "652535724",
                  "2": "adventure-works\\denise0",
                  "3": "0x7AE158",
                  "4": "4",
                  "5": "Production Technician - WC50",
                  "6": "1988-07-06",
                  "7": "M",
                  "8": "F",
                  "9": "2009-02-05",
                  "10": "0",
                  "11": "9",
                  "12": "24",
                  "13": "1",
                  "14": "77878c43-f16e-437d-892f-3cfcc0715a0a",
                  "15": "2014-06-30 00:00:00.000"
                },
                {
                  "0": "57",
                  "1": "10708100",
                  "2": "adventure-works\\frank1",
                  "3": "0x7AE168",
                  "4": "4",
                  "5": "Production Technician - WC50",
                  "6": "1971-07-24",
                  "7": "S",
                  "8": "M",
                  "9": "2009-02-23",
                  "10": "0",
                  "11": "10",
                  "12": "25",
                  "13": "1",
                  "14": "b395cd84-77ba-4d3c-a49d-d9e8d6cf100b",
                  "15": "2014-06-30 00:00:00.000"
                },
                {
                  "0": "58",
                  "1": "571658797",
                  "2": "adventure-works\\kendall0",
                  "3": "0x7AE178",
                  "4": "4",
                  "5": "Production Technician - WC50",
                  "6": "1986-05-30",
                  "7": "M",
                  "8": "M",
                  "9": "2008-12-05",
                  "10": "0",
                  "11": "11",
                  "12": "25",
                  "13": "1",
                  "14": "65207627-5521-4a8e-ad3c-b2f1b5226b85",
                  "15": "2014-06-30 00:00:00.000"
                },
                {
                  "0": "59",
                  "1": "843479922",
                  "2": "adventure-works\\bob0",
                  "3": "0x7AE184",
                  "4": "4",
                  "5": "Production Technician - WC50",
                  "6": "1979-08-16",
                  "7": "S",
                  "8": "M",
                  "9": "2008-12-24",
                  "10": "0",
                  "11": "12",
                  "12": "26",
                  "13": "1",
                  "14": "68616aea-81e5-4940-a7e4-6fba882bccf6",
                  "15": "2014-06-30 00:00:00.000"
                },
                {
                  "0": "60",
                  "1": "827686041",
                  "2": "adventure-works\\pete0",
                  "3": "0x7AE18C",
                  "4": "4",
                  "5": "Production Technician - WC50",
                  "6": "1977-02-03",
                  "7": "S",
                  "8": "M",
                  "9": "2009-01-11",
                  "10": "0",
                  "11": "13",
                  "12": "26",
                  "13": "1",
                  "14": "1f1d813d-3edc-4274-8e9b-4519d71685b6",
                  "15": "2014-06-30 00:00:00.000"
                },
                {
                  "0": "61",
                  "1": "92096924",
                  "2": "adventure-works\\diane2",
                  "3": "0x7AE194",
                  "4": "4",
                  "5": "Production Technician - WC50",
                  "6": "1989-08-09",
                  "7": "S",
                  "8": "F",
                  "9": "2009-01-18",
                  "10": "0",
                  "11": "8",
                  "12": "24",
                  "13": "1",
                  "14": "721a2921-c415-46de-9111-13f25f428b8b",
                  "15": "2014-06-30 00:00:00.000"
                },
                {
                  "0": "62",
                  "1": "494170342",
                  "2": "adventure-works\\john0",
                  "3": "0x7AE3",
                  "4": "3",
                  "5": "Production Supervisor - WC60",
                  "6": "1956-08-07",
                  "7": "M",
                  "8": "M",
                  "9": "2008-03-17",
                  "10": "0",
                  "11": "81",
                  "12": "60",
                  "13": "1",
                  "14": "d4ed1f78-7c28-479b-bfef-a73228ba2aaa",
                  "15": "2014-06-30 00:00:00.000"
                },
                {
                  "0": "63",
                  "1": "414476027",
                  "2": "adventure-works\\maciej0",
                  "3": "0x7AE358",
                  "4": "4",
                  "5": "Production Technician - WC60",
                  "6": "1955-01-30",
                  "7": "S",
                  "8": "M",
                  "9": "2010-01-29",
                  "10": "0",
                  "11": "30",
                  "12": "35",
                  "13": "1",
                  "14": "3229d93f-6a14-4bac-abc5-a91b9ecfb4d3",
                  "15": "2014-06-30 00:00:00.000"
                },
                {
                  "0": "64",
                  "1": "582347317",
                  "2": "adventure-works\\michael7",
                  "3": "0x7AE368",
                  "4": "4",
                  "5": "Production Technician - WC60",
                  "6": "1973-09-05",
                  "7": "S",
                  "8": "M",
                  "9": "2010-02-23",
                  "10": "0",
                  "11": "26",
                  "12": "33",
                  "13": "1",
                  "14": "492b24bd-bde9-4371-b96e-ccd72264b91f",
                  "15": "2014-06-30 00:00:00.000"
                },
                {
                  "0": "65",
                  "1": "8066363",
                  "2": "adventure-works\\randy0",
                  "3": "0x7AE378",
                  "4": "4",
                  "5": "Production Technician - WC60",
                  "6": "1970-04-28",
                  "7": "M",
                  "8": "M",
                  "9": "2010-02-23",
                  "10": "0",
                  "11": "29",
                  "12": "34",
                  "13": "1",
                  "14": "9a08108d-e039-4862-8f93-55f18017ad72",
                  "15": "2014-06-30 00:00:00.000"
                },
                {
                  "0": "66",
                  "1": "834186596",
                  "2": "adventure-works\\karan0",
                  "3": "0x7AE384",
                  "4": "4",
                  "5": "Production Technician - WC60",
                  "6": "1970-03-07",
                  "7": "S",
                  "8": "M",
                  "9": "2009-12-22",
                  "10": "0",
                  "11": "28",
                  "12": "34",
                  "13": "1",
                  "14": "08b1ba74-dd80-4fda-8327-93268b84977b",
                  "15": "2014-06-30 00:00:00.000"
                },
                {
                  "0": "67",
                  "1": "63179277",
                  "2": "adventure-works\\jay0",
                  "3": "0x7AE38C",
                  "4": "4",
                  "5": "Production Technician - WC60",
                  "6": "1976-02-11",
                  "7": "S",
                  "8": "M",
                  "9": "2009-03-05",
                  "10": "0",
                  "11": "32",
                  "12": "36",
                  "13": "1",
                  "14": "18187809-5294-474f-85a1-d5be6bd518d6",
                  "15": "2014-06-30 00:00:00.000"
                },
                {
                  "0": "68",
                  "1": "537092325",
                  "2": "adventure-works\\charles0",
                  "3": "0x7AE394",
                  "4": "4",
                  "5": "Production Technician - WC60",
                  "6": "1971-09-02",
                  "7": "S",
                  "8": "M",
                  "9": "2009-12-03",
                  "10": "0",
                  "11": "27",
                  "12": "33",
                  "13": "1",
                  "14": "cdc11292-df74-4fb0-8676-5b2aa4687142",
                  "15": "2014-06-30 00:00:00.000"
                },
                {
                  "0": "69",
                  "1": "752513276",
                  "2": "adventure-works\\steve0",
                  "3": "0x7AE39C",
                  "4": "4",
                  "5": "Production Technician - WC60",
                  "6": "1991-04-06",
                  "7": "S",
                  "8": "M",
                  "9": "2009-02-15",
                  "10": "0",
                  "11": "31",
                  "12": "35",
                  "13": "1",
                  "14": "12f678d7-ead3-4cf4-8518-a19aacf2a6d4",
                  "15": "2014-06-30 00:00:00.000"
                },
                {
                  "0": "70",
                  "1": "36151748",
                  "2": "adventure-works\\david2",
                  "3": "0x7AE3A2",
                  "4": "4",
                  "5": "Production Technician - WC60",
                  "6": "1984-12-29",
                  "7": "M",
                  "8": "M",
                  "9": "2008-12-15",
                  "10": "0",
                  "11": "33",
                  "12": "36",
                  "13": "1",
                  "14": "fc617bb8-d2a3-4374-873c-8ef38d80127d",
                  "15": "2014-06-30 00:00:00.000"
                },
                {
                  "0": "71",
                  "1": "578935259",
                  "2": "adventure-works\\michael3",
                  "3": "0x7AE5",
                  "4": "3",
                  "5": "Production Supervisor - WC30",
                  "6": "1989-01-29",
                  "7": "S",
                  "8": "M",
                  "9": "2009-02-15",
                  "10": "0",
                  "11": "70",
                  "12": "55",
                  "13": "1",
                  "14": "1ad772d7-7b4a-4a7b-8676-49dd7608cb94",
                  "15": "2014-06-30 00:00:00.000"
                },
                {
                  "0": "72",
                  "1": "443968955",
                  "2": "adventure-works\\steven0",
                  "3": "0x7AE558",
                  "4": "4",
                  "5": "Production Technician - WC30",
                  "6": "1977-05-14",
                  "7": "M",
                  "8": "M",
                  "9": "2008-12-01",
                  "10": "0",
                  "11": "41",
                  "12": "40",
                  "13": "1",
                  "14": "0a8937c9-68aa-4d48-ba4e-b40493d764aa",
                  "15": "2014-06-30 00:00:00.000"
                },
                {
                  "0": "73",
                  "1": "138280935",
                  "2": "adventure-works\\carole0",
                  "3": "0x7AE568",
                  "4": "4",
                  "5": "Production Technician - WC30",
                  "6": "1983-10-19",
                  "7": "M",
                  "8": "F",
                  "9": "2008-12-19",
                  "10": "0",
                  "11": "42",
                  "12": "41",
                  "13": "1",
                  "14": "c76a41f1-a390-4ae4-a82a-2a87764c6391",
                  "15": "2014-06-30 00:00:00.000"
                },
                {
                  "0": "74",
                  "1": "420023788",
                  "2": "adventure-works\\bjorn0",
                  "3": "0x7AE578",
                  "4": "4",
                  "5": "Production Technician - WC30",
                  "6": "1989-11-06",
                  "7": "S",
                  "8": "M",
                  "9": "2009-01-07",
                  "10": "0",
                  "11": "43",
                  "12": "41",
                  "13": "1",
                  "14": "a942e1e0-2d5e-4858-97c0-947020e96860",
                  "15": "2014-06-30 00:00:00.000"
                },
                {
                  "0": "75",
                  "1": "363996959",
                  "2": "adventure-works\\michiko0",
                  "3": "0x7AE584",
                  "4": "4",
                  "5": "Production Technician - WC30",
                  "6": "1982-06-27",
                  "7": "S",
                  "8": "M",
                  "9": "2009-01-26",
                  "10": "0",
                  "11": "44",
                  "12": "42",
                  "13": "1",
                  "14": "f359f5b6-5e18-4c62-8531-14d951911ce5",
                  "15": "2014-06-30 00:00:00.000"
                },
                {
                  "0": "76",
                  "1": "227319668",
                  "2": "adventure-works\\carol0",
                  "3": "0x7AE58C",
                  "4": "4",
                  "5": "Production Technician - WC30",
                  "6": "1988-10-17",
                  "7": "M",
                  "8": "F",
                  "9": "2009-02-12",
                  "10": "0",
                  "11": "45",
                  "12": "42",
                  "13": "1",
                  "14": "8d0182a3-5b59-4eea-9b3c-c7f05da9a2ce",
                  "15": "2014-06-30 00:00:00.000"
                },
                {
                  "0": "77",
                  "1": "301435199",
                  "2": "adventure-works\\merav0",
                  "3": "0x7AE594",
                  "4": "4",
                  "5": "Production Technician - WC30",
                  "6": "1983-05-13",
                  "7": "M",
                  "8": "F",
                  "9": "2009-03-03",
                  "10": "0",
                  "11": "46",
                  "12": "43",
                  "13": "1",
                  "14": "2ee7914a-62d3-473b-a0e1-e4e55341ec4e",
                  "15": "2014-06-30 00:00:00.000"
                },
                {
                  "0": "78",
                  "1": "370989364",
                  "2": "adventure-works\\reuben0",
                  "3": "0x7AE7",
                  "4": "3",
                  "5": "Production Supervisor - WC40",
                  "6": "1987-08-27",
                  "7": "M",
                  "8": "M",
                  "9": "2008-12-15",
                  "10": "0",
                  "11": "72",
                  "12": "56",
                  "13": "1",
                  "14": "71eee2a6-b9b3-4bf4-8949-01239df7c901",
                  "15": "2014-06-30 00:00:00.000"
                },
                {
                  "0": "79",
                  "1": "697712387",
                  "2": "adventure-works\\eric1",
                  "3": "0x7AE758",
                  "4": "4",
                  "5": "Production Technician - WC40",
                  "6": "1966-12-08",
                  "7": "M",
                  "8": "M",
                  "9": "2010-01-24",
                  "10": "0",
                  "11": "60",
                  "12": "50",
                  "13": "1",
                  "14": "55f62e38-9457-46c8-a824-e46a3117a935",
                  "15": "2014-06-30 00:00:00.000"
                },
                {
                  "0": "80",
                  "1": "943170460",
                  "2": "adventure-works\\sandeep0",
                  "3": "0x7AE768",
                  "4": "4",
                  "5": "Production Technician - WC40",
                  "6": "1970-12-03",
                  "7": "S",
                  "8": "M",
                  "9": "2010-01-17",
                  "10": "0",
                  "11": "65",
                  "12": "52",
                  "13": "1",
                  "14": "606c21e2-3ec0-48a6-a9fe-6bc8123ac786",
                  "15": "2014-06-30 00:00:00.000"
                },
                {
                  "0": "81",
                  "1": "413787783",
                  "2": "adventure-works\\mihail0",
                  "3": "0x7AE778",
                  "4": "4",
                  "5": "Production Technician - WC40",
                  "6": "1971-03-09",
                  "7": "S",
                  "8": "M",
                  "9": "2009-12-29",
                  "10": "0",
                  "11": "64",
                  "12": "52",
                  "13": "1",
                  "14": "03a9ba14-0d5b-4671-b851-2c1721efbf01",
                  "15": "2014-06-30 00:00:00.000"
                },
                {
                  "0": "82",
                  "1": "58791499",
                  "2": "adventure-works\\jack1",
                  "3": "0x7AE784",
                  "4": "4",
                  "5": "Production Technician - WC40",
                  "6": "1973-08-29",
                  "7": "S",
                  "8": "M",
                  "9": "2010-03-03",
                  "10": "0",
                  "11": "62",
                  "12": "51",
                  "13": "1",
                  "14": "d308d387-f7f3-4b5f-abda-faf5574245cd",
                  "15": "2014-06-30 00:00:00.000"
                },
                {
                  "0": "83",
                  "1": "988315686",
                  "2": "adventure-works\\patrick1",
                  "3": "0x7AE78C",
                  "4": "4",
                  "5": "Production Technician - WC40",
                  "6": "1973-12-23",
                  "7": "M",
                  "8": "M",
                  "9": "2010-02-12",
                  "10": "0",
                  "11": "61",
                  "12": "50",
                  "13": "1",
                  "14": "296c52ae-169f-4292-975d-c508476dcecf",
                  "15": "2014-06-30 00:00:00.000"
                },
                {
                  "0": "84",
                  "1": "947029962",
                  "2": "adventure-works\\frank3",
                  "3": "0x7AE794",
                  "4": "4",
                  "5": "Production Technician - WC40",
                  "6": "1952-03-02",
                  "7": "M",
                  "8": "M",
                  "9": "2010-02-05",
                  "10": "0",
                  "11": "66",
                  "12": "53",
                  "13": "1",
                  "14": "9af24acc-ea3e-4efe-b5e3-4762c496d57c",
                  "15": "2014-06-30 00:00:00.000"
                },
                {
                  "0": "85",
                  "1": "1662732",
                  "2": "adventure-works\\brian2",
                  "3": "0x7AE79C",
                  "4": "4",
                  "5": "Production Technician - WC40",
                  "6": "1970-12-23",
                  "7": "S",
                  "8": "M",
                  "9": "2009-12-11",
                  "10": "0",
                  "11": "63",
                  "12": "51",
                  "13": "1",
                  "14": "c294f676-caaf-4924-9730-bc81ae408be1",
                  "15": "2014-06-30 00:00:00.000"
                },
                {
                  "0": "86",
                  "1": "769680433",
                  "2": "adventure-works\\ryan0",
                  "3": "0x7AE7A2",
                  "4": "4",
                  "5": "Production Technician - WC40",
                  "6": "1972-06-13",
                  "7": "M",
                  "8": "M",
                  "9": "2009-01-05",
                  "10": "0",
                  "11": "59",
                  "12": "49",
                  "13": "1",
                  "14": "10e5bd6f-2b9c-4192-a94d-6a2d50ea1adb",
                  "15": "2014-06-30 00:00:00.000"
                },
                {
                  "0": "87",
                  "1": "7201901",
                  "2": "adventure-works\\cristian0",
                  "3": "0x7AE880",
                  "4": "3",
                  "5": "Production Supervisor - WC10",
                  "6": "1984-04-11",
                  "7": "M",
                  "8": "M",
                  "9": "2008-12-22",
                  "10": "0",
                  "11": "67",
                  "12": "53",
                  "13": "1",
                  "14": "5be16416-8570-417d-9e54-047db468b5e9",
                  "15": "2014-06-30 00:00:00.000"
                },
                {
                  "0": "88",
                  "1": "294148271",
                  "2": "adventure-works\\betsy0",
                  "3": "0x7AE8AC",
                  "4": "4",
                  "5": "Production Technician - WC10",
                  "6": "1966-12-17",
                  "7": "S",
                  "8": "F",
                  "9": "2009-12-18",
                  "10": "0",
                  "11": "99",
                  "12": "69",
                  "13": "1",
                  "14": "ebcdba1c-6c1d-4d36-90f7-1893755c85e3",
                  "15": "2014-06-30 00:00:00.000"
                },
                {
                  "0": "89",
                  "1": "90888098",
                  "2": "adventure-works\\patrick0",
                  "3": "0x7AE8B4",
                  "4": "4",
                  "5": "Production Technician - WC10",
                  "6": "1986-09-10",
                  "7": "S",
                  "8": "M",
                  "9": "2010-02-01",
                  "10": "0",
                  "11": "96",
                  "12": "68",
                  "13": "1",
                  "14": "d5fbe9e6-b8c5-484c-b4b8-48059e0ef267",
                  "15": "2014-06-30 00:00:00.000"
                },
                {
                  "0": "90",
                  "1": "82638150",
                  "2": "adventure-works\\danielle0",
                  "3": "0x7AE8BC",
                  "4": "4",
                  "5": "Production Technician - WC10",
                  "6": "1986-09-07",
                  "7": "S",
                  "8": "F",
                  "9": "2010-02-20",
                  "10": "0",
                  "11": "97",
                  "12": "68",
                  "13": "1",
                  "14": "bb886159-1400-4264-b7c9-a3769beb1274",
                  "15": "2014-06-30 00:00:00.000"
                },
                {
                  "0": "91",
                  "1": "390124815",
                  "2": "adventure-works\\kimberly0",
                  "3": "0x7AE8C2",
                  "4": "4",
                  "5": "Production Technician - WC10",
                  "6": "1986-09-13",
                  "7": "S",
                  "8": "F",
                  "9": "2010-01-12",
                  "10": "0",
                  "11": "95",
                  "12": "67",
                  "13": "1",
                  "14": "ce256b6c-1eee-43ed-9969-7cac480ff4d7",
                  "15": "2014-06-30 00:00:00.000"
                },
                {
                  "0": "92",
                  "1": "826454897",
                  "2": "adventure-works\\tom0",
                  "3": "0x7AE8C6",
                  "4": "4",
                  "5": "Production Technician - WC10",
                  "6": "1986-10-01",
                  "7": "M",
                  "8": "M",
                  "9": "2010-03-10",
                  "10": "0",
                  "11": "98",
                  "12": "69",
                  "13": "1",
                  "14": "b3bf7fc5-2014-48ce-b7bb-76124fa8446c",
                  "15": "2014-06-30 00:00:00.000"
                },
                {
                  "0": "93",
                  "1": "778552911",
                  "2": "adventure-works\\kok-ho0",
                  "3": "0x7AE980",
                  "4": "3",
                  "5": "Production Supervisor - WC50",
                  "6": "1980-04-28",
                  "7": "S",
                  "8": "M",
                  "9": "2008-12-27",
                  "10": "0",
                  "11": "78",
                  "12": "59",
                  "13": "1",
                  "14": "57fb2c0f-b105-49f0-967a-88f3d743cb3f",
                  "15": "2014-06-30 00:00:00.000"
                },
                {
                  "0": "94",
                  "1": "718299860",
                  "2": "adventure-works\\russell0",
                  "3": "0x7AE9AC",
                  "4": "4",
                  "5": "Production Technician - WC50",
                  "6": "1972-11-25",
                  "7": "M",
                  "8": "M",
                  "9": "2008-12-12",
                  "10": "0",
                  "11": "6",
                  "12": "23",
                  "13": "1",
                  "14": "6b10192f-d570-47c4-82c9-3d979b1efdc1",
                  "15": "2014-06-30 00:00:00.000"
                },
                {
                  "0": "95",
                  "1": "674171828",
                  "2": "adventure-works\\jim0",
                  "3": "0x7AE9B4",
                  "4": "4",
                  "5": "Production Technician - WC50",
                  "6": "1986-09-08",
                  "7": "M",
                  "8": "M",
                  "9": "2008-12-19",
                  "10": "0",
                  "11": "1",
                  "12": "20",
                  "13": "1",
                  "14": "6175876e-8fcc-4917-be06-fc358515e6df",
                  "15": "2014-06-30 00:00:00.000"
                },
                {
                  "0": "96",
                  "1": "912141525",
                  "2": "adventure-works\\elizabeth0",
                  "3": "0x7AE9BC",
                  "4": "4",
                  "5": "Production Technician - WC50",
                  "6": "1990-01-25",
                  "7": "M",
                  "8": "F",
                  "9": "2009-03-02",
                  "10": "0",
                  "11": "5",
                  "12": "22",
                  "13": "1",
                  "14": "62a9f73f-6443-4f2f-b864-18186614bfb6",
                  "15": "2014-06-30 00:00:00.000"
                },
                {
                  "0": "97",
                  "1": "370581729",
                  "2": "adventure-works\\mandar0",
                  "3": "0x7AE9C2",
                  "4": "4",
                  "5": "Production Technician - WC50",
                  "6": "1986-03-21",
                  "7": "S",
                  "8": "M",
                  "9": "2009-02-10",
                  "10": "0",
                  "11": "0",
                  "12": "20",
                  "13": "1",
                  "14": "1f0e068a-48c5-40bf-8190-565150efdadd",
                  "15": "2014-06-30 00:00:00.000"
                },
                {
                  "0": "98",
                  "1": "152085091",
                  "2": "adventure-works\\sameer0",
                  "3": "0x7AE9C6",
                  "4": "4",
                  "5": "Production Technician - WC50",
                  "6": "1978-06-26",
                  "7": "M",
                  "8": "M",
                  "9": "2009-02-11",
                  "10": "0",
                  "11": "4",
                  "12": "22",
                  "13": "1",
                  "14": "a703169f-1563-488e-914d-d784fd07f29a",
                  "15": "2014-06-30 00:00:00.000"
                },
                {
                  "0": "99",
                  "1": "431859843",
                  "2": "adventure-works\\nuan0",
                  "3": "0x7AE9CA",
                  "4": "4",
                  "5": "Production Technician - WC50",
                  "6": "1979-03-29",
                  "7": "S",
                  "8": "M",
                  "9": "2009-01-06",
                  "10": "0",
                  "11": "2",
                  "12": "21",
                  "13": "1",
                  "14": "a6089357-2f2f-48cc-ab3c-d9b75a3c09d7",
                  "15": "2014-06-30 00:00:00.000"
                },
                {
                  "0": "100",
                  "1": "204035155",
                  "2": "adventure-works\\lolan0",
                  "3": "0x7AE9CE",
                  "4": "4",
                  "5": "Production Technician - WC50",
                  "6": "1973-01-24",
                  "7": "M",
                  "8": "M",
                  "9": "2009-01-12",
                  "10": "0",
                  "11": "7",
                  "12": "23",
                  "13": "1",
                  "14": "9b9b768d-7cc1-4dce-87cb-765ab73a6aff",
                  "15": "2014-06-30 00:00:00.000"
                },
                {
                  "0": "101",
                  "1": "153288994",
                  "2": "adventure-works\\houman0",
                  "3": "0x7AE9D1",
                  "4": "4",
                  "5": "Production Technician - WC50",
                  "6": "1971-08-30",
                  "7": "M",
                  "8": "M",
                  "9": "2009-01-25",
                  "10": "0",
                  "11": "3",
                  "12": "21",
                  "13": "1",
                  "14": "9ce8b2e8-9944-4ba5-97de-441d8314f161",
                  "15": "2014-06-30 00:00:00.000"
                },
                {
                  "0": "102",
                  "1": "360868122",
                  "2": "adventure-works\\zheng0",
                  "3": "0x7AEA80",
                  "4": "3",
                  "5": "Production Supervisor - WC10",
                  "6": "1983-10-26",
                  "7": "S",
                  "8": "M",
                  "9": "2008-12-03",
                  "10": "0",
                  "11": "66",
                  "12": "53",
                  "13": "1",
                  "14": "c75f2740-ace3-4ebf-91c5-7ab352e1095f",
                  "15": "2014-06-30 00:00:00.000"
                },
                {
                  "0": "103",
                  "1": "455563743",
                  "2": "adventure-works\\ebru0",
                  "3": "0x7AEAAC",
                  "4": "4",
                  "5": "Production Technician - WC10",
                  "6": "1986-09-22",
                  "7": "S",
                  "8": "M",
                  "9": "2009-12-06",
                  "10": "0",
                  "11": "93",
                  "12": "66",
                  "13": "1",
                  "14": "6c25a32b-88b5-4f84-a129-f7f688dfa588",
                  "15": "2014-06-30 00:00:00.000"
                },
                {
                  "0": "104",
                  "1": "717889520",
                  "2": "adventure-works\\mary1",
                  "3": "0x7AEAB4",
                  "4": "4",
                  "5": "Production Technician - WC10",
                  "6": "1986-09-19",
                  "7": "M",
                  "8": "F",
                  "9": "2009-12-25",
                  "10": "0",
                  "11": "94",
                  "12": "67",
                  "13": "1",
                  "14": "6dc9f7d0-5664-4e4a-90f5-7ab85ebb02e6",
                  "15": "2014-06-30 00:00:00.000"
                },
                {
                  "0": "105",
                  "1": "801365500",
                  "2": "adventure-works\\kevin2",
                  "3": "0x7AEABC",
                  "4": "4",
                  "5": "Production Technician - WC10",
                  "6": "1986-09-19",
                  "7": "S",
                  "8": "M",
                  "9": "2009-12-25",
                  "10": "0",
                  "11": "90",
                  "12": "65",
                  "13": "1",
                  "14": "8b21e53d-e705-479a-b32e-6e63ac2f4bcd",
                  "15": "2014-06-30 00:00:00.000"
                },
                {
                  "0": "106",
                  "1": "561196580",
                  "2": "adventure-works\\john4",
                  "3": "0x7AEAC2",
                  "4": "4",
                  "5": "Production Technician - WC10",
                  "6": "1986-09-28",
                  "7": "S",
                  "8": "M",
                  "9": "2010-02-27",
                  "10": "0",
                  "11": "92",
                  "12": "66",
                  "13": "1",
                  "14": "d4cf23d9-21b6-45e4-827c-22890df0373b",
                  "15": "2014-06-30 00:00:00.000"
                },
                {
                  "0": "107",
                  "1": "393421437",
                  "2": "adventure-works\\christopher0",
                  "3": "0x7AEAC6",
                  "4": "4",
                  "5": "Production Technician - WC10",
                  "6": "1986-10-01",
                  "7": "M",
                  "8": "M",
                  "9": "2010-02-08",
                  "10": "0",
                  "11": "91",
                  "12": "65",
                  "13": "1",
                  "14": "f71c6055-557b-4660-86ff-8c0fa14b24e6",
                  "15": "2014-06-30 00:00:00.000"
                },
                {
                  "0": "108",
                  "1": "630184120",
                  "2": "adventure-works\\jinghao0",
                  "3": "0x7AEB80",
                  "4": "3",
                  "5": "Production Supervisor - WC50",
                  "6": "1989-02-05",
                  "7": "S",
                  "8": "M",
                  "9": "2008-12-08",
                  "10": "0",
                  "11": "77",
                  "12": "58",
                  "13": "1",
                  "14": "2bca07d3-f2ac-4406-904f-e09156f3eb3e",
                  "15": "2014-06-30 00:00:00.000"
                },
                {
                  "0": "109",
                  "1": "113695504",
                  "2": "adventure-works\\alice0",
                  "3": "0x7AEBAC",
                  "4": "4",
                  "5": "Production Technician - WC50",
                  "6": "1978-01-26",
                  "7": "M",
                  "8": "F",
                  "9": "2008-12-07",
                  "10": "0",
                  "11": "95",
                  "12": "67",
                  "13": "1",
                  "14": "7e632b21-0d11-4bba-8a68-8cae14c20ae6",
                  "15": "2014-06-30 00:00:00.000"
                },
                {
                  "0": "110",
                  "1": "857651804",
                  "2": "adventure-works\\jun0",
                  "3": "0x7AEBB4",
                  "4": "4",
                  "5": "Production Technician - WC50",
                  "6": "1979-07-06",
                  "7": "S",
                  "8": "M",
                  "9": "2008-12-14",
                  "10": "0",
                  "11": "90",
                  "12": "65",
                  "13": "1",
                  "14": "9c5f84d1-fb96-4d82-92a1-f932903deaad",
                  "15": "2014-06-30 00:00:00.000"
                },
                {
                  "0": "111",
                  "1": "415823523",
                  "2": "adventure-works\\suroor0",
                  "3": "0x7AEBBC",
                  "4": "4",
                  "5": "Production Technician - WC50",
                  "6": "1978-02-25",
                  "7": "S",
                  "8": "M",
                  "9": "2008-12-17",
                  "10": "0",
                  "11": "93",
                  "12": "66",
                  "13": "1",
                  "14": "14010b0e-c101-4e41-b788-21923399e512",
                  "15": "2014-06-30 00:00:00.000"
                },
                {
                  "0": "112",
                  "1": "981597097",
                  "2": "adventure-works\\john1",
                  "3": "0x7AEBC2",
                  "4": "4",
                  "5": "Production Technician - WC50",
                  "6": "1978-05-31",
                  "7": "S",
                  "8": "M",
                  "9": "2009-01-01",
                  "10": "0",
                  "11": "91",
                  "12": "65",
                  "13": "1",
                  "14": "b6998410-ee0f-4307-9e6e-fe348f11012d",
                  "15": "2014-06-30 00:00:00.000"
                },
                {
                  "0": "113",
                  "1": "54759846",
                  "2": "adventure-works\\linda0",
                  "3": "0x7AEBC6",
                  "4": "4",
                  "5": "Production Technician - WC50",
                  "6": "1987-07-17",
                  "7": "M",
                  "8": "F",
                  "9": "2008-12-25",
                  "10": "0",
                  "11": "96",
                  "12": "68",
                  "13": "1",
                  "14": "fb84759c-b687-43b2-8727-125efe0f5e13",
                  "15": "2014-06-30 00:00:00.000"
                },
                {
                  "0": "114",
                  "1": "342607223",
                  "2": "adventure-works\\mindaugas0",
                  "3": "0x7AEBCA",
                  "4": "4",
                  "5": "Production Technician - WC50",
                  "6": "1978-05-07",
                  "7": "M",
                  "8": "M",
                  "9": "2009-01-13",
                  "10": "0",
                  "11": "97",
                  "12": "68",
                  "13": "1",
                  "14": "1d784088-dacb-4185-9f60-3d2db4925ba5",
                  "15": "2014-06-30 00:00:00.000"
                },
                {
                  "0": "115",
                  "1": "563680513",
                  "2": "adventure-works\\angela0",
                  "3": "0x7AEBCE",
                  "4": "4",
                  "5": "Production Technician - WC50",
                  "6": "1991-05-31",
                  "7": "S",
                  "8": "F",
                  "9": "2009-01-20",
                  "10": "0",
                  "11": "92",
                  "12": "66",
                  "13": "1",
                  "14": "4958e1c3-c872-4222-954e-09d2060ea7ef",
                  "15": "2014-06-30 00:00:00.000"
                },
                {
                  "0": "116",
                  "1": "398737566",
                  "2": "adventure-works\\michael2",
                  "3": "0x7AEBD1",
                  "4": "4",
                  "5": "Production Technician - WC50",
                  "6": "1974-05-03",
                  "7": "S",
                  "8": "M",
                  "9": "2009-01-31",
                  "10": "0",
                  "11": "98",
                  "12": "69",
                  "13": "1",
                  "14": "c6eb2566-cf28-4602-9a25-5b91c8728838",
                  "15": "2014-06-30 00:00:00.000"
                },
                {
                  "0": "117",
                  "1": "599942664",
                  "2": "adventure-works\\chad0",
                  "3": "0x7AEBD3",
                  "4": "4",
                  "5": "Production Technician - WC50",
                  "6": "1990-08-04",
                  "7": "M",
                  "8": "M",
                  "9": "2009-02-18",
                  "10": "0",
                  "11": "99",
                  "12": "69",
                  "13": "1",
                  "14": "83a32d4c-4725-478f-9997-91739bb957ba",
                  "15": "2014-06-30 00:00:00.000"
                },
                {
                  "0": "118",
                  "1": "222400012",
                  "2": "adventure-works\\don0",
                  "3": "0x7AEBD5",
                  "4": "4",
                  "5": "Production Technician - WC50",
                  "6": "1971-06-13",
                  "7": "M",
                  "8": "M",
                  "9": "2009-02-13",
                  "10": "0",
                  "11": "88",
                  "12": "64",
                  "13": "1",
                  "14": "e720053d-922e-4c91-b81a-a1ca4ef8bb0e",
                  "15": "2014-06-30 00:00:00.000"
                },
                {
                  "0": "119",
                  "1": "334834274",
                  "2": "adventure-works\\michael4",
                  "3": "0x7AEBD7",
                  "4": "4",
                  "5": "Production Technician - WC50",
                  "6": "1989-06-15",
                  "7": "S",
                  "8": "M",
                  "9": "2009-02-25",
                  "10": "0",
                  "11": "94",
                  "12": "67",
                  "13": "1",
                  "14": "eb27c026-9470-4450-8d5e-1f38a41793b5",
                  "15": "2014-06-30 00:00:00.000"
                },
                {
                  "0": "120",
                  "1": "211789056",
                  "2": "adventure-works\\kitti0",
                  "3": "0x7AEBD9",
                  "4": "4",
                  "5": "Production Technician - WC50",
                  "6": "1987-06-06",
                  "7": "S",
                  "8": "F",
                  "9": "2009-03-04",
                  "10": "0",
                  "11": "89",
                  "12": "64",
                  "13": "1",
                  "14": "49a05524-fa34-45b1-95bc-489901dc5b50",
                  "15": "2014-06-30 00:00:00.000"
                },
                {
                  "0": "121",
                  "1": "521265716",
                  "2": "adventure-works\\pilar0",
                  "3": "0x7AEC80",
                  "4": "3",
                  "5": "Shipping and Receiving Supervisor",
                  "6": "1972-09-09",
                  "7": "S",
                  "8": "M",
                  "9": "2009-01-02",
                  "10": "1",
                  "11": "93",
                  "12": "66",
                  "13": "1",
                  "14": "01bcce22-d63a-4c3f-9ba8-d3d5a4c3bd52",
                  "15": "2014-06-30 00:00:00.000"
                },
                {
                  "0": "122",
                  "1": "586486572",
                  "2": "adventure-works\\susan0",
                  "3": "0x7AECAC",
                  "4": "4",
                  "5": "Stocker",
                  "6": "1978-02-17",
                  "7": "S",
                  "8": "F",
                  "9": "2008-12-07",
                  "10": "0",
                  "11": "97",
                  "12": "68",
                  "13": "1",
                  "14": "923ecfd6-e202-429a-9141-6cb183531439",
                  "15": "2014-06-30 00:00:00.000"
                },
                {
                  "0": "123",
                  "1": "337752649",
                  "2": "adventure-works\\vamsi0",
                  "3": "0x7AECB4",
                  "4": "4",
                  "5": "Shipping and Receiving Clerk",
                  "6": "1977-03-18",
                  "7": "M",
                  "8": "M",
                  "9": "2008-12-07",
                  "10": "0",
                  "11": "95",
                  "12": "67",
                  "13": "1",
                  "14": "a8838ab2-99de-415c-8675-d82ebf1c4752",
                  "15": "2014-06-30 00:00:00.000"
                },
                {
                  "0": "124",
                  "1": "420776180",
                  "2": "adventure-works\\kim0",
                  "3": "0x7AECBC",
                  "4": "4",
                  "5": "Stocker",
                  "6": "1984-04-30",
                  "7": "S",
                  "8": "F",
                  "9": "2008-12-26",
                  "10": "0",
                  "11": "98",
                  "12": "69",
                  "13": "1",
                  "14": "6150f197-7923-40d4-84f2-936207d468ab",
                  "15": "2014-06-30 00:00:00.000"
                },
                {
                  "0": "125",
                  "1": "584205124",
                  "2": "adventure-works\\matthias0",
                  "3": "0x7AECC2",
                  "4": "4",
                  "5": "Shipping and Receiving Clerk",
                  "6": "1973-11-11",
                  "7": "M",
                  "8": "M",
                  "9": "2009-01-20",
                  "10": "0",
                  "11": "94",
                  "12": "67",
                  "13": "1",
                  "14": "54ed63dc-c62c-4cc7-89c2-015df49c49a5",
                  "15": "2014-06-30 00:00:00.000"
                },
                {
                  "0": "126",
                  "1": "652779496",
                  "2": "adventure-works\\jimmy0",
                  "3": "0x7AECC6",
                  "4": "4",
                  "5": "Stocker",
                  "6": "1985-05-04",
                  "7": "M",
                  "8": "M",
                  "9": "2009-02-26",
                  "10": "0",
                  "11": "96",
                  "12": "68",
                  "13": "1",
                  "14": "96442787-9520-4955-a457-38afddb6ff13",
                  "15": "2014-06-30 00:00:00.000"
                },
                {
                  "0": "127",
                  "1": "750905084",
                  "2": "adventure-works\\david4",
                  "3": "0x7AED80",
                  "4": "3",
                  "5": "Production Supervisor - WC40",
                  "6": "1983-07-02",
                  "7": "S",
                  "8": "M",
                  "9": "2009-01-03",
                  "10": "0",
                  "11": "73",
                  "12": "56",
                  "13": "1",
                  "14": "516538e8-115b-44f4-aa7b-e6c1d9f8adfc",
                  "15": "2014-06-30 00:00:00.000"
                },
                {
                  "0": "128",
                  "1": "384162788",
                  "2": "adventure-works\\paul0",
                  "3": "0x7AEDAC",
                  "4": "4",
                  "5": "Production Technician - WC40",
                  "6": "1980-11-13",
                  "7": "S",
                  "8": "M",
                  "9": "2008-12-04",
                  "10": "0",
                  "11": "68",
                  "12": "54",
                  "13": "1",
                  "14": "0217049e-1566-42b6-8027-41b751e2b00b",
                  "15": "2014-06-30 00:00:00.000"
                },
                {
                  "0": "129",
                  "1": "502058701",
                  "2": "adventure-works\\gary0",
                  "3": "0x7AEDB4",
                  "4": "4",
                  "5": "Production Technician - WC40",
                  "6": "1988-05-16",
                  "7": "S",
                  "8": "M",
                  "9": "2008-12-22",
                  "10": "0",
                  "11": "69",
                  "12": "54",
                  "13": "1",
                  "14": "a03d6052-1f85-4ebe-aac9-b67cfdcd91a6",
                  "15": "2014-06-30 00:00:00.000"
                },
                {
                  "0": "130",
                  "1": "578953538",
                  "2": "adventure-works\\rob1",
                  "3": "0x7AEDBC",
                  "4": "4",
                  "5": "Production Technician - WC40",
                  "6": "1973-08-04",
                  "7": "S",
                  "8": "M",
                  "9": "2009-02-13",
                  "10": "0",
                  "11": "71",
                  "12": "55",
                  "13": "1",
                  "14": "54fda597-6822-42b4-b128-63eca03071f2",
                  "15": "2014-06-30 00:00:00.000"
                },
                {
                  "0": "131",
                  "1": "273260055",
                  "2": "adventure-works\\baris0",
                  "3": "0x7AEDC2",
                  "4": "4",
                  "5": "Production Technician - WC40",
                  "6": "1990-10-07",
                  "7": "S",
                  "8": "M",
                  "9": "2009-02-15",
                  "10": "0",
                  "11": "72",
                  "12": "56",
                  "13": "1",
                  "14": "232d68bf-df58-48f9-9235-53bd4b009b4b",
                  "15": "2014-06-30 00:00:00.000"
                },
                {
                  "0": "132",
                  "1": "1300049",
                  "2": "adventure-works\\nicole0",
                  "3": "0x7AEDC6",
                  "4": "4",
                  "5": "Production Technician - WC40",
                  "6": "1986-04-09",
                  "7": "M",
                  "8": "F",
                  "9": "2009-02-22",
                  "10": "0",
                  "11": "67",
                  "12": "53",
                  "13": "1",
                  "14": "15671e3b-016f-41fd-840b-5a9f7d776d9a",
                  "15": "2014-06-30 00:00:00.000"
                },
                {
                  "0": "133",
                  "1": "830150469",
                  "2": "adventure-works\\michael1",
                  "3": "0x7AEDCA",
                  "4": "4",
                  "5": "Production Technician - WC40",
                  "6": "1991-01-04",
                  "7": "S",
                  "8": "M",
                  "9": "2009-01-10",
                  "10": "0",
                  "11": "70",
                  "12": "55",
                  "13": "1",
                  "14": "416bf905-7d6c-4692-8fd6-40f6c4f9ecc4",
                  "15": "2014-06-30 00:00:00.000"
                },
                {
                  "0": "134",
                  "1": "45615666",
                  "2": "adventure-works\\eric0",
                  "3": "0x7AEE80",
                  "4": "3",
                  "5": "Production Supervisor - WC20",
                  "6": "1985-01-19",
                  "7": "M",
                  "8": "M",
                  "9": "2009-01-14",
                  "10": "0",
                  "11": "40",
                  "12": "40",
                  "13": "1",
                  "14": "2abcf39b-88d7-49fa-820a-83d223322ba5",
                  "15": "2014-06-30 00:00:00.000"
                },
                {
                  "0": "135",
                  "1": "964089218",
                  "2": "adventure-works\\ivo0",
                  "3": "0x7AEEAC",
                  "4": "4",
                  "5": "Production Technician - WC20",
                  "6": "1982-01-03",
                  "7": "M",
                  "8": "M",
                  "9": "2008-12-04",
                  "10": "0",
                  "11": "9",
                  "12": "24",
                  "13": "1",
                  "14": "d83a26f3-7ea7-477b-a5bb-7eaadfc13a09",
                  "15": "2014-06-30 00:00:00.000"
                },
                {
                  "0": "136",
                  "1": "701156975",
                  "2": "adventure-works\\sylvester0",
                  "3": "0x7AEEB4",
                  "4": "4",
                  "5": "Production Technician - WC20",
                  "6": "1970-11-12",
                  "7": "M",
                  "8": "M",
                  "9": "2009-12-11",
                  "10": "0",
                  "11": "4",
                  "12": "22",
                  "13": "1",
                  "14": "d9c43d08-3882-4e5c-bdf0-f6bd7004cd04",
                  "15": "2014-06-30 00:00:00.000"
                },
                {
                  "0": "137",
                  "1": "63761469",
                  "2": "adventure-works\\anibal0",
                  "3": "0x7AEEBC",
                  "4": "4",
                  "5": "Production Technician - WC20",
                  "6": "1974-09-05",
                  "7": "S",
                  "8": "F",
                  "9": "2009-02-23",
                  "10": "0",
                  "11": "8",
                  "12": "24",
                  "13": "1",
                  "14": "bc18a829-f0ce-4eaf-9785-2d84c86f925a",
                  "15": "2014-06-30 00:00:00.000"
                },
                {
                  "0": "138",
                  "1": "25011600",
                  "2": "adventure-works\\samantha0",
                  "3": "0x7AEEC2",
                  "4": "4",
                  "5": "Production Technician - WC20",
                  "6": "1987-11-22",
                  "7": "M",
                  "8": "F",
                  "9": "2009-02-04",
                  "10": "0",
                  "11": "7",
                  "12": "23",
                  "13": "1",
                  "14": "1629eddd-d0ae-4cb9-a59c-3a175f7027e5",
                  "15": "2014-06-30 00:00:00.000"
                },
                {
                  "0": "139",
                  "1": "113393530",
                  "2": "adventure-works\\hung-fu0",
                  "3": "0x7AEEC6",
                  "4": "4",
                  "5": "Production Technician - WC20",
                  "6": "1971-10-23",
                  "7": "S",
                  "8": "M",
                  "9": "2010-01-06",
                  "10": "0",
                  "11": "0",
                  "12": "20",
                  "13": "1",
                  "14": "065d8d5f-9504-4ffe-98dc-e69677f19f15",
                  "15": "2014-06-30 00:00:00.000"
                },
                {
                  "0": "140",
                  "1": "339233463",
                  "2": "adventure-works\\prasanna0",
                  "3": "0x7AEECA",
                  "4": "4",
                  "5": "Production Technician - WC20",
                  "6": "1953-04-30",
                  "7": "M",
                  "8": "M",
                  "9": "2010-01-22",
                  "10": "0",
                  "11": "5",
                  "12": "22",
                  "13": "1",
                  "14": "72ed240a-0fd8-4423-8a49-9078ba6bcf6c",
                  "15": "2014-06-30 00:00:00.000"
                },
                {
                  "0": "141",
                  "1": "872923042",
                  "2": "adventure-works\\min0",
                  "3": "0x7AEECE",
                  "4": "4",
                  "5": "Production Technician - WC20",
                  "6": "1974-09-10",
                  "7": "M",
                  "8": "M",
                  "9": "2010-01-24",
                  "10": "0",
                  "11": "1",
                  "12": "20",
                  "13": "1",
                  "14": "cc75c35d-1566-43fa-b2e9-d1e508efdcd1",
                  "15": "2014-06-30 00:00:00.000"
                },
                {
                  "0": "142",
                  "1": "163347032",
                  "2": "adventure-works\\olinda0",
                  "3": "0x7AEED1",
                  "4": "4",
                  "5": "Production Technician - WC20",
                  "6": "1970-04-04",
                  "7": "S",
                  "8": "F",
                  "9": "2010-03-04",
                  "10": "0",
                  "11": "3",
                  "12": "21",
                  "13": "1",
                  "14": "6456cec3-9b1e-4ebc-9fd8-732b93363f65",
                  "15": "2014-06-30 00:00:00.000"
                },
                {
                  "0": "143",
                  "1": "56772045",
                  "2": "adventure-works\\krishna0",
                  "3": "0x7AEED3",
                  "4": "4",
                  "5": "Production Technician - WC20",
                  "6": "1971-09-05",
                  "7": "S",
                  "8": "M",
                  "9": "2010-02-13",
                  "10": "0",
                  "11": "2",
                  "12": "21",
                  "13": "1",
                  "14": "42a506a5-0ac0-4148-b702-bb7b804ef98c",
                  "15": "2014-06-30 00:00:00.000"
                },
                {
                  "0": "144",
                  "1": "886023130",
                  "2": "adventure-works\\paul1",
                  "3": "0x7AEED5",
                  "4": "4",
                  "5": "Production Technician - WC20",
                  "6": "1990-11-04",
                  "7": "M",
                  "8": "M",
                  "9": "2009-01-17",
                  "10": "0",
                  "11": "6",
                  "12": "23",
                  "13": "1",
                  "14": "dc5ba622-b860-41ee-af92-5feb4779b589",
                  "15": "2014-06-30 00:00:00.000"
                },
                {
                  "0": "145",
                  "1": "386315192",
                  "2": "adventure-works\\cynthia0",
                  "3": "0x7AEF80",
                  "4": "3",
                  "5": "Production Supervisor - WC30",
                  "6": "1981-08-18",
                  "7": "S",
                  "8": "F",
                  "9": "2009-01-27",
                  "10": "0",
                  "11": "69",
                  "12": "54",
                  "13": "1",
                  "14": "f9e1dc46-0d03-4a8a-b693-1a964bc13e6c",
                  "15": "2014-06-30 00:00:00.000"
                },
                {
                  "0": "146",
                  "1": "160739235",
                  "2": "adventure-works\\jianshuo0",
                  "3": "0x7AEFAC",
                  "4": "4",
                  "5": "Production Technician - WC30",
                  "6": "1989-06-25",
                  "7": "S",
                  "8": "M",
                  "9": "2008-12-07",
                  "10": "0",
                  "11": "36",
                  "12": "38",
                  "13": "1",
                  "14": "6fff136a-9664-4eb9-9243-fac76e21b9dd",
                  "15": "2014-06-30 00:00:00.000"
                },
                {
                  "0": "147",
                  "1": "604664374",
                  "2": "adventure-works\\sandra0",
                  "3": "0x7AEFB4",
                  "4": "4",
                  "5": "Production Technician - WC30",
                  "6": "1975-11-05",
                  "7": "M",
                  "8": "F",
                  "9": "2008-12-26",
                  "10": "0",
                  "11": "37",
                  "12": "38",
                  "13": "1",
                  "14": "f69f3ff9-e1e0-4419-a6bf-f705e1556160",
                  "15": "2014-06-30 00:00:00.000"
                },
                {
                  "0": "148",
                  "1": "733022683",
                  "2": "adventure-works\\jason0",
                  "3": "0x7AEFBC",
                  "4": "4",
                  "5": "Production Technician - WC30",
                  "6": "1988-12-07",
                  "7": "S",
                  "8": "M",
                  "9": "2009-01-14",
                  "10": "0",
                  "11": "38",
                  "12": "39",
                  "13": "1",
                  "14": "c16c501d-942d-4eb0-b5c4-ef8119fbeba2",
                  "15": "2014-06-30 00:00:00.000"
                },
                {
                  "0": "149",
                  "1": "764853868",
                  "2": "adventure-works\\andy0",
                  "3": "0x7AEFC2",
                  "4": "4",
                  "5": "Production Technician - WC30",
                  "6": "1983-10-20",
                  "7": "M",
                  "8": "M",
                  "9": "2009-01-31",
                  "10": "0",
                  "11": "39",
                  "12": "39",
                  "13": "1",
                  "14": "615a6bfe-3046-4037-9764-238535f725be",
                  "15": "2014-06-30 00:00:00.000"
                },
                {
                  "0": "150",
                  "1": "878395493",
                  "2": "adventure-works\\michael5",
                  "3": "0x7AEFC6",
                  "4": "4",
                  "5": "Production Technician - WC30",
                  "6": "1982-09-18",
                  "7": "M",
                  "8": "M",
                  "9": "2009-02-26",
                  "10": "0",
                  "11": "35",
                  "12": "37",
                  "13": "1",
                  "14": "2b0876d4-8996-4e71-a613-be2e98e7accf",
                  "15": "2014-06-30 00:00:00.000"
                },
                {
                  "0": "151",
                  "1": "993310268",
                  "2": "adventure-works\\rostislav0",
                  "3": "0x7AEFCA",
                  "4": "4",
                  "5": "Production Technician - WC30",
                  "6": "1977-09-13",
                  "7": "M",
                  "8": "M",
                  "9": "2009-02-19",
                  "10": "0",
                  "11": "40",
                  "12": "40",
                  "13": "1",
                  "14": "00027a8c-c2f8-4a31-aba8-8a203638b8f1",
                  "15": "2014-06-30 00:00:00.000"
                },
                {
                  "0": "152",
                  "1": "319472946",
                  "2": "adventure-works\\yuhong0",
                  "3": "0x7AF044",
                  "4": "3",
                  "5": "Production Supervisor - WC20",
                  "6": "1977-04-06",
                  "7": "M",
                  "8": "M",
                  "9": "2009-02-01",
                  "10": "0",
                  "11": "41",
                  "12": "40",
                  "13": "1",
                  "14": "f1a684f4-02db-4b22-8977-6d8d3a21100e",
                  "15": "2014-06-30 00:00:00.000"
                },
                {
                  "0": "153",
                  "1": "568596888",
                  "2": "adventure-works\\hanying0",
                  "3": "0x7AF04560",
                  "4": "4",
                  "5": "Production Technician - WC20",
                  "6": "1974-10-16",
                  "7": "S",
                  "8": "M",
                  "9": "2008-12-16",
                  "10": "0",
                  "11": "15",
                  "12": "27",
                  "13": "1",
                  "14": "618b71bc-6e8c-492d-8862-b9efb7a4e06a",
                  "15": "2014-06-30 00:00:00.000"
                },
                {
                  "0": "154",
                  "1": "97728960",
                  "2": "adventure-works\\raymond0",
                  "3": "0x7AF045A0",
                  "4": "4",
                  "5": "Production Technician - WC20",
                  "6": "1967-03-02",
                  "7": "M",
                  "8": "M",
                  "9": "2008-12-23",
                  "10": "0",
                  "11": "10",
                  "12": "25",
                  "13": "1",
                  "14": "9f01e1fb-b893-40cc-9f5c-aaf89f9b7af5",
                  "15": "2014-06-30 00:00:00.000"
                },
                {
                  "0": "155",
                  "1": "212801092",
                  "2": "adventure-works\\fadi0",
                  "3": "0x7AF045E0",
                  "4": "4",
                  "5": "Production Technician - WC20",
                  "6": "1989-02-15",
                  "7": "S",
                  "8": "M",
                  "9": "2009-01-04",
                  "10": "0",
                  "11": "16",
                  "12": "28",
                  "13": "1",
                  "14": "9923376f-26d0-4845-9d99-cc3d696caeb8",
                  "15": "2014-06-30 00:00:00.000"
                },
                {
                  "0": "156",
                  "1": "322160340",
                  "2": "adventure-works\\lane0",
                  "3": "0x7AF04610",
                  "4": "4",
                  "5": "Production Technician - WC20",
                  "6": "1974-09-23",
                  "7": "M",
                  "8": "M",
                  "9": "2009-01-11",
                  "10": "0",
                  "11": "11",
                  "12": "25",
                  "13": "1",
                  "14": "042427b8-3883-4a87-a6a3-724ee1690f49",
                  "15": "2014-06-30 00:00:00.000"
                },
                {
                  "0": "157",
                  "1": "812797414",
                  "2": "adventure-works\\linda1",
                  "3": "0x7AF04630",
                  "4": "4",
                  "5": "Production Technician - WC20",
                  "6": "1977-10-05",
                  "7": "S",
                  "8": "F",
                  "9": "2009-02-03",
                  "10": "0",
                  "11": "12",
                  "12": "26",
                  "13": "1",
                  "14": "f963f913-449e-4ebb-bfda-fc0c3010db65",
                  "15": "2014-06-30 00:00:00.000"
                },
                {
                  "0": "158",
                  "1": "300946911",
                  "2": "adventure-works\\shelley0",
                  "3": "0x7AF04650",
                  "4": "4",
                  "5": "Production Technician - WC20",
                  "6": "1986-12-08",
                  "7": "S",
                  "8": "F",
                  "9": "2009-03-07",
                  "10": "0",
                  "11": "14",
                  "12": "27",
                  "13": "1",
                  "14": "13942056-2930-4490-83ce-af2386d5a5e7",
                  "15": "2014-06-30 00:00:00.000"
                },
                {
                  "0": "159",
                  "1": "404159499",
                  "2": "adventure-works\\terrence0",
                  "3": "0x7AF04670",
                  "4": "4",
                  "5": "Production Technician - WC20",
                  "6": "1984-12-08",
                  "7": "S",
                  "8": "M",
                  "9": "2009-02-16",
                  "10": "0",
                  "11": "13",
                  "12": "26",
                  "13": "1",
                  "14": "4da76442-5eef-41fb-ae19-16c55714f9ad",
                  "15": "2014-06-30 00:00:00.000"
                },
                {
                  "0": "160",
                  "1": "712885347",
                  "2": "adventure-works\\jeff0",
                  "3": "0x7AF04C",
                  "4": "3",
                  "5": "Production Supervisor - WC45",
                  "6": "1977-01-15",
                  "7": "M",
                  "8": "M",
                  "9": "2009-01-21",
                  "10": "0",
                  "11": "74",
                  "12": "57",
                  "13": "1",
                  "14": "7c7d459e-1f49-427d-9bd5-de31880c85dc",
                  "15": "2014-06-30 00:00:00.000"
                },
                {
                  "0": "161",
                  "1": "275962311",
                  "2": "adventure-works\\kirk0",
                  "3": "0x7AF04D60",
                  "4": "4",
                  "5": "Production Technician - WC45",
                  "6": "1985-02-06",
                  "7": "S",
                  "8": "M",
                  "9": "2008-12-15",
                  "10": "0",
                  "11": "74",
                  "12": "57",
                  "13": "1",
                  "14": "08d25baa-167b-499c-8b51-31dcc856a8cf",
                  "15": "2014-06-30 00:00:00.000"
                },
                {
                  "0": "162",
                  "1": "514829225",
                  "2": "adventure-works\\laura0",
                  "3": "0x7AF04DA0",
                  "4": "4",
                  "5": "Production Technician - WC45",
                  "6": "1980-12-25",
                  "7": "S",
                  "8": "F",
                  "9": "2009-01-03",
                  "10": "0",
                  "11": "75",
                  "12": "57",
                  "13": "1",
                  "14": "fccd65ba-2702-4409-ae56-75af1710ac78",
                  "15": "2014-06-30 00:00:00.000"
                },
                {
                  "0": "163",
                  "1": "377784364",
                  "2": "adventure-works\\alex0",
                  "3": "0x7AF04DE0",
                  "4": "4",
                  "5": "Production Technician - WC45",
                  "6": "1990-04-13",
                  "7": "M",
                  "8": "M",
                  "9": "2009-02-08",
                  "10": "0",
                  "11": "77",
                  "12": "58",
                  "13": "1",
                  "14": "b96bc9c2-5a25-4a9b-887a-c7c10e47b80c",
                  "15": "2014-06-30 00:00:00.000"
                },
                {
                  "0": "164",
                  "1": "65848458",
                  "2": "adventure-works\\andrew1",
                  "3": "0x7AF04E10",
                  "4": "4",
                  "5": "Production Technician - WC45",
                  "6": "1988-09-24",
                  "7": "S",
                  "8": "M",
                  "9": "2009-03-06",
                  "10": "0",
                  "11": "73",
                  "12": "56",
                  "13": "1",
                  "14": "a2a2cf20-4e5c-45f7-a7bd-1b94f0c3a43a",
                  "15": "2014-06-30 00:00:00.000"
                },
                {
                  "0": "165",
                  "1": "539490372",
                  "2": "adventure-works\\chris0",
                  "3": "0x7AF04E30",
                  "4": "4",
                  "5": "Production Technician - WC45",
                  "6": "1988-12-16",
                  "7": "M",
                  "8": "M",
                  "9": "2009-01-22",
                  "10": "0",
                  "11": "76",
                  "12": "58",
                  "13": "1",
                  "14": "300223f3-5587-4230-909b-d9c4afd6d683",
                  "15": "2014-06-30 00:00:00.000"
                },
                {
                  "0": "166",
                  "1": "60114406",
                  "2": "adventure-works\\jack0",
                  "3": "0x7AF054",
                  "4": "3",
                  "5": "Production Supervisor - WC30",
                  "6": "1983-06-22",
                  "7": "S",
                  "8": "M",
                  "9": "2009-02-21",
                  "10": "0",
                  "11": "68",
                  "12": "54",
                  "13": "1",
                  "14": "69a47230-70ee-48fd-ac15-c39f3712ff14",
                  "15": "2014-06-30 00:00:00.000"
                },
                {
                  "0": "167",
                  "1": "498138869",
                  "2": "adventure-works\\david1",
                  "3": "0x7AF05560",
                  "4": "4",
                  "5": "Production Technician - WC30",
                  "6": "1979-11-02",
                  "7": "S",
                  "8": "M",
                  "9": "2008-12-02",
                  "10": "0",
                  "11": "25",
                  "12": "32",
                  "13": "1",
                  "14": "ed7ee92e-a9d0-4e3a-8dee-4b143e459f7e",
                  "15": "2014-06-30 00:00:00.000"
                },
                {
                  "0": "168",
                  "1": "271438431",
                  "2": "adventure-works\\garrett0",
                  "3": "0x7AF055A0",
                  "4": "4",
                  "5": "Production Technician - WC30",
                  "6": "1984-08-25",
                  "7": "S",
                  "8": "M",
                  "9": "2008-12-07",
                  "10": "0",
                  "11": "34",
                  "12": "37",
                  "13": "1",
                  "14": "a6f5f72f-aa03-41b7-8b6e-b123bd360753",
                  "15": "2014-06-30 00:00:00.000"
                },
                {
                  "0": "169",
                  "1": "351069889",
                  "2": "adventure-works\\susan1",
                  "3": "0x7AF055E0",
                  "4": "4",
                  "5": "Production Technician - WC30",
                  "6": "1983-04-02",
                  "7": "S",
                  "8": "F",
                  "9": "2008-12-14",
                  "10": "0",
                  "11": "31",
                  "12": "35",
                  "13": "1",
                  "14": "f73d75d5-b47b-46ee-ad11-7bf13dd6c55d",
                  "15": "2014-06-30 00:00:00.000"
                },
                {
                  "0": "170",
                  "1": "476115505",
                  "2": "adventure-works\\george0",
                  "3": "0x7AF05610",
                  "4": "4",
                  "5": "Production Technician - WC30",
                  "6": "1977-04-16",
                  "7": "M",
                  "8": "M",
                  "9": "2008-12-21",
                  "10": "0",
                  "11": "26",
                  "12": "33",
                  "13": "1",
                  "14": "01b119a2-2af3-4775-818e-b421fecb07a7",
                  "15": "2014-06-30 00:00:00.000"
                },
                {
                  "0": "171",
                  "1": "746373306",
                  "2": "adventure-works\\david3",
                  "3": "0x7AF05630",
                  "4": "4",
                  "5": "Production Technician - WC30",
                  "6": "1981-08-03",
                  "7": "S",
                  "8": "M",
                  "9": "2009-01-02",
                  "10": "0",
                  "11": "32",
                  "12": "36",
                  "13": "1",
                  "14": "84c358d4-2493-452c-b7d6-b212c893a009",
                  "15": "2014-06-30 00:00:00.000"
                },
                {
                  "0": "172",
                  "1": "364818297",
                  "2": "adventure-works\\marc0",
                  "3": "0x7AF05650",
                  "4": "4",
                  "5": "Production Technician - WC30",
                  "6": "1986-10-24",
                  "7": "M",
                  "8": "M",
                  "9": "2009-01-16",
                  "10": "0",
                  "11": "22",
                  "12": "31",
                  "13": "1",
                  "14": "1f151abc-db4a-431a-8a5d-15f46c5b8ffc",
                  "15": "2014-06-30 00:00:00.000"
                },
                {
                  "0": "173",
                  "1": "87268837",
                  "2": "adventure-works\\eugene0",
                  "3": "0x7AF05670",
                  "4": "4",
                  "5": "Production Technician - WC30",
                  "6": "1987-07-15",
                  "7": "S",
                  "8": "M",
                  "9": "2009-01-21",
                  "10": "0",
                  "11": "33",
                  "12": "36",
                  "13": "1",
                  "14": "1ba1d374-18ae-48ed-938f-6f5d2eec4d4d",
                  "15": "2014-06-30 00:00:00.000"
                },
                {
                  "0": "174",
                  "1": "585408256",
                  "2": "adventure-works\\benjamin0",
                  "3": "0x7AF05688",
                  "4": "4",
                  "5": "Production Technician - WC30",
                  "6": "1986-01-05",
                  "7": "S",
                  "8": "M",
                  "9": "2009-01-27",
                  "10": "0",
                  "11": "28",
                  "12": "34",
                  "13": "1",
                  "14": "f1a6f824-895b-4a0f-af1b-05fba703e69f",
                  "15": "2014-06-30 00:00:00.000"
                },
                {
                  "0": "175",
                  "1": "259388196",
                  "2": "adventure-works\\reed0",
                  "3": "0x7AF05698",
                  "4": "4",
                  "5": "Production Technician - WC30",
                  "6": "1989-01-08",
                  "7": "M",
                  "8": "M",
                  "9": "2009-02-02",
                  "10": "0",
                  "11": "23",
                  "12": "31",
                  "13": "1",
                  "14": "b3967c00-7014-4960-af15-b1a6d3094f6f",
                  "15": "2014-06-30 00:00:00.000"
                },
                {
                  "0": "176",
                  "1": "860123571",
                  "2": "adventure-works\\david7",
                  "3": "0x7AF056A8",
                  "4": "4",
                  "5": "Production Technician - WC30",
                  "6": "1985-09-23",
                  "7": "M",
                  "8": "M",
                  "9": "2009-02-14",
                  "10": "0",
                  "11": "29",
                  "12": "34",
                  "13": "1",
                  "14": "85afb689-7eab-41a8-b154-9446195d5bde",
                  "15": "2014-06-30 00:00:00.000"
                },
                {
                  "0": "177",
                  "1": "551346974",
                  "2": "adventure-works\\russell1",
                  "3": "0x7AF056B8",
                  "4": "4",
                  "5": "Production Technician - WC30",
                  "6": "1982-02-11",
                  "7": "M",
                  "8": "M",
                  "9": "2009-02-21",
                  "10": "0",
                  "11": "24",
                  "12": "32",
                  "13": "1",
                  "14": "d54c7989-2675-4ef3-b392-370a8d264b2b",
                  "15": "2014-06-30 00:00:00.000"
                },
                {
                  "0": "178",
                  "1": "568626529",
                  "2": "adventure-works\\john3",
                  "3": "0x7AF056C8",
                  "4": "4",
                  "5": "Production Technician - WC30",
                  "6": "1982-03-24",
                  "7": "S",
                  "8": "M",
                  "9": "2009-03-03",
                  "10": "0",
                  "11": "27",
                  "12": "33",
                  "13": "1",
                  "14": "96c7eab1-6dea-4c59-afd8-923f0e8de1f6",
                  "15": "2014-06-30 00:00:00.000"
                },
                {
                  "0": "179",
                  "1": "587567941",
                  "2": "adventure-works\\jan0",
                  "3": "0x7AF056D8",
                  "4": "4",
                  "5": "Production Technician - WC30",
                  "6": "1974-11-15",
                  "7": "S",
                  "8": "M",
                  "9": "2009-03-05",
                  "10": "0",
                  "11": "30",
                  "12": "35",
                  "13": "1",
                  "14": "975f827d-be71-4eb1-8dbf-e6c451d1fad5",
                  "15": "2014-06-30 00:00:00.000"
                },
                {
                  "0": "180",
                  "1": "862951447",
                  "2": "adventure-works\\katie0",
                  "3": "0x7AF05C",
                  "4": "3",
                  "5": "Production Supervisor - WC20",
                  "6": "1984-11-18",
                  "7": "S",
                  "8": "F",
                  "9": "2009-02-20",
                  "10": "0",
                  "11": "42",
                  "12": "41",
                  "13": "1",
                  "14": "5be8b211-cbe5-45d8-84fd-23f36a881473",
                  "15": "2014-06-30 00:00:00.000"
                },
                {
                  "0": "181",
                  "1": "545337468",
                  "2": "adventure-works\\michael0",
                  "3": "0x7AF05D60",
                  "4": "4",
                  "5": "Production Technician - WC20",
                  "6": "1984-11-17",
                  "7": "S",
                  "8": "M",
                  "9": "2008-12-09",
                  "10": "0",
                  "11": "20",
                  "12": "30",
                  "13": "1",
                  "14": "4fd6fe82-535a-4dd1-beb1-154a8b5e42f0",
                  "15": "2014-06-30 00:00:00.000"
                },
                {
                  "0": "182",
                  "1": "368920189",
                  "2": "adventure-works\\nitin0",
                  "3": "0x7AF05DA0",
                  "4": "4",
                  "5": "Production Technician - WC20",
                  "6": "1986-12-01",
                  "7": "S",
                  "8": "M",
                  "9": "2008-12-28",
                  "10": "0",
                  "11": "21",
                  "12": "30",
                  "13": "1",
                  "14": "ebbc6787-3f2d-4f6b-9ea3-4def02ef382e",
                  "15": "2014-06-30 00:00:00.000"
                },
                {
                  "0": "183",
                  "1": "969985265",
                  "2": "adventure-works\\barbara0",
                  "3": "0x7AF05DE0",
                  "4": "4",
                  "5": "Production Technician - WC20",
                  "6": "1979-07-02",
                  "7": "M",
                  "8": "F",
                  "9": "2009-01-22",
                  "10": "0",
                  "11": "17",
                  "12": "28",
                  "13": "1",
                  "14": "045c9cbb-3448-4599-9fa9-6c7a9f82f832",
                  "15": "2014-06-30 00:00:00.000"
                },
                {
                  "0": "184",
                  "1": "305522471",
                  "2": "adventure-works\\john2",
                  "3": "0x7AF05E10",
                  "4": "4",
                  "5": "Production Technician - WC20",
                  "6": "1986-04-05",
                  "7": "M",
                  "8": "M",
                  "9": "2009-02-09",
                  "10": "0",
                  "11": "18",
                  "12": "29",
                  "13": "1",
                  "14": "bab69951-28ad-4bca-b5ac-032746d0cc6f",
                  "15": "2014-06-30 00:00:00.000"
                },
                {
                  "0": "185",
                  "1": "621932914",
                  "2": "adventure-works\\stefen0",
                  "3": "0x7AF05E30",
                  "4": "4",
                  "5": "Production Technician - WC20",
                  "6": "1975-12-21",
                  "7": "S",
                  "8": "M",
                  "9": "2009-02-28",
                  "10": "0",
                  "11": "19",
                  "12": "29",
                  "13": "1",
                  "14": "b9eebf9f-f694-4bc2-98ec-9b4fb0379edf",
                  "15": "2014-06-30 00:00:00.000"
                },
                {
                  "0": "186",
                  "1": "551834634",
                  "2": "adventure-works\\shane0",
                  "3": "0x7AF064",
                  "4": "3",
                  "5": "Production Supervisor - WC45",
                  "6": "1990-05-24",
                  "7": "S",
                  "8": "M",
                  "9": "2009-02-08",
                  "10": "0",
                  "11": "75",
                  "12": "57",
                  "13": "1",
                  "14": "2625c358-672a-4000-ad67-b8cd3f318285",
                  "15": "2014-06-30 00:00:00.000"
                },
                {
                  "0": "187",
                  "1": "713403643",
                  "2": "adventure-works\\yvonne0",
                  "3": "0x7AF06560",
                  "4": "4",
                  "5": "Production Technician - WC45",
                  "6": "1989-04-15",
                  "7": "M",
                  "8": "F",
                  "9": "2008-12-09",
                  "10": "0",
                  "11": "79",
                  "12": "59",
                  "13": "1",
                  "14": "83c6dabf-fd7d-4f5b-bb22-eb7eebb9a772",
                  "15": "2014-06-30 00:00:00.000"
                },
                {
                  "0": "188",
                  "1": "435234965",
                  "2": "adventure-works\\douglas0",
                  "3": "0x7AF065A0",
                  "4": "4",
                  "5": "Production Technician - WC45",
                  "6": "1985-11-24",
                  "7": "M",
                  "8": "M",
                  "9": "2008-12-27",
                  "10": "0",
                  "11": "80",
                  "12": "60",
                  "13": "1",
                  "14": "1ab0edeb-7558-4734-8423-5a11b44dca35",
                  "15": "2014-06-30 00:00:00.000"
                },
                {
                  "0": "189",
                  "1": "187369436",
                  "2": "adventure-works\\janeth0",
                  "3": "0x7AF065E0",
                  "4": "4",
                  "5": "Production Technician - WC45",
                  "6": "1972-07-24",
                  "7": "S",
                  "8": "F",
                  "9": "2009-01-15",
                  "10": "0",
                  "11": "81",
                  "12": "60",
                  "13": "1",
                  "14": "8261b8cb-bc3f-4bce-b364-86035d870263",
                  "15": "2014-06-30 00:00:00.000"
                },
                {
                  "0": "190",
                  "1": "456839592",
                  "2": "adventure-works\\robert0",
                  "3": "0x7AF06610",
                  "4": "4",
                  "5": "Production Technician - WC45",
                  "6": "1985-02-28",
                  "7": "S",
                  "8": "M",
                  "9": "2009-02-02",
                  "10": "0",
                  "11": "82",
                  "12": "61",
                  "13": "1",
                  "14": "2203154e-5ebd-4aca-99be-d835a3309d03",
                  "15": "2014-06-30 00:00:00.000"
                },
                {
                  "0": "191",
                  "1": "399658727",
                  "2": "adventure-works\\lionel0",
                  "3": "0x7AF06630",
                  "4": "4",
                  "5": "Production Technician - WC45",
                  "6": "1988-03-14",
                  "7": "S",
                  "8": "M",
                  "9": "2009-02-26",
                  "10": "0",
                  "11": "78",
                  "12": "59",
                  "13": "1",
                  "14": "231b1798-f67b-45c1-9688-265180f93d28",
                  "15": "2014-06-30 00:00:00.000"
                },
                {
                  "0": "192",
                  "1": "634335025",
                  "2": "adventure-works\\brenda0",
                  "3": "0x7AF06C",
                  "4": "3",
                  "5": "Production Supervisor - WC40",
                  "6": "1983-02-28",
                  "7": "M",
                  "8": "F",
                  "9": "2009-03-05",
                  "10": "0",
                  "11": "71",
                  "12": "55",
                  "13": "1",
                  "14": "714d519b-375e-4c5a-8491-c758d00cf95f",
                  "15": "2014-06-30 00:00:00.000"
                },
                {
                  "0": "193",
                  "1": "761597760",
                  "2": "adventure-works\\alejandro0",
                  "3": "0x7AF06D60",
                  "4": "4",
                  "5": "Production Technician - WC40",
                  "6": "1988-12-05",
                  "7": "S",
                  "8": "M",
                  "9": "2008-12-06",
                  "10": "0",
                  "11": "52",
                  "12": "46",
                  "13": "1",
                  "14": "8c7321d2-2c64-4902-9d64-8f5c1eb7f747",
                  "15": "2014-06-30 00:00:00.000"
                },
                {
                  "0": "194",
                  "1": "295971920",
                  "2": "adventure-works\\fred0",
                  "3": "0x7AF06DA0",
                  "4": "4",
                  "5": "Production Technician - WC40",
                  "6": "1989-06-25",
                  "7": "S",
                  "8": "M",
                  "9": "2008-12-12",
                  "10": "0",
                  "11": "47",
                  "12": "43",
                  "13": "1",
                  "14": "45358ae8-0b0e-4c11-90bb-dac3ec0d5c82",
                  "15": "2014-06-30 00:00:00.000"
                },
                {
                  "0": "195",
                  "1": "918737118",
                  "2": "adventure-works\\kevin1",
                  "3": "0x7AF06DE0",
                  "4": "4",
                  "5": "Production Technician - WC40",
                  "6": "1985-12-25",
                  "7": "S",
                  "8": "M",
                  "9": "2008-12-17",
                  "10": "0",
                  "11": "58",
                  "12": "49",
                  "13": "1",
                  "14": "dc7e95ff-275e-41c2-8ed3-686864f0540a",
                  "15": "2014-06-30 00:00:00.000"
                },
                {
                  "0": "196",
                  "1": "370487086",
                  "2": "adventure-works\\shammi0",
                  "3": "0x7AF06E10",
                  "4": "4",
                  "5": "Production Technician - WC40",
                  "6": "1980-10-04",
                  "7": "M",
                  "8": "M",
                  "9": "2008-12-24",
                  "10": "0",
                  "11": "53",
                  "12": "46",
                  "13": "1",
                  "14": "9bef0c94-7969-4905-9a42-ce469c754800",
                  "15": "2014-06-30 00:00:00.000"
                },
                {
                  "0": "197",
                  "1": "632092621",
                  "2": "adventure-works\\rajesh0",
                  "3": "0x7AF06E30",
                  "4": "4",
                  "5": "Production Technician - WC40",
                  "6": "1977-10-04",
                  "7": "M",
                  "8": "M",
                  "9": "2008-12-31",
                  "10": "0",
                  "11": "48",
                  "12": "44",
                  "13": "1",
                  "14": "aca7b40c-7ac0-4daa-b4c7-1051d850d7d9",
                  "15": "2014-06-30 00:00:00.000"
                },
                {
                  "0": "198",
                  "1": "19312190",
                  "2": "adventure-works\\lorraine0",
                  "3": "0x7AF06E50",
                  "4": "4",
                  "5": "Production Technician - WC40",
                  "6": "1988-11-26",
                  "7": "M",
                  "8": "F",
                  "9": "2009-01-04",
                  "10": "0",
                  "11": "49",
                  "12": "44",
                  "13": "1",
                  "14": "a63966b6-9ad6-40bc-afd4-a83745879f4d",
                  "15": "2014-06-30 00:00:00.000"
                },
                {
                  "0": "199",
                  "1": "992874797",
                  "2": "adventure-works\\paula1",
                  "3": "0x7AF06E70",
                  "4": "4",
                  "5": "Production Technician - WC40",
                  "6": "1987-02-10",
                  "7": "M",
                  "8": "F",
                  "9": "2009-01-12",
                  "10": "0",
                  "11": "54",
                  "12": "47",
                  "13": "1",
                  "14": "5dd2be46-204f-4af3-91f5-5ef082f6d6a6",
                  "15": "2014-06-30 00:00:00.000"
                },
                {
                  "0": "200",
                  "1": "749211824",
                  "2": "adventure-works\\frank0",
                  "3": "0x7AF06E88",
                  "4": "4",
                  "5": "Production Technician - WC40",
                  "6": "1987-09-06",
                  "7": "M",
                  "8": "M",
                  "9": "2009-01-17",
                  "10": "0",
                  "11": "56",
                  "12": "48",
                  "13": "1",
                  "14": "dd9ad278-ed17-40cf-8619-baf1bb9d1cf2",
                  "15": "2014-06-30 00:00:00.000"
                },
                {
                  "0": "201",
                  "1": "746201340",
                  "2": "adventure-works\\brian0",
                  "3": "0x7AF06E98",
                  "4": "4",
                  "5": "Production Technician - WC40",
                  "6": "1977-02-10",
                  "7": "S",
                  "8": "M",
                  "9": "2009-01-29",
                  "10": "0",
                  "11": "55",
                  "12": "47",
                  "13": "1",
                  "14": "18d594a8-b4ed-43c0-9c43-6033feaadf4e",
                  "15": "2014-06-30 00:00:00.000"
                },
                {
                  "0": "202",
                  "1": "436757988",
                  "2": "adventure-works\\tawana0",
                  "3": "0x7AF06EA8",
                  "4": "4",
                  "5": "Production Technician - WC40",
                  "6": "1989-11-10",
                  "7": "S",
                  "8": "M",
                  "9": "2009-02-05",
                  "10": "0",
                  "11": "50",
                  "12": "45",
                  "13": "1",
                  "14": "bb4a3e50-232e-4212-9faf-e67429febc7d",
                  "15": "2014-06-30 00:00:00.000"
                },
                {
                  "0": "203",
                  "1": "693168613",
                  "2": "adventure-works\\ken1",
                  "3": "0x7AF06EB8",
                  "4": "4",
                  "5": "Production Technician - WC40",
                  "6": "1981-05-28",
                  "7": "M",
                  "8": "M",
                  "9": "2009-02-24",
                  "10": "0",
                  "11": "51",
                  "12": "45",
                  "13": "1",
                  "14": "699c00d8-c4ab-4cd2-a48f-37cbcb5bfcca",
                  "15": "2014-06-30 00:00:00.000"
                },
                {
                  "0": "204",
                  "1": "440379437",
                  "2": "adventure-works\\gabe0",
                  "3": "0x7AF06EC8",
                  "4": "4",
                  "5": "Production Technician - WC40",
                  "6": "1988-05-10",
                  "7": "M",
                  "8": "M",
                  "9": "2009-03-08",
                  "10": "0",
                  "11": "57",
                  "12": "48",
                  "13": "1",
                  "14": "790c9a7c-264c-4d48-a9d3-e2571a8011d8",
                  "15": "2014-06-30 00:00:00.000"
                },
                {
                  "0": "205",
                  "1": "332349500",
                  "2": "adventure-works\\lori0",
                  "3": "0x7AF074",
                  "4": "3",
                  "5": "Production Supervisor - WC45",
                  "6": "1980-07-18",
                  "7": "S",
                  "8": "F",
                  "9": "2009-02-26",
                  "10": "0",
                  "11": "76",
                  "12": "58",
                  "13": "1",
                  "14": "23d436fc-08f7-4988-8b4d-490aa4e8b7e7",
                  "15": "2014-06-30 00:00:00.000"
                },
                {
                  "0": "206",
                  "1": "835460180",
                  "2": "adventure-works\\stuart0",
                  "3": "0x7AF07560",
                  "4": "4",
                  "5": "Production Technician - WC45",
                  "6": "1962-09-13",
                  "7": "S",
                  "8": "M",
                  "9": "2008-12-02",
                  "10": "0",
                  "11": "84",
                  "12": "62",
                  "13": "1",
                  "14": "4f361b4f-7920-4037-9a0a-46d616f9b9c7",
                  "15": "2014-06-30 00:00:00.000"
                },
                {
                  "0": "207",
                  "1": "687685941",
                  "2": "adventure-works\\greg0",
                  "3": "0x7AF075A0",
                  "4": "4",
                  "5": "Production Technician - WC45",
                  "6": "1970-10-18",
                  "7": "S",
                  "8": "M",
                  "9": "2008-12-02",
                  "10": "0",
                  "11": "85",
                  "12": "62",
                  "13": "1",
                  "14": "a36b5d6b-72a5-47f8-9f6b-5d922130e760",
                  "15": "2014-06-30 00:00:00.000"
                },
                {
                  "0": "208",
                  "1": "199546871",
                  "2": "adventure-works\\scott0",
                  "3": "0x7AF075E0",
                  "4": "4",
                  "5": "Production Technician - WC45",
                  "6": "1987-02-10",
                  "7": "M",
                  "8": "M",
                  "9": "2009-01-08",
                  "10": "0",
                  "11": "86",
                  "12": "63",
                  "13": "1",
                  "14": "e35da50a-bb51-4e08-8b8d-87ef4650247a",
                  "15": "2014-06-30 00:00:00.000"
                },
                {
                  "0": "209",
                  "1": "167554340",
                  "2": "adventure-works\\kathie0",
                  "3": "0x7AF07610",
                  "4": "4",
                  "5": "Production Technician - WC45",
                  "6": "1990-11-01",
                  "7": "M",
                  "8": "F",
                  "9": "2009-01-27",
                  "10": "0",
                  "11": "87",
                  "12": "63",
                  "13": "1",
                  "14": "25fc84d7-e013-44b8-82cd-63cd4723af81",
                  "15": "2014-06-30 00:00:00.000"
                },
                {
                  "0": "210",
                  "1": "20244403",
                  "2": "adventure-works\\belinda0",
                  "3": "0x7AF07630",
                  "4": "4",
                  "5": "Production Technician - WC45",
                  "6": "1969-09-17",
                  "7": "S",
                  "8": "F",
                  "9": "2009-02-20",
                  "10": "0",
                  "11": "83",
                  "12": "61",
                  "13": "1",
                  "14": "f714b5ec-ca7c-4e6e-a812-2c5a119f4c30",
                  "15": "2014-06-30 00:00:00.000"
                },
                {
                  "0": "211",
                  "1": "398223854",
                  "2": "adventure-works\\hazem0",
                  "3": "0x7B40",
                  "4": "2",
                  "5": "Quality Assurance Manager",
                  "6": "1977-10-26",
                  "7": "S",
                  "8": "M",
                  "9": "2009-02-28",
                  "10": "1",
                  "11": "80",
                  "12": "60",
                  "13": "1",
                  "14": "05c84608-f445-4f9d-bb5c-0828c309c29d",
                  "15": "2014-12-26 09:17:08.637"
                },
                {
                  "0": "212",
                  "1": "885055826",
                  "2": "adventure-works\\peng0",
                  "3": "0x7B56",
                  "4": "3",
                  "5": "Quality Assurance Supervisor",
                  "6": "1976-03-18",
                  "7": "M",
                  "8": "M",
                  "9": "2008-12-09",
                  "10": "1",
                  "11": "81",
                  "12": "60",
                  "13": "1",
                  "14": "e249d613-36c9-4544-9b6f-6ce50e5e0da5",
                  "15": "2014-06-30 00:00:00.000"
                },
                {
                  "0": "213",
                  "1": "343861179",
                  "2": "adventure-works\\sootha0",
                  "3": "0x7B56B0",
                  "4": "4",
                  "5": "Quality Assurance Technician",
                  "6": "1966-12-05",
                  "7": "M",
                  "8": "M",
                  "9": "2010-02-23",
                  "10": "0",
                  "11": "85",
                  "12": "62",
                  "13": "1",
                  "14": "a3dadf19-27f0-460a-9888-ce6caa9e3583",
                  "15": "2014-06-30 00:00:00.000"
                },
                {
                  "0": "214",
                  "1": "131471224",
                  "2": "adventure-works\\andreas0",
                  "3": "0x7B56D0",
                  "4": "4",
                  "5": "Quality Assurance Technician",
                  "6": "1989-03-28",
                  "7": "M",
                  "8": "M",
                  "9": "2009-02-02",
                  "10": "0",
                  "11": "84",
                  "12": "62",
                  "13": "1",
                  "14": "f4ddd64f-dffe-4df3-aa17-d6bea1924818",
                  "15": "2014-06-30 00:00:00.000"
                },
                {
                  "0": "215",
                  "1": "381772114",
                  "2": "adventure-works\\mark0",
                  "3": "0x7B56F0",
                  "4": "4",
                  "5": "Quality Assurance Technician",
                  "6": "1986-04-30",
                  "7": "S",
                  "8": "M",
                  "9": "2009-01-15",
                  "10": "0",
                  "11": "83",
                  "12": "61",
                  "13": "1",
                  "14": "6b63ef27-2c55-4f4c-be29-fce8b694dc4a",
                  "15": "2014-06-30 00:00:00.000"
                },
                {
                  "0": "216",
                  "1": "403414852",
                  "2": "adventure-works\\sean0",
                  "3": "0x7B5708",
                  "4": "4",
                  "5": "Quality Assurance Technician",
                  "6": "1976-03-06",
                  "7": "S",
                  "8": "M",
                  "9": "2008-12-28",
                  "10": "0",
                  "11": "82",
                  "12": "61",
                  "13": "1",
                  "14": "34e128cf-d904-4327-8014-9df0d5de7d08",
                  "15": "2014-06-30 00:00:00.000"
                },
                {
                  "0": "217",
                  "1": "345106466",
                  "2": "adventure-works\\zainal0",
                  "3": "0x7B5A",
                  "4": "3",
                  "5": "Document Control Manager",
                  "6": "1976-01-30",
                  "7": "M",
                  "8": "M",
                  "9": "2009-01-04",
                  "10": "0",
                  "11": "77",
                  "12": "58",
                  "13": "1",
                  "14": "dc60eeed-9f9f-4435-8666-4de4fafde9c3",
                  "15": "2014-06-30 00:00:00.000"
                },
                {
                  "0": "218",
                  "1": "540688287",
                  "2": "adventure-works\\tengiz0",
                  "3": "0x7B5AB0",
                  "4": "4",
                  "5": "Control Specialist",
                  "6": "1990-04-28",
                  "7": "S",
                  "8": "M",
                  "9": "2008-12-16",
                  "10": "0",
                  "11": "76",
                  "12": "58",
                  "13": "1",
                  "14": "c609b3b2-7969-410c-934c-62c34b63c4ee",
                  "15": "2014-06-30 00:00:00.000"
                },
                {
                  "0": "219",
                  "1": "242381745",
                  "2": "adventure-works\\sean1",
                  "3": "0x7B5AD0",
                  "4": "4",
                  "5": "Document Control Assistant",
                  "6": "1987-03-12",
                  "7": "S",
                  "8": "M",
                  "9": "2009-01-22",
                  "10": "0",
                  "11": "78",
                  "12": "59",
                  "13": "1",
                  "14": "f78657a9-83ef-4b4d-9809-3c4c6d1a7bb4",
                  "15": "2014-06-30 00:00:00.000"
                },
                {
                  "0": "220",
                  "1": "260770918",
                  "2": "adventure-works\\karen0",
                  "3": "0x7B5AF0",
                  "4": "4",
                  "5": "Document Control Assistant",
                  "6": "1975-12-25",
                  "7": "M",
                  "8": "F",
                  "9": "2009-02-09",
                  "10": "0",
                  "11": "79",
                  "12": "59",
                  "13": "1",
                  "14": "8a41ed23-7ae2-4c15-aa5d-9496e721f848",
                  "15": "2014-06-30 00:00:00.000"
                },
                {
                  "0": "221",
                  "1": "260805477",
                  "2": "adventure-works\\chris1",
                  "3": "0x7B5B08",
                  "4": "4",
                  "5": "Control Specialist",
                  "6": "1987-05-26",
                  "7": "M",
                  "8": "M",
                  "9": "2009-03-06",
                  "10": "0",
                  "11": "75",
                  "12": "57",
                  "13": "1",
                  "14": "45c358fb-9c7f-4d36-8ec7-3d89e9fd07f4",
                  "15": "2014-06-30 00:00:00.000"
                },
                {
                  "0": "222",
                  "1": "685233686",
                  "2": "adventure-works\\ascott0",
                  "3": "0x7BC0",
                  "4": "2",
                  "5": "Master Scheduler",
                  "6": "1968-09-17",
                  "7": "S",
                  "8": "M",
                  "9": "2008-12-12",
                  "10": "0",
                  "11": "44",
                  "12": "42",
                  "13": "1",
                  "14": "13909262-4136-492f-bca3-0b0e3773b03e",
                  "15": "2014-12-26 09:17:08.637"
                },
                {
                  "0": "223",
                  "1": "981495526",
                  "2": "adventure-works\\sairaj0",
                  "3": "0x7BD6",
                  "4": "3",
                  "5": "Scheduling Assistant",
                  "6": "1987-12-22",
                  "7": "M",
                  "8": "M",
                  "9": "2009-01-26",
                  "10": "0",
                  "11": "46",
                  "12": "43",
                  "13": "1",
                  "14": "4d36a720-ce32-4c47-866a-db7844449309",
                  "15": "2014-06-30 00:00:00.000"
                },
                {
                  "0": "224",
                  "1": "621209647",
                  "2": "adventure-works\\william0",
                  "3": "0x7BDA",
                  "4": "3",
                  "5": "Scheduling Assistant",
                  "6": "1981-11-06",
                  "7": "M",
                  "8": "M",
                  "9": "2009-01-07",
                  "10": "0",
                  "11": "45",
                  "12": "42",
                  "13": "1",
                  "14": "1a68cd62-6fe9-4613-90d4-2cd178e4e54a",
                  "15": "2014-06-30 00:00:00.000"
                },
                {
                  "0": "225",
                  "1": "470689086",
                  "2": "adventure-works\\alan0",
                  "3": "0x7BDE",
                  "4": "3",
                  "5": "Scheduling Assistant",
                  "6": "1984-03-29",
                  "7": "M",
                  "8": "M",
                  "9": "2009-02-13",
                  "10": "0",
                  "11": "47",
                  "12": "43",
                  "13": "1",
                  "14": "de321854-b076-4d59-bb7b-42152031b108",
                  "15": "2014-06-30 00:00:00.000"
                },
                {
                  "0": "226",
                  "1": "368691270",
                  "2": "adventure-works\\brian1",
                  "3": "0x7BE1",
                  "4": "3",
                  "5": "Scheduling Assistant",
                  "6": "1984-08-11",
                  "7": "M",
                  "8": "M",
                  "9": "2009-03-03",
                  "10": "0",
                  "11": "48",
                  "12": "44",
                  "13": "1",
                  "14": "dfa02733-c26e-4e31-99d8-9167e4e5131d",
                  "15": "2014-06-30 00:00:00.000"
                },
                {
                  "0": "227",
                  "1": "141165819",
                  "2": "adventure-works\\gary1",
                  "3": "0x7C20",
                  "4": "2",
                  "5": "Facilities Manager",
                  "6": "1971-02-18",
                  "7": "M",
                  "8": "M",
                  "9": "2009-12-02",
                  "10": "1",
                  "11": "86",
                  "12": "63",
                  "13": "1",
                  "14": "62f6ec59-5635-44f3-9cc1-2d8eeaf90a05",
                  "15": "2014-06-30 00:00:00.000"
                },
                {
                  "0": "228",
                  "1": "553069203",
                  "2": "adventure-works\\christian0",
                  "3": "0x7C2B",
                  "4": "3",
                  "5": "Maintenance Supervisor",
                  "6": "1976-01-18",
                  "7": "M",
                  "8": "M",
                  "9": "2008-12-14",
                  "10": "1",
                  "11": "92",
                  "12": "66",
                  "13": "1",
                  "14": "4611c7c5-90a0-407f-b054-93bd51533609",
                  "15": "2014-06-30 00:00:00.000"
                },
                {
                  "0": "229",
                  "1": "879334904",
                  "2": "adventure-works\\lori1",
                  "3": "0x7C2B58",
                  "4": "4",
                  "5": "Janitor",
                  "6": "1970-07-31",
                  "7": "M",
                  "8": "F",
                  "9": "2010-02-16",
                  "10": "0",
                  "11": "90",
                  "12": "65",
                  "13": "1",
                  "14": "929fe187-ee24-4f5f-af2a-f96324f09423",
                  "15": "2014-06-30 00:00:00.000"
                },
                {
                  "0": "230",
                  "1": "28414965",
                  "2": "adventure-works\\stuart1",
                  "3": "0x7C2B68",
                  "4": "4",
                  "5": "Janitor",
                  "6": "1971-12-17",
                  "7": "M",
                  "8": "M",
                  "9": "2010-03-05",
                  "10": "0",
                  "11": "88",
                  "12": "64",
                  "13": "1",
                  "14": "cc2791e6-7629-49c5-922a-81445afdf033",
                  "15": "2014-06-30 00:00:00.000"
                },
                {
                  "0": "231",
                  "1": "153479919",
                  "2": "adventure-works\\jo1",
                  "3": "0x7C2B78",
                  "4": "4",
                  "5": "Janitor",
                  "6": "1954-04-24",
                  "7": "M",
                  "8": "F",
                  "9": "2010-03-07",
                  "10": "0",
                  "11": "91",
                  "12": "65",
                  "13": "1",
                  "14": "39af5cca-9b52-41e5-b510-72901d2578f6",
                  "15": "2014-06-30 00:00:00.000"
                },
                {
                  "0": "232",
                  "1": "646304055",
                  "2": "adventure-works\\pat0",
                  "3": "0x7C2B84",
                  "4": "4",
                  "5": "Janitor",
                  "6": "1970-12-03",
                  "7": "S",
                  "8": "M",
                  "9": "2010-01-27",
                  "10": "0",
                  "11": "89",
                  "12": "64",
                  "13": "1",
                  "14": "49238447-30ee-4009-993f-0b6c756ab436",
                  "15": "2014-06-30 00:00:00.000"
                },
                {
                  "0": "233",
                  "1": "552560652",
                  "2": "adventure-works\\magnus0",
                  "3": "0x7C2D",
                  "4": "3",
                  "5": "Facilities Administrative Assistant",
                  "6": "1971-08-27",
                  "7": "M",
                  "8": "M",
                  "9": "2009-12-21",
                  "10": "0",
                  "11": "87",
                  "12": "63",
                  "13": "1",
                  "14": "0a4bcc09-ace5-4481-9067-8b9ed70eca18",
                  "15": "2014-06-30 00:00:00.000"
                },
                {
                  "0": "234",
                  "1": "184188301",
                  "2": "adventure-works\\laura1",
                  "3": "0x84",
                  "4": "1",
                  "5": "Chief Financial Officer",
                  "6": "1976-01-06",
                  "7": "M",
                  "8": "F",
                  "9": "2009-01-31",
                  "10": "1",
                  "11": "0",
                  "12": "20",
                  "13": "1",
                  "14": "d5e315a6-bd65-4d67-9d5f-81ef5c4ef8a6",
                  "15": "2014-06-30 00:00:00.000"
                },
                {
                  "0": "235",
                  "1": "535145551",
                  "2": "adventure-works\\paula0",
                  "3": "0x8560",
                  "4": "2",
                  "5": "Human Resources Manager",
                  "6": "1976-02-11",
                  "7": "M",
                  "8": "F",
                  "9": "2008-12-06",
                  "10": "1",
                  "11": "54",
                  "12": "47",
                  "13": "1",
                  "14": "65028f15-4149-4de5-b203-9d7ec86baf87",
                  "15": "2014-06-30 00:00:00.000"
                },
                {
                  "0": "236",
                  "1": "476980013",
                  "2": "adventure-works\\grant0",
                  "3": "0x856B",
                  "4": "3",
                  "5": "Human Resources Administrative Assistant",
                  "6": "1976-04-16",
                  "7": "S",
                  "8": "M",
                  "9": "2009-02-25",
                  "10": "0",
                  "11": "53",
                  "12": "46",
                  "13": "1",
                  "14": "4511abba-7f34-400e-907b-a663c20e1a41",
                  "15": "2014-06-30 00:00:00.000"
                },
                {
                  "0": "237",
                  "1": "416679555",
                  "2": "adventure-works\\hao0",
                  "3": "0x856D",
                  "4": "3",
                  "5": "Human Resources Administrative Assistant",
                  "6": "1977-04-17",
                  "7": "S",
                  "8": "M",
                  "9": "2009-02-06",
                  "10": "0",
                  "11": "52",
                  "12": "46",
                  "13": "1",
                  "14": "fd53c4c8-b34e-460f-9ee5-747b07fe98b3",
                  "15": "2014-06-30 00:00:00.000"
                },
                {
                  "0": "238",
                  "1": "264306399",
                  "2": "adventure-works\\vidur0",
                  "3": "0x856F",
                  "4": "3",
                  "5": "Recruiter",
                  "6": "1984-08-01",
                  "7": "S",
                  "8": "M",
                  "9": "2009-01-01",
                  "10": "0",
                  "11": "50",
                  "12": "45",
                  "13": "1",
                  "14": "47e76b59-b137-4572-ad55-6b3e68c13bd3",
                  "15": "2014-06-30 00:00:00.000"
                },
                {
                  "0": "239",
                  "1": "619308550",
                  "2": "adventure-works\\mindy0",
                  "3": "0x857080",
                  "4": "3",
                  "5": "Benefits Specialist",
                  "6": "1984-11-20",
                  "7": "M",
                  "8": "F",
                  "9": "2008-12-25",
                  "10": "0",
                  "11": "51",
                  "12": "45",
                  "13": "1",
                  "14": "834d7ab6-06e6-4944-b42f-028cd4bd388e",
                  "15": "2014-06-30 00:00:00.000"
                },
                {
                  "0": "240",
                  "1": "332040978",
                  "2": "adventure-works\\willis0",
                  "3": "0x857180",
                  "4": "3",
                  "5": "Recruiter",
                  "6": "1978-07-18",
                  "7": "S",
                  "8": "M",
                  "9": "2008-12-13",
                  "10": "0",
                  "11": "49",
                  "12": "44",
                  "13": "1",
                  "14": "a1d86ecc-ea17-4b1b-8369-f1d07ab0a469",
                  "15": "2014-06-30 00:00:00.000"
                },
                {
                  "0": "241",
                  "1": "30845",
                  "2": "adventure-works\\david6",
                  "3": "0x85A0",
                  "4": "2",
                  "5": "Accounts Manager",
                  "6": "1983-07-08",
                  "7": "M",
                  "8": "M",
                  "9": "2009-01-30",
                  "10": "1",
                  "11": "57",
                  "12": "48",
                  "13": "1",
                  "14": "2dc9d534-f5d1-4a14-8282-0a2a0eb6fd4d",
                  "15": "2014-06-30 00:00:00.000"
                },
                {
                  "0": "242",
                  "1": "363923697",
                  "2": "adventure-works\\deborah0",
                  "3": "0x85AB",
                  "4": "3",
                  "5": "Accounts Receivable Specialist",
                  "6": "1976-03-06",
                  "7": "M",
                  "8": "F",
                  "9": "2008-12-18",
                  "10": "0",
                  "11": "60",
                  "12": "50",
                  "13": "1",
                  "14": "09f75454-028c-46ca-bc08-0147bd0220d7",
                  "15": "2014-06-30 00:00:00.000"
                },
                {
                  "0": "243",
                  "1": "60517918",
                  "2": "adventure-works\\candy0",
                  "3": "0x85AD",
                  "4": "3",
                  "5": "Accounts Receivable Specialist",
                  "6": "1976-02-23",
                  "7": "S",
                  "8": "F",
                  "9": "2009-01-06",
                  "10": "0",
                  "11": "61",
                  "12": "50",
                  "13": "1",
                  "14": "9e9f713b-707c-4f7e-9504-de188052a045",
                  "15": "2014-06-30 00:00:00.000"
                },
                {
                  "0": "244",
                  "1": "931190412",
                  "2": "adventure-works\\bryan1",
                  "3": "0x85AF",
                  "4": "3",
                  "5": "Accounts Receivable Specialist",
                  "6": "1984-09-20",
                  "7": "S",
                  "8": "M",
                  "9": "2009-01-24",
                  "10": "0",
                  "11": "62",
                  "12": "51",
                  "13": "1",
                  "14": "cb3e71ec-a381-4716-87df-d3841ab9795a",
                  "15": "2014-06-30 00:00:00.000"
                },
                {
                  "0": "245",
                  "1": "363910111",
                  "2": "adventure-works\\barbara1",
                  "3": "0x85B080",
                  "4": "3",
                  "5": "Accountant",
                  "6": "1976-01-04",
                  "7": "M",
                  "8": "F",
                  "9": "2009-02-18",
                  "10": "1",
                  "11": "58",
                  "12": "49",
                  "13": "1",
                  "14": "3ffba84e-8e97-4649-a5e1-859649d83aae",
                  "15": "2014-06-30 00:00:00.000"
                },
                {
                  "0": "246",
                  "1": "663843431",
                  "2": "adventure-works\\dragan0",
                  "3": "0x85B180",
                  "4": "3",
                  "5": "Accounts Payable Specialist",
                  "6": "1977-02-14",
                  "7": "M",
                  "8": "M",
                  "9": "2009-02-11",
                  "10": "0",
                  "11": "63",
                  "12": "51",
                  "13": "1",
                  "14": "51c54d34-064b-44f7-a6b1-7702bd491980",
                  "15": "2014-06-30 00:00:00.000"
                },
                {
                  "0": "247",
                  "1": "519756660",
                  "2": "adventure-works\\janet0",
                  "3": "0x85B280",
                  "4": "3",
                  "5": "Accounts Payable Specialist",
                  "6": "1979-03-09",
                  "7": "M",
                  "8": "F",
                  "9": "2009-03-01",
                  "10": "0",
                  "11": "64",
                  "12": "52",
                  "13": "1",
                  "14": "0c641d77-8675-493f-9947-8c65136559cd",
                  "15": "2014-06-30 00:00:00.000"
                },
                {
                  "0": "248",
                  "1": "480951955",
                  "2": "adventure-works\\mike0",
                  "3": "0x85B380",
                  "4": "3",
                  "5": "Accountant",
                  "6": "1979-07-01",
                  "7": "S",
                  "8": "M",
                  "9": "2009-03-08",
                  "10": "1",
                  "11": "59",
                  "12": "49",
                  "13": "1",
                  "14": "ac35337d-7c75-4dee-bb11-6564f257fe18",
                  "15": "2014-06-30 00:00:00.000"
                },
                {
                  "0": "249",
                  "1": "121491555",
                  "2": "adventure-works\\wendy0",
                  "3": "0x85E0",
                  "4": "2",
                  "5": "Finance Manager",
                  "6": "1984-10-11",
                  "7": "S",
                  "8": "F",
                  "9": "2008-12-25",
                  "10": "1",
                  "11": "55",
                  "12": "47",
                  "13": "1",
                  "14": "8f410408-4aa8-4d67-886d-530bfe4ebe3b",
                  "15": "2014-06-30 00:00:00.000"
                },
                {
                  "0": "250",
                  "1": "895209680",
                  "2": "adventure-works\\sheela0",
                  "3": "0x85EB",
                  "4": "3",
                  "5": "Purchasing Manager",
                  "6": "1978-02-10",
                  "7": "S",
                  "8": "F",
                  "9": "2011-02-25",
                  "10": "1",
                  "11": "49",
                  "12": "44",
                  "13": "1",
                  "14": "7d6b0155-0191-4599-8394-378ebde63c9a",
                  "15": "2014-06-30 00:00:00.000"
                },
                {
                  "0": "251",
                  "1": "603686790",
                  "2": "adventure-works\\mikael0",
                  "3": "0x85EB58",
                  "4": "4",
                  "5": "Buyer",
                  "6": "1984-08-17",
                  "7": "S",
                  "8": "M",
                  "9": "2009-02-10",
                  "10": "0",
                  "11": "59",
                  "12": "49",
                  "13": "1",
                  "14": "d0fd55ff-42fa-491e-8b3b-ab3316018909",
                  "15": "2014-06-30 00:00:00.000"
                },
                {
                  "0": "252",
                  "1": "792847334",
                  "2": "adventure-works\\arvind0",
                  "3": "0x85EB68",
                  "4": "4",
                  "5": "Buyer",
                  "6": "1974-08-21",
                  "7": "M",
                  "8": "M",
                  "9": "2009-02-28",
                  "10": "0",
                  "11": "60",
                  "12": "50",
                  "13": "1",
                  "14": "51de26f0-6ed9-4a70-b689-88eb882674b6",
                  "15": "2014-06-30 00:00:00.000"
                },
                {
                  "0": "253",
                  "1": "407505660",
                  "2": "adventure-works\\linda2",
                  "3": "0x85EB78",
                  "4": "4",
                  "5": "Buyer",
                  "6": "1970-11-30",
                  "7": "M",
                  "8": "F",
                  "9": "2009-12-17",
                  "10": "0",
                  "11": "56",
                  "12": "48",
                  "13": "1",
                  "14": "ed06f9f4-2123-4c44-89d7-e43e1e1abc2f",
                  "15": "2014-06-30 00:00:00.000"
                },
                {
                  "0": "254",
                  "1": "482810518",
                  "2": "adventure-works\\fukiko0",
                  "3": "0x85EB84",
                  "4": "4",
                  "5": "Buyer",
                  "6": "1970-11-24",
                  "7": "M",
                  "8": "M",
                  "9": "2010-01-04",
                  "10": "0",
                  "11": "57",
                  "12": "48",
                  "13": "1",
                  "14": "36cd6636-c657-4fc7-9bfa-cc1bfa9102a2",
                  "15": "2014-06-30 00:00:00.000"
                },
                {
                  "0": "255",
                  "1": "466142721",
                  "2": "adventure-works\\gordon0",
                  "3": "0x85EB8C",
                  "4": "4",
                  "5": "Buyer",
                  "6": "1966-11-29",
                  "7": "M",
                  "8": "M",
                  "9": "2010-01-11",
                  "10": "0",
                  "11": "52",
                  "12": "46",
                  "13": "1",
                  "14": "2cb2d5c3-c437-49b1-9ffd-faa096f6126f",
                  "15": "2014-06-30 00:00:00.000"
                },
                {
                  "0": "256",
                  "1": "367453993",
                  "2": "adventure-works\\frank2",
                  "3": "0x85EB94",
                  "4": "4",
                  "5": "Buyer",
                  "6": "1952-05-12",
                  "7": "M",
                  "8": "M",
                  "9": "2010-01-23",
                  "10": "0",
                  "11": "58",
                  "12": "49",
                  "13": "1",
                  "14": "0423d8d0-1b14-4718-8c17-85e2f98d222f",
                  "15": "2014-06-30 00:00:00.000"
                },
                {
                  "0": "257",
                  "1": "381073001",
                  "2": "adventure-works\\eric2",
                  "3": "0x85EB9C",
                  "4": "4",
                  "5": "Buyer",
                  "6": "1972-09-17",
                  "7": "S",
                  "8": "M",
                  "9": "2010-01-27",
                  "10": "0",
                  "11": "54",
                  "12": "47",
                  "13": "1",
                  "14": "a28ab377-06f5-417a-a5e2-59f459088699",
                  "15": "2014-06-30 00:00:00.000"
                },
                {
                  "0": "258",
                  "1": "785853949",
                  "2": "adventure-works\\erin0",
                  "3": "0x85EBA2",
                  "4": "4",
                  "5": "Buyer",
                  "6": "1971-01-04",
                  "7": "S",
                  "8": "F",
                  "9": "2010-01-31",
                  "10": "0",
                  "11": "53",
                  "12": "46",
                  "13": "1",
                  "14": "b60712a9-50a5-4296-b892-69c4701834b0",
                  "15": "2014-06-30 00:00:00.000"
                },
                {
                  "0": "259",
                  "1": "20269531",
                  "2": "adventure-works\\ben0",
                  "3": "0x85EBA6",
                  "4": "4",
                  "5": "Buyer",
                  "6": "1973-06-03",
                  "7": "M",
                  "8": "M",
                  "9": "2010-03-09",
                  "10": "0",
                  "11": "55",
                  "12": "47",
                  "13": "1",
                  "14": "b9641cae-765c-4662-b760-c167a1f2b8b5",
                  "15": "2014-06-30 00:00:00.000"
                },
                {
                  "0": "260",
                  "1": "437296311",
                  "2": "adventure-works\\annette0",
                  "3": "0x85EBAA",
                  "4": "4",
                  "5": "Purchasing Assistant",
                  "6": "1978-01-29",
                  "7": "M",
                  "8": "F",
                  "9": "2010-12-06",
                  "10": "0",
                  "11": "50",
                  "12": "45",
                  "13": "1",
                  "14": "9e03395f-4d5d-4a53-880e-174bd8c1db59",
                  "15": "2014-06-30 00:00:00.000"
                },
                {
                  "0": "261",
                  "1": "280633567",
                  "2": "adventure-works\\reinout0",
                  "3": "0x85EBAE",
                  "4": "4",
                  "5": "Purchasing Assistant",
                  "6": "1978-01-17",
                  "7": "M",
                  "8": "M",
                  "9": "2010-12-25",
                  "10": "0",
                  "11": "51",
                  "12": "45",
                  "13": "1",
                  "14": "9825eb00-8e36-4506-93a2-6ddcdc0b13c3",
                  "15": "2014-06-30 00:00:00.000"
                },
                {
                  "0": "262",
                  "1": "231203233",
                  "2": "adventure-works\\david5",
                  "3": "0x8610",
                  "4": "2",
                  "5": "Assistant to the Chief Financial Officer",
                  "6": "1964-06-21",
                  "7": "S",
                  "8": "M",
                  "9": "2009-01-12",
                  "10": "0",
                  "11": "56",
                  "12": "48",
                  "13": "1",
                  "14": "be81fd77-428c-449f-ab79-48b1cdf53d6a",
                  "15": "2014-06-30 00:00:00.000"
                },
                {
                  "0": "263",
                  "1": "441044382",
                  "2": "adventure-works\\jean0",
                  "3": "0x8C",
                  "4": "1",
                  "5": "Information Services Manager",
                  "6": "1975-12-13",
                  "7": "S",
                  "8": "F",
                  "9": "2008-12-11",
                  "10": "1",
                  "11": "65",
                  "12": "52",
                  "13": "1",
                  "14": "794a0b1f-c46a-401c-984d-008996fc7092",
                  "15": "2014-06-30 00:00:00.000"
                },
                {
                  "0": "264",
                  "1": "858323870",
                  "2": "adventure-works\\stephanie0",
                  "3": "0x8D60",
                  "4": "2",
                  "5": "Network Manager",
                  "6": "1984-03-25",
                  "7": "S",
                  "8": "F",
                  "9": "2009-02-04",
                  "10": "1",
                  "11": "68",
                  "12": "54",
                  "13": "1",
                  "14": "221cbb7b-8bae-452b-a16f-a67ebb3873c8",
                  "15": "2014-06-30 00:00:00.000"
                },
                {
                  "0": "265",
                  "1": "749389530",
                  "2": "adventure-works\\ashvini0",
                  "3": "0x8D6B",
                  "4": "3",
                  "5": "Network Administrator",
                  "6": "1977-03-27",
                  "7": "S",
                  "8": "M",
                  "9": "2008-12-04",
                  "10": "0",
                  "11": "70",
                  "12": "55",
                  "13": "1",
                  "14": "2e680c1c-7c02-4343-9626-6f97273414c0",
                  "15": "2014-06-30 00:00:00.000"
                },
                {
                  "0": "266",
                  "1": "672243793",
                  "2": "adventure-works\\peter1",
                  "3": "0x8D6D",
                  "4": "3",
                  "5": "Network Administrator",
                  "6": "1980-05-28",
                  "7": "S",
                  "8": "M",
                  "9": "2009-02-23",
                  "10": "0",
                  "11": "69",
                  "12": "54",
                  "13": "1",
                  "14": "86601e6a-6955-40fc-bb4a-1053a843ce99",
                  "15": "2014-06-30 00:00:00.000"
                },
                {
                  "0": "267",
                  "1": "58317344",
                  "2": "adventure-works\\karen1",
                  "3": "0x8DA0",
                  "4": "2",
                  "5": "Application Specialist",
                  "6": "1978-05-19",
                  "7": "S",
                  "8": "F",
                  "9": "2009-02-16",
                  "10": "1",
                  "11": "74",
                  "12": "57",
                  "13": "1",
                  "14": "45c3d0f5-3332-419d-ad40-a98996bb5531",
                  "15": "2014-06-30 00:00:00.000"
                },
                {
                  "0": "268",
                  "1": "314747499",
                  "2": "adventure-works\\ramesh0",
                  "3": "0x8DE0",
                  "4": "2",
                  "5": "Application Specialist",
                  "6": "1988-03-13",
                  "7": "S",
                  "8": "M",
                  "9": "2009-02-03",
                  "10": "1",
                  "11": "73",
                  "12": "56",
                  "13": "1",
                  "14": "be190269-4003-4d7f-809e-7b3fdc235da8",
                  "15": "2014-06-30 00:00:00.000"
                },
                {
                  "0": "269",
                  "1": "671089628",
                  "2": "adventure-works\\dan0",
                  "3": "0x8E10",
                  "4": "2",
                  "5": "Application Specialist",
                  "6": "1987-05-26",
                  "7": "M",
                  "8": "M",
                  "9": "2009-01-11",
                  "10": "1",
                  "11": "72",
                  "12": "56",
                  "13": "1",
                  "14": "71b0d010-5ac5-4e91-8efa-c311c1372a73",
                  "15": "2014-06-30 00:00:00.000"
                },
                {
                  "0": "270",
                  "1": "643805155",
                  "2": "adventure-works\\françois0",
                  "3": "0x8E30",
                  "4": "2",
                  "5": "Database Administrator",
                  "6": "1975-05-17",
                  "7": "S",
                  "8": "M",
                  "9": "2009-01-17",
                  "10": "1",
                  "11": "67",
                  "12": "53",
                  "13": "1",
                  "14": "0c7f025d-8d56-48ef-86c0-f09db63d0182",
                  "15": "2014-06-30 00:00:00.000"
                },
                {
                  "0": "271",
                  "1": "929666391",
                  "2": "adventure-works\\dan1",
                  "3": "0x8E50",
                  "4": "2",
                  "5": "Database Administrator",
                  "6": "1976-01-06",
                  "7": "M",
                  "8": "M",
                  "9": "2009-01-22",
                  "10": "1",
                  "11": "66",
                  "12": "53",
                  "13": "1",
                  "14": "2474e1a9-902d-466c-b0b2-6dcac927f753",
                  "15": "2014-06-30 00:00:00.000"
                },
                {
                  "0": "272",
                  "1": "525932996",
                  "2": "adventure-works\\janaina0",
                  "3": "0x8E70",
                  "4": "2",
                  "5": "Application Specialist",
                  "6": "1985-01-30",
                  "7": "M",
                  "8": "F",
                  "9": "2008-12-23",
                  "10": "1",
                  "11": "71",
                  "12": "55",
                  "13": "1",
                  "14": "241535c7-7a31-4a6a-9e0d-a83c30c2edda",
                  "15": "2014-06-30 00:00:00.000"
                },
                {
                  "0": "273",
                  "1": "112432117",
                  "2": "adventure-works\\brian3",
                  "3": "0x94",
                  "4": "1",
                  "5": "Vice President of Sales",
                  "6": "1977-06-06",
                  "7": "S",
                  "8": "M",
                  "9": "2011-02-15",
                  "10": "1",
                  "11": "10",
                  "12": "25",
                  "13": "1",
                  "14": "f3ec557c-8b41-4ee6-bb0c-e3b93aff81e5",
                  "15": "2014-06-30 00:00:00.000"
                },
                {
                  "0": "274",
                  "1": "502097814",
                  "2": "adventure-works\\stephen0",
                  "3": "0x9560",
                  "4": "2",
                  "5": "North American Sales Manager",
                  "6": "1951-10-17",
                  "7": "M",
                  "8": "M",
                  "9": "2011-01-04",
                  "10": "1",
                  "11": "14",
                  "12": "27",
                  "13": "1",
                  "14": "86d5fa9e-4bc0-48c8-91dc-1ec467418d11",
                  "15": "2014-06-30 00:00:00.000"
                },
                {
                  "0": "275",
                  "1": "841560125",
                  "2": "adventure-works\\michael9",
                  "3": "0x956B",
                  "4": "3",
                  "5": "Sales Representative",
                  "6": "1968-12-25",
                  "7": "S",
                  "8": "M",
                  "9": "2011-05-31",
                  "10": "1",
                  "11": "38",
                  "12": "39",
                  "13": "1",
                  "14": "e19f8de2-0f40-418c-84a2-db48b98dc6a2",
                  "15": "2014-06-30 00:00:00.000"
                },
                {
                  "0": "276",
                  "1": "191644724",
                  "2": "adventure-works\\linda3",
                  "3": "0x956D",
                  "4": "3",
                  "5": "Sales Representative",
                  "6": "1980-02-27",
                  "7": "M",
                  "8": "F",
                  "9": "2011-05-31",
                  "10": "1",
                  "11": "27",
                  "12": "33",
                  "13": "1",
                  "14": "4509f387-d73a-43dc-a502-b1c27aa1dc9e",
                  "15": "2014-06-30 00:00:00.000"
                },
                {
                  "0": "277",
                  "1": "615389812",
                  "2": "adventure-works\\jillian0",
                  "3": "0x956F",
                  "4": "3",
                  "5": "Sales Representative",
                  "6": "1962-08-29",
                  "7": "S",
                  "8": "F",
                  "9": "2011-05-31",
                  "10": "1",
                  "11": "24",
                  "12": "32",
                  "13": "1",
                  "14": "a011c97b-081c-4739-996f-c1cac4532f8d",
                  "15": "2014-06-30 00:00:00.000"
                },
                {
                  "0": "278",
                  "1": "234474252",
                  "2": "adventure-works\\garrett1",
                  "3": "0x957080",
                  "4": "3",
                  "5": "Sales Representative",
                  "6": "1975-02-04",
                  "7": "M",
                  "8": "M",
                  "9": "2011-05-31",
                  "10": "1",
                  "11": "33",
                  "12": "36",
                  "13": "1",
                  "14": "50eecc16-0d0d-43a9-9649-016c06de8d78",
                  "15": "2014-06-30 00:00:00.000"
                },
                {
                  "0": "279",
                  "1": "716374314",
                  "2": "adventure-works\\tsvi0",
                  "3": "0x957180",
                  "4": "3",
                  "5": "Sales Representative",
                  "6": "1974-01-18",
                  "7": "M",
                  "8": "M",
                  "9": "2011-05-31",
                  "10": "1",
                  "11": "29",
                  "12": "34",
                  "13": "1",
                  "14": "bb510fce-0105-4306-b591-6450d9ebf401",
                  "15": "2014-06-30 00:00:00.000"
                },
                {
                  "0": "280",
                  "1": "61161660",
                  "2": "adventure-works\\pamela0",
                  "3": "0x957280",
                  "4": "3",
                  "5": "Sales Representative",
                  "6": "1974-12-06",
                  "7": "S",
                  "8": "F",
                  "9": "2011-05-31",
                  "10": "1",
                  "11": "22",
                  "12": "31",
                  "13": "1",
                  "14": "7627b9d6-0707-4706-9ad9-0d37506b08ae",
                  "15": "2014-06-30 00:00:00.000"
                },
                {
                  "0": "281",
                  "1": "139397894",
                  "2": "adventure-works\\shu0",
                  "3": "0x957380",
                  "4": "3",
                  "5": "Sales Representative",
                  "6": "1968-03-09",
                  "7": "M",
                  "8": "M",
                  "9": "2011-05-31",
                  "10": "1",
                  "11": "26",
                  "12": "33",
                  "13": "1",
                  "14": "4103c891-37e8-4dfc-aeac-b55e2bc1be1c",
                  "15": "2014-06-30 00:00:00.000"
                },
                {
                  "0": "282",
                  "1": "399771412",
                  "2": "adventure-works\\josé1",
                  "3": "0x957440",
                  "4": "3",
                  "5": "Sales Representative",
                  "6": "1963-12-11",
                  "7": "M",
                  "8": "M",
                  "9": "2011-05-31",
                  "10": "1",
                  "11": "31",
                  "12": "35",
                  "13": "1",
                  "14": "fd3992fb-3067-451d-a09d-73bd53c0feca",
                  "15": "2014-06-30 00:00:00.000"
                },
                {
                  "0": "283",
                  "1": "987554265",
                  "2": "adventure-works\\david8",
                  "3": "0x9574C0",
                  "4": "3",
                  "5": "Sales Representative",
                  "6": "1974-02-11",
                  "7": "S",
                  "8": "M",
                  "9": "2011-05-31",
                  "10": "1",
                  "11": "23",
                  "12": "31",
                  "13": "1",
                  "14": "1e8f9e91-508f-4d49-acd2-775c836030ed",
                  "15": "2014-06-30 00:00:00.000"
                },
                {
                  "0": "284",
                  "1": "90836195",
                  "2": "adventure-works\\tete0",
                  "3": "0x957540",
                  "4": "3",
                  "5": "Sales Representative",
                  "6": "1978-01-05",
                  "7": "M",
                  "8": "M",
                  "9": "2012-09-30",
                  "10": "1",
                  "11": "39",
                  "12": "39",
                  "13": "1",
                  "14": "0c67ce00-de78-4712-908f-06939a2c58d5",
                  "15": "2014-06-30 00:00:00.000"
                },
                {
                  "0": "285",
                  "1": "481044938",
                  "2": "adventure-works\\syed0",
                  "3": "0x95A0",
                  "4": "2",
                  "5": "Pacific Sales Manager",
                  "6": "1975-01-11",
                  "7": "M",
                  "8": "M",
                  "9": "2013-03-14",
                  "10": "1",
                  "11": "20",
                  "12": "30",
                  "13": "1",
                  "14": "86f292db-b73c-429d-9912-800994d809fb",
                  "15": "2014-06-30 00:00:00.000"
                },
                {
                  "0": "286",
                  "1": "758596752",
                  "2": "adventure-works\\lynn0",
                  "3": "0x95AB",
                  "4": "3",
                  "5": "Sales Representative",
                  "6": "1977-02-14",
                  "7": "S",
                  "8": "F",
                  "9": "2013-05-30",
                  "10": "1",
                  "11": "36",
                  "12": "38",
                  "13": "1",
                  "14": "4a9a8407-a680-4a6b-8d03-511cb58f9a8a",
                  "15": "2014-06-30 00:00:00.000"
                },
                {
                  "0": "287",
                  "1": "982310417",
                  "2": "adventure-works\\amy0",
                  "3": "0x95E0",
                  "4": "2",
                  "5": "European Sales Manager",
                  "6": "1957-09-20",
                  "7": "M",
                  "8": "F",
                  "9": "2012-04-16",
                  "10": "1",
                  "11": "21",
                  "12": "30",
                  "13": "1",
                  "14": "66d66445-ee78-4676-9e66-0e22d6109a92",
                  "15": "2014-06-30 00:00:00.000"
                },
                {
                  "0": "288",
                  "1": "954276278",
                  "2": "adventure-works\\rachel0",
                  "3": "0x95EB",
                  "4": "3",
                  "5": "Sales Representative",
                  "6": "1975-07-09",
                  "7": "S",
                  "8": "F",
                  "9": "2013-05-30",
                  "10": "1",
                  "11": "35",
                  "12": "37",
                  "13": "1",
                  "14": "b9bf7741-e0ca-4f37-acde-a4f78c6d03e9",
                  "15": "2014-06-30 00:00:00.000"
                },
                {
                  "0": "289",
                  "1": "668991357",
                  "2": "adventure-works\\jae0",
                  "3": "0x95ED",
                  "4": "3",
                  "5": "Sales Representative",
                  "6": "1968-03-17",
                  "7": "M",
                  "8": "F",
                  "9": "2012-05-30",
                  "10": "1",
                  "11": "37",
                  "12": "38",
                  "13": "1",
                  "14": "723a5921-d8a1-4659-9bc4-13c4cf7c9c91",
                  "15": "2014-06-30 00:00:00.000"
                },
                {
                  "0": "290",
                  "1": "134219713",
                  "2": "adventure-works\\ranjit0",
                  "3": "0x95EF",
                  "4": "3",
                  "5": "Sales Representative",
                  "6": "1975-09-30",
                  "7": "S",
                  "8": "M",
                  "9": "2012-05-30",
                  "10": "1",
                  "11": "34",
                  "12": "37",
                  "13": "1",
                  "14": "604213f9-dd0f-43b4-bdd2-c96e93d3f4bf",
                  "15": "2014-06-30 00:00:00.000"
                }
              ]
            },
            "text/html": "<table><tr><th>BusinessEntityID</th><th>NationalIDNumber</th><th>LoginID</th><th>OrganizationNode</th><th>OrganizationLevel</th><th>JobTitle</th><th>BirthDate</th><th>MaritalStatus</th><th>Gender</th><th>HireDate</th><th>SalariedFlag</th><th>VacationHours</th><th>SickLeaveHours</th><th>CurrentFlag</th><th>rowguid</th><th>ModifiedDate</th></tr><tr><td>1</td><td>295847284</td><td>adventure-works\\ken0</td><td>NULL</td><td>NULL</td><td>Chief Executive Officer</td><td>1969-01-29</td><td>S</td><td>M</td><td>2009-01-14</td><td>1</td><td>99</td><td>69</td><td>1</td><td>f01251e5-96a3-448d-981e-0f99d789110d</td><td>2014-06-30 00:00:00.000</td></tr><tr><td>2</td><td>245797967</td><td>adventure-works\\terri0</td><td>0x58</td><td>1</td><td>Vice President of Engineering</td><td>1971-08-01</td><td>S</td><td>F</td><td>2008-01-31</td><td>1</td><td>1</td><td>20</td><td>1</td><td>45e8f437-670d-4409-93cb-f9424a40d6ee</td><td>2014-06-30 00:00:00.000</td></tr><tr><td>3</td><td>509647174</td><td>adventure-works\\roberto0</td><td>0x5AC0</td><td>2</td><td>Engineering Manager</td><td>1974-11-12</td><td>M</td><td>M</td><td>2007-11-11</td><td>1</td><td>2</td><td>21</td><td>1</td><td>9bbbfb2c-efbb-4217-9ab7-f97689328841</td><td>2014-06-30 00:00:00.000</td></tr><tr><td>4</td><td>112457891</td><td>adventure-works\\rob0</td><td>0x5AD6</td><td>3</td><td>Senior Tool Designer</td><td>1974-12-23</td><td>S</td><td>M</td><td>2007-12-05</td><td>0</td><td>48</td><td>80</td><td>1</td><td>59747955-87b8-443f-8ed4-f8ad3afdf3a9</td><td>2014-06-30 00:00:00.000</td></tr><tr><td>5</td><td>695256908</td><td>adventure-works\\gail0</td><td>0x5ADA</td><td>3</td><td>Design Engineer</td><td>1952-09-27</td><td>M</td><td>F</td><td>2008-01-06</td><td>1</td><td>5</td><td>22</td><td>1</td><td>ec84ae09-f9b8-4a15-b4a9-6ccbab919b08</td><td>2014-06-30 00:00:00.000</td></tr><tr><td>6</td><td>998320692</td><td>adventure-works\\jossef0</td><td>0x5ADE</td><td>3</td><td>Design Engineer</td><td>1959-03-11</td><td>M</td><td>M</td><td>2008-01-24</td><td>1</td><td>6</td><td>23</td><td>1</td><td>e39056f1-9cd5-478d-8945-14aca7fbdcdd</td><td>2014-06-30 00:00:00.000</td></tr><tr><td>7</td><td>134969118</td><td>adventure-works\\dylan0</td><td>0x5AE1</td><td>3</td><td>Research and Development Manager</td><td>1987-02-24</td><td>M</td><td>M</td><td>2009-02-08</td><td>1</td><td>61</td><td>50</td><td>1</td><td>4f46deca-ef01-41fd-9829-0adab368e431</td><td>2014-06-30 00:00:00.000</td></tr><tr><td>8</td><td>811994146</td><td>adventure-works\\diane1</td><td>0x5AE158</td><td>4</td><td>Research and Development Engineer</td><td>1986-06-05</td><td>S</td><td>F</td><td>2008-12-29</td><td>1</td><td>62</td><td>51</td><td>1</td><td>31112635-663b-4018-b4a2-a685c0bf48a4</td><td>2014-06-30 00:00:00.000</td></tr><tr><td>9</td><td>658797903</td><td>adventure-works\\gigi0</td><td>0x5AE168</td><td>4</td><td>Research and Development Engineer</td><td>1979-01-21</td><td>M</td><td>F</td><td>2009-01-16</td><td>1</td><td>63</td><td>51</td><td>1</td><td>50b6cdc6-7570-47ef-9570-48a64b5f2ecf</td><td>2014-06-30 00:00:00.000</td></tr><tr><td>10</td><td>879342154</td><td>adventure-works\\michael6</td><td>0x5AE178</td><td>4</td><td>Research and Development Manager</td><td>1984-11-30</td><td>M</td><td>M</td><td>2009-05-03</td><td>1</td><td>16</td><td>64</td><td>1</td><td>eaa43680-5571-40cb-ab1a-3bf68f04459e</td><td>2014-06-30 00:00:00.000</td></tr><tr><td>11</td><td>974026903</td><td>adventure-works\\ovidiu0</td><td>0x5AE3</td><td>3</td><td>Senior Tool Designer</td><td>1978-01-17</td><td>S</td><td>M</td><td>2010-12-05</td><td>0</td><td>7</td><td>23</td><td>1</td><td>f68c7c19-fac1-438c-9bb7-ac33fcc341c3</td><td>2014-06-30 00:00:00.000</td></tr><tr><td>12</td><td>480168528</td><td>adventure-works\\thierry0</td><td>0x5AE358</td><td>4</td><td>Tool Designer</td><td>1959-07-29</td><td>M</td><td>M</td><td>2007-12-11</td><td>0</td><td>9</td><td>24</td><td>1</td><td>1d955171-e773-4fad-8382-40fd898d5d4d</td><td>2014-06-30 00:00:00.000</td></tr><tr><td>13</td><td>486228782</td><td>adventure-works\\janice0</td><td>0x5AE368</td><td>4</td><td>Tool Designer</td><td>1989-05-28</td><td>M</td><td>F</td><td>2010-12-23</td><td>0</td><td>8</td><td>24</td><td>1</td><td>954b91b6-5aa7-48c2-8685-6e11c6e5c49a</td><td>2014-06-30 00:00:00.000</td></tr><tr><td>14</td><td>42487730</td><td>adventure-works\\michael8</td><td>0x5AE5</td><td>3</td><td>Senior Design Engineer</td><td>1979-06-16</td><td>S</td><td>M</td><td>2010-12-30</td><td>1</td><td>3</td><td>21</td><td>1</td><td>46286ca4-46dd-4ddb-9128-85b67e98d1a9</td><td>2014-06-30 00:00:00.000</td></tr><tr><td>15</td><td>56920285</td><td>adventure-works\\sharon0</td><td>0x5AE7</td><td>3</td><td>Design Engineer</td><td>1961-05-02</td><td>M</td><td>F</td><td>2011-01-18</td><td>1</td><td>4</td><td>22</td><td>1</td><td>54f2fdc0-87c4-4065-a7a8-9ac8ea624235</td><td>2014-06-30 00:00:00.000</td></tr><tr><td>16</td><td>24756624</td><td>adventure-works\\david0</td><td>0x68</td><td>1</td><td>Marketing Manager</td><td>1975-03-19</td><td>S</td><td>M</td><td>2007-12-20</td><td>1</td><td>40</td><td>40</td><td>1</td><td>e87029aa-2cba-4c03-b948-d83af0313e28</td><td>2014-06-30 00:00:00.000</td></tr><tr><td>17</td><td>253022876</td><td>adventure-works\\kevin0</td><td>0x6AC0</td><td>2</td><td>Marketing Assistant</td><td>1987-05-03</td><td>S</td><td>M</td><td>2007-01-26</td><td>0</td><td>42</td><td>41</td><td>1</td><td>1b480240-95c0-410f-a717-eb29943c8886</td><td>2014-06-30 00:00:00.000</td></tr><tr><td>18</td><td>222969461</td><td>adventure-works\\john5</td><td>0x6B40</td><td>2</td><td>Marketing Specialist</td><td>1978-03-06</td><td>S</td><td>M</td><td>2011-02-07</td><td>0</td><td>48</td><td>44</td><td>1</td><td>64730415-1f58-4e5b-8fa8-5e4daeba53b4</td><td>2014-06-30 00:00:00.000</td></tr><tr><td>19</td><td>52541318</td><td>adventure-works\\mary2</td><td>0x6BC0</td><td>2</td><td>Marketing Assistant</td><td>1978-01-29</td><td>S</td><td>F</td><td>2011-02-14</td><td>0</td><td>43</td><td>41</td><td>1</td><td>1f6da901-c7f7-48a8-8eef-d81868d72b52</td><td>2014-06-30 00:00:00.000</td></tr><tr><td>20</td><td>323403273</td><td>adventure-works\\wanida0</td><td>0x6C20</td><td>2</td><td>Marketing Assistant</td><td>1975-03-17</td><td>M</td><td>F</td><td>2011-01-07</td><td>0</td><td>41</td><td>40</td><td>1</td><td>43cca446-da1c-454c-8530-873ad2923e1b</td><td>2014-06-30 00:00:00.000</td></tr><tr><td>21</td><td>243322160</td><td>adventure-works\\terry0</td><td>0x6C60</td><td>2</td><td>Marketing Specialist</td><td>1986-02-04</td><td>M</td><td>M</td><td>2009-03-02</td><td>0</td><td>44</td><td>42</td><td>1</td><td>ad0d7626-4506-45c4-898f-9d7a0e13aabd</td><td>2014-06-30 00:00:00.000</td></tr><tr><td>22</td><td>95958330</td><td>adventure-works\\sariya0</td><td>0x6CA0</td><td>2</td><td>Marketing Specialist</td><td>1987-05-21</td><td>S</td><td>M</td><td>2008-12-12</td><td>0</td><td>45</td><td>42</td><td>1</td><td>af21f1b7-0691-48ad-b325-b8f2d7b2268a</td><td>2014-06-30 00:00:00.000</td></tr><tr><td>23</td><td>767955365</td><td>adventure-works\\mary0</td><td>0x6CE0</td><td>2</td><td>Marketing Specialist</td><td>1962-09-13</td><td>M</td><td>F</td><td>2009-01-12</td><td>0</td><td>46</td><td>43</td><td>1</td><td>90899830-127e-4876-85ca-7f6e03025281</td><td>2014-06-30 00:00:00.000</td></tr><tr><td>24</td><td>72636981</td><td>adventure-works\\jill0</td><td>0x6D10</td><td>2</td><td>Marketing Specialist</td><td>1979-06-18</td><td>M</td><td>F</td><td>2009-01-18</td><td>0</td><td>47</td><td>43</td><td>1</td><td>53575c58-fba1-4c1a-b8ff-95e050b44393</td><td>2014-06-30 00:00:00.000</td></tr><tr><td>25</td><td>519899904</td><td>adventure-works\\james1</td><td>0x78</td><td>1</td><td>Vice President of Production</td><td>1983-01-07</td><td>S</td><td>M</td><td>2009-02-03</td><td>1</td><td>64</td><td>52</td><td>1</td><td>d7314f24-2af1-429c-9bbb-4038f45f3e6c</td><td>2014-06-30 00:00:00.000</td></tr><tr><td>26</td><td>277173473</td><td>adventure-works\\peter0</td><td>0x7AC0</td><td>2</td><td>Production Control Manager</td><td>1982-11-03</td><td>M</td><td>M</td><td>2008-12-01</td><td>1</td><td>43</td><td>41</td><td>1</td><td>69d5d162-e817-45e7-9dec-5d9b8310e7b1</td><td>2014-12-26 09:17:08.637</td></tr><tr><td>27</td><td>446466105</td><td>adventure-works\\jo0</td><td>0x7AD6</td><td>3</td><td>Production Supervisor - WC60</td><td>1956-10-08</td><td>S</td><td>F</td><td>2008-02-27</td><td>0</td><td>80</td><td>60</td><td>1</td><td>83ffaac6-b895-481f-b897-14f965d4da47</td><td>2014-06-30 00:00:00.000</td></tr><tr><td>28</td><td>14417807</td><td>adventure-works\\guy1</td><td>0x7AD6B0</td><td>4</td><td>Production Technician - WC60</td><td>1988-03-13</td><td>M</td><td>M</td><td>2006-06-30</td><td>0</td><td>21</td><td>30</td><td>1</td><td>aae1d04a-c237-4974-b4d5-935247737718</td><td>2014-06-30 00:00:00.000</td></tr><tr><td>29</td><td>948320468</td><td>adventure-works\\mark1</td><td>0x7AD6D0</td><td>4</td><td>Production Technician - WC60</td><td>1979-09-25</td><td>S</td><td>M</td><td>2009-01-23</td><td>0</td><td>19</td><td>29</td><td>1</td><td>cdb2c6df-93e5-4558-91c8-424d5e7c658b</td><td>2014-06-30 00:00:00.000</td></tr><tr><td>30</td><td>410742000</td><td>adventure-works\\britta0</td><td>0x7AD6F0</td><td>4</td><td>Production Technician - WC60</td><td>1989-09-28</td><td>M</td><td>F</td><td>2009-01-29</td><td>0</td><td>14</td><td>27</td><td>1</td><td>fc12677f-42f8-4790-ad69-685088ed7e5f</td><td>2014-06-30 00:00:00.000</td></tr><tr><td>31</td><td>750246141</td><td>adventure-works\\margie0</td><td>0x7AD708</td><td>4</td><td>Production Technician - WC60</td><td>1986-05-20</td><td>M</td><td>F</td><td>2009-01-04</td><td>0</td><td>18</td><td>29</td><td>1</td><td>352d6e2f-655b-49a2-9fec-efd7d8cd0d30</td><td>2014-06-30 00:00:00.000</td></tr><tr><td>32</td><td>330211482</td><td>adventure-works\\rebecca0</td><td>0x7AD718</td><td>4</td><td>Production Technician - WC60</td><td>1977-07-10</td><td>M</td><td>F</td><td>2008-12-29</td><td>0</td><td>23</td><td>31</td><td>1</td><td>bdadeb5c-a596-4da1-88ba-842c7a0cc10f</td><td>2014-06-30 00:00:00.000</td></tr><tr><td>33</td><td>801758002</td><td>adventure-works\\annik0</td><td>0x7AD728</td><td>4</td><td>Production Technician - WC60</td><td>1976-12-26</td><td>M</td><td>M</td><td>2008-12-17</td><td>0</td><td>17</td><td>28</td><td>1</td><td>51fde6ac-bd50-467c-90e5-10ca7310455c</td><td>2014-06-30 00:00:00.000</td></tr><tr><td>34</td><td>754372876</td><td>adventure-works\\suchitra0</td><td>0x7AD738</td><td>4</td><td>Production Technician - WC60</td><td>1987-06-10</td><td>M</td><td>F</td><td>2009-02-16</td><td>0</td><td>15</td><td>27</td><td>1</td><td>6adbd932-0da5-4f5c-af67-8e3a53630896</td><td>2014-06-30 00:00:00.000</td></tr><tr><td>35</td><td>999440576</td><td>adventure-works\\brandon0</td><td>0x7AD744</td><td>4</td><td>Production Technician - WC60</td><td>1977-01-10</td><td>M</td><td>M</td><td>2009-02-08</td><td>0</td><td>22</td><td>31</td><td>1</td><td>ca5d1935-44e2-4c45-93bb-809e59f56796</td><td>2014-06-30 00:00:00.000</td></tr><tr><td>36</td><td>788456780</td><td>adventure-works\\jose0</td><td>0x7AD74C</td><td>4</td><td>Production Technician - WC60</td><td>1984-07-31</td><td>M</td><td>M</td><td>2009-02-10</td><td>0</td><td>20</td><td>30</td><td>1</td><td>9e912556-88ba-41ee-b946-cb84ab4c1102</td><td>2014-06-30 00:00:00.000</td></tr><tr><td>37</td><td>442121106</td><td>adventure-works\\chris2</td><td>0x7AD754</td><td>4</td><td>Production Technician - WC60</td><td>1986-08-07</td><td>S</td><td>M</td><td>2009-03-07</td><td>0</td><td>16</td><td>28</td><td>1</td><td>77b384c7-affb-4816-992b-f5b3034ee4ff</td><td>2014-06-30 00:00:00.000</td></tr><tr><td>38</td><td>6298838</td><td>adventure-works\\kim1</td><td>0x7AD75C</td><td>4</td><td>Production Technician - WC60</td><td>1966-12-14</td><td>M</td><td>F</td><td>2010-01-16</td><td>0</td><td>24</td><td>32</td><td>1</td><td>891c27f4-28cc-44bb-bea3-da5ea7fbe957</td><td>2014-06-30 00:00:00.000</td></tr><tr><td>39</td><td>461786517</td><td>adventure-works\\ed0</td><td>0x7AD764</td><td>4</td><td>Production Technician - WC60</td><td>1971-09-11</td><td>S</td><td>M</td><td>2010-02-05</td><td>0</td><td>25</td><td>32</td><td>1</td><td>8ef22fb3-af37-4b44-8862-d60a7cb09d82</td><td>2014-06-30 00:00:00.000</td></tr><tr><td>40</td><td>309738752</td><td>adventure-works\\jolynn0</td><td>0x7ADA</td><td>3</td><td>Production Supervisor - WC60</td><td>1956-01-16</td><td>S</td><td>F</td><td>2007-12-26</td><td>0</td><td>82</td><td>61</td><td>1</td><td>2cc71b96-f421-485e-9832-8723337749bb</td><td>2014-06-30 00:00:00.000</td></tr><tr><td>41</td><td>458159238</td><td>adventure-works\\bryan0</td><td>0x7ADAB0</td><td>4</td><td>Production Technician - WC60</td><td>1973-08-27</td><td>S</td><td>M</td><td>2009-01-21</td><td>0</td><td>35</td><td>37</td><td>1</td><td>4652d4e4-6a27-47ed-9f51-c377e293da28</td><td>2014-06-30 00:00:00.000</td></tr><tr><td>42</td><td>339712426</td><td>adventure-works\\james0</td><td>0x7ADAD0</td><td>4</td><td>Production Technician - WC60</td><td>1984-07-25</td><td>M</td><td>M</td><td>2008-12-27</td><td>0</td><td>39</td><td>39</td><td>1</td><td>82e52d5a-165b-4c6d-9773-c3a6b6332ecd</td><td>2014-06-30 00:00:00.000</td></tr><tr><td>43</td><td>693325305</td><td>adventure-works\\nancy0</td><td>0x7ADAF0</td><td>4</td><td>Production Technician - WC60</td><td>1988-11-19</td><td>M</td><td>F</td><td>2009-01-02</td><td>0</td><td>34</td><td>37</td><td>1</td><td>6b7eb306-9a00-496a-98a9-4e94fe72f77c</td><td>2014-06-30 00:00:00.000</td></tr><tr><td>44</td><td>276751903</td><td>adventure-works\\simon0</td><td>0x7ADB08</td><td>4</td><td>Production Technician - WC60</td><td>1990-05-17</td><td>S</td><td>M</td><td>2008-12-08</td><td>0</td><td>38</td><td>39</td><td>1</td><td>f734d38a-56b5-471e-8ded-a682e958a9b3</td><td>2014-06-30 00:00:00.000</td></tr><tr><td>45</td><td>500412746</td><td>adventure-works\\thomas0</td><td>0x7ADB18</td><td>4</td><td>Production Technician - WC60</td><td>1986-01-10</td><td>M</td><td>M</td><td>2009-02-26</td><td>0</td><td>37</td><td>38</td><td>1</td><td>8ff3af67-32f2-4a08-98c3-a40f842d41a3</td><td>2014-06-30 00:00:00.000</td></tr><tr><td>46</td><td>66073987</td><td>adventure-works\\eugene1</td><td>0x7ADB28</td><td>4</td><td>Production Technician - WC60</td><td>1976-02-10</td><td>S</td><td>M</td><td>2009-02-08</td><td>0</td><td>36</td><td>38</td><td>1</td><td>33543b35-77da-4600-a41b-1eafea0ad643</td><td>2014-06-30 00:00:00.000</td></tr><tr><td>47</td><td>33237992</td><td>adventure-works\\andrew0</td><td>0x7ADE</td><td>3</td><td>Production Supervisor - WC10</td><td>1988-09-06</td><td>S</td><td>M</td><td>2009-02-22</td><td>0</td><td>65</td><td>52</td><td>1</td><td>08365b05-c143-4260-a93c-6b69418b1946</td><td>2014-06-30 00:00:00.000</td></tr><tr><td>48</td><td>690627818</td><td>adventure-works\\ruth0</td><td>0x7ADEB0</td><td>4</td><td>Production Technician - WC10</td><td>1956-06-04</td><td>M</td><td>F</td><td>2008-01-06</td><td>0</td><td>83</td><td>61</td><td>1</td><td>3e3b6905-209e-442e-b8a8-9a0980241c6a</td><td>2014-06-30 00:00:00.000</td></tr><tr><td>49</td><td>912265825</td><td>adventure-works\\barry0</td><td>0x7ADED0</td><td>4</td><td>Production Technician - WC10</td><td>1956-03-26</td><td>S</td><td>M</td><td>2008-01-07</td><td>0</td><td>88</td><td>64</td><td>1</td><td>756a60ae-378f-43d8-9f93-1e821d1eaf52</td><td>2014-06-30 00:00:00.000</td></tr><tr><td>50</td><td>844973625</td><td>adventure-works\\sidney0</td><td>0x7ADEF0</td><td>4</td><td>Production Technician - WC10</td><td>1956-08-30</td><td>M</td><td>M</td><td>2008-02-02</td><td>0</td><td>84</td><td>62</td><td>1</td><td>40d603d9-7f99-48b7-a580-b17cf429bed2</td><td>2014-06-30 00:00:00.000</td></tr><tr><td>51</td><td>132674823</td><td>adventure-works\\jeffrey0</td><td>0x7ADF08</td><td>4</td><td>Production Technician - WC10</td><td>1956-07-11</td><td>S</td><td>M</td><td>2008-02-20</td><td>0</td><td>85</td><td>62</td><td>1</td><td>6e086f41-b81d-4bdc-9f13-0eec488dc43e</td><td>2014-06-30 00:00:00.000</td></tr><tr><td>52</td><td>565090917</td><td>adventure-works\\doris0</td><td>0x7ADF18</td><td>4</td><td>Production Technician - WC10</td><td>1956-04-04</td><td>M</td><td>F</td><td>2008-03-10</td><td>0</td><td>86</td><td>63</td><td>1</td><td>692b8826-03b4-4c3b-82fc-1fc6f1409689</td><td>2014-06-30 00:00:00.000</td></tr><tr><td>53</td><td>9659517</td><td>adventure-works\\diane0</td><td>0x7ADF28</td><td>4</td><td>Production Technician - WC10</td><td>1956-03-29</td><td>M</td><td>F</td><td>2008-03-28</td><td>0</td><td>87</td><td>63</td><td>1</td><td>c334b2d2-0c56-4906-9095-f1d07a98cbec</td><td>2014-06-30 00:00:00.000</td></tr><tr><td>54</td><td>109272464</td><td>adventure-works\\bonnie0</td><td>0x7ADF38</td><td>4</td><td>Production Technician - WC10</td><td>1986-09-10</td><td>M</td><td>F</td><td>2010-01-01</td><td>0</td><td>89</td><td>64</td><td>1</td><td>e950a52a-df61-4fec-9063-545664d65b89</td><td>2014-06-30 00:00:00.000</td></tr><tr><td>55</td><td>233069302</td><td>adventure-works\\taylor0</td><td>0x7AE1</td><td>3</td><td>Production Supervisor - WC50</td><td>1956-04-01</td><td>M</td><td>M</td><td>2008-02-08</td><td>0</td><td>79</td><td>59</td><td>1</td><td>28f7ef89-2793-4989-b67d-25046543c1e3</td><td>2014-06-30 00:00:00.000</td></tr><tr><td>56</td><td>652535724</td><td>adventure-works\\denise0</td><td>0x7AE158</td><td>4</td><td>Production Technician - WC50</td><td>1988-07-06</td><td>M</td><td>F</td><td>2009-02-05</td><td>0</td><td>9</td><td>24</td><td>1</td><td>77878c43-f16e-437d-892f-3cfcc0715a0a</td><td>2014-06-30 00:00:00.000</td></tr><tr><td>57</td><td>10708100</td><td>adventure-works\\frank1</td><td>0x7AE168</td><td>4</td><td>Production Technician - WC50</td><td>1971-07-24</td><td>S</td><td>M</td><td>2009-02-23</td><td>0</td><td>10</td><td>25</td><td>1</td><td>b395cd84-77ba-4d3c-a49d-d9e8d6cf100b</td><td>2014-06-30 00:00:00.000</td></tr><tr><td>58</td><td>571658797</td><td>adventure-works\\kendall0</td><td>0x7AE178</td><td>4</td><td>Production Technician - WC50</td><td>1986-05-30</td><td>M</td><td>M</td><td>2008-12-05</td><td>0</td><td>11</td><td>25</td><td>1</td><td>65207627-5521-4a8e-ad3c-b2f1b5226b85</td><td>2014-06-30 00:00:00.000</td></tr><tr><td>59</td><td>843479922</td><td>adventure-works\\bob0</td><td>0x7AE184</td><td>4</td><td>Production Technician - WC50</td><td>1979-08-16</td><td>S</td><td>M</td><td>2008-12-24</td><td>0</td><td>12</td><td>26</td><td>1</td><td>68616aea-81e5-4940-a7e4-6fba882bccf6</td><td>2014-06-30 00:00:00.000</td></tr><tr><td>60</td><td>827686041</td><td>adventure-works\\pete0</td><td>0x7AE18C</td><td>4</td><td>Production Technician - WC50</td><td>1977-02-03</td><td>S</td><td>M</td><td>2009-01-11</td><td>0</td><td>13</td><td>26</td><td>1</td><td>1f1d813d-3edc-4274-8e9b-4519d71685b6</td><td>2014-06-30 00:00:00.000</td></tr><tr><td>61</td><td>92096924</td><td>adventure-works\\diane2</td><td>0x7AE194</td><td>4</td><td>Production Technician - WC50</td><td>1989-08-09</td><td>S</td><td>F</td><td>2009-01-18</td><td>0</td><td>8</td><td>24</td><td>1</td><td>721a2921-c415-46de-9111-13f25f428b8b</td><td>2014-06-30 00:00:00.000</td></tr><tr><td>62</td><td>494170342</td><td>adventure-works\\john0</td><td>0x7AE3</td><td>3</td><td>Production Supervisor - WC60</td><td>1956-08-07</td><td>M</td><td>M</td><td>2008-03-17</td><td>0</td><td>81</td><td>60</td><td>1</td><td>d4ed1f78-7c28-479b-bfef-a73228ba2aaa</td><td>2014-06-30 00:00:00.000</td></tr><tr><td>63</td><td>414476027</td><td>adventure-works\\maciej0</td><td>0x7AE358</td><td>4</td><td>Production Technician - WC60</td><td>1955-01-30</td><td>S</td><td>M</td><td>2010-01-29</td><td>0</td><td>30</td><td>35</td><td>1</td><td>3229d93f-6a14-4bac-abc5-a91b9ecfb4d3</td><td>2014-06-30 00:00:00.000</td></tr><tr><td>64</td><td>582347317</td><td>adventure-works\\michael7</td><td>0x7AE368</td><td>4</td><td>Production Technician - WC60</td><td>1973-09-05</td><td>S</td><td>M</td><td>2010-02-23</td><td>0</td><td>26</td><td>33</td><td>1</td><td>492b24bd-bde9-4371-b96e-ccd72264b91f</td><td>2014-06-30 00:00:00.000</td></tr><tr><td>65</td><td>8066363</td><td>adventure-works\\randy0</td><td>0x7AE378</td><td>4</td><td>Production Technician - WC60</td><td>1970-04-28</td><td>M</td><td>M</td><td>2010-02-23</td><td>0</td><td>29</td><td>34</td><td>1</td><td>9a08108d-e039-4862-8f93-55f18017ad72</td><td>2014-06-30 00:00:00.000</td></tr><tr><td>66</td><td>834186596</td><td>adventure-works\\karan0</td><td>0x7AE384</td><td>4</td><td>Production Technician - WC60</td><td>1970-03-07</td><td>S</td><td>M</td><td>2009-12-22</td><td>0</td><td>28</td><td>34</td><td>1</td><td>08b1ba74-dd80-4fda-8327-93268b84977b</td><td>2014-06-30 00:00:00.000</td></tr><tr><td>67</td><td>63179277</td><td>adventure-works\\jay0</td><td>0x7AE38C</td><td>4</td><td>Production Technician - WC60</td><td>1976-02-11</td><td>S</td><td>M</td><td>2009-03-05</td><td>0</td><td>32</td><td>36</td><td>1</td><td>18187809-5294-474f-85a1-d5be6bd518d6</td><td>2014-06-30 00:00:00.000</td></tr><tr><td>68</td><td>537092325</td><td>adventure-works\\charles0</td><td>0x7AE394</td><td>4</td><td>Production Technician - WC60</td><td>1971-09-02</td><td>S</td><td>M</td><td>2009-12-03</td><td>0</td><td>27</td><td>33</td><td>1</td><td>cdc11292-df74-4fb0-8676-5b2aa4687142</td><td>2014-06-30 00:00:00.000</td></tr><tr><td>69</td><td>752513276</td><td>adventure-works\\steve0</td><td>0x7AE39C</td><td>4</td><td>Production Technician - WC60</td><td>1991-04-06</td><td>S</td><td>M</td><td>2009-02-15</td><td>0</td><td>31</td><td>35</td><td>1</td><td>12f678d7-ead3-4cf4-8518-a19aacf2a6d4</td><td>2014-06-30 00:00:00.000</td></tr><tr><td>70</td><td>36151748</td><td>adventure-works\\david2</td><td>0x7AE3A2</td><td>4</td><td>Production Technician - WC60</td><td>1984-12-29</td><td>M</td><td>M</td><td>2008-12-15</td><td>0</td><td>33</td><td>36</td><td>1</td><td>fc617bb8-d2a3-4374-873c-8ef38d80127d</td><td>2014-06-30 00:00:00.000</td></tr><tr><td>71</td><td>578935259</td><td>adventure-works\\michael3</td><td>0x7AE5</td><td>3</td><td>Production Supervisor - WC30</td><td>1989-01-29</td><td>S</td><td>M</td><td>2009-02-15</td><td>0</td><td>70</td><td>55</td><td>1</td><td>1ad772d7-7b4a-4a7b-8676-49dd7608cb94</td><td>2014-06-30 00:00:00.000</td></tr><tr><td>72</td><td>443968955</td><td>adventure-works\\steven0</td><td>0x7AE558</td><td>4</td><td>Production Technician - WC30</td><td>1977-05-14</td><td>M</td><td>M</td><td>2008-12-01</td><td>0</td><td>41</td><td>40</td><td>1</td><td>0a8937c9-68aa-4d48-ba4e-b40493d764aa</td><td>2014-06-30 00:00:00.000</td></tr><tr><td>73</td><td>138280935</td><td>adventure-works\\carole0</td><td>0x7AE568</td><td>4</td><td>Production Technician - WC30</td><td>1983-10-19</td><td>M</td><td>F</td><td>2008-12-19</td><td>0</td><td>42</td><td>41</td><td>1</td><td>c76a41f1-a390-4ae4-a82a-2a87764c6391</td><td>2014-06-30 00:00:00.000</td></tr><tr><td>74</td><td>420023788</td><td>adventure-works\\bjorn0</td><td>0x7AE578</td><td>4</td><td>Production Technician - WC30</td><td>1989-11-06</td><td>S</td><td>M</td><td>2009-01-07</td><td>0</td><td>43</td><td>41</td><td>1</td><td>a942e1e0-2d5e-4858-97c0-947020e96860</td><td>2014-06-30 00:00:00.000</td></tr><tr><td>75</td><td>363996959</td><td>adventure-works\\michiko0</td><td>0x7AE584</td><td>4</td><td>Production Technician - WC30</td><td>1982-06-27</td><td>S</td><td>M</td><td>2009-01-26</td><td>0</td><td>44</td><td>42</td><td>1</td><td>f359f5b6-5e18-4c62-8531-14d951911ce5</td><td>2014-06-30 00:00:00.000</td></tr><tr><td>76</td><td>227319668</td><td>adventure-works\\carol0</td><td>0x7AE58C</td><td>4</td><td>Production Technician - WC30</td><td>1988-10-17</td><td>M</td><td>F</td><td>2009-02-12</td><td>0</td><td>45</td><td>42</td><td>1</td><td>8d0182a3-5b59-4eea-9b3c-c7f05da9a2ce</td><td>2014-06-30 00:00:00.000</td></tr><tr><td>77</td><td>301435199</td><td>adventure-works\\merav0</td><td>0x7AE594</td><td>4</td><td>Production Technician - WC30</td><td>1983-05-13</td><td>M</td><td>F</td><td>2009-03-03</td><td>0</td><td>46</td><td>43</td><td>1</td><td>2ee7914a-62d3-473b-a0e1-e4e55341ec4e</td><td>2014-06-30 00:00:00.000</td></tr><tr><td>78</td><td>370989364</td><td>adventure-works\\reuben0</td><td>0x7AE7</td><td>3</td><td>Production Supervisor - WC40</td><td>1987-08-27</td><td>M</td><td>M</td><td>2008-12-15</td><td>0</td><td>72</td><td>56</td><td>1</td><td>71eee2a6-b9b3-4bf4-8949-01239df7c901</td><td>2014-06-30 00:00:00.000</td></tr><tr><td>79</td><td>697712387</td><td>adventure-works\\eric1</td><td>0x7AE758</td><td>4</td><td>Production Technician - WC40</td><td>1966-12-08</td><td>M</td><td>M</td><td>2010-01-24</td><td>0</td><td>60</td><td>50</td><td>1</td><td>55f62e38-9457-46c8-a824-e46a3117a935</td><td>2014-06-30 00:00:00.000</td></tr><tr><td>80</td><td>943170460</td><td>adventure-works\\sandeep0</td><td>0x7AE768</td><td>4</td><td>Production Technician - WC40</td><td>1970-12-03</td><td>S</td><td>M</td><td>2010-01-17</td><td>0</td><td>65</td><td>52</td><td>1</td><td>606c21e2-3ec0-48a6-a9fe-6bc8123ac786</td><td>2014-06-30 00:00:00.000</td></tr><tr><td>81</td><td>413787783</td><td>adventure-works\\mihail0</td><td>0x7AE778</td><td>4</td><td>Production Technician - WC40</td><td>1971-03-09</td><td>S</td><td>M</td><td>2009-12-29</td><td>0</td><td>64</td><td>52</td><td>1</td><td>03a9ba14-0d5b-4671-b851-2c1721efbf01</td><td>2014-06-30 00:00:00.000</td></tr><tr><td>82</td><td>58791499</td><td>adventure-works\\jack1</td><td>0x7AE784</td><td>4</td><td>Production Technician - WC40</td><td>1973-08-29</td><td>S</td><td>M</td><td>2010-03-03</td><td>0</td><td>62</td><td>51</td><td>1</td><td>d308d387-f7f3-4b5f-abda-faf5574245cd</td><td>2014-06-30 00:00:00.000</td></tr><tr><td>83</td><td>988315686</td><td>adventure-works\\patrick1</td><td>0x7AE78C</td><td>4</td><td>Production Technician - WC40</td><td>1973-12-23</td><td>M</td><td>M</td><td>2010-02-12</td><td>0</td><td>61</td><td>50</td><td>1</td><td>296c52ae-169f-4292-975d-c508476dcecf</td><td>2014-06-30 00:00:00.000</td></tr><tr><td>84</td><td>947029962</td><td>adventure-works\\frank3</td><td>0x7AE794</td><td>4</td><td>Production Technician - WC40</td><td>1952-03-02</td><td>M</td><td>M</td><td>2010-02-05</td><td>0</td><td>66</td><td>53</td><td>1</td><td>9af24acc-ea3e-4efe-b5e3-4762c496d57c</td><td>2014-06-30 00:00:00.000</td></tr><tr><td>85</td><td>1662732</td><td>adventure-works\\brian2</td><td>0x7AE79C</td><td>4</td><td>Production Technician - WC40</td><td>1970-12-23</td><td>S</td><td>M</td><td>2009-12-11</td><td>0</td><td>63</td><td>51</td><td>1</td><td>c294f676-caaf-4924-9730-bc81ae408be1</td><td>2014-06-30 00:00:00.000</td></tr><tr><td>86</td><td>769680433</td><td>adventure-works\\ryan0</td><td>0x7AE7A2</td><td>4</td><td>Production Technician - WC40</td><td>1972-06-13</td><td>M</td><td>M</td><td>2009-01-05</td><td>0</td><td>59</td><td>49</td><td>1</td><td>10e5bd6f-2b9c-4192-a94d-6a2d50ea1adb</td><td>2014-06-30 00:00:00.000</td></tr><tr><td>87</td><td>7201901</td><td>adventure-works\\cristian0</td><td>0x7AE880</td><td>3</td><td>Production Supervisor - WC10</td><td>1984-04-11</td><td>M</td><td>M</td><td>2008-12-22</td><td>0</td><td>67</td><td>53</td><td>1</td><td>5be16416-8570-417d-9e54-047db468b5e9</td><td>2014-06-30 00:00:00.000</td></tr><tr><td>88</td><td>294148271</td><td>adventure-works\\betsy0</td><td>0x7AE8AC</td><td>4</td><td>Production Technician - WC10</td><td>1966-12-17</td><td>S</td><td>F</td><td>2009-12-18</td><td>0</td><td>99</td><td>69</td><td>1</td><td>ebcdba1c-6c1d-4d36-90f7-1893755c85e3</td><td>2014-06-30 00:00:00.000</td></tr><tr><td>89</td><td>90888098</td><td>adventure-works\\patrick0</td><td>0x7AE8B4</td><td>4</td><td>Production Technician - WC10</td><td>1986-09-10</td><td>S</td><td>M</td><td>2010-02-01</td><td>0</td><td>96</td><td>68</td><td>1</td><td>d5fbe9e6-b8c5-484c-b4b8-48059e0ef267</td><td>2014-06-30 00:00:00.000</td></tr><tr><td>90</td><td>82638150</td><td>adventure-works\\danielle0</td><td>0x7AE8BC</td><td>4</td><td>Production Technician - WC10</td><td>1986-09-07</td><td>S</td><td>F</td><td>2010-02-20</td><td>0</td><td>97</td><td>68</td><td>1</td><td>bb886159-1400-4264-b7c9-a3769beb1274</td><td>2014-06-30 00:00:00.000</td></tr><tr><td>91</td><td>390124815</td><td>adventure-works\\kimberly0</td><td>0x7AE8C2</td><td>4</td><td>Production Technician - WC10</td><td>1986-09-13</td><td>S</td><td>F</td><td>2010-01-12</td><td>0</td><td>95</td><td>67</td><td>1</td><td>ce256b6c-1eee-43ed-9969-7cac480ff4d7</td><td>2014-06-30 00:00:00.000</td></tr><tr><td>92</td><td>826454897</td><td>adventure-works\\tom0</td><td>0x7AE8C6</td><td>4</td><td>Production Technician - WC10</td><td>1986-10-01</td><td>M</td><td>M</td><td>2010-03-10</td><td>0</td><td>98</td><td>69</td><td>1</td><td>b3bf7fc5-2014-48ce-b7bb-76124fa8446c</td><td>2014-06-30 00:00:00.000</td></tr><tr><td>93</td><td>778552911</td><td>adventure-works\\kok-ho0</td><td>0x7AE980</td><td>3</td><td>Production Supervisor - WC50</td><td>1980-04-28</td><td>S</td><td>M</td><td>2008-12-27</td><td>0</td><td>78</td><td>59</td><td>1</td><td>57fb2c0f-b105-49f0-967a-88f3d743cb3f</td><td>2014-06-30 00:00:00.000</td></tr><tr><td>94</td><td>718299860</td><td>adventure-works\\russell0</td><td>0x7AE9AC</td><td>4</td><td>Production Technician - WC50</td><td>1972-11-25</td><td>M</td><td>M</td><td>2008-12-12</td><td>0</td><td>6</td><td>23</td><td>1</td><td>6b10192f-d570-47c4-82c9-3d979b1efdc1</td><td>2014-06-30 00:00:00.000</td></tr><tr><td>95</td><td>674171828</td><td>adventure-works\\jim0</td><td>0x7AE9B4</td><td>4</td><td>Production Technician - WC50</td><td>1986-09-08</td><td>M</td><td>M</td><td>2008-12-19</td><td>0</td><td>1</td><td>20</td><td>1</td><td>6175876e-8fcc-4917-be06-fc358515e6df</td><td>2014-06-30 00:00:00.000</td></tr><tr><td>96</td><td>912141525</td><td>adventure-works\\elizabeth0</td><td>0x7AE9BC</td><td>4</td><td>Production Technician - WC50</td><td>1990-01-25</td><td>M</td><td>F</td><td>2009-03-02</td><td>0</td><td>5</td><td>22</td><td>1</td><td>62a9f73f-6443-4f2f-b864-18186614bfb6</td><td>2014-06-30 00:00:00.000</td></tr><tr><td>97</td><td>370581729</td><td>adventure-works\\mandar0</td><td>0x7AE9C2</td><td>4</td><td>Production Technician - WC50</td><td>1986-03-21</td><td>S</td><td>M</td><td>2009-02-10</td><td>0</td><td>0</td><td>20</td><td>1</td><td>1f0e068a-48c5-40bf-8190-565150efdadd</td><td>2014-06-30 00:00:00.000</td></tr><tr><td>98</td><td>152085091</td><td>adventure-works\\sameer0</td><td>0x7AE9C6</td><td>4</td><td>Production Technician - WC50</td><td>1978-06-26</td><td>M</td><td>M</td><td>2009-02-11</td><td>0</td><td>4</td><td>22</td><td>1</td><td>a703169f-1563-488e-914d-d784fd07f29a</td><td>2014-06-30 00:00:00.000</td></tr><tr><td>99</td><td>431859843</td><td>adventure-works\\nuan0</td><td>0x7AE9CA</td><td>4</td><td>Production Technician - WC50</td><td>1979-03-29</td><td>S</td><td>M</td><td>2009-01-06</td><td>0</td><td>2</td><td>21</td><td>1</td><td>a6089357-2f2f-48cc-ab3c-d9b75a3c09d7</td><td>2014-06-30 00:00:00.000</td></tr><tr><td>100</td><td>204035155</td><td>adventure-works\\lolan0</td><td>0x7AE9CE</td><td>4</td><td>Production Technician - WC50</td><td>1973-01-24</td><td>M</td><td>M</td><td>2009-01-12</td><td>0</td><td>7</td><td>23</td><td>1</td><td>9b9b768d-7cc1-4dce-87cb-765ab73a6aff</td><td>2014-06-30 00:00:00.000</td></tr><tr><td>101</td><td>153288994</td><td>adventure-works\\houman0</td><td>0x7AE9D1</td><td>4</td><td>Production Technician - WC50</td><td>1971-08-30</td><td>M</td><td>M</td><td>2009-01-25</td><td>0</td><td>3</td><td>21</td><td>1</td><td>9ce8b2e8-9944-4ba5-97de-441d8314f161</td><td>2014-06-30 00:00:00.000</td></tr><tr><td>102</td><td>360868122</td><td>adventure-works\\zheng0</td><td>0x7AEA80</td><td>3</td><td>Production Supervisor - WC10</td><td>1983-10-26</td><td>S</td><td>M</td><td>2008-12-03</td><td>0</td><td>66</td><td>53</td><td>1</td><td>c75f2740-ace3-4ebf-91c5-7ab352e1095f</td><td>2014-06-30 00:00:00.000</td></tr><tr><td>103</td><td>455563743</td><td>adventure-works\\ebru0</td><td>0x7AEAAC</td><td>4</td><td>Production Technician - WC10</td><td>1986-09-22</td><td>S</td><td>M</td><td>2009-12-06</td><td>0</td><td>93</td><td>66</td><td>1</td><td>6c25a32b-88b5-4f84-a129-f7f688dfa588</td><td>2014-06-30 00:00:00.000</td></tr><tr><td>104</td><td>717889520</td><td>adventure-works\\mary1</td><td>0x7AEAB4</td><td>4</td><td>Production Technician - WC10</td><td>1986-09-19</td><td>M</td><td>F</td><td>2009-12-25</td><td>0</td><td>94</td><td>67</td><td>1</td><td>6dc9f7d0-5664-4e4a-90f5-7ab85ebb02e6</td><td>2014-06-30 00:00:00.000</td></tr><tr><td>105</td><td>801365500</td><td>adventure-works\\kevin2</td><td>0x7AEABC</td><td>4</td><td>Production Technician - WC10</td><td>1986-09-19</td><td>S</td><td>M</td><td>2009-12-25</td><td>0</td><td>90</td><td>65</td><td>1</td><td>8b21e53d-e705-479a-b32e-6e63ac2f4bcd</td><td>2014-06-30 00:00:00.000</td></tr><tr><td>106</td><td>561196580</td><td>adventure-works\\john4</td><td>0x7AEAC2</td><td>4</td><td>Production Technician - WC10</td><td>1986-09-28</td><td>S</td><td>M</td><td>2010-02-27</td><td>0</td><td>92</td><td>66</td><td>1</td><td>d4cf23d9-21b6-45e4-827c-22890df0373b</td><td>2014-06-30 00:00:00.000</td></tr><tr><td>107</td><td>393421437</td><td>adventure-works\\christopher0</td><td>0x7AEAC6</td><td>4</td><td>Production Technician - WC10</td><td>1986-10-01</td><td>M</td><td>M</td><td>2010-02-08</td><td>0</td><td>91</td><td>65</td><td>1</td><td>f71c6055-557b-4660-86ff-8c0fa14b24e6</td><td>2014-06-30 00:00:00.000</td></tr><tr><td>108</td><td>630184120</td><td>adventure-works\\jinghao0</td><td>0x7AEB80</td><td>3</td><td>Production Supervisor - WC50</td><td>1989-02-05</td><td>S</td><td>M</td><td>2008-12-08</td><td>0</td><td>77</td><td>58</td><td>1</td><td>2bca07d3-f2ac-4406-904f-e09156f3eb3e</td><td>2014-06-30 00:00:00.000</td></tr><tr><td>109</td><td>113695504</td><td>adventure-works\\alice0</td><td>0x7AEBAC</td><td>4</td><td>Production Technician - WC50</td><td>1978-01-26</td><td>M</td><td>F</td><td>2008-12-07</td><td>0</td><td>95</td><td>67</td><td>1</td><td>7e632b21-0d11-4bba-8a68-8cae14c20ae6</td><td>2014-06-30 00:00:00.000</td></tr><tr><td>110</td><td>857651804</td><td>adventure-works\\jun0</td><td>0x7AEBB4</td><td>4</td><td>Production Technician - WC50</td><td>1979-07-06</td><td>S</td><td>M</td><td>2008-12-14</td><td>0</td><td>90</td><td>65</td><td>1</td><td>9c5f84d1-fb96-4d82-92a1-f932903deaad</td><td>2014-06-30 00:00:00.000</td></tr><tr><td>111</td><td>415823523</td><td>adventure-works\\suroor0</td><td>0x7AEBBC</td><td>4</td><td>Production Technician - WC50</td><td>1978-02-25</td><td>S</td><td>M</td><td>2008-12-17</td><td>0</td><td>93</td><td>66</td><td>1</td><td>14010b0e-c101-4e41-b788-21923399e512</td><td>2014-06-30 00:00:00.000</td></tr><tr><td>112</td><td>981597097</td><td>adventure-works\\john1</td><td>0x7AEBC2</td><td>4</td><td>Production Technician - WC50</td><td>1978-05-31</td><td>S</td><td>M</td><td>2009-01-01</td><td>0</td><td>91</td><td>65</td><td>1</td><td>b6998410-ee0f-4307-9e6e-fe348f11012d</td><td>2014-06-30 00:00:00.000</td></tr><tr><td>113</td><td>54759846</td><td>adventure-works\\linda0</td><td>0x7AEBC6</td><td>4</td><td>Production Technician - WC50</td><td>1987-07-17</td><td>M</td><td>F</td><td>2008-12-25</td><td>0</td><td>96</td><td>68</td><td>1</td><td>fb84759c-b687-43b2-8727-125efe0f5e13</td><td>2014-06-30 00:00:00.000</td></tr><tr><td>114</td><td>342607223</td><td>adventure-works\\mindaugas0</td><td>0x7AEBCA</td><td>4</td><td>Production Technician - WC50</td><td>1978-05-07</td><td>M</td><td>M</td><td>2009-01-13</td><td>0</td><td>97</td><td>68</td><td>1</td><td>1d784088-dacb-4185-9f60-3d2db4925ba5</td><td>2014-06-30 00:00:00.000</td></tr><tr><td>115</td><td>563680513</td><td>adventure-works\\angela0</td><td>0x7AEBCE</td><td>4</td><td>Production Technician - WC50</td><td>1991-05-31</td><td>S</td><td>F</td><td>2009-01-20</td><td>0</td><td>92</td><td>66</td><td>1</td><td>4958e1c3-c872-4222-954e-09d2060ea7ef</td><td>2014-06-30 00:00:00.000</td></tr><tr><td>116</td><td>398737566</td><td>adventure-works\\michael2</td><td>0x7AEBD1</td><td>4</td><td>Production Technician - WC50</td><td>1974-05-03</td><td>S</td><td>M</td><td>2009-01-31</td><td>0</td><td>98</td><td>69</td><td>1</td><td>c6eb2566-cf28-4602-9a25-5b91c8728838</td><td>2014-06-30 00:00:00.000</td></tr><tr><td>117</td><td>599942664</td><td>adventure-works\\chad0</td><td>0x7AEBD3</td><td>4</td><td>Production Technician - WC50</td><td>1990-08-04</td><td>M</td><td>M</td><td>2009-02-18</td><td>0</td><td>99</td><td>69</td><td>1</td><td>83a32d4c-4725-478f-9997-91739bb957ba</td><td>2014-06-30 00:00:00.000</td></tr><tr><td>118</td><td>222400012</td><td>adventure-works\\don0</td><td>0x7AEBD5</td><td>4</td><td>Production Technician - WC50</td><td>1971-06-13</td><td>M</td><td>M</td><td>2009-02-13</td><td>0</td><td>88</td><td>64</td><td>1</td><td>e720053d-922e-4c91-b81a-a1ca4ef8bb0e</td><td>2014-06-30 00:00:00.000</td></tr><tr><td>119</td><td>334834274</td><td>adventure-works\\michael4</td><td>0x7AEBD7</td><td>4</td><td>Production Technician - WC50</td><td>1989-06-15</td><td>S</td><td>M</td><td>2009-02-25</td><td>0</td><td>94</td><td>67</td><td>1</td><td>eb27c026-9470-4450-8d5e-1f38a41793b5</td><td>2014-06-30 00:00:00.000</td></tr><tr><td>120</td><td>211789056</td><td>adventure-works\\kitti0</td><td>0x7AEBD9</td><td>4</td><td>Production Technician - WC50</td><td>1987-06-06</td><td>S</td><td>F</td><td>2009-03-04</td><td>0</td><td>89</td><td>64</td><td>1</td><td>49a05524-fa34-45b1-95bc-489901dc5b50</td><td>2014-06-30 00:00:00.000</td></tr><tr><td>121</td><td>521265716</td><td>adventure-works\\pilar0</td><td>0x7AEC80</td><td>3</td><td>Shipping and Receiving Supervisor</td><td>1972-09-09</td><td>S</td><td>M</td><td>2009-01-02</td><td>1</td><td>93</td><td>66</td><td>1</td><td>01bcce22-d63a-4c3f-9ba8-d3d5a4c3bd52</td><td>2014-06-30 00:00:00.000</td></tr><tr><td>122</td><td>586486572</td><td>adventure-works\\susan0</td><td>0x7AECAC</td><td>4</td><td>Stocker</td><td>1978-02-17</td><td>S</td><td>F</td><td>2008-12-07</td><td>0</td><td>97</td><td>68</td><td>1</td><td>923ecfd6-e202-429a-9141-6cb183531439</td><td>2014-06-30 00:00:00.000</td></tr><tr><td>123</td><td>337752649</td><td>adventure-works\\vamsi0</td><td>0x7AECB4</td><td>4</td><td>Shipping and Receiving Clerk</td><td>1977-03-18</td><td>M</td><td>M</td><td>2008-12-07</td><td>0</td><td>95</td><td>67</td><td>1</td><td>a8838ab2-99de-415c-8675-d82ebf1c4752</td><td>2014-06-30 00:00:00.000</td></tr><tr><td>124</td><td>420776180</td><td>adventure-works\\kim0</td><td>0x7AECBC</td><td>4</td><td>Stocker</td><td>1984-04-30</td><td>S</td><td>F</td><td>2008-12-26</td><td>0</td><td>98</td><td>69</td><td>1</td><td>6150f197-7923-40d4-84f2-936207d468ab</td><td>2014-06-30 00:00:00.000</td></tr><tr><td>125</td><td>584205124</td><td>adventure-works\\matthias0</td><td>0x7AECC2</td><td>4</td><td>Shipping and Receiving Clerk</td><td>1973-11-11</td><td>M</td><td>M</td><td>2009-01-20</td><td>0</td><td>94</td><td>67</td><td>1</td><td>54ed63dc-c62c-4cc7-89c2-015df49c49a5</td><td>2014-06-30 00:00:00.000</td></tr><tr><td>126</td><td>652779496</td><td>adventure-works\\jimmy0</td><td>0x7AECC6</td><td>4</td><td>Stocker</td><td>1985-05-04</td><td>M</td><td>M</td><td>2009-02-26</td><td>0</td><td>96</td><td>68</td><td>1</td><td>96442787-9520-4955-a457-38afddb6ff13</td><td>2014-06-30 00:00:00.000</td></tr><tr><td>127</td><td>750905084</td><td>adventure-works\\david4</td><td>0x7AED80</td><td>3</td><td>Production Supervisor - WC40</td><td>1983-07-02</td><td>S</td><td>M</td><td>2009-01-03</td><td>0</td><td>73</td><td>56</td><td>1</td><td>516538e8-115b-44f4-aa7b-e6c1d9f8adfc</td><td>2014-06-30 00:00:00.000</td></tr><tr><td>128</td><td>384162788</td><td>adventure-works\\paul0</td><td>0x7AEDAC</td><td>4</td><td>Production Technician - WC40</td><td>1980-11-13</td><td>S</td><td>M</td><td>2008-12-04</td><td>0</td><td>68</td><td>54</td><td>1</td><td>0217049e-1566-42b6-8027-41b751e2b00b</td><td>2014-06-30 00:00:00.000</td></tr><tr><td>129</td><td>502058701</td><td>adventure-works\\gary0</td><td>0x7AEDB4</td><td>4</td><td>Production Technician - WC40</td><td>1988-05-16</td><td>S</td><td>M</td><td>2008-12-22</td><td>0</td><td>69</td><td>54</td><td>1</td><td>a03d6052-1f85-4ebe-aac9-b67cfdcd91a6</td><td>2014-06-30 00:00:00.000</td></tr><tr><td>130</td><td>578953538</td><td>adventure-works\\rob1</td><td>0x7AEDBC</td><td>4</td><td>Production Technician - WC40</td><td>1973-08-04</td><td>S</td><td>M</td><td>2009-02-13</td><td>0</td><td>71</td><td>55</td><td>1</td><td>54fda597-6822-42b4-b128-63eca03071f2</td><td>2014-06-30 00:00:00.000</td></tr><tr><td>131</td><td>273260055</td><td>adventure-works\\baris0</td><td>0x7AEDC2</td><td>4</td><td>Production Technician - WC40</td><td>1990-10-07</td><td>S</td><td>M</td><td>2009-02-15</td><td>0</td><td>72</td><td>56</td><td>1</td><td>232d68bf-df58-48f9-9235-53bd4b009b4b</td><td>2014-06-30 00:00:00.000</td></tr><tr><td>132</td><td>1300049</td><td>adventure-works\\nicole0</td><td>0x7AEDC6</td><td>4</td><td>Production Technician - WC40</td><td>1986-04-09</td><td>M</td><td>F</td><td>2009-02-22</td><td>0</td><td>67</td><td>53</td><td>1</td><td>15671e3b-016f-41fd-840b-5a9f7d776d9a</td><td>2014-06-30 00:00:00.000</td></tr><tr><td>133</td><td>830150469</td><td>adventure-works\\michael1</td><td>0x7AEDCA</td><td>4</td><td>Production Technician - WC40</td><td>1991-01-04</td><td>S</td><td>M</td><td>2009-01-10</td><td>0</td><td>70</td><td>55</td><td>1</td><td>416bf905-7d6c-4692-8fd6-40f6c4f9ecc4</td><td>2014-06-30 00:00:00.000</td></tr><tr><td>134</td><td>45615666</td><td>adventure-works\\eric0</td><td>0x7AEE80</td><td>3</td><td>Production Supervisor - WC20</td><td>1985-01-19</td><td>M</td><td>M</td><td>2009-01-14</td><td>0</td><td>40</td><td>40</td><td>1</td><td>2abcf39b-88d7-49fa-820a-83d223322ba5</td><td>2014-06-30 00:00:00.000</td></tr><tr><td>135</td><td>964089218</td><td>adventure-works\\ivo0</td><td>0x7AEEAC</td><td>4</td><td>Production Technician - WC20</td><td>1982-01-03</td><td>M</td><td>M</td><td>2008-12-04</td><td>0</td><td>9</td><td>24</td><td>1</td><td>d83a26f3-7ea7-477b-a5bb-7eaadfc13a09</td><td>2014-06-30 00:00:00.000</td></tr><tr><td>136</td><td>701156975</td><td>adventure-works\\sylvester0</td><td>0x7AEEB4</td><td>4</td><td>Production Technician - WC20</td><td>1970-11-12</td><td>M</td><td>M</td><td>2009-12-11</td><td>0</td><td>4</td><td>22</td><td>1</td><td>d9c43d08-3882-4e5c-bdf0-f6bd7004cd04</td><td>2014-06-30 00:00:00.000</td></tr><tr><td>137</td><td>63761469</td><td>adventure-works\\anibal0</td><td>0x7AEEBC</td><td>4</td><td>Production Technician - WC20</td><td>1974-09-05</td><td>S</td><td>F</td><td>2009-02-23</td><td>0</td><td>8</td><td>24</td><td>1</td><td>bc18a829-f0ce-4eaf-9785-2d84c86f925a</td><td>2014-06-30 00:00:00.000</td></tr><tr><td>138</td><td>25011600</td><td>adventure-works\\samantha0</td><td>0x7AEEC2</td><td>4</td><td>Production Technician - WC20</td><td>1987-11-22</td><td>M</td><td>F</td><td>2009-02-04</td><td>0</td><td>7</td><td>23</td><td>1</td><td>1629eddd-d0ae-4cb9-a59c-3a175f7027e5</td><td>2014-06-30 00:00:00.000</td></tr><tr><td>139</td><td>113393530</td><td>adventure-works\\hung-fu0</td><td>0x7AEEC6</td><td>4</td><td>Production Technician - WC20</td><td>1971-10-23</td><td>S</td><td>M</td><td>2010-01-06</td><td>0</td><td>0</td><td>20</td><td>1</td><td>065d8d5f-9504-4ffe-98dc-e69677f19f15</td><td>2014-06-30 00:00:00.000</td></tr><tr><td>140</td><td>339233463</td><td>adventure-works\\prasanna0</td><td>0x7AEECA</td><td>4</td><td>Production Technician - WC20</td><td>1953-04-30</td><td>M</td><td>M</td><td>2010-01-22</td><td>0</td><td>5</td><td>22</td><td>1</td><td>72ed240a-0fd8-4423-8a49-9078ba6bcf6c</td><td>2014-06-30 00:00:00.000</td></tr><tr><td>141</td><td>872923042</td><td>adventure-works\\min0</td><td>0x7AEECE</td><td>4</td><td>Production Technician - WC20</td><td>1974-09-10</td><td>M</td><td>M</td><td>2010-01-24</td><td>0</td><td>1</td><td>20</td><td>1</td><td>cc75c35d-1566-43fa-b2e9-d1e508efdcd1</td><td>2014-06-30 00:00:00.000</td></tr><tr><td>142</td><td>163347032</td><td>adventure-works\\olinda0</td><td>0x7AEED1</td><td>4</td><td>Production Technician - WC20</td><td>1970-04-04</td><td>S</td><td>F</td><td>2010-03-04</td><td>0</td><td>3</td><td>21</td><td>1</td><td>6456cec3-9b1e-4ebc-9fd8-732b93363f65</td><td>2014-06-30 00:00:00.000</td></tr><tr><td>143</td><td>56772045</td><td>adventure-works\\krishna0</td><td>0x7AEED3</td><td>4</td><td>Production Technician - WC20</td><td>1971-09-05</td><td>S</td><td>M</td><td>2010-02-13</td><td>0</td><td>2</td><td>21</td><td>1</td><td>42a506a5-0ac0-4148-b702-bb7b804ef98c</td><td>2014-06-30 00:00:00.000</td></tr><tr><td>144</td><td>886023130</td><td>adventure-works\\paul1</td><td>0x7AEED5</td><td>4</td><td>Production Technician - WC20</td><td>1990-11-04</td><td>M</td><td>M</td><td>2009-01-17</td><td>0</td><td>6</td><td>23</td><td>1</td><td>dc5ba622-b860-41ee-af92-5feb4779b589</td><td>2014-06-30 00:00:00.000</td></tr><tr><td>145</td><td>386315192</td><td>adventure-works\\cynthia0</td><td>0x7AEF80</td><td>3</td><td>Production Supervisor - WC30</td><td>1981-08-18</td><td>S</td><td>F</td><td>2009-01-27</td><td>0</td><td>69</td><td>54</td><td>1</td><td>f9e1dc46-0d03-4a8a-b693-1a964bc13e6c</td><td>2014-06-30 00:00:00.000</td></tr><tr><td>146</td><td>160739235</td><td>adventure-works\\jianshuo0</td><td>0x7AEFAC</td><td>4</td><td>Production Technician - WC30</td><td>1989-06-25</td><td>S</td><td>M</td><td>2008-12-07</td><td>0</td><td>36</td><td>38</td><td>1</td><td>6fff136a-9664-4eb9-9243-fac76e21b9dd</td><td>2014-06-30 00:00:00.000</td></tr><tr><td>147</td><td>604664374</td><td>adventure-works\\sandra0</td><td>0x7AEFB4</td><td>4</td><td>Production Technician - WC30</td><td>1975-11-05</td><td>M</td><td>F</td><td>2008-12-26</td><td>0</td><td>37</td><td>38</td><td>1</td><td>f69f3ff9-e1e0-4419-a6bf-f705e1556160</td><td>2014-06-30 00:00:00.000</td></tr><tr><td>148</td><td>733022683</td><td>adventure-works\\jason0</td><td>0x7AEFBC</td><td>4</td><td>Production Technician - WC30</td><td>1988-12-07</td><td>S</td><td>M</td><td>2009-01-14</td><td>0</td><td>38</td><td>39</td><td>1</td><td>c16c501d-942d-4eb0-b5c4-ef8119fbeba2</td><td>2014-06-30 00:00:00.000</td></tr><tr><td>149</td><td>764853868</td><td>adventure-works\\andy0</td><td>0x7AEFC2</td><td>4</td><td>Production Technician - WC30</td><td>1983-10-20</td><td>M</td><td>M</td><td>2009-01-31</td><td>0</td><td>39</td><td>39</td><td>1</td><td>615a6bfe-3046-4037-9764-238535f725be</td><td>2014-06-30 00:00:00.000</td></tr><tr><td>150</td><td>878395493</td><td>adventure-works\\michael5</td><td>0x7AEFC6</td><td>4</td><td>Production Technician - WC30</td><td>1982-09-18</td><td>M</td><td>M</td><td>2009-02-26</td><td>0</td><td>35</td><td>37</td><td>1</td><td>2b0876d4-8996-4e71-a613-be2e98e7accf</td><td>2014-06-30 00:00:00.000</td></tr><tr><td>151</td><td>993310268</td><td>adventure-works\\rostislav0</td><td>0x7AEFCA</td><td>4</td><td>Production Technician - WC30</td><td>1977-09-13</td><td>M</td><td>M</td><td>2009-02-19</td><td>0</td><td>40</td><td>40</td><td>1</td><td>00027a8c-c2f8-4a31-aba8-8a203638b8f1</td><td>2014-06-30 00:00:00.000</td></tr><tr><td>152</td><td>319472946</td><td>adventure-works\\yuhong0</td><td>0x7AF044</td><td>3</td><td>Production Supervisor - WC20</td><td>1977-04-06</td><td>M</td><td>M</td><td>2009-02-01</td><td>0</td><td>41</td><td>40</td><td>1</td><td>f1a684f4-02db-4b22-8977-6d8d3a21100e</td><td>2014-06-30 00:00:00.000</td></tr><tr><td>153</td><td>568596888</td><td>adventure-works\\hanying0</td><td>0x7AF04560</td><td>4</td><td>Production Technician - WC20</td><td>1974-10-16</td><td>S</td><td>M</td><td>2008-12-16</td><td>0</td><td>15</td><td>27</td><td>1</td><td>618b71bc-6e8c-492d-8862-b9efb7a4e06a</td><td>2014-06-30 00:00:00.000</td></tr><tr><td>154</td><td>97728960</td><td>adventure-works\\raymond0</td><td>0x7AF045A0</td><td>4</td><td>Production Technician - WC20</td><td>1967-03-02</td><td>M</td><td>M</td><td>2008-12-23</td><td>0</td><td>10</td><td>25</td><td>1</td><td>9f01e1fb-b893-40cc-9f5c-aaf89f9b7af5</td><td>2014-06-30 00:00:00.000</td></tr><tr><td>155</td><td>212801092</td><td>adventure-works\\fadi0</td><td>0x7AF045E0</td><td>4</td><td>Production Technician - WC20</td><td>1989-02-15</td><td>S</td><td>M</td><td>2009-01-04</td><td>0</td><td>16</td><td>28</td><td>1</td><td>9923376f-26d0-4845-9d99-cc3d696caeb8</td><td>2014-06-30 00:00:00.000</td></tr><tr><td>156</td><td>322160340</td><td>adventure-works\\lane0</td><td>0x7AF04610</td><td>4</td><td>Production Technician - WC20</td><td>1974-09-23</td><td>M</td><td>M</td><td>2009-01-11</td><td>0</td><td>11</td><td>25</td><td>1</td><td>042427b8-3883-4a87-a6a3-724ee1690f49</td><td>2014-06-30 00:00:00.000</td></tr><tr><td>157</td><td>812797414</td><td>adventure-works\\linda1</td><td>0x7AF04630</td><td>4</td><td>Production Technician - WC20</td><td>1977-10-05</td><td>S</td><td>F</td><td>2009-02-03</td><td>0</td><td>12</td><td>26</td><td>1</td><td>f963f913-449e-4ebb-bfda-fc0c3010db65</td><td>2014-06-30 00:00:00.000</td></tr><tr><td>158</td><td>300946911</td><td>adventure-works\\shelley0</td><td>0x7AF04650</td><td>4</td><td>Production Technician - WC20</td><td>1986-12-08</td><td>S</td><td>F</td><td>2009-03-07</td><td>0</td><td>14</td><td>27</td><td>1</td><td>13942056-2930-4490-83ce-af2386d5a5e7</td><td>2014-06-30 00:00:00.000</td></tr><tr><td>159</td><td>404159499</td><td>adventure-works\\terrence0</td><td>0x7AF04670</td><td>4</td><td>Production Technician - WC20</td><td>1984-12-08</td><td>S</td><td>M</td><td>2009-02-16</td><td>0</td><td>13</td><td>26</td><td>1</td><td>4da76442-5eef-41fb-ae19-16c55714f9ad</td><td>2014-06-30 00:00:00.000</td></tr><tr><td>160</td><td>712885347</td><td>adventure-works\\jeff0</td><td>0x7AF04C</td><td>3</td><td>Production Supervisor - WC45</td><td>1977-01-15</td><td>M</td><td>M</td><td>2009-01-21</td><td>0</td><td>74</td><td>57</td><td>1</td><td>7c7d459e-1f49-427d-9bd5-de31880c85dc</td><td>2014-06-30 00:00:00.000</td></tr><tr><td>161</td><td>275962311</td><td>adventure-works\\kirk0</td><td>0x7AF04D60</td><td>4</td><td>Production Technician - WC45</td><td>1985-02-06</td><td>S</td><td>M</td><td>2008-12-15</td><td>0</td><td>74</td><td>57</td><td>1</td><td>08d25baa-167b-499c-8b51-31dcc856a8cf</td><td>2014-06-30 00:00:00.000</td></tr><tr><td>162</td><td>514829225</td><td>adventure-works\\laura0</td><td>0x7AF04DA0</td><td>4</td><td>Production Technician - WC45</td><td>1980-12-25</td><td>S</td><td>F</td><td>2009-01-03</td><td>0</td><td>75</td><td>57</td><td>1</td><td>fccd65ba-2702-4409-ae56-75af1710ac78</td><td>2014-06-30 00:00:00.000</td></tr><tr><td>163</td><td>377784364</td><td>adventure-works\\alex0</td><td>0x7AF04DE0</td><td>4</td><td>Production Technician - WC45</td><td>1990-04-13</td><td>M</td><td>M</td><td>2009-02-08</td><td>0</td><td>77</td><td>58</td><td>1</td><td>b96bc9c2-5a25-4a9b-887a-c7c10e47b80c</td><td>2014-06-30 00:00:00.000</td></tr><tr><td>164</td><td>65848458</td><td>adventure-works\\andrew1</td><td>0x7AF04E10</td><td>4</td><td>Production Technician - WC45</td><td>1988-09-24</td><td>S</td><td>M</td><td>2009-03-06</td><td>0</td><td>73</td><td>56</td><td>1</td><td>a2a2cf20-4e5c-45f7-a7bd-1b94f0c3a43a</td><td>2014-06-30 00:00:00.000</td></tr><tr><td>165</td><td>539490372</td><td>adventure-works\\chris0</td><td>0x7AF04E30</td><td>4</td><td>Production Technician - WC45</td><td>1988-12-16</td><td>M</td><td>M</td><td>2009-01-22</td><td>0</td><td>76</td><td>58</td><td>1</td><td>300223f3-5587-4230-909b-d9c4afd6d683</td><td>2014-06-30 00:00:00.000</td></tr><tr><td>166</td><td>60114406</td><td>adventure-works\\jack0</td><td>0x7AF054</td><td>3</td><td>Production Supervisor - WC30</td><td>1983-06-22</td><td>S</td><td>M</td><td>2009-02-21</td><td>0</td><td>68</td><td>54</td><td>1</td><td>69a47230-70ee-48fd-ac15-c39f3712ff14</td><td>2014-06-30 00:00:00.000</td></tr><tr><td>167</td><td>498138869</td><td>adventure-works\\david1</td><td>0x7AF05560</td><td>4</td><td>Production Technician - WC30</td><td>1979-11-02</td><td>S</td><td>M</td><td>2008-12-02</td><td>0</td><td>25</td><td>32</td><td>1</td><td>ed7ee92e-a9d0-4e3a-8dee-4b143e459f7e</td><td>2014-06-30 00:00:00.000</td></tr><tr><td>168</td><td>271438431</td><td>adventure-works\\garrett0</td><td>0x7AF055A0</td><td>4</td><td>Production Technician - WC30</td><td>1984-08-25</td><td>S</td><td>M</td><td>2008-12-07</td><td>0</td><td>34</td><td>37</td><td>1</td><td>a6f5f72f-aa03-41b7-8b6e-b123bd360753</td><td>2014-06-30 00:00:00.000</td></tr><tr><td>169</td><td>351069889</td><td>adventure-works\\susan1</td><td>0x7AF055E0</td><td>4</td><td>Production Technician - WC30</td><td>1983-04-02</td><td>S</td><td>F</td><td>2008-12-14</td><td>0</td><td>31</td><td>35</td><td>1</td><td>f73d75d5-b47b-46ee-ad11-7bf13dd6c55d</td><td>2014-06-30 00:00:00.000</td></tr><tr><td>170</td><td>476115505</td><td>adventure-works\\george0</td><td>0x7AF05610</td><td>4</td><td>Production Technician - WC30</td><td>1977-04-16</td><td>M</td><td>M</td><td>2008-12-21</td><td>0</td><td>26</td><td>33</td><td>1</td><td>01b119a2-2af3-4775-818e-b421fecb07a7</td><td>2014-06-30 00:00:00.000</td></tr><tr><td>171</td><td>746373306</td><td>adventure-works\\david3</td><td>0x7AF05630</td><td>4</td><td>Production Technician - WC30</td><td>1981-08-03</td><td>S</td><td>M</td><td>2009-01-02</td><td>0</td><td>32</td><td>36</td><td>1</td><td>84c358d4-2493-452c-b7d6-b212c893a009</td><td>2014-06-30 00:00:00.000</td></tr><tr><td>172</td><td>364818297</td><td>adventure-works\\marc0</td><td>0x7AF05650</td><td>4</td><td>Production Technician - WC30</td><td>1986-10-24</td><td>M</td><td>M</td><td>2009-01-16</td><td>0</td><td>22</td><td>31</td><td>1</td><td>1f151abc-db4a-431a-8a5d-15f46c5b8ffc</td><td>2014-06-30 00:00:00.000</td></tr><tr><td>173</td><td>87268837</td><td>adventure-works\\eugene0</td><td>0x7AF05670</td><td>4</td><td>Production Technician - WC30</td><td>1987-07-15</td><td>S</td><td>M</td><td>2009-01-21</td><td>0</td><td>33</td><td>36</td><td>1</td><td>1ba1d374-18ae-48ed-938f-6f5d2eec4d4d</td><td>2014-06-30 00:00:00.000</td></tr><tr><td>174</td><td>585408256</td><td>adventure-works\\benjamin0</td><td>0x7AF05688</td><td>4</td><td>Production Technician - WC30</td><td>1986-01-05</td><td>S</td><td>M</td><td>2009-01-27</td><td>0</td><td>28</td><td>34</td><td>1</td><td>f1a6f824-895b-4a0f-af1b-05fba703e69f</td><td>2014-06-30 00:00:00.000</td></tr><tr><td>175</td><td>259388196</td><td>adventure-works\\reed0</td><td>0x7AF05698</td><td>4</td><td>Production Technician - WC30</td><td>1989-01-08</td><td>M</td><td>M</td><td>2009-02-02</td><td>0</td><td>23</td><td>31</td><td>1</td><td>b3967c00-7014-4960-af15-b1a6d3094f6f</td><td>2014-06-30 00:00:00.000</td></tr><tr><td>176</td><td>860123571</td><td>adventure-works\\david7</td><td>0x7AF056A8</td><td>4</td><td>Production Technician - WC30</td><td>1985-09-23</td><td>M</td><td>M</td><td>2009-02-14</td><td>0</td><td>29</td><td>34</td><td>1</td><td>85afb689-7eab-41a8-b154-9446195d5bde</td><td>2014-06-30 00:00:00.000</td></tr><tr><td>177</td><td>551346974</td><td>adventure-works\\russell1</td><td>0x7AF056B8</td><td>4</td><td>Production Technician - WC30</td><td>1982-02-11</td><td>M</td><td>M</td><td>2009-02-21</td><td>0</td><td>24</td><td>32</td><td>1</td><td>d54c7989-2675-4ef3-b392-370a8d264b2b</td><td>2014-06-30 00:00:00.000</td></tr><tr><td>178</td><td>568626529</td><td>adventure-works\\john3</td><td>0x7AF056C8</td><td>4</td><td>Production Technician - WC30</td><td>1982-03-24</td><td>S</td><td>M</td><td>2009-03-03</td><td>0</td><td>27</td><td>33</td><td>1</td><td>96c7eab1-6dea-4c59-afd8-923f0e8de1f6</td><td>2014-06-30 00:00:00.000</td></tr><tr><td>179</td><td>587567941</td><td>adventure-works\\jan0</td><td>0x7AF056D8</td><td>4</td><td>Production Technician - WC30</td><td>1974-11-15</td><td>S</td><td>M</td><td>2009-03-05</td><td>0</td><td>30</td><td>35</td><td>1</td><td>975f827d-be71-4eb1-8dbf-e6c451d1fad5</td><td>2014-06-30 00:00:00.000</td></tr><tr><td>180</td><td>862951447</td><td>adventure-works\\katie0</td><td>0x7AF05C</td><td>3</td><td>Production Supervisor - WC20</td><td>1984-11-18</td><td>S</td><td>F</td><td>2009-02-20</td><td>0</td><td>42</td><td>41</td><td>1</td><td>5be8b211-cbe5-45d8-84fd-23f36a881473</td><td>2014-06-30 00:00:00.000</td></tr><tr><td>181</td><td>545337468</td><td>adventure-works\\michael0</td><td>0x7AF05D60</td><td>4</td><td>Production Technician - WC20</td><td>1984-11-17</td><td>S</td><td>M</td><td>2008-12-09</td><td>0</td><td>20</td><td>30</td><td>1</td><td>4fd6fe82-535a-4dd1-beb1-154a8b5e42f0</td><td>2014-06-30 00:00:00.000</td></tr><tr><td>182</td><td>368920189</td><td>adventure-works\\nitin0</td><td>0x7AF05DA0</td><td>4</td><td>Production Technician - WC20</td><td>1986-12-01</td><td>S</td><td>M</td><td>2008-12-28</td><td>0</td><td>21</td><td>30</td><td>1</td><td>ebbc6787-3f2d-4f6b-9ea3-4def02ef382e</td><td>2014-06-30 00:00:00.000</td></tr><tr><td>183</td><td>969985265</td><td>adventure-works\\barbara0</td><td>0x7AF05DE0</td><td>4</td><td>Production Technician - WC20</td><td>1979-07-02</td><td>M</td><td>F</td><td>2009-01-22</td><td>0</td><td>17</td><td>28</td><td>1</td><td>045c9cbb-3448-4599-9fa9-6c7a9f82f832</td><td>2014-06-30 00:00:00.000</td></tr><tr><td>184</td><td>305522471</td><td>adventure-works\\john2</td><td>0x7AF05E10</td><td>4</td><td>Production Technician - WC20</td><td>1986-04-05</td><td>M</td><td>M</td><td>2009-02-09</td><td>0</td><td>18</td><td>29</td><td>1</td><td>bab69951-28ad-4bca-b5ac-032746d0cc6f</td><td>2014-06-30 00:00:00.000</td></tr><tr><td>185</td><td>621932914</td><td>adventure-works\\stefen0</td><td>0x7AF05E30</td><td>4</td><td>Production Technician - WC20</td><td>1975-12-21</td><td>S</td><td>M</td><td>2009-02-28</td><td>0</td><td>19</td><td>29</td><td>1</td><td>b9eebf9f-f694-4bc2-98ec-9b4fb0379edf</td><td>2014-06-30 00:00:00.000</td></tr><tr><td>186</td><td>551834634</td><td>adventure-works\\shane0</td><td>0x7AF064</td><td>3</td><td>Production Supervisor - WC45</td><td>1990-05-24</td><td>S</td><td>M</td><td>2009-02-08</td><td>0</td><td>75</td><td>57</td><td>1</td><td>2625c358-672a-4000-ad67-b8cd3f318285</td><td>2014-06-30 00:00:00.000</td></tr><tr><td>187</td><td>713403643</td><td>adventure-works\\yvonne0</td><td>0x7AF06560</td><td>4</td><td>Production Technician - WC45</td><td>1989-04-15</td><td>M</td><td>F</td><td>2008-12-09</td><td>0</td><td>79</td><td>59</td><td>1</td><td>83c6dabf-fd7d-4f5b-bb22-eb7eebb9a772</td><td>2014-06-30 00:00:00.000</td></tr><tr><td>188</td><td>435234965</td><td>adventure-works\\douglas0</td><td>0x7AF065A0</td><td>4</td><td>Production Technician - WC45</td><td>1985-11-24</td><td>M</td><td>M</td><td>2008-12-27</td><td>0</td><td>80</td><td>60</td><td>1</td><td>1ab0edeb-7558-4734-8423-5a11b44dca35</td><td>2014-06-30 00:00:00.000</td></tr><tr><td>189</td><td>187369436</td><td>adventure-works\\janeth0</td><td>0x7AF065E0</td><td>4</td><td>Production Technician - WC45</td><td>1972-07-24</td><td>S</td><td>F</td><td>2009-01-15</td><td>0</td><td>81</td><td>60</td><td>1</td><td>8261b8cb-bc3f-4bce-b364-86035d870263</td><td>2014-06-30 00:00:00.000</td></tr><tr><td>190</td><td>456839592</td><td>adventure-works\\robert0</td><td>0x7AF06610</td><td>4</td><td>Production Technician - WC45</td><td>1985-02-28</td><td>S</td><td>M</td><td>2009-02-02</td><td>0</td><td>82</td><td>61</td><td>1</td><td>2203154e-5ebd-4aca-99be-d835a3309d03</td><td>2014-06-30 00:00:00.000</td></tr><tr><td>191</td><td>399658727</td><td>adventure-works\\lionel0</td><td>0x7AF06630</td><td>4</td><td>Production Technician - WC45</td><td>1988-03-14</td><td>S</td><td>M</td><td>2009-02-26</td><td>0</td><td>78</td><td>59</td><td>1</td><td>231b1798-f67b-45c1-9688-265180f93d28</td><td>2014-06-30 00:00:00.000</td></tr><tr><td>192</td><td>634335025</td><td>adventure-works\\brenda0</td><td>0x7AF06C</td><td>3</td><td>Production Supervisor - WC40</td><td>1983-02-28</td><td>M</td><td>F</td><td>2009-03-05</td><td>0</td><td>71</td><td>55</td><td>1</td><td>714d519b-375e-4c5a-8491-c758d00cf95f</td><td>2014-06-30 00:00:00.000</td></tr><tr><td>193</td><td>761597760</td><td>adventure-works\\alejandro0</td><td>0x7AF06D60</td><td>4</td><td>Production Technician - WC40</td><td>1988-12-05</td><td>S</td><td>M</td><td>2008-12-06</td><td>0</td><td>52</td><td>46</td><td>1</td><td>8c7321d2-2c64-4902-9d64-8f5c1eb7f747</td><td>2014-06-30 00:00:00.000</td></tr><tr><td>194</td><td>295971920</td><td>adventure-works\\fred0</td><td>0x7AF06DA0</td><td>4</td><td>Production Technician - WC40</td><td>1989-06-25</td><td>S</td><td>M</td><td>2008-12-12</td><td>0</td><td>47</td><td>43</td><td>1</td><td>45358ae8-0b0e-4c11-90bb-dac3ec0d5c82</td><td>2014-06-30 00:00:00.000</td></tr><tr><td>195</td><td>918737118</td><td>adventure-works\\kevin1</td><td>0x7AF06DE0</td><td>4</td><td>Production Technician - WC40</td><td>1985-12-25</td><td>S</td><td>M</td><td>2008-12-17</td><td>0</td><td>58</td><td>49</td><td>1</td><td>dc7e95ff-275e-41c2-8ed3-686864f0540a</td><td>2014-06-30 00:00:00.000</td></tr><tr><td>196</td><td>370487086</td><td>adventure-works\\shammi0</td><td>0x7AF06E10</td><td>4</td><td>Production Technician - WC40</td><td>1980-10-04</td><td>M</td><td>M</td><td>2008-12-24</td><td>0</td><td>53</td><td>46</td><td>1</td><td>9bef0c94-7969-4905-9a42-ce469c754800</td><td>2014-06-30 00:00:00.000</td></tr><tr><td>197</td><td>632092621</td><td>adventure-works\\rajesh0</td><td>0x7AF06E30</td><td>4</td><td>Production Technician - WC40</td><td>1977-10-04</td><td>M</td><td>M</td><td>2008-12-31</td><td>0</td><td>48</td><td>44</td><td>1</td><td>aca7b40c-7ac0-4daa-b4c7-1051d850d7d9</td><td>2014-06-30 00:00:00.000</td></tr><tr><td>198</td><td>19312190</td><td>adventure-works\\lorraine0</td><td>0x7AF06E50</td><td>4</td><td>Production Technician - WC40</td><td>1988-11-26</td><td>M</td><td>F</td><td>2009-01-04</td><td>0</td><td>49</td><td>44</td><td>1</td><td>a63966b6-9ad6-40bc-afd4-a83745879f4d</td><td>2014-06-30 00:00:00.000</td></tr><tr><td>199</td><td>992874797</td><td>adventure-works\\paula1</td><td>0x7AF06E70</td><td>4</td><td>Production Technician - WC40</td><td>1987-02-10</td><td>M</td><td>F</td><td>2009-01-12</td><td>0</td><td>54</td><td>47</td><td>1</td><td>5dd2be46-204f-4af3-91f5-5ef082f6d6a6</td><td>2014-06-30 00:00:00.000</td></tr><tr><td>200</td><td>749211824</td><td>adventure-works\\frank0</td><td>0x7AF06E88</td><td>4</td><td>Production Technician - WC40</td><td>1987-09-06</td><td>M</td><td>M</td><td>2009-01-17</td><td>0</td><td>56</td><td>48</td><td>1</td><td>dd9ad278-ed17-40cf-8619-baf1bb9d1cf2</td><td>2014-06-30 00:00:00.000</td></tr><tr><td>201</td><td>746201340</td><td>adventure-works\\brian0</td><td>0x7AF06E98</td><td>4</td><td>Production Technician - WC40</td><td>1977-02-10</td><td>S</td><td>M</td><td>2009-01-29</td><td>0</td><td>55</td><td>47</td><td>1</td><td>18d594a8-b4ed-43c0-9c43-6033feaadf4e</td><td>2014-06-30 00:00:00.000</td></tr><tr><td>202</td><td>436757988</td><td>adventure-works\\tawana0</td><td>0x7AF06EA8</td><td>4</td><td>Production Technician - WC40</td><td>1989-11-10</td><td>S</td><td>M</td><td>2009-02-05</td><td>0</td><td>50</td><td>45</td><td>1</td><td>bb4a3e50-232e-4212-9faf-e67429febc7d</td><td>2014-06-30 00:00:00.000</td></tr><tr><td>203</td><td>693168613</td><td>adventure-works\\ken1</td><td>0x7AF06EB8</td><td>4</td><td>Production Technician - WC40</td><td>1981-05-28</td><td>M</td><td>M</td><td>2009-02-24</td><td>0</td><td>51</td><td>45</td><td>1</td><td>699c00d8-c4ab-4cd2-a48f-37cbcb5bfcca</td><td>2014-06-30 00:00:00.000</td></tr><tr><td>204</td><td>440379437</td><td>adventure-works\\gabe0</td><td>0x7AF06EC8</td><td>4</td><td>Production Technician - WC40</td><td>1988-05-10</td><td>M</td><td>M</td><td>2009-03-08</td><td>0</td><td>57</td><td>48</td><td>1</td><td>790c9a7c-264c-4d48-a9d3-e2571a8011d8</td><td>2014-06-30 00:00:00.000</td></tr><tr><td>205</td><td>332349500</td><td>adventure-works\\lori0</td><td>0x7AF074</td><td>3</td><td>Production Supervisor - WC45</td><td>1980-07-18</td><td>S</td><td>F</td><td>2009-02-26</td><td>0</td><td>76</td><td>58</td><td>1</td><td>23d436fc-08f7-4988-8b4d-490aa4e8b7e7</td><td>2014-06-30 00:00:00.000</td></tr><tr><td>206</td><td>835460180</td><td>adventure-works\\stuart0</td><td>0x7AF07560</td><td>4</td><td>Production Technician - WC45</td><td>1962-09-13</td><td>S</td><td>M</td><td>2008-12-02</td><td>0</td><td>84</td><td>62</td><td>1</td><td>4f361b4f-7920-4037-9a0a-46d616f9b9c7</td><td>2014-06-30 00:00:00.000</td></tr><tr><td>207</td><td>687685941</td><td>adventure-works\\greg0</td><td>0x7AF075A0</td><td>4</td><td>Production Technician - WC45</td><td>1970-10-18</td><td>S</td><td>M</td><td>2008-12-02</td><td>0</td><td>85</td><td>62</td><td>1</td><td>a36b5d6b-72a5-47f8-9f6b-5d922130e760</td><td>2014-06-30 00:00:00.000</td></tr><tr><td>208</td><td>199546871</td><td>adventure-works\\scott0</td><td>0x7AF075E0</td><td>4</td><td>Production Technician - WC45</td><td>1987-02-10</td><td>M</td><td>M</td><td>2009-01-08</td><td>0</td><td>86</td><td>63</td><td>1</td><td>e35da50a-bb51-4e08-8b8d-87ef4650247a</td><td>2014-06-30 00:00:00.000</td></tr><tr><td>209</td><td>167554340</td><td>adventure-works\\kathie0</td><td>0x7AF07610</td><td>4</td><td>Production Technician - WC45</td><td>1990-11-01</td><td>M</td><td>F</td><td>2009-01-27</td><td>0</td><td>87</td><td>63</td><td>1</td><td>25fc84d7-e013-44b8-82cd-63cd4723af81</td><td>2014-06-30 00:00:00.000</td></tr><tr><td>210</td><td>20244403</td><td>adventure-works\\belinda0</td><td>0x7AF07630</td><td>4</td><td>Production Technician - WC45</td><td>1969-09-17</td><td>S</td><td>F</td><td>2009-02-20</td><td>0</td><td>83</td><td>61</td><td>1</td><td>f714b5ec-ca7c-4e6e-a812-2c5a119f4c30</td><td>2014-06-30 00:00:00.000</td></tr><tr><td>211</td><td>398223854</td><td>adventure-works\\hazem0</td><td>0x7B40</td><td>2</td><td>Quality Assurance Manager</td><td>1977-10-26</td><td>S</td><td>M</td><td>2009-02-28</td><td>1</td><td>80</td><td>60</td><td>1</td><td>05c84608-f445-4f9d-bb5c-0828c309c29d</td><td>2014-12-26 09:17:08.637</td></tr><tr><td>212</td><td>885055826</td><td>adventure-works\\peng0</td><td>0x7B56</td><td>3</td><td>Quality Assurance Supervisor</td><td>1976-03-18</td><td>M</td><td>M</td><td>2008-12-09</td><td>1</td><td>81</td><td>60</td><td>1</td><td>e249d613-36c9-4544-9b6f-6ce50e5e0da5</td><td>2014-06-30 00:00:00.000</td></tr><tr><td>213</td><td>343861179</td><td>adventure-works\\sootha0</td><td>0x7B56B0</td><td>4</td><td>Quality Assurance Technician</td><td>1966-12-05</td><td>M</td><td>M</td><td>2010-02-23</td><td>0</td><td>85</td><td>62</td><td>1</td><td>a3dadf19-27f0-460a-9888-ce6caa9e3583</td><td>2014-06-30 00:00:00.000</td></tr><tr><td>214</td><td>131471224</td><td>adventure-works\\andreas0</td><td>0x7B56D0</td><td>4</td><td>Quality Assurance Technician</td><td>1989-03-28</td><td>M</td><td>M</td><td>2009-02-02</td><td>0</td><td>84</td><td>62</td><td>1</td><td>f4ddd64f-dffe-4df3-aa17-d6bea1924818</td><td>2014-06-30 00:00:00.000</td></tr><tr><td>215</td><td>381772114</td><td>adventure-works\\mark0</td><td>0x7B56F0</td><td>4</td><td>Quality Assurance Technician</td><td>1986-04-30</td><td>S</td><td>M</td><td>2009-01-15</td><td>0</td><td>83</td><td>61</td><td>1</td><td>6b63ef27-2c55-4f4c-be29-fce8b694dc4a</td><td>2014-06-30 00:00:00.000</td></tr><tr><td>216</td><td>403414852</td><td>adventure-works\\sean0</td><td>0x7B5708</td><td>4</td><td>Quality Assurance Technician</td><td>1976-03-06</td><td>S</td><td>M</td><td>2008-12-28</td><td>0</td><td>82</td><td>61</td><td>1</td><td>34e128cf-d904-4327-8014-9df0d5de7d08</td><td>2014-06-30 00:00:00.000</td></tr><tr><td>217</td><td>345106466</td><td>adventure-works\\zainal0</td><td>0x7B5A</td><td>3</td><td>Document Control Manager</td><td>1976-01-30</td><td>M</td><td>M</td><td>2009-01-04</td><td>0</td><td>77</td><td>58</td><td>1</td><td>dc60eeed-9f9f-4435-8666-4de4fafde9c3</td><td>2014-06-30 00:00:00.000</td></tr><tr><td>218</td><td>540688287</td><td>adventure-works\\tengiz0</td><td>0x7B5AB0</td><td>4</td><td>Control Specialist</td><td>1990-04-28</td><td>S</td><td>M</td><td>2008-12-16</td><td>0</td><td>76</td><td>58</td><td>1</td><td>c609b3b2-7969-410c-934c-62c34b63c4ee</td><td>2014-06-30 00:00:00.000</td></tr><tr><td>219</td><td>242381745</td><td>adventure-works\\sean1</td><td>0x7B5AD0</td><td>4</td><td>Document Control Assistant</td><td>1987-03-12</td><td>S</td><td>M</td><td>2009-01-22</td><td>0</td><td>78</td><td>59</td><td>1</td><td>f78657a9-83ef-4b4d-9809-3c4c6d1a7bb4</td><td>2014-06-30 00:00:00.000</td></tr><tr><td>220</td><td>260770918</td><td>adventure-works\\karen0</td><td>0x7B5AF0</td><td>4</td><td>Document Control Assistant</td><td>1975-12-25</td><td>M</td><td>F</td><td>2009-02-09</td><td>0</td><td>79</td><td>59</td><td>1</td><td>8a41ed23-7ae2-4c15-aa5d-9496e721f848</td><td>2014-06-30 00:00:00.000</td></tr><tr><td>221</td><td>260805477</td><td>adventure-works\\chris1</td><td>0x7B5B08</td><td>4</td><td>Control Specialist</td><td>1987-05-26</td><td>M</td><td>M</td><td>2009-03-06</td><td>0</td><td>75</td><td>57</td><td>1</td><td>45c358fb-9c7f-4d36-8ec7-3d89e9fd07f4</td><td>2014-06-30 00:00:00.000</td></tr><tr><td>222</td><td>685233686</td><td>adventure-works\\ascott0</td><td>0x7BC0</td><td>2</td><td>Master Scheduler</td><td>1968-09-17</td><td>S</td><td>M</td><td>2008-12-12</td><td>0</td><td>44</td><td>42</td><td>1</td><td>13909262-4136-492f-bca3-0b0e3773b03e</td><td>2014-12-26 09:17:08.637</td></tr><tr><td>223</td><td>981495526</td><td>adventure-works\\sairaj0</td><td>0x7BD6</td><td>3</td><td>Scheduling Assistant</td><td>1987-12-22</td><td>M</td><td>M</td><td>2009-01-26</td><td>0</td><td>46</td><td>43</td><td>1</td><td>4d36a720-ce32-4c47-866a-db7844449309</td><td>2014-06-30 00:00:00.000</td></tr><tr><td>224</td><td>621209647</td><td>adventure-works\\william0</td><td>0x7BDA</td><td>3</td><td>Scheduling Assistant</td><td>1981-11-06</td><td>M</td><td>M</td><td>2009-01-07</td><td>0</td><td>45</td><td>42</td><td>1</td><td>1a68cd62-6fe9-4613-90d4-2cd178e4e54a</td><td>2014-06-30 00:00:00.000</td></tr><tr><td>225</td><td>470689086</td><td>adventure-works\\alan0</td><td>0x7BDE</td><td>3</td><td>Scheduling Assistant</td><td>1984-03-29</td><td>M</td><td>M</td><td>2009-02-13</td><td>0</td><td>47</td><td>43</td><td>1</td><td>de321854-b076-4d59-bb7b-42152031b108</td><td>2014-06-30 00:00:00.000</td></tr><tr><td>226</td><td>368691270</td><td>adventure-works\\brian1</td><td>0x7BE1</td><td>3</td><td>Scheduling Assistant</td><td>1984-08-11</td><td>M</td><td>M</td><td>2009-03-03</td><td>0</td><td>48</td><td>44</td><td>1</td><td>dfa02733-c26e-4e31-99d8-9167e4e5131d</td><td>2014-06-30 00:00:00.000</td></tr><tr><td>227</td><td>141165819</td><td>adventure-works\\gary1</td><td>0x7C20</td><td>2</td><td>Facilities Manager</td><td>1971-02-18</td><td>M</td><td>M</td><td>2009-12-02</td><td>1</td><td>86</td><td>63</td><td>1</td><td>62f6ec59-5635-44f3-9cc1-2d8eeaf90a05</td><td>2014-06-30 00:00:00.000</td></tr><tr><td>228</td><td>553069203</td><td>adventure-works\\christian0</td><td>0x7C2B</td><td>3</td><td>Maintenance Supervisor</td><td>1976-01-18</td><td>M</td><td>M</td><td>2008-12-14</td><td>1</td><td>92</td><td>66</td><td>1</td><td>4611c7c5-90a0-407f-b054-93bd51533609</td><td>2014-06-30 00:00:00.000</td></tr><tr><td>229</td><td>879334904</td><td>adventure-works\\lori1</td><td>0x7C2B58</td><td>4</td><td>Janitor</td><td>1970-07-31</td><td>M</td><td>F</td><td>2010-02-16</td><td>0</td><td>90</td><td>65</td><td>1</td><td>929fe187-ee24-4f5f-af2a-f96324f09423</td><td>2014-06-30 00:00:00.000</td></tr><tr><td>230</td><td>28414965</td><td>adventure-works\\stuart1</td><td>0x7C2B68</td><td>4</td><td>Janitor</td><td>1971-12-17</td><td>M</td><td>M</td><td>2010-03-05</td><td>0</td><td>88</td><td>64</td><td>1</td><td>cc2791e6-7629-49c5-922a-81445afdf033</td><td>2014-06-30 00:00:00.000</td></tr><tr><td>231</td><td>153479919</td><td>adventure-works\\jo1</td><td>0x7C2B78</td><td>4</td><td>Janitor</td><td>1954-04-24</td><td>M</td><td>F</td><td>2010-03-07</td><td>0</td><td>91</td><td>65</td><td>1</td><td>39af5cca-9b52-41e5-b510-72901d2578f6</td><td>2014-06-30 00:00:00.000</td></tr><tr><td>232</td><td>646304055</td><td>adventure-works\\pat0</td><td>0x7C2B84</td><td>4</td><td>Janitor</td><td>1970-12-03</td><td>S</td><td>M</td><td>2010-01-27</td><td>0</td><td>89</td><td>64</td><td>1</td><td>49238447-30ee-4009-993f-0b6c756ab436</td><td>2014-06-30 00:00:00.000</td></tr><tr><td>233</td><td>552560652</td><td>adventure-works\\magnus0</td><td>0x7C2D</td><td>3</td><td>Facilities Administrative Assistant</td><td>1971-08-27</td><td>M</td><td>M</td><td>2009-12-21</td><td>0</td><td>87</td><td>63</td><td>1</td><td>0a4bcc09-ace5-4481-9067-8b9ed70eca18</td><td>2014-06-30 00:00:00.000</td></tr><tr><td>234</td><td>184188301</td><td>adventure-works\\laura1</td><td>0x84</td><td>1</td><td>Chief Financial Officer</td><td>1976-01-06</td><td>M</td><td>F</td><td>2009-01-31</td><td>1</td><td>0</td><td>20</td><td>1</td><td>d5e315a6-bd65-4d67-9d5f-81ef5c4ef8a6</td><td>2014-06-30 00:00:00.000</td></tr><tr><td>235</td><td>535145551</td><td>adventure-works\\paula0</td><td>0x8560</td><td>2</td><td>Human Resources Manager</td><td>1976-02-11</td><td>M</td><td>F</td><td>2008-12-06</td><td>1</td><td>54</td><td>47</td><td>1</td><td>65028f15-4149-4de5-b203-9d7ec86baf87</td><td>2014-06-30 00:00:00.000</td></tr><tr><td>236</td><td>476980013</td><td>adventure-works\\grant0</td><td>0x856B</td><td>3</td><td>Human Resources Administrative Assistant</td><td>1976-04-16</td><td>S</td><td>M</td><td>2009-02-25</td><td>0</td><td>53</td><td>46</td><td>1</td><td>4511abba-7f34-400e-907b-a663c20e1a41</td><td>2014-06-30 00:00:00.000</td></tr><tr><td>237</td><td>416679555</td><td>adventure-works\\hao0</td><td>0x856D</td><td>3</td><td>Human Resources Administrative Assistant</td><td>1977-04-17</td><td>S</td><td>M</td><td>2009-02-06</td><td>0</td><td>52</td><td>46</td><td>1</td><td>fd53c4c8-b34e-460f-9ee5-747b07fe98b3</td><td>2014-06-30 00:00:00.000</td></tr><tr><td>238</td><td>264306399</td><td>adventure-works\\vidur0</td><td>0x856F</td><td>3</td><td>Recruiter</td><td>1984-08-01</td><td>S</td><td>M</td><td>2009-01-01</td><td>0</td><td>50</td><td>45</td><td>1</td><td>47e76b59-b137-4572-ad55-6b3e68c13bd3</td><td>2014-06-30 00:00:00.000</td></tr><tr><td>239</td><td>619308550</td><td>adventure-works\\mindy0</td><td>0x857080</td><td>3</td><td>Benefits Specialist</td><td>1984-11-20</td><td>M</td><td>F</td><td>2008-12-25</td><td>0</td><td>51</td><td>45</td><td>1</td><td>834d7ab6-06e6-4944-b42f-028cd4bd388e</td><td>2014-06-30 00:00:00.000</td></tr><tr><td>240</td><td>332040978</td><td>adventure-works\\willis0</td><td>0x857180</td><td>3</td><td>Recruiter</td><td>1978-07-18</td><td>S</td><td>M</td><td>2008-12-13</td><td>0</td><td>49</td><td>44</td><td>1</td><td>a1d86ecc-ea17-4b1b-8369-f1d07ab0a469</td><td>2014-06-30 00:00:00.000</td></tr><tr><td>241</td><td>30845</td><td>adventure-works\\david6</td><td>0x85A0</td><td>2</td><td>Accounts Manager</td><td>1983-07-08</td><td>M</td><td>M</td><td>2009-01-30</td><td>1</td><td>57</td><td>48</td><td>1</td><td>2dc9d534-f5d1-4a14-8282-0a2a0eb6fd4d</td><td>2014-06-30 00:00:00.000</td></tr><tr><td>242</td><td>363923697</td><td>adventure-works\\deborah0</td><td>0x85AB</td><td>3</td><td>Accounts Receivable Specialist</td><td>1976-03-06</td><td>M</td><td>F</td><td>2008-12-18</td><td>0</td><td>60</td><td>50</td><td>1</td><td>09f75454-028c-46ca-bc08-0147bd0220d7</td><td>2014-06-30 00:00:00.000</td></tr><tr><td>243</td><td>60517918</td><td>adventure-works\\candy0</td><td>0x85AD</td><td>3</td><td>Accounts Receivable Specialist</td><td>1976-02-23</td><td>S</td><td>F</td><td>2009-01-06</td><td>0</td><td>61</td><td>50</td><td>1</td><td>9e9f713b-707c-4f7e-9504-de188052a045</td><td>2014-06-30 00:00:00.000</td></tr><tr><td>244</td><td>931190412</td><td>adventure-works\\bryan1</td><td>0x85AF</td><td>3</td><td>Accounts Receivable Specialist</td><td>1984-09-20</td><td>S</td><td>M</td><td>2009-01-24</td><td>0</td><td>62</td><td>51</td><td>1</td><td>cb3e71ec-a381-4716-87df-d3841ab9795a</td><td>2014-06-30 00:00:00.000</td></tr><tr><td>245</td><td>363910111</td><td>adventure-works\\barbara1</td><td>0x85B080</td><td>3</td><td>Accountant</td><td>1976-01-04</td><td>M</td><td>F</td><td>2009-02-18</td><td>1</td><td>58</td><td>49</td><td>1</td><td>3ffba84e-8e97-4649-a5e1-859649d83aae</td><td>2014-06-30 00:00:00.000</td></tr><tr><td>246</td><td>663843431</td><td>adventure-works\\dragan0</td><td>0x85B180</td><td>3</td><td>Accounts Payable Specialist</td><td>1977-02-14</td><td>M</td><td>M</td><td>2009-02-11</td><td>0</td><td>63</td><td>51</td><td>1</td><td>51c54d34-064b-44f7-a6b1-7702bd491980</td><td>2014-06-30 00:00:00.000</td></tr><tr><td>247</td><td>519756660</td><td>adventure-works\\janet0</td><td>0x85B280</td><td>3</td><td>Accounts Payable Specialist</td><td>1979-03-09</td><td>M</td><td>F</td><td>2009-03-01</td><td>0</td><td>64</td><td>52</td><td>1</td><td>0c641d77-8675-493f-9947-8c65136559cd</td><td>2014-06-30 00:00:00.000</td></tr><tr><td>248</td><td>480951955</td><td>adventure-works\\mike0</td><td>0x85B380</td><td>3</td><td>Accountant</td><td>1979-07-01</td><td>S</td><td>M</td><td>2009-03-08</td><td>1</td><td>59</td><td>49</td><td>1</td><td>ac35337d-7c75-4dee-bb11-6564f257fe18</td><td>2014-06-30 00:00:00.000</td></tr><tr><td>249</td><td>121491555</td><td>adventure-works\\wendy0</td><td>0x85E0</td><td>2</td><td>Finance Manager</td><td>1984-10-11</td><td>S</td><td>F</td><td>2008-12-25</td><td>1</td><td>55</td><td>47</td><td>1</td><td>8f410408-4aa8-4d67-886d-530bfe4ebe3b</td><td>2014-06-30 00:00:00.000</td></tr><tr><td>250</td><td>895209680</td><td>adventure-works\\sheela0</td><td>0x85EB</td><td>3</td><td>Purchasing Manager</td><td>1978-02-10</td><td>S</td><td>F</td><td>2011-02-25</td><td>1</td><td>49</td><td>44</td><td>1</td><td>7d6b0155-0191-4599-8394-378ebde63c9a</td><td>2014-06-30 00:00:00.000</td></tr><tr><td>251</td><td>603686790</td><td>adventure-works\\mikael0</td><td>0x85EB58</td><td>4</td><td>Buyer</td><td>1984-08-17</td><td>S</td><td>M</td><td>2009-02-10</td><td>0</td><td>59</td><td>49</td><td>1</td><td>d0fd55ff-42fa-491e-8b3b-ab3316018909</td><td>2014-06-30 00:00:00.000</td></tr><tr><td>252</td><td>792847334</td><td>adventure-works\\arvind0</td><td>0x85EB68</td><td>4</td><td>Buyer</td><td>1974-08-21</td><td>M</td><td>M</td><td>2009-02-28</td><td>0</td><td>60</td><td>50</td><td>1</td><td>51de26f0-6ed9-4a70-b689-88eb882674b6</td><td>2014-06-30 00:00:00.000</td></tr><tr><td>253</td><td>407505660</td><td>adventure-works\\linda2</td><td>0x85EB78</td><td>4</td><td>Buyer</td><td>1970-11-30</td><td>M</td><td>F</td><td>2009-12-17</td><td>0</td><td>56</td><td>48</td><td>1</td><td>ed06f9f4-2123-4c44-89d7-e43e1e1abc2f</td><td>2014-06-30 00:00:00.000</td></tr><tr><td>254</td><td>482810518</td><td>adventure-works\\fukiko0</td><td>0x85EB84</td><td>4</td><td>Buyer</td><td>1970-11-24</td><td>M</td><td>M</td><td>2010-01-04</td><td>0</td><td>57</td><td>48</td><td>1</td><td>36cd6636-c657-4fc7-9bfa-cc1bfa9102a2</td><td>2014-06-30 00:00:00.000</td></tr><tr><td>255</td><td>466142721</td><td>adventure-works\\gordon0</td><td>0x85EB8C</td><td>4</td><td>Buyer</td><td>1966-11-29</td><td>M</td><td>M</td><td>2010-01-11</td><td>0</td><td>52</td><td>46</td><td>1</td><td>2cb2d5c3-c437-49b1-9ffd-faa096f6126f</td><td>2014-06-30 00:00:00.000</td></tr><tr><td>256</td><td>367453993</td><td>adventure-works\\frank2</td><td>0x85EB94</td><td>4</td><td>Buyer</td><td>1952-05-12</td><td>M</td><td>M</td><td>2010-01-23</td><td>0</td><td>58</td><td>49</td><td>1</td><td>0423d8d0-1b14-4718-8c17-85e2f98d222f</td><td>2014-06-30 00:00:00.000</td></tr><tr><td>257</td><td>381073001</td><td>adventure-works\\eric2</td><td>0x85EB9C</td><td>4</td><td>Buyer</td><td>1972-09-17</td><td>S</td><td>M</td><td>2010-01-27</td><td>0</td><td>54</td><td>47</td><td>1</td><td>a28ab377-06f5-417a-a5e2-59f459088699</td><td>2014-06-30 00:00:00.000</td></tr><tr><td>258</td><td>785853949</td><td>adventure-works\\erin0</td><td>0x85EBA2</td><td>4</td><td>Buyer</td><td>1971-01-04</td><td>S</td><td>F</td><td>2010-01-31</td><td>0</td><td>53</td><td>46</td><td>1</td><td>b60712a9-50a5-4296-b892-69c4701834b0</td><td>2014-06-30 00:00:00.000</td></tr><tr><td>259</td><td>20269531</td><td>adventure-works\\ben0</td><td>0x85EBA6</td><td>4</td><td>Buyer</td><td>1973-06-03</td><td>M</td><td>M</td><td>2010-03-09</td><td>0</td><td>55</td><td>47</td><td>1</td><td>b9641cae-765c-4662-b760-c167a1f2b8b5</td><td>2014-06-30 00:00:00.000</td></tr><tr><td>260</td><td>437296311</td><td>adventure-works\\annette0</td><td>0x85EBAA</td><td>4</td><td>Purchasing Assistant</td><td>1978-01-29</td><td>M</td><td>F</td><td>2010-12-06</td><td>0</td><td>50</td><td>45</td><td>1</td><td>9e03395f-4d5d-4a53-880e-174bd8c1db59</td><td>2014-06-30 00:00:00.000</td></tr><tr><td>261</td><td>280633567</td><td>adventure-works\\reinout0</td><td>0x85EBAE</td><td>4</td><td>Purchasing Assistant</td><td>1978-01-17</td><td>M</td><td>M</td><td>2010-12-25</td><td>0</td><td>51</td><td>45</td><td>1</td><td>9825eb00-8e36-4506-93a2-6ddcdc0b13c3</td><td>2014-06-30 00:00:00.000</td></tr><tr><td>262</td><td>231203233</td><td>adventure-works\\david5</td><td>0x8610</td><td>2</td><td>Assistant to the Chief Financial Officer</td><td>1964-06-21</td><td>S</td><td>M</td><td>2009-01-12</td><td>0</td><td>56</td><td>48</td><td>1</td><td>be81fd77-428c-449f-ab79-48b1cdf53d6a</td><td>2014-06-30 00:00:00.000</td></tr><tr><td>263</td><td>441044382</td><td>adventure-works\\jean0</td><td>0x8C</td><td>1</td><td>Information Services Manager</td><td>1975-12-13</td><td>S</td><td>F</td><td>2008-12-11</td><td>1</td><td>65</td><td>52</td><td>1</td><td>794a0b1f-c46a-401c-984d-008996fc7092</td><td>2014-06-30 00:00:00.000</td></tr><tr><td>264</td><td>858323870</td><td>adventure-works\\stephanie0</td><td>0x8D60</td><td>2</td><td>Network Manager</td><td>1984-03-25</td><td>S</td><td>F</td><td>2009-02-04</td><td>1</td><td>68</td><td>54</td><td>1</td><td>221cbb7b-8bae-452b-a16f-a67ebb3873c8</td><td>2014-06-30 00:00:00.000</td></tr><tr><td>265</td><td>749389530</td><td>adventure-works\\ashvini0</td><td>0x8D6B</td><td>3</td><td>Network Administrator</td><td>1977-03-27</td><td>S</td><td>M</td><td>2008-12-04</td><td>0</td><td>70</td><td>55</td><td>1</td><td>2e680c1c-7c02-4343-9626-6f97273414c0</td><td>2014-06-30 00:00:00.000</td></tr><tr><td>266</td><td>672243793</td><td>adventure-works\\peter1</td><td>0x8D6D</td><td>3</td><td>Network Administrator</td><td>1980-05-28</td><td>S</td><td>M</td><td>2009-02-23</td><td>0</td><td>69</td><td>54</td><td>1</td><td>86601e6a-6955-40fc-bb4a-1053a843ce99</td><td>2014-06-30 00:00:00.000</td></tr><tr><td>267</td><td>58317344</td><td>adventure-works\\karen1</td><td>0x8DA0</td><td>2</td><td>Application Specialist</td><td>1978-05-19</td><td>S</td><td>F</td><td>2009-02-16</td><td>1</td><td>74</td><td>57</td><td>1</td><td>45c3d0f5-3332-419d-ad40-a98996bb5531</td><td>2014-06-30 00:00:00.000</td></tr><tr><td>268</td><td>314747499</td><td>adventure-works\\ramesh0</td><td>0x8DE0</td><td>2</td><td>Application Specialist</td><td>1988-03-13</td><td>S</td><td>M</td><td>2009-02-03</td><td>1</td><td>73</td><td>56</td><td>1</td><td>be190269-4003-4d7f-809e-7b3fdc235da8</td><td>2014-06-30 00:00:00.000</td></tr><tr><td>269</td><td>671089628</td><td>adventure-works\\dan0</td><td>0x8E10</td><td>2</td><td>Application Specialist</td><td>1987-05-26</td><td>M</td><td>M</td><td>2009-01-11</td><td>1</td><td>72</td><td>56</td><td>1</td><td>71b0d010-5ac5-4e91-8efa-c311c1372a73</td><td>2014-06-30 00:00:00.000</td></tr><tr><td>270</td><td>643805155</td><td>adventure-works\\françois0</td><td>0x8E30</td><td>2</td><td>Database Administrator</td><td>1975-05-17</td><td>S</td><td>M</td><td>2009-01-17</td><td>1</td><td>67</td><td>53</td><td>1</td><td>0c7f025d-8d56-48ef-86c0-f09db63d0182</td><td>2014-06-30 00:00:00.000</td></tr><tr><td>271</td><td>929666391</td><td>adventure-works\\dan1</td><td>0x8E50</td><td>2</td><td>Database Administrator</td><td>1976-01-06</td><td>M</td><td>M</td><td>2009-01-22</td><td>1</td><td>66</td><td>53</td><td>1</td><td>2474e1a9-902d-466c-b0b2-6dcac927f753</td><td>2014-06-30 00:00:00.000</td></tr><tr><td>272</td><td>525932996</td><td>adventure-works\\janaina0</td><td>0x8E70</td><td>2</td><td>Application Specialist</td><td>1985-01-30</td><td>M</td><td>F</td><td>2008-12-23</td><td>1</td><td>71</td><td>55</td><td>1</td><td>241535c7-7a31-4a6a-9e0d-a83c30c2edda</td><td>2014-06-30 00:00:00.000</td></tr><tr><td>273</td><td>112432117</td><td>adventure-works\\brian3</td><td>0x94</td><td>1</td><td>Vice President of Sales</td><td>1977-06-06</td><td>S</td><td>M</td><td>2011-02-15</td><td>1</td><td>10</td><td>25</td><td>1</td><td>f3ec557c-8b41-4ee6-bb0c-e3b93aff81e5</td><td>2014-06-30 00:00:00.000</td></tr><tr><td>274</td><td>502097814</td><td>adventure-works\\stephen0</td><td>0x9560</td><td>2</td><td>North American Sales Manager</td><td>1951-10-17</td><td>M</td><td>M</td><td>2011-01-04</td><td>1</td><td>14</td><td>27</td><td>1</td><td>86d5fa9e-4bc0-48c8-91dc-1ec467418d11</td><td>2014-06-30 00:00:00.000</td></tr><tr><td>275</td><td>841560125</td><td>adventure-works\\michael9</td><td>0x956B</td><td>3</td><td>Sales Representative</td><td>1968-12-25</td><td>S</td><td>M</td><td>2011-05-31</td><td>1</td><td>38</td><td>39</td><td>1</td><td>e19f8de2-0f40-418c-84a2-db48b98dc6a2</td><td>2014-06-30 00:00:00.000</td></tr><tr><td>276</td><td>191644724</td><td>adventure-works\\linda3</td><td>0x956D</td><td>3</td><td>Sales Representative</td><td>1980-02-27</td><td>M</td><td>F</td><td>2011-05-31</td><td>1</td><td>27</td><td>33</td><td>1</td><td>4509f387-d73a-43dc-a502-b1c27aa1dc9e</td><td>2014-06-30 00:00:00.000</td></tr><tr><td>277</td><td>615389812</td><td>adventure-works\\jillian0</td><td>0x956F</td><td>3</td><td>Sales Representative</td><td>1962-08-29</td><td>S</td><td>F</td><td>2011-05-31</td><td>1</td><td>24</td><td>32</td><td>1</td><td>a011c97b-081c-4739-996f-c1cac4532f8d</td><td>2014-06-30 00:00:00.000</td></tr><tr><td>278</td><td>234474252</td><td>adventure-works\\garrett1</td><td>0x957080</td><td>3</td><td>Sales Representative</td><td>1975-02-04</td><td>M</td><td>M</td><td>2011-05-31</td><td>1</td><td>33</td><td>36</td><td>1</td><td>50eecc16-0d0d-43a9-9649-016c06de8d78</td><td>2014-06-30 00:00:00.000</td></tr><tr><td>279</td><td>716374314</td><td>adventure-works\\tsvi0</td><td>0x957180</td><td>3</td><td>Sales Representative</td><td>1974-01-18</td><td>M</td><td>M</td><td>2011-05-31</td><td>1</td><td>29</td><td>34</td><td>1</td><td>bb510fce-0105-4306-b591-6450d9ebf401</td><td>2014-06-30 00:00:00.000</td></tr><tr><td>280</td><td>61161660</td><td>adventure-works\\pamela0</td><td>0x957280</td><td>3</td><td>Sales Representative</td><td>1974-12-06</td><td>S</td><td>F</td><td>2011-05-31</td><td>1</td><td>22</td><td>31</td><td>1</td><td>7627b9d6-0707-4706-9ad9-0d37506b08ae</td><td>2014-06-30 00:00:00.000</td></tr><tr><td>281</td><td>139397894</td><td>adventure-works\\shu0</td><td>0x957380</td><td>3</td><td>Sales Representative</td><td>1968-03-09</td><td>M</td><td>M</td><td>2011-05-31</td><td>1</td><td>26</td><td>33</td><td>1</td><td>4103c891-37e8-4dfc-aeac-b55e2bc1be1c</td><td>2014-06-30 00:00:00.000</td></tr><tr><td>282</td><td>399771412</td><td>adventure-works\\josé1</td><td>0x957440</td><td>3</td><td>Sales Representative</td><td>1963-12-11</td><td>M</td><td>M</td><td>2011-05-31</td><td>1</td><td>31</td><td>35</td><td>1</td><td>fd3992fb-3067-451d-a09d-73bd53c0feca</td><td>2014-06-30 00:00:00.000</td></tr><tr><td>283</td><td>987554265</td><td>adventure-works\\david8</td><td>0x9574C0</td><td>3</td><td>Sales Representative</td><td>1974-02-11</td><td>S</td><td>M</td><td>2011-05-31</td><td>1</td><td>23</td><td>31</td><td>1</td><td>1e8f9e91-508f-4d49-acd2-775c836030ed</td><td>2014-06-30 00:00:00.000</td></tr><tr><td>284</td><td>90836195</td><td>adventure-works\\tete0</td><td>0x957540</td><td>3</td><td>Sales Representative</td><td>1978-01-05</td><td>M</td><td>M</td><td>2012-09-30</td><td>1</td><td>39</td><td>39</td><td>1</td><td>0c67ce00-de78-4712-908f-06939a2c58d5</td><td>2014-06-30 00:00:00.000</td></tr><tr><td>285</td><td>481044938</td><td>adventure-works\\syed0</td><td>0x95A0</td><td>2</td><td>Pacific Sales Manager</td><td>1975-01-11</td><td>M</td><td>M</td><td>2013-03-14</td><td>1</td><td>20</td><td>30</td><td>1</td><td>86f292db-b73c-429d-9912-800994d809fb</td><td>2014-06-30 00:00:00.000</td></tr><tr><td>286</td><td>758596752</td><td>adventure-works\\lynn0</td><td>0x95AB</td><td>3</td><td>Sales Representative</td><td>1977-02-14</td><td>S</td><td>F</td><td>2013-05-30</td><td>1</td><td>36</td><td>38</td><td>1</td><td>4a9a8407-a680-4a6b-8d03-511cb58f9a8a</td><td>2014-06-30 00:00:00.000</td></tr><tr><td>287</td><td>982310417</td><td>adventure-works\\amy0</td><td>0x95E0</td><td>2</td><td>European Sales Manager</td><td>1957-09-20</td><td>M</td><td>F</td><td>2012-04-16</td><td>1</td><td>21</td><td>30</td><td>1</td><td>66d66445-ee78-4676-9e66-0e22d6109a92</td><td>2014-06-30 00:00:00.000</td></tr><tr><td>288</td><td>954276278</td><td>adventure-works\\rachel0</td><td>0x95EB</td><td>3</td><td>Sales Representative</td><td>1975-07-09</td><td>S</td><td>F</td><td>2013-05-30</td><td>1</td><td>35</td><td>37</td><td>1</td><td>b9bf7741-e0ca-4f37-acde-a4f78c6d03e9</td><td>2014-06-30 00:00:00.000</td></tr><tr><td>289</td><td>668991357</td><td>adventure-works\\jae0</td><td>0x95ED</td><td>3</td><td>Sales Representative</td><td>1968-03-17</td><td>M</td><td>F</td><td>2012-05-30</td><td>1</td><td>37</td><td>38</td><td>1</td><td>723a5921-d8a1-4659-9bc4-13c4cf7c9c91</td><td>2014-06-30 00:00:00.000</td></tr><tr><td>290</td><td>134219713</td><td>adventure-works\\ranjit0</td><td>0x95EF</td><td>3</td><td>Sales Representative</td><td>1975-09-30</td><td>S</td><td>M</td><td>2012-05-30</td><td>1</td><td>34</td><td>37</td><td>1</td><td>604213f9-dd0f-43b4-bdd2-c96e93d3f4bf</td><td>2014-06-30 00:00:00.000</td></tr></table>"
          },
          "metadata": {}
        }
      ],
      "execution_count": null
    },
    {
      "cell_type": "markdown",
      "source": [
        "## TOP \n",
        "\n",
        "TOP n can be used with SELECT to take first n rows of the table\n",
        "\n",
        "Interestingly, select last n rows is a lot more complicated .... It essentially involves sorting the table by Primary Keys in descending order and then take the top n rows of that..."
      ],
      "metadata": {
        "language": "sql",
        "azdata_cell_guid": "b94bded8-b707-41b0-b9dd-b401c8d175dd",
        "id": "-b-GmtSqYNEG"
      }
    },
    {
      "cell_type": "code",
      "source": [
        "/* choose top 10 rows of the HumanResources.Employee */ \n",
        "\n",
        "SELECT TOP 10 * \n",
        "FROM HumanResources.Employee"
      ],
      "metadata": {
        "language": "sql",
        "azdata_cell_guid": "289698fa-a262-438c-9099-41610b2398ac",
        "id": "F9Ufcw9cYNEH",
        "outputId": "49ac21c3-5c20-4c29-ba29-4da9bf6c3e1b"
      },
      "outputs": [
        {
          "output_type": "display_data",
          "data": {
            "text/html": "(10 rows affected)"
          },
          "metadata": {}
        },
        {
          "output_type": "display_data",
          "data": {
            "text/html": "Total execution time: 00:00:00.011"
          },
          "metadata": {}
        },
        {
          "output_type": "execute_result",
          "execution_count": 60,
          "data": {
            "application/vnd.dataresource+json": {
              "schema": {
                "fields": [
                  {
                    "name": "BusinessEntityID"
                  },
                  {
                    "name": "NationalIDNumber"
                  },
                  {
                    "name": "LoginID"
                  },
                  {
                    "name": "OrganizationNode"
                  },
                  {
                    "name": "OrganizationLevel"
                  },
                  {
                    "name": "JobTitle"
                  },
                  {
                    "name": "BirthDate"
                  },
                  {
                    "name": "MaritalStatus"
                  },
                  {
                    "name": "Gender"
                  },
                  {
                    "name": "HireDate"
                  },
                  {
                    "name": "SalariedFlag"
                  },
                  {
                    "name": "VacationHours"
                  },
                  {
                    "name": "SickLeaveHours"
                  },
                  {
                    "name": "CurrentFlag"
                  },
                  {
                    "name": "rowguid"
                  },
                  {
                    "name": "ModifiedDate"
                  }
                ]
              },
              "data": [
                {
                  "0": "1",
                  "1": "295847284",
                  "2": "adventure-works\\ken0",
                  "3": "NULL",
                  "4": "NULL",
                  "5": "Chief Executive Officer",
                  "6": "1969-01-29",
                  "7": "S",
                  "8": "M",
                  "9": "2009-01-14",
                  "10": "1",
                  "11": "99",
                  "12": "69",
                  "13": "1",
                  "14": "f01251e5-96a3-448d-981e-0f99d789110d",
                  "15": "2014-06-30 00:00:00.000"
                },
                {
                  "0": "2",
                  "1": "245797967",
                  "2": "adventure-works\\terri0",
                  "3": "0x58",
                  "4": "1",
                  "5": "Vice President of Engineering",
                  "6": "1971-08-01",
                  "7": "S",
                  "8": "F",
                  "9": "2008-01-31",
                  "10": "1",
                  "11": "1",
                  "12": "20",
                  "13": "1",
                  "14": "45e8f437-670d-4409-93cb-f9424a40d6ee",
                  "15": "2014-06-30 00:00:00.000"
                },
                {
                  "0": "3",
                  "1": "509647174",
                  "2": "adventure-works\\roberto0",
                  "3": "0x5AC0",
                  "4": "2",
                  "5": "Engineering Manager",
                  "6": "1974-11-12",
                  "7": "M",
                  "8": "M",
                  "9": "2007-11-11",
                  "10": "1",
                  "11": "2",
                  "12": "21",
                  "13": "1",
                  "14": "9bbbfb2c-efbb-4217-9ab7-f97689328841",
                  "15": "2014-06-30 00:00:00.000"
                },
                {
                  "0": "4",
                  "1": "112457891",
                  "2": "adventure-works\\rob0",
                  "3": "0x5AD6",
                  "4": "3",
                  "5": "Senior Tool Designer",
                  "6": "1974-12-23",
                  "7": "S",
                  "8": "M",
                  "9": "2007-12-05",
                  "10": "0",
                  "11": "48",
                  "12": "80",
                  "13": "1",
                  "14": "59747955-87b8-443f-8ed4-f8ad3afdf3a9",
                  "15": "2014-06-30 00:00:00.000"
                },
                {
                  "0": "5",
                  "1": "695256908",
                  "2": "adventure-works\\gail0",
                  "3": "0x5ADA",
                  "4": "3",
                  "5": "Design Engineer",
                  "6": "1952-09-27",
                  "7": "M",
                  "8": "F",
                  "9": "2008-01-06",
                  "10": "1",
                  "11": "5",
                  "12": "22",
                  "13": "1",
                  "14": "ec84ae09-f9b8-4a15-b4a9-6ccbab919b08",
                  "15": "2014-06-30 00:00:00.000"
                },
                {
                  "0": "6",
                  "1": "998320692",
                  "2": "adventure-works\\jossef0",
                  "3": "0x5ADE",
                  "4": "3",
                  "5": "Design Engineer",
                  "6": "1959-03-11",
                  "7": "M",
                  "8": "M",
                  "9": "2008-01-24",
                  "10": "1",
                  "11": "6",
                  "12": "23",
                  "13": "1",
                  "14": "e39056f1-9cd5-478d-8945-14aca7fbdcdd",
                  "15": "2014-06-30 00:00:00.000"
                },
                {
                  "0": "7",
                  "1": "134969118",
                  "2": "adventure-works\\dylan0",
                  "3": "0x5AE1",
                  "4": "3",
                  "5": "Research and Development Manager",
                  "6": "1987-02-24",
                  "7": "M",
                  "8": "M",
                  "9": "2009-02-08",
                  "10": "1",
                  "11": "61",
                  "12": "50",
                  "13": "1",
                  "14": "4f46deca-ef01-41fd-9829-0adab368e431",
                  "15": "2014-06-30 00:00:00.000"
                },
                {
                  "0": "8",
                  "1": "811994146",
                  "2": "adventure-works\\diane1",
                  "3": "0x5AE158",
                  "4": "4",
                  "5": "Research and Development Engineer",
                  "6": "1986-06-05",
                  "7": "S",
                  "8": "F",
                  "9": "2008-12-29",
                  "10": "1",
                  "11": "62",
                  "12": "51",
                  "13": "1",
                  "14": "31112635-663b-4018-b4a2-a685c0bf48a4",
                  "15": "2014-06-30 00:00:00.000"
                },
                {
                  "0": "9",
                  "1": "658797903",
                  "2": "adventure-works\\gigi0",
                  "3": "0x5AE168",
                  "4": "4",
                  "5": "Research and Development Engineer",
                  "6": "1979-01-21",
                  "7": "M",
                  "8": "F",
                  "9": "2009-01-16",
                  "10": "1",
                  "11": "63",
                  "12": "51",
                  "13": "1",
                  "14": "50b6cdc6-7570-47ef-9570-48a64b5f2ecf",
                  "15": "2014-06-30 00:00:00.000"
                },
                {
                  "0": "10",
                  "1": "879342154",
                  "2": "adventure-works\\michael6",
                  "3": "0x5AE178",
                  "4": "4",
                  "5": "Research and Development Manager",
                  "6": "1984-11-30",
                  "7": "M",
                  "8": "M",
                  "9": "2009-05-03",
                  "10": "1",
                  "11": "16",
                  "12": "64",
                  "13": "1",
                  "14": "eaa43680-5571-40cb-ab1a-3bf68f04459e",
                  "15": "2014-06-30 00:00:00.000"
                }
              ]
            },
            "text/html": "<table><tr><th>BusinessEntityID</th><th>NationalIDNumber</th><th>LoginID</th><th>OrganizationNode</th><th>OrganizationLevel</th><th>JobTitle</th><th>BirthDate</th><th>MaritalStatus</th><th>Gender</th><th>HireDate</th><th>SalariedFlag</th><th>VacationHours</th><th>SickLeaveHours</th><th>CurrentFlag</th><th>rowguid</th><th>ModifiedDate</th></tr><tr><td>1</td><td>295847284</td><td>adventure-works\\ken0</td><td>NULL</td><td>NULL</td><td>Chief Executive Officer</td><td>1969-01-29</td><td>S</td><td>M</td><td>2009-01-14</td><td>1</td><td>99</td><td>69</td><td>1</td><td>f01251e5-96a3-448d-981e-0f99d789110d</td><td>2014-06-30 00:00:00.000</td></tr><tr><td>2</td><td>245797967</td><td>adventure-works\\terri0</td><td>0x58</td><td>1</td><td>Vice President of Engineering</td><td>1971-08-01</td><td>S</td><td>F</td><td>2008-01-31</td><td>1</td><td>1</td><td>20</td><td>1</td><td>45e8f437-670d-4409-93cb-f9424a40d6ee</td><td>2014-06-30 00:00:00.000</td></tr><tr><td>3</td><td>509647174</td><td>adventure-works\\roberto0</td><td>0x5AC0</td><td>2</td><td>Engineering Manager</td><td>1974-11-12</td><td>M</td><td>M</td><td>2007-11-11</td><td>1</td><td>2</td><td>21</td><td>1</td><td>9bbbfb2c-efbb-4217-9ab7-f97689328841</td><td>2014-06-30 00:00:00.000</td></tr><tr><td>4</td><td>112457891</td><td>adventure-works\\rob0</td><td>0x5AD6</td><td>3</td><td>Senior Tool Designer</td><td>1974-12-23</td><td>S</td><td>M</td><td>2007-12-05</td><td>0</td><td>48</td><td>80</td><td>1</td><td>59747955-87b8-443f-8ed4-f8ad3afdf3a9</td><td>2014-06-30 00:00:00.000</td></tr><tr><td>5</td><td>695256908</td><td>adventure-works\\gail0</td><td>0x5ADA</td><td>3</td><td>Design Engineer</td><td>1952-09-27</td><td>M</td><td>F</td><td>2008-01-06</td><td>1</td><td>5</td><td>22</td><td>1</td><td>ec84ae09-f9b8-4a15-b4a9-6ccbab919b08</td><td>2014-06-30 00:00:00.000</td></tr><tr><td>6</td><td>998320692</td><td>adventure-works\\jossef0</td><td>0x5ADE</td><td>3</td><td>Design Engineer</td><td>1959-03-11</td><td>M</td><td>M</td><td>2008-01-24</td><td>1</td><td>6</td><td>23</td><td>1</td><td>e39056f1-9cd5-478d-8945-14aca7fbdcdd</td><td>2014-06-30 00:00:00.000</td></tr><tr><td>7</td><td>134969118</td><td>adventure-works\\dylan0</td><td>0x5AE1</td><td>3</td><td>Research and Development Manager</td><td>1987-02-24</td><td>M</td><td>M</td><td>2009-02-08</td><td>1</td><td>61</td><td>50</td><td>1</td><td>4f46deca-ef01-41fd-9829-0adab368e431</td><td>2014-06-30 00:00:00.000</td></tr><tr><td>8</td><td>811994146</td><td>adventure-works\\diane1</td><td>0x5AE158</td><td>4</td><td>Research and Development Engineer</td><td>1986-06-05</td><td>S</td><td>F</td><td>2008-12-29</td><td>1</td><td>62</td><td>51</td><td>1</td><td>31112635-663b-4018-b4a2-a685c0bf48a4</td><td>2014-06-30 00:00:00.000</td></tr><tr><td>9</td><td>658797903</td><td>adventure-works\\gigi0</td><td>0x5AE168</td><td>4</td><td>Research and Development Engineer</td><td>1979-01-21</td><td>M</td><td>F</td><td>2009-01-16</td><td>1</td><td>63</td><td>51</td><td>1</td><td>50b6cdc6-7570-47ef-9570-48a64b5f2ecf</td><td>2014-06-30 00:00:00.000</td></tr><tr><td>10</td><td>879342154</td><td>adventure-works\\michael6</td><td>0x5AE178</td><td>4</td><td>Research and Development Manager</td><td>1984-11-30</td><td>M</td><td>M</td><td>2009-05-03</td><td>1</td><td>16</td><td>64</td><td>1</td><td>eaa43680-5571-40cb-ab1a-3bf68f04459e</td><td>2014-06-30 00:00:00.000</td></tr></table>"
          },
          "metadata": {}
        }
      ],
      "execution_count": null
    },
    {
      "cell_type": "markdown",
      "source": [
        "## WHERE\n",
        "\n",
        "It states the criteria that must be met to be shown in the query result. I.e it filters data rows based on criteria against a column or a few columns together.\n",
        "\n",
        "Comparators for WHERE clause:\n",
        "- \"=\" : equal\n",
        "- \"!=\" or <> : not equal\n",
        "- \"<\" : smaller than\n",
        "- \">\" : greater than\n",
        "- \"<=\" : at most\n",
        "- \">=\" : at least "
      ],
      "metadata": {
        "azdata_cell_guid": "2f6898ae-dd9b-4ef5-8278-4a2c72785cdb",
        "id": "ueq0wY6dYNEH"
      }
    },
    {
      "cell_type": "code",
      "source": [
        "/* notice that the criterion columns don't have to be part of SELECT to make it work*/\n",
        "\n",
        "SELECT BusinessEntityID, JobTitle, OrganizationLevel, HireDate\n",
        "FROM HumanResources.Employee\n",
        "WHERE VacationHours >= 85"
      ],
      "metadata": {
        "azdata_cell_guid": "45b78cb5-c68b-4e65-8993-d874628391c6",
        "language": "sql",
        "id": "OIxadJjoYNEH",
        "outputId": "94231e5d-fde3-4318-b544-2e4df98c44e1"
      },
      "outputs": [
        {
          "output_type": "display_data",
          "data": {
            "text/html": "(45 rows affected)"
          },
          "metadata": {}
        },
        {
          "output_type": "display_data",
          "data": {
            "text/html": "Total execution time: 00:00:00.024"
          },
          "metadata": {}
        },
        {
          "output_type": "execute_result",
          "execution_count": 4,
          "data": {
            "application/vnd.dataresource+json": {
              "schema": {
                "fields": [
                  {
                    "name": "BusinessEntityID"
                  },
                  {
                    "name": "JobTitle"
                  },
                  {
                    "name": "OrganizationLevel"
                  },
                  {
                    "name": "HireDate"
                  }
                ]
              },
              "data": [
                {
                  "0": "1",
                  "1": "Chief Executive Officer",
                  "2": "NULL",
                  "3": "2009-01-14"
                },
                {
                  "0": "49",
                  "1": "Production Technician - WC10",
                  "2": "4",
                  "3": "2008-01-07"
                },
                {
                  "0": "51",
                  "1": "Production Technician - WC10",
                  "2": "4",
                  "3": "2008-02-20"
                },
                {
                  "0": "52",
                  "1": "Production Technician - WC10",
                  "2": "4",
                  "3": "2008-03-10"
                },
                {
                  "0": "53",
                  "1": "Production Technician - WC10",
                  "2": "4",
                  "3": "2008-03-28"
                },
                {
                  "0": "54",
                  "1": "Production Technician - WC10",
                  "2": "4",
                  "3": "2010-01-01"
                },
                {
                  "0": "88",
                  "1": "Production Technician - WC10",
                  "2": "4",
                  "3": "2009-12-18"
                },
                {
                  "0": "89",
                  "1": "Production Technician - WC10",
                  "2": "4",
                  "3": "2010-02-01"
                },
                {
                  "0": "90",
                  "1": "Production Technician - WC10",
                  "2": "4",
                  "3": "2010-02-20"
                },
                {
                  "0": "91",
                  "1": "Production Technician - WC10",
                  "2": "4",
                  "3": "2010-01-12"
                },
                {
                  "0": "92",
                  "1": "Production Technician - WC10",
                  "2": "4",
                  "3": "2010-03-10"
                },
                {
                  "0": "103",
                  "1": "Production Technician - WC10",
                  "2": "4",
                  "3": "2009-12-06"
                },
                {
                  "0": "104",
                  "1": "Production Technician - WC10",
                  "2": "4",
                  "3": "2009-12-25"
                },
                {
                  "0": "105",
                  "1": "Production Technician - WC10",
                  "2": "4",
                  "3": "2009-12-25"
                },
                {
                  "0": "106",
                  "1": "Production Technician - WC10",
                  "2": "4",
                  "3": "2010-02-27"
                },
                {
                  "0": "107",
                  "1": "Production Technician - WC10",
                  "2": "4",
                  "3": "2010-02-08"
                },
                {
                  "0": "109",
                  "1": "Production Technician - WC50",
                  "2": "4",
                  "3": "2008-12-07"
                },
                {
                  "0": "110",
                  "1": "Production Technician - WC50",
                  "2": "4",
                  "3": "2008-12-14"
                },
                {
                  "0": "111",
                  "1": "Production Technician - WC50",
                  "2": "4",
                  "3": "2008-12-17"
                },
                {
                  "0": "112",
                  "1": "Production Technician - WC50",
                  "2": "4",
                  "3": "2009-01-01"
                },
                {
                  "0": "113",
                  "1": "Production Technician - WC50",
                  "2": "4",
                  "3": "2008-12-25"
                },
                {
                  "0": "114",
                  "1": "Production Technician - WC50",
                  "2": "4",
                  "3": "2009-01-13"
                },
                {
                  "0": "115",
                  "1": "Production Technician - WC50",
                  "2": "4",
                  "3": "2009-01-20"
                },
                {
                  "0": "116",
                  "1": "Production Technician - WC50",
                  "2": "4",
                  "3": "2009-01-31"
                },
                {
                  "0": "117",
                  "1": "Production Technician - WC50",
                  "2": "4",
                  "3": "2009-02-18"
                },
                {
                  "0": "118",
                  "1": "Production Technician - WC50",
                  "2": "4",
                  "3": "2009-02-13"
                },
                {
                  "0": "119",
                  "1": "Production Technician - WC50",
                  "2": "4",
                  "3": "2009-02-25"
                },
                {
                  "0": "120",
                  "1": "Production Technician - WC50",
                  "2": "4",
                  "3": "2009-03-04"
                },
                {
                  "0": "121",
                  "1": "Shipping and Receiving Supervisor",
                  "2": "3",
                  "3": "2009-01-02"
                },
                {
                  "0": "122",
                  "1": "Stocker",
                  "2": "4",
                  "3": "2008-12-07"
                },
                {
                  "0": "123",
                  "1": "Shipping and Receiving Clerk",
                  "2": "4",
                  "3": "2008-12-07"
                },
                {
                  "0": "124",
                  "1": "Stocker",
                  "2": "4",
                  "3": "2008-12-26"
                },
                {
                  "0": "125",
                  "1": "Shipping and Receiving Clerk",
                  "2": "4",
                  "3": "2009-01-20"
                },
                {
                  "0": "126",
                  "1": "Stocker",
                  "2": "4",
                  "3": "2009-02-26"
                },
                {
                  "0": "207",
                  "1": "Production Technician - WC45",
                  "2": "4",
                  "3": "2008-12-02"
                },
                {
                  "0": "208",
                  "1": "Production Technician - WC45",
                  "2": "4",
                  "3": "2009-01-08"
                },
                {
                  "0": "209",
                  "1": "Production Technician - WC45",
                  "2": "4",
                  "3": "2009-01-27"
                },
                {
                  "0": "213",
                  "1": "Quality Assurance Technician",
                  "2": "4",
                  "3": "2010-02-23"
                },
                {
                  "0": "227",
                  "1": "Facilities Manager",
                  "2": "2",
                  "3": "2009-12-02"
                },
                {
                  "0": "228",
                  "1": "Maintenance Supervisor",
                  "2": "3",
                  "3": "2008-12-14"
                },
                {
                  "0": "229",
                  "1": "Janitor",
                  "2": "4",
                  "3": "2010-02-16"
                },
                {
                  "0": "230",
                  "1": "Janitor",
                  "2": "4",
                  "3": "2010-03-05"
                },
                {
                  "0": "231",
                  "1": "Janitor",
                  "2": "4",
                  "3": "2010-03-07"
                },
                {
                  "0": "232",
                  "1": "Janitor",
                  "2": "4",
                  "3": "2010-01-27"
                },
                {
                  "0": "233",
                  "1": "Facilities Administrative Assistant",
                  "2": "3",
                  "3": "2009-12-21"
                }
              ]
            },
            "text/html": "<table><tr><th>BusinessEntityID</th><th>JobTitle</th><th>OrganizationLevel</th><th>HireDate</th></tr><tr><td>1</td><td>Chief Executive Officer</td><td>NULL</td><td>2009-01-14</td></tr><tr><td>49</td><td>Production Technician - WC10</td><td>4</td><td>2008-01-07</td></tr><tr><td>51</td><td>Production Technician - WC10</td><td>4</td><td>2008-02-20</td></tr><tr><td>52</td><td>Production Technician - WC10</td><td>4</td><td>2008-03-10</td></tr><tr><td>53</td><td>Production Technician - WC10</td><td>4</td><td>2008-03-28</td></tr><tr><td>54</td><td>Production Technician - WC10</td><td>4</td><td>2010-01-01</td></tr><tr><td>88</td><td>Production Technician - WC10</td><td>4</td><td>2009-12-18</td></tr><tr><td>89</td><td>Production Technician - WC10</td><td>4</td><td>2010-02-01</td></tr><tr><td>90</td><td>Production Technician - WC10</td><td>4</td><td>2010-02-20</td></tr><tr><td>91</td><td>Production Technician - WC10</td><td>4</td><td>2010-01-12</td></tr><tr><td>92</td><td>Production Technician - WC10</td><td>4</td><td>2010-03-10</td></tr><tr><td>103</td><td>Production Technician - WC10</td><td>4</td><td>2009-12-06</td></tr><tr><td>104</td><td>Production Technician - WC10</td><td>4</td><td>2009-12-25</td></tr><tr><td>105</td><td>Production Technician - WC10</td><td>4</td><td>2009-12-25</td></tr><tr><td>106</td><td>Production Technician - WC10</td><td>4</td><td>2010-02-27</td></tr><tr><td>107</td><td>Production Technician - WC10</td><td>4</td><td>2010-02-08</td></tr><tr><td>109</td><td>Production Technician - WC50</td><td>4</td><td>2008-12-07</td></tr><tr><td>110</td><td>Production Technician - WC50</td><td>4</td><td>2008-12-14</td></tr><tr><td>111</td><td>Production Technician - WC50</td><td>4</td><td>2008-12-17</td></tr><tr><td>112</td><td>Production Technician - WC50</td><td>4</td><td>2009-01-01</td></tr><tr><td>113</td><td>Production Technician - WC50</td><td>4</td><td>2008-12-25</td></tr><tr><td>114</td><td>Production Technician - WC50</td><td>4</td><td>2009-01-13</td></tr><tr><td>115</td><td>Production Technician - WC50</td><td>4</td><td>2009-01-20</td></tr><tr><td>116</td><td>Production Technician - WC50</td><td>4</td><td>2009-01-31</td></tr><tr><td>117</td><td>Production Technician - WC50</td><td>4</td><td>2009-02-18</td></tr><tr><td>118</td><td>Production Technician - WC50</td><td>4</td><td>2009-02-13</td></tr><tr><td>119</td><td>Production Technician - WC50</td><td>4</td><td>2009-02-25</td></tr><tr><td>120</td><td>Production Technician - WC50</td><td>4</td><td>2009-03-04</td></tr><tr><td>121</td><td>Shipping and Receiving Supervisor</td><td>3</td><td>2009-01-02</td></tr><tr><td>122</td><td>Stocker</td><td>4</td><td>2008-12-07</td></tr><tr><td>123</td><td>Shipping and Receiving Clerk</td><td>4</td><td>2008-12-07</td></tr><tr><td>124</td><td>Stocker</td><td>4</td><td>2008-12-26</td></tr><tr><td>125</td><td>Shipping and Receiving Clerk</td><td>4</td><td>2009-01-20</td></tr><tr><td>126</td><td>Stocker</td><td>4</td><td>2009-02-26</td></tr><tr><td>207</td><td>Production Technician - WC45</td><td>4</td><td>2008-12-02</td></tr><tr><td>208</td><td>Production Technician - WC45</td><td>4</td><td>2009-01-08</td></tr><tr><td>209</td><td>Production Technician - WC45</td><td>4</td><td>2009-01-27</td></tr><tr><td>213</td><td>Quality Assurance Technician</td><td>4</td><td>2010-02-23</td></tr><tr><td>227</td><td>Facilities Manager</td><td>2</td><td>2009-12-02</td></tr><tr><td>228</td><td>Maintenance Supervisor</td><td>3</td><td>2008-12-14</td></tr><tr><td>229</td><td>Janitor</td><td>4</td><td>2010-02-16</td></tr><tr><td>230</td><td>Janitor</td><td>4</td><td>2010-03-05</td></tr><tr><td>231</td><td>Janitor</td><td>4</td><td>2010-03-07</td></tr><tr><td>232</td><td>Janitor</td><td>4</td><td>2010-01-27</td></tr><tr><td>233</td><td>Facilities Administrative Assistant</td><td>3</td><td>2009-12-21</td></tr></table>"
          },
          "metadata": {}
        }
      ],
      "execution_count": null
    },
    {
      "cell_type": "markdown",
      "source": [
        "## BETWEEN\n",
        "\n",
        "It works with WHERE clause to get values within a range. "
      ],
      "metadata": {
        "language": "sql",
        "azdata_cell_guid": "b1414f75-0520-4955-b301-39300d1e671a",
        "id": "psGTQBzzYNEI"
      }
    },
    {
      "cell_type": "code",
      "source": [
        "/* find all employees hired between 2009-01-01 and 2010-01-01, for vacation hours >= 85*/\n",
        "\n",
        "SELECT BusinessEntityID, JobTitle, OrganizationLevel, HireDate\n",
        "FROM HumanResources.Employee\n",
        "WHERE VacationHours >= 85 AND\n",
        "    HireDate BETWEEN '2009-01-01' AND '2010-01-01' /* when quoting dates, treat it the same way as quoting strings */"
      ],
      "metadata": {
        "language": "sql",
        "azdata_cell_guid": "57b795b9-4436-4522-aa21-88abbae3de76",
        "id": "Hp7Uk48fYNEI",
        "outputId": "f82116da-2dbb-4b05-f015-2bffd622fe2b"
      },
      "outputs": [
        {
          "output_type": "display_data",
          "data": {
            "text/html": "(21 rows affected)"
          },
          "metadata": {}
        },
        {
          "output_type": "display_data",
          "data": {
            "text/html": "Total execution time: 00:00:00.021"
          },
          "metadata": {}
        },
        {
          "output_type": "execute_result",
          "execution_count": 30,
          "data": {
            "application/vnd.dataresource+json": {
              "schema": {
                "fields": [
                  {
                    "name": "BusinessEntityID"
                  },
                  {
                    "name": "JobTitle"
                  },
                  {
                    "name": "OrganizationLevel"
                  },
                  {
                    "name": "HireDate"
                  }
                ]
              },
              "data": [
                {
                  "0": "1",
                  "1": "Chief Executive Officer",
                  "2": "NULL",
                  "3": "2009-01-14"
                },
                {
                  "0": "54",
                  "1": "Production Technician - WC10",
                  "2": "4",
                  "3": "2010-01-01"
                },
                {
                  "0": "88",
                  "1": "Production Technician - WC10",
                  "2": "4",
                  "3": "2009-12-18"
                },
                {
                  "0": "103",
                  "1": "Production Technician - WC10",
                  "2": "4",
                  "3": "2009-12-06"
                },
                {
                  "0": "104",
                  "1": "Production Technician - WC10",
                  "2": "4",
                  "3": "2009-12-25"
                },
                {
                  "0": "105",
                  "1": "Production Technician - WC10",
                  "2": "4",
                  "3": "2009-12-25"
                },
                {
                  "0": "112",
                  "1": "Production Technician - WC50",
                  "2": "4",
                  "3": "2009-01-01"
                },
                {
                  "0": "114",
                  "1": "Production Technician - WC50",
                  "2": "4",
                  "3": "2009-01-13"
                },
                {
                  "0": "115",
                  "1": "Production Technician - WC50",
                  "2": "4",
                  "3": "2009-01-20"
                },
                {
                  "0": "116",
                  "1": "Production Technician - WC50",
                  "2": "4",
                  "3": "2009-01-31"
                },
                {
                  "0": "117",
                  "1": "Production Technician - WC50",
                  "2": "4",
                  "3": "2009-02-18"
                },
                {
                  "0": "118",
                  "1": "Production Technician - WC50",
                  "2": "4",
                  "3": "2009-02-13"
                },
                {
                  "0": "119",
                  "1": "Production Technician - WC50",
                  "2": "4",
                  "3": "2009-02-25"
                },
                {
                  "0": "120",
                  "1": "Production Technician - WC50",
                  "2": "4",
                  "3": "2009-03-04"
                },
                {
                  "0": "121",
                  "1": "Shipping and Receiving Supervisor",
                  "2": "3",
                  "3": "2009-01-02"
                },
                {
                  "0": "125",
                  "1": "Shipping and Receiving Clerk",
                  "2": "4",
                  "3": "2009-01-20"
                },
                {
                  "0": "126",
                  "1": "Stocker",
                  "2": "4",
                  "3": "2009-02-26"
                },
                {
                  "0": "208",
                  "1": "Production Technician - WC45",
                  "2": "4",
                  "3": "2009-01-08"
                },
                {
                  "0": "209",
                  "1": "Production Technician - WC45",
                  "2": "4",
                  "3": "2009-01-27"
                },
                {
                  "0": "227",
                  "1": "Facilities Manager",
                  "2": "2",
                  "3": "2009-12-02"
                },
                {
                  "0": "233",
                  "1": "Facilities Administrative Assistant",
                  "2": "3",
                  "3": "2009-12-21"
                }
              ]
            },
            "text/html": "<table><tr><th>BusinessEntityID</th><th>JobTitle</th><th>OrganizationLevel</th><th>HireDate</th></tr><tr><td>1</td><td>Chief Executive Officer</td><td>NULL</td><td>2009-01-14</td></tr><tr><td>54</td><td>Production Technician - WC10</td><td>4</td><td>2010-01-01</td></tr><tr><td>88</td><td>Production Technician - WC10</td><td>4</td><td>2009-12-18</td></tr><tr><td>103</td><td>Production Technician - WC10</td><td>4</td><td>2009-12-06</td></tr><tr><td>104</td><td>Production Technician - WC10</td><td>4</td><td>2009-12-25</td></tr><tr><td>105</td><td>Production Technician - WC10</td><td>4</td><td>2009-12-25</td></tr><tr><td>112</td><td>Production Technician - WC50</td><td>4</td><td>2009-01-01</td></tr><tr><td>114</td><td>Production Technician - WC50</td><td>4</td><td>2009-01-13</td></tr><tr><td>115</td><td>Production Technician - WC50</td><td>4</td><td>2009-01-20</td></tr><tr><td>116</td><td>Production Technician - WC50</td><td>4</td><td>2009-01-31</td></tr><tr><td>117</td><td>Production Technician - WC50</td><td>4</td><td>2009-02-18</td></tr><tr><td>118</td><td>Production Technician - WC50</td><td>4</td><td>2009-02-13</td></tr><tr><td>119</td><td>Production Technician - WC50</td><td>4</td><td>2009-02-25</td></tr><tr><td>120</td><td>Production Technician - WC50</td><td>4</td><td>2009-03-04</td></tr><tr><td>121</td><td>Shipping and Receiving Supervisor</td><td>3</td><td>2009-01-02</td></tr><tr><td>125</td><td>Shipping and Receiving Clerk</td><td>4</td><td>2009-01-20</td></tr><tr><td>126</td><td>Stocker</td><td>4</td><td>2009-02-26</td></tr><tr><td>208</td><td>Production Technician - WC45</td><td>4</td><td>2009-01-08</td></tr><tr><td>209</td><td>Production Technician - WC45</td><td>4</td><td>2009-01-27</td></tr><tr><td>227</td><td>Facilities Manager</td><td>2</td><td>2009-12-02</td></tr><tr><td>233</td><td>Facilities Administrative Assistant</td><td>3</td><td>2009-12-21</td></tr></table>"
          },
          "metadata": {}
        }
      ],
      "execution_count": null
    },
    {
      "cell_type": "markdown",
      "source": [
        "## IN\n",
        "\n",
        "It works with WHERE clause to test whether a data value matches the specified target values."
      ],
      "metadata": {
        "language": "sql",
        "azdata_cell_guid": "9052322f-71ce-4d09-9a9b-5d9ed3c14247",
        "id": "ad9Xp470YNEI"
      }
    },
    {
      "cell_type": "code",
      "source": [
        "/* find all employees with \"Technician\" in their JobTitle, hired between 2009-01-01 and 2010-01-01, for vacation hours >= 85*/\n",
        "\n",
        "SELECT BusinessEntityID, JobTitle, OrganizationLevel, HireDate\n",
        "FROM HumanResources.Employee\n",
        "WHERE VacationHours >= 85 AND\n",
        "    HireDate BETWEEN '2009-01-01' AND '2010-01-01' AND\n",
        "    JobTitle IN ('Production Technician - WC50', 'Production Technician - WC10')"
      ],
      "metadata": {
        "language": "sql",
        "azdata_cell_guid": "21008f6c-bcb4-4072-b474-3a41939d9aaa",
        "id": "Bf100CuwYNEJ",
        "outputId": "7c914ec8-9119-4199-f938-61bc0c5815b9"
      },
      "outputs": [
        {
          "output_type": "display_data",
          "data": {
            "text/html": "(13 rows affected)"
          },
          "metadata": {}
        },
        {
          "output_type": "display_data",
          "data": {
            "text/html": "Total execution time: 00:00:00.016"
          },
          "metadata": {}
        },
        {
          "output_type": "execute_result",
          "execution_count": 44,
          "data": {
            "application/vnd.dataresource+json": {
              "schema": {
                "fields": [
                  {
                    "name": "BusinessEntityID"
                  },
                  {
                    "name": "JobTitle"
                  },
                  {
                    "name": "OrganizationLevel"
                  },
                  {
                    "name": "HireDate"
                  }
                ]
              },
              "data": [
                {
                  "0": "54",
                  "1": "Production Technician - WC10",
                  "2": "4",
                  "3": "2010-01-01"
                },
                {
                  "0": "88",
                  "1": "Production Technician - WC10",
                  "2": "4",
                  "3": "2009-12-18"
                },
                {
                  "0": "103",
                  "1": "Production Technician - WC10",
                  "2": "4",
                  "3": "2009-12-06"
                },
                {
                  "0": "104",
                  "1": "Production Technician - WC10",
                  "2": "4",
                  "3": "2009-12-25"
                },
                {
                  "0": "105",
                  "1": "Production Technician - WC10",
                  "2": "4",
                  "3": "2009-12-25"
                },
                {
                  "0": "112",
                  "1": "Production Technician - WC50",
                  "2": "4",
                  "3": "2009-01-01"
                },
                {
                  "0": "114",
                  "1": "Production Technician - WC50",
                  "2": "4",
                  "3": "2009-01-13"
                },
                {
                  "0": "115",
                  "1": "Production Technician - WC50",
                  "2": "4",
                  "3": "2009-01-20"
                },
                {
                  "0": "116",
                  "1": "Production Technician - WC50",
                  "2": "4",
                  "3": "2009-01-31"
                },
                {
                  "0": "117",
                  "1": "Production Technician - WC50",
                  "2": "4",
                  "3": "2009-02-18"
                },
                {
                  "0": "118",
                  "1": "Production Technician - WC50",
                  "2": "4",
                  "3": "2009-02-13"
                },
                {
                  "0": "119",
                  "1": "Production Technician - WC50",
                  "2": "4",
                  "3": "2009-02-25"
                },
                {
                  "0": "120",
                  "1": "Production Technician - WC50",
                  "2": "4",
                  "3": "2009-03-04"
                }
              ]
            },
            "text/html": "<table><tr><th>BusinessEntityID</th><th>JobTitle</th><th>OrganizationLevel</th><th>HireDate</th></tr><tr><td>54</td><td>Production Technician - WC10</td><td>4</td><td>2010-01-01</td></tr><tr><td>88</td><td>Production Technician - WC10</td><td>4</td><td>2009-12-18</td></tr><tr><td>103</td><td>Production Technician - WC10</td><td>4</td><td>2009-12-06</td></tr><tr><td>104</td><td>Production Technician - WC10</td><td>4</td><td>2009-12-25</td></tr><tr><td>105</td><td>Production Technician - WC10</td><td>4</td><td>2009-12-25</td></tr><tr><td>112</td><td>Production Technician - WC50</td><td>4</td><td>2009-01-01</td></tr><tr><td>114</td><td>Production Technician - WC50</td><td>4</td><td>2009-01-13</td></tr><tr><td>115</td><td>Production Technician - WC50</td><td>4</td><td>2009-01-20</td></tr><tr><td>116</td><td>Production Technician - WC50</td><td>4</td><td>2009-01-31</td></tr><tr><td>117</td><td>Production Technician - WC50</td><td>4</td><td>2009-02-18</td></tr><tr><td>118</td><td>Production Technician - WC50</td><td>4</td><td>2009-02-13</td></tr><tr><td>119</td><td>Production Technician - WC50</td><td>4</td><td>2009-02-25</td></tr><tr><td>120</td><td>Production Technician - WC50</td><td>4</td><td>2009-03-04</td></tr></table>"
          },
          "metadata": {}
        }
      ],
      "execution_count": null
    },
    {
      "cell_type": "markdown",
      "source": [
        "## ORDER BY\n",
        "\n",
        "It sorts a column by its values.\n",
        "\n",
        "We can specify order with ASC (ascending, value increases from the first row to the last row, which is the default), or with DESC (descending, value decreases from the first row to the last row, which requires explicit specification)\n",
        "\n",
        "If we sort a column of string values (apple, bananas, oranges) in ASC, it will be A-Z from the first row to the last row.\n",
        "\n",
        "If we sort a column of string values (apple, bananas, oranges) in DESC, it will be Z-A from the first row to the last row."
      ],
      "metadata": {
        "azdata_cell_guid": "a6e2866a-3d6d-47ae-a6b8-7cf20bd70165",
        "id": "ApEArcKbYNEJ"
      }
    },
    {
      "cell_type": "code",
      "source": [
        "/* to double check the result from the previous where clause demo*/\n",
        "\n",
        "SELECT BusinessEntityID, JobTitle, OrganizationLevel, HireDate, VacationHours\n",
        "FROM HumanResources.Employee\n",
        "WHERE VacationHours >= 95\n",
        "ORDER BY VacationHours ASC"
      ],
      "metadata": {
        "language": "sql",
        "azdata_cell_guid": "6efdd414-b2da-41b2-967a-61748b73e419",
        "id": "EDOyc6NpYNEJ",
        "outputId": "cdc24eb7-a976-49c4-cd3d-c5247babf857"
      },
      "outputs": [
        {
          "output_type": "display_data",
          "data": {
            "text/html": "(15 rows affected)"
          },
          "metadata": {}
        },
        {
          "output_type": "display_data",
          "data": {
            "text/html": "Total execution time: 00:00:00.013"
          },
          "metadata": {}
        },
        {
          "output_type": "execute_result",
          "execution_count": 15,
          "data": {
            "application/vnd.dataresource+json": {
              "schema": {
                "fields": [
                  {
                    "name": "BusinessEntityID"
                  },
                  {
                    "name": "JobTitle"
                  },
                  {
                    "name": "OrganizationLevel"
                  },
                  {
                    "name": "HireDate"
                  },
                  {
                    "name": "VacationHours"
                  }
                ]
              },
              "data": [
                {
                  "0": "109",
                  "1": "Production Technician - WC50",
                  "2": "4",
                  "3": "2008-12-07",
                  "4": "95"
                },
                {
                  "0": "91",
                  "1": "Production Technician - WC10",
                  "2": "4",
                  "3": "2010-01-12",
                  "4": "95"
                },
                {
                  "0": "123",
                  "1": "Shipping and Receiving Clerk",
                  "2": "4",
                  "3": "2008-12-07",
                  "4": "95"
                },
                {
                  "0": "126",
                  "1": "Stocker",
                  "2": "4",
                  "3": "2009-02-26",
                  "4": "96"
                },
                {
                  "0": "113",
                  "1": "Production Technician - WC50",
                  "2": "4",
                  "3": "2008-12-25",
                  "4": "96"
                },
                {
                  "0": "89",
                  "1": "Production Technician - WC10",
                  "2": "4",
                  "3": "2010-02-01",
                  "4": "96"
                },
                {
                  "0": "90",
                  "1": "Production Technician - WC10",
                  "2": "4",
                  "3": "2010-02-20",
                  "4": "97"
                },
                {
                  "0": "114",
                  "1": "Production Technician - WC50",
                  "2": "4",
                  "3": "2009-01-13",
                  "4": "97"
                },
                {
                  "0": "122",
                  "1": "Stocker",
                  "2": "4",
                  "3": "2008-12-07",
                  "4": "97"
                },
                {
                  "0": "124",
                  "1": "Stocker",
                  "2": "4",
                  "3": "2008-12-26",
                  "4": "98"
                },
                {
                  "0": "92",
                  "1": "Production Technician - WC10",
                  "2": "4",
                  "3": "2010-03-10",
                  "4": "98"
                },
                {
                  "0": "116",
                  "1": "Production Technician - WC50",
                  "2": "4",
                  "3": "2009-01-31",
                  "4": "98"
                },
                {
                  "0": "117",
                  "1": "Production Technician - WC50",
                  "2": "4",
                  "3": "2009-02-18",
                  "4": "99"
                },
                {
                  "0": "1",
                  "1": "Chief Executive Officer",
                  "2": "NULL",
                  "3": "2009-01-14",
                  "4": "99"
                },
                {
                  "0": "88",
                  "1": "Production Technician - WC10",
                  "2": "4",
                  "3": "2009-12-18",
                  "4": "99"
                }
              ]
            },
            "text/html": "<table><tr><th>BusinessEntityID</th><th>JobTitle</th><th>OrganizationLevel</th><th>HireDate</th><th>VacationHours</th></tr><tr><td>109</td><td>Production Technician - WC50</td><td>4</td><td>2008-12-07</td><td>95</td></tr><tr><td>91</td><td>Production Technician - WC10</td><td>4</td><td>2010-01-12</td><td>95</td></tr><tr><td>123</td><td>Shipping and Receiving Clerk</td><td>4</td><td>2008-12-07</td><td>95</td></tr><tr><td>126</td><td>Stocker</td><td>4</td><td>2009-02-26</td><td>96</td></tr><tr><td>113</td><td>Production Technician - WC50</td><td>4</td><td>2008-12-25</td><td>96</td></tr><tr><td>89</td><td>Production Technician - WC10</td><td>4</td><td>2010-02-01</td><td>96</td></tr><tr><td>90</td><td>Production Technician - WC10</td><td>4</td><td>2010-02-20</td><td>97</td></tr><tr><td>114</td><td>Production Technician - WC50</td><td>4</td><td>2009-01-13</td><td>97</td></tr><tr><td>122</td><td>Stocker</td><td>4</td><td>2008-12-07</td><td>97</td></tr><tr><td>124</td><td>Stocker</td><td>4</td><td>2008-12-26</td><td>98</td></tr><tr><td>92</td><td>Production Technician - WC10</td><td>4</td><td>2010-03-10</td><td>98</td></tr><tr><td>116</td><td>Production Technician - WC50</td><td>4</td><td>2009-01-31</td><td>98</td></tr><tr><td>117</td><td>Production Technician - WC50</td><td>4</td><td>2009-02-18</td><td>99</td></tr><tr><td>1</td><td>Chief Executive Officer</td><td>NULL</td><td>2009-01-14</td><td>99</td></tr><tr><td>88</td><td>Production Technician - WC10</td><td>4</td><td>2009-12-18</td><td>99</td></tr></table>"
          },
          "metadata": {}
        }
      ],
      "execution_count": null
    },
    {
      "cell_type": "code",
      "source": [
        "/* DESC keyword demo, same ORDER BY vacationhours*/\n",
        "\n",
        "SELECT BusinessEntityID, JobTitle, OrganizationLevel, HireDate, VacationHours\n",
        "FROM HumanResources.Employee\n",
        "WHERE VacationHours >= 95\n",
        "ORDER BY VacationHours DESC"
      ],
      "metadata": {
        "azdata_cell_guid": "c1380b0f-f271-40ce-98d3-77fbe4026b14",
        "language": "sql",
        "id": "t9Jn_RLgYNEJ",
        "outputId": "8cdd8505-7c43-429c-83df-f40b9d2a3953"
      },
      "outputs": [
        {
          "output_type": "display_data",
          "data": {
            "text/html": "(15 rows affected)"
          },
          "metadata": {}
        },
        {
          "output_type": "display_data",
          "data": {
            "text/html": "Total execution time: 00:00:00.011"
          },
          "metadata": {}
        },
        {
          "output_type": "execute_result",
          "execution_count": 14,
          "data": {
            "application/vnd.dataresource+json": {
              "schema": {
                "fields": [
                  {
                    "name": "BusinessEntityID"
                  },
                  {
                    "name": "JobTitle"
                  },
                  {
                    "name": "OrganizationLevel"
                  },
                  {
                    "name": "HireDate"
                  },
                  {
                    "name": "VacationHours"
                  }
                ]
              },
              "data": [
                {
                  "0": "1",
                  "1": "Chief Executive Officer",
                  "2": "NULL",
                  "3": "2009-01-14",
                  "4": "99"
                },
                {
                  "0": "88",
                  "1": "Production Technician - WC10",
                  "2": "4",
                  "3": "2009-12-18",
                  "4": "99"
                },
                {
                  "0": "117",
                  "1": "Production Technician - WC50",
                  "2": "4",
                  "3": "2009-02-18",
                  "4": "99"
                },
                {
                  "0": "124",
                  "1": "Stocker",
                  "2": "4",
                  "3": "2008-12-26",
                  "4": "98"
                },
                {
                  "0": "116",
                  "1": "Production Technician - WC50",
                  "2": "4",
                  "3": "2009-01-31",
                  "4": "98"
                },
                {
                  "0": "92",
                  "1": "Production Technician - WC10",
                  "2": "4",
                  "3": "2010-03-10",
                  "4": "98"
                },
                {
                  "0": "114",
                  "1": "Production Technician - WC50",
                  "2": "4",
                  "3": "2009-01-13",
                  "4": "97"
                },
                {
                  "0": "90",
                  "1": "Production Technician - WC10",
                  "2": "4",
                  "3": "2010-02-20",
                  "4": "97"
                },
                {
                  "0": "122",
                  "1": "Stocker",
                  "2": "4",
                  "3": "2008-12-07",
                  "4": "97"
                },
                {
                  "0": "126",
                  "1": "Stocker",
                  "2": "4",
                  "3": "2009-02-26",
                  "4": "96"
                },
                {
                  "0": "89",
                  "1": "Production Technician - WC10",
                  "2": "4",
                  "3": "2010-02-01",
                  "4": "96"
                },
                {
                  "0": "113",
                  "1": "Production Technician - WC50",
                  "2": "4",
                  "3": "2008-12-25",
                  "4": "96"
                },
                {
                  "0": "109",
                  "1": "Production Technician - WC50",
                  "2": "4",
                  "3": "2008-12-07",
                  "4": "95"
                },
                {
                  "0": "91",
                  "1": "Production Technician - WC10",
                  "2": "4",
                  "3": "2010-01-12",
                  "4": "95"
                },
                {
                  "0": "123",
                  "1": "Shipping and Receiving Clerk",
                  "2": "4",
                  "3": "2008-12-07",
                  "4": "95"
                }
              ]
            },
            "text/html": "<table><tr><th>BusinessEntityID</th><th>JobTitle</th><th>OrganizationLevel</th><th>HireDate</th><th>VacationHours</th></tr><tr><td>1</td><td>Chief Executive Officer</td><td>NULL</td><td>2009-01-14</td><td>99</td></tr><tr><td>88</td><td>Production Technician - WC10</td><td>4</td><td>2009-12-18</td><td>99</td></tr><tr><td>117</td><td>Production Technician - WC50</td><td>4</td><td>2009-02-18</td><td>99</td></tr><tr><td>124</td><td>Stocker</td><td>4</td><td>2008-12-26</td><td>98</td></tr><tr><td>116</td><td>Production Technician - WC50</td><td>4</td><td>2009-01-31</td><td>98</td></tr><tr><td>92</td><td>Production Technician - WC10</td><td>4</td><td>2010-03-10</td><td>98</td></tr><tr><td>114</td><td>Production Technician - WC50</td><td>4</td><td>2009-01-13</td><td>97</td></tr><tr><td>90</td><td>Production Technician - WC10</td><td>4</td><td>2010-02-20</td><td>97</td></tr><tr><td>122</td><td>Stocker</td><td>4</td><td>2008-12-07</td><td>97</td></tr><tr><td>126</td><td>Stocker</td><td>4</td><td>2009-02-26</td><td>96</td></tr><tr><td>89</td><td>Production Technician - WC10</td><td>4</td><td>2010-02-01</td><td>96</td></tr><tr><td>113</td><td>Production Technician - WC50</td><td>4</td><td>2008-12-25</td><td>96</td></tr><tr><td>109</td><td>Production Technician - WC50</td><td>4</td><td>2008-12-07</td><td>95</td></tr><tr><td>91</td><td>Production Technician - WC10</td><td>4</td><td>2010-01-12</td><td>95</td></tr><tr><td>123</td><td>Shipping and Receiving Clerk</td><td>4</td><td>2008-12-07</td><td>95</td></tr></table>"
          },
          "metadata": {}
        }
      ],
      "execution_count": null
    },
    {
      "cell_type": "code",
      "source": [
        "/* default ASC demo on string, ORDER BY JobTitle*/\n",
        "\n",
        "SELECT BusinessEntityID, JobTitle, OrganizationLevel, HireDate, VacationHours\n",
        "FROM HumanResources.Employee\n",
        "WHERE VacationHours >= 95\n",
        "ORDER BY JobTitle"
      ],
      "metadata": {
        "azdata_cell_guid": "0d5e8d70-ec6f-47c3-8eb4-85457763495d",
        "language": "sql",
        "id": "gUXc1yc8YNEK",
        "outputId": "cdaa2412-bdc1-468b-c113-c0ea2af99087"
      },
      "outputs": [
        {
          "output_type": "display_data",
          "data": {
            "text/html": "(15 rows affected)"
          },
          "metadata": {}
        },
        {
          "output_type": "display_data",
          "data": {
            "text/html": "Total execution time: 00:00:00.015"
          },
          "metadata": {}
        },
        {
          "output_type": "execute_result",
          "execution_count": 12,
          "data": {
            "application/vnd.dataresource+json": {
              "schema": {
                "fields": [
                  {
                    "name": "BusinessEntityID"
                  },
                  {
                    "name": "JobTitle"
                  },
                  {
                    "name": "OrganizationLevel"
                  },
                  {
                    "name": "HireDate"
                  },
                  {
                    "name": "VacationHours"
                  }
                ]
              },
              "data": [
                {
                  "0": "1",
                  "1": "Chief Executive Officer",
                  "2": "NULL",
                  "3": "2009-01-14",
                  "4": "99"
                },
                {
                  "0": "88",
                  "1": "Production Technician - WC10",
                  "2": "4",
                  "3": "2009-12-18",
                  "4": "99"
                },
                {
                  "0": "89",
                  "1": "Production Technician - WC10",
                  "2": "4",
                  "3": "2010-02-01",
                  "4": "96"
                },
                {
                  "0": "90",
                  "1": "Production Technician - WC10",
                  "2": "4",
                  "3": "2010-02-20",
                  "4": "97"
                },
                {
                  "0": "91",
                  "1": "Production Technician - WC10",
                  "2": "4",
                  "3": "2010-01-12",
                  "4": "95"
                },
                {
                  "0": "92",
                  "1": "Production Technician - WC10",
                  "2": "4",
                  "3": "2010-03-10",
                  "4": "98"
                },
                {
                  "0": "109",
                  "1": "Production Technician - WC50",
                  "2": "4",
                  "3": "2008-12-07",
                  "4": "95"
                },
                {
                  "0": "113",
                  "1": "Production Technician - WC50",
                  "2": "4",
                  "3": "2008-12-25",
                  "4": "96"
                },
                {
                  "0": "114",
                  "1": "Production Technician - WC50",
                  "2": "4",
                  "3": "2009-01-13",
                  "4": "97"
                },
                {
                  "0": "116",
                  "1": "Production Technician - WC50",
                  "2": "4",
                  "3": "2009-01-31",
                  "4": "98"
                },
                {
                  "0": "117",
                  "1": "Production Technician - WC50",
                  "2": "4",
                  "3": "2009-02-18",
                  "4": "99"
                },
                {
                  "0": "123",
                  "1": "Shipping and Receiving Clerk",
                  "2": "4",
                  "3": "2008-12-07",
                  "4": "95"
                },
                {
                  "0": "124",
                  "1": "Stocker",
                  "2": "4",
                  "3": "2008-12-26",
                  "4": "98"
                },
                {
                  "0": "126",
                  "1": "Stocker",
                  "2": "4",
                  "3": "2009-02-26",
                  "4": "96"
                },
                {
                  "0": "122",
                  "1": "Stocker",
                  "2": "4",
                  "3": "2008-12-07",
                  "4": "97"
                }
              ]
            },
            "text/html": "<table><tr><th>BusinessEntityID</th><th>JobTitle</th><th>OrganizationLevel</th><th>HireDate</th><th>VacationHours</th></tr><tr><td>1</td><td>Chief Executive Officer</td><td>NULL</td><td>2009-01-14</td><td>99</td></tr><tr><td>88</td><td>Production Technician - WC10</td><td>4</td><td>2009-12-18</td><td>99</td></tr><tr><td>89</td><td>Production Technician - WC10</td><td>4</td><td>2010-02-01</td><td>96</td></tr><tr><td>90</td><td>Production Technician - WC10</td><td>4</td><td>2010-02-20</td><td>97</td></tr><tr><td>91</td><td>Production Technician - WC10</td><td>4</td><td>2010-01-12</td><td>95</td></tr><tr><td>92</td><td>Production Technician - WC10</td><td>4</td><td>2010-03-10</td><td>98</td></tr><tr><td>109</td><td>Production Technician - WC50</td><td>4</td><td>2008-12-07</td><td>95</td></tr><tr><td>113</td><td>Production Technician - WC50</td><td>4</td><td>2008-12-25</td><td>96</td></tr><tr><td>114</td><td>Production Technician - WC50</td><td>4</td><td>2009-01-13</td><td>97</td></tr><tr><td>116</td><td>Production Technician - WC50</td><td>4</td><td>2009-01-31</td><td>98</td></tr><tr><td>117</td><td>Production Technician - WC50</td><td>4</td><td>2009-02-18</td><td>99</td></tr><tr><td>123</td><td>Shipping and Receiving Clerk</td><td>4</td><td>2008-12-07</td><td>95</td></tr><tr><td>124</td><td>Stocker</td><td>4</td><td>2008-12-26</td><td>98</td></tr><tr><td>126</td><td>Stocker</td><td>4</td><td>2009-02-26</td><td>96</td></tr><tr><td>122</td><td>Stocker</td><td>4</td><td>2008-12-07</td><td>97</td></tr></table>"
          },
          "metadata": {}
        }
      ],
      "execution_count": null
    },
    {
      "cell_type": "code",
      "source": [
        "/* DESC demo on string, ORDER BY JobTitle*/\n",
        "\n",
        "SELECT BusinessEntityID, JobTitle, OrganizationLevel, HireDate, VacationHours\n",
        "FROM HumanResources.Employee\n",
        "WHERE VacationHours >= 95\n",
        "ORDER BY JobTitle DESC"
      ],
      "metadata": {
        "azdata_cell_guid": "442eb773-51d5-4318-ad98-012a35e16ec3",
        "language": "sql",
        "id": "iSfsbDJOYNEK",
        "outputId": "2fadc319-824b-41e8-d446-3e3751877d0a"
      },
      "outputs": [
        {
          "output_type": "display_data",
          "data": {
            "text/html": "(15 rows affected)"
          },
          "metadata": {}
        },
        {
          "output_type": "display_data",
          "data": {
            "text/html": "Total execution time: 00:00:00.015"
          },
          "metadata": {}
        },
        {
          "output_type": "execute_result",
          "execution_count": 13,
          "data": {
            "application/vnd.dataresource+json": {
              "schema": {
                "fields": [
                  {
                    "name": "BusinessEntityID"
                  },
                  {
                    "name": "JobTitle"
                  },
                  {
                    "name": "OrganizationLevel"
                  },
                  {
                    "name": "HireDate"
                  },
                  {
                    "name": "VacationHours"
                  }
                ]
              },
              "data": [
                {
                  "0": "122",
                  "1": "Stocker",
                  "2": "4",
                  "3": "2008-12-07",
                  "4": "97"
                },
                {
                  "0": "124",
                  "1": "Stocker",
                  "2": "4",
                  "3": "2008-12-26",
                  "4": "98"
                },
                {
                  "0": "126",
                  "1": "Stocker",
                  "2": "4",
                  "3": "2009-02-26",
                  "4": "96"
                },
                {
                  "0": "123",
                  "1": "Shipping and Receiving Clerk",
                  "2": "4",
                  "3": "2008-12-07",
                  "4": "95"
                },
                {
                  "0": "109",
                  "1": "Production Technician - WC50",
                  "2": "4",
                  "3": "2008-12-07",
                  "4": "95"
                },
                {
                  "0": "113",
                  "1": "Production Technician - WC50",
                  "2": "4",
                  "3": "2008-12-25",
                  "4": "96"
                },
                {
                  "0": "114",
                  "1": "Production Technician - WC50",
                  "2": "4",
                  "3": "2009-01-13",
                  "4": "97"
                },
                {
                  "0": "116",
                  "1": "Production Technician - WC50",
                  "2": "4",
                  "3": "2009-01-31",
                  "4": "98"
                },
                {
                  "0": "117",
                  "1": "Production Technician - WC50",
                  "2": "4",
                  "3": "2009-02-18",
                  "4": "99"
                },
                {
                  "0": "88",
                  "1": "Production Technician - WC10",
                  "2": "4",
                  "3": "2009-12-18",
                  "4": "99"
                },
                {
                  "0": "89",
                  "1": "Production Technician - WC10",
                  "2": "4",
                  "3": "2010-02-01",
                  "4": "96"
                },
                {
                  "0": "90",
                  "1": "Production Technician - WC10",
                  "2": "4",
                  "3": "2010-02-20",
                  "4": "97"
                },
                {
                  "0": "91",
                  "1": "Production Technician - WC10",
                  "2": "4",
                  "3": "2010-01-12",
                  "4": "95"
                },
                {
                  "0": "92",
                  "1": "Production Technician - WC10",
                  "2": "4",
                  "3": "2010-03-10",
                  "4": "98"
                },
                {
                  "0": "1",
                  "1": "Chief Executive Officer",
                  "2": "NULL",
                  "3": "2009-01-14",
                  "4": "99"
                }
              ]
            },
            "text/html": "<table><tr><th>BusinessEntityID</th><th>JobTitle</th><th>OrganizationLevel</th><th>HireDate</th><th>VacationHours</th></tr><tr><td>122</td><td>Stocker</td><td>4</td><td>2008-12-07</td><td>97</td></tr><tr><td>124</td><td>Stocker</td><td>4</td><td>2008-12-26</td><td>98</td></tr><tr><td>126</td><td>Stocker</td><td>4</td><td>2009-02-26</td><td>96</td></tr><tr><td>123</td><td>Shipping and Receiving Clerk</td><td>4</td><td>2008-12-07</td><td>95</td></tr><tr><td>109</td><td>Production Technician - WC50</td><td>4</td><td>2008-12-07</td><td>95</td></tr><tr><td>113</td><td>Production Technician - WC50</td><td>4</td><td>2008-12-25</td><td>96</td></tr><tr><td>114</td><td>Production Technician - WC50</td><td>4</td><td>2009-01-13</td><td>97</td></tr><tr><td>116</td><td>Production Technician - WC50</td><td>4</td><td>2009-01-31</td><td>98</td></tr><tr><td>117</td><td>Production Technician - WC50</td><td>4</td><td>2009-02-18</td><td>99</td></tr><tr><td>88</td><td>Production Technician - WC10</td><td>4</td><td>2009-12-18</td><td>99</td></tr><tr><td>89</td><td>Production Technician - WC10</td><td>4</td><td>2010-02-01</td><td>96</td></tr><tr><td>90</td><td>Production Technician - WC10</td><td>4</td><td>2010-02-20</td><td>97</td></tr><tr><td>91</td><td>Production Technician - WC10</td><td>4</td><td>2010-01-12</td><td>95</td></tr><tr><td>92</td><td>Production Technician - WC10</td><td>4</td><td>2010-03-10</td><td>98</td></tr><tr><td>1</td><td>Chief Executive Officer</td><td>NULL</td><td>2009-01-14</td><td>99</td></tr></table>"
          },
          "metadata": {}
        }
      ],
      "execution_count": null
    },
    {
      "cell_type": "markdown",
      "source": [
        "## GROUP BY\n",
        "\n",
        "It is used with aggregate rows on the query results based on values in one or more columns.\n",
        "\n",
        "It must have at least 1 aggregate functions as company.\n",
        "\n",
        "It has a \"summarize\" effect. Only columns and aggregations in GROUP BY clause can be then put in SELECT clause. \n",
        "\n",
        "## Aggregate functions\n",
        "\n",
        "These functions provide summary statistics about grouped rows in a table specified by GROUP BY clause\n",
        "\n",
        "Aggregate functions in T-SQL are the following: \n",
        "- APPROX_COUNT_DISTINCT (more responsive)\n",
        "- AVG\n",
        "- CHECKSUM_AGG (get sum ignoring NULL)\n",
        "- COUNT\n",
        "- COUNT_BIG\n",
        "- GROUPING (to undo GROUP BY if needed)\n",
        "- GROUPING_ID\n",
        "- MAX\n",
        "- MIN\n",
        "- STDEV\n",
        "- STDEVP\n",
        "- STRING_AGG\n",
        "- SUM\n",
        "- VAR\n",
        "- VARP\n",
        "\n",
        "**It will be a good practice to also give the aggregation column a column name with AS operative word.**\n"
      ],
      "metadata": {
        "azdata_cell_guid": "9b03a1f2-4420-4564-bfb5-05d3b4fd9ca2",
        "id": "8Bvtl52UYNEK"
      }
    },
    {
      "cell_type": "code",
      "source": [
        "/* Get total vacation hours by JobTitle*/\n",
        "\n",
        "SELECT JobTitle, SUM(VacationHours) AS TotalVacationHours\n",
        "FROM HumanResources.Employee\n",
        "WHERE VacationHours >= 95\n",
        "GROUP BY JobTitle\n",
        "ORDER BY JobTitle DESC"
      ],
      "metadata": {
        "azdata_cell_guid": "cf117182-6398-492f-897e-02a44ae39baf",
        "language": "sql",
        "id": "CLSBYI-RYNEL",
        "outputId": "bc7a961a-4ac8-40cd-d9c8-aba1c565b392"
      },
      "outputs": [
        {
          "output_type": "display_data",
          "data": {
            "text/html": "(5 rows affected)"
          },
          "metadata": {}
        },
        {
          "output_type": "display_data",
          "data": {
            "text/html": "Total execution time: 00:00:00.010"
          },
          "metadata": {}
        },
        {
          "output_type": "execute_result",
          "execution_count": 21,
          "data": {
            "application/vnd.dataresource+json": {
              "schema": {
                "fields": [
                  {
                    "name": "JobTitle"
                  },
                  {
                    "name": "TotalVacationHours"
                  }
                ]
              },
              "data": [
                {
                  "0": "Stocker",
                  "1": "291"
                },
                {
                  "0": "Shipping and Receiving Clerk",
                  "1": "95"
                },
                {
                  "0": "Production Technician - WC50",
                  "1": "485"
                },
                {
                  "0": "Production Technician - WC10",
                  "1": "485"
                },
                {
                  "0": "Chief Executive Officer",
                  "1": "99"
                }
              ]
            },
            "text/html": "<table><tr><th>JobTitle</th><th>TotalVacationHours</th></tr><tr><td>Stocker</td><td>291</td></tr><tr><td>Shipping and Receiving Clerk</td><td>95</td></tr><tr><td>Production Technician - WC50</td><td>485</td></tr><tr><td>Production Technician - WC10</td><td>485</td></tr><tr><td>Chief Executive Officer</td><td>99</td></tr></table>"
          },
          "metadata": {}
        }
      ],
      "execution_count": null
    },
    {
      "cell_type": "code",
      "source": [
        "/* Get average vacation hours by JobTitle, for the vacation hours greator or equal to 95 hours*/\n",
        "\n",
        "SELECT JobTitle, AVG(VacationHours) AS AverageVacationHours\n",
        "FROM HumanResources.Employee\n",
        "WHERE VacationHours >= 95\n",
        "GROUP BY JobTitle\n",
        "ORDER BY JobTitle DESC"
      ],
      "metadata": {
        "azdata_cell_guid": "67c77617-09fd-4202-a109-9ec177bace04",
        "language": "sql",
        "id": "1PpoVw0QYNEL",
        "outputId": "a2c2f2cd-3d05-4040-961e-03dbb0f6b7d0"
      },
      "outputs": [
        {
          "output_type": "display_data",
          "data": {
            "text/html": "(5 rows affected)"
          },
          "metadata": {}
        },
        {
          "output_type": "display_data",
          "data": {
            "text/html": "Total execution time: 00:00:00.005"
          },
          "metadata": {}
        },
        {
          "output_type": "execute_result",
          "execution_count": 23,
          "data": {
            "application/vnd.dataresource+json": {
              "schema": {
                "fields": [
                  {
                    "name": "JobTitle"
                  },
                  {
                    "name": "AverageVacationHours"
                  }
                ]
              },
              "data": [
                {
                  "0": "Stocker",
                  "1": "97"
                },
                {
                  "0": "Shipping and Receiving Clerk",
                  "1": "95"
                },
                {
                  "0": "Production Technician - WC50",
                  "1": "97"
                },
                {
                  "0": "Production Technician - WC10",
                  "1": "97"
                },
                {
                  "0": "Chief Executive Officer",
                  "1": "99"
                }
              ]
            },
            "text/html": "<table><tr><th>JobTitle</th><th>AverageVacationHours</th></tr><tr><td>Stocker</td><td>97</td></tr><tr><td>Shipping and Receiving Clerk</td><td>95</td></tr><tr><td>Production Technician - WC50</td><td>97</td></tr><tr><td>Production Technician - WC10</td><td>97</td></tr><tr><td>Chief Executive Officer</td><td>99</td></tr></table>"
          },
          "metadata": {}
        }
      ],
      "execution_count": null
    },
    {
      "cell_type": "code",
      "source": [
        "/* Get maximum vacation hours by JobTitle, for the vacation hours greator or equal to 95 hours*/\n",
        "\n",
        "SELECT JobTitle, MAX(VacationHours) AS MaxVacationHours\n",
        "FROM HumanResources.Employee\n",
        "WHERE VacationHours >= 95\n",
        "GROUP BY JobTitle\n",
        "ORDER BY JobTitle DESC"
      ],
      "metadata": {
        "azdata_cell_guid": "d5f8adee-8cb8-4ae5-8bbf-df5f6920e261",
        "language": "sql",
        "id": "_jHtC-VHYNEL",
        "outputId": "dcdfa825-79c9-4c73-e8f6-3dff15892cac"
      },
      "outputs": [
        {
          "output_type": "display_data",
          "data": {
            "text/html": "(5 rows affected)"
          },
          "metadata": {}
        },
        {
          "output_type": "display_data",
          "data": {
            "text/html": "Total execution time: 00:00:00.010"
          },
          "metadata": {}
        },
        {
          "output_type": "execute_result",
          "execution_count": 24,
          "data": {
            "application/vnd.dataresource+json": {
              "schema": {
                "fields": [
                  {
                    "name": "JobTitle"
                  },
                  {
                    "name": "MaxVacationHours"
                  }
                ]
              },
              "data": [
                {
                  "0": "Stocker",
                  "1": "98"
                },
                {
                  "0": "Shipping and Receiving Clerk",
                  "1": "95"
                },
                {
                  "0": "Production Technician - WC50",
                  "1": "99"
                },
                {
                  "0": "Production Technician - WC10",
                  "1": "99"
                },
                {
                  "0": "Chief Executive Officer",
                  "1": "99"
                }
              ]
            },
            "text/html": "<table><tr><th>JobTitle</th><th>MaxVacationHours</th></tr><tr><td>Stocker</td><td>98</td></tr><tr><td>Shipping and Receiving Clerk</td><td>95</td></tr><tr><td>Production Technician - WC50</td><td>99</td></tr><tr><td>Production Technician - WC10</td><td>99</td></tr><tr><td>Chief Executive Officer</td><td>99</td></tr></table>"
          },
          "metadata": {}
        }
      ],
      "execution_count": null
    },
    {
      "cell_type": "code",
      "source": [
        "/* Get minimum vacation hours by JobTitle, for the vacation hours greator or equal to 95 hours*/\n",
        "\n",
        "SELECT JobTitle, MIN(VacationHours) AS MinVacationHours\n",
        "FROM HumanResources.Employee\n",
        "WHERE VacationHours >= 95\n",
        "GROUP BY JobTitle\n",
        "ORDER BY JobTitle DESC"
      ],
      "metadata": {
        "language": "sql",
        "azdata_cell_guid": "f4c461bd-98b9-4b4d-8d93-5fa117247dd4",
        "id": "paMVld4TYNEL",
        "outputId": "cbe81e33-aac7-4f37-9542-532c3de4e54d"
      },
      "outputs": [
        {
          "output_type": "display_data",
          "data": {
            "text/html": "(5 rows affected)"
          },
          "metadata": {}
        },
        {
          "output_type": "display_data",
          "data": {
            "text/html": "Total execution time: 00:00:00.006"
          },
          "metadata": {}
        },
        {
          "output_type": "execute_result",
          "execution_count": 25,
          "data": {
            "application/vnd.dataresource+json": {
              "schema": {
                "fields": [
                  {
                    "name": "JobTitle"
                  },
                  {
                    "name": "MinVacationHours"
                  }
                ]
              },
              "data": [
                {
                  "0": "Stocker",
                  "1": "96"
                },
                {
                  "0": "Shipping and Receiving Clerk",
                  "1": "95"
                },
                {
                  "0": "Production Technician - WC50",
                  "1": "95"
                },
                {
                  "0": "Production Technician - WC10",
                  "1": "95"
                },
                {
                  "0": "Chief Executive Officer",
                  "1": "99"
                }
              ]
            },
            "text/html": "<table><tr><th>JobTitle</th><th>MinVacationHours</th></tr><tr><td>Stocker</td><td>96</td></tr><tr><td>Shipping and Receiving Clerk</td><td>95</td></tr><tr><td>Production Technician - WC50</td><td>95</td></tr><tr><td>Production Technician - WC10</td><td>95</td></tr><tr><td>Chief Executive Officer</td><td>99</td></tr></table>"
          },
          "metadata": {}
        }
      ],
      "execution_count": null
    },
    {
      "cell_type": "code",
      "source": [
        "/* Get count of employees by JobTitle, for the vacation hours greator or equal to 95 hours*/\n",
        "\n",
        "SELECT JobTitle, COUNT(BusinessEntityID) AS NumEmployee\n",
        "FROM HumanResources.Employee\n",
        "WHERE VacationHours >= 95\n",
        "GROUP BY JobTitle\n",
        "ORDER BY JobTitle DESC"
      ],
      "metadata": {
        "language": "sql",
        "azdata_cell_guid": "df73d5f2-73bb-450c-9b8b-973daa27cb83",
        "id": "ytI5PMV2YNEL",
        "outputId": "1f0b81d9-cd87-4f34-968e-40d5c35487bb"
      },
      "outputs": [
        {
          "output_type": "display_data",
          "data": {
            "text/html": "(5 rows affected)"
          },
          "metadata": {}
        },
        {
          "output_type": "display_data",
          "data": {
            "text/html": "Total execution time: 00:00:00.008"
          },
          "metadata": {}
        },
        {
          "output_type": "execute_result",
          "execution_count": 26,
          "data": {
            "application/vnd.dataresource+json": {
              "schema": {
                "fields": [
                  {
                    "name": "JobTitle"
                  },
                  {
                    "name": "NumEmployee"
                  }
                ]
              },
              "data": [
                {
                  "0": "Stocker",
                  "1": "3"
                },
                {
                  "0": "Shipping and Receiving Clerk",
                  "1": "1"
                },
                {
                  "0": "Production Technician - WC50",
                  "1": "5"
                },
                {
                  "0": "Production Technician - WC10",
                  "1": "5"
                },
                {
                  "0": "Chief Executive Officer",
                  "1": "1"
                }
              ]
            },
            "text/html": "<table><tr><th>JobTitle</th><th>NumEmployee</th></tr><tr><td>Stocker</td><td>3</td></tr><tr><td>Shipping and Receiving Clerk</td><td>1</td></tr><tr><td>Production Technician - WC50</td><td>5</td></tr><tr><td>Production Technician - WC10</td><td>5</td></tr><tr><td>Chief Executive Officer</td><td>1</td></tr></table>"
          },
          "metadata": {}
        }
      ],
      "execution_count": null
    },
    {
      "cell_type": "markdown",
      "source": [
        "## DISTINCT\n",
        "\n",
        "A operative word to select a column without showing repetitive values\n",
        "\n"
      ],
      "metadata": {
        "language": "sql",
        "azdata_cell_guid": "648ad0e9-f46c-4cb1-8a90-2c36cf2ae4cb",
        "id": "WbrfzPGsYNEM"
      }
    },
    {
      "cell_type": "code",
      "source": [
        "/* Get unique JobTitle and Gender, for the vacation hours greator or equal to 95 hours*/\n",
        "\n",
        "SELECT DISTINCT JobTitle, Gender\n",
        "FROM HumanResources.Employee\n",
        "WHERE VacationHours >= 95\n",
        "ORDER BY JobTitle DESC"
      ],
      "metadata": {
        "language": "sql",
        "azdata_cell_guid": "1906682e-7095-4e28-bccf-1d3a99d455f9",
        "id": "KWW3jbkYYNEM",
        "outputId": "28f6f3e3-7db5-4ed7-ce37-61f1e136802f"
      },
      "outputs": [
        {
          "output_type": "display_data",
          "data": {
            "text/html": "(8 rows affected)"
          },
          "metadata": {}
        },
        {
          "output_type": "display_data",
          "data": {
            "text/html": "Total execution time: 00:00:00.007"
          },
          "metadata": {}
        },
        {
          "output_type": "execute_result",
          "execution_count": 39,
          "data": {
            "application/vnd.dataresource+json": {
              "schema": {
                "fields": [
                  {
                    "name": "JobTitle"
                  },
                  {
                    "name": "Gender"
                  }
                ]
              },
              "data": [
                {
                  "0": "Stocker",
                  "1": "F"
                },
                {
                  "0": "Stocker",
                  "1": "M"
                },
                {
                  "0": "Shipping and Receiving Clerk",
                  "1": "M"
                },
                {
                  "0": "Production Technician - WC50",
                  "1": "F"
                },
                {
                  "0": "Production Technician - WC50",
                  "1": "M"
                },
                {
                  "0": "Production Technician - WC10",
                  "1": "F"
                },
                {
                  "0": "Production Technician - WC10",
                  "1": "M"
                },
                {
                  "0": "Chief Executive Officer",
                  "1": "M"
                }
              ]
            },
            "text/html": "<table><tr><th>JobTitle</th><th>Gender</th></tr><tr><td>Stocker</td><td>F</td></tr><tr><td>Stocker</td><td>M</td></tr><tr><td>Shipping and Receiving Clerk</td><td>M</td></tr><tr><td>Production Technician - WC50</td><td>F</td></tr><tr><td>Production Technician - WC50</td><td>M</td></tr><tr><td>Production Technician - WC10</td><td>F</td></tr><tr><td>Production Technician - WC10</td><td>M</td></tr><tr><td>Chief Executive Officer</td><td>M</td></tr></table>"
          },
          "metadata": {}
        }
      ],
      "execution_count": null
    },
    {
      "cell_type": "code",
      "source": [
        "/* Get count of organization level by JobTitle, for the vacation hours greator or equal to 95 hours*/\n",
        "\n",
        "SELECT JobTitle, COUNT(DISTINCT OrganizationLevel) AS NumOrganizationLevel\n",
        "FROM HumanResources.Employee\n",
        "WHERE VacationHours >= 95\n",
        "GROUP BY JobTitle\n",
        "ORDER BY JobTitle DESC"
      ],
      "metadata": {
        "language": "sql",
        "azdata_cell_guid": "d2b3f116-79df-45d9-bc26-77bf223090b7",
        "id": "WcaRzsJmYNEM",
        "outputId": "9839df14-9aa8-48da-aa5d-16a882ccb99c"
      },
      "outputs": [
        {
          "output_type": "display_data",
          "data": {
            "text/html": "Warning: Null value is eliminated by an aggregate or other SET operation."
          },
          "metadata": {}
        },
        {
          "output_type": "display_data",
          "data": {
            "text/html": "(5 rows affected)"
          },
          "metadata": {}
        },
        {
          "output_type": "display_data",
          "data": {
            "text/html": "Total execution time: 00:00:00.013"
          },
          "metadata": {}
        },
        {
          "output_type": "execute_result",
          "execution_count": 28,
          "data": {
            "application/vnd.dataresource+json": {
              "schema": {
                "fields": [
                  {
                    "name": "JobTitle"
                  },
                  {
                    "name": "NumOrganizationLevel"
                  }
                ]
              },
              "data": [
                {
                  "0": "Stocker",
                  "1": "1"
                },
                {
                  "0": "Shipping and Receiving Clerk",
                  "1": "1"
                },
                {
                  "0": "Production Technician - WC50",
                  "1": "1"
                },
                {
                  "0": "Production Technician - WC10",
                  "1": "1"
                },
                {
                  "0": "Chief Executive Officer",
                  "1": "0"
                }
              ]
            },
            "text/html": "<table><tr><th>JobTitle</th><th>NumOrganizationLevel</th></tr><tr><td>Stocker</td><td>1</td></tr><tr><td>Shipping and Receiving Clerk</td><td>1</td></tr><tr><td>Production Technician - WC50</td><td>1</td></tr><tr><td>Production Technician - WC10</td><td>1</td></tr><tr><td>Chief Executive Officer</td><td>0</td></tr></table>"
          },
          "metadata": {}
        }
      ],
      "execution_count": null
    },
    {
      "cell_type": "markdown",
      "source": [
        "## JOIN\n",
        "\n",
        "Connects 2 or more tables through the Primary Key and Foreign Key relationships.\n",
        "\n",
        "This is how related tables connect one another and become more informational."
      ],
      "metadata": {
        "language": "sql",
        "azdata_cell_guid": "5b015d44-12ab-4991-b80e-a9c1b80c7f48",
        "id": "vFTR2lxvYNEM"
      }
    },
    {
      "cell_type": "code",
      "source": [
        "/* select a few employees in the HumanResources.EmployeePayHistory table */\n",
        "\n",
        "SELECT *\n",
        "FROM HumanResources.EmployeePayHistory\n",
        "WHERE BusinessEntityID IN (1,2,3,4,5)"
      ],
      "metadata": {
        "language": "sql",
        "azdata_cell_guid": "92465bbc-056c-4a99-bf55-913dd23e8d97",
        "id": "H0NuEWHCYNEM",
        "outputId": "3aa8bd4b-5392-4dec-efb0-fb5bbb5ea9a5"
      },
      "outputs": [
        {
          "output_type": "display_data",
          "data": {
            "text/html": "(7 rows affected)"
          },
          "metadata": {}
        },
        {
          "output_type": "display_data",
          "data": {
            "text/html": "Total execution time: 00:00:00.007"
          },
          "metadata": {}
        },
        {
          "output_type": "execute_result",
          "execution_count": 54,
          "data": {
            "application/vnd.dataresource+json": {
              "schema": {
                "fields": [
                  {
                    "name": "BusinessEntityID"
                  },
                  {
                    "name": "RateChangeDate"
                  },
                  {
                    "name": "Rate"
                  },
                  {
                    "name": "PayFrequency"
                  },
                  {
                    "name": "ModifiedDate"
                  }
                ]
              },
              "data": [
                {
                  "0": "1",
                  "1": "2009-01-14 00:00:00.000",
                  "2": "125.50",
                  "3": "2",
                  "4": "2014-06-30 00:00:00.000"
                },
                {
                  "0": "2",
                  "1": "2008-01-31 00:00:00.000",
                  "2": "63.4615",
                  "3": "2",
                  "4": "2014-06-30 00:00:00.000"
                },
                {
                  "0": "3",
                  "1": "2007-11-11 00:00:00.000",
                  "2": "43.2692",
                  "3": "2",
                  "4": "2014-06-30 00:00:00.000"
                },
                {
                  "0": "4",
                  "1": "2007-12-05 00:00:00.000",
                  "2": "8.62",
                  "3": "2",
                  "4": "2007-11-21 00:00:00.000"
                },
                {
                  "0": "4",
                  "1": "2010-05-31 00:00:00.000",
                  "2": "23.72",
                  "3": "2",
                  "4": "2010-05-16 00:00:00.000"
                },
                {
                  "0": "4",
                  "1": "2011-12-15 00:00:00.000",
                  "2": "29.8462",
                  "3": "2",
                  "4": "2011-12-01 00:00:00.000"
                },
                {
                  "0": "5",
                  "1": "2008-01-06 00:00:00.000",
                  "2": "32.6923",
                  "3": "2",
                  "4": "2014-06-30 00:00:00.000"
                }
              ]
            },
            "text/html": "<table><tr><th>BusinessEntityID</th><th>RateChangeDate</th><th>Rate</th><th>PayFrequency</th><th>ModifiedDate</th></tr><tr><td>1</td><td>2009-01-14 00:00:00.000</td><td>125.50</td><td>2</td><td>2014-06-30 00:00:00.000</td></tr><tr><td>2</td><td>2008-01-31 00:00:00.000</td><td>63.4615</td><td>2</td><td>2014-06-30 00:00:00.000</td></tr><tr><td>3</td><td>2007-11-11 00:00:00.000</td><td>43.2692</td><td>2</td><td>2014-06-30 00:00:00.000</td></tr><tr><td>4</td><td>2007-12-05 00:00:00.000</td><td>8.62</td><td>2</td><td>2007-11-21 00:00:00.000</td></tr><tr><td>4</td><td>2010-05-31 00:00:00.000</td><td>23.72</td><td>2</td><td>2010-05-16 00:00:00.000</td></tr><tr><td>4</td><td>2011-12-15 00:00:00.000</td><td>29.8462</td><td>2</td><td>2011-12-01 00:00:00.000</td></tr><tr><td>5</td><td>2008-01-06 00:00:00.000</td><td>32.6923</td><td>2</td><td>2014-06-30 00:00:00.000</td></tr></table>"
          },
          "metadata": {}
        }
      ],
      "execution_count": null
    },
    {
      "cell_type": "code",
      "source": [
        "/* select the same 5 employees in the HumanResources.Employee table */\n",
        "\n",
        "SELECT BusinessEntityID, JobTitle, OrganizationLevel, Gender, SalariedFlag\n",
        "FROM HumanResources.Employee\n",
        "WHERE BusinessEntityID IN (1,2,3,4,5)"
      ],
      "metadata": {
        "language": "sql",
        "azdata_cell_guid": "db9abcff-9772-4736-9521-f470eb1aedc5",
        "id": "Ngq4gYNsYNEM",
        "outputId": "86358a11-0640-42dc-e949-d5fd971ed1dd"
      },
      "outputs": [
        {
          "output_type": "display_data",
          "data": {
            "text/html": "(5 rows affected)"
          },
          "metadata": {}
        },
        {
          "output_type": "display_data",
          "data": {
            "text/html": "Total execution time: 00:00:00.017"
          },
          "metadata": {}
        },
        {
          "output_type": "execute_result",
          "execution_count": 57,
          "data": {
            "application/vnd.dataresource+json": {
              "schema": {
                "fields": [
                  {
                    "name": "BusinessEntityID"
                  },
                  {
                    "name": "JobTitle"
                  },
                  {
                    "name": "OrganizationLevel"
                  },
                  {
                    "name": "Gender"
                  },
                  {
                    "name": "SalariedFlag"
                  }
                ]
              },
              "data": [
                {
                  "0": "1",
                  "1": "Chief Executive Officer",
                  "2": "NULL",
                  "3": "M",
                  "4": "1"
                },
                {
                  "0": "2",
                  "1": "Vice President of Engineering",
                  "2": "1",
                  "3": "F",
                  "4": "1"
                },
                {
                  "0": "3",
                  "1": "Engineering Manager",
                  "2": "2",
                  "3": "M",
                  "4": "1"
                },
                {
                  "0": "4",
                  "1": "Senior Tool Designer",
                  "2": "3",
                  "3": "M",
                  "4": "0"
                },
                {
                  "0": "5",
                  "1": "Design Engineer",
                  "2": "3",
                  "3": "F",
                  "4": "1"
                }
              ]
            },
            "text/html": "<table><tr><th>BusinessEntityID</th><th>JobTitle</th><th>OrganizationLevel</th><th>Gender</th><th>SalariedFlag</th></tr><tr><td>1</td><td>Chief Executive Officer</td><td>NULL</td><td>M</td><td>1</td></tr><tr><td>2</td><td>Vice President of Engineering</td><td>1</td><td>F</td><td>1</td></tr><tr><td>3</td><td>Engineering Manager</td><td>2</td><td>M</td><td>1</td></tr><tr><td>4</td><td>Senior Tool Designer</td><td>3</td><td>M</td><td>0</td></tr><tr><td>5</td><td>Design Engineer</td><td>3</td><td>F</td><td>1</td></tr></table>"
          },
          "metadata": {}
        }
      ],
      "execution_count": null
    },
    {
      "cell_type": "markdown",
      "source": [
        "### Ambiguity\n",
        "\n",
        "Because it is almost certain that you have the same column names from different tables, when you bring all of the column names while writing the same quiry, the computer (SQL Server) will be confused... This is called syntax ambiguity. \n",
        "\n",
        "To resolve it, we need to explicitly tell which table and which column we are targeting at: HumanResources.EmployeePayHistory.BusinessEntityID"
      ],
      "metadata": {
        "language": "sql",
        "azdata_cell_guid": "ec21a8e0-e882-43b9-9105-0ee0b8aa6231",
        "id": "akpK5sa8YNEN"
      }
    },
    {
      "cell_type": "code",
      "source": [
        "/* extend the HumanResources.EmployeePayHistory with the HumanResources.Employee together */\n",
        "\n",
        "SELECT *\n",
        "FROM HumanResources.EmployeePayHistory\n",
        "JOIN HumanResources.Employee ON HumanResources.EmployeePayHistory.BusinessEntityID = HumanResources.Employee.BusinessEntityID\n",
        "WHERE HumanResources.EmployeePayHistory.BusinessEntityID IN (1,2,3,4,5)"
      ],
      "metadata": {
        "language": "sql",
        "azdata_cell_guid": "0a710751-1aa3-4ca2-820b-84243478df79",
        "id": "r76mBWkHYNEN",
        "outputId": "582fef73-ff50-44bf-ba94-4c096209e08f"
      },
      "outputs": [
        {
          "output_type": "display_data",
          "data": {
            "text/html": "(7 rows affected)"
          },
          "metadata": {}
        },
        {
          "output_type": "display_data",
          "data": {
            "text/html": "Total execution time: 00:00:00.017"
          },
          "metadata": {}
        },
        {
          "output_type": "execute_result",
          "execution_count": 58,
          "data": {
            "application/vnd.dataresource+json": {
              "schema": {
                "fields": [
                  {
                    "name": "BusinessEntityID"
                  },
                  {
                    "name": "RateChangeDate"
                  },
                  {
                    "name": "Rate"
                  },
                  {
                    "name": "PayFrequency"
                  },
                  {
                    "name": "ModifiedDate"
                  },
                  {
                    "name": "BusinessEntityID"
                  },
                  {
                    "name": "NationalIDNumber"
                  },
                  {
                    "name": "LoginID"
                  },
                  {
                    "name": "OrganizationNode"
                  },
                  {
                    "name": "OrganizationLevel"
                  },
                  {
                    "name": "JobTitle"
                  },
                  {
                    "name": "BirthDate"
                  },
                  {
                    "name": "MaritalStatus"
                  },
                  {
                    "name": "Gender"
                  },
                  {
                    "name": "HireDate"
                  },
                  {
                    "name": "SalariedFlag"
                  },
                  {
                    "name": "VacationHours"
                  },
                  {
                    "name": "SickLeaveHours"
                  },
                  {
                    "name": "CurrentFlag"
                  },
                  {
                    "name": "rowguid"
                  },
                  {
                    "name": "ModifiedDate"
                  }
                ]
              },
              "data": [
                {
                  "0": "1",
                  "1": "2009-01-14 00:00:00.000",
                  "2": "125.50",
                  "3": "2",
                  "4": "2014-06-30 00:00:00.000",
                  "5": "1",
                  "6": "295847284",
                  "7": "adventure-works\\ken0",
                  "8": "NULL",
                  "9": "NULL",
                  "10": "Chief Executive Officer",
                  "11": "1969-01-29",
                  "12": "S",
                  "13": "M",
                  "14": "2009-01-14",
                  "15": "1",
                  "16": "99",
                  "17": "69",
                  "18": "1",
                  "19": "f01251e5-96a3-448d-981e-0f99d789110d",
                  "20": "2014-06-30 00:00:00.000"
                },
                {
                  "0": "2",
                  "1": "2008-01-31 00:00:00.000",
                  "2": "63.4615",
                  "3": "2",
                  "4": "2014-06-30 00:00:00.000",
                  "5": "2",
                  "6": "245797967",
                  "7": "adventure-works\\terri0",
                  "8": "0x58",
                  "9": "1",
                  "10": "Vice President of Engineering",
                  "11": "1971-08-01",
                  "12": "S",
                  "13": "F",
                  "14": "2008-01-31",
                  "15": "1",
                  "16": "1",
                  "17": "20",
                  "18": "1",
                  "19": "45e8f437-670d-4409-93cb-f9424a40d6ee",
                  "20": "2014-06-30 00:00:00.000"
                },
                {
                  "0": "3",
                  "1": "2007-11-11 00:00:00.000",
                  "2": "43.2692",
                  "3": "2",
                  "4": "2014-06-30 00:00:00.000",
                  "5": "3",
                  "6": "509647174",
                  "7": "adventure-works\\roberto0",
                  "8": "0x5AC0",
                  "9": "2",
                  "10": "Engineering Manager",
                  "11": "1974-11-12",
                  "12": "M",
                  "13": "M",
                  "14": "2007-11-11",
                  "15": "1",
                  "16": "2",
                  "17": "21",
                  "18": "1",
                  "19": "9bbbfb2c-efbb-4217-9ab7-f97689328841",
                  "20": "2014-06-30 00:00:00.000"
                },
                {
                  "0": "4",
                  "1": "2007-12-05 00:00:00.000",
                  "2": "8.62",
                  "3": "2",
                  "4": "2007-11-21 00:00:00.000",
                  "5": "4",
                  "6": "112457891",
                  "7": "adventure-works\\rob0",
                  "8": "0x5AD6",
                  "9": "3",
                  "10": "Senior Tool Designer",
                  "11": "1974-12-23",
                  "12": "S",
                  "13": "M",
                  "14": "2007-12-05",
                  "15": "0",
                  "16": "48",
                  "17": "80",
                  "18": "1",
                  "19": "59747955-87b8-443f-8ed4-f8ad3afdf3a9",
                  "20": "2014-06-30 00:00:00.000"
                },
                {
                  "0": "4",
                  "1": "2010-05-31 00:00:00.000",
                  "2": "23.72",
                  "3": "2",
                  "4": "2010-05-16 00:00:00.000",
                  "5": "4",
                  "6": "112457891",
                  "7": "adventure-works\\rob0",
                  "8": "0x5AD6",
                  "9": "3",
                  "10": "Senior Tool Designer",
                  "11": "1974-12-23",
                  "12": "S",
                  "13": "M",
                  "14": "2007-12-05",
                  "15": "0",
                  "16": "48",
                  "17": "80",
                  "18": "1",
                  "19": "59747955-87b8-443f-8ed4-f8ad3afdf3a9",
                  "20": "2014-06-30 00:00:00.000"
                },
                {
                  "0": "4",
                  "1": "2011-12-15 00:00:00.000",
                  "2": "29.8462",
                  "3": "2",
                  "4": "2011-12-01 00:00:00.000",
                  "5": "4",
                  "6": "112457891",
                  "7": "adventure-works\\rob0",
                  "8": "0x5AD6",
                  "9": "3",
                  "10": "Senior Tool Designer",
                  "11": "1974-12-23",
                  "12": "S",
                  "13": "M",
                  "14": "2007-12-05",
                  "15": "0",
                  "16": "48",
                  "17": "80",
                  "18": "1",
                  "19": "59747955-87b8-443f-8ed4-f8ad3afdf3a9",
                  "20": "2014-06-30 00:00:00.000"
                },
                {
                  "0": "5",
                  "1": "2008-01-06 00:00:00.000",
                  "2": "32.6923",
                  "3": "2",
                  "4": "2014-06-30 00:00:00.000",
                  "5": "5",
                  "6": "695256908",
                  "7": "adventure-works\\gail0",
                  "8": "0x5ADA",
                  "9": "3",
                  "10": "Design Engineer",
                  "11": "1952-09-27",
                  "12": "M",
                  "13": "F",
                  "14": "2008-01-06",
                  "15": "1",
                  "16": "5",
                  "17": "22",
                  "18": "1",
                  "19": "ec84ae09-f9b8-4a15-b4a9-6ccbab919b08",
                  "20": "2014-06-30 00:00:00.000"
                }
              ]
            },
            "text/html": "<table><tr><th>BusinessEntityID</th><th>RateChangeDate</th><th>Rate</th><th>PayFrequency</th><th>ModifiedDate</th><th>BusinessEntityID</th><th>NationalIDNumber</th><th>LoginID</th><th>OrganizationNode</th><th>OrganizationLevel</th><th>JobTitle</th><th>BirthDate</th><th>MaritalStatus</th><th>Gender</th><th>HireDate</th><th>SalariedFlag</th><th>VacationHours</th><th>SickLeaveHours</th><th>CurrentFlag</th><th>rowguid</th><th>ModifiedDate</th></tr><tr><td>1</td><td>2009-01-14 00:00:00.000</td><td>125.50</td><td>2</td><td>2014-06-30 00:00:00.000</td><td>1</td><td>295847284</td><td>adventure-works\\ken0</td><td>NULL</td><td>NULL</td><td>Chief Executive Officer</td><td>1969-01-29</td><td>S</td><td>M</td><td>2009-01-14</td><td>1</td><td>99</td><td>69</td><td>1</td><td>f01251e5-96a3-448d-981e-0f99d789110d</td><td>2014-06-30 00:00:00.000</td></tr><tr><td>2</td><td>2008-01-31 00:00:00.000</td><td>63.4615</td><td>2</td><td>2014-06-30 00:00:00.000</td><td>2</td><td>245797967</td><td>adventure-works\\terri0</td><td>0x58</td><td>1</td><td>Vice President of Engineering</td><td>1971-08-01</td><td>S</td><td>F</td><td>2008-01-31</td><td>1</td><td>1</td><td>20</td><td>1</td><td>45e8f437-670d-4409-93cb-f9424a40d6ee</td><td>2014-06-30 00:00:00.000</td></tr><tr><td>3</td><td>2007-11-11 00:00:00.000</td><td>43.2692</td><td>2</td><td>2014-06-30 00:00:00.000</td><td>3</td><td>509647174</td><td>adventure-works\\roberto0</td><td>0x5AC0</td><td>2</td><td>Engineering Manager</td><td>1974-11-12</td><td>M</td><td>M</td><td>2007-11-11</td><td>1</td><td>2</td><td>21</td><td>1</td><td>9bbbfb2c-efbb-4217-9ab7-f97689328841</td><td>2014-06-30 00:00:00.000</td></tr><tr><td>4</td><td>2007-12-05 00:00:00.000</td><td>8.62</td><td>2</td><td>2007-11-21 00:00:00.000</td><td>4</td><td>112457891</td><td>adventure-works\\rob0</td><td>0x5AD6</td><td>3</td><td>Senior Tool Designer</td><td>1974-12-23</td><td>S</td><td>M</td><td>2007-12-05</td><td>0</td><td>48</td><td>80</td><td>1</td><td>59747955-87b8-443f-8ed4-f8ad3afdf3a9</td><td>2014-06-30 00:00:00.000</td></tr><tr><td>4</td><td>2010-05-31 00:00:00.000</td><td>23.72</td><td>2</td><td>2010-05-16 00:00:00.000</td><td>4</td><td>112457891</td><td>adventure-works\\rob0</td><td>0x5AD6</td><td>3</td><td>Senior Tool Designer</td><td>1974-12-23</td><td>S</td><td>M</td><td>2007-12-05</td><td>0</td><td>48</td><td>80</td><td>1</td><td>59747955-87b8-443f-8ed4-f8ad3afdf3a9</td><td>2014-06-30 00:00:00.000</td></tr><tr><td>4</td><td>2011-12-15 00:00:00.000</td><td>29.8462</td><td>2</td><td>2011-12-01 00:00:00.000</td><td>4</td><td>112457891</td><td>adventure-works\\rob0</td><td>0x5AD6</td><td>3</td><td>Senior Tool Designer</td><td>1974-12-23</td><td>S</td><td>M</td><td>2007-12-05</td><td>0</td><td>48</td><td>80</td><td>1</td><td>59747955-87b8-443f-8ed4-f8ad3afdf3a9</td><td>2014-06-30 00:00:00.000</td></tr><tr><td>5</td><td>2008-01-06 00:00:00.000</td><td>32.6923</td><td>2</td><td>2014-06-30 00:00:00.000</td><td>5</td><td>695256908</td><td>adventure-works\\gail0</td><td>0x5ADA</td><td>3</td><td>Design Engineer</td><td>1952-09-27</td><td>M</td><td>F</td><td>2008-01-06</td><td>1</td><td>5</td><td>22</td><td>1</td><td>ec84ae09-f9b8-4a15-b4a9-6ccbab919b08</td><td>2014-06-30 00:00:00.000</td></tr></table>"
          },
          "metadata": {}
        }
      ],
      "execution_count": null
    },
    {
      "cell_type": "code",
      "source": [
        "/* too many columns, we will only select a few useful columns here */\n",
        "\n",
        "SELECT HumanResources.EmployeePayHistory.BusinessEntityID, \n",
        "HumanResources.EmployeePayHistory.RateChangeDate, \n",
        "HumanResources.EmployeePayHistory.Rate, \n",
        "HumanResources.EmployeePayHistory.PayFrequency,\n",
        "HumanResources.Employee.JobTitle,\n",
        "HumanResources.Employee.Gender,\n",
        "HumanResources.Employee.HireDate,\n",
        "HumanResources.Employee.SalariedFlag \n",
        "FROM HumanResources.EmployeePayHistory\n",
        "LEFT JOIN HumanResources.Employee ON HumanResources.EmployeePayHistory.BusinessEntityID = HumanResources.Employee.BusinessEntityID\n",
        "WHERE HumanResources.EmployeePayHistory.BusinessEntityID IN (1,2,3,4,5)"
      ],
      "metadata": {
        "language": "sql",
        "azdata_cell_guid": "d173efa5-f74f-42a2-9ea0-0f19e8915e41",
        "id": "05caYDTpYNEN",
        "outputId": "9129f411-f9b0-451f-9601-59c24493075a"
      },
      "outputs": [
        {
          "output_type": "display_data",
          "data": {
            "text/html": "(7 rows affected)"
          },
          "metadata": {}
        },
        {
          "output_type": "display_data",
          "data": {
            "text/html": "Total execution time: 00:00:00.011"
          },
          "metadata": {}
        },
        {
          "output_type": "execute_result",
          "execution_count": 64,
          "data": {
            "application/vnd.dataresource+json": {
              "schema": {
                "fields": [
                  {
                    "name": "BusinessEntityID"
                  },
                  {
                    "name": "RateChangeDate"
                  },
                  {
                    "name": "Rate"
                  },
                  {
                    "name": "PayFrequency"
                  },
                  {
                    "name": "JobTitle"
                  },
                  {
                    "name": "Gender"
                  },
                  {
                    "name": "HireDate"
                  },
                  {
                    "name": "SalariedFlag"
                  }
                ]
              },
              "data": [
                {
                  "0": "1",
                  "1": "2009-01-14 00:00:00.000",
                  "2": "125.50",
                  "3": "2",
                  "4": "Chief Executive Officer",
                  "5": "M",
                  "6": "2009-01-14",
                  "7": "1"
                },
                {
                  "0": "2",
                  "1": "2008-01-31 00:00:00.000",
                  "2": "63.4615",
                  "3": "2",
                  "4": "Vice President of Engineering",
                  "5": "F",
                  "6": "2008-01-31",
                  "7": "1"
                },
                {
                  "0": "3",
                  "1": "2007-11-11 00:00:00.000",
                  "2": "43.2692",
                  "3": "2",
                  "4": "Engineering Manager",
                  "5": "M",
                  "6": "2007-11-11",
                  "7": "1"
                },
                {
                  "0": "4",
                  "1": "2007-12-05 00:00:00.000",
                  "2": "8.62",
                  "3": "2",
                  "4": "Senior Tool Designer",
                  "5": "M",
                  "6": "2007-12-05",
                  "7": "0"
                },
                {
                  "0": "4",
                  "1": "2010-05-31 00:00:00.000",
                  "2": "23.72",
                  "3": "2",
                  "4": "Senior Tool Designer",
                  "5": "M",
                  "6": "2007-12-05",
                  "7": "0"
                },
                {
                  "0": "4",
                  "1": "2011-12-15 00:00:00.000",
                  "2": "29.8462",
                  "3": "2",
                  "4": "Senior Tool Designer",
                  "5": "M",
                  "6": "2007-12-05",
                  "7": "0"
                },
                {
                  "0": "5",
                  "1": "2008-01-06 00:00:00.000",
                  "2": "32.6923",
                  "3": "2",
                  "4": "Design Engineer",
                  "5": "F",
                  "6": "2008-01-06",
                  "7": "1"
                }
              ]
            },
            "text/html": "<table><tr><th>BusinessEntityID</th><th>RateChangeDate</th><th>Rate</th><th>PayFrequency</th><th>JobTitle</th><th>Gender</th><th>HireDate</th><th>SalariedFlag</th></tr><tr><td>1</td><td>2009-01-14 00:00:00.000</td><td>125.50</td><td>2</td><td>Chief Executive Officer</td><td>M</td><td>2009-01-14</td><td>1</td></tr><tr><td>2</td><td>2008-01-31 00:00:00.000</td><td>63.4615</td><td>2</td><td>Vice President of Engineering</td><td>F</td><td>2008-01-31</td><td>1</td></tr><tr><td>3</td><td>2007-11-11 00:00:00.000</td><td>43.2692</td><td>2</td><td>Engineering Manager</td><td>M</td><td>2007-11-11</td><td>1</td></tr><tr><td>4</td><td>2007-12-05 00:00:00.000</td><td>8.62</td><td>2</td><td>Senior Tool Designer</td><td>M</td><td>2007-12-05</td><td>0</td></tr><tr><td>4</td><td>2010-05-31 00:00:00.000</td><td>23.72</td><td>2</td><td>Senior Tool Designer</td><td>M</td><td>2007-12-05</td><td>0</td></tr><tr><td>4</td><td>2011-12-15 00:00:00.000</td><td>29.8462</td><td>2</td><td>Senior Tool Designer</td><td>M</td><td>2007-12-05</td><td>0</td></tr><tr><td>5</td><td>2008-01-06 00:00:00.000</td><td>32.6923</td><td>2</td><td>Design Engineer</td><td>F</td><td>2008-01-06</td><td>1</td></tr></table>"
          },
          "metadata": {}
        }
      ],
      "execution_count": null
    },
    {
      "cell_type": "markdown",
      "source": [
        "Notice that the EmployeePayHistory now becomes a lot more informative than before. It is enriched by JobTitle, Gender, HireDate etc. from the Employee table.\n",
        "\n",
        "## More about JOIN\n",
        "\n",
        "in T-SQL by default JOIN refers to LEFT (OUTER) JOIN. Other types of JOIN are:\n",
        "\n",
        "- RIGHT (OUTER) JOIN\n",
        "- INNER JOIN\n",
        "- FULL (OUTER) JOIN\n",
        "\n",
        "### LEFT (OUTER) JOIN\n",
        "\n",
        "Left or right here refers to the position of the primary key. \n",
        "\n",
        "Recall the previous example, **JOIN HumanResources.Employee ON HumanResources.EmployeePayHistory.BusinessEntityID = HumanResources.Employee.BusinessEntityID**. \n",
        "\n",
        "We want to use HumanResources.EmployeePayHistory as base table to expand on, which makes the HumanResources.EmployeePayHistory.BusinessEntityID primary key and HumanResources.Employee.BusinessEntityID foreign key. \n",
        "\n",
        "Because HumanResources.EmployeePayHistory.BusinessEntityID is on the left side of the equation, we use LEFT JOIN. \n",
        "\n",
        "This will return every row of the HumanResources.EmployeePayHistory table and only matched ones from the HumanResources.Employee.\n",
        "\n",
        "### RIGHT (OUTER) JOIN\n",
        "\n",
        "The previous example can also be done with RIGHT JOIN. \n",
        "\n",
        "We just need to switch the base table to HumanResources.Employee and filp the positions of the HumanResources.Employee.BusinessEntityID and HumanResources.EmployeePayHistory.BusinessEntityID\n",
        "\n",
        "Oh, of course, we also need to change LEFT JOIN to RIGHT JOIN.\n",
        "\n",
        "The script will look like the following.\n"
      ],
      "metadata": {
        "language": "sql",
        "azdata_cell_guid": "1137e12a-36b0-4551-81c2-e0ca503bd58f",
        "id": "QoBwQh2TYNEN"
      }
    },
    {
      "cell_type": "code",
      "source": [
        "/* the previous query can be redone as the following with RIGHT JOIN*/\n",
        "\n",
        "SELECT HumanResources.EmployeePayHistory.BusinessEntityID, \n",
        "HumanResources.EmployeePayHistory.RateChangeDate, \n",
        "HumanResources.EmployeePayHistory.Rate, \n",
        "HumanResources.EmployeePayHistory.PayFrequency,\n",
        "HumanResources.Employee.JobTitle,\n",
        "HumanResources.Employee.Gender,\n",
        "HumanResources.Employee.HireDate,\n",
        "HumanResources.Employee.SalariedFlag \n",
        "FROM HumanResources.Employee\n",
        "RIGHT JOIN HumanResources.EmployeePayHistory ON HumanResources.Employee.BusinessEntityID = HumanResources.EmployeePayHistory.BusinessEntityID\n",
        "WHERE HumanResources.EmployeePayHistory.BusinessEntityID IN (1,2,3,4,5)"
      ],
      "metadata": {
        "language": "sql",
        "azdata_cell_guid": "a97c133b-18fd-492f-8411-e5bae4e74bf5",
        "id": "S-FhbKfoYNEN",
        "outputId": "88dfd7d9-c414-43f2-fb99-a71dd397cb5b"
      },
      "outputs": [
        {
          "output_type": "display_data",
          "data": {
            "text/html": "(7 rows affected)"
          },
          "metadata": {}
        },
        {
          "output_type": "display_data",
          "data": {
            "text/html": "Total execution time: 00:00:00.008"
          },
          "metadata": {}
        },
        {
          "output_type": "execute_result",
          "execution_count": 63,
          "data": {
            "application/vnd.dataresource+json": {
              "schema": {
                "fields": [
                  {
                    "name": "BusinessEntityID"
                  },
                  {
                    "name": "RateChangeDate"
                  },
                  {
                    "name": "Rate"
                  },
                  {
                    "name": "PayFrequency"
                  },
                  {
                    "name": "JobTitle"
                  },
                  {
                    "name": "Gender"
                  },
                  {
                    "name": "HireDate"
                  },
                  {
                    "name": "SalariedFlag"
                  }
                ]
              },
              "data": [
                {
                  "0": "1",
                  "1": "2009-01-14 00:00:00.000",
                  "2": "125.50",
                  "3": "2",
                  "4": "Chief Executive Officer",
                  "5": "M",
                  "6": "2009-01-14",
                  "7": "1"
                },
                {
                  "0": "2",
                  "1": "2008-01-31 00:00:00.000",
                  "2": "63.4615",
                  "3": "2",
                  "4": "Vice President of Engineering",
                  "5": "F",
                  "6": "2008-01-31",
                  "7": "1"
                },
                {
                  "0": "3",
                  "1": "2007-11-11 00:00:00.000",
                  "2": "43.2692",
                  "3": "2",
                  "4": "Engineering Manager",
                  "5": "M",
                  "6": "2007-11-11",
                  "7": "1"
                },
                {
                  "0": "4",
                  "1": "2007-12-05 00:00:00.000",
                  "2": "8.62",
                  "3": "2",
                  "4": "Senior Tool Designer",
                  "5": "M",
                  "6": "2007-12-05",
                  "7": "0"
                },
                {
                  "0": "4",
                  "1": "2010-05-31 00:00:00.000",
                  "2": "23.72",
                  "3": "2",
                  "4": "Senior Tool Designer",
                  "5": "M",
                  "6": "2007-12-05",
                  "7": "0"
                },
                {
                  "0": "4",
                  "1": "2011-12-15 00:00:00.000",
                  "2": "29.8462",
                  "3": "2",
                  "4": "Senior Tool Designer",
                  "5": "M",
                  "6": "2007-12-05",
                  "7": "0"
                },
                {
                  "0": "5",
                  "1": "2008-01-06 00:00:00.000",
                  "2": "32.6923",
                  "3": "2",
                  "4": "Design Engineer",
                  "5": "F",
                  "6": "2008-01-06",
                  "7": "1"
                }
              ]
            },
            "text/html": "<table><tr><th>BusinessEntityID</th><th>RateChangeDate</th><th>Rate</th><th>PayFrequency</th><th>JobTitle</th><th>Gender</th><th>HireDate</th><th>SalariedFlag</th></tr><tr><td>1</td><td>2009-01-14 00:00:00.000</td><td>125.50</td><td>2</td><td>Chief Executive Officer</td><td>M</td><td>2009-01-14</td><td>1</td></tr><tr><td>2</td><td>2008-01-31 00:00:00.000</td><td>63.4615</td><td>2</td><td>Vice President of Engineering</td><td>F</td><td>2008-01-31</td><td>1</td></tr><tr><td>3</td><td>2007-11-11 00:00:00.000</td><td>43.2692</td><td>2</td><td>Engineering Manager</td><td>M</td><td>2007-11-11</td><td>1</td></tr><tr><td>4</td><td>2007-12-05 00:00:00.000</td><td>8.62</td><td>2</td><td>Senior Tool Designer</td><td>M</td><td>2007-12-05</td><td>0</td></tr><tr><td>4</td><td>2010-05-31 00:00:00.000</td><td>23.72</td><td>2</td><td>Senior Tool Designer</td><td>M</td><td>2007-12-05</td><td>0</td></tr><tr><td>4</td><td>2011-12-15 00:00:00.000</td><td>29.8462</td><td>2</td><td>Senior Tool Designer</td><td>M</td><td>2007-12-05</td><td>0</td></tr><tr><td>5</td><td>2008-01-06 00:00:00.000</td><td>32.6923</td><td>2</td><td>Design Engineer</td><td>F</td><td>2008-01-06</td><td>1</td></tr></table>"
          },
          "metadata": {}
        }
      ],
      "execution_count": null
    },
    {
      "cell_type": "markdown",
      "source": [
        "## INNER JOIN\n",
        "\n",
        "Only matched primary key rows and foreign key rows will be returned in the result table. \n",
        "\n",
        "There is no concern about if primary key should stay left side of the ON clause or the right side, because they will return exactly the same results. \n",
        "\n",
        "By default, if just JOIN, T-SQL will interpret it as INNER JOIN.\n",
        "\n",
        "## FULL (OUTER) JOIN\n",
        "\n",
        "The exactly opposite of INNER JOIN, every row of the 2 tables will be returned. It doesn't matter which table has more records.\n",
        "\n",
        "Therefore, left or right is also not a concern here. \n",
        "\n",
        "FULL JOIN is very useful when comparing 2 tables and see which rows are matched and which rows are not (called \"exceptions\")."
      ],
      "metadata": {
        "language": "sql",
        "azdata_cell_guid": "8c9450f6-a523-43a8-9d4a-f90dbec06636",
        "id": "A3ZyCa8NYNEO"
      }
    },
    {
      "cell_type": "markdown",
      "source": [
        "## Order of Operation\n",
        "\n",
        "Six Operations to Order as the following: \n",
        "- SELECT\n",
        "- FROM\n",
        "- WHERE\n",
        "- GROUP BY\n",
        "- HAVING\n",
        "- ORDER BY\n",
        "\n",
        "## Order of Execution\n",
        "\n",
        "Server will execute the following clauses as the following order:\n",
        "\n",
        "- FROM (and JOIN)\n",
        "- WHERE\n",
        "- GROUP BY\n",
        "- HAVING\n",
        "- SELECT\n",
        "- DISTINCT\n",
        "- ORDER BY\n",
        "- LIMIT and OFFSET\n",
        "\n",
        "## Order of Execution vs Order of Operation\n",
        "\n",
        "**Order of execution is not the same as order of operation.** \n",
        "\n",
        "Order of Execution: It specifies which clause the server will process first.\n",
        "\n",
        "Order of Operation: It specifies which clause should be written before the others."
      ],
      "metadata": {
        "language": "sql",
        "azdata_cell_guid": "6dfd30d2-c58b-4104-aa0e-7ab2ef1b0a8b",
        "id": "kEHmhsp2YNEO"
      }
    },
    {
      "cell_type": "markdown",
      "source": [
        "# Create a Functional View of Employee Pay\n",
        "\n",
        "Goal: we are creating a dataset that describe employees first name, last name, job title, organizational level and latest pay rate and pay frequency\n",
        "\n",
        "Data: we will need information from 2 tables HumanResources.EmployeePayHistory and HumanResources.Employee\n",
        "\n",
        "**Let's preview a couple of tables that we will need for what data look like in each of them.**"
      ],
      "metadata": {
        "language": "sql",
        "azdata_cell_guid": "22fcb546-a0e1-43d2-bc45-cb8a0742241c",
        "id": "YCndQ3cOYNEO"
      }
    },
    {
      "cell_type": "code",
      "source": [
        "/* what HumanResources.Employee looks like */\n",
        "\n",
        "SELECT TOP 10 *\n",
        "FROM HumanResources.Employee"
      ],
      "metadata": {
        "language": "sql",
        "azdata_cell_guid": "84deea3d-2964-404a-9771-befe3bc1e48b",
        "id": "suLVHd9eYNEO",
        "outputId": "541374e6-c732-4ff0-f670-7a77b6c54e4b"
      },
      "outputs": [
        {
          "output_type": "display_data",
          "data": {
            "text/html": "(10 rows affected)"
          },
          "metadata": {}
        },
        {
          "output_type": "display_data",
          "data": {
            "text/html": "Total execution time: 00:00:00.025"
          },
          "metadata": {}
        },
        {
          "output_type": "execute_result",
          "execution_count": 51,
          "data": {
            "application/vnd.dataresource+json": {
              "schema": {
                "fields": [
                  {
                    "name": "BusinessEntityID"
                  },
                  {
                    "name": "NationalIDNumber"
                  },
                  {
                    "name": "LoginID"
                  },
                  {
                    "name": "OrganizationNode"
                  },
                  {
                    "name": "OrganizationLevel"
                  },
                  {
                    "name": "JobTitle"
                  },
                  {
                    "name": "BirthDate"
                  },
                  {
                    "name": "MaritalStatus"
                  },
                  {
                    "name": "Gender"
                  },
                  {
                    "name": "HireDate"
                  },
                  {
                    "name": "SalariedFlag"
                  },
                  {
                    "name": "VacationHours"
                  },
                  {
                    "name": "SickLeaveHours"
                  },
                  {
                    "name": "CurrentFlag"
                  },
                  {
                    "name": "rowguid"
                  },
                  {
                    "name": "ModifiedDate"
                  }
                ]
              },
              "data": [
                {
                  "0": "1",
                  "1": "295847284",
                  "2": "adventure-works\\ken0",
                  "3": "NULL",
                  "4": "NULL",
                  "5": "Chief Executive Officer",
                  "6": "1969-01-29",
                  "7": "S",
                  "8": "M",
                  "9": "2009-01-14",
                  "10": "1",
                  "11": "99",
                  "12": "69",
                  "13": "1",
                  "14": "f01251e5-96a3-448d-981e-0f99d789110d",
                  "15": "2014-06-30 00:00:00.000"
                },
                {
                  "0": "2",
                  "1": "245797967",
                  "2": "adventure-works\\terri0",
                  "3": "0x58",
                  "4": "1",
                  "5": "Vice President of Engineering",
                  "6": "1971-08-01",
                  "7": "S",
                  "8": "F",
                  "9": "2008-01-31",
                  "10": "1",
                  "11": "1",
                  "12": "20",
                  "13": "1",
                  "14": "45e8f437-670d-4409-93cb-f9424a40d6ee",
                  "15": "2014-06-30 00:00:00.000"
                },
                {
                  "0": "3",
                  "1": "509647174",
                  "2": "adventure-works\\roberto0",
                  "3": "0x5AC0",
                  "4": "2",
                  "5": "Engineering Manager",
                  "6": "1974-11-12",
                  "7": "M",
                  "8": "M",
                  "9": "2007-11-11",
                  "10": "1",
                  "11": "2",
                  "12": "21",
                  "13": "1",
                  "14": "9bbbfb2c-efbb-4217-9ab7-f97689328841",
                  "15": "2014-06-30 00:00:00.000"
                },
                {
                  "0": "4",
                  "1": "112457891",
                  "2": "adventure-works\\rob0",
                  "3": "0x5AD6",
                  "4": "3",
                  "5": "Senior Tool Designer",
                  "6": "1974-12-23",
                  "7": "S",
                  "8": "M",
                  "9": "2007-12-05",
                  "10": "0",
                  "11": "48",
                  "12": "80",
                  "13": "1",
                  "14": "59747955-87b8-443f-8ed4-f8ad3afdf3a9",
                  "15": "2014-06-30 00:00:00.000"
                },
                {
                  "0": "5",
                  "1": "695256908",
                  "2": "adventure-works\\gail0",
                  "3": "0x5ADA",
                  "4": "3",
                  "5": "Design Engineer",
                  "6": "1952-09-27",
                  "7": "M",
                  "8": "F",
                  "9": "2008-01-06",
                  "10": "1",
                  "11": "5",
                  "12": "22",
                  "13": "1",
                  "14": "ec84ae09-f9b8-4a15-b4a9-6ccbab919b08",
                  "15": "2014-06-30 00:00:00.000"
                },
                {
                  "0": "6",
                  "1": "998320692",
                  "2": "adventure-works\\jossef0",
                  "3": "0x5ADE",
                  "4": "3",
                  "5": "Design Engineer",
                  "6": "1959-03-11",
                  "7": "M",
                  "8": "M",
                  "9": "2008-01-24",
                  "10": "1",
                  "11": "6",
                  "12": "23",
                  "13": "1",
                  "14": "e39056f1-9cd5-478d-8945-14aca7fbdcdd",
                  "15": "2014-06-30 00:00:00.000"
                },
                {
                  "0": "7",
                  "1": "134969118",
                  "2": "adventure-works\\dylan0",
                  "3": "0x5AE1",
                  "4": "3",
                  "5": "Research and Development Manager",
                  "6": "1987-02-24",
                  "7": "M",
                  "8": "M",
                  "9": "2009-02-08",
                  "10": "1",
                  "11": "61",
                  "12": "50",
                  "13": "1",
                  "14": "4f46deca-ef01-41fd-9829-0adab368e431",
                  "15": "2014-06-30 00:00:00.000"
                },
                {
                  "0": "8",
                  "1": "811994146",
                  "2": "adventure-works\\diane1",
                  "3": "0x5AE158",
                  "4": "4",
                  "5": "Research and Development Engineer",
                  "6": "1986-06-05",
                  "7": "S",
                  "8": "F",
                  "9": "2008-12-29",
                  "10": "1",
                  "11": "62",
                  "12": "51",
                  "13": "1",
                  "14": "31112635-663b-4018-b4a2-a685c0bf48a4",
                  "15": "2014-06-30 00:00:00.000"
                },
                {
                  "0": "9",
                  "1": "658797903",
                  "2": "adventure-works\\gigi0",
                  "3": "0x5AE168",
                  "4": "4",
                  "5": "Research and Development Engineer",
                  "6": "1979-01-21",
                  "7": "M",
                  "8": "F",
                  "9": "2009-01-16",
                  "10": "1",
                  "11": "63",
                  "12": "51",
                  "13": "1",
                  "14": "50b6cdc6-7570-47ef-9570-48a64b5f2ecf",
                  "15": "2014-06-30 00:00:00.000"
                },
                {
                  "0": "10",
                  "1": "879342154",
                  "2": "adventure-works\\michael6",
                  "3": "0x5AE178",
                  "4": "4",
                  "5": "Research and Development Manager",
                  "6": "1984-11-30",
                  "7": "M",
                  "8": "M",
                  "9": "2009-05-03",
                  "10": "1",
                  "11": "16",
                  "12": "64",
                  "13": "1",
                  "14": "eaa43680-5571-40cb-ab1a-3bf68f04459e",
                  "15": "2014-06-30 00:00:00.000"
                }
              ]
            },
            "text/html": "<table><tr><th>BusinessEntityID</th><th>NationalIDNumber</th><th>LoginID</th><th>OrganizationNode</th><th>OrganizationLevel</th><th>JobTitle</th><th>BirthDate</th><th>MaritalStatus</th><th>Gender</th><th>HireDate</th><th>SalariedFlag</th><th>VacationHours</th><th>SickLeaveHours</th><th>CurrentFlag</th><th>rowguid</th><th>ModifiedDate</th></tr><tr><td>1</td><td>295847284</td><td>adventure-works\\ken0</td><td>NULL</td><td>NULL</td><td>Chief Executive Officer</td><td>1969-01-29</td><td>S</td><td>M</td><td>2009-01-14</td><td>1</td><td>99</td><td>69</td><td>1</td><td>f01251e5-96a3-448d-981e-0f99d789110d</td><td>2014-06-30 00:00:00.000</td></tr><tr><td>2</td><td>245797967</td><td>adventure-works\\terri0</td><td>0x58</td><td>1</td><td>Vice President of Engineering</td><td>1971-08-01</td><td>S</td><td>F</td><td>2008-01-31</td><td>1</td><td>1</td><td>20</td><td>1</td><td>45e8f437-670d-4409-93cb-f9424a40d6ee</td><td>2014-06-30 00:00:00.000</td></tr><tr><td>3</td><td>509647174</td><td>adventure-works\\roberto0</td><td>0x5AC0</td><td>2</td><td>Engineering Manager</td><td>1974-11-12</td><td>M</td><td>M</td><td>2007-11-11</td><td>1</td><td>2</td><td>21</td><td>1</td><td>9bbbfb2c-efbb-4217-9ab7-f97689328841</td><td>2014-06-30 00:00:00.000</td></tr><tr><td>4</td><td>112457891</td><td>adventure-works\\rob0</td><td>0x5AD6</td><td>3</td><td>Senior Tool Designer</td><td>1974-12-23</td><td>S</td><td>M</td><td>2007-12-05</td><td>0</td><td>48</td><td>80</td><td>1</td><td>59747955-87b8-443f-8ed4-f8ad3afdf3a9</td><td>2014-06-30 00:00:00.000</td></tr><tr><td>5</td><td>695256908</td><td>adventure-works\\gail0</td><td>0x5ADA</td><td>3</td><td>Design Engineer</td><td>1952-09-27</td><td>M</td><td>F</td><td>2008-01-06</td><td>1</td><td>5</td><td>22</td><td>1</td><td>ec84ae09-f9b8-4a15-b4a9-6ccbab919b08</td><td>2014-06-30 00:00:00.000</td></tr><tr><td>6</td><td>998320692</td><td>adventure-works\\jossef0</td><td>0x5ADE</td><td>3</td><td>Design Engineer</td><td>1959-03-11</td><td>M</td><td>M</td><td>2008-01-24</td><td>1</td><td>6</td><td>23</td><td>1</td><td>e39056f1-9cd5-478d-8945-14aca7fbdcdd</td><td>2014-06-30 00:00:00.000</td></tr><tr><td>7</td><td>134969118</td><td>adventure-works\\dylan0</td><td>0x5AE1</td><td>3</td><td>Research and Development Manager</td><td>1987-02-24</td><td>M</td><td>M</td><td>2009-02-08</td><td>1</td><td>61</td><td>50</td><td>1</td><td>4f46deca-ef01-41fd-9829-0adab368e431</td><td>2014-06-30 00:00:00.000</td></tr><tr><td>8</td><td>811994146</td><td>adventure-works\\diane1</td><td>0x5AE158</td><td>4</td><td>Research and Development Engineer</td><td>1986-06-05</td><td>S</td><td>F</td><td>2008-12-29</td><td>1</td><td>62</td><td>51</td><td>1</td><td>31112635-663b-4018-b4a2-a685c0bf48a4</td><td>2014-06-30 00:00:00.000</td></tr><tr><td>9</td><td>658797903</td><td>adventure-works\\gigi0</td><td>0x5AE168</td><td>4</td><td>Research and Development Engineer</td><td>1979-01-21</td><td>M</td><td>F</td><td>2009-01-16</td><td>1</td><td>63</td><td>51</td><td>1</td><td>50b6cdc6-7570-47ef-9570-48a64b5f2ecf</td><td>2014-06-30 00:00:00.000</td></tr><tr><td>10</td><td>879342154</td><td>adventure-works\\michael6</td><td>0x5AE178</td><td>4</td><td>Research and Development Manager</td><td>1984-11-30</td><td>M</td><td>M</td><td>2009-05-03</td><td>1</td><td>16</td><td>64</td><td>1</td><td>eaa43680-5571-40cb-ab1a-3bf68f04459e</td><td>2014-06-30 00:00:00.000</td></tr></table>"
          },
          "metadata": {}
        }
      ],
      "execution_count": null
    },
    {
      "cell_type": "code",
      "source": [
        "/* what HumanResources.EmployeePayHistory looks like */\n",
        "\n",
        "SELECT TOP 10 *\n",
        "FROM HumanResources.EmployeePayHistory"
      ],
      "metadata": {
        "language": "sql",
        "azdata_cell_guid": "0ce314e8-c0e4-4984-8f76-a4f2c74a8136",
        "id": "xSLHJWMIYNEO",
        "outputId": "d2b3f519-82b6-4626-e9e6-07756fc4efa6"
      },
      "outputs": [
        {
          "output_type": "display_data",
          "data": {
            "text/html": "(10 rows affected)"
          },
          "metadata": {}
        },
        {
          "output_type": "display_data",
          "data": {
            "text/html": "Total execution time: 00:00:00.010"
          },
          "metadata": {}
        },
        {
          "output_type": "execute_result",
          "execution_count": 50,
          "data": {
            "application/vnd.dataresource+json": {
              "schema": {
                "fields": [
                  {
                    "name": "BusinessEntityID"
                  },
                  {
                    "name": "RateChangeDate"
                  },
                  {
                    "name": "Rate"
                  },
                  {
                    "name": "PayFrequency"
                  },
                  {
                    "name": "ModifiedDate"
                  }
                ]
              },
              "data": [
                {
                  "0": "1",
                  "1": "2009-01-14 00:00:00.000",
                  "2": "125.50",
                  "3": "2",
                  "4": "2014-06-30 00:00:00.000"
                },
                {
                  "0": "2",
                  "1": "2008-01-31 00:00:00.000",
                  "2": "63.4615",
                  "3": "2",
                  "4": "2014-06-30 00:00:00.000"
                },
                {
                  "0": "3",
                  "1": "2007-11-11 00:00:00.000",
                  "2": "43.2692",
                  "3": "2",
                  "4": "2014-06-30 00:00:00.000"
                },
                {
                  "0": "4",
                  "1": "2007-12-05 00:00:00.000",
                  "2": "8.62",
                  "3": "2",
                  "4": "2007-11-21 00:00:00.000"
                },
                {
                  "0": "4",
                  "1": "2010-05-31 00:00:00.000",
                  "2": "23.72",
                  "3": "2",
                  "4": "2010-05-16 00:00:00.000"
                },
                {
                  "0": "4",
                  "1": "2011-12-15 00:00:00.000",
                  "2": "29.8462",
                  "3": "2",
                  "4": "2011-12-01 00:00:00.000"
                },
                {
                  "0": "5",
                  "1": "2008-01-06 00:00:00.000",
                  "2": "32.6923",
                  "3": "2",
                  "4": "2014-06-30 00:00:00.000"
                },
                {
                  "0": "6",
                  "1": "2008-01-24 00:00:00.000",
                  "2": "32.6923",
                  "3": "2",
                  "4": "2014-06-30 00:00:00.000"
                },
                {
                  "0": "7",
                  "1": "2009-02-08 00:00:00.000",
                  "2": "50.4808",
                  "3": "2",
                  "4": "2014-06-30 00:00:00.000"
                },
                {
                  "0": "8",
                  "1": "2008-12-29 00:00:00.000",
                  "2": "40.8654",
                  "3": "2",
                  "4": "2014-06-30 00:00:00.000"
                }
              ]
            },
            "text/html": "<table><tr><th>BusinessEntityID</th><th>RateChangeDate</th><th>Rate</th><th>PayFrequency</th><th>ModifiedDate</th></tr><tr><td>1</td><td>2009-01-14 00:00:00.000</td><td>125.50</td><td>2</td><td>2014-06-30 00:00:00.000</td></tr><tr><td>2</td><td>2008-01-31 00:00:00.000</td><td>63.4615</td><td>2</td><td>2014-06-30 00:00:00.000</td></tr><tr><td>3</td><td>2007-11-11 00:00:00.000</td><td>43.2692</td><td>2</td><td>2014-06-30 00:00:00.000</td></tr><tr><td>4</td><td>2007-12-05 00:00:00.000</td><td>8.62</td><td>2</td><td>2007-11-21 00:00:00.000</td></tr><tr><td>4</td><td>2010-05-31 00:00:00.000</td><td>23.72</td><td>2</td><td>2010-05-16 00:00:00.000</td></tr><tr><td>4</td><td>2011-12-15 00:00:00.000</td><td>29.8462</td><td>2</td><td>2011-12-01 00:00:00.000</td></tr><tr><td>5</td><td>2008-01-06 00:00:00.000</td><td>32.6923</td><td>2</td><td>2014-06-30 00:00:00.000</td></tr><tr><td>6</td><td>2008-01-24 00:00:00.000</td><td>32.6923</td><td>2</td><td>2014-06-30 00:00:00.000</td></tr><tr><td>7</td><td>2009-02-08 00:00:00.000</td><td>50.4808</td><td>2</td><td>2014-06-30 00:00:00.000</td></tr><tr><td>8</td><td>2008-12-29 00:00:00.000</td><td>40.8654</td><td>2</td><td>2014-06-30 00:00:00.000</td></tr></table>"
          },
          "metadata": {}
        }
      ],
      "execution_count": null
    },
    {
      "cell_type": "markdown",
      "source": [
        "Notice that BusinessEntityID 4 has a few change records, so we need find a way to create the employee pay table that only has the most recent rate information."
      ],
      "metadata": {
        "language": "sql",
        "azdata_cell_guid": "e5d6e966-7846-4e91-a1d0-fd9756acc929",
        "id": "GnOUKhJRYNEO"
      }
    },
    {
      "cell_type": "code",
      "source": [
        "/* we need to create a helper table that contains only the latest rate change in the HumanResources.EmployeePayHistory table */\n",
        "\n",
        "SELECT TOP 10 BusinessEntityID, MAX(RateChangeDate) as RecentRateChangeDate\n",
        "FROM HumanResources.EmployeePayHistory \n",
        "GROUP BY BusinessEntityID"
      ],
      "metadata": {
        "language": "sql",
        "azdata_cell_guid": "82a19111-035d-436c-94a0-d0dfaa83687c",
        "id": "Gg-KU7OTYNEO",
        "outputId": "32218cbd-70e8-4771-9fb6-a4761f5336de"
      },
      "outputs": [
        {
          "output_type": "display_data",
          "data": {
            "text/html": "(10 rows affected)"
          },
          "metadata": {}
        },
        {
          "output_type": "display_data",
          "data": {
            "text/html": "Total execution time: 00:00:00.007"
          },
          "metadata": {}
        },
        {
          "output_type": "execute_result",
          "execution_count": 75,
          "data": {
            "application/vnd.dataresource+json": {
              "schema": {
                "fields": [
                  {
                    "name": "BusinessEntityID"
                  },
                  {
                    "name": "RecentRateChangeDate"
                  }
                ]
              },
              "data": [
                {
                  "0": "1",
                  "1": "2009-01-14 00:00:00.000"
                },
                {
                  "0": "2",
                  "1": "2008-01-31 00:00:00.000"
                },
                {
                  "0": "3",
                  "1": "2007-11-11 00:00:00.000"
                },
                {
                  "0": "4",
                  "1": "2011-12-15 00:00:00.000"
                },
                {
                  "0": "5",
                  "1": "2008-01-06 00:00:00.000"
                },
                {
                  "0": "6",
                  "1": "2008-01-24 00:00:00.000"
                },
                {
                  "0": "7",
                  "1": "2009-02-08 00:00:00.000"
                },
                {
                  "0": "8",
                  "1": "2008-12-29 00:00:00.000"
                },
                {
                  "0": "9",
                  "1": "2009-01-16 00:00:00.000"
                },
                {
                  "0": "10",
                  "1": "2009-05-03 00:00:00.000"
                }
              ]
            },
            "text/html": "<table><tr><th>BusinessEntityID</th><th>RecentRateChangeDate</th></tr><tr><td>1</td><td>2009-01-14 00:00:00.000</td></tr><tr><td>2</td><td>2008-01-31 00:00:00.000</td></tr><tr><td>3</td><td>2007-11-11 00:00:00.000</td></tr><tr><td>4</td><td>2011-12-15 00:00:00.000</td></tr><tr><td>5</td><td>2008-01-06 00:00:00.000</td></tr><tr><td>6</td><td>2008-01-24 00:00:00.000</td></tr><tr><td>7</td><td>2009-02-08 00:00:00.000</td></tr><tr><td>8</td><td>2008-12-29 00:00:00.000</td></tr><tr><td>9</td><td>2009-01-16 00:00:00.000</td></tr><tr><td>10</td><td>2009-05-03 00:00:00.000</td></tr></table>"
          },
          "metadata": {}
        }
      ],
      "execution_count": null
    },
    {
      "cell_type": "markdown",
      "source": [
        "Notice that BusinessEntity 4 only has 1 record now...instead of 3 before). \n",
        "\n",
        "A small step in the right direction!\n",
        "\n",
        "Now by **inner-joining** the helper table and original HumanResources.EmployeePayHistory, we are able to create a full table of HumanResources.EmployeePayHistory that only has the most recent rate change records.\n",
        "\n",
        "We will need a combination of BusinessEntityID and RateChangeDate as keys to join!"
      ],
      "metadata": {
        "language": "sql",
        "azdata_cell_guid": "3b2a9130-75b7-46d0-810e-ed414e24050a",
        "id": "NrhXAe6_YNEP"
      }
    },
    {
      "cell_type": "code",
      "source": [
        "/* create the most recent employee pay information */\n",
        "\n",
        "SELECT *\n",
        "FROM HumanResources.EmployeePayHistory\n",
        "INNER JOIN \n",
        "    (   SELECT BusinessEntityID, MAX(RateChangeDate) as RecentRateChangeDate\n",
        "        FROM HumanResources.EmployeePayHistory \n",
        "        GROUP BY BusinessEntityID\n",
        ") CurrentPay ON EmployeePayHistory.BusinessEntityID = CurrentPay.BusinessEntityID AND EmployeePayHistory.RateChangeDate = CurrentPay.RecentRateChangeDate\n",
        "ORDER BY EmployeePayHistory.BusinessEntityID"
      ],
      "metadata": {
        "language": "sql",
        "azdata_cell_guid": "f4063108-3af4-4b72-84c2-908e12567f2d",
        "id": "vAVA5hayYNEP",
        "outputId": "ddc9a0ce-164d-4334-f35a-be05f291cd81"
      },
      "outputs": [
        {
          "output_type": "display_data",
          "data": {
            "text/html": "(290 rows affected)"
          },
          "metadata": {}
        },
        {
          "output_type": "display_data",
          "data": {
            "text/html": "Total execution time: 00:00:00.014"
          },
          "metadata": {}
        },
        {
          "output_type": "execute_result",
          "execution_count": 79,
          "data": {
            "application/vnd.dataresource+json": {
              "schema": {
                "fields": [
                  {
                    "name": "BusinessEntityID"
                  },
                  {
                    "name": "RateChangeDate"
                  },
                  {
                    "name": "Rate"
                  },
                  {
                    "name": "PayFrequency"
                  },
                  {
                    "name": "ModifiedDate"
                  },
                  {
                    "name": "BusinessEntityID"
                  },
                  {
                    "name": "RecentRateChangeDate"
                  }
                ]
              },
              "data": [
                {
                  "0": "1",
                  "1": "2009-01-14 00:00:00.000",
                  "2": "125.50",
                  "3": "2",
                  "4": "2014-06-30 00:00:00.000",
                  "5": "1",
                  "6": "2009-01-14 00:00:00.000"
                },
                {
                  "0": "2",
                  "1": "2008-01-31 00:00:00.000",
                  "2": "63.4615",
                  "3": "2",
                  "4": "2014-06-30 00:00:00.000",
                  "5": "2",
                  "6": "2008-01-31 00:00:00.000"
                },
                {
                  "0": "3",
                  "1": "2007-11-11 00:00:00.000",
                  "2": "43.2692",
                  "3": "2",
                  "4": "2014-06-30 00:00:00.000",
                  "5": "3",
                  "6": "2007-11-11 00:00:00.000"
                },
                {
                  "0": "4",
                  "1": "2011-12-15 00:00:00.000",
                  "2": "29.8462",
                  "3": "2",
                  "4": "2011-12-01 00:00:00.000",
                  "5": "4",
                  "6": "2011-12-15 00:00:00.000"
                },
                {
                  "0": "5",
                  "1": "2008-01-06 00:00:00.000",
                  "2": "32.6923",
                  "3": "2",
                  "4": "2014-06-30 00:00:00.000",
                  "5": "5",
                  "6": "2008-01-06 00:00:00.000"
                },
                {
                  "0": "6",
                  "1": "2008-01-24 00:00:00.000",
                  "2": "32.6923",
                  "3": "2",
                  "4": "2014-06-30 00:00:00.000",
                  "5": "6",
                  "6": "2008-01-24 00:00:00.000"
                },
                {
                  "0": "7",
                  "1": "2009-02-08 00:00:00.000",
                  "2": "50.4808",
                  "3": "2",
                  "4": "2014-06-30 00:00:00.000",
                  "5": "7",
                  "6": "2009-02-08 00:00:00.000"
                },
                {
                  "0": "8",
                  "1": "2008-12-29 00:00:00.000",
                  "2": "40.8654",
                  "3": "2",
                  "4": "2014-06-30 00:00:00.000",
                  "5": "8",
                  "6": "2008-12-29 00:00:00.000"
                },
                {
                  "0": "9",
                  "1": "2009-01-16 00:00:00.000",
                  "2": "40.8654",
                  "3": "2",
                  "4": "2014-06-30 00:00:00.000",
                  "5": "9",
                  "6": "2009-01-16 00:00:00.000"
                },
                {
                  "0": "10",
                  "1": "2009-05-03 00:00:00.000",
                  "2": "42.4808",
                  "3": "2",
                  "4": "2014-06-30 00:00:00.000",
                  "5": "10",
                  "6": "2009-05-03 00:00:00.000"
                },
                {
                  "0": "11",
                  "1": "2010-12-05 00:00:00.000",
                  "2": "28.8462",
                  "3": "2",
                  "4": "2014-06-30 00:00:00.000",
                  "5": "11",
                  "6": "2010-12-05 00:00:00.000"
                },
                {
                  "0": "12",
                  "1": "2007-12-11 00:00:00.000",
                  "2": "25.00",
                  "3": "2",
                  "4": "2014-06-30 00:00:00.000",
                  "5": "12",
                  "6": "2007-12-11 00:00:00.000"
                },
                {
                  "0": "13",
                  "1": "2010-12-23 00:00:00.000",
                  "2": "25.00",
                  "3": "2",
                  "4": "2014-06-30 00:00:00.000",
                  "5": "13",
                  "6": "2010-12-23 00:00:00.000"
                },
                {
                  "0": "14",
                  "1": "2010-12-30 00:00:00.000",
                  "2": "36.0577",
                  "3": "2",
                  "4": "2014-06-30 00:00:00.000",
                  "5": "14",
                  "6": "2010-12-30 00:00:00.000"
                },
                {
                  "0": "15",
                  "1": "2011-01-18 00:00:00.000",
                  "2": "32.6923",
                  "3": "2",
                  "4": "2014-06-30 00:00:00.000",
                  "5": "15",
                  "6": "2011-01-18 00:00:00.000"
                },
                {
                  "0": "16",
                  "1": "2012-04-30 00:00:00.000",
                  "2": "37.50",
                  "3": "2",
                  "4": "2012-04-16 00:00:00.000",
                  "5": "16",
                  "6": "2012-04-30 00:00:00.000"
                },
                {
                  "0": "17",
                  "1": "2007-01-26 00:00:00.000",
                  "2": "13.4615",
                  "3": "2",
                  "4": "2014-06-30 00:00:00.000",
                  "5": "17",
                  "6": "2007-01-26 00:00:00.000"
                },
                {
                  "0": "18",
                  "1": "2011-02-07 00:00:00.000",
                  "2": "14.4231",
                  "3": "2",
                  "4": "2014-06-30 00:00:00.000",
                  "5": "18",
                  "6": "2011-02-07 00:00:00.000"
                },
                {
                  "0": "19",
                  "1": "2011-02-14 00:00:00.000",
                  "2": "13.4615",
                  "3": "2",
                  "4": "2014-06-30 00:00:00.000",
                  "5": "19",
                  "6": "2011-02-14 00:00:00.000"
                },
                {
                  "0": "20",
                  "1": "2011-01-07 00:00:00.000",
                  "2": "13.4615",
                  "3": "2",
                  "4": "2014-06-30 00:00:00.000",
                  "5": "20",
                  "6": "2011-01-07 00:00:00.000"
                },
                {
                  "0": "21",
                  "1": "2009-03-02 00:00:00.000",
                  "2": "14.4231",
                  "3": "2",
                  "4": "2014-06-30 00:00:00.000",
                  "5": "21",
                  "6": "2009-03-02 00:00:00.000"
                },
                {
                  "0": "22",
                  "1": "2008-12-12 00:00:00.000",
                  "2": "14.4231",
                  "3": "2",
                  "4": "2014-06-30 00:00:00.000",
                  "5": "22",
                  "6": "2008-12-12 00:00:00.000"
                },
                {
                  "0": "23",
                  "1": "2009-01-12 00:00:00.000",
                  "2": "14.4231",
                  "3": "2",
                  "4": "2014-06-30 00:00:00.000",
                  "5": "23",
                  "6": "2009-01-12 00:00:00.000"
                },
                {
                  "0": "24",
                  "1": "2009-01-18 00:00:00.000",
                  "2": "14.4231",
                  "3": "2",
                  "4": "2014-06-30 00:00:00.000",
                  "5": "24",
                  "6": "2009-01-18 00:00:00.000"
                },
                {
                  "0": "25",
                  "1": "2009-02-03 00:00:00.000",
                  "2": "84.1346",
                  "3": "2",
                  "4": "2014-06-30 00:00:00.000",
                  "5": "25",
                  "6": "2009-02-03 00:00:00.000"
                },
                {
                  "0": "26",
                  "1": "2008-12-01 00:00:00.000",
                  "2": "24.5192",
                  "3": "2",
                  "4": "2014-06-30 00:00:00.000",
                  "5": "26",
                  "6": "2008-12-01 00:00:00.000"
                },
                {
                  "0": "27",
                  "1": "2008-02-27 00:00:00.000",
                  "2": "25.00",
                  "3": "2",
                  "4": "2014-06-30 00:00:00.000",
                  "5": "27",
                  "6": "2008-02-27 00:00:00.000"
                },
                {
                  "0": "28",
                  "1": "2006-06-30 00:00:00.000",
                  "2": "12.45",
                  "3": "1",
                  "4": "2014-06-30 00:00:00.000",
                  "5": "28",
                  "6": "2006-06-30 00:00:00.000"
                },
                {
                  "0": "29",
                  "1": "2009-01-23 00:00:00.000",
                  "2": "12.45",
                  "3": "1",
                  "4": "2014-06-30 00:00:00.000",
                  "5": "29",
                  "6": "2009-01-23 00:00:00.000"
                },
                {
                  "0": "30",
                  "1": "2009-01-29 00:00:00.000",
                  "2": "12.45",
                  "3": "1",
                  "4": "2014-06-30 00:00:00.000",
                  "5": "30",
                  "6": "2009-01-29 00:00:00.000"
                },
                {
                  "0": "31",
                  "1": "2009-01-04 00:00:00.000",
                  "2": "12.45",
                  "3": "1",
                  "4": "2014-06-30 00:00:00.000",
                  "5": "31",
                  "6": "2009-01-04 00:00:00.000"
                },
                {
                  "0": "32",
                  "1": "2008-12-29 00:00:00.000",
                  "2": "12.45",
                  "3": "1",
                  "4": "2014-06-30 00:00:00.000",
                  "5": "32",
                  "6": "2008-12-29 00:00:00.000"
                },
                {
                  "0": "33",
                  "1": "2008-12-17 00:00:00.000",
                  "2": "12.45",
                  "3": "1",
                  "4": "2014-06-30 00:00:00.000",
                  "5": "33",
                  "6": "2008-12-17 00:00:00.000"
                },
                {
                  "0": "34",
                  "1": "2009-02-16 00:00:00.000",
                  "2": "12.45",
                  "3": "1",
                  "4": "2014-06-30 00:00:00.000",
                  "5": "34",
                  "6": "2009-02-16 00:00:00.000"
                },
                {
                  "0": "35",
                  "1": "2009-02-08 00:00:00.000",
                  "2": "12.45",
                  "3": "1",
                  "4": "2014-06-30 00:00:00.000",
                  "5": "35",
                  "6": "2009-02-08 00:00:00.000"
                },
                {
                  "0": "36",
                  "1": "2009-02-10 00:00:00.000",
                  "2": "12.45",
                  "3": "1",
                  "4": "2014-06-30 00:00:00.000",
                  "5": "36",
                  "6": "2009-02-10 00:00:00.000"
                },
                {
                  "0": "37",
                  "1": "2009-03-07 00:00:00.000",
                  "2": "12.45",
                  "3": "1",
                  "4": "2014-06-30 00:00:00.000",
                  "5": "37",
                  "6": "2009-03-07 00:00:00.000"
                },
                {
                  "0": "38",
                  "1": "2010-01-16 00:00:00.000",
                  "2": "12.45",
                  "3": "1",
                  "4": "2014-06-30 00:00:00.000",
                  "5": "38",
                  "6": "2010-01-16 00:00:00.000"
                },
                {
                  "0": "39",
                  "1": "2010-02-05 00:00:00.000",
                  "2": "12.45",
                  "3": "1",
                  "4": "2014-06-30 00:00:00.000",
                  "5": "39",
                  "6": "2010-02-05 00:00:00.000"
                },
                {
                  "0": "40",
                  "1": "2007-12-26 00:00:00.000",
                  "2": "25.00",
                  "3": "2",
                  "4": "2014-06-30 00:00:00.000",
                  "5": "40",
                  "6": "2007-12-26 00:00:00.000"
                },
                {
                  "0": "41",
                  "1": "2009-01-21 00:00:00.000",
                  "2": "12.45",
                  "3": "1",
                  "4": "2014-06-30 00:00:00.000",
                  "5": "41",
                  "6": "2009-01-21 00:00:00.000"
                },
                {
                  "0": "42",
                  "1": "2008-12-27 00:00:00.000",
                  "2": "12.45",
                  "3": "1",
                  "4": "2014-06-30 00:00:00.000",
                  "5": "42",
                  "6": "2008-12-27 00:00:00.000"
                },
                {
                  "0": "43",
                  "1": "2009-01-02 00:00:00.000",
                  "2": "12.45",
                  "3": "1",
                  "4": "2014-06-30 00:00:00.000",
                  "5": "43",
                  "6": "2009-01-02 00:00:00.000"
                },
                {
                  "0": "44",
                  "1": "2008-12-08 00:00:00.000",
                  "2": "12.45",
                  "3": "1",
                  "4": "2014-06-30 00:00:00.000",
                  "5": "44",
                  "6": "2008-12-08 00:00:00.000"
                },
                {
                  "0": "45",
                  "1": "2009-02-26 00:00:00.000",
                  "2": "12.45",
                  "3": "1",
                  "4": "2014-06-30 00:00:00.000",
                  "5": "45",
                  "6": "2009-02-26 00:00:00.000"
                },
                {
                  "0": "46",
                  "1": "2009-02-08 00:00:00.000",
                  "2": "12.45",
                  "3": "1",
                  "4": "2014-06-30 00:00:00.000",
                  "5": "46",
                  "6": "2009-02-08 00:00:00.000"
                },
                {
                  "0": "47",
                  "1": "2009-02-22 00:00:00.000",
                  "2": "25.00",
                  "3": "2",
                  "4": "2014-06-30 00:00:00.000",
                  "5": "47",
                  "6": "2009-02-22 00:00:00.000"
                },
                {
                  "0": "48",
                  "1": "2008-01-06 00:00:00.000",
                  "2": "13.45",
                  "3": "1",
                  "4": "2014-06-30 00:00:00.000",
                  "5": "48",
                  "6": "2008-01-06 00:00:00.000"
                },
                {
                  "0": "49",
                  "1": "2008-01-07 00:00:00.000",
                  "2": "13.45",
                  "3": "1",
                  "4": "2014-06-30 00:00:00.000",
                  "5": "49",
                  "6": "2008-01-07 00:00:00.000"
                },
                {
                  "0": "50",
                  "1": "2008-02-02 00:00:00.000",
                  "2": "13.45",
                  "3": "1",
                  "4": "2014-06-30 00:00:00.000",
                  "5": "50",
                  "6": "2008-02-02 00:00:00.000"
                },
                {
                  "0": "51",
                  "1": "2008-02-20 00:00:00.000",
                  "2": "13.45",
                  "3": "1",
                  "4": "2014-06-30 00:00:00.000",
                  "5": "51",
                  "6": "2008-02-20 00:00:00.000"
                },
                {
                  "0": "52",
                  "1": "2008-03-10 00:00:00.000",
                  "2": "13.45",
                  "3": "1",
                  "4": "2014-06-30 00:00:00.000",
                  "5": "52",
                  "6": "2008-03-10 00:00:00.000"
                },
                {
                  "0": "53",
                  "1": "2008-03-28 00:00:00.000",
                  "2": "13.45",
                  "3": "1",
                  "4": "2014-06-30 00:00:00.000",
                  "5": "53",
                  "6": "2008-03-28 00:00:00.000"
                },
                {
                  "0": "54",
                  "1": "2010-01-01 00:00:00.000",
                  "2": "13.45",
                  "3": "1",
                  "4": "2014-06-30 00:00:00.000",
                  "5": "54",
                  "6": "2010-01-01 00:00:00.000"
                },
                {
                  "0": "55",
                  "1": "2008-02-08 00:00:00.000",
                  "2": "25.00",
                  "3": "2",
                  "4": "2014-06-30 00:00:00.000",
                  "5": "55",
                  "6": "2008-02-08 00:00:00.000"
                },
                {
                  "0": "56",
                  "1": "2009-02-05 00:00:00.000",
                  "2": "11.00",
                  "3": "1",
                  "4": "2014-06-30 00:00:00.000",
                  "5": "56",
                  "6": "2009-02-05 00:00:00.000"
                },
                {
                  "0": "57",
                  "1": "2009-02-23 00:00:00.000",
                  "2": "11.00",
                  "3": "1",
                  "4": "2014-06-30 00:00:00.000",
                  "5": "57",
                  "6": "2009-02-23 00:00:00.000"
                },
                {
                  "0": "58",
                  "1": "2008-12-05 00:00:00.000",
                  "2": "11.00",
                  "3": "1",
                  "4": "2014-06-30 00:00:00.000",
                  "5": "58",
                  "6": "2008-12-05 00:00:00.000"
                },
                {
                  "0": "59",
                  "1": "2008-12-24 00:00:00.000",
                  "2": "11.00",
                  "3": "1",
                  "4": "2014-06-30 00:00:00.000",
                  "5": "59",
                  "6": "2008-12-24 00:00:00.000"
                },
                {
                  "0": "60",
                  "1": "2009-01-11 00:00:00.000",
                  "2": "11.00",
                  "3": "1",
                  "4": "2014-06-30 00:00:00.000",
                  "5": "60",
                  "6": "2009-01-11 00:00:00.000"
                },
                {
                  "0": "61",
                  "1": "2009-01-18 00:00:00.000",
                  "2": "11.00",
                  "3": "1",
                  "4": "2014-06-30 00:00:00.000",
                  "5": "61",
                  "6": "2009-01-18 00:00:00.000"
                },
                {
                  "0": "62",
                  "1": "2008-03-17 00:00:00.000",
                  "2": "25.00",
                  "3": "2",
                  "4": "2014-06-30 00:00:00.000",
                  "5": "62",
                  "6": "2008-03-17 00:00:00.000"
                },
                {
                  "0": "63",
                  "1": "2010-01-29 00:00:00.000",
                  "2": "12.45",
                  "3": "1",
                  "4": "2014-06-30 00:00:00.000",
                  "5": "63",
                  "6": "2010-01-29 00:00:00.000"
                },
                {
                  "0": "64",
                  "1": "2010-02-23 00:00:00.000",
                  "2": "12.45",
                  "3": "1",
                  "4": "2014-06-30 00:00:00.000",
                  "5": "64",
                  "6": "2010-02-23 00:00:00.000"
                },
                {
                  "0": "65",
                  "1": "2010-02-23 00:00:00.000",
                  "2": "12.45",
                  "3": "1",
                  "4": "2014-06-30 00:00:00.000",
                  "5": "65",
                  "6": "2010-02-23 00:00:00.000"
                },
                {
                  "0": "66",
                  "1": "2009-12-22 00:00:00.000",
                  "2": "12.45",
                  "3": "1",
                  "4": "2014-06-30 00:00:00.000",
                  "5": "66",
                  "6": "2009-12-22 00:00:00.000"
                },
                {
                  "0": "67",
                  "1": "2009-03-05 00:00:00.000",
                  "2": "12.45",
                  "3": "1",
                  "4": "2014-06-30 00:00:00.000",
                  "5": "67",
                  "6": "2009-03-05 00:00:00.000"
                },
                {
                  "0": "68",
                  "1": "2009-12-03 00:00:00.000",
                  "2": "12.45",
                  "3": "1",
                  "4": "2014-06-30 00:00:00.000",
                  "5": "68",
                  "6": "2009-12-03 00:00:00.000"
                },
                {
                  "0": "69",
                  "1": "2009-02-15 00:00:00.000",
                  "2": "12.45",
                  "3": "1",
                  "4": "2014-06-30 00:00:00.000",
                  "5": "69",
                  "6": "2009-02-15 00:00:00.000"
                },
                {
                  "0": "70",
                  "1": "2008-12-15 00:00:00.000",
                  "2": "12.45",
                  "3": "1",
                  "4": "2014-06-30 00:00:00.000",
                  "5": "70",
                  "6": "2008-12-15 00:00:00.000"
                },
                {
                  "0": "71",
                  "1": "2009-02-15 00:00:00.000",
                  "2": "25.00",
                  "3": "2",
                  "4": "2014-06-30 00:00:00.000",
                  "5": "71",
                  "6": "2009-02-15 00:00:00.000"
                },
                {
                  "0": "72",
                  "1": "2008-12-01 00:00:00.000",
                  "2": "9.50",
                  "3": "1",
                  "4": "2014-06-30 00:00:00.000",
                  "5": "72",
                  "6": "2008-12-01 00:00:00.000"
                },
                {
                  "0": "73",
                  "1": "2008-12-19 00:00:00.000",
                  "2": "9.50",
                  "3": "1",
                  "4": "2014-06-30 00:00:00.000",
                  "5": "73",
                  "6": "2008-12-19 00:00:00.000"
                },
                {
                  "0": "74",
                  "1": "2009-01-07 00:00:00.000",
                  "2": "9.50",
                  "3": "1",
                  "4": "2014-06-30 00:00:00.000",
                  "5": "74",
                  "6": "2009-01-07 00:00:00.000"
                },
                {
                  "0": "75",
                  "1": "2009-01-26 00:00:00.000",
                  "2": "9.50",
                  "3": "1",
                  "4": "2014-06-30 00:00:00.000",
                  "5": "75",
                  "6": "2009-01-26 00:00:00.000"
                },
                {
                  "0": "76",
                  "1": "2009-02-12 00:00:00.000",
                  "2": "9.50",
                  "3": "1",
                  "4": "2014-06-30 00:00:00.000",
                  "5": "76",
                  "6": "2009-02-12 00:00:00.000"
                },
                {
                  "0": "77",
                  "1": "2009-03-03 00:00:00.000",
                  "2": "9.50",
                  "3": "1",
                  "4": "2014-06-30 00:00:00.000",
                  "5": "77",
                  "6": "2009-03-03 00:00:00.000"
                },
                {
                  "0": "78",
                  "1": "2008-12-15 00:00:00.000",
                  "2": "25.00",
                  "3": "2",
                  "4": "2014-06-30 00:00:00.000",
                  "5": "78",
                  "6": "2008-12-15 00:00:00.000"
                },
                {
                  "0": "79",
                  "1": "2010-01-24 00:00:00.000",
                  "2": "15.00",
                  "3": "1",
                  "4": "2014-06-30 00:00:00.000",
                  "5": "79",
                  "6": "2010-01-24 00:00:00.000"
                },
                {
                  "0": "80",
                  "1": "2010-01-17 00:00:00.000",
                  "2": "15.00",
                  "3": "1",
                  "4": "2014-06-30 00:00:00.000",
                  "5": "80",
                  "6": "2010-01-17 00:00:00.000"
                },
                {
                  "0": "81",
                  "1": "2009-12-29 00:00:00.000",
                  "2": "15.00",
                  "3": "1",
                  "4": "2014-06-30 00:00:00.000",
                  "5": "81",
                  "6": "2009-12-29 00:00:00.000"
                },
                {
                  "0": "82",
                  "1": "2010-03-03 00:00:00.000",
                  "2": "15.00",
                  "3": "1",
                  "4": "2014-06-30 00:00:00.000",
                  "5": "82",
                  "6": "2010-03-03 00:00:00.000"
                },
                {
                  "0": "83",
                  "1": "2010-02-12 00:00:00.000",
                  "2": "15.00",
                  "3": "1",
                  "4": "2014-06-30 00:00:00.000",
                  "5": "83",
                  "6": "2010-02-12 00:00:00.000"
                },
                {
                  "0": "84",
                  "1": "2010-02-05 00:00:00.000",
                  "2": "15.00",
                  "3": "1",
                  "4": "2014-06-30 00:00:00.000",
                  "5": "84",
                  "6": "2010-02-05 00:00:00.000"
                },
                {
                  "0": "85",
                  "1": "2009-12-11 00:00:00.000",
                  "2": "15.00",
                  "3": "1",
                  "4": "2014-06-30 00:00:00.000",
                  "5": "85",
                  "6": "2009-12-11 00:00:00.000"
                },
                {
                  "0": "86",
                  "1": "2009-01-05 00:00:00.000",
                  "2": "15.00",
                  "3": "1",
                  "4": "2014-06-30 00:00:00.000",
                  "5": "86",
                  "6": "2009-01-05 00:00:00.000"
                },
                {
                  "0": "87",
                  "1": "2008-12-22 00:00:00.000",
                  "2": "25.00",
                  "3": "2",
                  "4": "2014-06-30 00:00:00.000",
                  "5": "87",
                  "6": "2008-12-22 00:00:00.000"
                },
                {
                  "0": "88",
                  "1": "2009-12-18 00:00:00.000",
                  "2": "13.45",
                  "3": "1",
                  "4": "2014-06-30 00:00:00.000",
                  "5": "88",
                  "6": "2009-12-18 00:00:00.000"
                },
                {
                  "0": "89",
                  "1": "2010-02-01 00:00:00.000",
                  "2": "13.45",
                  "3": "1",
                  "4": "2014-06-30 00:00:00.000",
                  "5": "89",
                  "6": "2010-02-01 00:00:00.000"
                },
                {
                  "0": "90",
                  "1": "2010-02-20 00:00:00.000",
                  "2": "13.45",
                  "3": "1",
                  "4": "2014-06-30 00:00:00.000",
                  "5": "90",
                  "6": "2010-02-20 00:00:00.000"
                },
                {
                  "0": "91",
                  "1": "2010-01-12 00:00:00.000",
                  "2": "13.45",
                  "3": "1",
                  "4": "2014-06-30 00:00:00.000",
                  "5": "91",
                  "6": "2010-01-12 00:00:00.000"
                },
                {
                  "0": "92",
                  "1": "2010-03-10 00:00:00.000",
                  "2": "13.45",
                  "3": "1",
                  "4": "2014-06-30 00:00:00.000",
                  "5": "92",
                  "6": "2010-03-10 00:00:00.000"
                },
                {
                  "0": "93",
                  "1": "2008-12-27 00:00:00.000",
                  "2": "25.00",
                  "3": "2",
                  "4": "2014-06-30 00:00:00.000",
                  "5": "93",
                  "6": "2008-12-27 00:00:00.000"
                },
                {
                  "0": "94",
                  "1": "2008-12-12 00:00:00.000",
                  "2": "11.00",
                  "3": "1",
                  "4": "2014-06-30 00:00:00.000",
                  "5": "94",
                  "6": "2008-12-12 00:00:00.000"
                },
                {
                  "0": "95",
                  "1": "2008-12-19 00:00:00.000",
                  "2": "11.00",
                  "3": "1",
                  "4": "2014-06-30 00:00:00.000",
                  "5": "95",
                  "6": "2008-12-19 00:00:00.000"
                },
                {
                  "0": "96",
                  "1": "2009-03-02 00:00:00.000",
                  "2": "11.00",
                  "3": "1",
                  "4": "2014-06-30 00:00:00.000",
                  "5": "96",
                  "6": "2009-03-02 00:00:00.000"
                },
                {
                  "0": "97",
                  "1": "2009-02-10 00:00:00.000",
                  "2": "11.00",
                  "3": "1",
                  "4": "2014-06-30 00:00:00.000",
                  "5": "97",
                  "6": "2009-02-10 00:00:00.000"
                },
                {
                  "0": "98",
                  "1": "2009-02-11 00:00:00.000",
                  "2": "11.00",
                  "3": "1",
                  "4": "2014-06-30 00:00:00.000",
                  "5": "98",
                  "6": "2009-02-11 00:00:00.000"
                },
                {
                  "0": "99",
                  "1": "2009-01-06 00:00:00.000",
                  "2": "11.00",
                  "3": "1",
                  "4": "2014-06-30 00:00:00.000",
                  "5": "99",
                  "6": "2009-01-06 00:00:00.000"
                },
                {
                  "0": "100",
                  "1": "2009-01-12 00:00:00.000",
                  "2": "11.00",
                  "3": "1",
                  "4": "2014-06-30 00:00:00.000",
                  "5": "100",
                  "6": "2009-01-12 00:00:00.000"
                },
                {
                  "0": "101",
                  "1": "2009-01-25 00:00:00.000",
                  "2": "11.00",
                  "3": "1",
                  "4": "2014-06-30 00:00:00.000",
                  "5": "101",
                  "6": "2009-01-25 00:00:00.000"
                },
                {
                  "0": "102",
                  "1": "2008-12-03 00:00:00.000",
                  "2": "25.00",
                  "3": "2",
                  "4": "2014-06-30 00:00:00.000",
                  "5": "102",
                  "6": "2008-12-03 00:00:00.000"
                },
                {
                  "0": "103",
                  "1": "2009-12-06 00:00:00.000",
                  "2": "13.45",
                  "3": "1",
                  "4": "2014-06-30 00:00:00.000",
                  "5": "103",
                  "6": "2009-12-06 00:00:00.000"
                },
                {
                  "0": "104",
                  "1": "2009-12-25 00:00:00.000",
                  "2": "13.45",
                  "3": "1",
                  "4": "2014-06-30 00:00:00.000",
                  "5": "104",
                  "6": "2009-12-25 00:00:00.000"
                },
                {
                  "0": "105",
                  "1": "2009-12-25 00:00:00.000",
                  "2": "13.45",
                  "3": "1",
                  "4": "2014-06-30 00:00:00.000",
                  "5": "105",
                  "6": "2009-12-25 00:00:00.000"
                },
                {
                  "0": "106",
                  "1": "2010-02-27 00:00:00.000",
                  "2": "13.45",
                  "3": "1",
                  "4": "2014-06-30 00:00:00.000",
                  "5": "106",
                  "6": "2010-02-27 00:00:00.000"
                },
                {
                  "0": "107",
                  "1": "2010-02-08 00:00:00.000",
                  "2": "13.45",
                  "3": "1",
                  "4": "2014-06-30 00:00:00.000",
                  "5": "107",
                  "6": "2010-02-08 00:00:00.000"
                },
                {
                  "0": "108",
                  "1": "2008-12-08 00:00:00.000",
                  "2": "25.00",
                  "3": "2",
                  "4": "2014-06-30 00:00:00.000",
                  "5": "108",
                  "6": "2008-12-08 00:00:00.000"
                },
                {
                  "0": "109",
                  "1": "2008-12-07 00:00:00.000",
                  "2": "11.00",
                  "3": "1",
                  "4": "2014-06-30 00:00:00.000",
                  "5": "109",
                  "6": "2008-12-07 00:00:00.000"
                },
                {
                  "0": "110",
                  "1": "2008-12-14 00:00:00.000",
                  "2": "11.00",
                  "3": "1",
                  "4": "2014-06-30 00:00:00.000",
                  "5": "110",
                  "6": "2008-12-14 00:00:00.000"
                },
                {
                  "0": "111",
                  "1": "2008-12-17 00:00:00.000",
                  "2": "11.00",
                  "3": "1",
                  "4": "2014-06-30 00:00:00.000",
                  "5": "111",
                  "6": "2008-12-17 00:00:00.000"
                },
                {
                  "0": "112",
                  "1": "2009-01-01 00:00:00.000",
                  "2": "11.00",
                  "3": "1",
                  "4": "2014-06-30 00:00:00.000",
                  "5": "112",
                  "6": "2009-01-01 00:00:00.000"
                },
                {
                  "0": "113",
                  "1": "2008-12-25 00:00:00.000",
                  "2": "11.00",
                  "3": "1",
                  "4": "2014-06-30 00:00:00.000",
                  "5": "113",
                  "6": "2008-12-25 00:00:00.000"
                },
                {
                  "0": "114",
                  "1": "2009-01-13 00:00:00.000",
                  "2": "11.00",
                  "3": "1",
                  "4": "2014-06-30 00:00:00.000",
                  "5": "114",
                  "6": "2009-01-13 00:00:00.000"
                },
                {
                  "0": "115",
                  "1": "2009-01-20 00:00:00.000",
                  "2": "11.00",
                  "3": "1",
                  "4": "2014-06-30 00:00:00.000",
                  "5": "115",
                  "6": "2009-01-20 00:00:00.000"
                },
                {
                  "0": "116",
                  "1": "2009-01-31 00:00:00.000",
                  "2": "11.00",
                  "3": "1",
                  "4": "2014-06-30 00:00:00.000",
                  "5": "116",
                  "6": "2009-01-31 00:00:00.000"
                },
                {
                  "0": "117",
                  "1": "2009-02-18 00:00:00.000",
                  "2": "11.00",
                  "3": "1",
                  "4": "2014-06-30 00:00:00.000",
                  "5": "117",
                  "6": "2009-02-18 00:00:00.000"
                },
                {
                  "0": "118",
                  "1": "2009-02-13 00:00:00.000",
                  "2": "11.00",
                  "3": "1",
                  "4": "2014-06-30 00:00:00.000",
                  "5": "118",
                  "6": "2009-02-13 00:00:00.000"
                },
                {
                  "0": "119",
                  "1": "2009-02-25 00:00:00.000",
                  "2": "11.00",
                  "3": "1",
                  "4": "2014-06-30 00:00:00.000",
                  "5": "119",
                  "6": "2009-02-25 00:00:00.000"
                },
                {
                  "0": "120",
                  "1": "2009-03-04 00:00:00.000",
                  "2": "11.00",
                  "3": "1",
                  "4": "2014-06-30 00:00:00.000",
                  "5": "120",
                  "6": "2009-03-04 00:00:00.000"
                },
                {
                  "0": "121",
                  "1": "2009-01-02 00:00:00.000",
                  "2": "19.2308",
                  "3": "2",
                  "4": "2014-06-30 00:00:00.000",
                  "5": "121",
                  "6": "2009-01-02 00:00:00.000"
                },
                {
                  "0": "122",
                  "1": "2008-12-07 00:00:00.000",
                  "2": "9.00",
                  "3": "1",
                  "4": "2014-06-30 00:00:00.000",
                  "5": "122",
                  "6": "2008-12-07 00:00:00.000"
                },
                {
                  "0": "123",
                  "1": "2008-12-07 00:00:00.000",
                  "2": "9.50",
                  "3": "2",
                  "4": "2014-06-30 00:00:00.000",
                  "5": "123",
                  "6": "2008-12-07 00:00:00.000"
                },
                {
                  "0": "124",
                  "1": "2008-12-26 00:00:00.000",
                  "2": "9.00",
                  "3": "1",
                  "4": "2014-06-30 00:00:00.000",
                  "5": "124",
                  "6": "2008-12-26 00:00:00.000"
                },
                {
                  "0": "125",
                  "1": "2009-01-20 00:00:00.000",
                  "2": "9.50",
                  "3": "2",
                  "4": "2014-06-30 00:00:00.000",
                  "5": "125",
                  "6": "2009-01-20 00:00:00.000"
                },
                {
                  "0": "126",
                  "1": "2009-02-26 00:00:00.000",
                  "2": "9.00",
                  "3": "1",
                  "4": "2014-06-30 00:00:00.000",
                  "5": "126",
                  "6": "2009-02-26 00:00:00.000"
                },
                {
                  "0": "127",
                  "1": "2009-01-03 00:00:00.000",
                  "2": "25.00",
                  "3": "2",
                  "4": "2014-06-30 00:00:00.000",
                  "5": "127",
                  "6": "2009-01-03 00:00:00.000"
                },
                {
                  "0": "128",
                  "1": "2008-12-04 00:00:00.000",
                  "2": "15.00",
                  "3": "1",
                  "4": "2014-06-30 00:00:00.000",
                  "5": "128",
                  "6": "2008-12-04 00:00:00.000"
                },
                {
                  "0": "129",
                  "1": "2008-12-22 00:00:00.000",
                  "2": "15.00",
                  "3": "1",
                  "4": "2014-06-30 00:00:00.000",
                  "5": "129",
                  "6": "2008-12-22 00:00:00.000"
                },
                {
                  "0": "130",
                  "1": "2009-02-13 00:00:00.000",
                  "2": "15.00",
                  "3": "1",
                  "4": "2014-06-30 00:00:00.000",
                  "5": "130",
                  "6": "2009-02-13 00:00:00.000"
                },
                {
                  "0": "131",
                  "1": "2009-02-15 00:00:00.000",
                  "2": "15.00",
                  "3": "1",
                  "4": "2014-06-30 00:00:00.000",
                  "5": "131",
                  "6": "2009-02-15 00:00:00.000"
                },
                {
                  "0": "132",
                  "1": "2009-02-22 00:00:00.000",
                  "2": "15.00",
                  "3": "1",
                  "4": "2014-06-30 00:00:00.000",
                  "5": "132",
                  "6": "2009-02-22 00:00:00.000"
                },
                {
                  "0": "133",
                  "1": "2009-01-10 00:00:00.000",
                  "2": "15.00",
                  "3": "1",
                  "4": "2014-06-30 00:00:00.000",
                  "5": "133",
                  "6": "2009-01-10 00:00:00.000"
                },
                {
                  "0": "134",
                  "1": "2009-01-14 00:00:00.000",
                  "2": "25.00",
                  "3": "2",
                  "4": "2014-06-30 00:00:00.000",
                  "5": "134",
                  "6": "2009-01-14 00:00:00.000"
                },
                {
                  "0": "135",
                  "1": "2008-12-04 00:00:00.000",
                  "2": "14.00",
                  "3": "1",
                  "4": "2014-06-30 00:00:00.000",
                  "5": "135",
                  "6": "2008-12-04 00:00:00.000"
                },
                {
                  "0": "136",
                  "1": "2009-12-11 00:00:00.000",
                  "2": "14.00",
                  "3": "1",
                  "4": "2014-06-30 00:00:00.000",
                  "5": "136",
                  "6": "2009-12-11 00:00:00.000"
                },
                {
                  "0": "137",
                  "1": "2009-02-23 00:00:00.000",
                  "2": "14.00",
                  "3": "1",
                  "4": "2014-06-30 00:00:00.000",
                  "5": "137",
                  "6": "2009-02-23 00:00:00.000"
                },
                {
                  "0": "138",
                  "1": "2009-02-04 00:00:00.000",
                  "2": "14.00",
                  "3": "1",
                  "4": "2014-06-30 00:00:00.000",
                  "5": "138",
                  "6": "2009-02-04 00:00:00.000"
                },
                {
                  "0": "139",
                  "1": "2010-01-06 00:00:00.000",
                  "2": "14.00",
                  "3": "1",
                  "4": "2014-06-30 00:00:00.000",
                  "5": "139",
                  "6": "2010-01-06 00:00:00.000"
                },
                {
                  "0": "140",
                  "1": "2010-01-22 00:00:00.000",
                  "2": "14.00",
                  "3": "1",
                  "4": "2014-06-30 00:00:00.000",
                  "5": "140",
                  "6": "2010-01-22 00:00:00.000"
                },
                {
                  "0": "141",
                  "1": "2010-01-24 00:00:00.000",
                  "2": "14.00",
                  "3": "1",
                  "4": "2014-06-30 00:00:00.000",
                  "5": "141",
                  "6": "2010-01-24 00:00:00.000"
                },
                {
                  "0": "142",
                  "1": "2010-03-04 00:00:00.000",
                  "2": "14.00",
                  "3": "1",
                  "4": "2014-06-30 00:00:00.000",
                  "5": "142",
                  "6": "2010-03-04 00:00:00.000"
                },
                {
                  "0": "143",
                  "1": "2010-02-13 00:00:00.000",
                  "2": "14.00",
                  "3": "1",
                  "4": "2014-06-30 00:00:00.000",
                  "5": "143",
                  "6": "2010-02-13 00:00:00.000"
                },
                {
                  "0": "144",
                  "1": "2009-01-17 00:00:00.000",
                  "2": "14.00",
                  "3": "1",
                  "4": "2014-06-30 00:00:00.000",
                  "5": "144",
                  "6": "2009-01-17 00:00:00.000"
                },
                {
                  "0": "145",
                  "1": "2009-01-27 00:00:00.000",
                  "2": "25.00",
                  "3": "2",
                  "4": "2014-06-30 00:00:00.000",
                  "5": "145",
                  "6": "2009-01-27 00:00:00.000"
                },
                {
                  "0": "146",
                  "1": "2008-12-07 00:00:00.000",
                  "2": "9.50",
                  "3": "1",
                  "4": "2014-06-30 00:00:00.000",
                  "5": "146",
                  "6": "2008-12-07 00:00:00.000"
                },
                {
                  "0": "147",
                  "1": "2008-12-26 00:00:00.000",
                  "2": "9.50",
                  "3": "1",
                  "4": "2014-06-30 00:00:00.000",
                  "5": "147",
                  "6": "2008-12-26 00:00:00.000"
                },
                {
                  "0": "148",
                  "1": "2009-01-14 00:00:00.000",
                  "2": "9.50",
                  "3": "1",
                  "4": "2014-06-30 00:00:00.000",
                  "5": "148",
                  "6": "2009-01-14 00:00:00.000"
                },
                {
                  "0": "149",
                  "1": "2009-01-31 00:00:00.000",
                  "2": "9.50",
                  "3": "1",
                  "4": "2014-06-30 00:00:00.000",
                  "5": "149",
                  "6": "2009-01-31 00:00:00.000"
                },
                {
                  "0": "150",
                  "1": "2009-02-26 00:00:00.000",
                  "2": "9.50",
                  "3": "1",
                  "4": "2014-06-30 00:00:00.000",
                  "5": "150",
                  "6": "2009-02-26 00:00:00.000"
                },
                {
                  "0": "151",
                  "1": "2009-02-19 00:00:00.000",
                  "2": "9.50",
                  "3": "1",
                  "4": "2014-06-30 00:00:00.000",
                  "5": "151",
                  "6": "2009-02-19 00:00:00.000"
                },
                {
                  "0": "152",
                  "1": "2009-02-01 00:00:00.000",
                  "2": "25.00",
                  "3": "2",
                  "4": "2014-06-30 00:00:00.000",
                  "5": "152",
                  "6": "2009-02-01 00:00:00.000"
                },
                {
                  "0": "153",
                  "1": "2008-12-16 00:00:00.000",
                  "2": "14.00",
                  "3": "1",
                  "4": "2014-06-30 00:00:00.000",
                  "5": "153",
                  "6": "2008-12-16 00:00:00.000"
                },
                {
                  "0": "154",
                  "1": "2008-12-23 00:00:00.000",
                  "2": "14.00",
                  "3": "1",
                  "4": "2014-06-30 00:00:00.000",
                  "5": "154",
                  "6": "2008-12-23 00:00:00.000"
                },
                {
                  "0": "155",
                  "1": "2009-01-04 00:00:00.000",
                  "2": "14.00",
                  "3": "1",
                  "4": "2014-06-30 00:00:00.000",
                  "5": "155",
                  "6": "2009-01-04 00:00:00.000"
                },
                {
                  "0": "156",
                  "1": "2009-01-11 00:00:00.000",
                  "2": "14.00",
                  "3": "1",
                  "4": "2014-06-30 00:00:00.000",
                  "5": "156",
                  "6": "2009-01-11 00:00:00.000"
                },
                {
                  "0": "157",
                  "1": "2009-02-03 00:00:00.000",
                  "2": "14.00",
                  "3": "1",
                  "4": "2014-06-30 00:00:00.000",
                  "5": "157",
                  "6": "2009-02-03 00:00:00.000"
                },
                {
                  "0": "158",
                  "1": "2009-03-07 00:00:00.000",
                  "2": "14.00",
                  "3": "1",
                  "4": "2014-06-30 00:00:00.000",
                  "5": "158",
                  "6": "2009-03-07 00:00:00.000"
                },
                {
                  "0": "159",
                  "1": "2009-02-16 00:00:00.000",
                  "2": "14.00",
                  "3": "1",
                  "4": "2014-06-30 00:00:00.000",
                  "5": "159",
                  "6": "2009-02-16 00:00:00.000"
                },
                {
                  "0": "160",
                  "1": "2009-01-21 00:00:00.000",
                  "2": "25.00",
                  "3": "2",
                  "4": "2014-06-30 00:00:00.000",
                  "5": "160",
                  "6": "2009-01-21 00:00:00.000"
                },
                {
                  "0": "161",
                  "1": "2008-12-15 00:00:00.000",
                  "2": "10.00",
                  "3": "1",
                  "4": "2014-06-30 00:00:00.000",
                  "5": "161",
                  "6": "2008-12-15 00:00:00.000"
                },
                {
                  "0": "162",
                  "1": "2009-01-03 00:00:00.000",
                  "2": "10.00",
                  "3": "1",
                  "4": "2014-06-30 00:00:00.000",
                  "5": "162",
                  "6": "2009-01-03 00:00:00.000"
                },
                {
                  "0": "163",
                  "1": "2009-02-08 00:00:00.000",
                  "2": "10.00",
                  "3": "1",
                  "4": "2014-06-30 00:00:00.000",
                  "5": "163",
                  "6": "2009-02-08 00:00:00.000"
                },
                {
                  "0": "164",
                  "1": "2009-03-06 00:00:00.000",
                  "2": "10.00",
                  "3": "1",
                  "4": "2014-06-30 00:00:00.000",
                  "5": "164",
                  "6": "2009-03-06 00:00:00.000"
                },
                {
                  "0": "165",
                  "1": "2009-01-22 00:00:00.000",
                  "2": "10.00",
                  "3": "1",
                  "4": "2014-06-30 00:00:00.000",
                  "5": "165",
                  "6": "2009-01-22 00:00:00.000"
                },
                {
                  "0": "166",
                  "1": "2009-02-21 00:00:00.000",
                  "2": "25.00",
                  "3": "2",
                  "4": "2014-06-30 00:00:00.000",
                  "5": "166",
                  "6": "2009-02-21 00:00:00.000"
                },
                {
                  "0": "167",
                  "1": "2013-07-14 00:00:00.000",
                  "2": "9.50",
                  "3": "1",
                  "4": "2013-06-30 00:00:00.000",
                  "5": "167",
                  "6": "2013-07-14 00:00:00.000"
                },
                {
                  "0": "168",
                  "1": "2008-12-07 00:00:00.000",
                  "2": "9.50",
                  "3": "1",
                  "4": "2014-06-30 00:00:00.000",
                  "5": "168",
                  "6": "2008-12-07 00:00:00.000"
                },
                {
                  "0": "169",
                  "1": "2008-12-14 00:00:00.000",
                  "2": "9.50",
                  "3": "1",
                  "4": "2014-06-30 00:00:00.000",
                  "5": "169",
                  "6": "2008-12-14 00:00:00.000"
                },
                {
                  "0": "170",
                  "1": "2013-07-14 00:00:00.000",
                  "2": "9.50",
                  "3": "1",
                  "4": "2013-06-30 00:00:00.000",
                  "5": "170",
                  "6": "2013-07-14 00:00:00.000"
                },
                {
                  "0": "171",
                  "1": "2009-01-02 00:00:00.000",
                  "2": "9.50",
                  "3": "1",
                  "4": "2014-06-30 00:00:00.000",
                  "5": "171",
                  "6": "2009-01-02 00:00:00.000"
                },
                {
                  "0": "172",
                  "1": "2013-07-14 00:00:00.000",
                  "2": "9.50",
                  "3": "1",
                  "4": "2013-06-30 00:00:00.000",
                  "5": "172",
                  "6": "2013-07-14 00:00:00.000"
                },
                {
                  "0": "173",
                  "1": "2009-01-21 00:00:00.000",
                  "2": "9.50",
                  "3": "1",
                  "4": "2014-06-30 00:00:00.000",
                  "5": "173",
                  "6": "2009-01-21 00:00:00.000"
                },
                {
                  "0": "174",
                  "1": "2013-07-14 00:00:00.000",
                  "2": "9.50",
                  "3": "1",
                  "4": "2013-06-30 00:00:00.000",
                  "5": "174",
                  "6": "2013-07-14 00:00:00.000"
                },
                {
                  "0": "175",
                  "1": "2013-07-14 00:00:00.000",
                  "2": "9.50",
                  "3": "1",
                  "4": "2013-06-30 00:00:00.000",
                  "5": "175",
                  "6": "2013-07-14 00:00:00.000"
                },
                {
                  "0": "176",
                  "1": "2013-07-14 00:00:00.000",
                  "2": "9.50",
                  "3": "1",
                  "4": "2013-06-30 00:00:00.000",
                  "5": "176",
                  "6": "2013-07-14 00:00:00.000"
                },
                {
                  "0": "177",
                  "1": "2013-07-14 00:00:00.000",
                  "2": "9.50",
                  "3": "1",
                  "4": "2013-06-30 00:00:00.000",
                  "5": "177",
                  "6": "2013-07-14 00:00:00.000"
                },
                {
                  "0": "178",
                  "1": "2013-07-14 00:00:00.000",
                  "2": "9.50",
                  "3": "1",
                  "4": "2013-06-30 00:00:00.000",
                  "5": "178",
                  "6": "2013-07-14 00:00:00.000"
                },
                {
                  "0": "179",
                  "1": "2009-03-05 00:00:00.000",
                  "2": "9.50",
                  "3": "1",
                  "4": "2014-06-30 00:00:00.000",
                  "5": "179",
                  "6": "2009-03-05 00:00:00.000"
                },
                {
                  "0": "180",
                  "1": "2009-02-20 00:00:00.000",
                  "2": "25.00",
                  "3": "2",
                  "4": "2014-06-30 00:00:00.000",
                  "5": "180",
                  "6": "2009-02-20 00:00:00.000"
                },
                {
                  "0": "181",
                  "1": "2008-12-09 00:00:00.000",
                  "2": "14.00",
                  "3": "1",
                  "4": "2014-06-30 00:00:00.000",
                  "5": "181",
                  "6": "2008-12-09 00:00:00.000"
                },
                {
                  "0": "182",
                  "1": "2008-12-28 00:00:00.000",
                  "2": "14.00",
                  "3": "1",
                  "4": "2014-06-30 00:00:00.000",
                  "5": "182",
                  "6": "2008-12-28 00:00:00.000"
                },
                {
                  "0": "183",
                  "1": "2009-01-22 00:00:00.000",
                  "2": "14.00",
                  "3": "1",
                  "4": "2014-06-30 00:00:00.000",
                  "5": "183",
                  "6": "2009-01-22 00:00:00.000"
                },
                {
                  "0": "184",
                  "1": "2009-02-09 00:00:00.000",
                  "2": "14.00",
                  "3": "1",
                  "4": "2014-06-30 00:00:00.000",
                  "5": "184",
                  "6": "2009-02-09 00:00:00.000"
                },
                {
                  "0": "185",
                  "1": "2009-02-28 00:00:00.000",
                  "2": "14.00",
                  "3": "1",
                  "4": "2014-06-30 00:00:00.000",
                  "5": "185",
                  "6": "2009-02-28 00:00:00.000"
                },
                {
                  "0": "186",
                  "1": "2009-02-08 00:00:00.000",
                  "2": "25.00",
                  "3": "2",
                  "4": "2014-06-30 00:00:00.000",
                  "5": "186",
                  "6": "2009-02-08 00:00:00.000"
                },
                {
                  "0": "187",
                  "1": "2008-12-09 00:00:00.000",
                  "2": "10.00",
                  "3": "1",
                  "4": "2014-06-30 00:00:00.000",
                  "5": "187",
                  "6": "2008-12-09 00:00:00.000"
                },
                {
                  "0": "188",
                  "1": "2008-12-27 00:00:00.000",
                  "2": "10.00",
                  "3": "1",
                  "4": "2014-06-30 00:00:00.000",
                  "5": "188",
                  "6": "2008-12-27 00:00:00.000"
                },
                {
                  "0": "189",
                  "1": "2009-01-15 00:00:00.000",
                  "2": "10.00",
                  "3": "1",
                  "4": "2014-06-30 00:00:00.000",
                  "5": "189",
                  "6": "2009-01-15 00:00:00.000"
                },
                {
                  "0": "190",
                  "1": "2009-02-02 00:00:00.000",
                  "2": "10.00",
                  "3": "1",
                  "4": "2014-06-30 00:00:00.000",
                  "5": "190",
                  "6": "2009-02-02 00:00:00.000"
                },
                {
                  "0": "191",
                  "1": "2009-02-26 00:00:00.000",
                  "2": "10.00",
                  "3": "1",
                  "4": "2014-06-30 00:00:00.000",
                  "5": "191",
                  "6": "2009-02-26 00:00:00.000"
                },
                {
                  "0": "192",
                  "1": "2009-03-05 00:00:00.000",
                  "2": "25.00",
                  "3": "2",
                  "4": "2014-06-30 00:00:00.000",
                  "5": "192",
                  "6": "2009-03-05 00:00:00.000"
                },
                {
                  "0": "193",
                  "1": "2008-12-06 00:00:00.000",
                  "2": "15.00",
                  "3": "1",
                  "4": "2014-06-30 00:00:00.000",
                  "5": "193",
                  "6": "2008-12-06 00:00:00.000"
                },
                {
                  "0": "194",
                  "1": "2008-12-12 00:00:00.000",
                  "2": "15.00",
                  "3": "1",
                  "4": "2014-06-30 00:00:00.000",
                  "5": "194",
                  "6": "2008-12-12 00:00:00.000"
                },
                {
                  "0": "195",
                  "1": "2008-12-17 00:00:00.000",
                  "2": "15.00",
                  "3": "1",
                  "4": "2014-06-30 00:00:00.000",
                  "5": "195",
                  "6": "2008-12-17 00:00:00.000"
                },
                {
                  "0": "196",
                  "1": "2008-12-24 00:00:00.000",
                  "2": "15.00",
                  "3": "1",
                  "4": "2014-06-30 00:00:00.000",
                  "5": "196",
                  "6": "2008-12-24 00:00:00.000"
                },
                {
                  "0": "197",
                  "1": "2008-12-31 00:00:00.000",
                  "2": "15.00",
                  "3": "1",
                  "4": "2014-06-30 00:00:00.000",
                  "5": "197",
                  "6": "2008-12-31 00:00:00.000"
                },
                {
                  "0": "198",
                  "1": "2009-01-04 00:00:00.000",
                  "2": "15.00",
                  "3": "1",
                  "4": "2014-06-30 00:00:00.000",
                  "5": "198",
                  "6": "2009-01-04 00:00:00.000"
                },
                {
                  "0": "199",
                  "1": "2009-01-12 00:00:00.000",
                  "2": "15.00",
                  "3": "1",
                  "4": "2014-06-30 00:00:00.000",
                  "5": "199",
                  "6": "2009-01-12 00:00:00.000"
                },
                {
                  "0": "200",
                  "1": "2009-01-17 00:00:00.000",
                  "2": "15.00",
                  "3": "1",
                  "4": "2014-06-30 00:00:00.000",
                  "5": "200",
                  "6": "2009-01-17 00:00:00.000"
                },
                {
                  "0": "201",
                  "1": "2009-01-29 00:00:00.000",
                  "2": "15.00",
                  "3": "1",
                  "4": "2014-06-30 00:00:00.000",
                  "5": "201",
                  "6": "2009-01-29 00:00:00.000"
                },
                {
                  "0": "202",
                  "1": "2009-02-05 00:00:00.000",
                  "2": "15.00",
                  "3": "1",
                  "4": "2014-06-30 00:00:00.000",
                  "5": "202",
                  "6": "2009-02-05 00:00:00.000"
                },
                {
                  "0": "203",
                  "1": "2009-02-24 00:00:00.000",
                  "2": "15.00",
                  "3": "1",
                  "4": "2014-06-30 00:00:00.000",
                  "5": "203",
                  "6": "2009-02-24 00:00:00.000"
                },
                {
                  "0": "204",
                  "1": "2009-03-08 00:00:00.000",
                  "2": "15.00",
                  "3": "1",
                  "4": "2014-06-30 00:00:00.000",
                  "5": "204",
                  "6": "2009-03-08 00:00:00.000"
                },
                {
                  "0": "205",
                  "1": "2009-02-26 00:00:00.000",
                  "2": "25.00",
                  "3": "2",
                  "4": "2014-06-30 00:00:00.000",
                  "5": "205",
                  "6": "2009-02-26 00:00:00.000"
                },
                {
                  "0": "206",
                  "1": "2008-12-02 00:00:00.000",
                  "2": "10.00",
                  "3": "1",
                  "4": "2014-06-30 00:00:00.000",
                  "5": "206",
                  "6": "2008-12-02 00:00:00.000"
                },
                {
                  "0": "207",
                  "1": "2008-12-02 00:00:00.000",
                  "2": "10.00",
                  "3": "1",
                  "4": "2014-06-30 00:00:00.000",
                  "5": "207",
                  "6": "2008-12-02 00:00:00.000"
                },
                {
                  "0": "208",
                  "1": "2009-01-08 00:00:00.000",
                  "2": "10.00",
                  "3": "1",
                  "4": "2014-06-30 00:00:00.000",
                  "5": "208",
                  "6": "2009-01-08 00:00:00.000"
                },
                {
                  "0": "209",
                  "1": "2009-01-27 00:00:00.000",
                  "2": "10.00",
                  "3": "1",
                  "4": "2014-06-30 00:00:00.000",
                  "5": "209",
                  "6": "2009-01-27 00:00:00.000"
                },
                {
                  "0": "210",
                  "1": "2009-02-20 00:00:00.000",
                  "2": "10.00",
                  "3": "1",
                  "4": "2014-06-30 00:00:00.000",
                  "5": "210",
                  "6": "2009-02-20 00:00:00.000"
                },
                {
                  "0": "211",
                  "1": "2009-02-28 00:00:00.000",
                  "2": "28.8462",
                  "3": "2",
                  "4": "2014-06-30 00:00:00.000",
                  "5": "211",
                  "6": "2009-02-28 00:00:00.000"
                },
                {
                  "0": "212",
                  "1": "2008-12-09 00:00:00.000",
                  "2": "21.6346",
                  "3": "2",
                  "4": "2014-06-30 00:00:00.000",
                  "5": "212",
                  "6": "2008-12-09 00:00:00.000"
                },
                {
                  "0": "213",
                  "1": "2010-02-23 00:00:00.000",
                  "2": "10.5769",
                  "3": "2",
                  "4": "2014-06-30 00:00:00.000",
                  "5": "213",
                  "6": "2010-02-23 00:00:00.000"
                },
                {
                  "0": "214",
                  "1": "2009-02-02 00:00:00.000",
                  "2": "10.5769",
                  "3": "2",
                  "4": "2014-06-30 00:00:00.000",
                  "5": "214",
                  "6": "2009-02-02 00:00:00.000"
                },
                {
                  "0": "215",
                  "1": "2009-01-15 00:00:00.000",
                  "2": "10.5769",
                  "3": "2",
                  "4": "2014-06-30 00:00:00.000",
                  "5": "215",
                  "6": "2009-01-15 00:00:00.000"
                },
                {
                  "0": "216",
                  "1": "2008-12-28 00:00:00.000",
                  "2": "10.5769",
                  "3": "2",
                  "4": "2014-06-30 00:00:00.000",
                  "5": "216",
                  "6": "2008-12-28 00:00:00.000"
                },
                {
                  "0": "217",
                  "1": "2009-01-04 00:00:00.000",
                  "2": "17.7885",
                  "3": "2",
                  "4": "2014-06-30 00:00:00.000",
                  "5": "217",
                  "6": "2009-01-04 00:00:00.000"
                },
                {
                  "0": "218",
                  "1": "2008-12-16 00:00:00.000",
                  "2": "16.8269",
                  "3": "2",
                  "4": "2014-06-30 00:00:00.000",
                  "5": "218",
                  "6": "2008-12-16 00:00:00.000"
                },
                {
                  "0": "219",
                  "1": "2009-01-22 00:00:00.000",
                  "2": "10.25",
                  "3": "2",
                  "4": "2014-06-30 00:00:00.000",
                  "5": "219",
                  "6": "2009-01-22 00:00:00.000"
                },
                {
                  "0": "220",
                  "1": "2009-02-09 00:00:00.000",
                  "2": "10.25",
                  "3": "2",
                  "4": "2014-06-30 00:00:00.000",
                  "5": "220",
                  "6": "2009-02-09 00:00:00.000"
                },
                {
                  "0": "221",
                  "1": "2009-03-06 00:00:00.000",
                  "2": "16.8269",
                  "3": "2",
                  "4": "2014-06-30 00:00:00.000",
                  "5": "221",
                  "6": "2009-03-06 00:00:00.000"
                },
                {
                  "0": "222",
                  "1": "2008-12-12 00:00:00.000",
                  "2": "23.5577",
                  "3": "2",
                  "4": "2014-06-30 00:00:00.000",
                  "5": "222",
                  "6": "2008-12-12 00:00:00.000"
                },
                {
                  "0": "223",
                  "1": "2009-01-26 00:00:00.000",
                  "2": "16.00",
                  "3": "2",
                  "4": "2014-06-30 00:00:00.000",
                  "5": "223",
                  "6": "2009-01-26 00:00:00.000"
                },
                {
                  "0": "224",
                  "1": "2012-01-01 00:00:00.000",
                  "2": "16.00",
                  "3": "2",
                  "4": "2011-12-18 00:00:00.000",
                  "5": "224",
                  "6": "2012-01-01 00:00:00.000"
                },
                {
                  "0": "225",
                  "1": "2009-02-13 00:00:00.000",
                  "2": "16.00",
                  "3": "2",
                  "4": "2014-06-30 00:00:00.000",
                  "5": "225",
                  "6": "2009-02-13 00:00:00.000"
                },
                {
                  "0": "226",
                  "1": "2009-03-03 00:00:00.000",
                  "2": "16.00",
                  "3": "2",
                  "4": "2014-06-30 00:00:00.000",
                  "5": "226",
                  "6": "2009-03-03 00:00:00.000"
                },
                {
                  "0": "227",
                  "1": "2009-12-02 00:00:00.000",
                  "2": "24.0385",
                  "3": "2",
                  "4": "2014-06-30 00:00:00.000",
                  "5": "227",
                  "6": "2009-12-02 00:00:00.000"
                },
                {
                  "0": "228",
                  "1": "2008-12-14 00:00:00.000",
                  "2": "20.4327",
                  "3": "2",
                  "4": "2014-06-30 00:00:00.000",
                  "5": "228",
                  "6": "2008-12-14 00:00:00.000"
                },
                {
                  "0": "229",
                  "1": "2010-02-16 00:00:00.000",
                  "2": "9.25",
                  "3": "1",
                  "4": "2014-06-30 00:00:00.000",
                  "5": "229",
                  "6": "2010-02-16 00:00:00.000"
                },
                {
                  "0": "230",
                  "1": "2010-03-05 00:00:00.000",
                  "2": "9.25",
                  "3": "1",
                  "4": "2014-06-30 00:00:00.000",
                  "5": "230",
                  "6": "2010-03-05 00:00:00.000"
                },
                {
                  "0": "231",
                  "1": "2010-03-07 00:00:00.000",
                  "2": "9.25",
                  "3": "1",
                  "4": "2014-06-30 00:00:00.000",
                  "5": "231",
                  "6": "2010-03-07 00:00:00.000"
                },
                {
                  "0": "232",
                  "1": "2010-01-27 00:00:00.000",
                  "2": "9.25",
                  "3": "1",
                  "4": "2014-06-30 00:00:00.000",
                  "5": "232",
                  "6": "2010-01-27 00:00:00.000"
                },
                {
                  "0": "233",
                  "1": "2009-12-21 00:00:00.000",
                  "2": "9.75",
                  "3": "2",
                  "4": "2014-06-30 00:00:00.000",
                  "5": "233",
                  "6": "2009-12-21 00:00:00.000"
                },
                {
                  "0": "234",
                  "1": "2012-01-29 00:00:00.000",
                  "2": "60.0962",
                  "3": "2",
                  "4": "2012-01-15 00:00:00.000",
                  "5": "234",
                  "6": "2012-01-29 00:00:00.000"
                },
                {
                  "0": "235",
                  "1": "2008-12-06 00:00:00.000",
                  "2": "27.1394",
                  "3": "2",
                  "4": "2014-06-30 00:00:00.000",
                  "5": "235",
                  "6": "2008-12-06 00:00:00.000"
                },
                {
                  "0": "236",
                  "1": "2009-02-25 00:00:00.000",
                  "2": "13.9423",
                  "3": "2",
                  "4": "2014-06-30 00:00:00.000",
                  "5": "236",
                  "6": "2009-02-25 00:00:00.000"
                },
                {
                  "0": "237",
                  "1": "2009-02-06 00:00:00.000",
                  "2": "13.9423",
                  "3": "2",
                  "4": "2014-06-30 00:00:00.000",
                  "5": "237",
                  "6": "2009-02-06 00:00:00.000"
                },
                {
                  "0": "238",
                  "1": "2009-01-01 00:00:00.000",
                  "2": "18.2692",
                  "3": "2",
                  "4": "2014-06-30 00:00:00.000",
                  "5": "238",
                  "6": "2009-01-01 00:00:00.000"
                },
                {
                  "0": "239",
                  "1": "2008-12-25 00:00:00.000",
                  "2": "16.5865",
                  "3": "2",
                  "4": "2014-06-30 00:00:00.000",
                  "5": "239",
                  "6": "2008-12-25 00:00:00.000"
                },
                {
                  "0": "240",
                  "1": "2008-12-13 00:00:00.000",
                  "2": "18.2692",
                  "3": "2",
                  "4": "2014-06-30 00:00:00.000",
                  "5": "240",
                  "6": "2008-12-13 00:00:00.000"
                },
                {
                  "0": "241",
                  "1": "2009-01-30 00:00:00.000",
                  "2": "34.7356",
                  "3": "2",
                  "4": "2014-06-30 00:00:00.000",
                  "5": "241",
                  "6": "2009-01-30 00:00:00.000"
                },
                {
                  "0": "242",
                  "1": "2008-12-18 00:00:00.000",
                  "2": "19.00",
                  "3": "2",
                  "4": "2014-06-30 00:00:00.000",
                  "5": "242",
                  "6": "2008-12-18 00:00:00.000"
                },
                {
                  "0": "243",
                  "1": "2009-01-06 00:00:00.000",
                  "2": "19.00",
                  "3": "2",
                  "4": "2014-06-30 00:00:00.000",
                  "5": "243",
                  "6": "2009-01-06 00:00:00.000"
                },
                {
                  "0": "244",
                  "1": "2009-01-24 00:00:00.000",
                  "2": "19.00",
                  "3": "2",
                  "4": "2014-06-30 00:00:00.000",
                  "5": "244",
                  "6": "2009-01-24 00:00:00.000"
                },
                {
                  "0": "245",
                  "1": "2009-02-18 00:00:00.000",
                  "2": "26.4423",
                  "3": "2",
                  "4": "2014-06-30 00:00:00.000",
                  "5": "245",
                  "6": "2009-02-18 00:00:00.000"
                },
                {
                  "0": "246",
                  "1": "2009-02-11 00:00:00.000",
                  "2": "19.00",
                  "3": "2",
                  "4": "2014-06-30 00:00:00.000",
                  "5": "246",
                  "6": "2009-02-11 00:00:00.000"
                },
                {
                  "0": "247",
                  "1": "2009-03-01 00:00:00.000",
                  "2": "19.00",
                  "3": "2",
                  "4": "2014-06-30 00:00:00.000",
                  "5": "247",
                  "6": "2009-03-01 00:00:00.000"
                },
                {
                  "0": "248",
                  "1": "2009-03-08 00:00:00.000",
                  "2": "26.4423",
                  "3": "2",
                  "4": "2014-06-30 00:00:00.000",
                  "5": "248",
                  "6": "2009-03-08 00:00:00.000"
                },
                {
                  "0": "249",
                  "1": "2008-12-25 00:00:00.000",
                  "2": "43.2692",
                  "3": "2",
                  "4": "2014-06-30 00:00:00.000",
                  "5": "249",
                  "6": "2008-12-25 00:00:00.000"
                },
                {
                  "0": "250",
                  "1": "2012-07-14 00:00:00.000",
                  "2": "30.00",
                  "3": "2",
                  "4": "2012-06-30 00:00:00.000",
                  "5": "250",
                  "6": "2012-07-14 00:00:00.000"
                },
                {
                  "0": "251",
                  "1": "2009-02-10 00:00:00.000",
                  "2": "18.2692",
                  "3": "2",
                  "4": "2014-06-30 00:00:00.000",
                  "5": "251",
                  "6": "2009-02-10 00:00:00.000"
                },
                {
                  "0": "252",
                  "1": "2009-02-28 00:00:00.000",
                  "2": "18.2692",
                  "3": "2",
                  "4": "2014-06-30 00:00:00.000",
                  "5": "252",
                  "6": "2009-02-28 00:00:00.000"
                },
                {
                  "0": "253",
                  "1": "2009-12-17 00:00:00.000",
                  "2": "18.2692",
                  "3": "2",
                  "4": "2014-06-30 00:00:00.000",
                  "5": "253",
                  "6": "2009-12-17 00:00:00.000"
                },
                {
                  "0": "254",
                  "1": "2010-01-04 00:00:00.000",
                  "2": "18.2692",
                  "3": "2",
                  "4": "2014-06-30 00:00:00.000",
                  "5": "254",
                  "6": "2010-01-04 00:00:00.000"
                },
                {
                  "0": "255",
                  "1": "2010-01-11 00:00:00.000",
                  "2": "18.2692",
                  "3": "2",
                  "4": "2014-06-30 00:00:00.000",
                  "5": "255",
                  "6": "2010-01-11 00:00:00.000"
                },
                {
                  "0": "256",
                  "1": "2010-01-23 00:00:00.000",
                  "2": "18.2692",
                  "3": "2",
                  "4": "2014-06-30 00:00:00.000",
                  "5": "256",
                  "6": "2010-01-23 00:00:00.000"
                },
                {
                  "0": "257",
                  "1": "2010-01-27 00:00:00.000",
                  "2": "18.2692",
                  "3": "2",
                  "4": "2014-06-30 00:00:00.000",
                  "5": "257",
                  "6": "2010-01-27 00:00:00.000"
                },
                {
                  "0": "258",
                  "1": "2010-01-31 00:00:00.000",
                  "2": "18.2692",
                  "3": "2",
                  "4": "2014-06-30 00:00:00.000",
                  "5": "258",
                  "6": "2010-01-31 00:00:00.000"
                },
                {
                  "0": "259",
                  "1": "2010-03-09 00:00:00.000",
                  "2": "18.2692",
                  "3": "2",
                  "4": "2014-06-30 00:00:00.000",
                  "5": "259",
                  "6": "2010-03-09 00:00:00.000"
                },
                {
                  "0": "260",
                  "1": "2010-12-06 00:00:00.000",
                  "2": "12.75",
                  "3": "2",
                  "4": "2014-06-30 00:00:00.000",
                  "5": "260",
                  "6": "2010-12-06 00:00:00.000"
                },
                {
                  "0": "261",
                  "1": "2010-12-25 00:00:00.000",
                  "2": "12.75",
                  "3": "2",
                  "4": "2014-06-30 00:00:00.000",
                  "5": "261",
                  "6": "2010-12-25 00:00:00.000"
                },
                {
                  "0": "262",
                  "1": "2009-01-12 00:00:00.000",
                  "2": "13.4615",
                  "3": "2",
                  "4": "2014-06-30 00:00:00.000",
                  "5": "262",
                  "6": "2009-01-12 00:00:00.000"
                },
                {
                  "0": "263",
                  "1": "2008-12-11 00:00:00.000",
                  "2": "50.4808",
                  "3": "2",
                  "4": "2014-06-30 00:00:00.000",
                  "5": "263",
                  "6": "2008-12-11 00:00:00.000"
                },
                {
                  "0": "264",
                  "1": "2009-02-04 00:00:00.000",
                  "2": "39.6635",
                  "3": "2",
                  "4": "2014-06-30 00:00:00.000",
                  "5": "264",
                  "6": "2009-02-04 00:00:00.000"
                },
                {
                  "0": "265",
                  "1": "2008-12-04 00:00:00.000",
                  "2": "32.4519",
                  "3": "2",
                  "4": "2014-06-30 00:00:00.000",
                  "5": "265",
                  "6": "2008-12-04 00:00:00.000"
                },
                {
                  "0": "266",
                  "1": "2009-02-23 00:00:00.000",
                  "2": "32.4519",
                  "3": "2",
                  "4": "2014-06-30 00:00:00.000",
                  "5": "266",
                  "6": "2009-02-23 00:00:00.000"
                },
                {
                  "0": "267",
                  "1": "2009-02-16 00:00:00.000",
                  "2": "27.4038",
                  "3": "2",
                  "4": "2014-06-30 00:00:00.000",
                  "5": "267",
                  "6": "2009-02-16 00:00:00.000"
                },
                {
                  "0": "268",
                  "1": "2009-02-03 00:00:00.000",
                  "2": "27.4038",
                  "3": "2",
                  "4": "2014-06-30 00:00:00.000",
                  "5": "268",
                  "6": "2009-02-03 00:00:00.000"
                },
                {
                  "0": "269",
                  "1": "2009-01-11 00:00:00.000",
                  "2": "27.4038",
                  "3": "2",
                  "4": "2014-06-30 00:00:00.000",
                  "5": "269",
                  "6": "2009-01-11 00:00:00.000"
                },
                {
                  "0": "270",
                  "1": "2009-01-17 00:00:00.000",
                  "2": "38.4615",
                  "3": "2",
                  "4": "2014-06-30 00:00:00.000",
                  "5": "270",
                  "6": "2009-01-17 00:00:00.000"
                },
                {
                  "0": "271",
                  "1": "2009-01-22 00:00:00.000",
                  "2": "38.4615",
                  "3": "2",
                  "4": "2014-06-30 00:00:00.000",
                  "5": "271",
                  "6": "2009-01-22 00:00:00.000"
                },
                {
                  "0": "272",
                  "1": "2008-12-23 00:00:00.000",
                  "2": "27.4038",
                  "3": "2",
                  "4": "2014-06-30 00:00:00.000",
                  "5": "272",
                  "6": "2008-12-23 00:00:00.000"
                },
                {
                  "0": "273",
                  "1": "2011-02-15 00:00:00.000",
                  "2": "72.1154",
                  "3": "2",
                  "4": "2014-06-30 00:00:00.000",
                  "5": "273",
                  "6": "2011-02-15 00:00:00.000"
                },
                {
                  "0": "274",
                  "1": "2011-01-04 00:00:00.000",
                  "2": "48.101",
                  "3": "2",
                  "4": "2014-06-30 00:00:00.000",
                  "5": "274",
                  "6": "2011-01-04 00:00:00.000"
                },
                {
                  "0": "275",
                  "1": "2011-05-31 00:00:00.000",
                  "2": "23.0769",
                  "3": "2",
                  "4": "2014-06-30 00:00:00.000",
                  "5": "275",
                  "6": "2011-05-31 00:00:00.000"
                },
                {
                  "0": "276",
                  "1": "2011-05-31 00:00:00.000",
                  "2": "23.0769",
                  "3": "2",
                  "4": "2014-06-30 00:00:00.000",
                  "5": "276",
                  "6": "2011-05-31 00:00:00.000"
                },
                {
                  "0": "277",
                  "1": "2011-05-31 00:00:00.000",
                  "2": "23.0769",
                  "3": "2",
                  "4": "2014-06-30 00:00:00.000",
                  "5": "277",
                  "6": "2011-05-31 00:00:00.000"
                },
                {
                  "0": "278",
                  "1": "2011-05-31 00:00:00.000",
                  "2": "23.0769",
                  "3": "2",
                  "4": "2014-06-30 00:00:00.000",
                  "5": "278",
                  "6": "2011-05-31 00:00:00.000"
                },
                {
                  "0": "279",
                  "1": "2011-05-31 00:00:00.000",
                  "2": "23.0769",
                  "3": "2",
                  "4": "2014-06-30 00:00:00.000",
                  "5": "279",
                  "6": "2011-05-31 00:00:00.000"
                },
                {
                  "0": "280",
                  "1": "2011-05-31 00:00:00.000",
                  "2": "23.0769",
                  "3": "2",
                  "4": "2014-06-30 00:00:00.000",
                  "5": "280",
                  "6": "2011-05-31 00:00:00.000"
                },
                {
                  "0": "281",
                  "1": "2011-05-31 00:00:00.000",
                  "2": "23.0769",
                  "3": "2",
                  "4": "2014-06-30 00:00:00.000",
                  "5": "281",
                  "6": "2011-05-31 00:00:00.000"
                },
                {
                  "0": "282",
                  "1": "2011-05-31 00:00:00.000",
                  "2": "23.0769",
                  "3": "2",
                  "4": "2014-06-30 00:00:00.000",
                  "5": "282",
                  "6": "2011-05-31 00:00:00.000"
                },
                {
                  "0": "283",
                  "1": "2011-05-31 00:00:00.000",
                  "2": "23.0769",
                  "3": "2",
                  "4": "2014-06-30 00:00:00.000",
                  "5": "283",
                  "6": "2011-05-31 00:00:00.000"
                },
                {
                  "0": "284",
                  "1": "2012-09-30 00:00:00.000",
                  "2": "23.0769",
                  "3": "2",
                  "4": "2014-06-30 00:00:00.000",
                  "5": "284",
                  "6": "2012-09-30 00:00:00.000"
                },
                {
                  "0": "285",
                  "1": "2013-03-14 00:00:00.000",
                  "2": "48.101",
                  "3": "2",
                  "4": "2014-06-30 00:00:00.000",
                  "5": "285",
                  "6": "2013-03-14 00:00:00.000"
                },
                {
                  "0": "286",
                  "1": "2013-05-30 00:00:00.000",
                  "2": "23.0769",
                  "3": "2",
                  "4": "2014-06-30 00:00:00.000",
                  "5": "286",
                  "6": "2013-05-30 00:00:00.000"
                },
                {
                  "0": "287",
                  "1": "2012-04-16 00:00:00.000",
                  "2": "48.101",
                  "3": "2",
                  "4": "2014-06-30 00:00:00.000",
                  "5": "287",
                  "6": "2012-04-16 00:00:00.000"
                },
                {
                  "0": "288",
                  "1": "2013-05-30 00:00:00.000",
                  "2": "23.0769",
                  "3": "2",
                  "4": "2014-06-30 00:00:00.000",
                  "5": "288",
                  "6": "2013-05-30 00:00:00.000"
                },
                {
                  "0": "289",
                  "1": "2012-05-30 00:00:00.000",
                  "2": "23.0769",
                  "3": "2",
                  "4": "2014-06-30 00:00:00.000",
                  "5": "289",
                  "6": "2012-05-30 00:00:00.000"
                },
                {
                  "0": "290",
                  "1": "2012-05-30 00:00:00.000",
                  "2": "23.0769",
                  "3": "2",
                  "4": "2014-06-30 00:00:00.000",
                  "5": "290",
                  "6": "2012-05-30 00:00:00.000"
                }
              ]
            },
            "text/html": "<table><tr><th>BusinessEntityID</th><th>RateChangeDate</th><th>Rate</th><th>PayFrequency</th><th>ModifiedDate</th><th>BusinessEntityID</th><th>RecentRateChangeDate</th></tr><tr><td>1</td><td>2009-01-14 00:00:00.000</td><td>125.50</td><td>2</td><td>2014-06-30 00:00:00.000</td><td>1</td><td>2009-01-14 00:00:00.000</td></tr><tr><td>2</td><td>2008-01-31 00:00:00.000</td><td>63.4615</td><td>2</td><td>2014-06-30 00:00:00.000</td><td>2</td><td>2008-01-31 00:00:00.000</td></tr><tr><td>3</td><td>2007-11-11 00:00:00.000</td><td>43.2692</td><td>2</td><td>2014-06-30 00:00:00.000</td><td>3</td><td>2007-11-11 00:00:00.000</td></tr><tr><td>4</td><td>2011-12-15 00:00:00.000</td><td>29.8462</td><td>2</td><td>2011-12-01 00:00:00.000</td><td>4</td><td>2011-12-15 00:00:00.000</td></tr><tr><td>5</td><td>2008-01-06 00:00:00.000</td><td>32.6923</td><td>2</td><td>2014-06-30 00:00:00.000</td><td>5</td><td>2008-01-06 00:00:00.000</td></tr><tr><td>6</td><td>2008-01-24 00:00:00.000</td><td>32.6923</td><td>2</td><td>2014-06-30 00:00:00.000</td><td>6</td><td>2008-01-24 00:00:00.000</td></tr><tr><td>7</td><td>2009-02-08 00:00:00.000</td><td>50.4808</td><td>2</td><td>2014-06-30 00:00:00.000</td><td>7</td><td>2009-02-08 00:00:00.000</td></tr><tr><td>8</td><td>2008-12-29 00:00:00.000</td><td>40.8654</td><td>2</td><td>2014-06-30 00:00:00.000</td><td>8</td><td>2008-12-29 00:00:00.000</td></tr><tr><td>9</td><td>2009-01-16 00:00:00.000</td><td>40.8654</td><td>2</td><td>2014-06-30 00:00:00.000</td><td>9</td><td>2009-01-16 00:00:00.000</td></tr><tr><td>10</td><td>2009-05-03 00:00:00.000</td><td>42.4808</td><td>2</td><td>2014-06-30 00:00:00.000</td><td>10</td><td>2009-05-03 00:00:00.000</td></tr><tr><td>11</td><td>2010-12-05 00:00:00.000</td><td>28.8462</td><td>2</td><td>2014-06-30 00:00:00.000</td><td>11</td><td>2010-12-05 00:00:00.000</td></tr><tr><td>12</td><td>2007-12-11 00:00:00.000</td><td>25.00</td><td>2</td><td>2014-06-30 00:00:00.000</td><td>12</td><td>2007-12-11 00:00:00.000</td></tr><tr><td>13</td><td>2010-12-23 00:00:00.000</td><td>25.00</td><td>2</td><td>2014-06-30 00:00:00.000</td><td>13</td><td>2010-12-23 00:00:00.000</td></tr><tr><td>14</td><td>2010-12-30 00:00:00.000</td><td>36.0577</td><td>2</td><td>2014-06-30 00:00:00.000</td><td>14</td><td>2010-12-30 00:00:00.000</td></tr><tr><td>15</td><td>2011-01-18 00:00:00.000</td><td>32.6923</td><td>2</td><td>2014-06-30 00:00:00.000</td><td>15</td><td>2011-01-18 00:00:00.000</td></tr><tr><td>16</td><td>2012-04-30 00:00:00.000</td><td>37.50</td><td>2</td><td>2012-04-16 00:00:00.000</td><td>16</td><td>2012-04-30 00:00:00.000</td></tr><tr><td>17</td><td>2007-01-26 00:00:00.000</td><td>13.4615</td><td>2</td><td>2014-06-30 00:00:00.000</td><td>17</td><td>2007-01-26 00:00:00.000</td></tr><tr><td>18</td><td>2011-02-07 00:00:00.000</td><td>14.4231</td><td>2</td><td>2014-06-30 00:00:00.000</td><td>18</td><td>2011-02-07 00:00:00.000</td></tr><tr><td>19</td><td>2011-02-14 00:00:00.000</td><td>13.4615</td><td>2</td><td>2014-06-30 00:00:00.000</td><td>19</td><td>2011-02-14 00:00:00.000</td></tr><tr><td>20</td><td>2011-01-07 00:00:00.000</td><td>13.4615</td><td>2</td><td>2014-06-30 00:00:00.000</td><td>20</td><td>2011-01-07 00:00:00.000</td></tr><tr><td>21</td><td>2009-03-02 00:00:00.000</td><td>14.4231</td><td>2</td><td>2014-06-30 00:00:00.000</td><td>21</td><td>2009-03-02 00:00:00.000</td></tr><tr><td>22</td><td>2008-12-12 00:00:00.000</td><td>14.4231</td><td>2</td><td>2014-06-30 00:00:00.000</td><td>22</td><td>2008-12-12 00:00:00.000</td></tr><tr><td>23</td><td>2009-01-12 00:00:00.000</td><td>14.4231</td><td>2</td><td>2014-06-30 00:00:00.000</td><td>23</td><td>2009-01-12 00:00:00.000</td></tr><tr><td>24</td><td>2009-01-18 00:00:00.000</td><td>14.4231</td><td>2</td><td>2014-06-30 00:00:00.000</td><td>24</td><td>2009-01-18 00:00:00.000</td></tr><tr><td>25</td><td>2009-02-03 00:00:00.000</td><td>84.1346</td><td>2</td><td>2014-06-30 00:00:00.000</td><td>25</td><td>2009-02-03 00:00:00.000</td></tr><tr><td>26</td><td>2008-12-01 00:00:00.000</td><td>24.5192</td><td>2</td><td>2014-06-30 00:00:00.000</td><td>26</td><td>2008-12-01 00:00:00.000</td></tr><tr><td>27</td><td>2008-02-27 00:00:00.000</td><td>25.00</td><td>2</td><td>2014-06-30 00:00:00.000</td><td>27</td><td>2008-02-27 00:00:00.000</td></tr><tr><td>28</td><td>2006-06-30 00:00:00.000</td><td>12.45</td><td>1</td><td>2014-06-30 00:00:00.000</td><td>28</td><td>2006-06-30 00:00:00.000</td></tr><tr><td>29</td><td>2009-01-23 00:00:00.000</td><td>12.45</td><td>1</td><td>2014-06-30 00:00:00.000</td><td>29</td><td>2009-01-23 00:00:00.000</td></tr><tr><td>30</td><td>2009-01-29 00:00:00.000</td><td>12.45</td><td>1</td><td>2014-06-30 00:00:00.000</td><td>30</td><td>2009-01-29 00:00:00.000</td></tr><tr><td>31</td><td>2009-01-04 00:00:00.000</td><td>12.45</td><td>1</td><td>2014-06-30 00:00:00.000</td><td>31</td><td>2009-01-04 00:00:00.000</td></tr><tr><td>32</td><td>2008-12-29 00:00:00.000</td><td>12.45</td><td>1</td><td>2014-06-30 00:00:00.000</td><td>32</td><td>2008-12-29 00:00:00.000</td></tr><tr><td>33</td><td>2008-12-17 00:00:00.000</td><td>12.45</td><td>1</td><td>2014-06-30 00:00:00.000</td><td>33</td><td>2008-12-17 00:00:00.000</td></tr><tr><td>34</td><td>2009-02-16 00:00:00.000</td><td>12.45</td><td>1</td><td>2014-06-30 00:00:00.000</td><td>34</td><td>2009-02-16 00:00:00.000</td></tr><tr><td>35</td><td>2009-02-08 00:00:00.000</td><td>12.45</td><td>1</td><td>2014-06-30 00:00:00.000</td><td>35</td><td>2009-02-08 00:00:00.000</td></tr><tr><td>36</td><td>2009-02-10 00:00:00.000</td><td>12.45</td><td>1</td><td>2014-06-30 00:00:00.000</td><td>36</td><td>2009-02-10 00:00:00.000</td></tr><tr><td>37</td><td>2009-03-07 00:00:00.000</td><td>12.45</td><td>1</td><td>2014-06-30 00:00:00.000</td><td>37</td><td>2009-03-07 00:00:00.000</td></tr><tr><td>38</td><td>2010-01-16 00:00:00.000</td><td>12.45</td><td>1</td><td>2014-06-30 00:00:00.000</td><td>38</td><td>2010-01-16 00:00:00.000</td></tr><tr><td>39</td><td>2010-02-05 00:00:00.000</td><td>12.45</td><td>1</td><td>2014-06-30 00:00:00.000</td><td>39</td><td>2010-02-05 00:00:00.000</td></tr><tr><td>40</td><td>2007-12-26 00:00:00.000</td><td>25.00</td><td>2</td><td>2014-06-30 00:00:00.000</td><td>40</td><td>2007-12-26 00:00:00.000</td></tr><tr><td>41</td><td>2009-01-21 00:00:00.000</td><td>12.45</td><td>1</td><td>2014-06-30 00:00:00.000</td><td>41</td><td>2009-01-21 00:00:00.000</td></tr><tr><td>42</td><td>2008-12-27 00:00:00.000</td><td>12.45</td><td>1</td><td>2014-06-30 00:00:00.000</td><td>42</td><td>2008-12-27 00:00:00.000</td></tr><tr><td>43</td><td>2009-01-02 00:00:00.000</td><td>12.45</td><td>1</td><td>2014-06-30 00:00:00.000</td><td>43</td><td>2009-01-02 00:00:00.000</td></tr><tr><td>44</td><td>2008-12-08 00:00:00.000</td><td>12.45</td><td>1</td><td>2014-06-30 00:00:00.000</td><td>44</td><td>2008-12-08 00:00:00.000</td></tr><tr><td>45</td><td>2009-02-26 00:00:00.000</td><td>12.45</td><td>1</td><td>2014-06-30 00:00:00.000</td><td>45</td><td>2009-02-26 00:00:00.000</td></tr><tr><td>46</td><td>2009-02-08 00:00:00.000</td><td>12.45</td><td>1</td><td>2014-06-30 00:00:00.000</td><td>46</td><td>2009-02-08 00:00:00.000</td></tr><tr><td>47</td><td>2009-02-22 00:00:00.000</td><td>25.00</td><td>2</td><td>2014-06-30 00:00:00.000</td><td>47</td><td>2009-02-22 00:00:00.000</td></tr><tr><td>48</td><td>2008-01-06 00:00:00.000</td><td>13.45</td><td>1</td><td>2014-06-30 00:00:00.000</td><td>48</td><td>2008-01-06 00:00:00.000</td></tr><tr><td>49</td><td>2008-01-07 00:00:00.000</td><td>13.45</td><td>1</td><td>2014-06-30 00:00:00.000</td><td>49</td><td>2008-01-07 00:00:00.000</td></tr><tr><td>50</td><td>2008-02-02 00:00:00.000</td><td>13.45</td><td>1</td><td>2014-06-30 00:00:00.000</td><td>50</td><td>2008-02-02 00:00:00.000</td></tr><tr><td>51</td><td>2008-02-20 00:00:00.000</td><td>13.45</td><td>1</td><td>2014-06-30 00:00:00.000</td><td>51</td><td>2008-02-20 00:00:00.000</td></tr><tr><td>52</td><td>2008-03-10 00:00:00.000</td><td>13.45</td><td>1</td><td>2014-06-30 00:00:00.000</td><td>52</td><td>2008-03-10 00:00:00.000</td></tr><tr><td>53</td><td>2008-03-28 00:00:00.000</td><td>13.45</td><td>1</td><td>2014-06-30 00:00:00.000</td><td>53</td><td>2008-03-28 00:00:00.000</td></tr><tr><td>54</td><td>2010-01-01 00:00:00.000</td><td>13.45</td><td>1</td><td>2014-06-30 00:00:00.000</td><td>54</td><td>2010-01-01 00:00:00.000</td></tr><tr><td>55</td><td>2008-02-08 00:00:00.000</td><td>25.00</td><td>2</td><td>2014-06-30 00:00:00.000</td><td>55</td><td>2008-02-08 00:00:00.000</td></tr><tr><td>56</td><td>2009-02-05 00:00:00.000</td><td>11.00</td><td>1</td><td>2014-06-30 00:00:00.000</td><td>56</td><td>2009-02-05 00:00:00.000</td></tr><tr><td>57</td><td>2009-02-23 00:00:00.000</td><td>11.00</td><td>1</td><td>2014-06-30 00:00:00.000</td><td>57</td><td>2009-02-23 00:00:00.000</td></tr><tr><td>58</td><td>2008-12-05 00:00:00.000</td><td>11.00</td><td>1</td><td>2014-06-30 00:00:00.000</td><td>58</td><td>2008-12-05 00:00:00.000</td></tr><tr><td>59</td><td>2008-12-24 00:00:00.000</td><td>11.00</td><td>1</td><td>2014-06-30 00:00:00.000</td><td>59</td><td>2008-12-24 00:00:00.000</td></tr><tr><td>60</td><td>2009-01-11 00:00:00.000</td><td>11.00</td><td>1</td><td>2014-06-30 00:00:00.000</td><td>60</td><td>2009-01-11 00:00:00.000</td></tr><tr><td>61</td><td>2009-01-18 00:00:00.000</td><td>11.00</td><td>1</td><td>2014-06-30 00:00:00.000</td><td>61</td><td>2009-01-18 00:00:00.000</td></tr><tr><td>62</td><td>2008-03-17 00:00:00.000</td><td>25.00</td><td>2</td><td>2014-06-30 00:00:00.000</td><td>62</td><td>2008-03-17 00:00:00.000</td></tr><tr><td>63</td><td>2010-01-29 00:00:00.000</td><td>12.45</td><td>1</td><td>2014-06-30 00:00:00.000</td><td>63</td><td>2010-01-29 00:00:00.000</td></tr><tr><td>64</td><td>2010-02-23 00:00:00.000</td><td>12.45</td><td>1</td><td>2014-06-30 00:00:00.000</td><td>64</td><td>2010-02-23 00:00:00.000</td></tr><tr><td>65</td><td>2010-02-23 00:00:00.000</td><td>12.45</td><td>1</td><td>2014-06-30 00:00:00.000</td><td>65</td><td>2010-02-23 00:00:00.000</td></tr><tr><td>66</td><td>2009-12-22 00:00:00.000</td><td>12.45</td><td>1</td><td>2014-06-30 00:00:00.000</td><td>66</td><td>2009-12-22 00:00:00.000</td></tr><tr><td>67</td><td>2009-03-05 00:00:00.000</td><td>12.45</td><td>1</td><td>2014-06-30 00:00:00.000</td><td>67</td><td>2009-03-05 00:00:00.000</td></tr><tr><td>68</td><td>2009-12-03 00:00:00.000</td><td>12.45</td><td>1</td><td>2014-06-30 00:00:00.000</td><td>68</td><td>2009-12-03 00:00:00.000</td></tr><tr><td>69</td><td>2009-02-15 00:00:00.000</td><td>12.45</td><td>1</td><td>2014-06-30 00:00:00.000</td><td>69</td><td>2009-02-15 00:00:00.000</td></tr><tr><td>70</td><td>2008-12-15 00:00:00.000</td><td>12.45</td><td>1</td><td>2014-06-30 00:00:00.000</td><td>70</td><td>2008-12-15 00:00:00.000</td></tr><tr><td>71</td><td>2009-02-15 00:00:00.000</td><td>25.00</td><td>2</td><td>2014-06-30 00:00:00.000</td><td>71</td><td>2009-02-15 00:00:00.000</td></tr><tr><td>72</td><td>2008-12-01 00:00:00.000</td><td>9.50</td><td>1</td><td>2014-06-30 00:00:00.000</td><td>72</td><td>2008-12-01 00:00:00.000</td></tr><tr><td>73</td><td>2008-12-19 00:00:00.000</td><td>9.50</td><td>1</td><td>2014-06-30 00:00:00.000</td><td>73</td><td>2008-12-19 00:00:00.000</td></tr><tr><td>74</td><td>2009-01-07 00:00:00.000</td><td>9.50</td><td>1</td><td>2014-06-30 00:00:00.000</td><td>74</td><td>2009-01-07 00:00:00.000</td></tr><tr><td>75</td><td>2009-01-26 00:00:00.000</td><td>9.50</td><td>1</td><td>2014-06-30 00:00:00.000</td><td>75</td><td>2009-01-26 00:00:00.000</td></tr><tr><td>76</td><td>2009-02-12 00:00:00.000</td><td>9.50</td><td>1</td><td>2014-06-30 00:00:00.000</td><td>76</td><td>2009-02-12 00:00:00.000</td></tr><tr><td>77</td><td>2009-03-03 00:00:00.000</td><td>9.50</td><td>1</td><td>2014-06-30 00:00:00.000</td><td>77</td><td>2009-03-03 00:00:00.000</td></tr><tr><td>78</td><td>2008-12-15 00:00:00.000</td><td>25.00</td><td>2</td><td>2014-06-30 00:00:00.000</td><td>78</td><td>2008-12-15 00:00:00.000</td></tr><tr><td>79</td><td>2010-01-24 00:00:00.000</td><td>15.00</td><td>1</td><td>2014-06-30 00:00:00.000</td><td>79</td><td>2010-01-24 00:00:00.000</td></tr><tr><td>80</td><td>2010-01-17 00:00:00.000</td><td>15.00</td><td>1</td><td>2014-06-30 00:00:00.000</td><td>80</td><td>2010-01-17 00:00:00.000</td></tr><tr><td>81</td><td>2009-12-29 00:00:00.000</td><td>15.00</td><td>1</td><td>2014-06-30 00:00:00.000</td><td>81</td><td>2009-12-29 00:00:00.000</td></tr><tr><td>82</td><td>2010-03-03 00:00:00.000</td><td>15.00</td><td>1</td><td>2014-06-30 00:00:00.000</td><td>82</td><td>2010-03-03 00:00:00.000</td></tr><tr><td>83</td><td>2010-02-12 00:00:00.000</td><td>15.00</td><td>1</td><td>2014-06-30 00:00:00.000</td><td>83</td><td>2010-02-12 00:00:00.000</td></tr><tr><td>84</td><td>2010-02-05 00:00:00.000</td><td>15.00</td><td>1</td><td>2014-06-30 00:00:00.000</td><td>84</td><td>2010-02-05 00:00:00.000</td></tr><tr><td>85</td><td>2009-12-11 00:00:00.000</td><td>15.00</td><td>1</td><td>2014-06-30 00:00:00.000</td><td>85</td><td>2009-12-11 00:00:00.000</td></tr><tr><td>86</td><td>2009-01-05 00:00:00.000</td><td>15.00</td><td>1</td><td>2014-06-30 00:00:00.000</td><td>86</td><td>2009-01-05 00:00:00.000</td></tr><tr><td>87</td><td>2008-12-22 00:00:00.000</td><td>25.00</td><td>2</td><td>2014-06-30 00:00:00.000</td><td>87</td><td>2008-12-22 00:00:00.000</td></tr><tr><td>88</td><td>2009-12-18 00:00:00.000</td><td>13.45</td><td>1</td><td>2014-06-30 00:00:00.000</td><td>88</td><td>2009-12-18 00:00:00.000</td></tr><tr><td>89</td><td>2010-02-01 00:00:00.000</td><td>13.45</td><td>1</td><td>2014-06-30 00:00:00.000</td><td>89</td><td>2010-02-01 00:00:00.000</td></tr><tr><td>90</td><td>2010-02-20 00:00:00.000</td><td>13.45</td><td>1</td><td>2014-06-30 00:00:00.000</td><td>90</td><td>2010-02-20 00:00:00.000</td></tr><tr><td>91</td><td>2010-01-12 00:00:00.000</td><td>13.45</td><td>1</td><td>2014-06-30 00:00:00.000</td><td>91</td><td>2010-01-12 00:00:00.000</td></tr><tr><td>92</td><td>2010-03-10 00:00:00.000</td><td>13.45</td><td>1</td><td>2014-06-30 00:00:00.000</td><td>92</td><td>2010-03-10 00:00:00.000</td></tr><tr><td>93</td><td>2008-12-27 00:00:00.000</td><td>25.00</td><td>2</td><td>2014-06-30 00:00:00.000</td><td>93</td><td>2008-12-27 00:00:00.000</td></tr><tr><td>94</td><td>2008-12-12 00:00:00.000</td><td>11.00</td><td>1</td><td>2014-06-30 00:00:00.000</td><td>94</td><td>2008-12-12 00:00:00.000</td></tr><tr><td>95</td><td>2008-12-19 00:00:00.000</td><td>11.00</td><td>1</td><td>2014-06-30 00:00:00.000</td><td>95</td><td>2008-12-19 00:00:00.000</td></tr><tr><td>96</td><td>2009-03-02 00:00:00.000</td><td>11.00</td><td>1</td><td>2014-06-30 00:00:00.000</td><td>96</td><td>2009-03-02 00:00:00.000</td></tr><tr><td>97</td><td>2009-02-10 00:00:00.000</td><td>11.00</td><td>1</td><td>2014-06-30 00:00:00.000</td><td>97</td><td>2009-02-10 00:00:00.000</td></tr><tr><td>98</td><td>2009-02-11 00:00:00.000</td><td>11.00</td><td>1</td><td>2014-06-30 00:00:00.000</td><td>98</td><td>2009-02-11 00:00:00.000</td></tr><tr><td>99</td><td>2009-01-06 00:00:00.000</td><td>11.00</td><td>1</td><td>2014-06-30 00:00:00.000</td><td>99</td><td>2009-01-06 00:00:00.000</td></tr><tr><td>100</td><td>2009-01-12 00:00:00.000</td><td>11.00</td><td>1</td><td>2014-06-30 00:00:00.000</td><td>100</td><td>2009-01-12 00:00:00.000</td></tr><tr><td>101</td><td>2009-01-25 00:00:00.000</td><td>11.00</td><td>1</td><td>2014-06-30 00:00:00.000</td><td>101</td><td>2009-01-25 00:00:00.000</td></tr><tr><td>102</td><td>2008-12-03 00:00:00.000</td><td>25.00</td><td>2</td><td>2014-06-30 00:00:00.000</td><td>102</td><td>2008-12-03 00:00:00.000</td></tr><tr><td>103</td><td>2009-12-06 00:00:00.000</td><td>13.45</td><td>1</td><td>2014-06-30 00:00:00.000</td><td>103</td><td>2009-12-06 00:00:00.000</td></tr><tr><td>104</td><td>2009-12-25 00:00:00.000</td><td>13.45</td><td>1</td><td>2014-06-30 00:00:00.000</td><td>104</td><td>2009-12-25 00:00:00.000</td></tr><tr><td>105</td><td>2009-12-25 00:00:00.000</td><td>13.45</td><td>1</td><td>2014-06-30 00:00:00.000</td><td>105</td><td>2009-12-25 00:00:00.000</td></tr><tr><td>106</td><td>2010-02-27 00:00:00.000</td><td>13.45</td><td>1</td><td>2014-06-30 00:00:00.000</td><td>106</td><td>2010-02-27 00:00:00.000</td></tr><tr><td>107</td><td>2010-02-08 00:00:00.000</td><td>13.45</td><td>1</td><td>2014-06-30 00:00:00.000</td><td>107</td><td>2010-02-08 00:00:00.000</td></tr><tr><td>108</td><td>2008-12-08 00:00:00.000</td><td>25.00</td><td>2</td><td>2014-06-30 00:00:00.000</td><td>108</td><td>2008-12-08 00:00:00.000</td></tr><tr><td>109</td><td>2008-12-07 00:00:00.000</td><td>11.00</td><td>1</td><td>2014-06-30 00:00:00.000</td><td>109</td><td>2008-12-07 00:00:00.000</td></tr><tr><td>110</td><td>2008-12-14 00:00:00.000</td><td>11.00</td><td>1</td><td>2014-06-30 00:00:00.000</td><td>110</td><td>2008-12-14 00:00:00.000</td></tr><tr><td>111</td><td>2008-12-17 00:00:00.000</td><td>11.00</td><td>1</td><td>2014-06-30 00:00:00.000</td><td>111</td><td>2008-12-17 00:00:00.000</td></tr><tr><td>112</td><td>2009-01-01 00:00:00.000</td><td>11.00</td><td>1</td><td>2014-06-30 00:00:00.000</td><td>112</td><td>2009-01-01 00:00:00.000</td></tr><tr><td>113</td><td>2008-12-25 00:00:00.000</td><td>11.00</td><td>1</td><td>2014-06-30 00:00:00.000</td><td>113</td><td>2008-12-25 00:00:00.000</td></tr><tr><td>114</td><td>2009-01-13 00:00:00.000</td><td>11.00</td><td>1</td><td>2014-06-30 00:00:00.000</td><td>114</td><td>2009-01-13 00:00:00.000</td></tr><tr><td>115</td><td>2009-01-20 00:00:00.000</td><td>11.00</td><td>1</td><td>2014-06-30 00:00:00.000</td><td>115</td><td>2009-01-20 00:00:00.000</td></tr><tr><td>116</td><td>2009-01-31 00:00:00.000</td><td>11.00</td><td>1</td><td>2014-06-30 00:00:00.000</td><td>116</td><td>2009-01-31 00:00:00.000</td></tr><tr><td>117</td><td>2009-02-18 00:00:00.000</td><td>11.00</td><td>1</td><td>2014-06-30 00:00:00.000</td><td>117</td><td>2009-02-18 00:00:00.000</td></tr><tr><td>118</td><td>2009-02-13 00:00:00.000</td><td>11.00</td><td>1</td><td>2014-06-30 00:00:00.000</td><td>118</td><td>2009-02-13 00:00:00.000</td></tr><tr><td>119</td><td>2009-02-25 00:00:00.000</td><td>11.00</td><td>1</td><td>2014-06-30 00:00:00.000</td><td>119</td><td>2009-02-25 00:00:00.000</td></tr><tr><td>120</td><td>2009-03-04 00:00:00.000</td><td>11.00</td><td>1</td><td>2014-06-30 00:00:00.000</td><td>120</td><td>2009-03-04 00:00:00.000</td></tr><tr><td>121</td><td>2009-01-02 00:00:00.000</td><td>19.2308</td><td>2</td><td>2014-06-30 00:00:00.000</td><td>121</td><td>2009-01-02 00:00:00.000</td></tr><tr><td>122</td><td>2008-12-07 00:00:00.000</td><td>9.00</td><td>1</td><td>2014-06-30 00:00:00.000</td><td>122</td><td>2008-12-07 00:00:00.000</td></tr><tr><td>123</td><td>2008-12-07 00:00:00.000</td><td>9.50</td><td>2</td><td>2014-06-30 00:00:00.000</td><td>123</td><td>2008-12-07 00:00:00.000</td></tr><tr><td>124</td><td>2008-12-26 00:00:00.000</td><td>9.00</td><td>1</td><td>2014-06-30 00:00:00.000</td><td>124</td><td>2008-12-26 00:00:00.000</td></tr><tr><td>125</td><td>2009-01-20 00:00:00.000</td><td>9.50</td><td>2</td><td>2014-06-30 00:00:00.000</td><td>125</td><td>2009-01-20 00:00:00.000</td></tr><tr><td>126</td><td>2009-02-26 00:00:00.000</td><td>9.00</td><td>1</td><td>2014-06-30 00:00:00.000</td><td>126</td><td>2009-02-26 00:00:00.000</td></tr><tr><td>127</td><td>2009-01-03 00:00:00.000</td><td>25.00</td><td>2</td><td>2014-06-30 00:00:00.000</td><td>127</td><td>2009-01-03 00:00:00.000</td></tr><tr><td>128</td><td>2008-12-04 00:00:00.000</td><td>15.00</td><td>1</td><td>2014-06-30 00:00:00.000</td><td>128</td><td>2008-12-04 00:00:00.000</td></tr><tr><td>129</td><td>2008-12-22 00:00:00.000</td><td>15.00</td><td>1</td><td>2014-06-30 00:00:00.000</td><td>129</td><td>2008-12-22 00:00:00.000</td></tr><tr><td>130</td><td>2009-02-13 00:00:00.000</td><td>15.00</td><td>1</td><td>2014-06-30 00:00:00.000</td><td>130</td><td>2009-02-13 00:00:00.000</td></tr><tr><td>131</td><td>2009-02-15 00:00:00.000</td><td>15.00</td><td>1</td><td>2014-06-30 00:00:00.000</td><td>131</td><td>2009-02-15 00:00:00.000</td></tr><tr><td>132</td><td>2009-02-22 00:00:00.000</td><td>15.00</td><td>1</td><td>2014-06-30 00:00:00.000</td><td>132</td><td>2009-02-22 00:00:00.000</td></tr><tr><td>133</td><td>2009-01-10 00:00:00.000</td><td>15.00</td><td>1</td><td>2014-06-30 00:00:00.000</td><td>133</td><td>2009-01-10 00:00:00.000</td></tr><tr><td>134</td><td>2009-01-14 00:00:00.000</td><td>25.00</td><td>2</td><td>2014-06-30 00:00:00.000</td><td>134</td><td>2009-01-14 00:00:00.000</td></tr><tr><td>135</td><td>2008-12-04 00:00:00.000</td><td>14.00</td><td>1</td><td>2014-06-30 00:00:00.000</td><td>135</td><td>2008-12-04 00:00:00.000</td></tr><tr><td>136</td><td>2009-12-11 00:00:00.000</td><td>14.00</td><td>1</td><td>2014-06-30 00:00:00.000</td><td>136</td><td>2009-12-11 00:00:00.000</td></tr><tr><td>137</td><td>2009-02-23 00:00:00.000</td><td>14.00</td><td>1</td><td>2014-06-30 00:00:00.000</td><td>137</td><td>2009-02-23 00:00:00.000</td></tr><tr><td>138</td><td>2009-02-04 00:00:00.000</td><td>14.00</td><td>1</td><td>2014-06-30 00:00:00.000</td><td>138</td><td>2009-02-04 00:00:00.000</td></tr><tr><td>139</td><td>2010-01-06 00:00:00.000</td><td>14.00</td><td>1</td><td>2014-06-30 00:00:00.000</td><td>139</td><td>2010-01-06 00:00:00.000</td></tr><tr><td>140</td><td>2010-01-22 00:00:00.000</td><td>14.00</td><td>1</td><td>2014-06-30 00:00:00.000</td><td>140</td><td>2010-01-22 00:00:00.000</td></tr><tr><td>141</td><td>2010-01-24 00:00:00.000</td><td>14.00</td><td>1</td><td>2014-06-30 00:00:00.000</td><td>141</td><td>2010-01-24 00:00:00.000</td></tr><tr><td>142</td><td>2010-03-04 00:00:00.000</td><td>14.00</td><td>1</td><td>2014-06-30 00:00:00.000</td><td>142</td><td>2010-03-04 00:00:00.000</td></tr><tr><td>143</td><td>2010-02-13 00:00:00.000</td><td>14.00</td><td>1</td><td>2014-06-30 00:00:00.000</td><td>143</td><td>2010-02-13 00:00:00.000</td></tr><tr><td>144</td><td>2009-01-17 00:00:00.000</td><td>14.00</td><td>1</td><td>2014-06-30 00:00:00.000</td><td>144</td><td>2009-01-17 00:00:00.000</td></tr><tr><td>145</td><td>2009-01-27 00:00:00.000</td><td>25.00</td><td>2</td><td>2014-06-30 00:00:00.000</td><td>145</td><td>2009-01-27 00:00:00.000</td></tr><tr><td>146</td><td>2008-12-07 00:00:00.000</td><td>9.50</td><td>1</td><td>2014-06-30 00:00:00.000</td><td>146</td><td>2008-12-07 00:00:00.000</td></tr><tr><td>147</td><td>2008-12-26 00:00:00.000</td><td>9.50</td><td>1</td><td>2014-06-30 00:00:00.000</td><td>147</td><td>2008-12-26 00:00:00.000</td></tr><tr><td>148</td><td>2009-01-14 00:00:00.000</td><td>9.50</td><td>1</td><td>2014-06-30 00:00:00.000</td><td>148</td><td>2009-01-14 00:00:00.000</td></tr><tr><td>149</td><td>2009-01-31 00:00:00.000</td><td>9.50</td><td>1</td><td>2014-06-30 00:00:00.000</td><td>149</td><td>2009-01-31 00:00:00.000</td></tr><tr><td>150</td><td>2009-02-26 00:00:00.000</td><td>9.50</td><td>1</td><td>2014-06-30 00:00:00.000</td><td>150</td><td>2009-02-26 00:00:00.000</td></tr><tr><td>151</td><td>2009-02-19 00:00:00.000</td><td>9.50</td><td>1</td><td>2014-06-30 00:00:00.000</td><td>151</td><td>2009-02-19 00:00:00.000</td></tr><tr><td>152</td><td>2009-02-01 00:00:00.000</td><td>25.00</td><td>2</td><td>2014-06-30 00:00:00.000</td><td>152</td><td>2009-02-01 00:00:00.000</td></tr><tr><td>153</td><td>2008-12-16 00:00:00.000</td><td>14.00</td><td>1</td><td>2014-06-30 00:00:00.000</td><td>153</td><td>2008-12-16 00:00:00.000</td></tr><tr><td>154</td><td>2008-12-23 00:00:00.000</td><td>14.00</td><td>1</td><td>2014-06-30 00:00:00.000</td><td>154</td><td>2008-12-23 00:00:00.000</td></tr><tr><td>155</td><td>2009-01-04 00:00:00.000</td><td>14.00</td><td>1</td><td>2014-06-30 00:00:00.000</td><td>155</td><td>2009-01-04 00:00:00.000</td></tr><tr><td>156</td><td>2009-01-11 00:00:00.000</td><td>14.00</td><td>1</td><td>2014-06-30 00:00:00.000</td><td>156</td><td>2009-01-11 00:00:00.000</td></tr><tr><td>157</td><td>2009-02-03 00:00:00.000</td><td>14.00</td><td>1</td><td>2014-06-30 00:00:00.000</td><td>157</td><td>2009-02-03 00:00:00.000</td></tr><tr><td>158</td><td>2009-03-07 00:00:00.000</td><td>14.00</td><td>1</td><td>2014-06-30 00:00:00.000</td><td>158</td><td>2009-03-07 00:00:00.000</td></tr><tr><td>159</td><td>2009-02-16 00:00:00.000</td><td>14.00</td><td>1</td><td>2014-06-30 00:00:00.000</td><td>159</td><td>2009-02-16 00:00:00.000</td></tr><tr><td>160</td><td>2009-01-21 00:00:00.000</td><td>25.00</td><td>2</td><td>2014-06-30 00:00:00.000</td><td>160</td><td>2009-01-21 00:00:00.000</td></tr><tr><td>161</td><td>2008-12-15 00:00:00.000</td><td>10.00</td><td>1</td><td>2014-06-30 00:00:00.000</td><td>161</td><td>2008-12-15 00:00:00.000</td></tr><tr><td>162</td><td>2009-01-03 00:00:00.000</td><td>10.00</td><td>1</td><td>2014-06-30 00:00:00.000</td><td>162</td><td>2009-01-03 00:00:00.000</td></tr><tr><td>163</td><td>2009-02-08 00:00:00.000</td><td>10.00</td><td>1</td><td>2014-06-30 00:00:00.000</td><td>163</td><td>2009-02-08 00:00:00.000</td></tr><tr><td>164</td><td>2009-03-06 00:00:00.000</td><td>10.00</td><td>1</td><td>2014-06-30 00:00:00.000</td><td>164</td><td>2009-03-06 00:00:00.000</td></tr><tr><td>165</td><td>2009-01-22 00:00:00.000</td><td>10.00</td><td>1</td><td>2014-06-30 00:00:00.000</td><td>165</td><td>2009-01-22 00:00:00.000</td></tr><tr><td>166</td><td>2009-02-21 00:00:00.000</td><td>25.00</td><td>2</td><td>2014-06-30 00:00:00.000</td><td>166</td><td>2009-02-21 00:00:00.000</td></tr><tr><td>167</td><td>2013-07-14 00:00:00.000</td><td>9.50</td><td>1</td><td>2013-06-30 00:00:00.000</td><td>167</td><td>2013-07-14 00:00:00.000</td></tr><tr><td>168</td><td>2008-12-07 00:00:00.000</td><td>9.50</td><td>1</td><td>2014-06-30 00:00:00.000</td><td>168</td><td>2008-12-07 00:00:00.000</td></tr><tr><td>169</td><td>2008-12-14 00:00:00.000</td><td>9.50</td><td>1</td><td>2014-06-30 00:00:00.000</td><td>169</td><td>2008-12-14 00:00:00.000</td></tr><tr><td>170</td><td>2013-07-14 00:00:00.000</td><td>9.50</td><td>1</td><td>2013-06-30 00:00:00.000</td><td>170</td><td>2013-07-14 00:00:00.000</td></tr><tr><td>171</td><td>2009-01-02 00:00:00.000</td><td>9.50</td><td>1</td><td>2014-06-30 00:00:00.000</td><td>171</td><td>2009-01-02 00:00:00.000</td></tr><tr><td>172</td><td>2013-07-14 00:00:00.000</td><td>9.50</td><td>1</td><td>2013-06-30 00:00:00.000</td><td>172</td><td>2013-07-14 00:00:00.000</td></tr><tr><td>173</td><td>2009-01-21 00:00:00.000</td><td>9.50</td><td>1</td><td>2014-06-30 00:00:00.000</td><td>173</td><td>2009-01-21 00:00:00.000</td></tr><tr><td>174</td><td>2013-07-14 00:00:00.000</td><td>9.50</td><td>1</td><td>2013-06-30 00:00:00.000</td><td>174</td><td>2013-07-14 00:00:00.000</td></tr><tr><td>175</td><td>2013-07-14 00:00:00.000</td><td>9.50</td><td>1</td><td>2013-06-30 00:00:00.000</td><td>175</td><td>2013-07-14 00:00:00.000</td></tr><tr><td>176</td><td>2013-07-14 00:00:00.000</td><td>9.50</td><td>1</td><td>2013-06-30 00:00:00.000</td><td>176</td><td>2013-07-14 00:00:00.000</td></tr><tr><td>177</td><td>2013-07-14 00:00:00.000</td><td>9.50</td><td>1</td><td>2013-06-30 00:00:00.000</td><td>177</td><td>2013-07-14 00:00:00.000</td></tr><tr><td>178</td><td>2013-07-14 00:00:00.000</td><td>9.50</td><td>1</td><td>2013-06-30 00:00:00.000</td><td>178</td><td>2013-07-14 00:00:00.000</td></tr><tr><td>179</td><td>2009-03-05 00:00:00.000</td><td>9.50</td><td>1</td><td>2014-06-30 00:00:00.000</td><td>179</td><td>2009-03-05 00:00:00.000</td></tr><tr><td>180</td><td>2009-02-20 00:00:00.000</td><td>25.00</td><td>2</td><td>2014-06-30 00:00:00.000</td><td>180</td><td>2009-02-20 00:00:00.000</td></tr><tr><td>181</td><td>2008-12-09 00:00:00.000</td><td>14.00</td><td>1</td><td>2014-06-30 00:00:00.000</td><td>181</td><td>2008-12-09 00:00:00.000</td></tr><tr><td>182</td><td>2008-12-28 00:00:00.000</td><td>14.00</td><td>1</td><td>2014-06-30 00:00:00.000</td><td>182</td><td>2008-12-28 00:00:00.000</td></tr><tr><td>183</td><td>2009-01-22 00:00:00.000</td><td>14.00</td><td>1</td><td>2014-06-30 00:00:00.000</td><td>183</td><td>2009-01-22 00:00:00.000</td></tr><tr><td>184</td><td>2009-02-09 00:00:00.000</td><td>14.00</td><td>1</td><td>2014-06-30 00:00:00.000</td><td>184</td><td>2009-02-09 00:00:00.000</td></tr><tr><td>185</td><td>2009-02-28 00:00:00.000</td><td>14.00</td><td>1</td><td>2014-06-30 00:00:00.000</td><td>185</td><td>2009-02-28 00:00:00.000</td></tr><tr><td>186</td><td>2009-02-08 00:00:00.000</td><td>25.00</td><td>2</td><td>2014-06-30 00:00:00.000</td><td>186</td><td>2009-02-08 00:00:00.000</td></tr><tr><td>187</td><td>2008-12-09 00:00:00.000</td><td>10.00</td><td>1</td><td>2014-06-30 00:00:00.000</td><td>187</td><td>2008-12-09 00:00:00.000</td></tr><tr><td>188</td><td>2008-12-27 00:00:00.000</td><td>10.00</td><td>1</td><td>2014-06-30 00:00:00.000</td><td>188</td><td>2008-12-27 00:00:00.000</td></tr><tr><td>189</td><td>2009-01-15 00:00:00.000</td><td>10.00</td><td>1</td><td>2014-06-30 00:00:00.000</td><td>189</td><td>2009-01-15 00:00:00.000</td></tr><tr><td>190</td><td>2009-02-02 00:00:00.000</td><td>10.00</td><td>1</td><td>2014-06-30 00:00:00.000</td><td>190</td><td>2009-02-02 00:00:00.000</td></tr><tr><td>191</td><td>2009-02-26 00:00:00.000</td><td>10.00</td><td>1</td><td>2014-06-30 00:00:00.000</td><td>191</td><td>2009-02-26 00:00:00.000</td></tr><tr><td>192</td><td>2009-03-05 00:00:00.000</td><td>25.00</td><td>2</td><td>2014-06-30 00:00:00.000</td><td>192</td><td>2009-03-05 00:00:00.000</td></tr><tr><td>193</td><td>2008-12-06 00:00:00.000</td><td>15.00</td><td>1</td><td>2014-06-30 00:00:00.000</td><td>193</td><td>2008-12-06 00:00:00.000</td></tr><tr><td>194</td><td>2008-12-12 00:00:00.000</td><td>15.00</td><td>1</td><td>2014-06-30 00:00:00.000</td><td>194</td><td>2008-12-12 00:00:00.000</td></tr><tr><td>195</td><td>2008-12-17 00:00:00.000</td><td>15.00</td><td>1</td><td>2014-06-30 00:00:00.000</td><td>195</td><td>2008-12-17 00:00:00.000</td></tr><tr><td>196</td><td>2008-12-24 00:00:00.000</td><td>15.00</td><td>1</td><td>2014-06-30 00:00:00.000</td><td>196</td><td>2008-12-24 00:00:00.000</td></tr><tr><td>197</td><td>2008-12-31 00:00:00.000</td><td>15.00</td><td>1</td><td>2014-06-30 00:00:00.000</td><td>197</td><td>2008-12-31 00:00:00.000</td></tr><tr><td>198</td><td>2009-01-04 00:00:00.000</td><td>15.00</td><td>1</td><td>2014-06-30 00:00:00.000</td><td>198</td><td>2009-01-04 00:00:00.000</td></tr><tr><td>199</td><td>2009-01-12 00:00:00.000</td><td>15.00</td><td>1</td><td>2014-06-30 00:00:00.000</td><td>199</td><td>2009-01-12 00:00:00.000</td></tr><tr><td>200</td><td>2009-01-17 00:00:00.000</td><td>15.00</td><td>1</td><td>2014-06-30 00:00:00.000</td><td>200</td><td>2009-01-17 00:00:00.000</td></tr><tr><td>201</td><td>2009-01-29 00:00:00.000</td><td>15.00</td><td>1</td><td>2014-06-30 00:00:00.000</td><td>201</td><td>2009-01-29 00:00:00.000</td></tr><tr><td>202</td><td>2009-02-05 00:00:00.000</td><td>15.00</td><td>1</td><td>2014-06-30 00:00:00.000</td><td>202</td><td>2009-02-05 00:00:00.000</td></tr><tr><td>203</td><td>2009-02-24 00:00:00.000</td><td>15.00</td><td>1</td><td>2014-06-30 00:00:00.000</td><td>203</td><td>2009-02-24 00:00:00.000</td></tr><tr><td>204</td><td>2009-03-08 00:00:00.000</td><td>15.00</td><td>1</td><td>2014-06-30 00:00:00.000</td><td>204</td><td>2009-03-08 00:00:00.000</td></tr><tr><td>205</td><td>2009-02-26 00:00:00.000</td><td>25.00</td><td>2</td><td>2014-06-30 00:00:00.000</td><td>205</td><td>2009-02-26 00:00:00.000</td></tr><tr><td>206</td><td>2008-12-02 00:00:00.000</td><td>10.00</td><td>1</td><td>2014-06-30 00:00:00.000</td><td>206</td><td>2008-12-02 00:00:00.000</td></tr><tr><td>207</td><td>2008-12-02 00:00:00.000</td><td>10.00</td><td>1</td><td>2014-06-30 00:00:00.000</td><td>207</td><td>2008-12-02 00:00:00.000</td></tr><tr><td>208</td><td>2009-01-08 00:00:00.000</td><td>10.00</td><td>1</td><td>2014-06-30 00:00:00.000</td><td>208</td><td>2009-01-08 00:00:00.000</td></tr><tr><td>209</td><td>2009-01-27 00:00:00.000</td><td>10.00</td><td>1</td><td>2014-06-30 00:00:00.000</td><td>209</td><td>2009-01-27 00:00:00.000</td></tr><tr><td>210</td><td>2009-02-20 00:00:00.000</td><td>10.00</td><td>1</td><td>2014-06-30 00:00:00.000</td><td>210</td><td>2009-02-20 00:00:00.000</td></tr><tr><td>211</td><td>2009-02-28 00:00:00.000</td><td>28.8462</td><td>2</td><td>2014-06-30 00:00:00.000</td><td>211</td><td>2009-02-28 00:00:00.000</td></tr><tr><td>212</td><td>2008-12-09 00:00:00.000</td><td>21.6346</td><td>2</td><td>2014-06-30 00:00:00.000</td><td>212</td><td>2008-12-09 00:00:00.000</td></tr><tr><td>213</td><td>2010-02-23 00:00:00.000</td><td>10.5769</td><td>2</td><td>2014-06-30 00:00:00.000</td><td>213</td><td>2010-02-23 00:00:00.000</td></tr><tr><td>214</td><td>2009-02-02 00:00:00.000</td><td>10.5769</td><td>2</td><td>2014-06-30 00:00:00.000</td><td>214</td><td>2009-02-02 00:00:00.000</td></tr><tr><td>215</td><td>2009-01-15 00:00:00.000</td><td>10.5769</td><td>2</td><td>2014-06-30 00:00:00.000</td><td>215</td><td>2009-01-15 00:00:00.000</td></tr><tr><td>216</td><td>2008-12-28 00:00:00.000</td><td>10.5769</td><td>2</td><td>2014-06-30 00:00:00.000</td><td>216</td><td>2008-12-28 00:00:00.000</td></tr><tr><td>217</td><td>2009-01-04 00:00:00.000</td><td>17.7885</td><td>2</td><td>2014-06-30 00:00:00.000</td><td>217</td><td>2009-01-04 00:00:00.000</td></tr><tr><td>218</td><td>2008-12-16 00:00:00.000</td><td>16.8269</td><td>2</td><td>2014-06-30 00:00:00.000</td><td>218</td><td>2008-12-16 00:00:00.000</td></tr><tr><td>219</td><td>2009-01-22 00:00:00.000</td><td>10.25</td><td>2</td><td>2014-06-30 00:00:00.000</td><td>219</td><td>2009-01-22 00:00:00.000</td></tr><tr><td>220</td><td>2009-02-09 00:00:00.000</td><td>10.25</td><td>2</td><td>2014-06-30 00:00:00.000</td><td>220</td><td>2009-02-09 00:00:00.000</td></tr><tr><td>221</td><td>2009-03-06 00:00:00.000</td><td>16.8269</td><td>2</td><td>2014-06-30 00:00:00.000</td><td>221</td><td>2009-03-06 00:00:00.000</td></tr><tr><td>222</td><td>2008-12-12 00:00:00.000</td><td>23.5577</td><td>2</td><td>2014-06-30 00:00:00.000</td><td>222</td><td>2008-12-12 00:00:00.000</td></tr><tr><td>223</td><td>2009-01-26 00:00:00.000</td><td>16.00</td><td>2</td><td>2014-06-30 00:00:00.000</td><td>223</td><td>2009-01-26 00:00:00.000</td></tr><tr><td>224</td><td>2012-01-01 00:00:00.000</td><td>16.00</td><td>2</td><td>2011-12-18 00:00:00.000</td><td>224</td><td>2012-01-01 00:00:00.000</td></tr><tr><td>225</td><td>2009-02-13 00:00:00.000</td><td>16.00</td><td>2</td><td>2014-06-30 00:00:00.000</td><td>225</td><td>2009-02-13 00:00:00.000</td></tr><tr><td>226</td><td>2009-03-03 00:00:00.000</td><td>16.00</td><td>2</td><td>2014-06-30 00:00:00.000</td><td>226</td><td>2009-03-03 00:00:00.000</td></tr><tr><td>227</td><td>2009-12-02 00:00:00.000</td><td>24.0385</td><td>2</td><td>2014-06-30 00:00:00.000</td><td>227</td><td>2009-12-02 00:00:00.000</td></tr><tr><td>228</td><td>2008-12-14 00:00:00.000</td><td>20.4327</td><td>2</td><td>2014-06-30 00:00:00.000</td><td>228</td><td>2008-12-14 00:00:00.000</td></tr><tr><td>229</td><td>2010-02-16 00:00:00.000</td><td>9.25</td><td>1</td><td>2014-06-30 00:00:00.000</td><td>229</td><td>2010-02-16 00:00:00.000</td></tr><tr><td>230</td><td>2010-03-05 00:00:00.000</td><td>9.25</td><td>1</td><td>2014-06-30 00:00:00.000</td><td>230</td><td>2010-03-05 00:00:00.000</td></tr><tr><td>231</td><td>2010-03-07 00:00:00.000</td><td>9.25</td><td>1</td><td>2014-06-30 00:00:00.000</td><td>231</td><td>2010-03-07 00:00:00.000</td></tr><tr><td>232</td><td>2010-01-27 00:00:00.000</td><td>9.25</td><td>1</td><td>2014-06-30 00:00:00.000</td><td>232</td><td>2010-01-27 00:00:00.000</td></tr><tr><td>233</td><td>2009-12-21 00:00:00.000</td><td>9.75</td><td>2</td><td>2014-06-30 00:00:00.000</td><td>233</td><td>2009-12-21 00:00:00.000</td></tr><tr><td>234</td><td>2012-01-29 00:00:00.000</td><td>60.0962</td><td>2</td><td>2012-01-15 00:00:00.000</td><td>234</td><td>2012-01-29 00:00:00.000</td></tr><tr><td>235</td><td>2008-12-06 00:00:00.000</td><td>27.1394</td><td>2</td><td>2014-06-30 00:00:00.000</td><td>235</td><td>2008-12-06 00:00:00.000</td></tr><tr><td>236</td><td>2009-02-25 00:00:00.000</td><td>13.9423</td><td>2</td><td>2014-06-30 00:00:00.000</td><td>236</td><td>2009-02-25 00:00:00.000</td></tr><tr><td>237</td><td>2009-02-06 00:00:00.000</td><td>13.9423</td><td>2</td><td>2014-06-30 00:00:00.000</td><td>237</td><td>2009-02-06 00:00:00.000</td></tr><tr><td>238</td><td>2009-01-01 00:00:00.000</td><td>18.2692</td><td>2</td><td>2014-06-30 00:00:00.000</td><td>238</td><td>2009-01-01 00:00:00.000</td></tr><tr><td>239</td><td>2008-12-25 00:00:00.000</td><td>16.5865</td><td>2</td><td>2014-06-30 00:00:00.000</td><td>239</td><td>2008-12-25 00:00:00.000</td></tr><tr><td>240</td><td>2008-12-13 00:00:00.000</td><td>18.2692</td><td>2</td><td>2014-06-30 00:00:00.000</td><td>240</td><td>2008-12-13 00:00:00.000</td></tr><tr><td>241</td><td>2009-01-30 00:00:00.000</td><td>34.7356</td><td>2</td><td>2014-06-30 00:00:00.000</td><td>241</td><td>2009-01-30 00:00:00.000</td></tr><tr><td>242</td><td>2008-12-18 00:00:00.000</td><td>19.00</td><td>2</td><td>2014-06-30 00:00:00.000</td><td>242</td><td>2008-12-18 00:00:00.000</td></tr><tr><td>243</td><td>2009-01-06 00:00:00.000</td><td>19.00</td><td>2</td><td>2014-06-30 00:00:00.000</td><td>243</td><td>2009-01-06 00:00:00.000</td></tr><tr><td>244</td><td>2009-01-24 00:00:00.000</td><td>19.00</td><td>2</td><td>2014-06-30 00:00:00.000</td><td>244</td><td>2009-01-24 00:00:00.000</td></tr><tr><td>245</td><td>2009-02-18 00:00:00.000</td><td>26.4423</td><td>2</td><td>2014-06-30 00:00:00.000</td><td>245</td><td>2009-02-18 00:00:00.000</td></tr><tr><td>246</td><td>2009-02-11 00:00:00.000</td><td>19.00</td><td>2</td><td>2014-06-30 00:00:00.000</td><td>246</td><td>2009-02-11 00:00:00.000</td></tr><tr><td>247</td><td>2009-03-01 00:00:00.000</td><td>19.00</td><td>2</td><td>2014-06-30 00:00:00.000</td><td>247</td><td>2009-03-01 00:00:00.000</td></tr><tr><td>248</td><td>2009-03-08 00:00:00.000</td><td>26.4423</td><td>2</td><td>2014-06-30 00:00:00.000</td><td>248</td><td>2009-03-08 00:00:00.000</td></tr><tr><td>249</td><td>2008-12-25 00:00:00.000</td><td>43.2692</td><td>2</td><td>2014-06-30 00:00:00.000</td><td>249</td><td>2008-12-25 00:00:00.000</td></tr><tr><td>250</td><td>2012-07-14 00:00:00.000</td><td>30.00</td><td>2</td><td>2012-06-30 00:00:00.000</td><td>250</td><td>2012-07-14 00:00:00.000</td></tr><tr><td>251</td><td>2009-02-10 00:00:00.000</td><td>18.2692</td><td>2</td><td>2014-06-30 00:00:00.000</td><td>251</td><td>2009-02-10 00:00:00.000</td></tr><tr><td>252</td><td>2009-02-28 00:00:00.000</td><td>18.2692</td><td>2</td><td>2014-06-30 00:00:00.000</td><td>252</td><td>2009-02-28 00:00:00.000</td></tr><tr><td>253</td><td>2009-12-17 00:00:00.000</td><td>18.2692</td><td>2</td><td>2014-06-30 00:00:00.000</td><td>253</td><td>2009-12-17 00:00:00.000</td></tr><tr><td>254</td><td>2010-01-04 00:00:00.000</td><td>18.2692</td><td>2</td><td>2014-06-30 00:00:00.000</td><td>254</td><td>2010-01-04 00:00:00.000</td></tr><tr><td>255</td><td>2010-01-11 00:00:00.000</td><td>18.2692</td><td>2</td><td>2014-06-30 00:00:00.000</td><td>255</td><td>2010-01-11 00:00:00.000</td></tr><tr><td>256</td><td>2010-01-23 00:00:00.000</td><td>18.2692</td><td>2</td><td>2014-06-30 00:00:00.000</td><td>256</td><td>2010-01-23 00:00:00.000</td></tr><tr><td>257</td><td>2010-01-27 00:00:00.000</td><td>18.2692</td><td>2</td><td>2014-06-30 00:00:00.000</td><td>257</td><td>2010-01-27 00:00:00.000</td></tr><tr><td>258</td><td>2010-01-31 00:00:00.000</td><td>18.2692</td><td>2</td><td>2014-06-30 00:00:00.000</td><td>258</td><td>2010-01-31 00:00:00.000</td></tr><tr><td>259</td><td>2010-03-09 00:00:00.000</td><td>18.2692</td><td>2</td><td>2014-06-30 00:00:00.000</td><td>259</td><td>2010-03-09 00:00:00.000</td></tr><tr><td>260</td><td>2010-12-06 00:00:00.000</td><td>12.75</td><td>2</td><td>2014-06-30 00:00:00.000</td><td>260</td><td>2010-12-06 00:00:00.000</td></tr><tr><td>261</td><td>2010-12-25 00:00:00.000</td><td>12.75</td><td>2</td><td>2014-06-30 00:00:00.000</td><td>261</td><td>2010-12-25 00:00:00.000</td></tr><tr><td>262</td><td>2009-01-12 00:00:00.000</td><td>13.4615</td><td>2</td><td>2014-06-30 00:00:00.000</td><td>262</td><td>2009-01-12 00:00:00.000</td></tr><tr><td>263</td><td>2008-12-11 00:00:00.000</td><td>50.4808</td><td>2</td><td>2014-06-30 00:00:00.000</td><td>263</td><td>2008-12-11 00:00:00.000</td></tr><tr><td>264</td><td>2009-02-04 00:00:00.000</td><td>39.6635</td><td>2</td><td>2014-06-30 00:00:00.000</td><td>264</td><td>2009-02-04 00:00:00.000</td></tr><tr><td>265</td><td>2008-12-04 00:00:00.000</td><td>32.4519</td><td>2</td><td>2014-06-30 00:00:00.000</td><td>265</td><td>2008-12-04 00:00:00.000</td></tr><tr><td>266</td><td>2009-02-23 00:00:00.000</td><td>32.4519</td><td>2</td><td>2014-06-30 00:00:00.000</td><td>266</td><td>2009-02-23 00:00:00.000</td></tr><tr><td>267</td><td>2009-02-16 00:00:00.000</td><td>27.4038</td><td>2</td><td>2014-06-30 00:00:00.000</td><td>267</td><td>2009-02-16 00:00:00.000</td></tr><tr><td>268</td><td>2009-02-03 00:00:00.000</td><td>27.4038</td><td>2</td><td>2014-06-30 00:00:00.000</td><td>268</td><td>2009-02-03 00:00:00.000</td></tr><tr><td>269</td><td>2009-01-11 00:00:00.000</td><td>27.4038</td><td>2</td><td>2014-06-30 00:00:00.000</td><td>269</td><td>2009-01-11 00:00:00.000</td></tr><tr><td>270</td><td>2009-01-17 00:00:00.000</td><td>38.4615</td><td>2</td><td>2014-06-30 00:00:00.000</td><td>270</td><td>2009-01-17 00:00:00.000</td></tr><tr><td>271</td><td>2009-01-22 00:00:00.000</td><td>38.4615</td><td>2</td><td>2014-06-30 00:00:00.000</td><td>271</td><td>2009-01-22 00:00:00.000</td></tr><tr><td>272</td><td>2008-12-23 00:00:00.000</td><td>27.4038</td><td>2</td><td>2014-06-30 00:00:00.000</td><td>272</td><td>2008-12-23 00:00:00.000</td></tr><tr><td>273</td><td>2011-02-15 00:00:00.000</td><td>72.1154</td><td>2</td><td>2014-06-30 00:00:00.000</td><td>273</td><td>2011-02-15 00:00:00.000</td></tr><tr><td>274</td><td>2011-01-04 00:00:00.000</td><td>48.101</td><td>2</td><td>2014-06-30 00:00:00.000</td><td>274</td><td>2011-01-04 00:00:00.000</td></tr><tr><td>275</td><td>2011-05-31 00:00:00.000</td><td>23.0769</td><td>2</td><td>2014-06-30 00:00:00.000</td><td>275</td><td>2011-05-31 00:00:00.000</td></tr><tr><td>276</td><td>2011-05-31 00:00:00.000</td><td>23.0769</td><td>2</td><td>2014-06-30 00:00:00.000</td><td>276</td><td>2011-05-31 00:00:00.000</td></tr><tr><td>277</td><td>2011-05-31 00:00:00.000</td><td>23.0769</td><td>2</td><td>2014-06-30 00:00:00.000</td><td>277</td><td>2011-05-31 00:00:00.000</td></tr><tr><td>278</td><td>2011-05-31 00:00:00.000</td><td>23.0769</td><td>2</td><td>2014-06-30 00:00:00.000</td><td>278</td><td>2011-05-31 00:00:00.000</td></tr><tr><td>279</td><td>2011-05-31 00:00:00.000</td><td>23.0769</td><td>2</td><td>2014-06-30 00:00:00.000</td><td>279</td><td>2011-05-31 00:00:00.000</td></tr><tr><td>280</td><td>2011-05-31 00:00:00.000</td><td>23.0769</td><td>2</td><td>2014-06-30 00:00:00.000</td><td>280</td><td>2011-05-31 00:00:00.000</td></tr><tr><td>281</td><td>2011-05-31 00:00:00.000</td><td>23.0769</td><td>2</td><td>2014-06-30 00:00:00.000</td><td>281</td><td>2011-05-31 00:00:00.000</td></tr><tr><td>282</td><td>2011-05-31 00:00:00.000</td><td>23.0769</td><td>2</td><td>2014-06-30 00:00:00.000</td><td>282</td><td>2011-05-31 00:00:00.000</td></tr><tr><td>283</td><td>2011-05-31 00:00:00.000</td><td>23.0769</td><td>2</td><td>2014-06-30 00:00:00.000</td><td>283</td><td>2011-05-31 00:00:00.000</td></tr><tr><td>284</td><td>2012-09-30 00:00:00.000</td><td>23.0769</td><td>2</td><td>2014-06-30 00:00:00.000</td><td>284</td><td>2012-09-30 00:00:00.000</td></tr><tr><td>285</td><td>2013-03-14 00:00:00.000</td><td>48.101</td><td>2</td><td>2014-06-30 00:00:00.000</td><td>285</td><td>2013-03-14 00:00:00.000</td></tr><tr><td>286</td><td>2013-05-30 00:00:00.000</td><td>23.0769</td><td>2</td><td>2014-06-30 00:00:00.000</td><td>286</td><td>2013-05-30 00:00:00.000</td></tr><tr><td>287</td><td>2012-04-16 00:00:00.000</td><td>48.101</td><td>2</td><td>2014-06-30 00:00:00.000</td><td>287</td><td>2012-04-16 00:00:00.000</td></tr><tr><td>288</td><td>2013-05-30 00:00:00.000</td><td>23.0769</td><td>2</td><td>2014-06-30 00:00:00.000</td><td>288</td><td>2013-05-30 00:00:00.000</td></tr><tr><td>289</td><td>2012-05-30 00:00:00.000</td><td>23.0769</td><td>2</td><td>2014-06-30 00:00:00.000</td><td>289</td><td>2012-05-30 00:00:00.000</td></tr><tr><td>290</td><td>2012-05-30 00:00:00.000</td><td>23.0769</td><td>2</td><td>2014-06-30 00:00:00.000</td><td>290</td><td>2012-05-30 00:00:00.000</td></tr></table>"
          },
          "metadata": {}
        }
      ],
      "execution_count": null
    },
    {
      "cell_type": "markdown",
      "source": [
        "Notice that we do have all of the helper table columns, so we need to remove them in the SELECT."
      ],
      "metadata": {
        "language": "sql",
        "azdata_cell_guid": "325084e4-42c5-4be2-980c-9a59a9c0811a",
        "id": "mrRVPDuQYNEP"
      }
    },
    {
      "cell_type": "code",
      "source": [
        "/* final view for the current employee pay looks like this*/\n",
        "\n",
        "SELECT EmployeePayHistory.BusinessEntityID,\n",
        "EmployeePayHistory.RateChangeDate,\n",
        "EmployeePayHistory.Rate,\n",
        "EmployeePayHistory.PayFrequency,\n",
        "EmployeePayHistory.ModifiedDate\n",
        "FROM HumanResources.EmployeePayHistory\n",
        "INNER JOIN \n",
        "    (   SELECT BusinessEntityID, MAX(RateChangeDate) as RecentRateChangeDate\n",
        "        FROM HumanResources.EmployeePayHistory \n",
        "        GROUP BY BusinessEntityID\n",
        ") CurrentPay ON EmployeePayHistory.BusinessEntityID = CurrentPay.BusinessEntityID AND EmployeePayHistory.RateChangeDate = CurrentPay.RecentRateChangeDate\n",
        "ORDER BY EmployeePayHistory.BusinessEntityID"
      ],
      "metadata": {
        "language": "sql",
        "azdata_cell_guid": "1f8e01f6-ee79-40a3-8289-10f74176b26c",
        "id": "8Yf5FluZYNEP",
        "outputId": "dcf0b018-7dca-414c-f743-20aa7c3651eb"
      },
      "outputs": [
        {
          "output_type": "display_data",
          "data": {
            "text/html": "(290 rows affected)"
          },
          "metadata": {}
        },
        {
          "output_type": "display_data",
          "data": {
            "text/html": "Total execution time: 00:00:00.013"
          },
          "metadata": {}
        },
        {
          "output_type": "execute_result",
          "execution_count": 78,
          "data": {
            "application/vnd.dataresource+json": {
              "schema": {
                "fields": [
                  {
                    "name": "BusinessEntityID"
                  },
                  {
                    "name": "RateChangeDate"
                  },
                  {
                    "name": "Rate"
                  },
                  {
                    "name": "PayFrequency"
                  },
                  {
                    "name": "ModifiedDate"
                  }
                ]
              },
              "data": [
                {
                  "0": "1",
                  "1": "2009-01-14 00:00:00.000",
                  "2": "125.50",
                  "3": "2",
                  "4": "2014-06-30 00:00:00.000"
                },
                {
                  "0": "2",
                  "1": "2008-01-31 00:00:00.000",
                  "2": "63.4615",
                  "3": "2",
                  "4": "2014-06-30 00:00:00.000"
                },
                {
                  "0": "3",
                  "1": "2007-11-11 00:00:00.000",
                  "2": "43.2692",
                  "3": "2",
                  "4": "2014-06-30 00:00:00.000"
                },
                {
                  "0": "4",
                  "1": "2011-12-15 00:00:00.000",
                  "2": "29.8462",
                  "3": "2",
                  "4": "2011-12-01 00:00:00.000"
                },
                {
                  "0": "5",
                  "1": "2008-01-06 00:00:00.000",
                  "2": "32.6923",
                  "3": "2",
                  "4": "2014-06-30 00:00:00.000"
                },
                {
                  "0": "6",
                  "1": "2008-01-24 00:00:00.000",
                  "2": "32.6923",
                  "3": "2",
                  "4": "2014-06-30 00:00:00.000"
                },
                {
                  "0": "7",
                  "1": "2009-02-08 00:00:00.000",
                  "2": "50.4808",
                  "3": "2",
                  "4": "2014-06-30 00:00:00.000"
                },
                {
                  "0": "8",
                  "1": "2008-12-29 00:00:00.000",
                  "2": "40.8654",
                  "3": "2",
                  "4": "2014-06-30 00:00:00.000"
                },
                {
                  "0": "9",
                  "1": "2009-01-16 00:00:00.000",
                  "2": "40.8654",
                  "3": "2",
                  "4": "2014-06-30 00:00:00.000"
                },
                {
                  "0": "10",
                  "1": "2009-05-03 00:00:00.000",
                  "2": "42.4808",
                  "3": "2",
                  "4": "2014-06-30 00:00:00.000"
                },
                {
                  "0": "11",
                  "1": "2010-12-05 00:00:00.000",
                  "2": "28.8462",
                  "3": "2",
                  "4": "2014-06-30 00:00:00.000"
                },
                {
                  "0": "12",
                  "1": "2007-12-11 00:00:00.000",
                  "2": "25.00",
                  "3": "2",
                  "4": "2014-06-30 00:00:00.000"
                },
                {
                  "0": "13",
                  "1": "2010-12-23 00:00:00.000",
                  "2": "25.00",
                  "3": "2",
                  "4": "2014-06-30 00:00:00.000"
                },
                {
                  "0": "14",
                  "1": "2010-12-30 00:00:00.000",
                  "2": "36.0577",
                  "3": "2",
                  "4": "2014-06-30 00:00:00.000"
                },
                {
                  "0": "15",
                  "1": "2011-01-18 00:00:00.000",
                  "2": "32.6923",
                  "3": "2",
                  "4": "2014-06-30 00:00:00.000"
                },
                {
                  "0": "16",
                  "1": "2012-04-30 00:00:00.000",
                  "2": "37.50",
                  "3": "2",
                  "4": "2012-04-16 00:00:00.000"
                },
                {
                  "0": "17",
                  "1": "2007-01-26 00:00:00.000",
                  "2": "13.4615",
                  "3": "2",
                  "4": "2014-06-30 00:00:00.000"
                },
                {
                  "0": "18",
                  "1": "2011-02-07 00:00:00.000",
                  "2": "14.4231",
                  "3": "2",
                  "4": "2014-06-30 00:00:00.000"
                },
                {
                  "0": "19",
                  "1": "2011-02-14 00:00:00.000",
                  "2": "13.4615",
                  "3": "2",
                  "4": "2014-06-30 00:00:00.000"
                },
                {
                  "0": "20",
                  "1": "2011-01-07 00:00:00.000",
                  "2": "13.4615",
                  "3": "2",
                  "4": "2014-06-30 00:00:00.000"
                },
                {
                  "0": "21",
                  "1": "2009-03-02 00:00:00.000",
                  "2": "14.4231",
                  "3": "2",
                  "4": "2014-06-30 00:00:00.000"
                },
                {
                  "0": "22",
                  "1": "2008-12-12 00:00:00.000",
                  "2": "14.4231",
                  "3": "2",
                  "4": "2014-06-30 00:00:00.000"
                },
                {
                  "0": "23",
                  "1": "2009-01-12 00:00:00.000",
                  "2": "14.4231",
                  "3": "2",
                  "4": "2014-06-30 00:00:00.000"
                },
                {
                  "0": "24",
                  "1": "2009-01-18 00:00:00.000",
                  "2": "14.4231",
                  "3": "2",
                  "4": "2014-06-30 00:00:00.000"
                },
                {
                  "0": "25",
                  "1": "2009-02-03 00:00:00.000",
                  "2": "84.1346",
                  "3": "2",
                  "4": "2014-06-30 00:00:00.000"
                },
                {
                  "0": "26",
                  "1": "2008-12-01 00:00:00.000",
                  "2": "24.5192",
                  "3": "2",
                  "4": "2014-06-30 00:00:00.000"
                },
                {
                  "0": "27",
                  "1": "2008-02-27 00:00:00.000",
                  "2": "25.00",
                  "3": "2",
                  "4": "2014-06-30 00:00:00.000"
                },
                {
                  "0": "28",
                  "1": "2006-06-30 00:00:00.000",
                  "2": "12.45",
                  "3": "1",
                  "4": "2014-06-30 00:00:00.000"
                },
                {
                  "0": "29",
                  "1": "2009-01-23 00:00:00.000",
                  "2": "12.45",
                  "3": "1",
                  "4": "2014-06-30 00:00:00.000"
                },
                {
                  "0": "30",
                  "1": "2009-01-29 00:00:00.000",
                  "2": "12.45",
                  "3": "1",
                  "4": "2014-06-30 00:00:00.000"
                },
                {
                  "0": "31",
                  "1": "2009-01-04 00:00:00.000",
                  "2": "12.45",
                  "3": "1",
                  "4": "2014-06-30 00:00:00.000"
                },
                {
                  "0": "32",
                  "1": "2008-12-29 00:00:00.000",
                  "2": "12.45",
                  "3": "1",
                  "4": "2014-06-30 00:00:00.000"
                },
                {
                  "0": "33",
                  "1": "2008-12-17 00:00:00.000",
                  "2": "12.45",
                  "3": "1",
                  "4": "2014-06-30 00:00:00.000"
                },
                {
                  "0": "34",
                  "1": "2009-02-16 00:00:00.000",
                  "2": "12.45",
                  "3": "1",
                  "4": "2014-06-30 00:00:00.000"
                },
                {
                  "0": "35",
                  "1": "2009-02-08 00:00:00.000",
                  "2": "12.45",
                  "3": "1",
                  "4": "2014-06-30 00:00:00.000"
                },
                {
                  "0": "36",
                  "1": "2009-02-10 00:00:00.000",
                  "2": "12.45",
                  "3": "1",
                  "4": "2014-06-30 00:00:00.000"
                },
                {
                  "0": "37",
                  "1": "2009-03-07 00:00:00.000",
                  "2": "12.45",
                  "3": "1",
                  "4": "2014-06-30 00:00:00.000"
                },
                {
                  "0": "38",
                  "1": "2010-01-16 00:00:00.000",
                  "2": "12.45",
                  "3": "1",
                  "4": "2014-06-30 00:00:00.000"
                },
                {
                  "0": "39",
                  "1": "2010-02-05 00:00:00.000",
                  "2": "12.45",
                  "3": "1",
                  "4": "2014-06-30 00:00:00.000"
                },
                {
                  "0": "40",
                  "1": "2007-12-26 00:00:00.000",
                  "2": "25.00",
                  "3": "2",
                  "4": "2014-06-30 00:00:00.000"
                },
                {
                  "0": "41",
                  "1": "2009-01-21 00:00:00.000",
                  "2": "12.45",
                  "3": "1",
                  "4": "2014-06-30 00:00:00.000"
                },
                {
                  "0": "42",
                  "1": "2008-12-27 00:00:00.000",
                  "2": "12.45",
                  "3": "1",
                  "4": "2014-06-30 00:00:00.000"
                },
                {
                  "0": "43",
                  "1": "2009-01-02 00:00:00.000",
                  "2": "12.45",
                  "3": "1",
                  "4": "2014-06-30 00:00:00.000"
                },
                {
                  "0": "44",
                  "1": "2008-12-08 00:00:00.000",
                  "2": "12.45",
                  "3": "1",
                  "4": "2014-06-30 00:00:00.000"
                },
                {
                  "0": "45",
                  "1": "2009-02-26 00:00:00.000",
                  "2": "12.45",
                  "3": "1",
                  "4": "2014-06-30 00:00:00.000"
                },
                {
                  "0": "46",
                  "1": "2009-02-08 00:00:00.000",
                  "2": "12.45",
                  "3": "1",
                  "4": "2014-06-30 00:00:00.000"
                },
                {
                  "0": "47",
                  "1": "2009-02-22 00:00:00.000",
                  "2": "25.00",
                  "3": "2",
                  "4": "2014-06-30 00:00:00.000"
                },
                {
                  "0": "48",
                  "1": "2008-01-06 00:00:00.000",
                  "2": "13.45",
                  "3": "1",
                  "4": "2014-06-30 00:00:00.000"
                },
                {
                  "0": "49",
                  "1": "2008-01-07 00:00:00.000",
                  "2": "13.45",
                  "3": "1",
                  "4": "2014-06-30 00:00:00.000"
                },
                {
                  "0": "50",
                  "1": "2008-02-02 00:00:00.000",
                  "2": "13.45",
                  "3": "1",
                  "4": "2014-06-30 00:00:00.000"
                },
                {
                  "0": "51",
                  "1": "2008-02-20 00:00:00.000",
                  "2": "13.45",
                  "3": "1",
                  "4": "2014-06-30 00:00:00.000"
                },
                {
                  "0": "52",
                  "1": "2008-03-10 00:00:00.000",
                  "2": "13.45",
                  "3": "1",
                  "4": "2014-06-30 00:00:00.000"
                },
                {
                  "0": "53",
                  "1": "2008-03-28 00:00:00.000",
                  "2": "13.45",
                  "3": "1",
                  "4": "2014-06-30 00:00:00.000"
                },
                {
                  "0": "54",
                  "1": "2010-01-01 00:00:00.000",
                  "2": "13.45",
                  "3": "1",
                  "4": "2014-06-30 00:00:00.000"
                },
                {
                  "0": "55",
                  "1": "2008-02-08 00:00:00.000",
                  "2": "25.00",
                  "3": "2",
                  "4": "2014-06-30 00:00:00.000"
                },
                {
                  "0": "56",
                  "1": "2009-02-05 00:00:00.000",
                  "2": "11.00",
                  "3": "1",
                  "4": "2014-06-30 00:00:00.000"
                },
                {
                  "0": "57",
                  "1": "2009-02-23 00:00:00.000",
                  "2": "11.00",
                  "3": "1",
                  "4": "2014-06-30 00:00:00.000"
                },
                {
                  "0": "58",
                  "1": "2008-12-05 00:00:00.000",
                  "2": "11.00",
                  "3": "1",
                  "4": "2014-06-30 00:00:00.000"
                },
                {
                  "0": "59",
                  "1": "2008-12-24 00:00:00.000",
                  "2": "11.00",
                  "3": "1",
                  "4": "2014-06-30 00:00:00.000"
                },
                {
                  "0": "60",
                  "1": "2009-01-11 00:00:00.000",
                  "2": "11.00",
                  "3": "1",
                  "4": "2014-06-30 00:00:00.000"
                },
                {
                  "0": "61",
                  "1": "2009-01-18 00:00:00.000",
                  "2": "11.00",
                  "3": "1",
                  "4": "2014-06-30 00:00:00.000"
                },
                {
                  "0": "62",
                  "1": "2008-03-17 00:00:00.000",
                  "2": "25.00",
                  "3": "2",
                  "4": "2014-06-30 00:00:00.000"
                },
                {
                  "0": "63",
                  "1": "2010-01-29 00:00:00.000",
                  "2": "12.45",
                  "3": "1",
                  "4": "2014-06-30 00:00:00.000"
                },
                {
                  "0": "64",
                  "1": "2010-02-23 00:00:00.000",
                  "2": "12.45",
                  "3": "1",
                  "4": "2014-06-30 00:00:00.000"
                },
                {
                  "0": "65",
                  "1": "2010-02-23 00:00:00.000",
                  "2": "12.45",
                  "3": "1",
                  "4": "2014-06-30 00:00:00.000"
                },
                {
                  "0": "66",
                  "1": "2009-12-22 00:00:00.000",
                  "2": "12.45",
                  "3": "1",
                  "4": "2014-06-30 00:00:00.000"
                },
                {
                  "0": "67",
                  "1": "2009-03-05 00:00:00.000",
                  "2": "12.45",
                  "3": "1",
                  "4": "2014-06-30 00:00:00.000"
                },
                {
                  "0": "68",
                  "1": "2009-12-03 00:00:00.000",
                  "2": "12.45",
                  "3": "1",
                  "4": "2014-06-30 00:00:00.000"
                },
                {
                  "0": "69",
                  "1": "2009-02-15 00:00:00.000",
                  "2": "12.45",
                  "3": "1",
                  "4": "2014-06-30 00:00:00.000"
                },
                {
                  "0": "70",
                  "1": "2008-12-15 00:00:00.000",
                  "2": "12.45",
                  "3": "1",
                  "4": "2014-06-30 00:00:00.000"
                },
                {
                  "0": "71",
                  "1": "2009-02-15 00:00:00.000",
                  "2": "25.00",
                  "3": "2",
                  "4": "2014-06-30 00:00:00.000"
                },
                {
                  "0": "72",
                  "1": "2008-12-01 00:00:00.000",
                  "2": "9.50",
                  "3": "1",
                  "4": "2014-06-30 00:00:00.000"
                },
                {
                  "0": "73",
                  "1": "2008-12-19 00:00:00.000",
                  "2": "9.50",
                  "3": "1",
                  "4": "2014-06-30 00:00:00.000"
                },
                {
                  "0": "74",
                  "1": "2009-01-07 00:00:00.000",
                  "2": "9.50",
                  "3": "1",
                  "4": "2014-06-30 00:00:00.000"
                },
                {
                  "0": "75",
                  "1": "2009-01-26 00:00:00.000",
                  "2": "9.50",
                  "3": "1",
                  "4": "2014-06-30 00:00:00.000"
                },
                {
                  "0": "76",
                  "1": "2009-02-12 00:00:00.000",
                  "2": "9.50",
                  "3": "1",
                  "4": "2014-06-30 00:00:00.000"
                },
                {
                  "0": "77",
                  "1": "2009-03-03 00:00:00.000",
                  "2": "9.50",
                  "3": "1",
                  "4": "2014-06-30 00:00:00.000"
                },
                {
                  "0": "78",
                  "1": "2008-12-15 00:00:00.000",
                  "2": "25.00",
                  "3": "2",
                  "4": "2014-06-30 00:00:00.000"
                },
                {
                  "0": "79",
                  "1": "2010-01-24 00:00:00.000",
                  "2": "15.00",
                  "3": "1",
                  "4": "2014-06-30 00:00:00.000"
                },
                {
                  "0": "80",
                  "1": "2010-01-17 00:00:00.000",
                  "2": "15.00",
                  "3": "1",
                  "4": "2014-06-30 00:00:00.000"
                },
                {
                  "0": "81",
                  "1": "2009-12-29 00:00:00.000",
                  "2": "15.00",
                  "3": "1",
                  "4": "2014-06-30 00:00:00.000"
                },
                {
                  "0": "82",
                  "1": "2010-03-03 00:00:00.000",
                  "2": "15.00",
                  "3": "1",
                  "4": "2014-06-30 00:00:00.000"
                },
                {
                  "0": "83",
                  "1": "2010-02-12 00:00:00.000",
                  "2": "15.00",
                  "3": "1",
                  "4": "2014-06-30 00:00:00.000"
                },
                {
                  "0": "84",
                  "1": "2010-02-05 00:00:00.000",
                  "2": "15.00",
                  "3": "1",
                  "4": "2014-06-30 00:00:00.000"
                },
                {
                  "0": "85",
                  "1": "2009-12-11 00:00:00.000",
                  "2": "15.00",
                  "3": "1",
                  "4": "2014-06-30 00:00:00.000"
                },
                {
                  "0": "86",
                  "1": "2009-01-05 00:00:00.000",
                  "2": "15.00",
                  "3": "1",
                  "4": "2014-06-30 00:00:00.000"
                },
                {
                  "0": "87",
                  "1": "2008-12-22 00:00:00.000",
                  "2": "25.00",
                  "3": "2",
                  "4": "2014-06-30 00:00:00.000"
                },
                {
                  "0": "88",
                  "1": "2009-12-18 00:00:00.000",
                  "2": "13.45",
                  "3": "1",
                  "4": "2014-06-30 00:00:00.000"
                },
                {
                  "0": "89",
                  "1": "2010-02-01 00:00:00.000",
                  "2": "13.45",
                  "3": "1",
                  "4": "2014-06-30 00:00:00.000"
                },
                {
                  "0": "90",
                  "1": "2010-02-20 00:00:00.000",
                  "2": "13.45",
                  "3": "1",
                  "4": "2014-06-30 00:00:00.000"
                },
                {
                  "0": "91",
                  "1": "2010-01-12 00:00:00.000",
                  "2": "13.45",
                  "3": "1",
                  "4": "2014-06-30 00:00:00.000"
                },
                {
                  "0": "92",
                  "1": "2010-03-10 00:00:00.000",
                  "2": "13.45",
                  "3": "1",
                  "4": "2014-06-30 00:00:00.000"
                },
                {
                  "0": "93",
                  "1": "2008-12-27 00:00:00.000",
                  "2": "25.00",
                  "3": "2",
                  "4": "2014-06-30 00:00:00.000"
                },
                {
                  "0": "94",
                  "1": "2008-12-12 00:00:00.000",
                  "2": "11.00",
                  "3": "1",
                  "4": "2014-06-30 00:00:00.000"
                },
                {
                  "0": "95",
                  "1": "2008-12-19 00:00:00.000",
                  "2": "11.00",
                  "3": "1",
                  "4": "2014-06-30 00:00:00.000"
                },
                {
                  "0": "96",
                  "1": "2009-03-02 00:00:00.000",
                  "2": "11.00",
                  "3": "1",
                  "4": "2014-06-30 00:00:00.000"
                },
                {
                  "0": "97",
                  "1": "2009-02-10 00:00:00.000",
                  "2": "11.00",
                  "3": "1",
                  "4": "2014-06-30 00:00:00.000"
                },
                {
                  "0": "98",
                  "1": "2009-02-11 00:00:00.000",
                  "2": "11.00",
                  "3": "1",
                  "4": "2014-06-30 00:00:00.000"
                },
                {
                  "0": "99",
                  "1": "2009-01-06 00:00:00.000",
                  "2": "11.00",
                  "3": "1",
                  "4": "2014-06-30 00:00:00.000"
                },
                {
                  "0": "100",
                  "1": "2009-01-12 00:00:00.000",
                  "2": "11.00",
                  "3": "1",
                  "4": "2014-06-30 00:00:00.000"
                },
                {
                  "0": "101",
                  "1": "2009-01-25 00:00:00.000",
                  "2": "11.00",
                  "3": "1",
                  "4": "2014-06-30 00:00:00.000"
                },
                {
                  "0": "102",
                  "1": "2008-12-03 00:00:00.000",
                  "2": "25.00",
                  "3": "2",
                  "4": "2014-06-30 00:00:00.000"
                },
                {
                  "0": "103",
                  "1": "2009-12-06 00:00:00.000",
                  "2": "13.45",
                  "3": "1",
                  "4": "2014-06-30 00:00:00.000"
                },
                {
                  "0": "104",
                  "1": "2009-12-25 00:00:00.000",
                  "2": "13.45",
                  "3": "1",
                  "4": "2014-06-30 00:00:00.000"
                },
                {
                  "0": "105",
                  "1": "2009-12-25 00:00:00.000",
                  "2": "13.45",
                  "3": "1",
                  "4": "2014-06-30 00:00:00.000"
                },
                {
                  "0": "106",
                  "1": "2010-02-27 00:00:00.000",
                  "2": "13.45",
                  "3": "1",
                  "4": "2014-06-30 00:00:00.000"
                },
                {
                  "0": "107",
                  "1": "2010-02-08 00:00:00.000",
                  "2": "13.45",
                  "3": "1",
                  "4": "2014-06-30 00:00:00.000"
                },
                {
                  "0": "108",
                  "1": "2008-12-08 00:00:00.000",
                  "2": "25.00",
                  "3": "2",
                  "4": "2014-06-30 00:00:00.000"
                },
                {
                  "0": "109",
                  "1": "2008-12-07 00:00:00.000",
                  "2": "11.00",
                  "3": "1",
                  "4": "2014-06-30 00:00:00.000"
                },
                {
                  "0": "110",
                  "1": "2008-12-14 00:00:00.000",
                  "2": "11.00",
                  "3": "1",
                  "4": "2014-06-30 00:00:00.000"
                },
                {
                  "0": "111",
                  "1": "2008-12-17 00:00:00.000",
                  "2": "11.00",
                  "3": "1",
                  "4": "2014-06-30 00:00:00.000"
                },
                {
                  "0": "112",
                  "1": "2009-01-01 00:00:00.000",
                  "2": "11.00",
                  "3": "1",
                  "4": "2014-06-30 00:00:00.000"
                },
                {
                  "0": "113",
                  "1": "2008-12-25 00:00:00.000",
                  "2": "11.00",
                  "3": "1",
                  "4": "2014-06-30 00:00:00.000"
                },
                {
                  "0": "114",
                  "1": "2009-01-13 00:00:00.000",
                  "2": "11.00",
                  "3": "1",
                  "4": "2014-06-30 00:00:00.000"
                },
                {
                  "0": "115",
                  "1": "2009-01-20 00:00:00.000",
                  "2": "11.00",
                  "3": "1",
                  "4": "2014-06-30 00:00:00.000"
                },
                {
                  "0": "116",
                  "1": "2009-01-31 00:00:00.000",
                  "2": "11.00",
                  "3": "1",
                  "4": "2014-06-30 00:00:00.000"
                },
                {
                  "0": "117",
                  "1": "2009-02-18 00:00:00.000",
                  "2": "11.00",
                  "3": "1",
                  "4": "2014-06-30 00:00:00.000"
                },
                {
                  "0": "118",
                  "1": "2009-02-13 00:00:00.000",
                  "2": "11.00",
                  "3": "1",
                  "4": "2014-06-30 00:00:00.000"
                },
                {
                  "0": "119",
                  "1": "2009-02-25 00:00:00.000",
                  "2": "11.00",
                  "3": "1",
                  "4": "2014-06-30 00:00:00.000"
                },
                {
                  "0": "120",
                  "1": "2009-03-04 00:00:00.000",
                  "2": "11.00",
                  "3": "1",
                  "4": "2014-06-30 00:00:00.000"
                },
                {
                  "0": "121",
                  "1": "2009-01-02 00:00:00.000",
                  "2": "19.2308",
                  "3": "2",
                  "4": "2014-06-30 00:00:00.000"
                },
                {
                  "0": "122",
                  "1": "2008-12-07 00:00:00.000",
                  "2": "9.00",
                  "3": "1",
                  "4": "2014-06-30 00:00:00.000"
                },
                {
                  "0": "123",
                  "1": "2008-12-07 00:00:00.000",
                  "2": "9.50",
                  "3": "2",
                  "4": "2014-06-30 00:00:00.000"
                },
                {
                  "0": "124",
                  "1": "2008-12-26 00:00:00.000",
                  "2": "9.00",
                  "3": "1",
                  "4": "2014-06-30 00:00:00.000"
                },
                {
                  "0": "125",
                  "1": "2009-01-20 00:00:00.000",
                  "2": "9.50",
                  "3": "2",
                  "4": "2014-06-30 00:00:00.000"
                },
                {
                  "0": "126",
                  "1": "2009-02-26 00:00:00.000",
                  "2": "9.00",
                  "3": "1",
                  "4": "2014-06-30 00:00:00.000"
                },
                {
                  "0": "127",
                  "1": "2009-01-03 00:00:00.000",
                  "2": "25.00",
                  "3": "2",
                  "4": "2014-06-30 00:00:00.000"
                },
                {
                  "0": "128",
                  "1": "2008-12-04 00:00:00.000",
                  "2": "15.00",
                  "3": "1",
                  "4": "2014-06-30 00:00:00.000"
                },
                {
                  "0": "129",
                  "1": "2008-12-22 00:00:00.000",
                  "2": "15.00",
                  "3": "1",
                  "4": "2014-06-30 00:00:00.000"
                },
                {
                  "0": "130",
                  "1": "2009-02-13 00:00:00.000",
                  "2": "15.00",
                  "3": "1",
                  "4": "2014-06-30 00:00:00.000"
                },
                {
                  "0": "131",
                  "1": "2009-02-15 00:00:00.000",
                  "2": "15.00",
                  "3": "1",
                  "4": "2014-06-30 00:00:00.000"
                },
                {
                  "0": "132",
                  "1": "2009-02-22 00:00:00.000",
                  "2": "15.00",
                  "3": "1",
                  "4": "2014-06-30 00:00:00.000"
                },
                {
                  "0": "133",
                  "1": "2009-01-10 00:00:00.000",
                  "2": "15.00",
                  "3": "1",
                  "4": "2014-06-30 00:00:00.000"
                },
                {
                  "0": "134",
                  "1": "2009-01-14 00:00:00.000",
                  "2": "25.00",
                  "3": "2",
                  "4": "2014-06-30 00:00:00.000"
                },
                {
                  "0": "135",
                  "1": "2008-12-04 00:00:00.000",
                  "2": "14.00",
                  "3": "1",
                  "4": "2014-06-30 00:00:00.000"
                },
                {
                  "0": "136",
                  "1": "2009-12-11 00:00:00.000",
                  "2": "14.00",
                  "3": "1",
                  "4": "2014-06-30 00:00:00.000"
                },
                {
                  "0": "137",
                  "1": "2009-02-23 00:00:00.000",
                  "2": "14.00",
                  "3": "1",
                  "4": "2014-06-30 00:00:00.000"
                },
                {
                  "0": "138",
                  "1": "2009-02-04 00:00:00.000",
                  "2": "14.00",
                  "3": "1",
                  "4": "2014-06-30 00:00:00.000"
                },
                {
                  "0": "139",
                  "1": "2010-01-06 00:00:00.000",
                  "2": "14.00",
                  "3": "1",
                  "4": "2014-06-30 00:00:00.000"
                },
                {
                  "0": "140",
                  "1": "2010-01-22 00:00:00.000",
                  "2": "14.00",
                  "3": "1",
                  "4": "2014-06-30 00:00:00.000"
                },
                {
                  "0": "141",
                  "1": "2010-01-24 00:00:00.000",
                  "2": "14.00",
                  "3": "1",
                  "4": "2014-06-30 00:00:00.000"
                },
                {
                  "0": "142",
                  "1": "2010-03-04 00:00:00.000",
                  "2": "14.00",
                  "3": "1",
                  "4": "2014-06-30 00:00:00.000"
                },
                {
                  "0": "143",
                  "1": "2010-02-13 00:00:00.000",
                  "2": "14.00",
                  "3": "1",
                  "4": "2014-06-30 00:00:00.000"
                },
                {
                  "0": "144",
                  "1": "2009-01-17 00:00:00.000",
                  "2": "14.00",
                  "3": "1",
                  "4": "2014-06-30 00:00:00.000"
                },
                {
                  "0": "145",
                  "1": "2009-01-27 00:00:00.000",
                  "2": "25.00",
                  "3": "2",
                  "4": "2014-06-30 00:00:00.000"
                },
                {
                  "0": "146",
                  "1": "2008-12-07 00:00:00.000",
                  "2": "9.50",
                  "3": "1",
                  "4": "2014-06-30 00:00:00.000"
                },
                {
                  "0": "147",
                  "1": "2008-12-26 00:00:00.000",
                  "2": "9.50",
                  "3": "1",
                  "4": "2014-06-30 00:00:00.000"
                },
                {
                  "0": "148",
                  "1": "2009-01-14 00:00:00.000",
                  "2": "9.50",
                  "3": "1",
                  "4": "2014-06-30 00:00:00.000"
                },
                {
                  "0": "149",
                  "1": "2009-01-31 00:00:00.000",
                  "2": "9.50",
                  "3": "1",
                  "4": "2014-06-30 00:00:00.000"
                },
                {
                  "0": "150",
                  "1": "2009-02-26 00:00:00.000",
                  "2": "9.50",
                  "3": "1",
                  "4": "2014-06-30 00:00:00.000"
                },
                {
                  "0": "151",
                  "1": "2009-02-19 00:00:00.000",
                  "2": "9.50",
                  "3": "1",
                  "4": "2014-06-30 00:00:00.000"
                },
                {
                  "0": "152",
                  "1": "2009-02-01 00:00:00.000",
                  "2": "25.00",
                  "3": "2",
                  "4": "2014-06-30 00:00:00.000"
                },
                {
                  "0": "153",
                  "1": "2008-12-16 00:00:00.000",
                  "2": "14.00",
                  "3": "1",
                  "4": "2014-06-30 00:00:00.000"
                },
                {
                  "0": "154",
                  "1": "2008-12-23 00:00:00.000",
                  "2": "14.00",
                  "3": "1",
                  "4": "2014-06-30 00:00:00.000"
                },
                {
                  "0": "155",
                  "1": "2009-01-04 00:00:00.000",
                  "2": "14.00",
                  "3": "1",
                  "4": "2014-06-30 00:00:00.000"
                },
                {
                  "0": "156",
                  "1": "2009-01-11 00:00:00.000",
                  "2": "14.00",
                  "3": "1",
                  "4": "2014-06-30 00:00:00.000"
                },
                {
                  "0": "157",
                  "1": "2009-02-03 00:00:00.000",
                  "2": "14.00",
                  "3": "1",
                  "4": "2014-06-30 00:00:00.000"
                },
                {
                  "0": "158",
                  "1": "2009-03-07 00:00:00.000",
                  "2": "14.00",
                  "3": "1",
                  "4": "2014-06-30 00:00:00.000"
                },
                {
                  "0": "159",
                  "1": "2009-02-16 00:00:00.000",
                  "2": "14.00",
                  "3": "1",
                  "4": "2014-06-30 00:00:00.000"
                },
                {
                  "0": "160",
                  "1": "2009-01-21 00:00:00.000",
                  "2": "25.00",
                  "3": "2",
                  "4": "2014-06-30 00:00:00.000"
                },
                {
                  "0": "161",
                  "1": "2008-12-15 00:00:00.000",
                  "2": "10.00",
                  "3": "1",
                  "4": "2014-06-30 00:00:00.000"
                },
                {
                  "0": "162",
                  "1": "2009-01-03 00:00:00.000",
                  "2": "10.00",
                  "3": "1",
                  "4": "2014-06-30 00:00:00.000"
                },
                {
                  "0": "163",
                  "1": "2009-02-08 00:00:00.000",
                  "2": "10.00",
                  "3": "1",
                  "4": "2014-06-30 00:00:00.000"
                },
                {
                  "0": "164",
                  "1": "2009-03-06 00:00:00.000",
                  "2": "10.00",
                  "3": "1",
                  "4": "2014-06-30 00:00:00.000"
                },
                {
                  "0": "165",
                  "1": "2009-01-22 00:00:00.000",
                  "2": "10.00",
                  "3": "1",
                  "4": "2014-06-30 00:00:00.000"
                },
                {
                  "0": "166",
                  "1": "2009-02-21 00:00:00.000",
                  "2": "25.00",
                  "3": "2",
                  "4": "2014-06-30 00:00:00.000"
                },
                {
                  "0": "167",
                  "1": "2013-07-14 00:00:00.000",
                  "2": "9.50",
                  "3": "1",
                  "4": "2013-06-30 00:00:00.000"
                },
                {
                  "0": "168",
                  "1": "2008-12-07 00:00:00.000",
                  "2": "9.50",
                  "3": "1",
                  "4": "2014-06-30 00:00:00.000"
                },
                {
                  "0": "169",
                  "1": "2008-12-14 00:00:00.000",
                  "2": "9.50",
                  "3": "1",
                  "4": "2014-06-30 00:00:00.000"
                },
                {
                  "0": "170",
                  "1": "2013-07-14 00:00:00.000",
                  "2": "9.50",
                  "3": "1",
                  "4": "2013-06-30 00:00:00.000"
                },
                {
                  "0": "171",
                  "1": "2009-01-02 00:00:00.000",
                  "2": "9.50",
                  "3": "1",
                  "4": "2014-06-30 00:00:00.000"
                },
                {
                  "0": "172",
                  "1": "2013-07-14 00:00:00.000",
                  "2": "9.50",
                  "3": "1",
                  "4": "2013-06-30 00:00:00.000"
                },
                {
                  "0": "173",
                  "1": "2009-01-21 00:00:00.000",
                  "2": "9.50",
                  "3": "1",
                  "4": "2014-06-30 00:00:00.000"
                },
                {
                  "0": "174",
                  "1": "2013-07-14 00:00:00.000",
                  "2": "9.50",
                  "3": "1",
                  "4": "2013-06-30 00:00:00.000"
                },
                {
                  "0": "175",
                  "1": "2013-07-14 00:00:00.000",
                  "2": "9.50",
                  "3": "1",
                  "4": "2013-06-30 00:00:00.000"
                },
                {
                  "0": "176",
                  "1": "2013-07-14 00:00:00.000",
                  "2": "9.50",
                  "3": "1",
                  "4": "2013-06-30 00:00:00.000"
                },
                {
                  "0": "177",
                  "1": "2013-07-14 00:00:00.000",
                  "2": "9.50",
                  "3": "1",
                  "4": "2013-06-30 00:00:00.000"
                },
                {
                  "0": "178",
                  "1": "2013-07-14 00:00:00.000",
                  "2": "9.50",
                  "3": "1",
                  "4": "2013-06-30 00:00:00.000"
                },
                {
                  "0": "179",
                  "1": "2009-03-05 00:00:00.000",
                  "2": "9.50",
                  "3": "1",
                  "4": "2014-06-30 00:00:00.000"
                },
                {
                  "0": "180",
                  "1": "2009-02-20 00:00:00.000",
                  "2": "25.00",
                  "3": "2",
                  "4": "2014-06-30 00:00:00.000"
                },
                {
                  "0": "181",
                  "1": "2008-12-09 00:00:00.000",
                  "2": "14.00",
                  "3": "1",
                  "4": "2014-06-30 00:00:00.000"
                },
                {
                  "0": "182",
                  "1": "2008-12-28 00:00:00.000",
                  "2": "14.00",
                  "3": "1",
                  "4": "2014-06-30 00:00:00.000"
                },
                {
                  "0": "183",
                  "1": "2009-01-22 00:00:00.000",
                  "2": "14.00",
                  "3": "1",
                  "4": "2014-06-30 00:00:00.000"
                },
                {
                  "0": "184",
                  "1": "2009-02-09 00:00:00.000",
                  "2": "14.00",
                  "3": "1",
                  "4": "2014-06-30 00:00:00.000"
                },
                {
                  "0": "185",
                  "1": "2009-02-28 00:00:00.000",
                  "2": "14.00",
                  "3": "1",
                  "4": "2014-06-30 00:00:00.000"
                },
                {
                  "0": "186",
                  "1": "2009-02-08 00:00:00.000",
                  "2": "25.00",
                  "3": "2",
                  "4": "2014-06-30 00:00:00.000"
                },
                {
                  "0": "187",
                  "1": "2008-12-09 00:00:00.000",
                  "2": "10.00",
                  "3": "1",
                  "4": "2014-06-30 00:00:00.000"
                },
                {
                  "0": "188",
                  "1": "2008-12-27 00:00:00.000",
                  "2": "10.00",
                  "3": "1",
                  "4": "2014-06-30 00:00:00.000"
                },
                {
                  "0": "189",
                  "1": "2009-01-15 00:00:00.000",
                  "2": "10.00",
                  "3": "1",
                  "4": "2014-06-30 00:00:00.000"
                },
                {
                  "0": "190",
                  "1": "2009-02-02 00:00:00.000",
                  "2": "10.00",
                  "3": "1",
                  "4": "2014-06-30 00:00:00.000"
                },
                {
                  "0": "191",
                  "1": "2009-02-26 00:00:00.000",
                  "2": "10.00",
                  "3": "1",
                  "4": "2014-06-30 00:00:00.000"
                },
                {
                  "0": "192",
                  "1": "2009-03-05 00:00:00.000",
                  "2": "25.00",
                  "3": "2",
                  "4": "2014-06-30 00:00:00.000"
                },
                {
                  "0": "193",
                  "1": "2008-12-06 00:00:00.000",
                  "2": "15.00",
                  "3": "1",
                  "4": "2014-06-30 00:00:00.000"
                },
                {
                  "0": "194",
                  "1": "2008-12-12 00:00:00.000",
                  "2": "15.00",
                  "3": "1",
                  "4": "2014-06-30 00:00:00.000"
                },
                {
                  "0": "195",
                  "1": "2008-12-17 00:00:00.000",
                  "2": "15.00",
                  "3": "1",
                  "4": "2014-06-30 00:00:00.000"
                },
                {
                  "0": "196",
                  "1": "2008-12-24 00:00:00.000",
                  "2": "15.00",
                  "3": "1",
                  "4": "2014-06-30 00:00:00.000"
                },
                {
                  "0": "197",
                  "1": "2008-12-31 00:00:00.000",
                  "2": "15.00",
                  "3": "1",
                  "4": "2014-06-30 00:00:00.000"
                },
                {
                  "0": "198",
                  "1": "2009-01-04 00:00:00.000",
                  "2": "15.00",
                  "3": "1",
                  "4": "2014-06-30 00:00:00.000"
                },
                {
                  "0": "199",
                  "1": "2009-01-12 00:00:00.000",
                  "2": "15.00",
                  "3": "1",
                  "4": "2014-06-30 00:00:00.000"
                },
                {
                  "0": "200",
                  "1": "2009-01-17 00:00:00.000",
                  "2": "15.00",
                  "3": "1",
                  "4": "2014-06-30 00:00:00.000"
                },
                {
                  "0": "201",
                  "1": "2009-01-29 00:00:00.000",
                  "2": "15.00",
                  "3": "1",
                  "4": "2014-06-30 00:00:00.000"
                },
                {
                  "0": "202",
                  "1": "2009-02-05 00:00:00.000",
                  "2": "15.00",
                  "3": "1",
                  "4": "2014-06-30 00:00:00.000"
                },
                {
                  "0": "203",
                  "1": "2009-02-24 00:00:00.000",
                  "2": "15.00",
                  "3": "1",
                  "4": "2014-06-30 00:00:00.000"
                },
                {
                  "0": "204",
                  "1": "2009-03-08 00:00:00.000",
                  "2": "15.00",
                  "3": "1",
                  "4": "2014-06-30 00:00:00.000"
                },
                {
                  "0": "205",
                  "1": "2009-02-26 00:00:00.000",
                  "2": "25.00",
                  "3": "2",
                  "4": "2014-06-30 00:00:00.000"
                },
                {
                  "0": "206",
                  "1": "2008-12-02 00:00:00.000",
                  "2": "10.00",
                  "3": "1",
                  "4": "2014-06-30 00:00:00.000"
                },
                {
                  "0": "207",
                  "1": "2008-12-02 00:00:00.000",
                  "2": "10.00",
                  "3": "1",
                  "4": "2014-06-30 00:00:00.000"
                },
                {
                  "0": "208",
                  "1": "2009-01-08 00:00:00.000",
                  "2": "10.00",
                  "3": "1",
                  "4": "2014-06-30 00:00:00.000"
                },
                {
                  "0": "209",
                  "1": "2009-01-27 00:00:00.000",
                  "2": "10.00",
                  "3": "1",
                  "4": "2014-06-30 00:00:00.000"
                },
                {
                  "0": "210",
                  "1": "2009-02-20 00:00:00.000",
                  "2": "10.00",
                  "3": "1",
                  "4": "2014-06-30 00:00:00.000"
                },
                {
                  "0": "211",
                  "1": "2009-02-28 00:00:00.000",
                  "2": "28.8462",
                  "3": "2",
                  "4": "2014-06-30 00:00:00.000"
                },
                {
                  "0": "212",
                  "1": "2008-12-09 00:00:00.000",
                  "2": "21.6346",
                  "3": "2",
                  "4": "2014-06-30 00:00:00.000"
                },
                {
                  "0": "213",
                  "1": "2010-02-23 00:00:00.000",
                  "2": "10.5769",
                  "3": "2",
                  "4": "2014-06-30 00:00:00.000"
                },
                {
                  "0": "214",
                  "1": "2009-02-02 00:00:00.000",
                  "2": "10.5769",
                  "3": "2",
                  "4": "2014-06-30 00:00:00.000"
                },
                {
                  "0": "215",
                  "1": "2009-01-15 00:00:00.000",
                  "2": "10.5769",
                  "3": "2",
                  "4": "2014-06-30 00:00:00.000"
                },
                {
                  "0": "216",
                  "1": "2008-12-28 00:00:00.000",
                  "2": "10.5769",
                  "3": "2",
                  "4": "2014-06-30 00:00:00.000"
                },
                {
                  "0": "217",
                  "1": "2009-01-04 00:00:00.000",
                  "2": "17.7885",
                  "3": "2",
                  "4": "2014-06-30 00:00:00.000"
                },
                {
                  "0": "218",
                  "1": "2008-12-16 00:00:00.000",
                  "2": "16.8269",
                  "3": "2",
                  "4": "2014-06-30 00:00:00.000"
                },
                {
                  "0": "219",
                  "1": "2009-01-22 00:00:00.000",
                  "2": "10.25",
                  "3": "2",
                  "4": "2014-06-30 00:00:00.000"
                },
                {
                  "0": "220",
                  "1": "2009-02-09 00:00:00.000",
                  "2": "10.25",
                  "3": "2",
                  "4": "2014-06-30 00:00:00.000"
                },
                {
                  "0": "221",
                  "1": "2009-03-06 00:00:00.000",
                  "2": "16.8269",
                  "3": "2",
                  "4": "2014-06-30 00:00:00.000"
                },
                {
                  "0": "222",
                  "1": "2008-12-12 00:00:00.000",
                  "2": "23.5577",
                  "3": "2",
                  "4": "2014-06-30 00:00:00.000"
                },
                {
                  "0": "223",
                  "1": "2009-01-26 00:00:00.000",
                  "2": "16.00",
                  "3": "2",
                  "4": "2014-06-30 00:00:00.000"
                },
                {
                  "0": "224",
                  "1": "2012-01-01 00:00:00.000",
                  "2": "16.00",
                  "3": "2",
                  "4": "2011-12-18 00:00:00.000"
                },
                {
                  "0": "225",
                  "1": "2009-02-13 00:00:00.000",
                  "2": "16.00",
                  "3": "2",
                  "4": "2014-06-30 00:00:00.000"
                },
                {
                  "0": "226",
                  "1": "2009-03-03 00:00:00.000",
                  "2": "16.00",
                  "3": "2",
                  "4": "2014-06-30 00:00:00.000"
                },
                {
                  "0": "227",
                  "1": "2009-12-02 00:00:00.000",
                  "2": "24.0385",
                  "3": "2",
                  "4": "2014-06-30 00:00:00.000"
                },
                {
                  "0": "228",
                  "1": "2008-12-14 00:00:00.000",
                  "2": "20.4327",
                  "3": "2",
                  "4": "2014-06-30 00:00:00.000"
                },
                {
                  "0": "229",
                  "1": "2010-02-16 00:00:00.000",
                  "2": "9.25",
                  "3": "1",
                  "4": "2014-06-30 00:00:00.000"
                },
                {
                  "0": "230",
                  "1": "2010-03-05 00:00:00.000",
                  "2": "9.25",
                  "3": "1",
                  "4": "2014-06-30 00:00:00.000"
                },
                {
                  "0": "231",
                  "1": "2010-03-07 00:00:00.000",
                  "2": "9.25",
                  "3": "1",
                  "4": "2014-06-30 00:00:00.000"
                },
                {
                  "0": "232",
                  "1": "2010-01-27 00:00:00.000",
                  "2": "9.25",
                  "3": "1",
                  "4": "2014-06-30 00:00:00.000"
                },
                {
                  "0": "233",
                  "1": "2009-12-21 00:00:00.000",
                  "2": "9.75",
                  "3": "2",
                  "4": "2014-06-30 00:00:00.000"
                },
                {
                  "0": "234",
                  "1": "2012-01-29 00:00:00.000",
                  "2": "60.0962",
                  "3": "2",
                  "4": "2012-01-15 00:00:00.000"
                },
                {
                  "0": "235",
                  "1": "2008-12-06 00:00:00.000",
                  "2": "27.1394",
                  "3": "2",
                  "4": "2014-06-30 00:00:00.000"
                },
                {
                  "0": "236",
                  "1": "2009-02-25 00:00:00.000",
                  "2": "13.9423",
                  "3": "2",
                  "4": "2014-06-30 00:00:00.000"
                },
                {
                  "0": "237",
                  "1": "2009-02-06 00:00:00.000",
                  "2": "13.9423",
                  "3": "2",
                  "4": "2014-06-30 00:00:00.000"
                },
                {
                  "0": "238",
                  "1": "2009-01-01 00:00:00.000",
                  "2": "18.2692",
                  "3": "2",
                  "4": "2014-06-30 00:00:00.000"
                },
                {
                  "0": "239",
                  "1": "2008-12-25 00:00:00.000",
                  "2": "16.5865",
                  "3": "2",
                  "4": "2014-06-30 00:00:00.000"
                },
                {
                  "0": "240",
                  "1": "2008-12-13 00:00:00.000",
                  "2": "18.2692",
                  "3": "2",
                  "4": "2014-06-30 00:00:00.000"
                },
                {
                  "0": "241",
                  "1": "2009-01-30 00:00:00.000",
                  "2": "34.7356",
                  "3": "2",
                  "4": "2014-06-30 00:00:00.000"
                },
                {
                  "0": "242",
                  "1": "2008-12-18 00:00:00.000",
                  "2": "19.00",
                  "3": "2",
                  "4": "2014-06-30 00:00:00.000"
                },
                {
                  "0": "243",
                  "1": "2009-01-06 00:00:00.000",
                  "2": "19.00",
                  "3": "2",
                  "4": "2014-06-30 00:00:00.000"
                },
                {
                  "0": "244",
                  "1": "2009-01-24 00:00:00.000",
                  "2": "19.00",
                  "3": "2",
                  "4": "2014-06-30 00:00:00.000"
                },
                {
                  "0": "245",
                  "1": "2009-02-18 00:00:00.000",
                  "2": "26.4423",
                  "3": "2",
                  "4": "2014-06-30 00:00:00.000"
                },
                {
                  "0": "246",
                  "1": "2009-02-11 00:00:00.000",
                  "2": "19.00",
                  "3": "2",
                  "4": "2014-06-30 00:00:00.000"
                },
                {
                  "0": "247",
                  "1": "2009-03-01 00:00:00.000",
                  "2": "19.00",
                  "3": "2",
                  "4": "2014-06-30 00:00:00.000"
                },
                {
                  "0": "248",
                  "1": "2009-03-08 00:00:00.000",
                  "2": "26.4423",
                  "3": "2",
                  "4": "2014-06-30 00:00:00.000"
                },
                {
                  "0": "249",
                  "1": "2008-12-25 00:00:00.000",
                  "2": "43.2692",
                  "3": "2",
                  "4": "2014-06-30 00:00:00.000"
                },
                {
                  "0": "250",
                  "1": "2012-07-14 00:00:00.000",
                  "2": "30.00",
                  "3": "2",
                  "4": "2012-06-30 00:00:00.000"
                },
                {
                  "0": "251",
                  "1": "2009-02-10 00:00:00.000",
                  "2": "18.2692",
                  "3": "2",
                  "4": "2014-06-30 00:00:00.000"
                },
                {
                  "0": "252",
                  "1": "2009-02-28 00:00:00.000",
                  "2": "18.2692",
                  "3": "2",
                  "4": "2014-06-30 00:00:00.000"
                },
                {
                  "0": "253",
                  "1": "2009-12-17 00:00:00.000",
                  "2": "18.2692",
                  "3": "2",
                  "4": "2014-06-30 00:00:00.000"
                },
                {
                  "0": "254",
                  "1": "2010-01-04 00:00:00.000",
                  "2": "18.2692",
                  "3": "2",
                  "4": "2014-06-30 00:00:00.000"
                },
                {
                  "0": "255",
                  "1": "2010-01-11 00:00:00.000",
                  "2": "18.2692",
                  "3": "2",
                  "4": "2014-06-30 00:00:00.000"
                },
                {
                  "0": "256",
                  "1": "2010-01-23 00:00:00.000",
                  "2": "18.2692",
                  "3": "2",
                  "4": "2014-06-30 00:00:00.000"
                },
                {
                  "0": "257",
                  "1": "2010-01-27 00:00:00.000",
                  "2": "18.2692",
                  "3": "2",
                  "4": "2014-06-30 00:00:00.000"
                },
                {
                  "0": "258",
                  "1": "2010-01-31 00:00:00.000",
                  "2": "18.2692",
                  "3": "2",
                  "4": "2014-06-30 00:00:00.000"
                },
                {
                  "0": "259",
                  "1": "2010-03-09 00:00:00.000",
                  "2": "18.2692",
                  "3": "2",
                  "4": "2014-06-30 00:00:00.000"
                },
                {
                  "0": "260",
                  "1": "2010-12-06 00:00:00.000",
                  "2": "12.75",
                  "3": "2",
                  "4": "2014-06-30 00:00:00.000"
                },
                {
                  "0": "261",
                  "1": "2010-12-25 00:00:00.000",
                  "2": "12.75",
                  "3": "2",
                  "4": "2014-06-30 00:00:00.000"
                },
                {
                  "0": "262",
                  "1": "2009-01-12 00:00:00.000",
                  "2": "13.4615",
                  "3": "2",
                  "4": "2014-06-30 00:00:00.000"
                },
                {
                  "0": "263",
                  "1": "2008-12-11 00:00:00.000",
                  "2": "50.4808",
                  "3": "2",
                  "4": "2014-06-30 00:00:00.000"
                },
                {
                  "0": "264",
                  "1": "2009-02-04 00:00:00.000",
                  "2": "39.6635",
                  "3": "2",
                  "4": "2014-06-30 00:00:00.000"
                },
                {
                  "0": "265",
                  "1": "2008-12-04 00:00:00.000",
                  "2": "32.4519",
                  "3": "2",
                  "4": "2014-06-30 00:00:00.000"
                },
                {
                  "0": "266",
                  "1": "2009-02-23 00:00:00.000",
                  "2": "32.4519",
                  "3": "2",
                  "4": "2014-06-30 00:00:00.000"
                },
                {
                  "0": "267",
                  "1": "2009-02-16 00:00:00.000",
                  "2": "27.4038",
                  "3": "2",
                  "4": "2014-06-30 00:00:00.000"
                },
                {
                  "0": "268",
                  "1": "2009-02-03 00:00:00.000",
                  "2": "27.4038",
                  "3": "2",
                  "4": "2014-06-30 00:00:00.000"
                },
                {
                  "0": "269",
                  "1": "2009-01-11 00:00:00.000",
                  "2": "27.4038",
                  "3": "2",
                  "4": "2014-06-30 00:00:00.000"
                },
                {
                  "0": "270",
                  "1": "2009-01-17 00:00:00.000",
                  "2": "38.4615",
                  "3": "2",
                  "4": "2014-06-30 00:00:00.000"
                },
                {
                  "0": "271",
                  "1": "2009-01-22 00:00:00.000",
                  "2": "38.4615",
                  "3": "2",
                  "4": "2014-06-30 00:00:00.000"
                },
                {
                  "0": "272",
                  "1": "2008-12-23 00:00:00.000",
                  "2": "27.4038",
                  "3": "2",
                  "4": "2014-06-30 00:00:00.000"
                },
                {
                  "0": "273",
                  "1": "2011-02-15 00:00:00.000",
                  "2": "72.1154",
                  "3": "2",
                  "4": "2014-06-30 00:00:00.000"
                },
                {
                  "0": "274",
                  "1": "2011-01-04 00:00:00.000",
                  "2": "48.101",
                  "3": "2",
                  "4": "2014-06-30 00:00:00.000"
                },
                {
                  "0": "275",
                  "1": "2011-05-31 00:00:00.000",
                  "2": "23.0769",
                  "3": "2",
                  "4": "2014-06-30 00:00:00.000"
                },
                {
                  "0": "276",
                  "1": "2011-05-31 00:00:00.000",
                  "2": "23.0769",
                  "3": "2",
                  "4": "2014-06-30 00:00:00.000"
                },
                {
                  "0": "277",
                  "1": "2011-05-31 00:00:00.000",
                  "2": "23.0769",
                  "3": "2",
                  "4": "2014-06-30 00:00:00.000"
                },
                {
                  "0": "278",
                  "1": "2011-05-31 00:00:00.000",
                  "2": "23.0769",
                  "3": "2",
                  "4": "2014-06-30 00:00:00.000"
                },
                {
                  "0": "279",
                  "1": "2011-05-31 00:00:00.000",
                  "2": "23.0769",
                  "3": "2",
                  "4": "2014-06-30 00:00:00.000"
                },
                {
                  "0": "280",
                  "1": "2011-05-31 00:00:00.000",
                  "2": "23.0769",
                  "3": "2",
                  "4": "2014-06-30 00:00:00.000"
                },
                {
                  "0": "281",
                  "1": "2011-05-31 00:00:00.000",
                  "2": "23.0769",
                  "3": "2",
                  "4": "2014-06-30 00:00:00.000"
                },
                {
                  "0": "282",
                  "1": "2011-05-31 00:00:00.000",
                  "2": "23.0769",
                  "3": "2",
                  "4": "2014-06-30 00:00:00.000"
                },
                {
                  "0": "283",
                  "1": "2011-05-31 00:00:00.000",
                  "2": "23.0769",
                  "3": "2",
                  "4": "2014-06-30 00:00:00.000"
                },
                {
                  "0": "284",
                  "1": "2012-09-30 00:00:00.000",
                  "2": "23.0769",
                  "3": "2",
                  "4": "2014-06-30 00:00:00.000"
                },
                {
                  "0": "285",
                  "1": "2013-03-14 00:00:00.000",
                  "2": "48.101",
                  "3": "2",
                  "4": "2014-06-30 00:00:00.000"
                },
                {
                  "0": "286",
                  "1": "2013-05-30 00:00:00.000",
                  "2": "23.0769",
                  "3": "2",
                  "4": "2014-06-30 00:00:00.000"
                },
                {
                  "0": "287",
                  "1": "2012-04-16 00:00:00.000",
                  "2": "48.101",
                  "3": "2",
                  "4": "2014-06-30 00:00:00.000"
                },
                {
                  "0": "288",
                  "1": "2013-05-30 00:00:00.000",
                  "2": "23.0769",
                  "3": "2",
                  "4": "2014-06-30 00:00:00.000"
                },
                {
                  "0": "289",
                  "1": "2012-05-30 00:00:00.000",
                  "2": "23.0769",
                  "3": "2",
                  "4": "2014-06-30 00:00:00.000"
                },
                {
                  "0": "290",
                  "1": "2012-05-30 00:00:00.000",
                  "2": "23.0769",
                  "3": "2",
                  "4": "2014-06-30 00:00:00.000"
                }
              ]
            },
            "text/html": "<table><tr><th>BusinessEntityID</th><th>RateChangeDate</th><th>Rate</th><th>PayFrequency</th><th>ModifiedDate</th></tr><tr><td>1</td><td>2009-01-14 00:00:00.000</td><td>125.50</td><td>2</td><td>2014-06-30 00:00:00.000</td></tr><tr><td>2</td><td>2008-01-31 00:00:00.000</td><td>63.4615</td><td>2</td><td>2014-06-30 00:00:00.000</td></tr><tr><td>3</td><td>2007-11-11 00:00:00.000</td><td>43.2692</td><td>2</td><td>2014-06-30 00:00:00.000</td></tr><tr><td>4</td><td>2011-12-15 00:00:00.000</td><td>29.8462</td><td>2</td><td>2011-12-01 00:00:00.000</td></tr><tr><td>5</td><td>2008-01-06 00:00:00.000</td><td>32.6923</td><td>2</td><td>2014-06-30 00:00:00.000</td></tr><tr><td>6</td><td>2008-01-24 00:00:00.000</td><td>32.6923</td><td>2</td><td>2014-06-30 00:00:00.000</td></tr><tr><td>7</td><td>2009-02-08 00:00:00.000</td><td>50.4808</td><td>2</td><td>2014-06-30 00:00:00.000</td></tr><tr><td>8</td><td>2008-12-29 00:00:00.000</td><td>40.8654</td><td>2</td><td>2014-06-30 00:00:00.000</td></tr><tr><td>9</td><td>2009-01-16 00:00:00.000</td><td>40.8654</td><td>2</td><td>2014-06-30 00:00:00.000</td></tr><tr><td>10</td><td>2009-05-03 00:00:00.000</td><td>42.4808</td><td>2</td><td>2014-06-30 00:00:00.000</td></tr><tr><td>11</td><td>2010-12-05 00:00:00.000</td><td>28.8462</td><td>2</td><td>2014-06-30 00:00:00.000</td></tr><tr><td>12</td><td>2007-12-11 00:00:00.000</td><td>25.00</td><td>2</td><td>2014-06-30 00:00:00.000</td></tr><tr><td>13</td><td>2010-12-23 00:00:00.000</td><td>25.00</td><td>2</td><td>2014-06-30 00:00:00.000</td></tr><tr><td>14</td><td>2010-12-30 00:00:00.000</td><td>36.0577</td><td>2</td><td>2014-06-30 00:00:00.000</td></tr><tr><td>15</td><td>2011-01-18 00:00:00.000</td><td>32.6923</td><td>2</td><td>2014-06-30 00:00:00.000</td></tr><tr><td>16</td><td>2012-04-30 00:00:00.000</td><td>37.50</td><td>2</td><td>2012-04-16 00:00:00.000</td></tr><tr><td>17</td><td>2007-01-26 00:00:00.000</td><td>13.4615</td><td>2</td><td>2014-06-30 00:00:00.000</td></tr><tr><td>18</td><td>2011-02-07 00:00:00.000</td><td>14.4231</td><td>2</td><td>2014-06-30 00:00:00.000</td></tr><tr><td>19</td><td>2011-02-14 00:00:00.000</td><td>13.4615</td><td>2</td><td>2014-06-30 00:00:00.000</td></tr><tr><td>20</td><td>2011-01-07 00:00:00.000</td><td>13.4615</td><td>2</td><td>2014-06-30 00:00:00.000</td></tr><tr><td>21</td><td>2009-03-02 00:00:00.000</td><td>14.4231</td><td>2</td><td>2014-06-30 00:00:00.000</td></tr><tr><td>22</td><td>2008-12-12 00:00:00.000</td><td>14.4231</td><td>2</td><td>2014-06-30 00:00:00.000</td></tr><tr><td>23</td><td>2009-01-12 00:00:00.000</td><td>14.4231</td><td>2</td><td>2014-06-30 00:00:00.000</td></tr><tr><td>24</td><td>2009-01-18 00:00:00.000</td><td>14.4231</td><td>2</td><td>2014-06-30 00:00:00.000</td></tr><tr><td>25</td><td>2009-02-03 00:00:00.000</td><td>84.1346</td><td>2</td><td>2014-06-30 00:00:00.000</td></tr><tr><td>26</td><td>2008-12-01 00:00:00.000</td><td>24.5192</td><td>2</td><td>2014-06-30 00:00:00.000</td></tr><tr><td>27</td><td>2008-02-27 00:00:00.000</td><td>25.00</td><td>2</td><td>2014-06-30 00:00:00.000</td></tr><tr><td>28</td><td>2006-06-30 00:00:00.000</td><td>12.45</td><td>1</td><td>2014-06-30 00:00:00.000</td></tr><tr><td>29</td><td>2009-01-23 00:00:00.000</td><td>12.45</td><td>1</td><td>2014-06-30 00:00:00.000</td></tr><tr><td>30</td><td>2009-01-29 00:00:00.000</td><td>12.45</td><td>1</td><td>2014-06-30 00:00:00.000</td></tr><tr><td>31</td><td>2009-01-04 00:00:00.000</td><td>12.45</td><td>1</td><td>2014-06-30 00:00:00.000</td></tr><tr><td>32</td><td>2008-12-29 00:00:00.000</td><td>12.45</td><td>1</td><td>2014-06-30 00:00:00.000</td></tr><tr><td>33</td><td>2008-12-17 00:00:00.000</td><td>12.45</td><td>1</td><td>2014-06-30 00:00:00.000</td></tr><tr><td>34</td><td>2009-02-16 00:00:00.000</td><td>12.45</td><td>1</td><td>2014-06-30 00:00:00.000</td></tr><tr><td>35</td><td>2009-02-08 00:00:00.000</td><td>12.45</td><td>1</td><td>2014-06-30 00:00:00.000</td></tr><tr><td>36</td><td>2009-02-10 00:00:00.000</td><td>12.45</td><td>1</td><td>2014-06-30 00:00:00.000</td></tr><tr><td>37</td><td>2009-03-07 00:00:00.000</td><td>12.45</td><td>1</td><td>2014-06-30 00:00:00.000</td></tr><tr><td>38</td><td>2010-01-16 00:00:00.000</td><td>12.45</td><td>1</td><td>2014-06-30 00:00:00.000</td></tr><tr><td>39</td><td>2010-02-05 00:00:00.000</td><td>12.45</td><td>1</td><td>2014-06-30 00:00:00.000</td></tr><tr><td>40</td><td>2007-12-26 00:00:00.000</td><td>25.00</td><td>2</td><td>2014-06-30 00:00:00.000</td></tr><tr><td>41</td><td>2009-01-21 00:00:00.000</td><td>12.45</td><td>1</td><td>2014-06-30 00:00:00.000</td></tr><tr><td>42</td><td>2008-12-27 00:00:00.000</td><td>12.45</td><td>1</td><td>2014-06-30 00:00:00.000</td></tr><tr><td>43</td><td>2009-01-02 00:00:00.000</td><td>12.45</td><td>1</td><td>2014-06-30 00:00:00.000</td></tr><tr><td>44</td><td>2008-12-08 00:00:00.000</td><td>12.45</td><td>1</td><td>2014-06-30 00:00:00.000</td></tr><tr><td>45</td><td>2009-02-26 00:00:00.000</td><td>12.45</td><td>1</td><td>2014-06-30 00:00:00.000</td></tr><tr><td>46</td><td>2009-02-08 00:00:00.000</td><td>12.45</td><td>1</td><td>2014-06-30 00:00:00.000</td></tr><tr><td>47</td><td>2009-02-22 00:00:00.000</td><td>25.00</td><td>2</td><td>2014-06-30 00:00:00.000</td></tr><tr><td>48</td><td>2008-01-06 00:00:00.000</td><td>13.45</td><td>1</td><td>2014-06-30 00:00:00.000</td></tr><tr><td>49</td><td>2008-01-07 00:00:00.000</td><td>13.45</td><td>1</td><td>2014-06-30 00:00:00.000</td></tr><tr><td>50</td><td>2008-02-02 00:00:00.000</td><td>13.45</td><td>1</td><td>2014-06-30 00:00:00.000</td></tr><tr><td>51</td><td>2008-02-20 00:00:00.000</td><td>13.45</td><td>1</td><td>2014-06-30 00:00:00.000</td></tr><tr><td>52</td><td>2008-03-10 00:00:00.000</td><td>13.45</td><td>1</td><td>2014-06-30 00:00:00.000</td></tr><tr><td>53</td><td>2008-03-28 00:00:00.000</td><td>13.45</td><td>1</td><td>2014-06-30 00:00:00.000</td></tr><tr><td>54</td><td>2010-01-01 00:00:00.000</td><td>13.45</td><td>1</td><td>2014-06-30 00:00:00.000</td></tr><tr><td>55</td><td>2008-02-08 00:00:00.000</td><td>25.00</td><td>2</td><td>2014-06-30 00:00:00.000</td></tr><tr><td>56</td><td>2009-02-05 00:00:00.000</td><td>11.00</td><td>1</td><td>2014-06-30 00:00:00.000</td></tr><tr><td>57</td><td>2009-02-23 00:00:00.000</td><td>11.00</td><td>1</td><td>2014-06-30 00:00:00.000</td></tr><tr><td>58</td><td>2008-12-05 00:00:00.000</td><td>11.00</td><td>1</td><td>2014-06-30 00:00:00.000</td></tr><tr><td>59</td><td>2008-12-24 00:00:00.000</td><td>11.00</td><td>1</td><td>2014-06-30 00:00:00.000</td></tr><tr><td>60</td><td>2009-01-11 00:00:00.000</td><td>11.00</td><td>1</td><td>2014-06-30 00:00:00.000</td></tr><tr><td>61</td><td>2009-01-18 00:00:00.000</td><td>11.00</td><td>1</td><td>2014-06-30 00:00:00.000</td></tr><tr><td>62</td><td>2008-03-17 00:00:00.000</td><td>25.00</td><td>2</td><td>2014-06-30 00:00:00.000</td></tr><tr><td>63</td><td>2010-01-29 00:00:00.000</td><td>12.45</td><td>1</td><td>2014-06-30 00:00:00.000</td></tr><tr><td>64</td><td>2010-02-23 00:00:00.000</td><td>12.45</td><td>1</td><td>2014-06-30 00:00:00.000</td></tr><tr><td>65</td><td>2010-02-23 00:00:00.000</td><td>12.45</td><td>1</td><td>2014-06-30 00:00:00.000</td></tr><tr><td>66</td><td>2009-12-22 00:00:00.000</td><td>12.45</td><td>1</td><td>2014-06-30 00:00:00.000</td></tr><tr><td>67</td><td>2009-03-05 00:00:00.000</td><td>12.45</td><td>1</td><td>2014-06-30 00:00:00.000</td></tr><tr><td>68</td><td>2009-12-03 00:00:00.000</td><td>12.45</td><td>1</td><td>2014-06-30 00:00:00.000</td></tr><tr><td>69</td><td>2009-02-15 00:00:00.000</td><td>12.45</td><td>1</td><td>2014-06-30 00:00:00.000</td></tr><tr><td>70</td><td>2008-12-15 00:00:00.000</td><td>12.45</td><td>1</td><td>2014-06-30 00:00:00.000</td></tr><tr><td>71</td><td>2009-02-15 00:00:00.000</td><td>25.00</td><td>2</td><td>2014-06-30 00:00:00.000</td></tr><tr><td>72</td><td>2008-12-01 00:00:00.000</td><td>9.50</td><td>1</td><td>2014-06-30 00:00:00.000</td></tr><tr><td>73</td><td>2008-12-19 00:00:00.000</td><td>9.50</td><td>1</td><td>2014-06-30 00:00:00.000</td></tr><tr><td>74</td><td>2009-01-07 00:00:00.000</td><td>9.50</td><td>1</td><td>2014-06-30 00:00:00.000</td></tr><tr><td>75</td><td>2009-01-26 00:00:00.000</td><td>9.50</td><td>1</td><td>2014-06-30 00:00:00.000</td></tr><tr><td>76</td><td>2009-02-12 00:00:00.000</td><td>9.50</td><td>1</td><td>2014-06-30 00:00:00.000</td></tr><tr><td>77</td><td>2009-03-03 00:00:00.000</td><td>9.50</td><td>1</td><td>2014-06-30 00:00:00.000</td></tr><tr><td>78</td><td>2008-12-15 00:00:00.000</td><td>25.00</td><td>2</td><td>2014-06-30 00:00:00.000</td></tr><tr><td>79</td><td>2010-01-24 00:00:00.000</td><td>15.00</td><td>1</td><td>2014-06-30 00:00:00.000</td></tr><tr><td>80</td><td>2010-01-17 00:00:00.000</td><td>15.00</td><td>1</td><td>2014-06-30 00:00:00.000</td></tr><tr><td>81</td><td>2009-12-29 00:00:00.000</td><td>15.00</td><td>1</td><td>2014-06-30 00:00:00.000</td></tr><tr><td>82</td><td>2010-03-03 00:00:00.000</td><td>15.00</td><td>1</td><td>2014-06-30 00:00:00.000</td></tr><tr><td>83</td><td>2010-02-12 00:00:00.000</td><td>15.00</td><td>1</td><td>2014-06-30 00:00:00.000</td></tr><tr><td>84</td><td>2010-02-05 00:00:00.000</td><td>15.00</td><td>1</td><td>2014-06-30 00:00:00.000</td></tr><tr><td>85</td><td>2009-12-11 00:00:00.000</td><td>15.00</td><td>1</td><td>2014-06-30 00:00:00.000</td></tr><tr><td>86</td><td>2009-01-05 00:00:00.000</td><td>15.00</td><td>1</td><td>2014-06-30 00:00:00.000</td></tr><tr><td>87</td><td>2008-12-22 00:00:00.000</td><td>25.00</td><td>2</td><td>2014-06-30 00:00:00.000</td></tr><tr><td>88</td><td>2009-12-18 00:00:00.000</td><td>13.45</td><td>1</td><td>2014-06-30 00:00:00.000</td></tr><tr><td>89</td><td>2010-02-01 00:00:00.000</td><td>13.45</td><td>1</td><td>2014-06-30 00:00:00.000</td></tr><tr><td>90</td><td>2010-02-20 00:00:00.000</td><td>13.45</td><td>1</td><td>2014-06-30 00:00:00.000</td></tr><tr><td>91</td><td>2010-01-12 00:00:00.000</td><td>13.45</td><td>1</td><td>2014-06-30 00:00:00.000</td></tr><tr><td>92</td><td>2010-03-10 00:00:00.000</td><td>13.45</td><td>1</td><td>2014-06-30 00:00:00.000</td></tr><tr><td>93</td><td>2008-12-27 00:00:00.000</td><td>25.00</td><td>2</td><td>2014-06-30 00:00:00.000</td></tr><tr><td>94</td><td>2008-12-12 00:00:00.000</td><td>11.00</td><td>1</td><td>2014-06-30 00:00:00.000</td></tr><tr><td>95</td><td>2008-12-19 00:00:00.000</td><td>11.00</td><td>1</td><td>2014-06-30 00:00:00.000</td></tr><tr><td>96</td><td>2009-03-02 00:00:00.000</td><td>11.00</td><td>1</td><td>2014-06-30 00:00:00.000</td></tr><tr><td>97</td><td>2009-02-10 00:00:00.000</td><td>11.00</td><td>1</td><td>2014-06-30 00:00:00.000</td></tr><tr><td>98</td><td>2009-02-11 00:00:00.000</td><td>11.00</td><td>1</td><td>2014-06-30 00:00:00.000</td></tr><tr><td>99</td><td>2009-01-06 00:00:00.000</td><td>11.00</td><td>1</td><td>2014-06-30 00:00:00.000</td></tr><tr><td>100</td><td>2009-01-12 00:00:00.000</td><td>11.00</td><td>1</td><td>2014-06-30 00:00:00.000</td></tr><tr><td>101</td><td>2009-01-25 00:00:00.000</td><td>11.00</td><td>1</td><td>2014-06-30 00:00:00.000</td></tr><tr><td>102</td><td>2008-12-03 00:00:00.000</td><td>25.00</td><td>2</td><td>2014-06-30 00:00:00.000</td></tr><tr><td>103</td><td>2009-12-06 00:00:00.000</td><td>13.45</td><td>1</td><td>2014-06-30 00:00:00.000</td></tr><tr><td>104</td><td>2009-12-25 00:00:00.000</td><td>13.45</td><td>1</td><td>2014-06-30 00:00:00.000</td></tr><tr><td>105</td><td>2009-12-25 00:00:00.000</td><td>13.45</td><td>1</td><td>2014-06-30 00:00:00.000</td></tr><tr><td>106</td><td>2010-02-27 00:00:00.000</td><td>13.45</td><td>1</td><td>2014-06-30 00:00:00.000</td></tr><tr><td>107</td><td>2010-02-08 00:00:00.000</td><td>13.45</td><td>1</td><td>2014-06-30 00:00:00.000</td></tr><tr><td>108</td><td>2008-12-08 00:00:00.000</td><td>25.00</td><td>2</td><td>2014-06-30 00:00:00.000</td></tr><tr><td>109</td><td>2008-12-07 00:00:00.000</td><td>11.00</td><td>1</td><td>2014-06-30 00:00:00.000</td></tr><tr><td>110</td><td>2008-12-14 00:00:00.000</td><td>11.00</td><td>1</td><td>2014-06-30 00:00:00.000</td></tr><tr><td>111</td><td>2008-12-17 00:00:00.000</td><td>11.00</td><td>1</td><td>2014-06-30 00:00:00.000</td></tr><tr><td>112</td><td>2009-01-01 00:00:00.000</td><td>11.00</td><td>1</td><td>2014-06-30 00:00:00.000</td></tr><tr><td>113</td><td>2008-12-25 00:00:00.000</td><td>11.00</td><td>1</td><td>2014-06-30 00:00:00.000</td></tr><tr><td>114</td><td>2009-01-13 00:00:00.000</td><td>11.00</td><td>1</td><td>2014-06-30 00:00:00.000</td></tr><tr><td>115</td><td>2009-01-20 00:00:00.000</td><td>11.00</td><td>1</td><td>2014-06-30 00:00:00.000</td></tr><tr><td>116</td><td>2009-01-31 00:00:00.000</td><td>11.00</td><td>1</td><td>2014-06-30 00:00:00.000</td></tr><tr><td>117</td><td>2009-02-18 00:00:00.000</td><td>11.00</td><td>1</td><td>2014-06-30 00:00:00.000</td></tr><tr><td>118</td><td>2009-02-13 00:00:00.000</td><td>11.00</td><td>1</td><td>2014-06-30 00:00:00.000</td></tr><tr><td>119</td><td>2009-02-25 00:00:00.000</td><td>11.00</td><td>1</td><td>2014-06-30 00:00:00.000</td></tr><tr><td>120</td><td>2009-03-04 00:00:00.000</td><td>11.00</td><td>1</td><td>2014-06-30 00:00:00.000</td></tr><tr><td>121</td><td>2009-01-02 00:00:00.000</td><td>19.2308</td><td>2</td><td>2014-06-30 00:00:00.000</td></tr><tr><td>122</td><td>2008-12-07 00:00:00.000</td><td>9.00</td><td>1</td><td>2014-06-30 00:00:00.000</td></tr><tr><td>123</td><td>2008-12-07 00:00:00.000</td><td>9.50</td><td>2</td><td>2014-06-30 00:00:00.000</td></tr><tr><td>124</td><td>2008-12-26 00:00:00.000</td><td>9.00</td><td>1</td><td>2014-06-30 00:00:00.000</td></tr><tr><td>125</td><td>2009-01-20 00:00:00.000</td><td>9.50</td><td>2</td><td>2014-06-30 00:00:00.000</td></tr><tr><td>126</td><td>2009-02-26 00:00:00.000</td><td>9.00</td><td>1</td><td>2014-06-30 00:00:00.000</td></tr><tr><td>127</td><td>2009-01-03 00:00:00.000</td><td>25.00</td><td>2</td><td>2014-06-30 00:00:00.000</td></tr><tr><td>128</td><td>2008-12-04 00:00:00.000</td><td>15.00</td><td>1</td><td>2014-06-30 00:00:00.000</td></tr><tr><td>129</td><td>2008-12-22 00:00:00.000</td><td>15.00</td><td>1</td><td>2014-06-30 00:00:00.000</td></tr><tr><td>130</td><td>2009-02-13 00:00:00.000</td><td>15.00</td><td>1</td><td>2014-06-30 00:00:00.000</td></tr><tr><td>131</td><td>2009-02-15 00:00:00.000</td><td>15.00</td><td>1</td><td>2014-06-30 00:00:00.000</td></tr><tr><td>132</td><td>2009-02-22 00:00:00.000</td><td>15.00</td><td>1</td><td>2014-06-30 00:00:00.000</td></tr><tr><td>133</td><td>2009-01-10 00:00:00.000</td><td>15.00</td><td>1</td><td>2014-06-30 00:00:00.000</td></tr><tr><td>134</td><td>2009-01-14 00:00:00.000</td><td>25.00</td><td>2</td><td>2014-06-30 00:00:00.000</td></tr><tr><td>135</td><td>2008-12-04 00:00:00.000</td><td>14.00</td><td>1</td><td>2014-06-30 00:00:00.000</td></tr><tr><td>136</td><td>2009-12-11 00:00:00.000</td><td>14.00</td><td>1</td><td>2014-06-30 00:00:00.000</td></tr><tr><td>137</td><td>2009-02-23 00:00:00.000</td><td>14.00</td><td>1</td><td>2014-06-30 00:00:00.000</td></tr><tr><td>138</td><td>2009-02-04 00:00:00.000</td><td>14.00</td><td>1</td><td>2014-06-30 00:00:00.000</td></tr><tr><td>139</td><td>2010-01-06 00:00:00.000</td><td>14.00</td><td>1</td><td>2014-06-30 00:00:00.000</td></tr><tr><td>140</td><td>2010-01-22 00:00:00.000</td><td>14.00</td><td>1</td><td>2014-06-30 00:00:00.000</td></tr><tr><td>141</td><td>2010-01-24 00:00:00.000</td><td>14.00</td><td>1</td><td>2014-06-30 00:00:00.000</td></tr><tr><td>142</td><td>2010-03-04 00:00:00.000</td><td>14.00</td><td>1</td><td>2014-06-30 00:00:00.000</td></tr><tr><td>143</td><td>2010-02-13 00:00:00.000</td><td>14.00</td><td>1</td><td>2014-06-30 00:00:00.000</td></tr><tr><td>144</td><td>2009-01-17 00:00:00.000</td><td>14.00</td><td>1</td><td>2014-06-30 00:00:00.000</td></tr><tr><td>145</td><td>2009-01-27 00:00:00.000</td><td>25.00</td><td>2</td><td>2014-06-30 00:00:00.000</td></tr><tr><td>146</td><td>2008-12-07 00:00:00.000</td><td>9.50</td><td>1</td><td>2014-06-30 00:00:00.000</td></tr><tr><td>147</td><td>2008-12-26 00:00:00.000</td><td>9.50</td><td>1</td><td>2014-06-30 00:00:00.000</td></tr><tr><td>148</td><td>2009-01-14 00:00:00.000</td><td>9.50</td><td>1</td><td>2014-06-30 00:00:00.000</td></tr><tr><td>149</td><td>2009-01-31 00:00:00.000</td><td>9.50</td><td>1</td><td>2014-06-30 00:00:00.000</td></tr><tr><td>150</td><td>2009-02-26 00:00:00.000</td><td>9.50</td><td>1</td><td>2014-06-30 00:00:00.000</td></tr><tr><td>151</td><td>2009-02-19 00:00:00.000</td><td>9.50</td><td>1</td><td>2014-06-30 00:00:00.000</td></tr><tr><td>152</td><td>2009-02-01 00:00:00.000</td><td>25.00</td><td>2</td><td>2014-06-30 00:00:00.000</td></tr><tr><td>153</td><td>2008-12-16 00:00:00.000</td><td>14.00</td><td>1</td><td>2014-06-30 00:00:00.000</td></tr><tr><td>154</td><td>2008-12-23 00:00:00.000</td><td>14.00</td><td>1</td><td>2014-06-30 00:00:00.000</td></tr><tr><td>155</td><td>2009-01-04 00:00:00.000</td><td>14.00</td><td>1</td><td>2014-06-30 00:00:00.000</td></tr><tr><td>156</td><td>2009-01-11 00:00:00.000</td><td>14.00</td><td>1</td><td>2014-06-30 00:00:00.000</td></tr><tr><td>157</td><td>2009-02-03 00:00:00.000</td><td>14.00</td><td>1</td><td>2014-06-30 00:00:00.000</td></tr><tr><td>158</td><td>2009-03-07 00:00:00.000</td><td>14.00</td><td>1</td><td>2014-06-30 00:00:00.000</td></tr><tr><td>159</td><td>2009-02-16 00:00:00.000</td><td>14.00</td><td>1</td><td>2014-06-30 00:00:00.000</td></tr><tr><td>160</td><td>2009-01-21 00:00:00.000</td><td>25.00</td><td>2</td><td>2014-06-30 00:00:00.000</td></tr><tr><td>161</td><td>2008-12-15 00:00:00.000</td><td>10.00</td><td>1</td><td>2014-06-30 00:00:00.000</td></tr><tr><td>162</td><td>2009-01-03 00:00:00.000</td><td>10.00</td><td>1</td><td>2014-06-30 00:00:00.000</td></tr><tr><td>163</td><td>2009-02-08 00:00:00.000</td><td>10.00</td><td>1</td><td>2014-06-30 00:00:00.000</td></tr><tr><td>164</td><td>2009-03-06 00:00:00.000</td><td>10.00</td><td>1</td><td>2014-06-30 00:00:00.000</td></tr><tr><td>165</td><td>2009-01-22 00:00:00.000</td><td>10.00</td><td>1</td><td>2014-06-30 00:00:00.000</td></tr><tr><td>166</td><td>2009-02-21 00:00:00.000</td><td>25.00</td><td>2</td><td>2014-06-30 00:00:00.000</td></tr><tr><td>167</td><td>2013-07-14 00:00:00.000</td><td>9.50</td><td>1</td><td>2013-06-30 00:00:00.000</td></tr><tr><td>168</td><td>2008-12-07 00:00:00.000</td><td>9.50</td><td>1</td><td>2014-06-30 00:00:00.000</td></tr><tr><td>169</td><td>2008-12-14 00:00:00.000</td><td>9.50</td><td>1</td><td>2014-06-30 00:00:00.000</td></tr><tr><td>170</td><td>2013-07-14 00:00:00.000</td><td>9.50</td><td>1</td><td>2013-06-30 00:00:00.000</td></tr><tr><td>171</td><td>2009-01-02 00:00:00.000</td><td>9.50</td><td>1</td><td>2014-06-30 00:00:00.000</td></tr><tr><td>172</td><td>2013-07-14 00:00:00.000</td><td>9.50</td><td>1</td><td>2013-06-30 00:00:00.000</td></tr><tr><td>173</td><td>2009-01-21 00:00:00.000</td><td>9.50</td><td>1</td><td>2014-06-30 00:00:00.000</td></tr><tr><td>174</td><td>2013-07-14 00:00:00.000</td><td>9.50</td><td>1</td><td>2013-06-30 00:00:00.000</td></tr><tr><td>175</td><td>2013-07-14 00:00:00.000</td><td>9.50</td><td>1</td><td>2013-06-30 00:00:00.000</td></tr><tr><td>176</td><td>2013-07-14 00:00:00.000</td><td>9.50</td><td>1</td><td>2013-06-30 00:00:00.000</td></tr><tr><td>177</td><td>2013-07-14 00:00:00.000</td><td>9.50</td><td>1</td><td>2013-06-30 00:00:00.000</td></tr><tr><td>178</td><td>2013-07-14 00:00:00.000</td><td>9.50</td><td>1</td><td>2013-06-30 00:00:00.000</td></tr><tr><td>179</td><td>2009-03-05 00:00:00.000</td><td>9.50</td><td>1</td><td>2014-06-30 00:00:00.000</td></tr><tr><td>180</td><td>2009-02-20 00:00:00.000</td><td>25.00</td><td>2</td><td>2014-06-30 00:00:00.000</td></tr><tr><td>181</td><td>2008-12-09 00:00:00.000</td><td>14.00</td><td>1</td><td>2014-06-30 00:00:00.000</td></tr><tr><td>182</td><td>2008-12-28 00:00:00.000</td><td>14.00</td><td>1</td><td>2014-06-30 00:00:00.000</td></tr><tr><td>183</td><td>2009-01-22 00:00:00.000</td><td>14.00</td><td>1</td><td>2014-06-30 00:00:00.000</td></tr><tr><td>184</td><td>2009-02-09 00:00:00.000</td><td>14.00</td><td>1</td><td>2014-06-30 00:00:00.000</td></tr><tr><td>185</td><td>2009-02-28 00:00:00.000</td><td>14.00</td><td>1</td><td>2014-06-30 00:00:00.000</td></tr><tr><td>186</td><td>2009-02-08 00:00:00.000</td><td>25.00</td><td>2</td><td>2014-06-30 00:00:00.000</td></tr><tr><td>187</td><td>2008-12-09 00:00:00.000</td><td>10.00</td><td>1</td><td>2014-06-30 00:00:00.000</td></tr><tr><td>188</td><td>2008-12-27 00:00:00.000</td><td>10.00</td><td>1</td><td>2014-06-30 00:00:00.000</td></tr><tr><td>189</td><td>2009-01-15 00:00:00.000</td><td>10.00</td><td>1</td><td>2014-06-30 00:00:00.000</td></tr><tr><td>190</td><td>2009-02-02 00:00:00.000</td><td>10.00</td><td>1</td><td>2014-06-30 00:00:00.000</td></tr><tr><td>191</td><td>2009-02-26 00:00:00.000</td><td>10.00</td><td>1</td><td>2014-06-30 00:00:00.000</td></tr><tr><td>192</td><td>2009-03-05 00:00:00.000</td><td>25.00</td><td>2</td><td>2014-06-30 00:00:00.000</td></tr><tr><td>193</td><td>2008-12-06 00:00:00.000</td><td>15.00</td><td>1</td><td>2014-06-30 00:00:00.000</td></tr><tr><td>194</td><td>2008-12-12 00:00:00.000</td><td>15.00</td><td>1</td><td>2014-06-30 00:00:00.000</td></tr><tr><td>195</td><td>2008-12-17 00:00:00.000</td><td>15.00</td><td>1</td><td>2014-06-30 00:00:00.000</td></tr><tr><td>196</td><td>2008-12-24 00:00:00.000</td><td>15.00</td><td>1</td><td>2014-06-30 00:00:00.000</td></tr><tr><td>197</td><td>2008-12-31 00:00:00.000</td><td>15.00</td><td>1</td><td>2014-06-30 00:00:00.000</td></tr><tr><td>198</td><td>2009-01-04 00:00:00.000</td><td>15.00</td><td>1</td><td>2014-06-30 00:00:00.000</td></tr><tr><td>199</td><td>2009-01-12 00:00:00.000</td><td>15.00</td><td>1</td><td>2014-06-30 00:00:00.000</td></tr><tr><td>200</td><td>2009-01-17 00:00:00.000</td><td>15.00</td><td>1</td><td>2014-06-30 00:00:00.000</td></tr><tr><td>201</td><td>2009-01-29 00:00:00.000</td><td>15.00</td><td>1</td><td>2014-06-30 00:00:00.000</td></tr><tr><td>202</td><td>2009-02-05 00:00:00.000</td><td>15.00</td><td>1</td><td>2014-06-30 00:00:00.000</td></tr><tr><td>203</td><td>2009-02-24 00:00:00.000</td><td>15.00</td><td>1</td><td>2014-06-30 00:00:00.000</td></tr><tr><td>204</td><td>2009-03-08 00:00:00.000</td><td>15.00</td><td>1</td><td>2014-06-30 00:00:00.000</td></tr><tr><td>205</td><td>2009-02-26 00:00:00.000</td><td>25.00</td><td>2</td><td>2014-06-30 00:00:00.000</td></tr><tr><td>206</td><td>2008-12-02 00:00:00.000</td><td>10.00</td><td>1</td><td>2014-06-30 00:00:00.000</td></tr><tr><td>207</td><td>2008-12-02 00:00:00.000</td><td>10.00</td><td>1</td><td>2014-06-30 00:00:00.000</td></tr><tr><td>208</td><td>2009-01-08 00:00:00.000</td><td>10.00</td><td>1</td><td>2014-06-30 00:00:00.000</td></tr><tr><td>209</td><td>2009-01-27 00:00:00.000</td><td>10.00</td><td>1</td><td>2014-06-30 00:00:00.000</td></tr><tr><td>210</td><td>2009-02-20 00:00:00.000</td><td>10.00</td><td>1</td><td>2014-06-30 00:00:00.000</td></tr><tr><td>211</td><td>2009-02-28 00:00:00.000</td><td>28.8462</td><td>2</td><td>2014-06-30 00:00:00.000</td></tr><tr><td>212</td><td>2008-12-09 00:00:00.000</td><td>21.6346</td><td>2</td><td>2014-06-30 00:00:00.000</td></tr><tr><td>213</td><td>2010-02-23 00:00:00.000</td><td>10.5769</td><td>2</td><td>2014-06-30 00:00:00.000</td></tr><tr><td>214</td><td>2009-02-02 00:00:00.000</td><td>10.5769</td><td>2</td><td>2014-06-30 00:00:00.000</td></tr><tr><td>215</td><td>2009-01-15 00:00:00.000</td><td>10.5769</td><td>2</td><td>2014-06-30 00:00:00.000</td></tr><tr><td>216</td><td>2008-12-28 00:00:00.000</td><td>10.5769</td><td>2</td><td>2014-06-30 00:00:00.000</td></tr><tr><td>217</td><td>2009-01-04 00:00:00.000</td><td>17.7885</td><td>2</td><td>2014-06-30 00:00:00.000</td></tr><tr><td>218</td><td>2008-12-16 00:00:00.000</td><td>16.8269</td><td>2</td><td>2014-06-30 00:00:00.000</td></tr><tr><td>219</td><td>2009-01-22 00:00:00.000</td><td>10.25</td><td>2</td><td>2014-06-30 00:00:00.000</td></tr><tr><td>220</td><td>2009-02-09 00:00:00.000</td><td>10.25</td><td>2</td><td>2014-06-30 00:00:00.000</td></tr><tr><td>221</td><td>2009-03-06 00:00:00.000</td><td>16.8269</td><td>2</td><td>2014-06-30 00:00:00.000</td></tr><tr><td>222</td><td>2008-12-12 00:00:00.000</td><td>23.5577</td><td>2</td><td>2014-06-30 00:00:00.000</td></tr><tr><td>223</td><td>2009-01-26 00:00:00.000</td><td>16.00</td><td>2</td><td>2014-06-30 00:00:00.000</td></tr><tr><td>224</td><td>2012-01-01 00:00:00.000</td><td>16.00</td><td>2</td><td>2011-12-18 00:00:00.000</td></tr><tr><td>225</td><td>2009-02-13 00:00:00.000</td><td>16.00</td><td>2</td><td>2014-06-30 00:00:00.000</td></tr><tr><td>226</td><td>2009-03-03 00:00:00.000</td><td>16.00</td><td>2</td><td>2014-06-30 00:00:00.000</td></tr><tr><td>227</td><td>2009-12-02 00:00:00.000</td><td>24.0385</td><td>2</td><td>2014-06-30 00:00:00.000</td></tr><tr><td>228</td><td>2008-12-14 00:00:00.000</td><td>20.4327</td><td>2</td><td>2014-06-30 00:00:00.000</td></tr><tr><td>229</td><td>2010-02-16 00:00:00.000</td><td>9.25</td><td>1</td><td>2014-06-30 00:00:00.000</td></tr><tr><td>230</td><td>2010-03-05 00:00:00.000</td><td>9.25</td><td>1</td><td>2014-06-30 00:00:00.000</td></tr><tr><td>231</td><td>2010-03-07 00:00:00.000</td><td>9.25</td><td>1</td><td>2014-06-30 00:00:00.000</td></tr><tr><td>232</td><td>2010-01-27 00:00:00.000</td><td>9.25</td><td>1</td><td>2014-06-30 00:00:00.000</td></tr><tr><td>233</td><td>2009-12-21 00:00:00.000</td><td>9.75</td><td>2</td><td>2014-06-30 00:00:00.000</td></tr><tr><td>234</td><td>2012-01-29 00:00:00.000</td><td>60.0962</td><td>2</td><td>2012-01-15 00:00:00.000</td></tr><tr><td>235</td><td>2008-12-06 00:00:00.000</td><td>27.1394</td><td>2</td><td>2014-06-30 00:00:00.000</td></tr><tr><td>236</td><td>2009-02-25 00:00:00.000</td><td>13.9423</td><td>2</td><td>2014-06-30 00:00:00.000</td></tr><tr><td>237</td><td>2009-02-06 00:00:00.000</td><td>13.9423</td><td>2</td><td>2014-06-30 00:00:00.000</td></tr><tr><td>238</td><td>2009-01-01 00:00:00.000</td><td>18.2692</td><td>2</td><td>2014-06-30 00:00:00.000</td></tr><tr><td>239</td><td>2008-12-25 00:00:00.000</td><td>16.5865</td><td>2</td><td>2014-06-30 00:00:00.000</td></tr><tr><td>240</td><td>2008-12-13 00:00:00.000</td><td>18.2692</td><td>2</td><td>2014-06-30 00:00:00.000</td></tr><tr><td>241</td><td>2009-01-30 00:00:00.000</td><td>34.7356</td><td>2</td><td>2014-06-30 00:00:00.000</td></tr><tr><td>242</td><td>2008-12-18 00:00:00.000</td><td>19.00</td><td>2</td><td>2014-06-30 00:00:00.000</td></tr><tr><td>243</td><td>2009-01-06 00:00:00.000</td><td>19.00</td><td>2</td><td>2014-06-30 00:00:00.000</td></tr><tr><td>244</td><td>2009-01-24 00:00:00.000</td><td>19.00</td><td>2</td><td>2014-06-30 00:00:00.000</td></tr><tr><td>245</td><td>2009-02-18 00:00:00.000</td><td>26.4423</td><td>2</td><td>2014-06-30 00:00:00.000</td></tr><tr><td>246</td><td>2009-02-11 00:00:00.000</td><td>19.00</td><td>2</td><td>2014-06-30 00:00:00.000</td></tr><tr><td>247</td><td>2009-03-01 00:00:00.000</td><td>19.00</td><td>2</td><td>2014-06-30 00:00:00.000</td></tr><tr><td>248</td><td>2009-03-08 00:00:00.000</td><td>26.4423</td><td>2</td><td>2014-06-30 00:00:00.000</td></tr><tr><td>249</td><td>2008-12-25 00:00:00.000</td><td>43.2692</td><td>2</td><td>2014-06-30 00:00:00.000</td></tr><tr><td>250</td><td>2012-07-14 00:00:00.000</td><td>30.00</td><td>2</td><td>2012-06-30 00:00:00.000</td></tr><tr><td>251</td><td>2009-02-10 00:00:00.000</td><td>18.2692</td><td>2</td><td>2014-06-30 00:00:00.000</td></tr><tr><td>252</td><td>2009-02-28 00:00:00.000</td><td>18.2692</td><td>2</td><td>2014-06-30 00:00:00.000</td></tr><tr><td>253</td><td>2009-12-17 00:00:00.000</td><td>18.2692</td><td>2</td><td>2014-06-30 00:00:00.000</td></tr><tr><td>254</td><td>2010-01-04 00:00:00.000</td><td>18.2692</td><td>2</td><td>2014-06-30 00:00:00.000</td></tr><tr><td>255</td><td>2010-01-11 00:00:00.000</td><td>18.2692</td><td>2</td><td>2014-06-30 00:00:00.000</td></tr><tr><td>256</td><td>2010-01-23 00:00:00.000</td><td>18.2692</td><td>2</td><td>2014-06-30 00:00:00.000</td></tr><tr><td>257</td><td>2010-01-27 00:00:00.000</td><td>18.2692</td><td>2</td><td>2014-06-30 00:00:00.000</td></tr><tr><td>258</td><td>2010-01-31 00:00:00.000</td><td>18.2692</td><td>2</td><td>2014-06-30 00:00:00.000</td></tr><tr><td>259</td><td>2010-03-09 00:00:00.000</td><td>18.2692</td><td>2</td><td>2014-06-30 00:00:00.000</td></tr><tr><td>260</td><td>2010-12-06 00:00:00.000</td><td>12.75</td><td>2</td><td>2014-06-30 00:00:00.000</td></tr><tr><td>261</td><td>2010-12-25 00:00:00.000</td><td>12.75</td><td>2</td><td>2014-06-30 00:00:00.000</td></tr><tr><td>262</td><td>2009-01-12 00:00:00.000</td><td>13.4615</td><td>2</td><td>2014-06-30 00:00:00.000</td></tr><tr><td>263</td><td>2008-12-11 00:00:00.000</td><td>50.4808</td><td>2</td><td>2014-06-30 00:00:00.000</td></tr><tr><td>264</td><td>2009-02-04 00:00:00.000</td><td>39.6635</td><td>2</td><td>2014-06-30 00:00:00.000</td></tr><tr><td>265</td><td>2008-12-04 00:00:00.000</td><td>32.4519</td><td>2</td><td>2014-06-30 00:00:00.000</td></tr><tr><td>266</td><td>2009-02-23 00:00:00.000</td><td>32.4519</td><td>2</td><td>2014-06-30 00:00:00.000</td></tr><tr><td>267</td><td>2009-02-16 00:00:00.000</td><td>27.4038</td><td>2</td><td>2014-06-30 00:00:00.000</td></tr><tr><td>268</td><td>2009-02-03 00:00:00.000</td><td>27.4038</td><td>2</td><td>2014-06-30 00:00:00.000</td></tr><tr><td>269</td><td>2009-01-11 00:00:00.000</td><td>27.4038</td><td>2</td><td>2014-06-30 00:00:00.000</td></tr><tr><td>270</td><td>2009-01-17 00:00:00.000</td><td>38.4615</td><td>2</td><td>2014-06-30 00:00:00.000</td></tr><tr><td>271</td><td>2009-01-22 00:00:00.000</td><td>38.4615</td><td>2</td><td>2014-06-30 00:00:00.000</td></tr><tr><td>272</td><td>2008-12-23 00:00:00.000</td><td>27.4038</td><td>2</td><td>2014-06-30 00:00:00.000</td></tr><tr><td>273</td><td>2011-02-15 00:00:00.000</td><td>72.1154</td><td>2</td><td>2014-06-30 00:00:00.000</td></tr><tr><td>274</td><td>2011-01-04 00:00:00.000</td><td>48.101</td><td>2</td><td>2014-06-30 00:00:00.000</td></tr><tr><td>275</td><td>2011-05-31 00:00:00.000</td><td>23.0769</td><td>2</td><td>2014-06-30 00:00:00.000</td></tr><tr><td>276</td><td>2011-05-31 00:00:00.000</td><td>23.0769</td><td>2</td><td>2014-06-30 00:00:00.000</td></tr><tr><td>277</td><td>2011-05-31 00:00:00.000</td><td>23.0769</td><td>2</td><td>2014-06-30 00:00:00.000</td></tr><tr><td>278</td><td>2011-05-31 00:00:00.000</td><td>23.0769</td><td>2</td><td>2014-06-30 00:00:00.000</td></tr><tr><td>279</td><td>2011-05-31 00:00:00.000</td><td>23.0769</td><td>2</td><td>2014-06-30 00:00:00.000</td></tr><tr><td>280</td><td>2011-05-31 00:00:00.000</td><td>23.0769</td><td>2</td><td>2014-06-30 00:00:00.000</td></tr><tr><td>281</td><td>2011-05-31 00:00:00.000</td><td>23.0769</td><td>2</td><td>2014-06-30 00:00:00.000</td></tr><tr><td>282</td><td>2011-05-31 00:00:00.000</td><td>23.0769</td><td>2</td><td>2014-06-30 00:00:00.000</td></tr><tr><td>283</td><td>2011-05-31 00:00:00.000</td><td>23.0769</td><td>2</td><td>2014-06-30 00:00:00.000</td></tr><tr><td>284</td><td>2012-09-30 00:00:00.000</td><td>23.0769</td><td>2</td><td>2014-06-30 00:00:00.000</td></tr><tr><td>285</td><td>2013-03-14 00:00:00.000</td><td>48.101</td><td>2</td><td>2014-06-30 00:00:00.000</td></tr><tr><td>286</td><td>2013-05-30 00:00:00.000</td><td>23.0769</td><td>2</td><td>2014-06-30 00:00:00.000</td></tr><tr><td>287</td><td>2012-04-16 00:00:00.000</td><td>48.101</td><td>2</td><td>2014-06-30 00:00:00.000</td></tr><tr><td>288</td><td>2013-05-30 00:00:00.000</td><td>23.0769</td><td>2</td><td>2014-06-30 00:00:00.000</td></tr><tr><td>289</td><td>2012-05-30 00:00:00.000</td><td>23.0769</td><td>2</td><td>2014-06-30 00:00:00.000</td></tr><tr><td>290</td><td>2012-05-30 00:00:00.000</td><td>23.0769</td><td>2</td><td>2014-06-30 00:00:00.000</td></tr></table>"
          },
          "metadata": {}
        }
      ],
      "execution_count": null
    },
    {
      "cell_type": "markdown",
      "source": [
        "Now, let's go with the final kill: we join the current EmployeePay with Employee table and select only the columns that we want to keep.\n",
        "\n",
        "A couple of changes made here: \n",
        "- ORDER BY is no more, because we simply don't need it as an intermeidary view. The final result table won't be able to benefit from it.\n",
        "- Added WHERE clause on Employee.CurrentFlag to reflect on only the current employees"
      ],
      "metadata": {
        "language": "sql",
        "azdata_cell_guid": "da5aa94d-c948-45a5-8bb0-1399b856067b",
        "id": "8JUTxo2TYNEP"
      }
    },
    {
      "cell_type": "code",
      "source": [
        "SELECT Employee.BusinessEntityID,\n",
        "Employee.OrganizationLevel,\n",
        "Employee.JobTitle,\n",
        "Employee.Gender, \n",
        "Employee.HireDate, \n",
        "Employee.SalariedFlag,\n",
        "Employee.VacationHours,\n",
        "Employee.SickLeaveHours,\n",
        "CurrentEmployeePay.Rate,\n",
        "CurrentEmployeePay.PayFrequency,\n",
        "CurrentEmployeePay.RateChangeDate\n",
        "FROM HumanResources.Employee \n",
        "LEFT JOIN\n",
        "    (SELECT EmployeePayHistory.BusinessEntityID,\n",
        "    EmployeePayHistory.RateChangeDate,\n",
        "    EmployeePayHistory.Rate,\n",
        "    EmployeePayHistory.PayFrequency,\n",
        "    EmployeePayHistory.ModifiedDate\n",
        "    FROM HumanResources.EmployeePayHistory\n",
        "    INNER JOIN \n",
        "        (   SELECT BusinessEntityID, MAX(RateChangeDate) as RecentRateChangeDate\n",
        "            FROM HumanResources.EmployeePayHistory \n",
        "            GROUP BY BusinessEntityID\n",
        "    ) CurrentPay ON EmployeePayHistory.BusinessEntityID = CurrentPay.BusinessEntityID AND EmployeePayHistory.RateChangeDate = CurrentPay.RecentRateChangeDate\n",
        "    ) AS CurrentEmployeePay ON Employee.BusinessEntityID = CurrentEmployeePay.BusinessEntityID\n",
        "WHERE Employee.CurrentFlag = 1\n",
        "ORDER BY BusinessEntityID"
      ],
      "metadata": {
        "language": "sql",
        "azdata_cell_guid": "321f0274-aa1d-463e-8fe5-4427049e9314",
        "id": "F4SNFPuzYNEP",
        "outputId": "9230a8cd-e209-45e3-cfe3-95a9d454459f"
      },
      "outputs": [
        {
          "output_type": "display_data",
          "data": {
            "text/html": "(290 rows affected)"
          },
          "metadata": {}
        },
        {
          "output_type": "display_data",
          "data": {
            "text/html": "Total execution time: 00:00:00.149"
          },
          "metadata": {}
        },
        {
          "output_type": "execute_result",
          "execution_count": 82,
          "data": {
            "application/vnd.dataresource+json": {
              "schema": {
                "fields": [
                  {
                    "name": "BusinessEntityID"
                  },
                  {
                    "name": "OrganizationLevel"
                  },
                  {
                    "name": "JobTitle"
                  },
                  {
                    "name": "Gender"
                  },
                  {
                    "name": "HireDate"
                  },
                  {
                    "name": "SalariedFlag"
                  },
                  {
                    "name": "VacationHours"
                  },
                  {
                    "name": "SickLeaveHours"
                  },
                  {
                    "name": "Rate"
                  },
                  {
                    "name": "RateChangeDate"
                  },
                  {
                    "name": "PayFrequency"
                  }
                ]
              },
              "data": [
                {
                  "0": "1",
                  "1": "NULL",
                  "2": "Chief Executive Officer",
                  "3": "M",
                  "4": "2009-01-14",
                  "5": "1",
                  "6": "99",
                  "7": "69",
                  "8": "125.50",
                  "9": "2009-01-14 00:00:00.000",
                  "10": "2"
                },
                {
                  "0": "2",
                  "1": "1",
                  "2": "Vice President of Engineering",
                  "3": "F",
                  "4": "2008-01-31",
                  "5": "1",
                  "6": "1",
                  "7": "20",
                  "8": "63.4615",
                  "9": "2008-01-31 00:00:00.000",
                  "10": "2"
                },
                {
                  "0": "3",
                  "1": "2",
                  "2": "Engineering Manager",
                  "3": "M",
                  "4": "2007-11-11",
                  "5": "1",
                  "6": "2",
                  "7": "21",
                  "8": "43.2692",
                  "9": "2007-11-11 00:00:00.000",
                  "10": "2"
                },
                {
                  "0": "4",
                  "1": "3",
                  "2": "Senior Tool Designer",
                  "3": "M",
                  "4": "2007-12-05",
                  "5": "0",
                  "6": "48",
                  "7": "80",
                  "8": "29.8462",
                  "9": "2011-12-15 00:00:00.000",
                  "10": "2"
                },
                {
                  "0": "5",
                  "1": "3",
                  "2": "Design Engineer",
                  "3": "F",
                  "4": "2008-01-06",
                  "5": "1",
                  "6": "5",
                  "7": "22",
                  "8": "32.6923",
                  "9": "2008-01-06 00:00:00.000",
                  "10": "2"
                },
                {
                  "0": "6",
                  "1": "3",
                  "2": "Design Engineer",
                  "3": "M",
                  "4": "2008-01-24",
                  "5": "1",
                  "6": "6",
                  "7": "23",
                  "8": "32.6923",
                  "9": "2008-01-24 00:00:00.000",
                  "10": "2"
                },
                {
                  "0": "7",
                  "1": "3",
                  "2": "Research and Development Manager",
                  "3": "M",
                  "4": "2009-02-08",
                  "5": "1",
                  "6": "61",
                  "7": "50",
                  "8": "50.4808",
                  "9": "2009-02-08 00:00:00.000",
                  "10": "2"
                },
                {
                  "0": "8",
                  "1": "4",
                  "2": "Research and Development Engineer",
                  "3": "F",
                  "4": "2008-12-29",
                  "5": "1",
                  "6": "62",
                  "7": "51",
                  "8": "40.8654",
                  "9": "2008-12-29 00:00:00.000",
                  "10": "2"
                },
                {
                  "0": "9",
                  "1": "4",
                  "2": "Research and Development Engineer",
                  "3": "F",
                  "4": "2009-01-16",
                  "5": "1",
                  "6": "63",
                  "7": "51",
                  "8": "40.8654",
                  "9": "2009-01-16 00:00:00.000",
                  "10": "2"
                },
                {
                  "0": "10",
                  "1": "4",
                  "2": "Research and Development Manager",
                  "3": "M",
                  "4": "2009-05-03",
                  "5": "1",
                  "6": "16",
                  "7": "64",
                  "8": "42.4808",
                  "9": "2009-05-03 00:00:00.000",
                  "10": "2"
                },
                {
                  "0": "11",
                  "1": "3",
                  "2": "Senior Tool Designer",
                  "3": "M",
                  "4": "2010-12-05",
                  "5": "0",
                  "6": "7",
                  "7": "23",
                  "8": "28.8462",
                  "9": "2010-12-05 00:00:00.000",
                  "10": "2"
                },
                {
                  "0": "12",
                  "1": "4",
                  "2": "Tool Designer",
                  "3": "M",
                  "4": "2007-12-11",
                  "5": "0",
                  "6": "9",
                  "7": "24",
                  "8": "25.00",
                  "9": "2007-12-11 00:00:00.000",
                  "10": "2"
                },
                {
                  "0": "13",
                  "1": "4",
                  "2": "Tool Designer",
                  "3": "F",
                  "4": "2010-12-23",
                  "5": "0",
                  "6": "8",
                  "7": "24",
                  "8": "25.00",
                  "9": "2010-12-23 00:00:00.000",
                  "10": "2"
                },
                {
                  "0": "14",
                  "1": "3",
                  "2": "Senior Design Engineer",
                  "3": "M",
                  "4": "2010-12-30",
                  "5": "1",
                  "6": "3",
                  "7": "21",
                  "8": "36.0577",
                  "9": "2010-12-30 00:00:00.000",
                  "10": "2"
                },
                {
                  "0": "15",
                  "1": "3",
                  "2": "Design Engineer",
                  "3": "F",
                  "4": "2011-01-18",
                  "5": "1",
                  "6": "4",
                  "7": "22",
                  "8": "32.6923",
                  "9": "2011-01-18 00:00:00.000",
                  "10": "2"
                },
                {
                  "0": "16",
                  "1": "1",
                  "2": "Marketing Manager",
                  "3": "M",
                  "4": "2007-12-20",
                  "5": "1",
                  "6": "40",
                  "7": "40",
                  "8": "37.50",
                  "9": "2012-04-30 00:00:00.000",
                  "10": "2"
                },
                {
                  "0": "17",
                  "1": "2",
                  "2": "Marketing Assistant",
                  "3": "M",
                  "4": "2007-01-26",
                  "5": "0",
                  "6": "42",
                  "7": "41",
                  "8": "13.4615",
                  "9": "2007-01-26 00:00:00.000",
                  "10": "2"
                },
                {
                  "0": "18",
                  "1": "2",
                  "2": "Marketing Specialist",
                  "3": "M",
                  "4": "2011-02-07",
                  "5": "0",
                  "6": "48",
                  "7": "44",
                  "8": "14.4231",
                  "9": "2011-02-07 00:00:00.000",
                  "10": "2"
                },
                {
                  "0": "19",
                  "1": "2",
                  "2": "Marketing Assistant",
                  "3": "F",
                  "4": "2011-02-14",
                  "5": "0",
                  "6": "43",
                  "7": "41",
                  "8": "13.4615",
                  "9": "2011-02-14 00:00:00.000",
                  "10": "2"
                },
                {
                  "0": "20",
                  "1": "2",
                  "2": "Marketing Assistant",
                  "3": "F",
                  "4": "2011-01-07",
                  "5": "0",
                  "6": "41",
                  "7": "40",
                  "8": "13.4615",
                  "9": "2011-01-07 00:00:00.000",
                  "10": "2"
                },
                {
                  "0": "21",
                  "1": "2",
                  "2": "Marketing Specialist",
                  "3": "M",
                  "4": "2009-03-02",
                  "5": "0",
                  "6": "44",
                  "7": "42",
                  "8": "14.4231",
                  "9": "2009-03-02 00:00:00.000",
                  "10": "2"
                },
                {
                  "0": "22",
                  "1": "2",
                  "2": "Marketing Specialist",
                  "3": "M",
                  "4": "2008-12-12",
                  "5": "0",
                  "6": "45",
                  "7": "42",
                  "8": "14.4231",
                  "9": "2008-12-12 00:00:00.000",
                  "10": "2"
                },
                {
                  "0": "23",
                  "1": "2",
                  "2": "Marketing Specialist",
                  "3": "F",
                  "4": "2009-01-12",
                  "5": "0",
                  "6": "46",
                  "7": "43",
                  "8": "14.4231",
                  "9": "2009-01-12 00:00:00.000",
                  "10": "2"
                },
                {
                  "0": "24",
                  "1": "2",
                  "2": "Marketing Specialist",
                  "3": "F",
                  "4": "2009-01-18",
                  "5": "0",
                  "6": "47",
                  "7": "43",
                  "8": "14.4231",
                  "9": "2009-01-18 00:00:00.000",
                  "10": "2"
                },
                {
                  "0": "25",
                  "1": "1",
                  "2": "Vice President of Production",
                  "3": "M",
                  "4": "2009-02-03",
                  "5": "1",
                  "6": "64",
                  "7": "52",
                  "8": "84.1346",
                  "9": "2009-02-03 00:00:00.000",
                  "10": "2"
                },
                {
                  "0": "26",
                  "1": "2",
                  "2": "Production Control Manager",
                  "3": "M",
                  "4": "2008-12-01",
                  "5": "1",
                  "6": "43",
                  "7": "41",
                  "8": "24.5192",
                  "9": "2008-12-01 00:00:00.000",
                  "10": "2"
                },
                {
                  "0": "27",
                  "1": "3",
                  "2": "Production Supervisor - WC60",
                  "3": "F",
                  "4": "2008-02-27",
                  "5": "0",
                  "6": "80",
                  "7": "60",
                  "8": "25.00",
                  "9": "2008-02-27 00:00:00.000",
                  "10": "2"
                },
                {
                  "0": "28",
                  "1": "4",
                  "2": "Production Technician - WC60",
                  "3": "M",
                  "4": "2006-06-30",
                  "5": "0",
                  "6": "21",
                  "7": "30",
                  "8": "12.45",
                  "9": "2006-06-30 00:00:00.000",
                  "10": "1"
                },
                {
                  "0": "29",
                  "1": "4",
                  "2": "Production Technician - WC60",
                  "3": "M",
                  "4": "2009-01-23",
                  "5": "0",
                  "6": "19",
                  "7": "29",
                  "8": "12.45",
                  "9": "2009-01-23 00:00:00.000",
                  "10": "1"
                },
                {
                  "0": "30",
                  "1": "4",
                  "2": "Production Technician - WC60",
                  "3": "F",
                  "4": "2009-01-29",
                  "5": "0",
                  "6": "14",
                  "7": "27",
                  "8": "12.45",
                  "9": "2009-01-29 00:00:00.000",
                  "10": "1"
                },
                {
                  "0": "31",
                  "1": "4",
                  "2": "Production Technician - WC60",
                  "3": "F",
                  "4": "2009-01-04",
                  "5": "0",
                  "6": "18",
                  "7": "29",
                  "8": "12.45",
                  "9": "2009-01-04 00:00:00.000",
                  "10": "1"
                },
                {
                  "0": "32",
                  "1": "4",
                  "2": "Production Technician - WC60",
                  "3": "F",
                  "4": "2008-12-29",
                  "5": "0",
                  "6": "23",
                  "7": "31",
                  "8": "12.45",
                  "9": "2008-12-29 00:00:00.000",
                  "10": "1"
                },
                {
                  "0": "33",
                  "1": "4",
                  "2": "Production Technician - WC60",
                  "3": "M",
                  "4": "2008-12-17",
                  "5": "0",
                  "6": "17",
                  "7": "28",
                  "8": "12.45",
                  "9": "2008-12-17 00:00:00.000",
                  "10": "1"
                },
                {
                  "0": "34",
                  "1": "4",
                  "2": "Production Technician - WC60",
                  "3": "F",
                  "4": "2009-02-16",
                  "5": "0",
                  "6": "15",
                  "7": "27",
                  "8": "12.45",
                  "9": "2009-02-16 00:00:00.000",
                  "10": "1"
                },
                {
                  "0": "35",
                  "1": "4",
                  "2": "Production Technician - WC60",
                  "3": "M",
                  "4": "2009-02-08",
                  "5": "0",
                  "6": "22",
                  "7": "31",
                  "8": "12.45",
                  "9": "2009-02-08 00:00:00.000",
                  "10": "1"
                },
                {
                  "0": "36",
                  "1": "4",
                  "2": "Production Technician - WC60",
                  "3": "M",
                  "4": "2009-02-10",
                  "5": "0",
                  "6": "20",
                  "7": "30",
                  "8": "12.45",
                  "9": "2009-02-10 00:00:00.000",
                  "10": "1"
                },
                {
                  "0": "37",
                  "1": "4",
                  "2": "Production Technician - WC60",
                  "3": "M",
                  "4": "2009-03-07",
                  "5": "0",
                  "6": "16",
                  "7": "28",
                  "8": "12.45",
                  "9": "2009-03-07 00:00:00.000",
                  "10": "1"
                },
                {
                  "0": "38",
                  "1": "4",
                  "2": "Production Technician - WC60",
                  "3": "F",
                  "4": "2010-01-16",
                  "5": "0",
                  "6": "24",
                  "7": "32",
                  "8": "12.45",
                  "9": "2010-01-16 00:00:00.000",
                  "10": "1"
                },
                {
                  "0": "39",
                  "1": "4",
                  "2": "Production Technician - WC60",
                  "3": "M",
                  "4": "2010-02-05",
                  "5": "0",
                  "6": "25",
                  "7": "32",
                  "8": "12.45",
                  "9": "2010-02-05 00:00:00.000",
                  "10": "1"
                },
                {
                  "0": "40",
                  "1": "3",
                  "2": "Production Supervisor - WC60",
                  "3": "F",
                  "4": "2007-12-26",
                  "5": "0",
                  "6": "82",
                  "7": "61",
                  "8": "25.00",
                  "9": "2007-12-26 00:00:00.000",
                  "10": "2"
                },
                {
                  "0": "41",
                  "1": "4",
                  "2": "Production Technician - WC60",
                  "3": "M",
                  "4": "2009-01-21",
                  "5": "0",
                  "6": "35",
                  "7": "37",
                  "8": "12.45",
                  "9": "2009-01-21 00:00:00.000",
                  "10": "1"
                },
                {
                  "0": "42",
                  "1": "4",
                  "2": "Production Technician - WC60",
                  "3": "M",
                  "4": "2008-12-27",
                  "5": "0",
                  "6": "39",
                  "7": "39",
                  "8": "12.45",
                  "9": "2008-12-27 00:00:00.000",
                  "10": "1"
                },
                {
                  "0": "43",
                  "1": "4",
                  "2": "Production Technician - WC60",
                  "3": "F",
                  "4": "2009-01-02",
                  "5": "0",
                  "6": "34",
                  "7": "37",
                  "8": "12.45",
                  "9": "2009-01-02 00:00:00.000",
                  "10": "1"
                },
                {
                  "0": "44",
                  "1": "4",
                  "2": "Production Technician - WC60",
                  "3": "M",
                  "4": "2008-12-08",
                  "5": "0",
                  "6": "38",
                  "7": "39",
                  "8": "12.45",
                  "9": "2008-12-08 00:00:00.000",
                  "10": "1"
                },
                {
                  "0": "45",
                  "1": "4",
                  "2": "Production Technician - WC60",
                  "3": "M",
                  "4": "2009-02-26",
                  "5": "0",
                  "6": "37",
                  "7": "38",
                  "8": "12.45",
                  "9": "2009-02-26 00:00:00.000",
                  "10": "1"
                },
                {
                  "0": "46",
                  "1": "4",
                  "2": "Production Technician - WC60",
                  "3": "M",
                  "4": "2009-02-08",
                  "5": "0",
                  "6": "36",
                  "7": "38",
                  "8": "12.45",
                  "9": "2009-02-08 00:00:00.000",
                  "10": "1"
                },
                {
                  "0": "47",
                  "1": "3",
                  "2": "Production Supervisor - WC10",
                  "3": "M",
                  "4": "2009-02-22",
                  "5": "0",
                  "6": "65",
                  "7": "52",
                  "8": "25.00",
                  "9": "2009-02-22 00:00:00.000",
                  "10": "2"
                },
                {
                  "0": "48",
                  "1": "4",
                  "2": "Production Technician - WC10",
                  "3": "F",
                  "4": "2008-01-06",
                  "5": "0",
                  "6": "83",
                  "7": "61",
                  "8": "13.45",
                  "9": "2008-01-06 00:00:00.000",
                  "10": "1"
                },
                {
                  "0": "49",
                  "1": "4",
                  "2": "Production Technician - WC10",
                  "3": "M",
                  "4": "2008-01-07",
                  "5": "0",
                  "6": "88",
                  "7": "64",
                  "8": "13.45",
                  "9": "2008-01-07 00:00:00.000",
                  "10": "1"
                },
                {
                  "0": "50",
                  "1": "4",
                  "2": "Production Technician - WC10",
                  "3": "M",
                  "4": "2008-02-02",
                  "5": "0",
                  "6": "84",
                  "7": "62",
                  "8": "13.45",
                  "9": "2008-02-02 00:00:00.000",
                  "10": "1"
                },
                {
                  "0": "51",
                  "1": "4",
                  "2": "Production Technician - WC10",
                  "3": "M",
                  "4": "2008-02-20",
                  "5": "0",
                  "6": "85",
                  "7": "62",
                  "8": "13.45",
                  "9": "2008-02-20 00:00:00.000",
                  "10": "1"
                },
                {
                  "0": "52",
                  "1": "4",
                  "2": "Production Technician - WC10",
                  "3": "F",
                  "4": "2008-03-10",
                  "5": "0",
                  "6": "86",
                  "7": "63",
                  "8": "13.45",
                  "9": "2008-03-10 00:00:00.000",
                  "10": "1"
                },
                {
                  "0": "53",
                  "1": "4",
                  "2": "Production Technician - WC10",
                  "3": "F",
                  "4": "2008-03-28",
                  "5": "0",
                  "6": "87",
                  "7": "63",
                  "8": "13.45",
                  "9": "2008-03-28 00:00:00.000",
                  "10": "1"
                },
                {
                  "0": "54",
                  "1": "4",
                  "2": "Production Technician - WC10",
                  "3": "F",
                  "4": "2010-01-01",
                  "5": "0",
                  "6": "89",
                  "7": "64",
                  "8": "13.45",
                  "9": "2010-01-01 00:00:00.000",
                  "10": "1"
                },
                {
                  "0": "55",
                  "1": "3",
                  "2": "Production Supervisor - WC50",
                  "3": "M",
                  "4": "2008-02-08",
                  "5": "0",
                  "6": "79",
                  "7": "59",
                  "8": "25.00",
                  "9": "2008-02-08 00:00:00.000",
                  "10": "2"
                },
                {
                  "0": "56",
                  "1": "4",
                  "2": "Production Technician - WC50",
                  "3": "F",
                  "4": "2009-02-05",
                  "5": "0",
                  "6": "9",
                  "7": "24",
                  "8": "11.00",
                  "9": "2009-02-05 00:00:00.000",
                  "10": "1"
                },
                {
                  "0": "57",
                  "1": "4",
                  "2": "Production Technician - WC50",
                  "3": "M",
                  "4": "2009-02-23",
                  "5": "0",
                  "6": "10",
                  "7": "25",
                  "8": "11.00",
                  "9": "2009-02-23 00:00:00.000",
                  "10": "1"
                },
                {
                  "0": "58",
                  "1": "4",
                  "2": "Production Technician - WC50",
                  "3": "M",
                  "4": "2008-12-05",
                  "5": "0",
                  "6": "11",
                  "7": "25",
                  "8": "11.00",
                  "9": "2008-12-05 00:00:00.000",
                  "10": "1"
                },
                {
                  "0": "59",
                  "1": "4",
                  "2": "Production Technician - WC50",
                  "3": "M",
                  "4": "2008-12-24",
                  "5": "0",
                  "6": "12",
                  "7": "26",
                  "8": "11.00",
                  "9": "2008-12-24 00:00:00.000",
                  "10": "1"
                },
                {
                  "0": "60",
                  "1": "4",
                  "2": "Production Technician - WC50",
                  "3": "M",
                  "4": "2009-01-11",
                  "5": "0",
                  "6": "13",
                  "7": "26",
                  "8": "11.00",
                  "9": "2009-01-11 00:00:00.000",
                  "10": "1"
                },
                {
                  "0": "61",
                  "1": "4",
                  "2": "Production Technician - WC50",
                  "3": "F",
                  "4": "2009-01-18",
                  "5": "0",
                  "6": "8",
                  "7": "24",
                  "8": "11.00",
                  "9": "2009-01-18 00:00:00.000",
                  "10": "1"
                },
                {
                  "0": "62",
                  "1": "3",
                  "2": "Production Supervisor - WC60",
                  "3": "M",
                  "4": "2008-03-17",
                  "5": "0",
                  "6": "81",
                  "7": "60",
                  "8": "25.00",
                  "9": "2008-03-17 00:00:00.000",
                  "10": "2"
                },
                {
                  "0": "63",
                  "1": "4",
                  "2": "Production Technician - WC60",
                  "3": "M",
                  "4": "2010-01-29",
                  "5": "0",
                  "6": "30",
                  "7": "35",
                  "8": "12.45",
                  "9": "2010-01-29 00:00:00.000",
                  "10": "1"
                },
                {
                  "0": "64",
                  "1": "4",
                  "2": "Production Technician - WC60",
                  "3": "M",
                  "4": "2010-02-23",
                  "5": "0",
                  "6": "26",
                  "7": "33",
                  "8": "12.45",
                  "9": "2010-02-23 00:00:00.000",
                  "10": "1"
                },
                {
                  "0": "65",
                  "1": "4",
                  "2": "Production Technician - WC60",
                  "3": "M",
                  "4": "2010-02-23",
                  "5": "0",
                  "6": "29",
                  "7": "34",
                  "8": "12.45",
                  "9": "2010-02-23 00:00:00.000",
                  "10": "1"
                },
                {
                  "0": "66",
                  "1": "4",
                  "2": "Production Technician - WC60",
                  "3": "M",
                  "4": "2009-12-22",
                  "5": "0",
                  "6": "28",
                  "7": "34",
                  "8": "12.45",
                  "9": "2009-12-22 00:00:00.000",
                  "10": "1"
                },
                {
                  "0": "67",
                  "1": "4",
                  "2": "Production Technician - WC60",
                  "3": "M",
                  "4": "2009-03-05",
                  "5": "0",
                  "6": "32",
                  "7": "36",
                  "8": "12.45",
                  "9": "2009-03-05 00:00:00.000",
                  "10": "1"
                },
                {
                  "0": "68",
                  "1": "4",
                  "2": "Production Technician - WC60",
                  "3": "M",
                  "4": "2009-12-03",
                  "5": "0",
                  "6": "27",
                  "7": "33",
                  "8": "12.45",
                  "9": "2009-12-03 00:00:00.000",
                  "10": "1"
                },
                {
                  "0": "69",
                  "1": "4",
                  "2": "Production Technician - WC60",
                  "3": "M",
                  "4": "2009-02-15",
                  "5": "0",
                  "6": "31",
                  "7": "35",
                  "8": "12.45",
                  "9": "2009-02-15 00:00:00.000",
                  "10": "1"
                },
                {
                  "0": "70",
                  "1": "4",
                  "2": "Production Technician - WC60",
                  "3": "M",
                  "4": "2008-12-15",
                  "5": "0",
                  "6": "33",
                  "7": "36",
                  "8": "12.45",
                  "9": "2008-12-15 00:00:00.000",
                  "10": "1"
                },
                {
                  "0": "71",
                  "1": "3",
                  "2": "Production Supervisor - WC30",
                  "3": "M",
                  "4": "2009-02-15",
                  "5": "0",
                  "6": "70",
                  "7": "55",
                  "8": "25.00",
                  "9": "2009-02-15 00:00:00.000",
                  "10": "2"
                },
                {
                  "0": "72",
                  "1": "4",
                  "2": "Production Technician - WC30",
                  "3": "M",
                  "4": "2008-12-01",
                  "5": "0",
                  "6": "41",
                  "7": "40",
                  "8": "9.50",
                  "9": "2008-12-01 00:00:00.000",
                  "10": "1"
                },
                {
                  "0": "73",
                  "1": "4",
                  "2": "Production Technician - WC30",
                  "3": "F",
                  "4": "2008-12-19",
                  "5": "0",
                  "6": "42",
                  "7": "41",
                  "8": "9.50",
                  "9": "2008-12-19 00:00:00.000",
                  "10": "1"
                },
                {
                  "0": "74",
                  "1": "4",
                  "2": "Production Technician - WC30",
                  "3": "M",
                  "4": "2009-01-07",
                  "5": "0",
                  "6": "43",
                  "7": "41",
                  "8": "9.50",
                  "9": "2009-01-07 00:00:00.000",
                  "10": "1"
                },
                {
                  "0": "75",
                  "1": "4",
                  "2": "Production Technician - WC30",
                  "3": "M",
                  "4": "2009-01-26",
                  "5": "0",
                  "6": "44",
                  "7": "42",
                  "8": "9.50",
                  "9": "2009-01-26 00:00:00.000",
                  "10": "1"
                },
                {
                  "0": "76",
                  "1": "4",
                  "2": "Production Technician - WC30",
                  "3": "F",
                  "4": "2009-02-12",
                  "5": "0",
                  "6": "45",
                  "7": "42",
                  "8": "9.50",
                  "9": "2009-02-12 00:00:00.000",
                  "10": "1"
                },
                {
                  "0": "77",
                  "1": "4",
                  "2": "Production Technician - WC30",
                  "3": "F",
                  "4": "2009-03-03",
                  "5": "0",
                  "6": "46",
                  "7": "43",
                  "8": "9.50",
                  "9": "2009-03-03 00:00:00.000",
                  "10": "1"
                },
                {
                  "0": "78",
                  "1": "3",
                  "2": "Production Supervisor - WC40",
                  "3": "M",
                  "4": "2008-12-15",
                  "5": "0",
                  "6": "72",
                  "7": "56",
                  "8": "25.00",
                  "9": "2008-12-15 00:00:00.000",
                  "10": "2"
                },
                {
                  "0": "79",
                  "1": "4",
                  "2": "Production Technician - WC40",
                  "3": "M",
                  "4": "2010-01-24",
                  "5": "0",
                  "6": "60",
                  "7": "50",
                  "8": "15.00",
                  "9": "2010-01-24 00:00:00.000",
                  "10": "1"
                },
                {
                  "0": "80",
                  "1": "4",
                  "2": "Production Technician - WC40",
                  "3": "M",
                  "4": "2010-01-17",
                  "5": "0",
                  "6": "65",
                  "7": "52",
                  "8": "15.00",
                  "9": "2010-01-17 00:00:00.000",
                  "10": "1"
                },
                {
                  "0": "81",
                  "1": "4",
                  "2": "Production Technician - WC40",
                  "3": "M",
                  "4": "2009-12-29",
                  "5": "0",
                  "6": "64",
                  "7": "52",
                  "8": "15.00",
                  "9": "2009-12-29 00:00:00.000",
                  "10": "1"
                },
                {
                  "0": "82",
                  "1": "4",
                  "2": "Production Technician - WC40",
                  "3": "M",
                  "4": "2010-03-03",
                  "5": "0",
                  "6": "62",
                  "7": "51",
                  "8": "15.00",
                  "9": "2010-03-03 00:00:00.000",
                  "10": "1"
                },
                {
                  "0": "83",
                  "1": "4",
                  "2": "Production Technician - WC40",
                  "3": "M",
                  "4": "2010-02-12",
                  "5": "0",
                  "6": "61",
                  "7": "50",
                  "8": "15.00",
                  "9": "2010-02-12 00:00:00.000",
                  "10": "1"
                },
                {
                  "0": "84",
                  "1": "4",
                  "2": "Production Technician - WC40",
                  "3": "M",
                  "4": "2010-02-05",
                  "5": "0",
                  "6": "66",
                  "7": "53",
                  "8": "15.00",
                  "9": "2010-02-05 00:00:00.000",
                  "10": "1"
                },
                {
                  "0": "85",
                  "1": "4",
                  "2": "Production Technician - WC40",
                  "3": "M",
                  "4": "2009-12-11",
                  "5": "0",
                  "6": "63",
                  "7": "51",
                  "8": "15.00",
                  "9": "2009-12-11 00:00:00.000",
                  "10": "1"
                },
                {
                  "0": "86",
                  "1": "4",
                  "2": "Production Technician - WC40",
                  "3": "M",
                  "4": "2009-01-05",
                  "5": "0",
                  "6": "59",
                  "7": "49",
                  "8": "15.00",
                  "9": "2009-01-05 00:00:00.000",
                  "10": "1"
                },
                {
                  "0": "87",
                  "1": "3",
                  "2": "Production Supervisor - WC10",
                  "3": "M",
                  "4": "2008-12-22",
                  "5": "0",
                  "6": "67",
                  "7": "53",
                  "8": "25.00",
                  "9": "2008-12-22 00:00:00.000",
                  "10": "2"
                },
                {
                  "0": "88",
                  "1": "4",
                  "2": "Production Technician - WC10",
                  "3": "F",
                  "4": "2009-12-18",
                  "5": "0",
                  "6": "99",
                  "7": "69",
                  "8": "13.45",
                  "9": "2009-12-18 00:00:00.000",
                  "10": "1"
                },
                {
                  "0": "89",
                  "1": "4",
                  "2": "Production Technician - WC10",
                  "3": "M",
                  "4": "2010-02-01",
                  "5": "0",
                  "6": "96",
                  "7": "68",
                  "8": "13.45",
                  "9": "2010-02-01 00:00:00.000",
                  "10": "1"
                },
                {
                  "0": "90",
                  "1": "4",
                  "2": "Production Technician - WC10",
                  "3": "F",
                  "4": "2010-02-20",
                  "5": "0",
                  "6": "97",
                  "7": "68",
                  "8": "13.45",
                  "9": "2010-02-20 00:00:00.000",
                  "10": "1"
                },
                {
                  "0": "91",
                  "1": "4",
                  "2": "Production Technician - WC10",
                  "3": "F",
                  "4": "2010-01-12",
                  "5": "0",
                  "6": "95",
                  "7": "67",
                  "8": "13.45",
                  "9": "2010-01-12 00:00:00.000",
                  "10": "1"
                },
                {
                  "0": "92",
                  "1": "4",
                  "2": "Production Technician - WC10",
                  "3": "M",
                  "4": "2010-03-10",
                  "5": "0",
                  "6": "98",
                  "7": "69",
                  "8": "13.45",
                  "9": "2010-03-10 00:00:00.000",
                  "10": "1"
                },
                {
                  "0": "93",
                  "1": "3",
                  "2": "Production Supervisor - WC50",
                  "3": "M",
                  "4": "2008-12-27",
                  "5": "0",
                  "6": "78",
                  "7": "59",
                  "8": "25.00",
                  "9": "2008-12-27 00:00:00.000",
                  "10": "2"
                },
                {
                  "0": "94",
                  "1": "4",
                  "2": "Production Technician - WC50",
                  "3": "M",
                  "4": "2008-12-12",
                  "5": "0",
                  "6": "6",
                  "7": "23",
                  "8": "11.00",
                  "9": "2008-12-12 00:00:00.000",
                  "10": "1"
                },
                {
                  "0": "95",
                  "1": "4",
                  "2": "Production Technician - WC50",
                  "3": "M",
                  "4": "2008-12-19",
                  "5": "0",
                  "6": "1",
                  "7": "20",
                  "8": "11.00",
                  "9": "2008-12-19 00:00:00.000",
                  "10": "1"
                },
                {
                  "0": "96",
                  "1": "4",
                  "2": "Production Technician - WC50",
                  "3": "F",
                  "4": "2009-03-02",
                  "5": "0",
                  "6": "5",
                  "7": "22",
                  "8": "11.00",
                  "9": "2009-03-02 00:00:00.000",
                  "10": "1"
                },
                {
                  "0": "97",
                  "1": "4",
                  "2": "Production Technician - WC50",
                  "3": "M",
                  "4": "2009-02-10",
                  "5": "0",
                  "6": "0",
                  "7": "20",
                  "8": "11.00",
                  "9": "2009-02-10 00:00:00.000",
                  "10": "1"
                },
                {
                  "0": "98",
                  "1": "4",
                  "2": "Production Technician - WC50",
                  "3": "M",
                  "4": "2009-02-11",
                  "5": "0",
                  "6": "4",
                  "7": "22",
                  "8": "11.00",
                  "9": "2009-02-11 00:00:00.000",
                  "10": "1"
                },
                {
                  "0": "99",
                  "1": "4",
                  "2": "Production Technician - WC50",
                  "3": "M",
                  "4": "2009-01-06",
                  "5": "0",
                  "6": "2",
                  "7": "21",
                  "8": "11.00",
                  "9": "2009-01-06 00:00:00.000",
                  "10": "1"
                },
                {
                  "0": "100",
                  "1": "4",
                  "2": "Production Technician - WC50",
                  "3": "M",
                  "4": "2009-01-12",
                  "5": "0",
                  "6": "7",
                  "7": "23",
                  "8": "11.00",
                  "9": "2009-01-12 00:00:00.000",
                  "10": "1"
                },
                {
                  "0": "101",
                  "1": "4",
                  "2": "Production Technician - WC50",
                  "3": "M",
                  "4": "2009-01-25",
                  "5": "0",
                  "6": "3",
                  "7": "21",
                  "8": "11.00",
                  "9": "2009-01-25 00:00:00.000",
                  "10": "1"
                },
                {
                  "0": "102",
                  "1": "3",
                  "2": "Production Supervisor - WC10",
                  "3": "M",
                  "4": "2008-12-03",
                  "5": "0",
                  "6": "66",
                  "7": "53",
                  "8": "25.00",
                  "9": "2008-12-03 00:00:00.000",
                  "10": "2"
                },
                {
                  "0": "103",
                  "1": "4",
                  "2": "Production Technician - WC10",
                  "3": "M",
                  "4": "2009-12-06",
                  "5": "0",
                  "6": "93",
                  "7": "66",
                  "8": "13.45",
                  "9": "2009-12-06 00:00:00.000",
                  "10": "1"
                },
                {
                  "0": "104",
                  "1": "4",
                  "2": "Production Technician - WC10",
                  "3": "F",
                  "4": "2009-12-25",
                  "5": "0",
                  "6": "94",
                  "7": "67",
                  "8": "13.45",
                  "9": "2009-12-25 00:00:00.000",
                  "10": "1"
                },
                {
                  "0": "105",
                  "1": "4",
                  "2": "Production Technician - WC10",
                  "3": "M",
                  "4": "2009-12-25",
                  "5": "0",
                  "6": "90",
                  "7": "65",
                  "8": "13.45",
                  "9": "2009-12-25 00:00:00.000",
                  "10": "1"
                },
                {
                  "0": "106",
                  "1": "4",
                  "2": "Production Technician - WC10",
                  "3": "M",
                  "4": "2010-02-27",
                  "5": "0",
                  "6": "92",
                  "7": "66",
                  "8": "13.45",
                  "9": "2010-02-27 00:00:00.000",
                  "10": "1"
                },
                {
                  "0": "107",
                  "1": "4",
                  "2": "Production Technician - WC10",
                  "3": "M",
                  "4": "2010-02-08",
                  "5": "0",
                  "6": "91",
                  "7": "65",
                  "8": "13.45",
                  "9": "2010-02-08 00:00:00.000",
                  "10": "1"
                },
                {
                  "0": "108",
                  "1": "3",
                  "2": "Production Supervisor - WC50",
                  "3": "M",
                  "4": "2008-12-08",
                  "5": "0",
                  "6": "77",
                  "7": "58",
                  "8": "25.00",
                  "9": "2008-12-08 00:00:00.000",
                  "10": "2"
                },
                {
                  "0": "109",
                  "1": "4",
                  "2": "Production Technician - WC50",
                  "3": "F",
                  "4": "2008-12-07",
                  "5": "0",
                  "6": "95",
                  "7": "67",
                  "8": "11.00",
                  "9": "2008-12-07 00:00:00.000",
                  "10": "1"
                },
                {
                  "0": "110",
                  "1": "4",
                  "2": "Production Technician - WC50",
                  "3": "M",
                  "4": "2008-12-14",
                  "5": "0",
                  "6": "90",
                  "7": "65",
                  "8": "11.00",
                  "9": "2008-12-14 00:00:00.000",
                  "10": "1"
                },
                {
                  "0": "111",
                  "1": "4",
                  "2": "Production Technician - WC50",
                  "3": "M",
                  "4": "2008-12-17",
                  "5": "0",
                  "6": "93",
                  "7": "66",
                  "8": "11.00",
                  "9": "2008-12-17 00:00:00.000",
                  "10": "1"
                },
                {
                  "0": "112",
                  "1": "4",
                  "2": "Production Technician - WC50",
                  "3": "M",
                  "4": "2009-01-01",
                  "5": "0",
                  "6": "91",
                  "7": "65",
                  "8": "11.00",
                  "9": "2009-01-01 00:00:00.000",
                  "10": "1"
                },
                {
                  "0": "113",
                  "1": "4",
                  "2": "Production Technician - WC50",
                  "3": "F",
                  "4": "2008-12-25",
                  "5": "0",
                  "6": "96",
                  "7": "68",
                  "8": "11.00",
                  "9": "2008-12-25 00:00:00.000",
                  "10": "1"
                },
                {
                  "0": "114",
                  "1": "4",
                  "2": "Production Technician - WC50",
                  "3": "M",
                  "4": "2009-01-13",
                  "5": "0",
                  "6": "97",
                  "7": "68",
                  "8": "11.00",
                  "9": "2009-01-13 00:00:00.000",
                  "10": "1"
                },
                {
                  "0": "115",
                  "1": "4",
                  "2": "Production Technician - WC50",
                  "3": "F",
                  "4": "2009-01-20",
                  "5": "0",
                  "6": "92",
                  "7": "66",
                  "8": "11.00",
                  "9": "2009-01-20 00:00:00.000",
                  "10": "1"
                },
                {
                  "0": "116",
                  "1": "4",
                  "2": "Production Technician - WC50",
                  "3": "M",
                  "4": "2009-01-31",
                  "5": "0",
                  "6": "98",
                  "7": "69",
                  "8": "11.00",
                  "9": "2009-01-31 00:00:00.000",
                  "10": "1"
                },
                {
                  "0": "117",
                  "1": "4",
                  "2": "Production Technician - WC50",
                  "3": "M",
                  "4": "2009-02-18",
                  "5": "0",
                  "6": "99",
                  "7": "69",
                  "8": "11.00",
                  "9": "2009-02-18 00:00:00.000",
                  "10": "1"
                },
                {
                  "0": "118",
                  "1": "4",
                  "2": "Production Technician - WC50",
                  "3": "M",
                  "4": "2009-02-13",
                  "5": "0",
                  "6": "88",
                  "7": "64",
                  "8": "11.00",
                  "9": "2009-02-13 00:00:00.000",
                  "10": "1"
                },
                {
                  "0": "119",
                  "1": "4",
                  "2": "Production Technician - WC50",
                  "3": "M",
                  "4": "2009-02-25",
                  "5": "0",
                  "6": "94",
                  "7": "67",
                  "8": "11.00",
                  "9": "2009-02-25 00:00:00.000",
                  "10": "1"
                },
                {
                  "0": "120",
                  "1": "4",
                  "2": "Production Technician - WC50",
                  "3": "F",
                  "4": "2009-03-04",
                  "5": "0",
                  "6": "89",
                  "7": "64",
                  "8": "11.00",
                  "9": "2009-03-04 00:00:00.000",
                  "10": "1"
                },
                {
                  "0": "121",
                  "1": "3",
                  "2": "Shipping and Receiving Supervisor",
                  "3": "M",
                  "4": "2009-01-02",
                  "5": "1",
                  "6": "93",
                  "7": "66",
                  "8": "19.2308",
                  "9": "2009-01-02 00:00:00.000",
                  "10": "2"
                },
                {
                  "0": "122",
                  "1": "4",
                  "2": "Stocker",
                  "3": "F",
                  "4": "2008-12-07",
                  "5": "0",
                  "6": "97",
                  "7": "68",
                  "8": "9.00",
                  "9": "2008-12-07 00:00:00.000",
                  "10": "1"
                },
                {
                  "0": "123",
                  "1": "4",
                  "2": "Shipping and Receiving Clerk",
                  "3": "M",
                  "4": "2008-12-07",
                  "5": "0",
                  "6": "95",
                  "7": "67",
                  "8": "9.50",
                  "9": "2008-12-07 00:00:00.000",
                  "10": "2"
                },
                {
                  "0": "124",
                  "1": "4",
                  "2": "Stocker",
                  "3": "F",
                  "4": "2008-12-26",
                  "5": "0",
                  "6": "98",
                  "7": "69",
                  "8": "9.00",
                  "9": "2008-12-26 00:00:00.000",
                  "10": "1"
                },
                {
                  "0": "125",
                  "1": "4",
                  "2": "Shipping and Receiving Clerk",
                  "3": "M",
                  "4": "2009-01-20",
                  "5": "0",
                  "6": "94",
                  "7": "67",
                  "8": "9.50",
                  "9": "2009-01-20 00:00:00.000",
                  "10": "2"
                },
                {
                  "0": "126",
                  "1": "4",
                  "2": "Stocker",
                  "3": "M",
                  "4": "2009-02-26",
                  "5": "0",
                  "6": "96",
                  "7": "68",
                  "8": "9.00",
                  "9": "2009-02-26 00:00:00.000",
                  "10": "1"
                },
                {
                  "0": "127",
                  "1": "3",
                  "2": "Production Supervisor - WC40",
                  "3": "M",
                  "4": "2009-01-03",
                  "5": "0",
                  "6": "73",
                  "7": "56",
                  "8": "25.00",
                  "9": "2009-01-03 00:00:00.000",
                  "10": "2"
                },
                {
                  "0": "128",
                  "1": "4",
                  "2": "Production Technician - WC40",
                  "3": "M",
                  "4": "2008-12-04",
                  "5": "0",
                  "6": "68",
                  "7": "54",
                  "8": "15.00",
                  "9": "2008-12-04 00:00:00.000",
                  "10": "1"
                },
                {
                  "0": "129",
                  "1": "4",
                  "2": "Production Technician - WC40",
                  "3": "M",
                  "4": "2008-12-22",
                  "5": "0",
                  "6": "69",
                  "7": "54",
                  "8": "15.00",
                  "9": "2008-12-22 00:00:00.000",
                  "10": "1"
                },
                {
                  "0": "130",
                  "1": "4",
                  "2": "Production Technician - WC40",
                  "3": "M",
                  "4": "2009-02-13",
                  "5": "0",
                  "6": "71",
                  "7": "55",
                  "8": "15.00",
                  "9": "2009-02-13 00:00:00.000",
                  "10": "1"
                },
                {
                  "0": "131",
                  "1": "4",
                  "2": "Production Technician - WC40",
                  "3": "M",
                  "4": "2009-02-15",
                  "5": "0",
                  "6": "72",
                  "7": "56",
                  "8": "15.00",
                  "9": "2009-02-15 00:00:00.000",
                  "10": "1"
                },
                {
                  "0": "132",
                  "1": "4",
                  "2": "Production Technician - WC40",
                  "3": "F",
                  "4": "2009-02-22",
                  "5": "0",
                  "6": "67",
                  "7": "53",
                  "8": "15.00",
                  "9": "2009-02-22 00:00:00.000",
                  "10": "1"
                },
                {
                  "0": "133",
                  "1": "4",
                  "2": "Production Technician - WC40",
                  "3": "M",
                  "4": "2009-01-10",
                  "5": "0",
                  "6": "70",
                  "7": "55",
                  "8": "15.00",
                  "9": "2009-01-10 00:00:00.000",
                  "10": "1"
                },
                {
                  "0": "134",
                  "1": "3",
                  "2": "Production Supervisor - WC20",
                  "3": "M",
                  "4": "2009-01-14",
                  "5": "0",
                  "6": "40",
                  "7": "40",
                  "8": "25.00",
                  "9": "2009-01-14 00:00:00.000",
                  "10": "2"
                },
                {
                  "0": "135",
                  "1": "4",
                  "2": "Production Technician - WC20",
                  "3": "M",
                  "4": "2008-12-04",
                  "5": "0",
                  "6": "9",
                  "7": "24",
                  "8": "14.00",
                  "9": "2008-12-04 00:00:00.000",
                  "10": "1"
                },
                {
                  "0": "136",
                  "1": "4",
                  "2": "Production Technician - WC20",
                  "3": "M",
                  "4": "2009-12-11",
                  "5": "0",
                  "6": "4",
                  "7": "22",
                  "8": "14.00",
                  "9": "2009-12-11 00:00:00.000",
                  "10": "1"
                },
                {
                  "0": "137",
                  "1": "4",
                  "2": "Production Technician - WC20",
                  "3": "F",
                  "4": "2009-02-23",
                  "5": "0",
                  "6": "8",
                  "7": "24",
                  "8": "14.00",
                  "9": "2009-02-23 00:00:00.000",
                  "10": "1"
                },
                {
                  "0": "138",
                  "1": "4",
                  "2": "Production Technician - WC20",
                  "3": "F",
                  "4": "2009-02-04",
                  "5": "0",
                  "6": "7",
                  "7": "23",
                  "8": "14.00",
                  "9": "2009-02-04 00:00:00.000",
                  "10": "1"
                },
                {
                  "0": "139",
                  "1": "4",
                  "2": "Production Technician - WC20",
                  "3": "M",
                  "4": "2010-01-06",
                  "5": "0",
                  "6": "0",
                  "7": "20",
                  "8": "14.00",
                  "9": "2010-01-06 00:00:00.000",
                  "10": "1"
                },
                {
                  "0": "140",
                  "1": "4",
                  "2": "Production Technician - WC20",
                  "3": "M",
                  "4": "2010-01-22",
                  "5": "0",
                  "6": "5",
                  "7": "22",
                  "8": "14.00",
                  "9": "2010-01-22 00:00:00.000",
                  "10": "1"
                },
                {
                  "0": "141",
                  "1": "4",
                  "2": "Production Technician - WC20",
                  "3": "M",
                  "4": "2010-01-24",
                  "5": "0",
                  "6": "1",
                  "7": "20",
                  "8": "14.00",
                  "9": "2010-01-24 00:00:00.000",
                  "10": "1"
                },
                {
                  "0": "142",
                  "1": "4",
                  "2": "Production Technician - WC20",
                  "3": "F",
                  "4": "2010-03-04",
                  "5": "0",
                  "6": "3",
                  "7": "21",
                  "8": "14.00",
                  "9": "2010-03-04 00:00:00.000",
                  "10": "1"
                },
                {
                  "0": "143",
                  "1": "4",
                  "2": "Production Technician - WC20",
                  "3": "M",
                  "4": "2010-02-13",
                  "5": "0",
                  "6": "2",
                  "7": "21",
                  "8": "14.00",
                  "9": "2010-02-13 00:00:00.000",
                  "10": "1"
                },
                {
                  "0": "144",
                  "1": "4",
                  "2": "Production Technician - WC20",
                  "3": "M",
                  "4": "2009-01-17",
                  "5": "0",
                  "6": "6",
                  "7": "23",
                  "8": "14.00",
                  "9": "2009-01-17 00:00:00.000",
                  "10": "1"
                },
                {
                  "0": "145",
                  "1": "3",
                  "2": "Production Supervisor - WC30",
                  "3": "F",
                  "4": "2009-01-27",
                  "5": "0",
                  "6": "69",
                  "7": "54",
                  "8": "25.00",
                  "9": "2009-01-27 00:00:00.000",
                  "10": "2"
                },
                {
                  "0": "146",
                  "1": "4",
                  "2": "Production Technician - WC30",
                  "3": "M",
                  "4": "2008-12-07",
                  "5": "0",
                  "6": "36",
                  "7": "38",
                  "8": "9.50",
                  "9": "2008-12-07 00:00:00.000",
                  "10": "1"
                },
                {
                  "0": "147",
                  "1": "4",
                  "2": "Production Technician - WC30",
                  "3": "F",
                  "4": "2008-12-26",
                  "5": "0",
                  "6": "37",
                  "7": "38",
                  "8": "9.50",
                  "9": "2008-12-26 00:00:00.000",
                  "10": "1"
                },
                {
                  "0": "148",
                  "1": "4",
                  "2": "Production Technician - WC30",
                  "3": "M",
                  "4": "2009-01-14",
                  "5": "0",
                  "6": "38",
                  "7": "39",
                  "8": "9.50",
                  "9": "2009-01-14 00:00:00.000",
                  "10": "1"
                },
                {
                  "0": "149",
                  "1": "4",
                  "2": "Production Technician - WC30",
                  "3": "M",
                  "4": "2009-01-31",
                  "5": "0",
                  "6": "39",
                  "7": "39",
                  "8": "9.50",
                  "9": "2009-01-31 00:00:00.000",
                  "10": "1"
                },
                {
                  "0": "150",
                  "1": "4",
                  "2": "Production Technician - WC30",
                  "3": "M",
                  "4": "2009-02-26",
                  "5": "0",
                  "6": "35",
                  "7": "37",
                  "8": "9.50",
                  "9": "2009-02-26 00:00:00.000",
                  "10": "1"
                },
                {
                  "0": "151",
                  "1": "4",
                  "2": "Production Technician - WC30",
                  "3": "M",
                  "4": "2009-02-19",
                  "5": "0",
                  "6": "40",
                  "7": "40",
                  "8": "9.50",
                  "9": "2009-02-19 00:00:00.000",
                  "10": "1"
                },
                {
                  "0": "152",
                  "1": "3",
                  "2": "Production Supervisor - WC20",
                  "3": "M",
                  "4": "2009-02-01",
                  "5": "0",
                  "6": "41",
                  "7": "40",
                  "8": "25.00",
                  "9": "2009-02-01 00:00:00.000",
                  "10": "2"
                },
                {
                  "0": "153",
                  "1": "4",
                  "2": "Production Technician - WC20",
                  "3": "M",
                  "4": "2008-12-16",
                  "5": "0",
                  "6": "15",
                  "7": "27",
                  "8": "14.00",
                  "9": "2008-12-16 00:00:00.000",
                  "10": "1"
                },
                {
                  "0": "154",
                  "1": "4",
                  "2": "Production Technician - WC20",
                  "3": "M",
                  "4": "2008-12-23",
                  "5": "0",
                  "6": "10",
                  "7": "25",
                  "8": "14.00",
                  "9": "2008-12-23 00:00:00.000",
                  "10": "1"
                },
                {
                  "0": "155",
                  "1": "4",
                  "2": "Production Technician - WC20",
                  "3": "M",
                  "4": "2009-01-04",
                  "5": "0",
                  "6": "16",
                  "7": "28",
                  "8": "14.00",
                  "9": "2009-01-04 00:00:00.000",
                  "10": "1"
                },
                {
                  "0": "156",
                  "1": "4",
                  "2": "Production Technician - WC20",
                  "3": "M",
                  "4": "2009-01-11",
                  "5": "0",
                  "6": "11",
                  "7": "25",
                  "8": "14.00",
                  "9": "2009-01-11 00:00:00.000",
                  "10": "1"
                },
                {
                  "0": "157",
                  "1": "4",
                  "2": "Production Technician - WC20",
                  "3": "F",
                  "4": "2009-02-03",
                  "5": "0",
                  "6": "12",
                  "7": "26",
                  "8": "14.00",
                  "9": "2009-02-03 00:00:00.000",
                  "10": "1"
                },
                {
                  "0": "158",
                  "1": "4",
                  "2": "Production Technician - WC20",
                  "3": "F",
                  "4": "2009-03-07",
                  "5": "0",
                  "6": "14",
                  "7": "27",
                  "8": "14.00",
                  "9": "2009-03-07 00:00:00.000",
                  "10": "1"
                },
                {
                  "0": "159",
                  "1": "4",
                  "2": "Production Technician - WC20",
                  "3": "M",
                  "4": "2009-02-16",
                  "5": "0",
                  "6": "13",
                  "7": "26",
                  "8": "14.00",
                  "9": "2009-02-16 00:00:00.000",
                  "10": "1"
                },
                {
                  "0": "160",
                  "1": "3",
                  "2": "Production Supervisor - WC45",
                  "3": "M",
                  "4": "2009-01-21",
                  "5": "0",
                  "6": "74",
                  "7": "57",
                  "8": "25.00",
                  "9": "2009-01-21 00:00:00.000",
                  "10": "2"
                },
                {
                  "0": "161",
                  "1": "4",
                  "2": "Production Technician - WC45",
                  "3": "M",
                  "4": "2008-12-15",
                  "5": "0",
                  "6": "74",
                  "7": "57",
                  "8": "10.00",
                  "9": "2008-12-15 00:00:00.000",
                  "10": "1"
                },
                {
                  "0": "162",
                  "1": "4",
                  "2": "Production Technician - WC45",
                  "3": "F",
                  "4": "2009-01-03",
                  "5": "0",
                  "6": "75",
                  "7": "57",
                  "8": "10.00",
                  "9": "2009-01-03 00:00:00.000",
                  "10": "1"
                },
                {
                  "0": "163",
                  "1": "4",
                  "2": "Production Technician - WC45",
                  "3": "M",
                  "4": "2009-02-08",
                  "5": "0",
                  "6": "77",
                  "7": "58",
                  "8": "10.00",
                  "9": "2009-02-08 00:00:00.000",
                  "10": "1"
                },
                {
                  "0": "164",
                  "1": "4",
                  "2": "Production Technician - WC45",
                  "3": "M",
                  "4": "2009-03-06",
                  "5": "0",
                  "6": "73",
                  "7": "56",
                  "8": "10.00",
                  "9": "2009-03-06 00:00:00.000",
                  "10": "1"
                },
                {
                  "0": "165",
                  "1": "4",
                  "2": "Production Technician - WC45",
                  "3": "M",
                  "4": "2009-01-22",
                  "5": "0",
                  "6": "76",
                  "7": "58",
                  "8": "10.00",
                  "9": "2009-01-22 00:00:00.000",
                  "10": "1"
                },
                {
                  "0": "166",
                  "1": "3",
                  "2": "Production Supervisor - WC30",
                  "3": "M",
                  "4": "2009-02-21",
                  "5": "0",
                  "6": "68",
                  "7": "54",
                  "8": "25.00",
                  "9": "2009-02-21 00:00:00.000",
                  "10": "2"
                },
                {
                  "0": "167",
                  "1": "4",
                  "2": "Production Technician - WC30",
                  "3": "M",
                  "4": "2008-12-02",
                  "5": "0",
                  "6": "25",
                  "7": "32",
                  "8": "9.50",
                  "9": "2013-07-14 00:00:00.000",
                  "10": "1"
                },
                {
                  "0": "168",
                  "1": "4",
                  "2": "Production Technician - WC30",
                  "3": "M",
                  "4": "2008-12-07",
                  "5": "0",
                  "6": "34",
                  "7": "37",
                  "8": "9.50",
                  "9": "2008-12-07 00:00:00.000",
                  "10": "1"
                },
                {
                  "0": "169",
                  "1": "4",
                  "2": "Production Technician - WC30",
                  "3": "F",
                  "4": "2008-12-14",
                  "5": "0",
                  "6": "31",
                  "7": "35",
                  "8": "9.50",
                  "9": "2008-12-14 00:00:00.000",
                  "10": "1"
                },
                {
                  "0": "170",
                  "1": "4",
                  "2": "Production Technician - WC30",
                  "3": "M",
                  "4": "2008-12-21",
                  "5": "0",
                  "6": "26",
                  "7": "33",
                  "8": "9.50",
                  "9": "2013-07-14 00:00:00.000",
                  "10": "1"
                },
                {
                  "0": "171",
                  "1": "4",
                  "2": "Production Technician - WC30",
                  "3": "M",
                  "4": "2009-01-02",
                  "5": "0",
                  "6": "32",
                  "7": "36",
                  "8": "9.50",
                  "9": "2009-01-02 00:00:00.000",
                  "10": "1"
                },
                {
                  "0": "172",
                  "1": "4",
                  "2": "Production Technician - WC30",
                  "3": "M",
                  "4": "2009-01-16",
                  "5": "0",
                  "6": "22",
                  "7": "31",
                  "8": "9.50",
                  "9": "2013-07-14 00:00:00.000",
                  "10": "1"
                },
                {
                  "0": "173",
                  "1": "4",
                  "2": "Production Technician - WC30",
                  "3": "M",
                  "4": "2009-01-21",
                  "5": "0",
                  "6": "33",
                  "7": "36",
                  "8": "9.50",
                  "9": "2009-01-21 00:00:00.000",
                  "10": "1"
                },
                {
                  "0": "174",
                  "1": "4",
                  "2": "Production Technician - WC30",
                  "3": "M",
                  "4": "2009-01-27",
                  "5": "0",
                  "6": "28",
                  "7": "34",
                  "8": "9.50",
                  "9": "2013-07-14 00:00:00.000",
                  "10": "1"
                },
                {
                  "0": "175",
                  "1": "4",
                  "2": "Production Technician - WC30",
                  "3": "M",
                  "4": "2009-02-02",
                  "5": "0",
                  "6": "23",
                  "7": "31",
                  "8": "9.50",
                  "9": "2013-07-14 00:00:00.000",
                  "10": "1"
                },
                {
                  "0": "176",
                  "1": "4",
                  "2": "Production Technician - WC30",
                  "3": "M",
                  "4": "2009-02-14",
                  "5": "0",
                  "6": "29",
                  "7": "34",
                  "8": "9.50",
                  "9": "2013-07-14 00:00:00.000",
                  "10": "1"
                },
                {
                  "0": "177",
                  "1": "4",
                  "2": "Production Technician - WC30",
                  "3": "M",
                  "4": "2009-02-21",
                  "5": "0",
                  "6": "24",
                  "7": "32",
                  "8": "9.50",
                  "9": "2013-07-14 00:00:00.000",
                  "10": "1"
                },
                {
                  "0": "178",
                  "1": "4",
                  "2": "Production Technician - WC30",
                  "3": "M",
                  "4": "2009-03-03",
                  "5": "0",
                  "6": "27",
                  "7": "33",
                  "8": "9.50",
                  "9": "2013-07-14 00:00:00.000",
                  "10": "1"
                },
                {
                  "0": "179",
                  "1": "4",
                  "2": "Production Technician - WC30",
                  "3": "M",
                  "4": "2009-03-05",
                  "5": "0",
                  "6": "30",
                  "7": "35",
                  "8": "9.50",
                  "9": "2009-03-05 00:00:00.000",
                  "10": "1"
                },
                {
                  "0": "180",
                  "1": "3",
                  "2": "Production Supervisor - WC20",
                  "3": "F",
                  "4": "2009-02-20",
                  "5": "0",
                  "6": "42",
                  "7": "41",
                  "8": "25.00",
                  "9": "2009-02-20 00:00:00.000",
                  "10": "2"
                },
                {
                  "0": "181",
                  "1": "4",
                  "2": "Production Technician - WC20",
                  "3": "M",
                  "4": "2008-12-09",
                  "5": "0",
                  "6": "20",
                  "7": "30",
                  "8": "14.00",
                  "9": "2008-12-09 00:00:00.000",
                  "10": "1"
                },
                {
                  "0": "182",
                  "1": "4",
                  "2": "Production Technician - WC20",
                  "3": "M",
                  "4": "2008-12-28",
                  "5": "0",
                  "6": "21",
                  "7": "30",
                  "8": "14.00",
                  "9": "2008-12-28 00:00:00.000",
                  "10": "1"
                },
                {
                  "0": "183",
                  "1": "4",
                  "2": "Production Technician - WC20",
                  "3": "F",
                  "4": "2009-01-22",
                  "5": "0",
                  "6": "17",
                  "7": "28",
                  "8": "14.00",
                  "9": "2009-01-22 00:00:00.000",
                  "10": "1"
                },
                {
                  "0": "184",
                  "1": "4",
                  "2": "Production Technician - WC20",
                  "3": "M",
                  "4": "2009-02-09",
                  "5": "0",
                  "6": "18",
                  "7": "29",
                  "8": "14.00",
                  "9": "2009-02-09 00:00:00.000",
                  "10": "1"
                },
                {
                  "0": "185",
                  "1": "4",
                  "2": "Production Technician - WC20",
                  "3": "M",
                  "4": "2009-02-28",
                  "5": "0",
                  "6": "19",
                  "7": "29",
                  "8": "14.00",
                  "9": "2009-02-28 00:00:00.000",
                  "10": "1"
                },
                {
                  "0": "186",
                  "1": "3",
                  "2": "Production Supervisor - WC45",
                  "3": "M",
                  "4": "2009-02-08",
                  "5": "0",
                  "6": "75",
                  "7": "57",
                  "8": "25.00",
                  "9": "2009-02-08 00:00:00.000",
                  "10": "2"
                },
                {
                  "0": "187",
                  "1": "4",
                  "2": "Production Technician - WC45",
                  "3": "F",
                  "4": "2008-12-09",
                  "5": "0",
                  "6": "79",
                  "7": "59",
                  "8": "10.00",
                  "9": "2008-12-09 00:00:00.000",
                  "10": "1"
                },
                {
                  "0": "188",
                  "1": "4",
                  "2": "Production Technician - WC45",
                  "3": "M",
                  "4": "2008-12-27",
                  "5": "0",
                  "6": "80",
                  "7": "60",
                  "8": "10.00",
                  "9": "2008-12-27 00:00:00.000",
                  "10": "1"
                },
                {
                  "0": "189",
                  "1": "4",
                  "2": "Production Technician - WC45",
                  "3": "F",
                  "4": "2009-01-15",
                  "5": "0",
                  "6": "81",
                  "7": "60",
                  "8": "10.00",
                  "9": "2009-01-15 00:00:00.000",
                  "10": "1"
                },
                {
                  "0": "190",
                  "1": "4",
                  "2": "Production Technician - WC45",
                  "3": "M",
                  "4": "2009-02-02",
                  "5": "0",
                  "6": "82",
                  "7": "61",
                  "8": "10.00",
                  "9": "2009-02-02 00:00:00.000",
                  "10": "1"
                },
                {
                  "0": "191",
                  "1": "4",
                  "2": "Production Technician - WC45",
                  "3": "M",
                  "4": "2009-02-26",
                  "5": "0",
                  "6": "78",
                  "7": "59",
                  "8": "10.00",
                  "9": "2009-02-26 00:00:00.000",
                  "10": "1"
                },
                {
                  "0": "192",
                  "1": "3",
                  "2": "Production Supervisor - WC40",
                  "3": "F",
                  "4": "2009-03-05",
                  "5": "0",
                  "6": "71",
                  "7": "55",
                  "8": "25.00",
                  "9": "2009-03-05 00:00:00.000",
                  "10": "2"
                },
                {
                  "0": "193",
                  "1": "4",
                  "2": "Production Technician - WC40",
                  "3": "M",
                  "4": "2008-12-06",
                  "5": "0",
                  "6": "52",
                  "7": "46",
                  "8": "15.00",
                  "9": "2008-12-06 00:00:00.000",
                  "10": "1"
                },
                {
                  "0": "194",
                  "1": "4",
                  "2": "Production Technician - WC40",
                  "3": "M",
                  "4": "2008-12-12",
                  "5": "0",
                  "6": "47",
                  "7": "43",
                  "8": "15.00",
                  "9": "2008-12-12 00:00:00.000",
                  "10": "1"
                },
                {
                  "0": "195",
                  "1": "4",
                  "2": "Production Technician - WC40",
                  "3": "M",
                  "4": "2008-12-17",
                  "5": "0",
                  "6": "58",
                  "7": "49",
                  "8": "15.00",
                  "9": "2008-12-17 00:00:00.000",
                  "10": "1"
                },
                {
                  "0": "196",
                  "1": "4",
                  "2": "Production Technician - WC40",
                  "3": "M",
                  "4": "2008-12-24",
                  "5": "0",
                  "6": "53",
                  "7": "46",
                  "8": "15.00",
                  "9": "2008-12-24 00:00:00.000",
                  "10": "1"
                },
                {
                  "0": "197",
                  "1": "4",
                  "2": "Production Technician - WC40",
                  "3": "M",
                  "4": "2008-12-31",
                  "5": "0",
                  "6": "48",
                  "7": "44",
                  "8": "15.00",
                  "9": "2008-12-31 00:00:00.000",
                  "10": "1"
                },
                {
                  "0": "198",
                  "1": "4",
                  "2": "Production Technician - WC40",
                  "3": "F",
                  "4": "2009-01-04",
                  "5": "0",
                  "6": "49",
                  "7": "44",
                  "8": "15.00",
                  "9": "2009-01-04 00:00:00.000",
                  "10": "1"
                },
                {
                  "0": "199",
                  "1": "4",
                  "2": "Production Technician - WC40",
                  "3": "F",
                  "4": "2009-01-12",
                  "5": "0",
                  "6": "54",
                  "7": "47",
                  "8": "15.00",
                  "9": "2009-01-12 00:00:00.000",
                  "10": "1"
                },
                {
                  "0": "200",
                  "1": "4",
                  "2": "Production Technician - WC40",
                  "3": "M",
                  "4": "2009-01-17",
                  "5": "0",
                  "6": "56",
                  "7": "48",
                  "8": "15.00",
                  "9": "2009-01-17 00:00:00.000",
                  "10": "1"
                },
                {
                  "0": "201",
                  "1": "4",
                  "2": "Production Technician - WC40",
                  "3": "M",
                  "4": "2009-01-29",
                  "5": "0",
                  "6": "55",
                  "7": "47",
                  "8": "15.00",
                  "9": "2009-01-29 00:00:00.000",
                  "10": "1"
                },
                {
                  "0": "202",
                  "1": "4",
                  "2": "Production Technician - WC40",
                  "3": "M",
                  "4": "2009-02-05",
                  "5": "0",
                  "6": "50",
                  "7": "45",
                  "8": "15.00",
                  "9": "2009-02-05 00:00:00.000",
                  "10": "1"
                },
                {
                  "0": "203",
                  "1": "4",
                  "2": "Production Technician - WC40",
                  "3": "M",
                  "4": "2009-02-24",
                  "5": "0",
                  "6": "51",
                  "7": "45",
                  "8": "15.00",
                  "9": "2009-02-24 00:00:00.000",
                  "10": "1"
                },
                {
                  "0": "204",
                  "1": "4",
                  "2": "Production Technician - WC40",
                  "3": "M",
                  "4": "2009-03-08",
                  "5": "0",
                  "6": "57",
                  "7": "48",
                  "8": "15.00",
                  "9": "2009-03-08 00:00:00.000",
                  "10": "1"
                },
                {
                  "0": "205",
                  "1": "3",
                  "2": "Production Supervisor - WC45",
                  "3": "F",
                  "4": "2009-02-26",
                  "5": "0",
                  "6": "76",
                  "7": "58",
                  "8": "25.00",
                  "9": "2009-02-26 00:00:00.000",
                  "10": "2"
                },
                {
                  "0": "206",
                  "1": "4",
                  "2": "Production Technician - WC45",
                  "3": "M",
                  "4": "2008-12-02",
                  "5": "0",
                  "6": "84",
                  "7": "62",
                  "8": "10.00",
                  "9": "2008-12-02 00:00:00.000",
                  "10": "1"
                },
                {
                  "0": "207",
                  "1": "4",
                  "2": "Production Technician - WC45",
                  "3": "M",
                  "4": "2008-12-02",
                  "5": "0",
                  "6": "85",
                  "7": "62",
                  "8": "10.00",
                  "9": "2008-12-02 00:00:00.000",
                  "10": "1"
                },
                {
                  "0": "208",
                  "1": "4",
                  "2": "Production Technician - WC45",
                  "3": "M",
                  "4": "2009-01-08",
                  "5": "0",
                  "6": "86",
                  "7": "63",
                  "8": "10.00",
                  "9": "2009-01-08 00:00:00.000",
                  "10": "1"
                },
                {
                  "0": "209",
                  "1": "4",
                  "2": "Production Technician - WC45",
                  "3": "F",
                  "4": "2009-01-27",
                  "5": "0",
                  "6": "87",
                  "7": "63",
                  "8": "10.00",
                  "9": "2009-01-27 00:00:00.000",
                  "10": "1"
                },
                {
                  "0": "210",
                  "1": "4",
                  "2": "Production Technician - WC45",
                  "3": "F",
                  "4": "2009-02-20",
                  "5": "0",
                  "6": "83",
                  "7": "61",
                  "8": "10.00",
                  "9": "2009-02-20 00:00:00.000",
                  "10": "1"
                },
                {
                  "0": "211",
                  "1": "2",
                  "2": "Quality Assurance Manager",
                  "3": "M",
                  "4": "2009-02-28",
                  "5": "1",
                  "6": "80",
                  "7": "60",
                  "8": "28.8462",
                  "9": "2009-02-28 00:00:00.000",
                  "10": "2"
                },
                {
                  "0": "212",
                  "1": "3",
                  "2": "Quality Assurance Supervisor",
                  "3": "M",
                  "4": "2008-12-09",
                  "5": "1",
                  "6": "81",
                  "7": "60",
                  "8": "21.6346",
                  "9": "2008-12-09 00:00:00.000",
                  "10": "2"
                },
                {
                  "0": "213",
                  "1": "4",
                  "2": "Quality Assurance Technician",
                  "3": "M",
                  "4": "2010-02-23",
                  "5": "0",
                  "6": "85",
                  "7": "62",
                  "8": "10.5769",
                  "9": "2010-02-23 00:00:00.000",
                  "10": "2"
                },
                {
                  "0": "214",
                  "1": "4",
                  "2": "Quality Assurance Technician",
                  "3": "M",
                  "4": "2009-02-02",
                  "5": "0",
                  "6": "84",
                  "7": "62",
                  "8": "10.5769",
                  "9": "2009-02-02 00:00:00.000",
                  "10": "2"
                },
                {
                  "0": "215",
                  "1": "4",
                  "2": "Quality Assurance Technician",
                  "3": "M",
                  "4": "2009-01-15",
                  "5": "0",
                  "6": "83",
                  "7": "61",
                  "8": "10.5769",
                  "9": "2009-01-15 00:00:00.000",
                  "10": "2"
                },
                {
                  "0": "216",
                  "1": "4",
                  "2": "Quality Assurance Technician",
                  "3": "M",
                  "4": "2008-12-28",
                  "5": "0",
                  "6": "82",
                  "7": "61",
                  "8": "10.5769",
                  "9": "2008-12-28 00:00:00.000",
                  "10": "2"
                },
                {
                  "0": "217",
                  "1": "3",
                  "2": "Document Control Manager",
                  "3": "M",
                  "4": "2009-01-04",
                  "5": "0",
                  "6": "77",
                  "7": "58",
                  "8": "17.7885",
                  "9": "2009-01-04 00:00:00.000",
                  "10": "2"
                },
                {
                  "0": "218",
                  "1": "4",
                  "2": "Control Specialist",
                  "3": "M",
                  "4": "2008-12-16",
                  "5": "0",
                  "6": "76",
                  "7": "58",
                  "8": "16.8269",
                  "9": "2008-12-16 00:00:00.000",
                  "10": "2"
                },
                {
                  "0": "219",
                  "1": "4",
                  "2": "Document Control Assistant",
                  "3": "M",
                  "4": "2009-01-22",
                  "5": "0",
                  "6": "78",
                  "7": "59",
                  "8": "10.25",
                  "9": "2009-01-22 00:00:00.000",
                  "10": "2"
                },
                {
                  "0": "220",
                  "1": "4",
                  "2": "Document Control Assistant",
                  "3": "F",
                  "4": "2009-02-09",
                  "5": "0",
                  "6": "79",
                  "7": "59",
                  "8": "10.25",
                  "9": "2009-02-09 00:00:00.000",
                  "10": "2"
                },
                {
                  "0": "221",
                  "1": "4",
                  "2": "Control Specialist",
                  "3": "M",
                  "4": "2009-03-06",
                  "5": "0",
                  "6": "75",
                  "7": "57",
                  "8": "16.8269",
                  "9": "2009-03-06 00:00:00.000",
                  "10": "2"
                },
                {
                  "0": "222",
                  "1": "2",
                  "2": "Master Scheduler",
                  "3": "M",
                  "4": "2008-12-12",
                  "5": "0",
                  "6": "44",
                  "7": "42",
                  "8": "23.5577",
                  "9": "2008-12-12 00:00:00.000",
                  "10": "2"
                },
                {
                  "0": "223",
                  "1": "3",
                  "2": "Scheduling Assistant",
                  "3": "M",
                  "4": "2009-01-26",
                  "5": "0",
                  "6": "46",
                  "7": "43",
                  "8": "16.00",
                  "9": "2009-01-26 00:00:00.000",
                  "10": "2"
                },
                {
                  "0": "224",
                  "1": "3",
                  "2": "Scheduling Assistant",
                  "3": "M",
                  "4": "2009-01-07",
                  "5": "0",
                  "6": "45",
                  "7": "42",
                  "8": "16.00",
                  "9": "2012-01-01 00:00:00.000",
                  "10": "2"
                },
                {
                  "0": "225",
                  "1": "3",
                  "2": "Scheduling Assistant",
                  "3": "M",
                  "4": "2009-02-13",
                  "5": "0",
                  "6": "47",
                  "7": "43",
                  "8": "16.00",
                  "9": "2009-02-13 00:00:00.000",
                  "10": "2"
                },
                {
                  "0": "226",
                  "1": "3",
                  "2": "Scheduling Assistant",
                  "3": "M",
                  "4": "2009-03-03",
                  "5": "0",
                  "6": "48",
                  "7": "44",
                  "8": "16.00",
                  "9": "2009-03-03 00:00:00.000",
                  "10": "2"
                },
                {
                  "0": "227",
                  "1": "2",
                  "2": "Facilities Manager",
                  "3": "M",
                  "4": "2009-12-02",
                  "5": "1",
                  "6": "86",
                  "7": "63",
                  "8": "24.0385",
                  "9": "2009-12-02 00:00:00.000",
                  "10": "2"
                },
                {
                  "0": "228",
                  "1": "3",
                  "2": "Maintenance Supervisor",
                  "3": "M",
                  "4": "2008-12-14",
                  "5": "1",
                  "6": "92",
                  "7": "66",
                  "8": "20.4327",
                  "9": "2008-12-14 00:00:00.000",
                  "10": "2"
                },
                {
                  "0": "229",
                  "1": "4",
                  "2": "Janitor",
                  "3": "F",
                  "4": "2010-02-16",
                  "5": "0",
                  "6": "90",
                  "7": "65",
                  "8": "9.25",
                  "9": "2010-02-16 00:00:00.000",
                  "10": "1"
                },
                {
                  "0": "230",
                  "1": "4",
                  "2": "Janitor",
                  "3": "M",
                  "4": "2010-03-05",
                  "5": "0",
                  "6": "88",
                  "7": "64",
                  "8": "9.25",
                  "9": "2010-03-05 00:00:00.000",
                  "10": "1"
                },
                {
                  "0": "231",
                  "1": "4",
                  "2": "Janitor",
                  "3": "F",
                  "4": "2010-03-07",
                  "5": "0",
                  "6": "91",
                  "7": "65",
                  "8": "9.25",
                  "9": "2010-03-07 00:00:00.000",
                  "10": "1"
                },
                {
                  "0": "232",
                  "1": "4",
                  "2": "Janitor",
                  "3": "M",
                  "4": "2010-01-27",
                  "5": "0",
                  "6": "89",
                  "7": "64",
                  "8": "9.25",
                  "9": "2010-01-27 00:00:00.000",
                  "10": "1"
                },
                {
                  "0": "233",
                  "1": "3",
                  "2": "Facilities Administrative Assistant",
                  "3": "M",
                  "4": "2009-12-21",
                  "5": "0",
                  "6": "87",
                  "7": "63",
                  "8": "9.75",
                  "9": "2009-12-21 00:00:00.000",
                  "10": "2"
                },
                {
                  "0": "234",
                  "1": "1",
                  "2": "Chief Financial Officer",
                  "3": "F",
                  "4": "2009-01-31",
                  "5": "1",
                  "6": "0",
                  "7": "20",
                  "8": "60.0962",
                  "9": "2012-01-29 00:00:00.000",
                  "10": "2"
                },
                {
                  "0": "235",
                  "1": "2",
                  "2": "Human Resources Manager",
                  "3": "F",
                  "4": "2008-12-06",
                  "5": "1",
                  "6": "54",
                  "7": "47",
                  "8": "27.1394",
                  "9": "2008-12-06 00:00:00.000",
                  "10": "2"
                },
                {
                  "0": "236",
                  "1": "3",
                  "2": "Human Resources Administrative Assistant",
                  "3": "M",
                  "4": "2009-02-25",
                  "5": "0",
                  "6": "53",
                  "7": "46",
                  "8": "13.9423",
                  "9": "2009-02-25 00:00:00.000",
                  "10": "2"
                },
                {
                  "0": "237",
                  "1": "3",
                  "2": "Human Resources Administrative Assistant",
                  "3": "M",
                  "4": "2009-02-06",
                  "5": "0",
                  "6": "52",
                  "7": "46",
                  "8": "13.9423",
                  "9": "2009-02-06 00:00:00.000",
                  "10": "2"
                },
                {
                  "0": "238",
                  "1": "3",
                  "2": "Recruiter",
                  "3": "M",
                  "4": "2009-01-01",
                  "5": "0",
                  "6": "50",
                  "7": "45",
                  "8": "18.2692",
                  "9": "2009-01-01 00:00:00.000",
                  "10": "2"
                },
                {
                  "0": "239",
                  "1": "3",
                  "2": "Benefits Specialist",
                  "3": "F",
                  "4": "2008-12-25",
                  "5": "0",
                  "6": "51",
                  "7": "45",
                  "8": "16.5865",
                  "9": "2008-12-25 00:00:00.000",
                  "10": "2"
                },
                {
                  "0": "240",
                  "1": "3",
                  "2": "Recruiter",
                  "3": "M",
                  "4": "2008-12-13",
                  "5": "0",
                  "6": "49",
                  "7": "44",
                  "8": "18.2692",
                  "9": "2008-12-13 00:00:00.000",
                  "10": "2"
                },
                {
                  "0": "241",
                  "1": "2",
                  "2": "Accounts Manager",
                  "3": "M",
                  "4": "2009-01-30",
                  "5": "1",
                  "6": "57",
                  "7": "48",
                  "8": "34.7356",
                  "9": "2009-01-30 00:00:00.000",
                  "10": "2"
                },
                {
                  "0": "242",
                  "1": "3",
                  "2": "Accounts Receivable Specialist",
                  "3": "F",
                  "4": "2008-12-18",
                  "5": "0",
                  "6": "60",
                  "7": "50",
                  "8": "19.00",
                  "9": "2008-12-18 00:00:00.000",
                  "10": "2"
                },
                {
                  "0": "243",
                  "1": "3",
                  "2": "Accounts Receivable Specialist",
                  "3": "F",
                  "4": "2009-01-06",
                  "5": "0",
                  "6": "61",
                  "7": "50",
                  "8": "19.00",
                  "9": "2009-01-06 00:00:00.000",
                  "10": "2"
                },
                {
                  "0": "244",
                  "1": "3",
                  "2": "Accounts Receivable Specialist",
                  "3": "M",
                  "4": "2009-01-24",
                  "5": "0",
                  "6": "62",
                  "7": "51",
                  "8": "19.00",
                  "9": "2009-01-24 00:00:00.000",
                  "10": "2"
                },
                {
                  "0": "245",
                  "1": "3",
                  "2": "Accountant",
                  "3": "F",
                  "4": "2009-02-18",
                  "5": "1",
                  "6": "58",
                  "7": "49",
                  "8": "26.4423",
                  "9": "2009-02-18 00:00:00.000",
                  "10": "2"
                },
                {
                  "0": "246",
                  "1": "3",
                  "2": "Accounts Payable Specialist",
                  "3": "M",
                  "4": "2009-02-11",
                  "5": "0",
                  "6": "63",
                  "7": "51",
                  "8": "19.00",
                  "9": "2009-02-11 00:00:00.000",
                  "10": "2"
                },
                {
                  "0": "247",
                  "1": "3",
                  "2": "Accounts Payable Specialist",
                  "3": "F",
                  "4": "2009-03-01",
                  "5": "0",
                  "6": "64",
                  "7": "52",
                  "8": "19.00",
                  "9": "2009-03-01 00:00:00.000",
                  "10": "2"
                },
                {
                  "0": "248",
                  "1": "3",
                  "2": "Accountant",
                  "3": "M",
                  "4": "2009-03-08",
                  "5": "1",
                  "6": "59",
                  "7": "49",
                  "8": "26.4423",
                  "9": "2009-03-08 00:00:00.000",
                  "10": "2"
                },
                {
                  "0": "249",
                  "1": "2",
                  "2": "Finance Manager",
                  "3": "F",
                  "4": "2008-12-25",
                  "5": "1",
                  "6": "55",
                  "7": "47",
                  "8": "43.2692",
                  "9": "2008-12-25 00:00:00.000",
                  "10": "2"
                },
                {
                  "0": "250",
                  "1": "3",
                  "2": "Purchasing Manager",
                  "3": "F",
                  "4": "2011-02-25",
                  "5": "1",
                  "6": "49",
                  "7": "44",
                  "8": "30.00",
                  "9": "2012-07-14 00:00:00.000",
                  "10": "2"
                },
                {
                  "0": "251",
                  "1": "4",
                  "2": "Buyer",
                  "3": "M",
                  "4": "2009-02-10",
                  "5": "0",
                  "6": "59",
                  "7": "49",
                  "8": "18.2692",
                  "9": "2009-02-10 00:00:00.000",
                  "10": "2"
                },
                {
                  "0": "252",
                  "1": "4",
                  "2": "Buyer",
                  "3": "M",
                  "4": "2009-02-28",
                  "5": "0",
                  "6": "60",
                  "7": "50",
                  "8": "18.2692",
                  "9": "2009-02-28 00:00:00.000",
                  "10": "2"
                },
                {
                  "0": "253",
                  "1": "4",
                  "2": "Buyer",
                  "3": "F",
                  "4": "2009-12-17",
                  "5": "0",
                  "6": "56",
                  "7": "48",
                  "8": "18.2692",
                  "9": "2009-12-17 00:00:00.000",
                  "10": "2"
                },
                {
                  "0": "254",
                  "1": "4",
                  "2": "Buyer",
                  "3": "M",
                  "4": "2010-01-04",
                  "5": "0",
                  "6": "57",
                  "7": "48",
                  "8": "18.2692",
                  "9": "2010-01-04 00:00:00.000",
                  "10": "2"
                },
                {
                  "0": "255",
                  "1": "4",
                  "2": "Buyer",
                  "3": "M",
                  "4": "2010-01-11",
                  "5": "0",
                  "6": "52",
                  "7": "46",
                  "8": "18.2692",
                  "9": "2010-01-11 00:00:00.000",
                  "10": "2"
                },
                {
                  "0": "256",
                  "1": "4",
                  "2": "Buyer",
                  "3": "M",
                  "4": "2010-01-23",
                  "5": "0",
                  "6": "58",
                  "7": "49",
                  "8": "18.2692",
                  "9": "2010-01-23 00:00:00.000",
                  "10": "2"
                },
                {
                  "0": "257",
                  "1": "4",
                  "2": "Buyer",
                  "3": "M",
                  "4": "2010-01-27",
                  "5": "0",
                  "6": "54",
                  "7": "47",
                  "8": "18.2692",
                  "9": "2010-01-27 00:00:00.000",
                  "10": "2"
                },
                {
                  "0": "258",
                  "1": "4",
                  "2": "Buyer",
                  "3": "F",
                  "4": "2010-01-31",
                  "5": "0",
                  "6": "53",
                  "7": "46",
                  "8": "18.2692",
                  "9": "2010-01-31 00:00:00.000",
                  "10": "2"
                },
                {
                  "0": "259",
                  "1": "4",
                  "2": "Buyer",
                  "3": "M",
                  "4": "2010-03-09",
                  "5": "0",
                  "6": "55",
                  "7": "47",
                  "8": "18.2692",
                  "9": "2010-03-09 00:00:00.000",
                  "10": "2"
                },
                {
                  "0": "260",
                  "1": "4",
                  "2": "Purchasing Assistant",
                  "3": "F",
                  "4": "2010-12-06",
                  "5": "0",
                  "6": "50",
                  "7": "45",
                  "8": "12.75",
                  "9": "2010-12-06 00:00:00.000",
                  "10": "2"
                },
                {
                  "0": "261",
                  "1": "4",
                  "2": "Purchasing Assistant",
                  "3": "M",
                  "4": "2010-12-25",
                  "5": "0",
                  "6": "51",
                  "7": "45",
                  "8": "12.75",
                  "9": "2010-12-25 00:00:00.000",
                  "10": "2"
                },
                {
                  "0": "262",
                  "1": "2",
                  "2": "Assistant to the Chief Financial Officer",
                  "3": "M",
                  "4": "2009-01-12",
                  "5": "0",
                  "6": "56",
                  "7": "48",
                  "8": "13.4615",
                  "9": "2009-01-12 00:00:00.000",
                  "10": "2"
                },
                {
                  "0": "263",
                  "1": "1",
                  "2": "Information Services Manager",
                  "3": "F",
                  "4": "2008-12-11",
                  "5": "1",
                  "6": "65",
                  "7": "52",
                  "8": "50.4808",
                  "9": "2008-12-11 00:00:00.000",
                  "10": "2"
                },
                {
                  "0": "264",
                  "1": "2",
                  "2": "Network Manager",
                  "3": "F",
                  "4": "2009-02-04",
                  "5": "1",
                  "6": "68",
                  "7": "54",
                  "8": "39.6635",
                  "9": "2009-02-04 00:00:00.000",
                  "10": "2"
                },
                {
                  "0": "265",
                  "1": "3",
                  "2": "Network Administrator",
                  "3": "M",
                  "4": "2008-12-04",
                  "5": "0",
                  "6": "70",
                  "7": "55",
                  "8": "32.4519",
                  "9": "2008-12-04 00:00:00.000",
                  "10": "2"
                },
                {
                  "0": "266",
                  "1": "3",
                  "2": "Network Administrator",
                  "3": "M",
                  "4": "2009-02-23",
                  "5": "0",
                  "6": "69",
                  "7": "54",
                  "8": "32.4519",
                  "9": "2009-02-23 00:00:00.000",
                  "10": "2"
                },
                {
                  "0": "267",
                  "1": "2",
                  "2": "Application Specialist",
                  "3": "F",
                  "4": "2009-02-16",
                  "5": "1",
                  "6": "74",
                  "7": "57",
                  "8": "27.4038",
                  "9": "2009-02-16 00:00:00.000",
                  "10": "2"
                },
                {
                  "0": "268",
                  "1": "2",
                  "2": "Application Specialist",
                  "3": "M",
                  "4": "2009-02-03",
                  "5": "1",
                  "6": "73",
                  "7": "56",
                  "8": "27.4038",
                  "9": "2009-02-03 00:00:00.000",
                  "10": "2"
                },
                {
                  "0": "269",
                  "1": "2",
                  "2": "Application Specialist",
                  "3": "M",
                  "4": "2009-01-11",
                  "5": "1",
                  "6": "72",
                  "7": "56",
                  "8": "27.4038",
                  "9": "2009-01-11 00:00:00.000",
                  "10": "2"
                },
                {
                  "0": "270",
                  "1": "2",
                  "2": "Database Administrator",
                  "3": "M",
                  "4": "2009-01-17",
                  "5": "1",
                  "6": "67",
                  "7": "53",
                  "8": "38.4615",
                  "9": "2009-01-17 00:00:00.000",
                  "10": "2"
                },
                {
                  "0": "271",
                  "1": "2",
                  "2": "Database Administrator",
                  "3": "M",
                  "4": "2009-01-22",
                  "5": "1",
                  "6": "66",
                  "7": "53",
                  "8": "38.4615",
                  "9": "2009-01-22 00:00:00.000",
                  "10": "2"
                },
                {
                  "0": "272",
                  "1": "2",
                  "2": "Application Specialist",
                  "3": "F",
                  "4": "2008-12-23",
                  "5": "1",
                  "6": "71",
                  "7": "55",
                  "8": "27.4038",
                  "9": "2008-12-23 00:00:00.000",
                  "10": "2"
                },
                {
                  "0": "273",
                  "1": "1",
                  "2": "Vice President of Sales",
                  "3": "M",
                  "4": "2011-02-15",
                  "5": "1",
                  "6": "10",
                  "7": "25",
                  "8": "72.1154",
                  "9": "2011-02-15 00:00:00.000",
                  "10": "2"
                },
                {
                  "0": "274",
                  "1": "2",
                  "2": "North American Sales Manager",
                  "3": "M",
                  "4": "2011-01-04",
                  "5": "1",
                  "6": "14",
                  "7": "27",
                  "8": "48.101",
                  "9": "2011-01-04 00:00:00.000",
                  "10": "2"
                },
                {
                  "0": "275",
                  "1": "3",
                  "2": "Sales Representative",
                  "3": "M",
                  "4": "2011-05-31",
                  "5": "1",
                  "6": "38",
                  "7": "39",
                  "8": "23.0769",
                  "9": "2011-05-31 00:00:00.000",
                  "10": "2"
                },
                {
                  "0": "276",
                  "1": "3",
                  "2": "Sales Representative",
                  "3": "F",
                  "4": "2011-05-31",
                  "5": "1",
                  "6": "27",
                  "7": "33",
                  "8": "23.0769",
                  "9": "2011-05-31 00:00:00.000",
                  "10": "2"
                },
                {
                  "0": "277",
                  "1": "3",
                  "2": "Sales Representative",
                  "3": "F",
                  "4": "2011-05-31",
                  "5": "1",
                  "6": "24",
                  "7": "32",
                  "8": "23.0769",
                  "9": "2011-05-31 00:00:00.000",
                  "10": "2"
                },
                {
                  "0": "278",
                  "1": "3",
                  "2": "Sales Representative",
                  "3": "M",
                  "4": "2011-05-31",
                  "5": "1",
                  "6": "33",
                  "7": "36",
                  "8": "23.0769",
                  "9": "2011-05-31 00:00:00.000",
                  "10": "2"
                },
                {
                  "0": "279",
                  "1": "3",
                  "2": "Sales Representative",
                  "3": "M",
                  "4": "2011-05-31",
                  "5": "1",
                  "6": "29",
                  "7": "34",
                  "8": "23.0769",
                  "9": "2011-05-31 00:00:00.000",
                  "10": "2"
                },
                {
                  "0": "280",
                  "1": "3",
                  "2": "Sales Representative",
                  "3": "F",
                  "4": "2011-05-31",
                  "5": "1",
                  "6": "22",
                  "7": "31",
                  "8": "23.0769",
                  "9": "2011-05-31 00:00:00.000",
                  "10": "2"
                },
                {
                  "0": "281",
                  "1": "3",
                  "2": "Sales Representative",
                  "3": "M",
                  "4": "2011-05-31",
                  "5": "1",
                  "6": "26",
                  "7": "33",
                  "8": "23.0769",
                  "9": "2011-05-31 00:00:00.000",
                  "10": "2"
                },
                {
                  "0": "282",
                  "1": "3",
                  "2": "Sales Representative",
                  "3": "M",
                  "4": "2011-05-31",
                  "5": "1",
                  "6": "31",
                  "7": "35",
                  "8": "23.0769",
                  "9": "2011-05-31 00:00:00.000",
                  "10": "2"
                },
                {
                  "0": "283",
                  "1": "3",
                  "2": "Sales Representative",
                  "3": "M",
                  "4": "2011-05-31",
                  "5": "1",
                  "6": "23",
                  "7": "31",
                  "8": "23.0769",
                  "9": "2011-05-31 00:00:00.000",
                  "10": "2"
                },
                {
                  "0": "284",
                  "1": "3",
                  "2": "Sales Representative",
                  "3": "M",
                  "4": "2012-09-30",
                  "5": "1",
                  "6": "39",
                  "7": "39",
                  "8": "23.0769",
                  "9": "2012-09-30 00:00:00.000",
                  "10": "2"
                },
                {
                  "0": "285",
                  "1": "2",
                  "2": "Pacific Sales Manager",
                  "3": "M",
                  "4": "2013-03-14",
                  "5": "1",
                  "6": "20",
                  "7": "30",
                  "8": "48.101",
                  "9": "2013-03-14 00:00:00.000",
                  "10": "2"
                },
                {
                  "0": "286",
                  "1": "3",
                  "2": "Sales Representative",
                  "3": "F",
                  "4": "2013-05-30",
                  "5": "1",
                  "6": "36",
                  "7": "38",
                  "8": "23.0769",
                  "9": "2013-05-30 00:00:00.000",
                  "10": "2"
                },
                {
                  "0": "287",
                  "1": "2",
                  "2": "European Sales Manager",
                  "3": "F",
                  "4": "2012-04-16",
                  "5": "1",
                  "6": "21",
                  "7": "30",
                  "8": "48.101",
                  "9": "2012-04-16 00:00:00.000",
                  "10": "2"
                },
                {
                  "0": "288",
                  "1": "3",
                  "2": "Sales Representative",
                  "3": "F",
                  "4": "2013-05-30",
                  "5": "1",
                  "6": "35",
                  "7": "37",
                  "8": "23.0769",
                  "9": "2013-05-30 00:00:00.000",
                  "10": "2"
                },
                {
                  "0": "289",
                  "1": "3",
                  "2": "Sales Representative",
                  "3": "F",
                  "4": "2012-05-30",
                  "5": "1",
                  "6": "37",
                  "7": "38",
                  "8": "23.0769",
                  "9": "2012-05-30 00:00:00.000",
                  "10": "2"
                },
                {
                  "0": "290",
                  "1": "3",
                  "2": "Sales Representative",
                  "3": "M",
                  "4": "2012-05-30",
                  "5": "1",
                  "6": "34",
                  "7": "37",
                  "8": "23.0769",
                  "9": "2012-05-30 00:00:00.000",
                  "10": "2"
                }
              ]
            },
            "text/html": "<table><tr><th>BusinessEntityID</th><th>OrganizationLevel</th><th>JobTitle</th><th>Gender</th><th>HireDate</th><th>SalariedFlag</th><th>VacationHours</th><th>SickLeaveHours</th><th>Rate</th><th>RateChangeDate</th><th>PayFrequency</th></tr><tr><td>1</td><td>NULL</td><td>Chief Executive Officer</td><td>M</td><td>2009-01-14</td><td>1</td><td>99</td><td>69</td><td>125.50</td><td>2009-01-14 00:00:00.000</td><td>2</td></tr><tr><td>2</td><td>1</td><td>Vice President of Engineering</td><td>F</td><td>2008-01-31</td><td>1</td><td>1</td><td>20</td><td>63.4615</td><td>2008-01-31 00:00:00.000</td><td>2</td></tr><tr><td>3</td><td>2</td><td>Engineering Manager</td><td>M</td><td>2007-11-11</td><td>1</td><td>2</td><td>21</td><td>43.2692</td><td>2007-11-11 00:00:00.000</td><td>2</td></tr><tr><td>4</td><td>3</td><td>Senior Tool Designer</td><td>M</td><td>2007-12-05</td><td>0</td><td>48</td><td>80</td><td>29.8462</td><td>2011-12-15 00:00:00.000</td><td>2</td></tr><tr><td>5</td><td>3</td><td>Design Engineer</td><td>F</td><td>2008-01-06</td><td>1</td><td>5</td><td>22</td><td>32.6923</td><td>2008-01-06 00:00:00.000</td><td>2</td></tr><tr><td>6</td><td>3</td><td>Design Engineer</td><td>M</td><td>2008-01-24</td><td>1</td><td>6</td><td>23</td><td>32.6923</td><td>2008-01-24 00:00:00.000</td><td>2</td></tr><tr><td>7</td><td>3</td><td>Research and Development Manager</td><td>M</td><td>2009-02-08</td><td>1</td><td>61</td><td>50</td><td>50.4808</td><td>2009-02-08 00:00:00.000</td><td>2</td></tr><tr><td>8</td><td>4</td><td>Research and Development Engineer</td><td>F</td><td>2008-12-29</td><td>1</td><td>62</td><td>51</td><td>40.8654</td><td>2008-12-29 00:00:00.000</td><td>2</td></tr><tr><td>9</td><td>4</td><td>Research and Development Engineer</td><td>F</td><td>2009-01-16</td><td>1</td><td>63</td><td>51</td><td>40.8654</td><td>2009-01-16 00:00:00.000</td><td>2</td></tr><tr><td>10</td><td>4</td><td>Research and Development Manager</td><td>M</td><td>2009-05-03</td><td>1</td><td>16</td><td>64</td><td>42.4808</td><td>2009-05-03 00:00:00.000</td><td>2</td></tr><tr><td>11</td><td>3</td><td>Senior Tool Designer</td><td>M</td><td>2010-12-05</td><td>0</td><td>7</td><td>23</td><td>28.8462</td><td>2010-12-05 00:00:00.000</td><td>2</td></tr><tr><td>12</td><td>4</td><td>Tool Designer</td><td>M</td><td>2007-12-11</td><td>0</td><td>9</td><td>24</td><td>25.00</td><td>2007-12-11 00:00:00.000</td><td>2</td></tr><tr><td>13</td><td>4</td><td>Tool Designer</td><td>F</td><td>2010-12-23</td><td>0</td><td>8</td><td>24</td><td>25.00</td><td>2010-12-23 00:00:00.000</td><td>2</td></tr><tr><td>14</td><td>3</td><td>Senior Design Engineer</td><td>M</td><td>2010-12-30</td><td>1</td><td>3</td><td>21</td><td>36.0577</td><td>2010-12-30 00:00:00.000</td><td>2</td></tr><tr><td>15</td><td>3</td><td>Design Engineer</td><td>F</td><td>2011-01-18</td><td>1</td><td>4</td><td>22</td><td>32.6923</td><td>2011-01-18 00:00:00.000</td><td>2</td></tr><tr><td>16</td><td>1</td><td>Marketing Manager</td><td>M</td><td>2007-12-20</td><td>1</td><td>40</td><td>40</td><td>37.50</td><td>2012-04-30 00:00:00.000</td><td>2</td></tr><tr><td>17</td><td>2</td><td>Marketing Assistant</td><td>M</td><td>2007-01-26</td><td>0</td><td>42</td><td>41</td><td>13.4615</td><td>2007-01-26 00:00:00.000</td><td>2</td></tr><tr><td>18</td><td>2</td><td>Marketing Specialist</td><td>M</td><td>2011-02-07</td><td>0</td><td>48</td><td>44</td><td>14.4231</td><td>2011-02-07 00:00:00.000</td><td>2</td></tr><tr><td>19</td><td>2</td><td>Marketing Assistant</td><td>F</td><td>2011-02-14</td><td>0</td><td>43</td><td>41</td><td>13.4615</td><td>2011-02-14 00:00:00.000</td><td>2</td></tr><tr><td>20</td><td>2</td><td>Marketing Assistant</td><td>F</td><td>2011-01-07</td><td>0</td><td>41</td><td>40</td><td>13.4615</td><td>2011-01-07 00:00:00.000</td><td>2</td></tr><tr><td>21</td><td>2</td><td>Marketing Specialist</td><td>M</td><td>2009-03-02</td><td>0</td><td>44</td><td>42</td><td>14.4231</td><td>2009-03-02 00:00:00.000</td><td>2</td></tr><tr><td>22</td><td>2</td><td>Marketing Specialist</td><td>M</td><td>2008-12-12</td><td>0</td><td>45</td><td>42</td><td>14.4231</td><td>2008-12-12 00:00:00.000</td><td>2</td></tr><tr><td>23</td><td>2</td><td>Marketing Specialist</td><td>F</td><td>2009-01-12</td><td>0</td><td>46</td><td>43</td><td>14.4231</td><td>2009-01-12 00:00:00.000</td><td>2</td></tr><tr><td>24</td><td>2</td><td>Marketing Specialist</td><td>F</td><td>2009-01-18</td><td>0</td><td>47</td><td>43</td><td>14.4231</td><td>2009-01-18 00:00:00.000</td><td>2</td></tr><tr><td>25</td><td>1</td><td>Vice President of Production</td><td>M</td><td>2009-02-03</td><td>1</td><td>64</td><td>52</td><td>84.1346</td><td>2009-02-03 00:00:00.000</td><td>2</td></tr><tr><td>26</td><td>2</td><td>Production Control Manager</td><td>M</td><td>2008-12-01</td><td>1</td><td>43</td><td>41</td><td>24.5192</td><td>2008-12-01 00:00:00.000</td><td>2</td></tr><tr><td>27</td><td>3</td><td>Production Supervisor - WC60</td><td>F</td><td>2008-02-27</td><td>0</td><td>80</td><td>60</td><td>25.00</td><td>2008-02-27 00:00:00.000</td><td>2</td></tr><tr><td>28</td><td>4</td><td>Production Technician - WC60</td><td>M</td><td>2006-06-30</td><td>0</td><td>21</td><td>30</td><td>12.45</td><td>2006-06-30 00:00:00.000</td><td>1</td></tr><tr><td>29</td><td>4</td><td>Production Technician - WC60</td><td>M</td><td>2009-01-23</td><td>0</td><td>19</td><td>29</td><td>12.45</td><td>2009-01-23 00:00:00.000</td><td>1</td></tr><tr><td>30</td><td>4</td><td>Production Technician - WC60</td><td>F</td><td>2009-01-29</td><td>0</td><td>14</td><td>27</td><td>12.45</td><td>2009-01-29 00:00:00.000</td><td>1</td></tr><tr><td>31</td><td>4</td><td>Production Technician - WC60</td><td>F</td><td>2009-01-04</td><td>0</td><td>18</td><td>29</td><td>12.45</td><td>2009-01-04 00:00:00.000</td><td>1</td></tr><tr><td>32</td><td>4</td><td>Production Technician - WC60</td><td>F</td><td>2008-12-29</td><td>0</td><td>23</td><td>31</td><td>12.45</td><td>2008-12-29 00:00:00.000</td><td>1</td></tr><tr><td>33</td><td>4</td><td>Production Technician - WC60</td><td>M</td><td>2008-12-17</td><td>0</td><td>17</td><td>28</td><td>12.45</td><td>2008-12-17 00:00:00.000</td><td>1</td></tr><tr><td>34</td><td>4</td><td>Production Technician - WC60</td><td>F</td><td>2009-02-16</td><td>0</td><td>15</td><td>27</td><td>12.45</td><td>2009-02-16 00:00:00.000</td><td>1</td></tr><tr><td>35</td><td>4</td><td>Production Technician - WC60</td><td>M</td><td>2009-02-08</td><td>0</td><td>22</td><td>31</td><td>12.45</td><td>2009-02-08 00:00:00.000</td><td>1</td></tr><tr><td>36</td><td>4</td><td>Production Technician - WC60</td><td>M</td><td>2009-02-10</td><td>0</td><td>20</td><td>30</td><td>12.45</td><td>2009-02-10 00:00:00.000</td><td>1</td></tr><tr><td>37</td><td>4</td><td>Production Technician - WC60</td><td>M</td><td>2009-03-07</td><td>0</td><td>16</td><td>28</td><td>12.45</td><td>2009-03-07 00:00:00.000</td><td>1</td></tr><tr><td>38</td><td>4</td><td>Production Technician - WC60</td><td>F</td><td>2010-01-16</td><td>0</td><td>24</td><td>32</td><td>12.45</td><td>2010-01-16 00:00:00.000</td><td>1</td></tr><tr><td>39</td><td>4</td><td>Production Technician - WC60</td><td>M</td><td>2010-02-05</td><td>0</td><td>25</td><td>32</td><td>12.45</td><td>2010-02-05 00:00:00.000</td><td>1</td></tr><tr><td>40</td><td>3</td><td>Production Supervisor - WC60</td><td>F</td><td>2007-12-26</td><td>0</td><td>82</td><td>61</td><td>25.00</td><td>2007-12-26 00:00:00.000</td><td>2</td></tr><tr><td>41</td><td>4</td><td>Production Technician - WC60</td><td>M</td><td>2009-01-21</td><td>0</td><td>35</td><td>37</td><td>12.45</td><td>2009-01-21 00:00:00.000</td><td>1</td></tr><tr><td>42</td><td>4</td><td>Production Technician - WC60</td><td>M</td><td>2008-12-27</td><td>0</td><td>39</td><td>39</td><td>12.45</td><td>2008-12-27 00:00:00.000</td><td>1</td></tr><tr><td>43</td><td>4</td><td>Production Technician - WC60</td><td>F</td><td>2009-01-02</td><td>0</td><td>34</td><td>37</td><td>12.45</td><td>2009-01-02 00:00:00.000</td><td>1</td></tr><tr><td>44</td><td>4</td><td>Production Technician - WC60</td><td>M</td><td>2008-12-08</td><td>0</td><td>38</td><td>39</td><td>12.45</td><td>2008-12-08 00:00:00.000</td><td>1</td></tr><tr><td>45</td><td>4</td><td>Production Technician - WC60</td><td>M</td><td>2009-02-26</td><td>0</td><td>37</td><td>38</td><td>12.45</td><td>2009-02-26 00:00:00.000</td><td>1</td></tr><tr><td>46</td><td>4</td><td>Production Technician - WC60</td><td>M</td><td>2009-02-08</td><td>0</td><td>36</td><td>38</td><td>12.45</td><td>2009-02-08 00:00:00.000</td><td>1</td></tr><tr><td>47</td><td>3</td><td>Production Supervisor - WC10</td><td>M</td><td>2009-02-22</td><td>0</td><td>65</td><td>52</td><td>25.00</td><td>2009-02-22 00:00:00.000</td><td>2</td></tr><tr><td>48</td><td>4</td><td>Production Technician - WC10</td><td>F</td><td>2008-01-06</td><td>0</td><td>83</td><td>61</td><td>13.45</td><td>2008-01-06 00:00:00.000</td><td>1</td></tr><tr><td>49</td><td>4</td><td>Production Technician - WC10</td><td>M</td><td>2008-01-07</td><td>0</td><td>88</td><td>64</td><td>13.45</td><td>2008-01-07 00:00:00.000</td><td>1</td></tr><tr><td>50</td><td>4</td><td>Production Technician - WC10</td><td>M</td><td>2008-02-02</td><td>0</td><td>84</td><td>62</td><td>13.45</td><td>2008-02-02 00:00:00.000</td><td>1</td></tr><tr><td>51</td><td>4</td><td>Production Technician - WC10</td><td>M</td><td>2008-02-20</td><td>0</td><td>85</td><td>62</td><td>13.45</td><td>2008-02-20 00:00:00.000</td><td>1</td></tr><tr><td>52</td><td>4</td><td>Production Technician - WC10</td><td>F</td><td>2008-03-10</td><td>0</td><td>86</td><td>63</td><td>13.45</td><td>2008-03-10 00:00:00.000</td><td>1</td></tr><tr><td>53</td><td>4</td><td>Production Technician - WC10</td><td>F</td><td>2008-03-28</td><td>0</td><td>87</td><td>63</td><td>13.45</td><td>2008-03-28 00:00:00.000</td><td>1</td></tr><tr><td>54</td><td>4</td><td>Production Technician - WC10</td><td>F</td><td>2010-01-01</td><td>0</td><td>89</td><td>64</td><td>13.45</td><td>2010-01-01 00:00:00.000</td><td>1</td></tr><tr><td>55</td><td>3</td><td>Production Supervisor - WC50</td><td>M</td><td>2008-02-08</td><td>0</td><td>79</td><td>59</td><td>25.00</td><td>2008-02-08 00:00:00.000</td><td>2</td></tr><tr><td>56</td><td>4</td><td>Production Technician - WC50</td><td>F</td><td>2009-02-05</td><td>0</td><td>9</td><td>24</td><td>11.00</td><td>2009-02-05 00:00:00.000</td><td>1</td></tr><tr><td>57</td><td>4</td><td>Production Technician - WC50</td><td>M</td><td>2009-02-23</td><td>0</td><td>10</td><td>25</td><td>11.00</td><td>2009-02-23 00:00:00.000</td><td>1</td></tr><tr><td>58</td><td>4</td><td>Production Technician - WC50</td><td>M</td><td>2008-12-05</td><td>0</td><td>11</td><td>25</td><td>11.00</td><td>2008-12-05 00:00:00.000</td><td>1</td></tr><tr><td>59</td><td>4</td><td>Production Technician - WC50</td><td>M</td><td>2008-12-24</td><td>0</td><td>12</td><td>26</td><td>11.00</td><td>2008-12-24 00:00:00.000</td><td>1</td></tr><tr><td>60</td><td>4</td><td>Production Technician - WC50</td><td>M</td><td>2009-01-11</td><td>0</td><td>13</td><td>26</td><td>11.00</td><td>2009-01-11 00:00:00.000</td><td>1</td></tr><tr><td>61</td><td>4</td><td>Production Technician - WC50</td><td>F</td><td>2009-01-18</td><td>0</td><td>8</td><td>24</td><td>11.00</td><td>2009-01-18 00:00:00.000</td><td>1</td></tr><tr><td>62</td><td>3</td><td>Production Supervisor - WC60</td><td>M</td><td>2008-03-17</td><td>0</td><td>81</td><td>60</td><td>25.00</td><td>2008-03-17 00:00:00.000</td><td>2</td></tr><tr><td>63</td><td>4</td><td>Production Technician - WC60</td><td>M</td><td>2010-01-29</td><td>0</td><td>30</td><td>35</td><td>12.45</td><td>2010-01-29 00:00:00.000</td><td>1</td></tr><tr><td>64</td><td>4</td><td>Production Technician - WC60</td><td>M</td><td>2010-02-23</td><td>0</td><td>26</td><td>33</td><td>12.45</td><td>2010-02-23 00:00:00.000</td><td>1</td></tr><tr><td>65</td><td>4</td><td>Production Technician - WC60</td><td>M</td><td>2010-02-23</td><td>0</td><td>29</td><td>34</td><td>12.45</td><td>2010-02-23 00:00:00.000</td><td>1</td></tr><tr><td>66</td><td>4</td><td>Production Technician - WC60</td><td>M</td><td>2009-12-22</td><td>0</td><td>28</td><td>34</td><td>12.45</td><td>2009-12-22 00:00:00.000</td><td>1</td></tr><tr><td>67</td><td>4</td><td>Production Technician - WC60</td><td>M</td><td>2009-03-05</td><td>0</td><td>32</td><td>36</td><td>12.45</td><td>2009-03-05 00:00:00.000</td><td>1</td></tr><tr><td>68</td><td>4</td><td>Production Technician - WC60</td><td>M</td><td>2009-12-03</td><td>0</td><td>27</td><td>33</td><td>12.45</td><td>2009-12-03 00:00:00.000</td><td>1</td></tr><tr><td>69</td><td>4</td><td>Production Technician - WC60</td><td>M</td><td>2009-02-15</td><td>0</td><td>31</td><td>35</td><td>12.45</td><td>2009-02-15 00:00:00.000</td><td>1</td></tr><tr><td>70</td><td>4</td><td>Production Technician - WC60</td><td>M</td><td>2008-12-15</td><td>0</td><td>33</td><td>36</td><td>12.45</td><td>2008-12-15 00:00:00.000</td><td>1</td></tr><tr><td>71</td><td>3</td><td>Production Supervisor - WC30</td><td>M</td><td>2009-02-15</td><td>0</td><td>70</td><td>55</td><td>25.00</td><td>2009-02-15 00:00:00.000</td><td>2</td></tr><tr><td>72</td><td>4</td><td>Production Technician - WC30</td><td>M</td><td>2008-12-01</td><td>0</td><td>41</td><td>40</td><td>9.50</td><td>2008-12-01 00:00:00.000</td><td>1</td></tr><tr><td>73</td><td>4</td><td>Production Technician - WC30</td><td>F</td><td>2008-12-19</td><td>0</td><td>42</td><td>41</td><td>9.50</td><td>2008-12-19 00:00:00.000</td><td>1</td></tr><tr><td>74</td><td>4</td><td>Production Technician - WC30</td><td>M</td><td>2009-01-07</td><td>0</td><td>43</td><td>41</td><td>9.50</td><td>2009-01-07 00:00:00.000</td><td>1</td></tr><tr><td>75</td><td>4</td><td>Production Technician - WC30</td><td>M</td><td>2009-01-26</td><td>0</td><td>44</td><td>42</td><td>9.50</td><td>2009-01-26 00:00:00.000</td><td>1</td></tr><tr><td>76</td><td>4</td><td>Production Technician - WC30</td><td>F</td><td>2009-02-12</td><td>0</td><td>45</td><td>42</td><td>9.50</td><td>2009-02-12 00:00:00.000</td><td>1</td></tr><tr><td>77</td><td>4</td><td>Production Technician - WC30</td><td>F</td><td>2009-03-03</td><td>0</td><td>46</td><td>43</td><td>9.50</td><td>2009-03-03 00:00:00.000</td><td>1</td></tr><tr><td>78</td><td>3</td><td>Production Supervisor - WC40</td><td>M</td><td>2008-12-15</td><td>0</td><td>72</td><td>56</td><td>25.00</td><td>2008-12-15 00:00:00.000</td><td>2</td></tr><tr><td>79</td><td>4</td><td>Production Technician - WC40</td><td>M</td><td>2010-01-24</td><td>0</td><td>60</td><td>50</td><td>15.00</td><td>2010-01-24 00:00:00.000</td><td>1</td></tr><tr><td>80</td><td>4</td><td>Production Technician - WC40</td><td>M</td><td>2010-01-17</td><td>0</td><td>65</td><td>52</td><td>15.00</td><td>2010-01-17 00:00:00.000</td><td>1</td></tr><tr><td>81</td><td>4</td><td>Production Technician - WC40</td><td>M</td><td>2009-12-29</td><td>0</td><td>64</td><td>52</td><td>15.00</td><td>2009-12-29 00:00:00.000</td><td>1</td></tr><tr><td>82</td><td>4</td><td>Production Technician - WC40</td><td>M</td><td>2010-03-03</td><td>0</td><td>62</td><td>51</td><td>15.00</td><td>2010-03-03 00:00:00.000</td><td>1</td></tr><tr><td>83</td><td>4</td><td>Production Technician - WC40</td><td>M</td><td>2010-02-12</td><td>0</td><td>61</td><td>50</td><td>15.00</td><td>2010-02-12 00:00:00.000</td><td>1</td></tr><tr><td>84</td><td>4</td><td>Production Technician - WC40</td><td>M</td><td>2010-02-05</td><td>0</td><td>66</td><td>53</td><td>15.00</td><td>2010-02-05 00:00:00.000</td><td>1</td></tr><tr><td>85</td><td>4</td><td>Production Technician - WC40</td><td>M</td><td>2009-12-11</td><td>0</td><td>63</td><td>51</td><td>15.00</td><td>2009-12-11 00:00:00.000</td><td>1</td></tr><tr><td>86</td><td>4</td><td>Production Technician - WC40</td><td>M</td><td>2009-01-05</td><td>0</td><td>59</td><td>49</td><td>15.00</td><td>2009-01-05 00:00:00.000</td><td>1</td></tr><tr><td>87</td><td>3</td><td>Production Supervisor - WC10</td><td>M</td><td>2008-12-22</td><td>0</td><td>67</td><td>53</td><td>25.00</td><td>2008-12-22 00:00:00.000</td><td>2</td></tr><tr><td>88</td><td>4</td><td>Production Technician - WC10</td><td>F</td><td>2009-12-18</td><td>0</td><td>99</td><td>69</td><td>13.45</td><td>2009-12-18 00:00:00.000</td><td>1</td></tr><tr><td>89</td><td>4</td><td>Production Technician - WC10</td><td>M</td><td>2010-02-01</td><td>0</td><td>96</td><td>68</td><td>13.45</td><td>2010-02-01 00:00:00.000</td><td>1</td></tr><tr><td>90</td><td>4</td><td>Production Technician - WC10</td><td>F</td><td>2010-02-20</td><td>0</td><td>97</td><td>68</td><td>13.45</td><td>2010-02-20 00:00:00.000</td><td>1</td></tr><tr><td>91</td><td>4</td><td>Production Technician - WC10</td><td>F</td><td>2010-01-12</td><td>0</td><td>95</td><td>67</td><td>13.45</td><td>2010-01-12 00:00:00.000</td><td>1</td></tr><tr><td>92</td><td>4</td><td>Production Technician - WC10</td><td>M</td><td>2010-03-10</td><td>0</td><td>98</td><td>69</td><td>13.45</td><td>2010-03-10 00:00:00.000</td><td>1</td></tr><tr><td>93</td><td>3</td><td>Production Supervisor - WC50</td><td>M</td><td>2008-12-27</td><td>0</td><td>78</td><td>59</td><td>25.00</td><td>2008-12-27 00:00:00.000</td><td>2</td></tr><tr><td>94</td><td>4</td><td>Production Technician - WC50</td><td>M</td><td>2008-12-12</td><td>0</td><td>6</td><td>23</td><td>11.00</td><td>2008-12-12 00:00:00.000</td><td>1</td></tr><tr><td>95</td><td>4</td><td>Production Technician - WC50</td><td>M</td><td>2008-12-19</td><td>0</td><td>1</td><td>20</td><td>11.00</td><td>2008-12-19 00:00:00.000</td><td>1</td></tr><tr><td>96</td><td>4</td><td>Production Technician - WC50</td><td>F</td><td>2009-03-02</td><td>0</td><td>5</td><td>22</td><td>11.00</td><td>2009-03-02 00:00:00.000</td><td>1</td></tr><tr><td>97</td><td>4</td><td>Production Technician - WC50</td><td>M</td><td>2009-02-10</td><td>0</td><td>0</td><td>20</td><td>11.00</td><td>2009-02-10 00:00:00.000</td><td>1</td></tr><tr><td>98</td><td>4</td><td>Production Technician - WC50</td><td>M</td><td>2009-02-11</td><td>0</td><td>4</td><td>22</td><td>11.00</td><td>2009-02-11 00:00:00.000</td><td>1</td></tr><tr><td>99</td><td>4</td><td>Production Technician - WC50</td><td>M</td><td>2009-01-06</td><td>0</td><td>2</td><td>21</td><td>11.00</td><td>2009-01-06 00:00:00.000</td><td>1</td></tr><tr><td>100</td><td>4</td><td>Production Technician - WC50</td><td>M</td><td>2009-01-12</td><td>0</td><td>7</td><td>23</td><td>11.00</td><td>2009-01-12 00:00:00.000</td><td>1</td></tr><tr><td>101</td><td>4</td><td>Production Technician - WC50</td><td>M</td><td>2009-01-25</td><td>0</td><td>3</td><td>21</td><td>11.00</td><td>2009-01-25 00:00:00.000</td><td>1</td></tr><tr><td>102</td><td>3</td><td>Production Supervisor - WC10</td><td>M</td><td>2008-12-03</td><td>0</td><td>66</td><td>53</td><td>25.00</td><td>2008-12-03 00:00:00.000</td><td>2</td></tr><tr><td>103</td><td>4</td><td>Production Technician - WC10</td><td>M</td><td>2009-12-06</td><td>0</td><td>93</td><td>66</td><td>13.45</td><td>2009-12-06 00:00:00.000</td><td>1</td></tr><tr><td>104</td><td>4</td><td>Production Technician - WC10</td><td>F</td><td>2009-12-25</td><td>0</td><td>94</td><td>67</td><td>13.45</td><td>2009-12-25 00:00:00.000</td><td>1</td></tr><tr><td>105</td><td>4</td><td>Production Technician - WC10</td><td>M</td><td>2009-12-25</td><td>0</td><td>90</td><td>65</td><td>13.45</td><td>2009-12-25 00:00:00.000</td><td>1</td></tr><tr><td>106</td><td>4</td><td>Production Technician - WC10</td><td>M</td><td>2010-02-27</td><td>0</td><td>92</td><td>66</td><td>13.45</td><td>2010-02-27 00:00:00.000</td><td>1</td></tr><tr><td>107</td><td>4</td><td>Production Technician - WC10</td><td>M</td><td>2010-02-08</td><td>0</td><td>91</td><td>65</td><td>13.45</td><td>2010-02-08 00:00:00.000</td><td>1</td></tr><tr><td>108</td><td>3</td><td>Production Supervisor - WC50</td><td>M</td><td>2008-12-08</td><td>0</td><td>77</td><td>58</td><td>25.00</td><td>2008-12-08 00:00:00.000</td><td>2</td></tr><tr><td>109</td><td>4</td><td>Production Technician - WC50</td><td>F</td><td>2008-12-07</td><td>0</td><td>95</td><td>67</td><td>11.00</td><td>2008-12-07 00:00:00.000</td><td>1</td></tr><tr><td>110</td><td>4</td><td>Production Technician - WC50</td><td>M</td><td>2008-12-14</td><td>0</td><td>90</td><td>65</td><td>11.00</td><td>2008-12-14 00:00:00.000</td><td>1</td></tr><tr><td>111</td><td>4</td><td>Production Technician - WC50</td><td>M</td><td>2008-12-17</td><td>0</td><td>93</td><td>66</td><td>11.00</td><td>2008-12-17 00:00:00.000</td><td>1</td></tr><tr><td>112</td><td>4</td><td>Production Technician - WC50</td><td>M</td><td>2009-01-01</td><td>0</td><td>91</td><td>65</td><td>11.00</td><td>2009-01-01 00:00:00.000</td><td>1</td></tr><tr><td>113</td><td>4</td><td>Production Technician - WC50</td><td>F</td><td>2008-12-25</td><td>0</td><td>96</td><td>68</td><td>11.00</td><td>2008-12-25 00:00:00.000</td><td>1</td></tr><tr><td>114</td><td>4</td><td>Production Technician - WC50</td><td>M</td><td>2009-01-13</td><td>0</td><td>97</td><td>68</td><td>11.00</td><td>2009-01-13 00:00:00.000</td><td>1</td></tr><tr><td>115</td><td>4</td><td>Production Technician - WC50</td><td>F</td><td>2009-01-20</td><td>0</td><td>92</td><td>66</td><td>11.00</td><td>2009-01-20 00:00:00.000</td><td>1</td></tr><tr><td>116</td><td>4</td><td>Production Technician - WC50</td><td>M</td><td>2009-01-31</td><td>0</td><td>98</td><td>69</td><td>11.00</td><td>2009-01-31 00:00:00.000</td><td>1</td></tr><tr><td>117</td><td>4</td><td>Production Technician - WC50</td><td>M</td><td>2009-02-18</td><td>0</td><td>99</td><td>69</td><td>11.00</td><td>2009-02-18 00:00:00.000</td><td>1</td></tr><tr><td>118</td><td>4</td><td>Production Technician - WC50</td><td>M</td><td>2009-02-13</td><td>0</td><td>88</td><td>64</td><td>11.00</td><td>2009-02-13 00:00:00.000</td><td>1</td></tr><tr><td>119</td><td>4</td><td>Production Technician - WC50</td><td>M</td><td>2009-02-25</td><td>0</td><td>94</td><td>67</td><td>11.00</td><td>2009-02-25 00:00:00.000</td><td>1</td></tr><tr><td>120</td><td>4</td><td>Production Technician - WC50</td><td>F</td><td>2009-03-04</td><td>0</td><td>89</td><td>64</td><td>11.00</td><td>2009-03-04 00:00:00.000</td><td>1</td></tr><tr><td>121</td><td>3</td><td>Shipping and Receiving Supervisor</td><td>M</td><td>2009-01-02</td><td>1</td><td>93</td><td>66</td><td>19.2308</td><td>2009-01-02 00:00:00.000</td><td>2</td></tr><tr><td>122</td><td>4</td><td>Stocker</td><td>F</td><td>2008-12-07</td><td>0</td><td>97</td><td>68</td><td>9.00</td><td>2008-12-07 00:00:00.000</td><td>1</td></tr><tr><td>123</td><td>4</td><td>Shipping and Receiving Clerk</td><td>M</td><td>2008-12-07</td><td>0</td><td>95</td><td>67</td><td>9.50</td><td>2008-12-07 00:00:00.000</td><td>2</td></tr><tr><td>124</td><td>4</td><td>Stocker</td><td>F</td><td>2008-12-26</td><td>0</td><td>98</td><td>69</td><td>9.00</td><td>2008-12-26 00:00:00.000</td><td>1</td></tr><tr><td>125</td><td>4</td><td>Shipping and Receiving Clerk</td><td>M</td><td>2009-01-20</td><td>0</td><td>94</td><td>67</td><td>9.50</td><td>2009-01-20 00:00:00.000</td><td>2</td></tr><tr><td>126</td><td>4</td><td>Stocker</td><td>M</td><td>2009-02-26</td><td>0</td><td>96</td><td>68</td><td>9.00</td><td>2009-02-26 00:00:00.000</td><td>1</td></tr><tr><td>127</td><td>3</td><td>Production Supervisor - WC40</td><td>M</td><td>2009-01-03</td><td>0</td><td>73</td><td>56</td><td>25.00</td><td>2009-01-03 00:00:00.000</td><td>2</td></tr><tr><td>128</td><td>4</td><td>Production Technician - WC40</td><td>M</td><td>2008-12-04</td><td>0</td><td>68</td><td>54</td><td>15.00</td><td>2008-12-04 00:00:00.000</td><td>1</td></tr><tr><td>129</td><td>4</td><td>Production Technician - WC40</td><td>M</td><td>2008-12-22</td><td>0</td><td>69</td><td>54</td><td>15.00</td><td>2008-12-22 00:00:00.000</td><td>1</td></tr><tr><td>130</td><td>4</td><td>Production Technician - WC40</td><td>M</td><td>2009-02-13</td><td>0</td><td>71</td><td>55</td><td>15.00</td><td>2009-02-13 00:00:00.000</td><td>1</td></tr><tr><td>131</td><td>4</td><td>Production Technician - WC40</td><td>M</td><td>2009-02-15</td><td>0</td><td>72</td><td>56</td><td>15.00</td><td>2009-02-15 00:00:00.000</td><td>1</td></tr><tr><td>132</td><td>4</td><td>Production Technician - WC40</td><td>F</td><td>2009-02-22</td><td>0</td><td>67</td><td>53</td><td>15.00</td><td>2009-02-22 00:00:00.000</td><td>1</td></tr><tr><td>133</td><td>4</td><td>Production Technician - WC40</td><td>M</td><td>2009-01-10</td><td>0</td><td>70</td><td>55</td><td>15.00</td><td>2009-01-10 00:00:00.000</td><td>1</td></tr><tr><td>134</td><td>3</td><td>Production Supervisor - WC20</td><td>M</td><td>2009-01-14</td><td>0</td><td>40</td><td>40</td><td>25.00</td><td>2009-01-14 00:00:00.000</td><td>2</td></tr><tr><td>135</td><td>4</td><td>Production Technician - WC20</td><td>M</td><td>2008-12-04</td><td>0</td><td>9</td><td>24</td><td>14.00</td><td>2008-12-04 00:00:00.000</td><td>1</td></tr><tr><td>136</td><td>4</td><td>Production Technician - WC20</td><td>M</td><td>2009-12-11</td><td>0</td><td>4</td><td>22</td><td>14.00</td><td>2009-12-11 00:00:00.000</td><td>1</td></tr><tr><td>137</td><td>4</td><td>Production Technician - WC20</td><td>F</td><td>2009-02-23</td><td>0</td><td>8</td><td>24</td><td>14.00</td><td>2009-02-23 00:00:00.000</td><td>1</td></tr><tr><td>138</td><td>4</td><td>Production Technician - WC20</td><td>F</td><td>2009-02-04</td><td>0</td><td>7</td><td>23</td><td>14.00</td><td>2009-02-04 00:00:00.000</td><td>1</td></tr><tr><td>139</td><td>4</td><td>Production Technician - WC20</td><td>M</td><td>2010-01-06</td><td>0</td><td>0</td><td>20</td><td>14.00</td><td>2010-01-06 00:00:00.000</td><td>1</td></tr><tr><td>140</td><td>4</td><td>Production Technician - WC20</td><td>M</td><td>2010-01-22</td><td>0</td><td>5</td><td>22</td><td>14.00</td><td>2010-01-22 00:00:00.000</td><td>1</td></tr><tr><td>141</td><td>4</td><td>Production Technician - WC20</td><td>M</td><td>2010-01-24</td><td>0</td><td>1</td><td>20</td><td>14.00</td><td>2010-01-24 00:00:00.000</td><td>1</td></tr><tr><td>142</td><td>4</td><td>Production Technician - WC20</td><td>F</td><td>2010-03-04</td><td>0</td><td>3</td><td>21</td><td>14.00</td><td>2010-03-04 00:00:00.000</td><td>1</td></tr><tr><td>143</td><td>4</td><td>Production Technician - WC20</td><td>M</td><td>2010-02-13</td><td>0</td><td>2</td><td>21</td><td>14.00</td><td>2010-02-13 00:00:00.000</td><td>1</td></tr><tr><td>144</td><td>4</td><td>Production Technician - WC20</td><td>M</td><td>2009-01-17</td><td>0</td><td>6</td><td>23</td><td>14.00</td><td>2009-01-17 00:00:00.000</td><td>1</td></tr><tr><td>145</td><td>3</td><td>Production Supervisor - WC30</td><td>F</td><td>2009-01-27</td><td>0</td><td>69</td><td>54</td><td>25.00</td><td>2009-01-27 00:00:00.000</td><td>2</td></tr><tr><td>146</td><td>4</td><td>Production Technician - WC30</td><td>M</td><td>2008-12-07</td><td>0</td><td>36</td><td>38</td><td>9.50</td><td>2008-12-07 00:00:00.000</td><td>1</td></tr><tr><td>147</td><td>4</td><td>Production Technician - WC30</td><td>F</td><td>2008-12-26</td><td>0</td><td>37</td><td>38</td><td>9.50</td><td>2008-12-26 00:00:00.000</td><td>1</td></tr><tr><td>148</td><td>4</td><td>Production Technician - WC30</td><td>M</td><td>2009-01-14</td><td>0</td><td>38</td><td>39</td><td>9.50</td><td>2009-01-14 00:00:00.000</td><td>1</td></tr><tr><td>149</td><td>4</td><td>Production Technician - WC30</td><td>M</td><td>2009-01-31</td><td>0</td><td>39</td><td>39</td><td>9.50</td><td>2009-01-31 00:00:00.000</td><td>1</td></tr><tr><td>150</td><td>4</td><td>Production Technician - WC30</td><td>M</td><td>2009-02-26</td><td>0</td><td>35</td><td>37</td><td>9.50</td><td>2009-02-26 00:00:00.000</td><td>1</td></tr><tr><td>151</td><td>4</td><td>Production Technician - WC30</td><td>M</td><td>2009-02-19</td><td>0</td><td>40</td><td>40</td><td>9.50</td><td>2009-02-19 00:00:00.000</td><td>1</td></tr><tr><td>152</td><td>3</td><td>Production Supervisor - WC20</td><td>M</td><td>2009-02-01</td><td>0</td><td>41</td><td>40</td><td>25.00</td><td>2009-02-01 00:00:00.000</td><td>2</td></tr><tr><td>153</td><td>4</td><td>Production Technician - WC20</td><td>M</td><td>2008-12-16</td><td>0</td><td>15</td><td>27</td><td>14.00</td><td>2008-12-16 00:00:00.000</td><td>1</td></tr><tr><td>154</td><td>4</td><td>Production Technician - WC20</td><td>M</td><td>2008-12-23</td><td>0</td><td>10</td><td>25</td><td>14.00</td><td>2008-12-23 00:00:00.000</td><td>1</td></tr><tr><td>155</td><td>4</td><td>Production Technician - WC20</td><td>M</td><td>2009-01-04</td><td>0</td><td>16</td><td>28</td><td>14.00</td><td>2009-01-04 00:00:00.000</td><td>1</td></tr><tr><td>156</td><td>4</td><td>Production Technician - WC20</td><td>M</td><td>2009-01-11</td><td>0</td><td>11</td><td>25</td><td>14.00</td><td>2009-01-11 00:00:00.000</td><td>1</td></tr><tr><td>157</td><td>4</td><td>Production Technician - WC20</td><td>F</td><td>2009-02-03</td><td>0</td><td>12</td><td>26</td><td>14.00</td><td>2009-02-03 00:00:00.000</td><td>1</td></tr><tr><td>158</td><td>4</td><td>Production Technician - WC20</td><td>F</td><td>2009-03-07</td><td>0</td><td>14</td><td>27</td><td>14.00</td><td>2009-03-07 00:00:00.000</td><td>1</td></tr><tr><td>159</td><td>4</td><td>Production Technician - WC20</td><td>M</td><td>2009-02-16</td><td>0</td><td>13</td><td>26</td><td>14.00</td><td>2009-02-16 00:00:00.000</td><td>1</td></tr><tr><td>160</td><td>3</td><td>Production Supervisor - WC45</td><td>M</td><td>2009-01-21</td><td>0</td><td>74</td><td>57</td><td>25.00</td><td>2009-01-21 00:00:00.000</td><td>2</td></tr><tr><td>161</td><td>4</td><td>Production Technician - WC45</td><td>M</td><td>2008-12-15</td><td>0</td><td>74</td><td>57</td><td>10.00</td><td>2008-12-15 00:00:00.000</td><td>1</td></tr><tr><td>162</td><td>4</td><td>Production Technician - WC45</td><td>F</td><td>2009-01-03</td><td>0</td><td>75</td><td>57</td><td>10.00</td><td>2009-01-03 00:00:00.000</td><td>1</td></tr><tr><td>163</td><td>4</td><td>Production Technician - WC45</td><td>M</td><td>2009-02-08</td><td>0</td><td>77</td><td>58</td><td>10.00</td><td>2009-02-08 00:00:00.000</td><td>1</td></tr><tr><td>164</td><td>4</td><td>Production Technician - WC45</td><td>M</td><td>2009-03-06</td><td>0</td><td>73</td><td>56</td><td>10.00</td><td>2009-03-06 00:00:00.000</td><td>1</td></tr><tr><td>165</td><td>4</td><td>Production Technician - WC45</td><td>M</td><td>2009-01-22</td><td>0</td><td>76</td><td>58</td><td>10.00</td><td>2009-01-22 00:00:00.000</td><td>1</td></tr><tr><td>166</td><td>3</td><td>Production Supervisor - WC30</td><td>M</td><td>2009-02-21</td><td>0</td><td>68</td><td>54</td><td>25.00</td><td>2009-02-21 00:00:00.000</td><td>2</td></tr><tr><td>167</td><td>4</td><td>Production Technician - WC30</td><td>M</td><td>2008-12-02</td><td>0</td><td>25</td><td>32</td><td>9.50</td><td>2013-07-14 00:00:00.000</td><td>1</td></tr><tr><td>168</td><td>4</td><td>Production Technician - WC30</td><td>M</td><td>2008-12-07</td><td>0</td><td>34</td><td>37</td><td>9.50</td><td>2008-12-07 00:00:00.000</td><td>1</td></tr><tr><td>169</td><td>4</td><td>Production Technician - WC30</td><td>F</td><td>2008-12-14</td><td>0</td><td>31</td><td>35</td><td>9.50</td><td>2008-12-14 00:00:00.000</td><td>1</td></tr><tr><td>170</td><td>4</td><td>Production Technician - WC30</td><td>M</td><td>2008-12-21</td><td>0</td><td>26</td><td>33</td><td>9.50</td><td>2013-07-14 00:00:00.000</td><td>1</td></tr><tr><td>171</td><td>4</td><td>Production Technician - WC30</td><td>M</td><td>2009-01-02</td><td>0</td><td>32</td><td>36</td><td>9.50</td><td>2009-01-02 00:00:00.000</td><td>1</td></tr><tr><td>172</td><td>4</td><td>Production Technician - WC30</td><td>M</td><td>2009-01-16</td><td>0</td><td>22</td><td>31</td><td>9.50</td><td>2013-07-14 00:00:00.000</td><td>1</td></tr><tr><td>173</td><td>4</td><td>Production Technician - WC30</td><td>M</td><td>2009-01-21</td><td>0</td><td>33</td><td>36</td><td>9.50</td><td>2009-01-21 00:00:00.000</td><td>1</td></tr><tr><td>174</td><td>4</td><td>Production Technician - WC30</td><td>M</td><td>2009-01-27</td><td>0</td><td>28</td><td>34</td><td>9.50</td><td>2013-07-14 00:00:00.000</td><td>1</td></tr><tr><td>175</td><td>4</td><td>Production Technician - WC30</td><td>M</td><td>2009-02-02</td><td>0</td><td>23</td><td>31</td><td>9.50</td><td>2013-07-14 00:00:00.000</td><td>1</td></tr><tr><td>176</td><td>4</td><td>Production Technician - WC30</td><td>M</td><td>2009-02-14</td><td>0</td><td>29</td><td>34</td><td>9.50</td><td>2013-07-14 00:00:00.000</td><td>1</td></tr><tr><td>177</td><td>4</td><td>Production Technician - WC30</td><td>M</td><td>2009-02-21</td><td>0</td><td>24</td><td>32</td><td>9.50</td><td>2013-07-14 00:00:00.000</td><td>1</td></tr><tr><td>178</td><td>4</td><td>Production Technician - WC30</td><td>M</td><td>2009-03-03</td><td>0</td><td>27</td><td>33</td><td>9.50</td><td>2013-07-14 00:00:00.000</td><td>1</td></tr><tr><td>179</td><td>4</td><td>Production Technician - WC30</td><td>M</td><td>2009-03-05</td><td>0</td><td>30</td><td>35</td><td>9.50</td><td>2009-03-05 00:00:00.000</td><td>1</td></tr><tr><td>180</td><td>3</td><td>Production Supervisor - WC20</td><td>F</td><td>2009-02-20</td><td>0</td><td>42</td><td>41</td><td>25.00</td><td>2009-02-20 00:00:00.000</td><td>2</td></tr><tr><td>181</td><td>4</td><td>Production Technician - WC20</td><td>M</td><td>2008-12-09</td><td>0</td><td>20</td><td>30</td><td>14.00</td><td>2008-12-09 00:00:00.000</td><td>1</td></tr><tr><td>182</td><td>4</td><td>Production Technician - WC20</td><td>M</td><td>2008-12-28</td><td>0</td><td>21</td><td>30</td><td>14.00</td><td>2008-12-28 00:00:00.000</td><td>1</td></tr><tr><td>183</td><td>4</td><td>Production Technician - WC20</td><td>F</td><td>2009-01-22</td><td>0</td><td>17</td><td>28</td><td>14.00</td><td>2009-01-22 00:00:00.000</td><td>1</td></tr><tr><td>184</td><td>4</td><td>Production Technician - WC20</td><td>M</td><td>2009-02-09</td><td>0</td><td>18</td><td>29</td><td>14.00</td><td>2009-02-09 00:00:00.000</td><td>1</td></tr><tr><td>185</td><td>4</td><td>Production Technician - WC20</td><td>M</td><td>2009-02-28</td><td>0</td><td>19</td><td>29</td><td>14.00</td><td>2009-02-28 00:00:00.000</td><td>1</td></tr><tr><td>186</td><td>3</td><td>Production Supervisor - WC45</td><td>M</td><td>2009-02-08</td><td>0</td><td>75</td><td>57</td><td>25.00</td><td>2009-02-08 00:00:00.000</td><td>2</td></tr><tr><td>187</td><td>4</td><td>Production Technician - WC45</td><td>F</td><td>2008-12-09</td><td>0</td><td>79</td><td>59</td><td>10.00</td><td>2008-12-09 00:00:00.000</td><td>1</td></tr><tr><td>188</td><td>4</td><td>Production Technician - WC45</td><td>M</td><td>2008-12-27</td><td>0</td><td>80</td><td>60</td><td>10.00</td><td>2008-12-27 00:00:00.000</td><td>1</td></tr><tr><td>189</td><td>4</td><td>Production Technician - WC45</td><td>F</td><td>2009-01-15</td><td>0</td><td>81</td><td>60</td><td>10.00</td><td>2009-01-15 00:00:00.000</td><td>1</td></tr><tr><td>190</td><td>4</td><td>Production Technician - WC45</td><td>M</td><td>2009-02-02</td><td>0</td><td>82</td><td>61</td><td>10.00</td><td>2009-02-02 00:00:00.000</td><td>1</td></tr><tr><td>191</td><td>4</td><td>Production Technician - WC45</td><td>M</td><td>2009-02-26</td><td>0</td><td>78</td><td>59</td><td>10.00</td><td>2009-02-26 00:00:00.000</td><td>1</td></tr><tr><td>192</td><td>3</td><td>Production Supervisor - WC40</td><td>F</td><td>2009-03-05</td><td>0</td><td>71</td><td>55</td><td>25.00</td><td>2009-03-05 00:00:00.000</td><td>2</td></tr><tr><td>193</td><td>4</td><td>Production Technician - WC40</td><td>M</td><td>2008-12-06</td><td>0</td><td>52</td><td>46</td><td>15.00</td><td>2008-12-06 00:00:00.000</td><td>1</td></tr><tr><td>194</td><td>4</td><td>Production Technician - WC40</td><td>M</td><td>2008-12-12</td><td>0</td><td>47</td><td>43</td><td>15.00</td><td>2008-12-12 00:00:00.000</td><td>1</td></tr><tr><td>195</td><td>4</td><td>Production Technician - WC40</td><td>M</td><td>2008-12-17</td><td>0</td><td>58</td><td>49</td><td>15.00</td><td>2008-12-17 00:00:00.000</td><td>1</td></tr><tr><td>196</td><td>4</td><td>Production Technician - WC40</td><td>M</td><td>2008-12-24</td><td>0</td><td>53</td><td>46</td><td>15.00</td><td>2008-12-24 00:00:00.000</td><td>1</td></tr><tr><td>197</td><td>4</td><td>Production Technician - WC40</td><td>M</td><td>2008-12-31</td><td>0</td><td>48</td><td>44</td><td>15.00</td><td>2008-12-31 00:00:00.000</td><td>1</td></tr><tr><td>198</td><td>4</td><td>Production Technician - WC40</td><td>F</td><td>2009-01-04</td><td>0</td><td>49</td><td>44</td><td>15.00</td><td>2009-01-04 00:00:00.000</td><td>1</td></tr><tr><td>199</td><td>4</td><td>Production Technician - WC40</td><td>F</td><td>2009-01-12</td><td>0</td><td>54</td><td>47</td><td>15.00</td><td>2009-01-12 00:00:00.000</td><td>1</td></tr><tr><td>200</td><td>4</td><td>Production Technician - WC40</td><td>M</td><td>2009-01-17</td><td>0</td><td>56</td><td>48</td><td>15.00</td><td>2009-01-17 00:00:00.000</td><td>1</td></tr><tr><td>201</td><td>4</td><td>Production Technician - WC40</td><td>M</td><td>2009-01-29</td><td>0</td><td>55</td><td>47</td><td>15.00</td><td>2009-01-29 00:00:00.000</td><td>1</td></tr><tr><td>202</td><td>4</td><td>Production Technician - WC40</td><td>M</td><td>2009-02-05</td><td>0</td><td>50</td><td>45</td><td>15.00</td><td>2009-02-05 00:00:00.000</td><td>1</td></tr><tr><td>203</td><td>4</td><td>Production Technician - WC40</td><td>M</td><td>2009-02-24</td><td>0</td><td>51</td><td>45</td><td>15.00</td><td>2009-02-24 00:00:00.000</td><td>1</td></tr><tr><td>204</td><td>4</td><td>Production Technician - WC40</td><td>M</td><td>2009-03-08</td><td>0</td><td>57</td><td>48</td><td>15.00</td><td>2009-03-08 00:00:00.000</td><td>1</td></tr><tr><td>205</td><td>3</td><td>Production Supervisor - WC45</td><td>F</td><td>2009-02-26</td><td>0</td><td>76</td><td>58</td><td>25.00</td><td>2009-02-26 00:00:00.000</td><td>2</td></tr><tr><td>206</td><td>4</td><td>Production Technician - WC45</td><td>M</td><td>2008-12-02</td><td>0</td><td>84</td><td>62</td><td>10.00</td><td>2008-12-02 00:00:00.000</td><td>1</td></tr><tr><td>207</td><td>4</td><td>Production Technician - WC45</td><td>M</td><td>2008-12-02</td><td>0</td><td>85</td><td>62</td><td>10.00</td><td>2008-12-02 00:00:00.000</td><td>1</td></tr><tr><td>208</td><td>4</td><td>Production Technician - WC45</td><td>M</td><td>2009-01-08</td><td>0</td><td>86</td><td>63</td><td>10.00</td><td>2009-01-08 00:00:00.000</td><td>1</td></tr><tr><td>209</td><td>4</td><td>Production Technician - WC45</td><td>F</td><td>2009-01-27</td><td>0</td><td>87</td><td>63</td><td>10.00</td><td>2009-01-27 00:00:00.000</td><td>1</td></tr><tr><td>210</td><td>4</td><td>Production Technician - WC45</td><td>F</td><td>2009-02-20</td><td>0</td><td>83</td><td>61</td><td>10.00</td><td>2009-02-20 00:00:00.000</td><td>1</td></tr><tr><td>211</td><td>2</td><td>Quality Assurance Manager</td><td>M</td><td>2009-02-28</td><td>1</td><td>80</td><td>60</td><td>28.8462</td><td>2009-02-28 00:00:00.000</td><td>2</td></tr><tr><td>212</td><td>3</td><td>Quality Assurance Supervisor</td><td>M</td><td>2008-12-09</td><td>1</td><td>81</td><td>60</td><td>21.6346</td><td>2008-12-09 00:00:00.000</td><td>2</td></tr><tr><td>213</td><td>4</td><td>Quality Assurance Technician</td><td>M</td><td>2010-02-23</td><td>0</td><td>85</td><td>62</td><td>10.5769</td><td>2010-02-23 00:00:00.000</td><td>2</td></tr><tr><td>214</td><td>4</td><td>Quality Assurance Technician</td><td>M</td><td>2009-02-02</td><td>0</td><td>84</td><td>62</td><td>10.5769</td><td>2009-02-02 00:00:00.000</td><td>2</td></tr><tr><td>215</td><td>4</td><td>Quality Assurance Technician</td><td>M</td><td>2009-01-15</td><td>0</td><td>83</td><td>61</td><td>10.5769</td><td>2009-01-15 00:00:00.000</td><td>2</td></tr><tr><td>216</td><td>4</td><td>Quality Assurance Technician</td><td>M</td><td>2008-12-28</td><td>0</td><td>82</td><td>61</td><td>10.5769</td><td>2008-12-28 00:00:00.000</td><td>2</td></tr><tr><td>217</td><td>3</td><td>Document Control Manager</td><td>M</td><td>2009-01-04</td><td>0</td><td>77</td><td>58</td><td>17.7885</td><td>2009-01-04 00:00:00.000</td><td>2</td></tr><tr><td>218</td><td>4</td><td>Control Specialist</td><td>M</td><td>2008-12-16</td><td>0</td><td>76</td><td>58</td><td>16.8269</td><td>2008-12-16 00:00:00.000</td><td>2</td></tr><tr><td>219</td><td>4</td><td>Document Control Assistant</td><td>M</td><td>2009-01-22</td><td>0</td><td>78</td><td>59</td><td>10.25</td><td>2009-01-22 00:00:00.000</td><td>2</td></tr><tr><td>220</td><td>4</td><td>Document Control Assistant</td><td>F</td><td>2009-02-09</td><td>0</td><td>79</td><td>59</td><td>10.25</td><td>2009-02-09 00:00:00.000</td><td>2</td></tr><tr><td>221</td><td>4</td><td>Control Specialist</td><td>M</td><td>2009-03-06</td><td>0</td><td>75</td><td>57</td><td>16.8269</td><td>2009-03-06 00:00:00.000</td><td>2</td></tr><tr><td>222</td><td>2</td><td>Master Scheduler</td><td>M</td><td>2008-12-12</td><td>0</td><td>44</td><td>42</td><td>23.5577</td><td>2008-12-12 00:00:00.000</td><td>2</td></tr><tr><td>223</td><td>3</td><td>Scheduling Assistant</td><td>M</td><td>2009-01-26</td><td>0</td><td>46</td><td>43</td><td>16.00</td><td>2009-01-26 00:00:00.000</td><td>2</td></tr><tr><td>224</td><td>3</td><td>Scheduling Assistant</td><td>M</td><td>2009-01-07</td><td>0</td><td>45</td><td>42</td><td>16.00</td><td>2012-01-01 00:00:00.000</td><td>2</td></tr><tr><td>225</td><td>3</td><td>Scheduling Assistant</td><td>M</td><td>2009-02-13</td><td>0</td><td>47</td><td>43</td><td>16.00</td><td>2009-02-13 00:00:00.000</td><td>2</td></tr><tr><td>226</td><td>3</td><td>Scheduling Assistant</td><td>M</td><td>2009-03-03</td><td>0</td><td>48</td><td>44</td><td>16.00</td><td>2009-03-03 00:00:00.000</td><td>2</td></tr><tr><td>227</td><td>2</td><td>Facilities Manager</td><td>M</td><td>2009-12-02</td><td>1</td><td>86</td><td>63</td><td>24.0385</td><td>2009-12-02 00:00:00.000</td><td>2</td></tr><tr><td>228</td><td>3</td><td>Maintenance Supervisor</td><td>M</td><td>2008-12-14</td><td>1</td><td>92</td><td>66</td><td>20.4327</td><td>2008-12-14 00:00:00.000</td><td>2</td></tr><tr><td>229</td><td>4</td><td>Janitor</td><td>F</td><td>2010-02-16</td><td>0</td><td>90</td><td>65</td><td>9.25</td><td>2010-02-16 00:00:00.000</td><td>1</td></tr><tr><td>230</td><td>4</td><td>Janitor</td><td>M</td><td>2010-03-05</td><td>0</td><td>88</td><td>64</td><td>9.25</td><td>2010-03-05 00:00:00.000</td><td>1</td></tr><tr><td>231</td><td>4</td><td>Janitor</td><td>F</td><td>2010-03-07</td><td>0</td><td>91</td><td>65</td><td>9.25</td><td>2010-03-07 00:00:00.000</td><td>1</td></tr><tr><td>232</td><td>4</td><td>Janitor</td><td>M</td><td>2010-01-27</td><td>0</td><td>89</td><td>64</td><td>9.25</td><td>2010-01-27 00:00:00.000</td><td>1</td></tr><tr><td>233</td><td>3</td><td>Facilities Administrative Assistant</td><td>M</td><td>2009-12-21</td><td>0</td><td>87</td><td>63</td><td>9.75</td><td>2009-12-21 00:00:00.000</td><td>2</td></tr><tr><td>234</td><td>1</td><td>Chief Financial Officer</td><td>F</td><td>2009-01-31</td><td>1</td><td>0</td><td>20</td><td>60.0962</td><td>2012-01-29 00:00:00.000</td><td>2</td></tr><tr><td>235</td><td>2</td><td>Human Resources Manager</td><td>F</td><td>2008-12-06</td><td>1</td><td>54</td><td>47</td><td>27.1394</td><td>2008-12-06 00:00:00.000</td><td>2</td></tr><tr><td>236</td><td>3</td><td>Human Resources Administrative Assistant</td><td>M</td><td>2009-02-25</td><td>0</td><td>53</td><td>46</td><td>13.9423</td><td>2009-02-25 00:00:00.000</td><td>2</td></tr><tr><td>237</td><td>3</td><td>Human Resources Administrative Assistant</td><td>M</td><td>2009-02-06</td><td>0</td><td>52</td><td>46</td><td>13.9423</td><td>2009-02-06 00:00:00.000</td><td>2</td></tr><tr><td>238</td><td>3</td><td>Recruiter</td><td>M</td><td>2009-01-01</td><td>0</td><td>50</td><td>45</td><td>18.2692</td><td>2009-01-01 00:00:00.000</td><td>2</td></tr><tr><td>239</td><td>3</td><td>Benefits Specialist</td><td>F</td><td>2008-12-25</td><td>0</td><td>51</td><td>45</td><td>16.5865</td><td>2008-12-25 00:00:00.000</td><td>2</td></tr><tr><td>240</td><td>3</td><td>Recruiter</td><td>M</td><td>2008-12-13</td><td>0</td><td>49</td><td>44</td><td>18.2692</td><td>2008-12-13 00:00:00.000</td><td>2</td></tr><tr><td>241</td><td>2</td><td>Accounts Manager</td><td>M</td><td>2009-01-30</td><td>1</td><td>57</td><td>48</td><td>34.7356</td><td>2009-01-30 00:00:00.000</td><td>2</td></tr><tr><td>242</td><td>3</td><td>Accounts Receivable Specialist</td><td>F</td><td>2008-12-18</td><td>0</td><td>60</td><td>50</td><td>19.00</td><td>2008-12-18 00:00:00.000</td><td>2</td></tr><tr><td>243</td><td>3</td><td>Accounts Receivable Specialist</td><td>F</td><td>2009-01-06</td><td>0</td><td>61</td><td>50</td><td>19.00</td><td>2009-01-06 00:00:00.000</td><td>2</td></tr><tr><td>244</td><td>3</td><td>Accounts Receivable Specialist</td><td>M</td><td>2009-01-24</td><td>0</td><td>62</td><td>51</td><td>19.00</td><td>2009-01-24 00:00:00.000</td><td>2</td></tr><tr><td>245</td><td>3</td><td>Accountant</td><td>F</td><td>2009-02-18</td><td>1</td><td>58</td><td>49</td><td>26.4423</td><td>2009-02-18 00:00:00.000</td><td>2</td></tr><tr><td>246</td><td>3</td><td>Accounts Payable Specialist</td><td>M</td><td>2009-02-11</td><td>0</td><td>63</td><td>51</td><td>19.00</td><td>2009-02-11 00:00:00.000</td><td>2</td></tr><tr><td>247</td><td>3</td><td>Accounts Payable Specialist</td><td>F</td><td>2009-03-01</td><td>0</td><td>64</td><td>52</td><td>19.00</td><td>2009-03-01 00:00:00.000</td><td>2</td></tr><tr><td>248</td><td>3</td><td>Accountant</td><td>M</td><td>2009-03-08</td><td>1</td><td>59</td><td>49</td><td>26.4423</td><td>2009-03-08 00:00:00.000</td><td>2</td></tr><tr><td>249</td><td>2</td><td>Finance Manager</td><td>F</td><td>2008-12-25</td><td>1</td><td>55</td><td>47</td><td>43.2692</td><td>2008-12-25 00:00:00.000</td><td>2</td></tr><tr><td>250</td><td>3</td><td>Purchasing Manager</td><td>F</td><td>2011-02-25</td><td>1</td><td>49</td><td>44</td><td>30.00</td><td>2012-07-14 00:00:00.000</td><td>2</td></tr><tr><td>251</td><td>4</td><td>Buyer</td><td>M</td><td>2009-02-10</td><td>0</td><td>59</td><td>49</td><td>18.2692</td><td>2009-02-10 00:00:00.000</td><td>2</td></tr><tr><td>252</td><td>4</td><td>Buyer</td><td>M</td><td>2009-02-28</td><td>0</td><td>60</td><td>50</td><td>18.2692</td><td>2009-02-28 00:00:00.000</td><td>2</td></tr><tr><td>253</td><td>4</td><td>Buyer</td><td>F</td><td>2009-12-17</td><td>0</td><td>56</td><td>48</td><td>18.2692</td><td>2009-12-17 00:00:00.000</td><td>2</td></tr><tr><td>254</td><td>4</td><td>Buyer</td><td>M</td><td>2010-01-04</td><td>0</td><td>57</td><td>48</td><td>18.2692</td><td>2010-01-04 00:00:00.000</td><td>2</td></tr><tr><td>255</td><td>4</td><td>Buyer</td><td>M</td><td>2010-01-11</td><td>0</td><td>52</td><td>46</td><td>18.2692</td><td>2010-01-11 00:00:00.000</td><td>2</td></tr><tr><td>256</td><td>4</td><td>Buyer</td><td>M</td><td>2010-01-23</td><td>0</td><td>58</td><td>49</td><td>18.2692</td><td>2010-01-23 00:00:00.000</td><td>2</td></tr><tr><td>257</td><td>4</td><td>Buyer</td><td>M</td><td>2010-01-27</td><td>0</td><td>54</td><td>47</td><td>18.2692</td><td>2010-01-27 00:00:00.000</td><td>2</td></tr><tr><td>258</td><td>4</td><td>Buyer</td><td>F</td><td>2010-01-31</td><td>0</td><td>53</td><td>46</td><td>18.2692</td><td>2010-01-31 00:00:00.000</td><td>2</td></tr><tr><td>259</td><td>4</td><td>Buyer</td><td>M</td><td>2010-03-09</td><td>0</td><td>55</td><td>47</td><td>18.2692</td><td>2010-03-09 00:00:00.000</td><td>2</td></tr><tr><td>260</td><td>4</td><td>Purchasing Assistant</td><td>F</td><td>2010-12-06</td><td>0</td><td>50</td><td>45</td><td>12.75</td><td>2010-12-06 00:00:00.000</td><td>2</td></tr><tr><td>261</td><td>4</td><td>Purchasing Assistant</td><td>M</td><td>2010-12-25</td><td>0</td><td>51</td><td>45</td><td>12.75</td><td>2010-12-25 00:00:00.000</td><td>2</td></tr><tr><td>262</td><td>2</td><td>Assistant to the Chief Financial Officer</td><td>M</td><td>2009-01-12</td><td>0</td><td>56</td><td>48</td><td>13.4615</td><td>2009-01-12 00:00:00.000</td><td>2</td></tr><tr><td>263</td><td>1</td><td>Information Services Manager</td><td>F</td><td>2008-12-11</td><td>1</td><td>65</td><td>52</td><td>50.4808</td><td>2008-12-11 00:00:00.000</td><td>2</td></tr><tr><td>264</td><td>2</td><td>Network Manager</td><td>F</td><td>2009-02-04</td><td>1</td><td>68</td><td>54</td><td>39.6635</td><td>2009-02-04 00:00:00.000</td><td>2</td></tr><tr><td>265</td><td>3</td><td>Network Administrator</td><td>M</td><td>2008-12-04</td><td>0</td><td>70</td><td>55</td><td>32.4519</td><td>2008-12-04 00:00:00.000</td><td>2</td></tr><tr><td>266</td><td>3</td><td>Network Administrator</td><td>M</td><td>2009-02-23</td><td>0</td><td>69</td><td>54</td><td>32.4519</td><td>2009-02-23 00:00:00.000</td><td>2</td></tr><tr><td>267</td><td>2</td><td>Application Specialist</td><td>F</td><td>2009-02-16</td><td>1</td><td>74</td><td>57</td><td>27.4038</td><td>2009-02-16 00:00:00.000</td><td>2</td></tr><tr><td>268</td><td>2</td><td>Application Specialist</td><td>M</td><td>2009-02-03</td><td>1</td><td>73</td><td>56</td><td>27.4038</td><td>2009-02-03 00:00:00.000</td><td>2</td></tr><tr><td>269</td><td>2</td><td>Application Specialist</td><td>M</td><td>2009-01-11</td><td>1</td><td>72</td><td>56</td><td>27.4038</td><td>2009-01-11 00:00:00.000</td><td>2</td></tr><tr><td>270</td><td>2</td><td>Database Administrator</td><td>M</td><td>2009-01-17</td><td>1</td><td>67</td><td>53</td><td>38.4615</td><td>2009-01-17 00:00:00.000</td><td>2</td></tr><tr><td>271</td><td>2</td><td>Database Administrator</td><td>M</td><td>2009-01-22</td><td>1</td><td>66</td><td>53</td><td>38.4615</td><td>2009-01-22 00:00:00.000</td><td>2</td></tr><tr><td>272</td><td>2</td><td>Application Specialist</td><td>F</td><td>2008-12-23</td><td>1</td><td>71</td><td>55</td><td>27.4038</td><td>2008-12-23 00:00:00.000</td><td>2</td></tr><tr><td>273</td><td>1</td><td>Vice President of Sales</td><td>M</td><td>2011-02-15</td><td>1</td><td>10</td><td>25</td><td>72.1154</td><td>2011-02-15 00:00:00.000</td><td>2</td></tr><tr><td>274</td><td>2</td><td>North American Sales Manager</td><td>M</td><td>2011-01-04</td><td>1</td><td>14</td><td>27</td><td>48.101</td><td>2011-01-04 00:00:00.000</td><td>2</td></tr><tr><td>275</td><td>3</td><td>Sales Representative</td><td>M</td><td>2011-05-31</td><td>1</td><td>38</td><td>39</td><td>23.0769</td><td>2011-05-31 00:00:00.000</td><td>2</td></tr><tr><td>276</td><td>3</td><td>Sales Representative</td><td>F</td><td>2011-05-31</td><td>1</td><td>27</td><td>33</td><td>23.0769</td><td>2011-05-31 00:00:00.000</td><td>2</td></tr><tr><td>277</td><td>3</td><td>Sales Representative</td><td>F</td><td>2011-05-31</td><td>1</td><td>24</td><td>32</td><td>23.0769</td><td>2011-05-31 00:00:00.000</td><td>2</td></tr><tr><td>278</td><td>3</td><td>Sales Representative</td><td>M</td><td>2011-05-31</td><td>1</td><td>33</td><td>36</td><td>23.0769</td><td>2011-05-31 00:00:00.000</td><td>2</td></tr><tr><td>279</td><td>3</td><td>Sales Representative</td><td>M</td><td>2011-05-31</td><td>1</td><td>29</td><td>34</td><td>23.0769</td><td>2011-05-31 00:00:00.000</td><td>2</td></tr><tr><td>280</td><td>3</td><td>Sales Representative</td><td>F</td><td>2011-05-31</td><td>1</td><td>22</td><td>31</td><td>23.0769</td><td>2011-05-31 00:00:00.000</td><td>2</td></tr><tr><td>281</td><td>3</td><td>Sales Representative</td><td>M</td><td>2011-05-31</td><td>1</td><td>26</td><td>33</td><td>23.0769</td><td>2011-05-31 00:00:00.000</td><td>2</td></tr><tr><td>282</td><td>3</td><td>Sales Representative</td><td>M</td><td>2011-05-31</td><td>1</td><td>31</td><td>35</td><td>23.0769</td><td>2011-05-31 00:00:00.000</td><td>2</td></tr><tr><td>283</td><td>3</td><td>Sales Representative</td><td>M</td><td>2011-05-31</td><td>1</td><td>23</td><td>31</td><td>23.0769</td><td>2011-05-31 00:00:00.000</td><td>2</td></tr><tr><td>284</td><td>3</td><td>Sales Representative</td><td>M</td><td>2012-09-30</td><td>1</td><td>39</td><td>39</td><td>23.0769</td><td>2012-09-30 00:00:00.000</td><td>2</td></tr><tr><td>285</td><td>2</td><td>Pacific Sales Manager</td><td>M</td><td>2013-03-14</td><td>1</td><td>20</td><td>30</td><td>48.101</td><td>2013-03-14 00:00:00.000</td><td>2</td></tr><tr><td>286</td><td>3</td><td>Sales Representative</td><td>F</td><td>2013-05-30</td><td>1</td><td>36</td><td>38</td><td>23.0769</td><td>2013-05-30 00:00:00.000</td><td>2</td></tr><tr><td>287</td><td>2</td><td>European Sales Manager</td><td>F</td><td>2012-04-16</td><td>1</td><td>21</td><td>30</td><td>48.101</td><td>2012-04-16 00:00:00.000</td><td>2</td></tr><tr><td>288</td><td>3</td><td>Sales Representative</td><td>F</td><td>2013-05-30</td><td>1</td><td>35</td><td>37</td><td>23.0769</td><td>2013-05-30 00:00:00.000</td><td>2</td></tr><tr><td>289</td><td>3</td><td>Sales Representative</td><td>F</td><td>2012-05-30</td><td>1</td><td>37</td><td>38</td><td>23.0769</td><td>2012-05-30 00:00:00.000</td><td>2</td></tr><tr><td>290</td><td>3</td><td>Sales Representative</td><td>M</td><td>2012-05-30</td><td>1</td><td>34</td><td>37</td><td>23.0769</td><td>2012-05-30 00:00:00.000</td><td>2</td></tr></table>"
          },
          "metadata": {}
        }
      ],
      "execution_count": null
    },
    {
      "cell_type": "markdown",
      "source": [
        "## Create a View\n",
        "\n",
        "For some data this useful, this probably won't be the last time you will query and use it. \n",
        "\n",
        "What we will do is to create a view so that next time you can pull it out of the server and use it...\n",
        "\n",
        "Here we go....\n"
      ],
      "metadata": {
        "language": "sql",
        "azdata_cell_guid": "ba96d7b7-07de-4767-bf58-3ddcbd21669d",
        "id": "mPs60wRXYNEQ"
      }
    },
    {
      "cell_type": "code",
      "source": [
        "CREATE VIEW HumanResources.vCurrentEmployeeCompensation AS\n",
        "/* everything this point down is all copy and paste */\n",
        "SELECT Employee.BusinessEntityID,\n",
        "Employee.OrganizationLevel,\n",
        "Employee.JobTitle,\n",
        "Employee.Gender, \n",
        "Employee.HireDate, \n",
        "Employee.SalariedFlag,\n",
        "Employee.VacationHours,\n",
        "Employee.SickLeaveHours,\n",
        "CurrentEmployeePay.Rate,\n",
        "CurrentEmployeePay.PayFrequency,\n",
        "CurrentEmployeePay.RateChangeDate\n",
        "FROM HumanResources.Employee \n",
        "LEFT JOIN\n",
        "    (SELECT EmployeePayHistory.BusinessEntityID,\n",
        "    EmployeePayHistory.RateChangeDate,\n",
        "    EmployeePayHistory.Rate,\n",
        "    EmployeePayHistory.PayFrequency,\n",
        "    EmployeePayHistory.ModifiedDate\n",
        "    FROM HumanResources.EmployeePayHistory\n",
        "    INNER JOIN \n",
        "        (   SELECT BusinessEntityID, MAX(RateChangeDate) as RecentRateChangeDate\n",
        "            FROM HumanResources.EmployeePayHistory \n",
        "            GROUP BY BusinessEntityID\n",
        "    ) CurrentPay ON EmployeePayHistory.BusinessEntityID = CurrentPay.BusinessEntityID AND EmployeePayHistory.RateChangeDate = CurrentPay.RecentRateChangeDate\n",
        "    ) AS CurrentEmployeePay ON Employee.BusinessEntityID = CurrentEmployeePay.BusinessEntityID\n",
        "WHERE Employee.CurrentFlag = 1"
      ],
      "metadata": {
        "language": "sql",
        "azdata_cell_guid": "542f558b-00de-4f49-a04c-0286609a037c",
        "id": "K2SiYKpIYNEQ",
        "outputId": "8f449f79-1373-4b8a-fa72-266250d0530c"
      },
      "outputs": [
        {
          "output_type": "display_data",
          "data": {
            "text/html": "Commands completed successfully."
          },
          "metadata": {}
        },
        {
          "output_type": "display_data",
          "data": {
            "text/html": "Total execution time: 00:00:00.020"
          },
          "metadata": {}
        }
      ],
      "execution_count": null
    },
    {
      "cell_type": "markdown",
      "source": [
        "# Congratulations!!!\n",
        "\n",
        "Look at what you have achieved!!!\n",
        "\n",
        "You just created such an important table that contains key information such as job title, gender, position, pay rate, frequency to conduct further compensation analysis.\n",
        "\n",
        "If you are conducting some workforce planning or compensation budget planning for the next fiscal year, this would be what you would need!\n",
        "\n",
        "All of these are just basic SQL clauses and steps stacked together and they will send you to a heavenly position for your financial analysis project or career!!!"
      ],
      "metadata": {
        "language": "sql",
        "azdata_cell_guid": "c7673db8-f5ea-4b43-9df4-253f5ef53601",
        "id": "zSVM7sp8YNEQ"
      }
    }
  ]
}